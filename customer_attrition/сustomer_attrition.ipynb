{
 "cells": [
  {
   "cell_type": "markdown",
   "metadata": {
    "toc": true
   },
   "source": [
    "<h1>Содержание<span class=\"tocSkip\"></span></h1>\n",
    "<div class=\"toc\"><ul class=\"toc-item\"><li><span><a href=\"#Подготовка-данных\" data-toc-modified-id=\"Подготовка-данных-1\"><span class=\"toc-item-num\">1&nbsp;&nbsp;</span>Подготовка данных</a></span><ul class=\"toc-item\"><li><span><a href=\"#Получим-и-посмотрм-данные\" data-toc-modified-id=\"Получим-и-посмотрм-данные-1.1\"><span class=\"toc-item-num\">1.1&nbsp;&nbsp;</span>Получим и посмотрм данные</a></span></li><li><span><a href=\"#Подготовка-данных-для-машинного-обучения.\" data-toc-modified-id=\"Подготовка-данных-для-машинного-обучения.-1.2\"><span class=\"toc-item-num\">1.2&nbsp;&nbsp;</span>Подготовка данных для машинного обучения.</a></span></li><li><span><a href=\"#Формирование-выборок\" data-toc-modified-id=\"Формирование-выборок-1.3\"><span class=\"toc-item-num\">1.3&nbsp;&nbsp;</span>Формирование выборок</a></span></li><li><span><a href=\"#Масштабирование\" data-toc-modified-id=\"Масштабирование-1.4\"><span class=\"toc-item-num\">1.4&nbsp;&nbsp;</span>Масштабирование</a></span></li></ul></li><li><span><a href=\"#Исследование-задачи\" data-toc-modified-id=\"Исследование-задачи-2\"><span class=\"toc-item-num\">2&nbsp;&nbsp;</span>Исследование задачи</a></span><ul class=\"toc-item\"><li><span><a href=\"#Проверка-баланса-классов-выборки\" data-toc-modified-id=\"Проверка-баланса-классов-выборки-2.1\"><span class=\"toc-item-num\">2.1&nbsp;&nbsp;</span>Проверка баланса классов выборки</a></span></li><li><span><a href=\"#Дерево-решений\" data-toc-modified-id=\"Дерево-решений-2.2\"><span class=\"toc-item-num\">2.2&nbsp;&nbsp;</span>Дерево решений</a></span></li><li><span><a href=\"#Случайный-лес\" data-toc-modified-id=\"Случайный-лес-2.3\"><span class=\"toc-item-num\">2.3&nbsp;&nbsp;</span>Случайный лес</a></span></li><li><span><a href=\"#Логистическая-регрессия\" data-toc-modified-id=\"Логистическая-регрессия-2.4\"><span class=\"toc-item-num\">2.4&nbsp;&nbsp;</span>Логистическая регрессия</a></span></li></ul></li><li><span><a href=\"#Борьба-с-дисбалансом\" data-toc-modified-id=\"Борьба-с-дисбалансом-3\"><span class=\"toc-item-num\">3&nbsp;&nbsp;</span>Борьба с дисбалансом</a></span><ul class=\"toc-item\"><li><span><a href=\"#Уменьшение-выборки\" data-toc-modified-id=\"Уменьшение-выборки-3.1\"><span class=\"toc-item-num\">3.1&nbsp;&nbsp;</span>Уменьшение выборки</a></span><ul class=\"toc-item\"><li><span><a href=\"#Качество-предсказаний\" data-toc-modified-id=\"Качество-предсказаний-3.1.1\"><span class=\"toc-item-num\">3.1.1&nbsp;&nbsp;</span>Качество предсказаний</a></span><ul class=\"toc-item\"><li><span><a href=\"#Логистическая-регрессия\" data-toc-modified-id=\"Логистическая-регрессия-3.1.1.1\"><span class=\"toc-item-num\">3.1.1.1&nbsp;&nbsp;</span>Логистическая регрессия</a></span></li><li><span><a href=\"#Случайный-лес\" data-toc-modified-id=\"Случайный-лес-3.1.1.2\"><span class=\"toc-item-num\">3.1.1.2&nbsp;&nbsp;</span>Случайный лес</a></span></li><li><span><a href=\"#Дерево-решений\" data-toc-modified-id=\"Дерево-решений-3.1.1.3\"><span class=\"toc-item-num\">3.1.1.3&nbsp;&nbsp;</span>Дерево решений</a></span></li></ul></li></ul></li><li><span><a href=\"#Увеличение-выборки\" data-toc-modified-id=\"Увеличение-выборки-3.2\"><span class=\"toc-item-num\">3.2&nbsp;&nbsp;</span>Увеличение выборки</a></span><ul class=\"toc-item\"><li><span><a href=\"#Качество-предсказаний\" data-toc-modified-id=\"Качество-предсказаний-3.2.1\"><span class=\"toc-item-num\">3.2.1&nbsp;&nbsp;</span>Качество предсказаний</a></span><ul class=\"toc-item\"><li><span><a href=\"#Логистическая-регрессия\" data-toc-modified-id=\"Логистическая-регрессия-3.2.1.1\"><span class=\"toc-item-num\">3.2.1.1&nbsp;&nbsp;</span>Логистическая регрессия</a></span></li><li><span><a href=\"#Случайный-лес\" data-toc-modified-id=\"Случайный-лес-3.2.1.2\"><span class=\"toc-item-num\">3.2.1.2&nbsp;&nbsp;</span>Случайный лес</a></span></li><li><span><a href=\"#Дерево-решений\" data-toc-modified-id=\"Дерево-решений-3.2.1.3\"><span class=\"toc-item-num\">3.2.1.3&nbsp;&nbsp;</span>Дерево решений</a></span></li></ul></li></ul></li><li><span><a href=\"#Улучшение-модели\" data-toc-modified-id=\"Улучшение-модели-3.3\"><span class=\"toc-item-num\">3.3&nbsp;&nbsp;</span>Улучшение модели</a></span></li><li><span><a href=\"#Обучение-финальной-модели\" data-toc-modified-id=\"Обучение-финальной-модели-3.4\"><span class=\"toc-item-num\">3.4&nbsp;&nbsp;</span>Обучение финальной модели</a></span></li><li><span><a href=\"#Выводы\" data-toc-modified-id=\"Выводы-3.5\"><span class=\"toc-item-num\">3.5&nbsp;&nbsp;</span>Выводы</a></span></li></ul></li><li><span><a href=\"#Тестирование-модели\" data-toc-modified-id=\"Тестирование-модели-4\"><span class=\"toc-item-num\">4&nbsp;&nbsp;</span>Тестирование модели</a></span></li><li><span><a href=\"#Чек-лист-готовности-проекта\" data-toc-modified-id=\"Чек-лист-готовности-проекта-5\"><span class=\"toc-item-num\">5&nbsp;&nbsp;</span>Чек-лист готовности проекта</a></span></li></ul></div>"
   ]
  },
  {
   "cell_type": "markdown",
   "metadata": {},
   "source": [
    "# Отток клиентов"
   ]
  },
  {
   "cell_type": "markdown",
   "metadata": {},
   "source": [
    "Из банка стали уходить клиенты. Банковские маркетологи посчитали: сохранять текущих клиентов дешевле, чем привлекать новых.\n",
    "\n",
    "Нужно спрогнозировать, уйдёт клиент из банка в ближайшее время или нет. Вам предоставлены исторические данные о поведении клиентов и расторжении договоров с банком. \n",
    "\n",
    "Постройте модель с предельно большим значением *F1*-меры. Чтобы сдать проект успешно, нужно довести метрику до 0.59. Проверьте *F1*-меру на тестовой выборке самостоятельно.\n",
    "\n",
    "Дополнительно измеряйте *AUC-ROC*, сравнивайте её значение с *F1*-мерой."
   ]
  },
  {
   "cell_type": "markdown",
   "metadata": {},
   "source": [
    "## Подготовка данных"
   ]
  },
  {
   "cell_type": "code",
   "execution_count": 1,
   "metadata": {},
   "outputs": [],
   "source": [
    "import pandas as pd\n",
    "import matplotlib.pyplot as plt\n",
    "import numpy as np\n",
    "from sklearn.model_selection import train_test_split\n",
    "from sklearn.preprocessing import StandardScaler\n",
    "from sklearn.utils import shuffle\n",
    "\n",
    "from warnings import simplefilter\n",
    "simplefilter(action='ignore', category=FutureWarning)\n",
    "\n",
    "from itertools import product\n",
    "import tqdm\n",
    "\n",
    "# Модели\n",
    "#Дерево решений\n",
    "from sklearn.tree import DecisionTreeClassifier\n",
    "\n",
    "#Случайный лес \n",
    "from sklearn.ensemble import RandomForestClassifier\n",
    "\n",
    "#Логистическая регрессия\n",
    "from sklearn.linear_model import LogisticRegression\n",
    "\n",
    "\n",
    "#Импортируем необходимые метрики\n",
    "#метрика accuracy\n",
    "from sklearn.metrics import accuracy_score\n",
    "\n",
    "#матрица ошибок\n",
    "from sklearn.metrics import confusion_matrix\n",
    "\n",
    "#полнота\n",
    "from sklearn.metrics import recall_score\n",
    "\n",
    "#точность\n",
    "from sklearn.metrics import precision_score\n",
    "\n",
    "#F-1 мера\n",
    "from sklearn.metrics import f1_score\n",
    "\n",
    "#AUC-ROC\n",
    "from sklearn.metrics import roc_auc_score\n",
    "\n",
    "#ROC-кривая\n",
    "from sklearn.metrics import roc_curve"
   ]
  },
  {
   "cell_type": "markdown",
   "metadata": {},
   "source": [
    "### Получим и посмотрм данные"
   ]
  },
  {
   "cell_type": "code",
   "execution_count": 2,
   "metadata": {},
   "outputs": [],
   "source": [
    "churn = pd.read_csv(\"/datasets/Churn.csv\")"
   ]
  },
  {
   "cell_type": "code",
   "execution_count": 3,
   "metadata": {},
   "outputs": [
    {
     "data": {
      "text/html": [
       "<div>\n",
       "<style scoped>\n",
       "    .dataframe tbody tr th:only-of-type {\n",
       "        vertical-align: middle;\n",
       "    }\n",
       "\n",
       "    .dataframe tbody tr th {\n",
       "        vertical-align: top;\n",
       "    }\n",
       "\n",
       "    .dataframe thead th {\n",
       "        text-align: right;\n",
       "    }\n",
       "</style>\n",
       "<table border=\"1\" class=\"dataframe\">\n",
       "  <thead>\n",
       "    <tr style=\"text-align: right;\">\n",
       "      <th></th>\n",
       "      <th>RowNumber</th>\n",
       "      <th>CustomerId</th>\n",
       "      <th>CreditScore</th>\n",
       "      <th>Age</th>\n",
       "      <th>Tenure</th>\n",
       "      <th>Balance</th>\n",
       "      <th>NumOfProducts</th>\n",
       "      <th>HasCrCard</th>\n",
       "      <th>IsActiveMember</th>\n",
       "      <th>EstimatedSalary</th>\n",
       "      <th>Exited</th>\n",
       "    </tr>\n",
       "  </thead>\n",
       "  <tbody>\n",
       "    <tr>\n",
       "      <td>count</td>\n",
       "      <td>10000.00000</td>\n",
       "      <td>1.000000e+04</td>\n",
       "      <td>10000.000000</td>\n",
       "      <td>10000.000000</td>\n",
       "      <td>9091.000000</td>\n",
       "      <td>10000.000000</td>\n",
       "      <td>10000.000000</td>\n",
       "      <td>10000.00000</td>\n",
       "      <td>10000.000000</td>\n",
       "      <td>10000.000000</td>\n",
       "      <td>10000.000000</td>\n",
       "    </tr>\n",
       "    <tr>\n",
       "      <td>mean</td>\n",
       "      <td>5000.50000</td>\n",
       "      <td>1.569094e+07</td>\n",
       "      <td>650.528800</td>\n",
       "      <td>38.921800</td>\n",
       "      <td>4.997690</td>\n",
       "      <td>76485.889288</td>\n",
       "      <td>1.530200</td>\n",
       "      <td>0.70550</td>\n",
       "      <td>0.515100</td>\n",
       "      <td>100090.239881</td>\n",
       "      <td>0.203700</td>\n",
       "    </tr>\n",
       "    <tr>\n",
       "      <td>std</td>\n",
       "      <td>2886.89568</td>\n",
       "      <td>7.193619e+04</td>\n",
       "      <td>96.653299</td>\n",
       "      <td>10.487806</td>\n",
       "      <td>2.894723</td>\n",
       "      <td>62397.405202</td>\n",
       "      <td>0.581654</td>\n",
       "      <td>0.45584</td>\n",
       "      <td>0.499797</td>\n",
       "      <td>57510.492818</td>\n",
       "      <td>0.402769</td>\n",
       "    </tr>\n",
       "    <tr>\n",
       "      <td>min</td>\n",
       "      <td>1.00000</td>\n",
       "      <td>1.556570e+07</td>\n",
       "      <td>350.000000</td>\n",
       "      <td>18.000000</td>\n",
       "      <td>0.000000</td>\n",
       "      <td>0.000000</td>\n",
       "      <td>1.000000</td>\n",
       "      <td>0.00000</td>\n",
       "      <td>0.000000</td>\n",
       "      <td>11.580000</td>\n",
       "      <td>0.000000</td>\n",
       "    </tr>\n",
       "    <tr>\n",
       "      <td>25%</td>\n",
       "      <td>2500.75000</td>\n",
       "      <td>1.562853e+07</td>\n",
       "      <td>584.000000</td>\n",
       "      <td>32.000000</td>\n",
       "      <td>2.000000</td>\n",
       "      <td>0.000000</td>\n",
       "      <td>1.000000</td>\n",
       "      <td>0.00000</td>\n",
       "      <td>0.000000</td>\n",
       "      <td>51002.110000</td>\n",
       "      <td>0.000000</td>\n",
       "    </tr>\n",
       "    <tr>\n",
       "      <td>50%</td>\n",
       "      <td>5000.50000</td>\n",
       "      <td>1.569074e+07</td>\n",
       "      <td>652.000000</td>\n",
       "      <td>37.000000</td>\n",
       "      <td>5.000000</td>\n",
       "      <td>97198.540000</td>\n",
       "      <td>1.000000</td>\n",
       "      <td>1.00000</td>\n",
       "      <td>1.000000</td>\n",
       "      <td>100193.915000</td>\n",
       "      <td>0.000000</td>\n",
       "    </tr>\n",
       "    <tr>\n",
       "      <td>75%</td>\n",
       "      <td>7500.25000</td>\n",
       "      <td>1.575323e+07</td>\n",
       "      <td>718.000000</td>\n",
       "      <td>44.000000</td>\n",
       "      <td>7.000000</td>\n",
       "      <td>127644.240000</td>\n",
       "      <td>2.000000</td>\n",
       "      <td>1.00000</td>\n",
       "      <td>1.000000</td>\n",
       "      <td>149388.247500</td>\n",
       "      <td>0.000000</td>\n",
       "    </tr>\n",
       "    <tr>\n",
       "      <td>max</td>\n",
       "      <td>10000.00000</td>\n",
       "      <td>1.581569e+07</td>\n",
       "      <td>850.000000</td>\n",
       "      <td>92.000000</td>\n",
       "      <td>10.000000</td>\n",
       "      <td>250898.090000</td>\n",
       "      <td>4.000000</td>\n",
       "      <td>1.00000</td>\n",
       "      <td>1.000000</td>\n",
       "      <td>199992.480000</td>\n",
       "      <td>1.000000</td>\n",
       "    </tr>\n",
       "  </tbody>\n",
       "</table>\n",
       "</div>"
      ],
      "text/plain": [
       "         RowNumber    CustomerId   CreditScore           Age       Tenure  \\\n",
       "count  10000.00000  1.000000e+04  10000.000000  10000.000000  9091.000000   \n",
       "mean    5000.50000  1.569094e+07    650.528800     38.921800     4.997690   \n",
       "std     2886.89568  7.193619e+04     96.653299     10.487806     2.894723   \n",
       "min        1.00000  1.556570e+07    350.000000     18.000000     0.000000   \n",
       "25%     2500.75000  1.562853e+07    584.000000     32.000000     2.000000   \n",
       "50%     5000.50000  1.569074e+07    652.000000     37.000000     5.000000   \n",
       "75%     7500.25000  1.575323e+07    718.000000     44.000000     7.000000   \n",
       "max    10000.00000  1.581569e+07    850.000000     92.000000    10.000000   \n",
       "\n",
       "             Balance  NumOfProducts    HasCrCard  IsActiveMember  \\\n",
       "count   10000.000000   10000.000000  10000.00000    10000.000000   \n",
       "mean    76485.889288       1.530200      0.70550        0.515100   \n",
       "std     62397.405202       0.581654      0.45584        0.499797   \n",
       "min         0.000000       1.000000      0.00000        0.000000   \n",
       "25%         0.000000       1.000000      0.00000        0.000000   \n",
       "50%     97198.540000       1.000000      1.00000        1.000000   \n",
       "75%    127644.240000       2.000000      1.00000        1.000000   \n",
       "max    250898.090000       4.000000      1.00000        1.000000   \n",
       "\n",
       "       EstimatedSalary        Exited  \n",
       "count     10000.000000  10000.000000  \n",
       "mean     100090.239881      0.203700  \n",
       "std       57510.492818      0.402769  \n",
       "min          11.580000      0.000000  \n",
       "25%       51002.110000      0.000000  \n",
       "50%      100193.915000      0.000000  \n",
       "75%      149388.247500      0.000000  \n",
       "max      199992.480000      1.000000  "
      ]
     },
     "execution_count": 3,
     "metadata": {},
     "output_type": "execute_result"
    }
   ],
   "source": [
    "churn.describe()"
   ]
  },
  {
   "cell_type": "code",
   "execution_count": 4,
   "metadata": {},
   "outputs": [
    {
     "name": "stdout",
     "output_type": "stream",
     "text": [
      "<class 'pandas.core.frame.DataFrame'>\n",
      "RangeIndex: 10000 entries, 0 to 9999\n",
      "Data columns (total 14 columns):\n",
      "RowNumber          10000 non-null int64\n",
      "CustomerId         10000 non-null int64\n",
      "Surname            10000 non-null object\n",
      "CreditScore        10000 non-null int64\n",
      "Geography          10000 non-null object\n",
      "Gender             10000 non-null object\n",
      "Age                10000 non-null int64\n",
      "Tenure             9091 non-null float64\n",
      "Balance            10000 non-null float64\n",
      "NumOfProducts      10000 non-null int64\n",
      "HasCrCard          10000 non-null int64\n",
      "IsActiveMember     10000 non-null int64\n",
      "EstimatedSalary    10000 non-null float64\n",
      "Exited             10000 non-null int64\n",
      "dtypes: float64(3), int64(8), object(3)\n",
      "memory usage: 1.1+ MB\n"
     ]
    }
   ],
   "source": [
    "churn.info()"
   ]
  },
  {
   "cell_type": "markdown",
   "metadata": {},
   "source": [
    "### Подготовка данных для машинного обучения."
   ]
  },
  {
   "cell_type": "markdown",
   "metadata": {},
   "source": [
    "Дубликаты."
   ]
  },
  {
   "cell_type": "code",
   "execution_count": 5,
   "metadata": {},
   "outputs": [
    {
     "name": "stdout",
     "output_type": "stream",
     "text": [
      "Количесвто дубликатов: 0\n"
     ]
    }
   ],
   "source": [
    "print(\"Количесвто дубликатов:\", churn.duplicated().sum())"
   ]
  },
  {
   "cell_type": "markdown",
   "metadata": {},
   "source": [
    "Удалим ненужные столбцы:  \n",
    "***RowNumber*** — дублирует информацию стандартного датафрейма.  \n",
    "***CustomerId*** — является идентификатором пользователя, дубликатов нет, можно удалить.  \n",
    "***Surname*** —  идентифицирующая пользователя информация, содержит 2932 уникальных значений (данные kaggle). Задачу усложняет, ценности не несет, удаляем."
   ]
  },
  {
   "cell_type": "code",
   "execution_count": 6,
   "metadata": {},
   "outputs": [],
   "source": [
    "churn = churn.drop([\"RowNumber\", \"CustomerId\", \"Surname\"], axis = 1)"
   ]
  },
  {
   "cell_type": "markdown",
   "metadata": {},
   "source": [
    "Обрабтка пропущенных значений."
   ]
  },
  {
   "cell_type": "markdown",
   "metadata": {},
   "source": [
    "В данном случае есть несколько возможных вариантов решения проблемы с пропусками: медианные значения, минимальные значения (0) или удаление строк. Количество пропущенных значений около 9-10% - это не так много, заполним нулями."
   ]
  },
  {
   "cell_type": "code",
   "execution_count": 7,
   "metadata": {},
   "outputs": [],
   "source": [
    "churn['Tenure']=churn['Tenure'].fillna(-1)"
   ]
  },
  {
   "cell_type": "code",
   "execution_count": 8,
   "metadata": {},
   "outputs": [
    {
     "name": "stdout",
     "output_type": "stream",
     "text": [
      "<class 'pandas.core.frame.DataFrame'>\n",
      "RangeIndex: 10000 entries, 0 to 9999\n",
      "Data columns (total 11 columns):\n",
      "CreditScore        10000 non-null int64\n",
      "Geography          10000 non-null object\n",
      "Gender             10000 non-null object\n",
      "Age                10000 non-null int64\n",
      "Tenure             10000 non-null float64\n",
      "Balance            10000 non-null float64\n",
      "NumOfProducts      10000 non-null int64\n",
      "HasCrCard          10000 non-null int64\n",
      "IsActiveMember     10000 non-null int64\n",
      "EstimatedSalary    10000 non-null float64\n",
      "Exited             10000 non-null int64\n",
      "dtypes: float64(3), int64(6), object(2)\n",
      "memory usage: 859.5+ KB\n"
     ]
    }
   ],
   "source": [
    "churn.info()"
   ]
  },
  {
   "cell_type": "markdown",
   "metadata": {},
   "source": [
    "Данные подготовим методом OHE.  \n",
    "Это позволит нам использовать модели: дерево решений, случайный лес и логистическую регрессию."
   ]
  },
  {
   "cell_type": "code",
   "execution_count": 9,
   "metadata": {},
   "outputs": [
    {
     "data": {
      "text/html": [
       "<div>\n",
       "<style scoped>\n",
       "    .dataframe tbody tr th:only-of-type {\n",
       "        vertical-align: middle;\n",
       "    }\n",
       "\n",
       "    .dataframe tbody tr th {\n",
       "        vertical-align: top;\n",
       "    }\n",
       "\n",
       "    .dataframe thead th {\n",
       "        text-align: right;\n",
       "    }\n",
       "</style>\n",
       "<table border=\"1\" class=\"dataframe\">\n",
       "  <thead>\n",
       "    <tr style=\"text-align: right;\">\n",
       "      <th></th>\n",
       "      <th>CreditScore</th>\n",
       "      <th>Age</th>\n",
       "      <th>Tenure</th>\n",
       "      <th>Balance</th>\n",
       "      <th>NumOfProducts</th>\n",
       "      <th>HasCrCard</th>\n",
       "      <th>IsActiveMember</th>\n",
       "      <th>EstimatedSalary</th>\n",
       "      <th>Exited</th>\n",
       "      <th>Geography_Germany</th>\n",
       "      <th>Geography_Spain</th>\n",
       "      <th>Gender_Male</th>\n",
       "    </tr>\n",
       "  </thead>\n",
       "  <tbody>\n",
       "    <tr>\n",
       "      <td>0</td>\n",
       "      <td>619</td>\n",
       "      <td>42</td>\n",
       "      <td>2.0</td>\n",
       "      <td>0.00</td>\n",
       "      <td>1</td>\n",
       "      <td>1</td>\n",
       "      <td>1</td>\n",
       "      <td>101348.88</td>\n",
       "      <td>1</td>\n",
       "      <td>0</td>\n",
       "      <td>0</td>\n",
       "      <td>0</td>\n",
       "    </tr>\n",
       "    <tr>\n",
       "      <td>1</td>\n",
       "      <td>608</td>\n",
       "      <td>41</td>\n",
       "      <td>1.0</td>\n",
       "      <td>83807.86</td>\n",
       "      <td>1</td>\n",
       "      <td>0</td>\n",
       "      <td>1</td>\n",
       "      <td>112542.58</td>\n",
       "      <td>0</td>\n",
       "      <td>0</td>\n",
       "      <td>1</td>\n",
       "      <td>0</td>\n",
       "    </tr>\n",
       "    <tr>\n",
       "      <td>2</td>\n",
       "      <td>502</td>\n",
       "      <td>42</td>\n",
       "      <td>8.0</td>\n",
       "      <td>159660.80</td>\n",
       "      <td>3</td>\n",
       "      <td>1</td>\n",
       "      <td>0</td>\n",
       "      <td>113931.57</td>\n",
       "      <td>1</td>\n",
       "      <td>0</td>\n",
       "      <td>0</td>\n",
       "      <td>0</td>\n",
       "    </tr>\n",
       "    <tr>\n",
       "      <td>3</td>\n",
       "      <td>699</td>\n",
       "      <td>39</td>\n",
       "      <td>1.0</td>\n",
       "      <td>0.00</td>\n",
       "      <td>2</td>\n",
       "      <td>0</td>\n",
       "      <td>0</td>\n",
       "      <td>93826.63</td>\n",
       "      <td>0</td>\n",
       "      <td>0</td>\n",
       "      <td>0</td>\n",
       "      <td>0</td>\n",
       "    </tr>\n",
       "    <tr>\n",
       "      <td>4</td>\n",
       "      <td>850</td>\n",
       "      <td>43</td>\n",
       "      <td>2.0</td>\n",
       "      <td>125510.82</td>\n",
       "      <td>1</td>\n",
       "      <td>1</td>\n",
       "      <td>1</td>\n",
       "      <td>79084.10</td>\n",
       "      <td>0</td>\n",
       "      <td>0</td>\n",
       "      <td>1</td>\n",
       "      <td>0</td>\n",
       "    </tr>\n",
       "  </tbody>\n",
       "</table>\n",
       "</div>"
      ],
      "text/plain": [
       "   CreditScore  Age  Tenure    Balance  NumOfProducts  HasCrCard  \\\n",
       "0          619   42     2.0       0.00              1          1   \n",
       "1          608   41     1.0   83807.86              1          0   \n",
       "2          502   42     8.0  159660.80              3          1   \n",
       "3          699   39     1.0       0.00              2          0   \n",
       "4          850   43     2.0  125510.82              1          1   \n",
       "\n",
       "   IsActiveMember  EstimatedSalary  Exited  Geography_Germany  \\\n",
       "0               1        101348.88       1                  0   \n",
       "1               1        112542.58       0                  0   \n",
       "2               0        113931.57       1                  0   \n",
       "3               0         93826.63       0                  0   \n",
       "4               1         79084.10       0                  0   \n",
       "\n",
       "   Geography_Spain  Gender_Male  \n",
       "0                0            0  \n",
       "1                1            0  \n",
       "2                0            0  \n",
       "3                0            0  \n",
       "4                1            0  "
      ]
     },
     "execution_count": 9,
     "metadata": {},
     "output_type": "execute_result"
    }
   ],
   "source": [
    "churn = pd.get_dummies(churn, drop_first=True)\n",
    "churn.head()"
   ]
  },
  {
   "cell_type": "markdown",
   "metadata": {},
   "source": [
    "### Формирование выборок"
   ]
  },
  {
   "cell_type": "markdown",
   "metadata": {},
   "source": [
    "Необходимо разделить данные на 3 выборки: валидационная, тестовая и обучающая.  "
   ]
  },
  {
   "cell_type": "code",
   "execution_count": 10,
   "metadata": {},
   "outputs": [],
   "source": [
    "#признаки и целевой признак\n",
    "features = churn.drop('Exited', axis=1)\n",
    "target = churn['Exited']"
   ]
  },
  {
   "cell_type": "code",
   "execution_count": 11,
   "metadata": {},
   "outputs": [
    {
     "data": {
      "text/plain": [
       "0    1\n",
       "1    0\n",
       "2    1\n",
       "3    0\n",
       "4    0\n",
       "Name: Exited, dtype: int64"
      ]
     },
     "execution_count": 11,
     "metadata": {},
     "output_type": "execute_result"
    }
   ],
   "source": [
    "target.head()"
   ]
  },
  {
   "cell_type": "code",
   "execution_count": 12,
   "metadata": {},
   "outputs": [
    {
     "data": {
      "text/html": [
       "<div>\n",
       "<style scoped>\n",
       "    .dataframe tbody tr th:only-of-type {\n",
       "        vertical-align: middle;\n",
       "    }\n",
       "\n",
       "    .dataframe tbody tr th {\n",
       "        vertical-align: top;\n",
       "    }\n",
       "\n",
       "    .dataframe thead th {\n",
       "        text-align: right;\n",
       "    }\n",
       "</style>\n",
       "<table border=\"1\" class=\"dataframe\">\n",
       "  <thead>\n",
       "    <tr style=\"text-align: right;\">\n",
       "      <th></th>\n",
       "      <th>CreditScore</th>\n",
       "      <th>Age</th>\n",
       "      <th>Tenure</th>\n",
       "      <th>Balance</th>\n",
       "      <th>NumOfProducts</th>\n",
       "      <th>HasCrCard</th>\n",
       "      <th>IsActiveMember</th>\n",
       "      <th>EstimatedSalary</th>\n",
       "      <th>Geography_Germany</th>\n",
       "      <th>Geography_Spain</th>\n",
       "      <th>Gender_Male</th>\n",
       "    </tr>\n",
       "  </thead>\n",
       "  <tbody>\n",
       "    <tr>\n",
       "      <td>0</td>\n",
       "      <td>619</td>\n",
       "      <td>42</td>\n",
       "      <td>2.0</td>\n",
       "      <td>0.00</td>\n",
       "      <td>1</td>\n",
       "      <td>1</td>\n",
       "      <td>1</td>\n",
       "      <td>101348.88</td>\n",
       "      <td>0</td>\n",
       "      <td>0</td>\n",
       "      <td>0</td>\n",
       "    </tr>\n",
       "    <tr>\n",
       "      <td>1</td>\n",
       "      <td>608</td>\n",
       "      <td>41</td>\n",
       "      <td>1.0</td>\n",
       "      <td>83807.86</td>\n",
       "      <td>1</td>\n",
       "      <td>0</td>\n",
       "      <td>1</td>\n",
       "      <td>112542.58</td>\n",
       "      <td>0</td>\n",
       "      <td>1</td>\n",
       "      <td>0</td>\n",
       "    </tr>\n",
       "    <tr>\n",
       "      <td>2</td>\n",
       "      <td>502</td>\n",
       "      <td>42</td>\n",
       "      <td>8.0</td>\n",
       "      <td>159660.80</td>\n",
       "      <td>3</td>\n",
       "      <td>1</td>\n",
       "      <td>0</td>\n",
       "      <td>113931.57</td>\n",
       "      <td>0</td>\n",
       "      <td>0</td>\n",
       "      <td>0</td>\n",
       "    </tr>\n",
       "    <tr>\n",
       "      <td>3</td>\n",
       "      <td>699</td>\n",
       "      <td>39</td>\n",
       "      <td>1.0</td>\n",
       "      <td>0.00</td>\n",
       "      <td>2</td>\n",
       "      <td>0</td>\n",
       "      <td>0</td>\n",
       "      <td>93826.63</td>\n",
       "      <td>0</td>\n",
       "      <td>0</td>\n",
       "      <td>0</td>\n",
       "    </tr>\n",
       "    <tr>\n",
       "      <td>4</td>\n",
       "      <td>850</td>\n",
       "      <td>43</td>\n",
       "      <td>2.0</td>\n",
       "      <td>125510.82</td>\n",
       "      <td>1</td>\n",
       "      <td>1</td>\n",
       "      <td>1</td>\n",
       "      <td>79084.10</td>\n",
       "      <td>0</td>\n",
       "      <td>1</td>\n",
       "      <td>0</td>\n",
       "    </tr>\n",
       "  </tbody>\n",
       "</table>\n",
       "</div>"
      ],
      "text/plain": [
       "   CreditScore  Age  Tenure    Balance  NumOfProducts  HasCrCard  \\\n",
       "0          619   42     2.0       0.00              1          1   \n",
       "1          608   41     1.0   83807.86              1          0   \n",
       "2          502   42     8.0  159660.80              3          1   \n",
       "3          699   39     1.0       0.00              2          0   \n",
       "4          850   43     2.0  125510.82              1          1   \n",
       "\n",
       "   IsActiveMember  EstimatedSalary  Geography_Germany  Geography_Spain  \\\n",
       "0               1        101348.88                  0                0   \n",
       "1               1        112542.58                  0                1   \n",
       "2               0        113931.57                  0                0   \n",
       "3               0         93826.63                  0                0   \n",
       "4               1         79084.10                  0                1   \n",
       "\n",
       "   Gender_Male  \n",
       "0            0  \n",
       "1            0  \n",
       "2            0  \n",
       "3            0  \n",
       "4            0  "
      ]
     },
     "execution_count": 12,
     "metadata": {},
     "output_type": "execute_result"
    }
   ],
   "source": [
    "features.head()"
   ]
  },
  {
   "cell_type": "code",
   "execution_count": 13,
   "metadata": {},
   "outputs": [],
   "source": [
    "def split_data(features, target):\n",
    "    (features_train,\n",
    "     features_valid,\n",
    "     target_train,\n",
    "     target_valid) = train_test_split(features,\n",
    "                                      target,\n",
    "                                      test_size = 0.4,\n",
    "                                      random_state = 12345)\n",
    "    (features_test,\n",
    "     features_valid,\n",
    "     target_test,\n",
    "     target_valid) = train_test_split(features_valid,\n",
    "                                      target_valid,\n",
    "                                      test_size = 0.5,\n",
    "                                      random_state = 12345)\n",
    "    \n",
    "    return (features_train,\n",
    "            features_valid,\n",
    "            features_test,\n",
    "            target_train,\n",
    "            target_valid,\n",
    "            target_test)"
   ]
  },
  {
   "cell_type": "code",
   "execution_count": 14,
   "metadata": {},
   "outputs": [],
   "source": [
    "(features_train,\n",
    " features_valid,\n",
    " features_test,\n",
    " target_train,\n",
    " target_valid,\n",
    " target_test) = split_data(churn.drop([\"Exited\"], axis = 1),\n",
    "                              churn[\"Exited\"])"
   ]
  },
  {
   "cell_type": "code",
   "execution_count": 15,
   "metadata": {},
   "outputs": [
    {
     "name": "stdout",
     "output_type": "stream",
     "text": [
      "Обучающая: (6000, 11) (6000,)\n",
      "Валидационная: (2000, 11) (2000,)\n",
      "Тестовая: (2000, 11) (2000,)\n"
     ]
    }
   ],
   "source": [
    "print('Обучающая:',features_train.shape, target_train.shape) \n",
    "print('Валидационная:', features_valid.shape, target_valid.shape) \n",
    "print('Тестовая:', features_test.shape, target_test.shape)"
   ]
  },
  {
   "cell_type": "markdown",
   "metadata": {},
   "source": [
    "**Обучающая**: \n",
    "\n",
    "features_train  \n",
    "target_train\n",
    "\n",
    "**Валидационная**:  \n",
    "\n",
    "features_valid  \n",
    "target_valid\n",
    "\n",
    "**Тестовая**:   \n",
    "\n",
    "features_test  \n",
    "target_test"
   ]
  },
  {
   "cell_type": "markdown",
   "metadata": {},
   "source": [
    "### Масштабирование"
   ]
  },
  {
   "cell_type": "code",
   "execution_count": 16,
   "metadata": {},
   "outputs": [],
   "source": [
    "numeric_columns = ['CreditScore', 'Age', 'Tenure', 'Balance', 'NumOfProducts', 'EstimatedSalary']"
   ]
  },
  {
   "cell_type": "code",
   "execution_count": 17,
   "metadata": {},
   "outputs": [
    {
     "data": {
      "text/plain": [
       "StandardScaler(copy=True, with_mean=True, with_std=True)"
      ]
     },
     "execution_count": 17,
     "metadata": {},
     "output_type": "execute_result"
    }
   ],
   "source": [
    "scaler = StandardScaler()\n",
    "scaler.fit(features_train[numeric_columns])"
   ]
  },
  {
   "cell_type": "code",
   "execution_count": 18,
   "metadata": {},
   "outputs": [
    {
     "data": {
      "text/html": [
       "<div>\n",
       "<style scoped>\n",
       "    .dataframe tbody tr th:only-of-type {\n",
       "        vertical-align: middle;\n",
       "    }\n",
       "\n",
       "    .dataframe tbody tr th {\n",
       "        vertical-align: top;\n",
       "    }\n",
       "\n",
       "    .dataframe thead th {\n",
       "        text-align: right;\n",
       "    }\n",
       "</style>\n",
       "<table border=\"1\" class=\"dataframe\">\n",
       "  <thead>\n",
       "    <tr style=\"text-align: right;\">\n",
       "      <th></th>\n",
       "      <th>CreditScore</th>\n",
       "      <th>Age</th>\n",
       "      <th>Tenure</th>\n",
       "      <th>Balance</th>\n",
       "      <th>NumOfProducts</th>\n",
       "      <th>HasCrCard</th>\n",
       "      <th>IsActiveMember</th>\n",
       "      <th>EstimatedSalary</th>\n",
       "      <th>Geography_Germany</th>\n",
       "      <th>Geography_Spain</th>\n",
       "      <th>Gender_Male</th>\n",
       "    </tr>\n",
       "  </thead>\n",
       "  <tbody>\n",
       "    <tr>\n",
       "      <td>7479</td>\n",
       "      <td>-0.886751</td>\n",
       "      <td>-0.373192</td>\n",
       "      <td>1.083651</td>\n",
       "      <td>1.232271</td>\n",
       "      <td>-0.891560</td>\n",
       "      <td>1</td>\n",
       "      <td>0</td>\n",
       "      <td>-0.187705</td>\n",
       "      <td>0</td>\n",
       "      <td>1</td>\n",
       "      <td>1</td>\n",
       "    </tr>\n",
       "    <tr>\n",
       "      <td>3411</td>\n",
       "      <td>0.608663</td>\n",
       "      <td>-0.183385</td>\n",
       "      <td>1.083651</td>\n",
       "      <td>0.600563</td>\n",
       "      <td>-0.891560</td>\n",
       "      <td>0</td>\n",
       "      <td>0</td>\n",
       "      <td>-0.333945</td>\n",
       "      <td>0</td>\n",
       "      <td>0</td>\n",
       "      <td>0</td>\n",
       "    </tr>\n",
       "    <tr>\n",
       "      <td>6027</td>\n",
       "      <td>2.052152</td>\n",
       "      <td>0.480939</td>\n",
       "      <td>-0.452862</td>\n",
       "      <td>1.027098</td>\n",
       "      <td>0.830152</td>\n",
       "      <td>0</td>\n",
       "      <td>1</td>\n",
       "      <td>1.503095</td>\n",
       "      <td>1</td>\n",
       "      <td>0</td>\n",
       "      <td>1</td>\n",
       "    </tr>\n",
       "    <tr>\n",
       "      <td>1247</td>\n",
       "      <td>-1.457915</td>\n",
       "      <td>-1.417129</td>\n",
       "      <td>0.469046</td>\n",
       "      <td>-1.233163</td>\n",
       "      <td>0.830152</td>\n",
       "      <td>1</td>\n",
       "      <td>0</td>\n",
       "      <td>-1.071061</td>\n",
       "      <td>0</td>\n",
       "      <td>0</td>\n",
       "      <td>1</td>\n",
       "    </tr>\n",
       "    <tr>\n",
       "      <td>3716</td>\n",
       "      <td>0.130961</td>\n",
       "      <td>-1.132419</td>\n",
       "      <td>-0.760164</td>\n",
       "      <td>1.140475</td>\n",
       "      <td>-0.891560</td>\n",
       "      <td>0</td>\n",
       "      <td>0</td>\n",
       "      <td>1.524268</td>\n",
       "      <td>1</td>\n",
       "      <td>0</td>\n",
       "      <td>0</td>\n",
       "    </tr>\n",
       "  </tbody>\n",
       "</table>\n",
       "</div>"
      ],
      "text/plain": [
       "      CreditScore       Age    Tenure   Balance  NumOfProducts  HasCrCard  \\\n",
       "7479    -0.886751 -0.373192  1.083651  1.232271      -0.891560          1   \n",
       "3411     0.608663 -0.183385  1.083651  0.600563      -0.891560          0   \n",
       "6027     2.052152  0.480939 -0.452862  1.027098       0.830152          0   \n",
       "1247    -1.457915 -1.417129  0.469046 -1.233163       0.830152          1   \n",
       "3716     0.130961 -1.132419 -0.760164  1.140475      -0.891560          0   \n",
       "\n",
       "      IsActiveMember  EstimatedSalary  Geography_Germany  Geography_Spain  \\\n",
       "7479               0        -0.187705                  0                1   \n",
       "3411               0        -0.333945                  0                0   \n",
       "6027               1         1.503095                  1                0   \n",
       "1247               0        -1.071061                  0                0   \n",
       "3716               0         1.524268                  1                0   \n",
       "\n",
       "      Gender_Male  \n",
       "7479            1  \n",
       "3411            0  \n",
       "6027            1  \n",
       "1247            1  \n",
       "3716            0  "
      ]
     },
     "execution_count": 18,
     "metadata": {},
     "output_type": "execute_result"
    }
   ],
   "source": [
    "#Масштабируем численные признаки обучающей выборки \n",
    "features_train[numeric_columns] = scaler.transform(features_train[numeric_columns])\n",
    "features_train.head()"
   ]
  },
  {
   "cell_type": "code",
   "execution_count": 19,
   "metadata": {},
   "outputs": [
    {
     "data": {
      "text/html": [
       "<div>\n",
       "<style scoped>\n",
       "    .dataframe tbody tr th:only-of-type {\n",
       "        vertical-align: middle;\n",
       "    }\n",
       "\n",
       "    .dataframe tbody tr th {\n",
       "        vertical-align: top;\n",
       "    }\n",
       "\n",
       "    .dataframe thead th {\n",
       "        text-align: right;\n",
       "    }\n",
       "</style>\n",
       "<table border=\"1\" class=\"dataframe\">\n",
       "  <thead>\n",
       "    <tr style=\"text-align: right;\">\n",
       "      <th></th>\n",
       "      <th>CreditScore</th>\n",
       "      <th>Age</th>\n",
       "      <th>Tenure</th>\n",
       "      <th>Balance</th>\n",
       "      <th>NumOfProducts</th>\n",
       "      <th>HasCrCard</th>\n",
       "      <th>IsActiveMember</th>\n",
       "      <th>EstimatedSalary</th>\n",
       "      <th>Geography_Germany</th>\n",
       "      <th>Geography_Spain</th>\n",
       "      <th>Gender_Male</th>\n",
       "    </tr>\n",
       "  </thead>\n",
       "  <tbody>\n",
       "    <tr>\n",
       "      <td>7041</td>\n",
       "      <td>-2.226392</td>\n",
       "      <td>-0.088482</td>\n",
       "      <td>-0.760164</td>\n",
       "      <td>-1.233163</td>\n",
       "      <td>0.830152</td>\n",
       "      <td>1</td>\n",
       "      <td>0</td>\n",
       "      <td>0.647083</td>\n",
       "      <td>0</td>\n",
       "      <td>0</td>\n",
       "      <td>1</td>\n",
       "    </tr>\n",
       "    <tr>\n",
       "      <td>5709</td>\n",
       "      <td>-0.087120</td>\n",
       "      <td>0.006422</td>\n",
       "      <td>1.390954</td>\n",
       "      <td>-1.233163</td>\n",
       "      <td>-0.891560</td>\n",
       "      <td>1</td>\n",
       "      <td>0</td>\n",
       "      <td>-1.658410</td>\n",
       "      <td>0</td>\n",
       "      <td>0</td>\n",
       "      <td>0</td>\n",
       "    </tr>\n",
       "    <tr>\n",
       "      <td>7117</td>\n",
       "      <td>-0.917905</td>\n",
       "      <td>-0.752805</td>\n",
       "      <td>0.161744</td>\n",
       "      <td>0.722307</td>\n",
       "      <td>-0.891560</td>\n",
       "      <td>1</td>\n",
       "      <td>1</td>\n",
       "      <td>-1.369334</td>\n",
       "      <td>0</td>\n",
       "      <td>1</td>\n",
       "      <td>1</td>\n",
       "    </tr>\n",
       "    <tr>\n",
       "      <td>7775</td>\n",
       "      <td>-0.253277</td>\n",
       "      <td>0.101325</td>\n",
       "      <td>1.698257</td>\n",
       "      <td>-1.233163</td>\n",
       "      <td>0.830152</td>\n",
       "      <td>1</td>\n",
       "      <td>0</td>\n",
       "      <td>0.075086</td>\n",
       "      <td>0</td>\n",
       "      <td>1</td>\n",
       "      <td>1</td>\n",
       "    </tr>\n",
       "    <tr>\n",
       "      <td>8735</td>\n",
       "      <td>0.785204</td>\n",
       "      <td>-0.847708</td>\n",
       "      <td>1.698257</td>\n",
       "      <td>0.615625</td>\n",
       "      <td>-0.891560</td>\n",
       "      <td>0</td>\n",
       "      <td>1</td>\n",
       "      <td>-1.070919</td>\n",
       "      <td>0</td>\n",
       "      <td>0</td>\n",
       "      <td>1</td>\n",
       "    </tr>\n",
       "  </tbody>\n",
       "</table>\n",
       "</div>"
      ],
      "text/plain": [
       "      CreditScore       Age    Tenure   Balance  NumOfProducts  HasCrCard  \\\n",
       "7041    -2.226392 -0.088482 -0.760164 -1.233163       0.830152          1   \n",
       "5709    -0.087120  0.006422  1.390954 -1.233163      -0.891560          1   \n",
       "7117    -0.917905 -0.752805  0.161744  0.722307      -0.891560          1   \n",
       "7775    -0.253277  0.101325  1.698257 -1.233163       0.830152          1   \n",
       "8735     0.785204 -0.847708  1.698257  0.615625      -0.891560          0   \n",
       "\n",
       "      IsActiveMember  EstimatedSalary  Geography_Germany  Geography_Spain  \\\n",
       "7041               0         0.647083                  0                0   \n",
       "5709               0        -1.658410                  0                0   \n",
       "7117               1        -1.369334                  0                1   \n",
       "7775               0         0.075086                  0                1   \n",
       "8735               1        -1.070919                  0                0   \n",
       "\n",
       "      Gender_Male  \n",
       "7041            1  \n",
       "5709            0  \n",
       "7117            1  \n",
       "7775            1  \n",
       "8735            1  "
      ]
     },
     "execution_count": 19,
     "metadata": {},
     "output_type": "execute_result"
    }
   ],
   "source": [
    "#Масштабируем численные признаки валидационной выборки \n",
    "features_valid[numeric_columns] = scaler.transform(features_valid[numeric_columns])\n",
    "features_valid.head()"
   ]
  },
  {
   "cell_type": "code",
   "execution_count": 20,
   "metadata": {},
   "outputs": [
    {
     "data": {
      "text/html": [
       "<div>\n",
       "<style scoped>\n",
       "    .dataframe tbody tr th:only-of-type {\n",
       "        vertical-align: middle;\n",
       "    }\n",
       "\n",
       "    .dataframe tbody tr th {\n",
       "        vertical-align: top;\n",
       "    }\n",
       "\n",
       "    .dataframe thead th {\n",
       "        text-align: right;\n",
       "    }\n",
       "</style>\n",
       "<table border=\"1\" class=\"dataframe\">\n",
       "  <thead>\n",
       "    <tr style=\"text-align: right;\">\n",
       "      <th></th>\n",
       "      <th>CreditScore</th>\n",
       "      <th>Age</th>\n",
       "      <th>Tenure</th>\n",
       "      <th>Balance</th>\n",
       "      <th>NumOfProducts</th>\n",
       "      <th>HasCrCard</th>\n",
       "      <th>IsActiveMember</th>\n",
       "      <th>EstimatedSalary</th>\n",
       "      <th>Geography_Germany</th>\n",
       "      <th>Geography_Spain</th>\n",
       "      <th>Gender_Male</th>\n",
       "    </tr>\n",
       "  </thead>\n",
       "  <tbody>\n",
       "    <tr>\n",
       "      <td>8532</td>\n",
       "      <td>-0.699824</td>\n",
       "      <td>-0.373192</td>\n",
       "      <td>-0.760164</td>\n",
       "      <td>-1.233163</td>\n",
       "      <td>0.830152</td>\n",
       "      <td>1</td>\n",
       "      <td>0</td>\n",
       "      <td>-0.015173</td>\n",
       "      <td>0</td>\n",
       "      <td>0</td>\n",
       "      <td>0</td>\n",
       "    </tr>\n",
       "    <tr>\n",
       "      <td>5799</td>\n",
       "      <td>-0.284431</td>\n",
       "      <td>0.575842</td>\n",
       "      <td>-0.452862</td>\n",
       "      <td>-1.233163</td>\n",
       "      <td>-0.891560</td>\n",
       "      <td>1</td>\n",
       "      <td>1</td>\n",
       "      <td>1.471724</td>\n",
       "      <td>0</td>\n",
       "      <td>0</td>\n",
       "      <td>0</td>\n",
       "    </tr>\n",
       "    <tr>\n",
       "      <td>5511</td>\n",
       "      <td>0.151731</td>\n",
       "      <td>-0.657902</td>\n",
       "      <td>-1.374769</td>\n",
       "      <td>0.438711</td>\n",
       "      <td>-0.891560</td>\n",
       "      <td>1</td>\n",
       "      <td>0</td>\n",
       "      <td>-1.367107</td>\n",
       "      <td>1</td>\n",
       "      <td>0</td>\n",
       "      <td>1</td>\n",
       "    </tr>\n",
       "    <tr>\n",
       "      <td>7365</td>\n",
       "      <td>-0.876366</td>\n",
       "      <td>-0.278288</td>\n",
       "      <td>1.698257</td>\n",
       "      <td>1.239884</td>\n",
       "      <td>-0.891560</td>\n",
       "      <td>1</td>\n",
       "      <td>1</td>\n",
       "      <td>-0.786517</td>\n",
       "      <td>0</td>\n",
       "      <td>1</td>\n",
       "      <td>0</td>\n",
       "    </tr>\n",
       "    <tr>\n",
       "      <td>7367</td>\n",
       "      <td>-0.481743</td>\n",
       "      <td>0.291132</td>\n",
       "      <td>1.698257</td>\n",
       "      <td>-1.233163</td>\n",
       "      <td>0.830152</td>\n",
       "      <td>1</td>\n",
       "      <td>0</td>\n",
       "      <td>1.358533</td>\n",
       "      <td>0</td>\n",
       "      <td>1</td>\n",
       "      <td>1</td>\n",
       "    </tr>\n",
       "  </tbody>\n",
       "</table>\n",
       "</div>"
      ],
      "text/plain": [
       "      CreditScore       Age    Tenure   Balance  NumOfProducts  HasCrCard  \\\n",
       "8532    -0.699824 -0.373192 -0.760164 -1.233163       0.830152          1   \n",
       "5799    -0.284431  0.575842 -0.452862 -1.233163      -0.891560          1   \n",
       "5511     0.151731 -0.657902 -1.374769  0.438711      -0.891560          1   \n",
       "7365    -0.876366 -0.278288  1.698257  1.239884      -0.891560          1   \n",
       "7367    -0.481743  0.291132  1.698257 -1.233163       0.830152          1   \n",
       "\n",
       "      IsActiveMember  EstimatedSalary  Geography_Germany  Geography_Spain  \\\n",
       "8532               0        -0.015173                  0                0   \n",
       "5799               1         1.471724                  0                0   \n",
       "5511               0        -1.367107                  1                0   \n",
       "7365               1        -0.786517                  0                1   \n",
       "7367               0         1.358533                  0                1   \n",
       "\n",
       "      Gender_Male  \n",
       "8532            0  \n",
       "5799            0  \n",
       "5511            1  \n",
       "7365            0  \n",
       "7367            1  "
      ]
     },
     "execution_count": 20,
     "metadata": {},
     "output_type": "execute_result"
    }
   ],
   "source": [
    "#Масштабируем численные признаки тестовой выборки \n",
    "features_test[numeric_columns] = scaler.transform(features_test[numeric_columns])\n",
    "features_test.head()"
   ]
  },
  {
   "cell_type": "markdown",
   "metadata": {},
   "source": [
    "## Исследование задачи"
   ]
  },
  {
   "cell_type": "markdown",
   "metadata": {},
   "source": [
    "Для исследования будем использовать три разные модели."
   ]
  },
  {
   "cell_type": "markdown",
   "metadata": {},
   "source": [
    "### Проверка баланса классов выборки"
   ]
  },
  {
   "cell_type": "code",
   "execution_count": 21,
   "metadata": {},
   "outputs": [
    {
     "data": {
      "text/plain": [
       "0    0.800667\n",
       "1    0.199333\n",
       "Name: Exited, dtype: float64"
      ]
     },
     "execution_count": 21,
     "metadata": {},
     "output_type": "execute_result"
    }
   ],
   "source": [
    "target_train.value_counts(normalize = 1)"
   ]
  },
  {
   "cell_type": "code",
   "execution_count": 22,
   "metadata": {},
   "outputs": [
    {
     "data": {
      "text/plain": [
       "0    0.7885\n",
       "1    0.2115\n",
       "Name: Exited, dtype: float64"
      ]
     },
     "execution_count": 22,
     "metadata": {},
     "output_type": "execute_result"
    }
   ],
   "source": [
    "target_valid.value_counts(normalize = 1)"
   ]
  },
  {
   "cell_type": "code",
   "execution_count": 23,
   "metadata": {},
   "outputs": [
    {
     "data": {
      "text/plain": [
       "0    0.791\n",
       "1    0.209\n",
       "Name: Exited, dtype: float64"
      ]
     },
     "execution_count": 23,
     "metadata": {},
     "output_type": "execute_result"
    }
   ],
   "source": [
    "target_test.value_counts(normalize = 1)"
   ]
  },
  {
   "cell_type": "markdown",
   "metadata": {},
   "source": [
    "Заметный дисбаланс у всех выборок: **0** около 80% и **1** около 20%.   \n",
    "Как следствие, можно ожидать, что результаты предсказаний будут сильно склоняться к конкретному варианту."
   ]
  },
  {
   "cell_type": "markdown",
   "metadata": {},
   "source": [
    "### Дерево решений"
   ]
  },
  {
   "cell_type": "code",
   "execution_count": 24,
   "metadata": {},
   "outputs": [
    {
     "data": {
      "text/plain": [
       "array([[1375,  225],\n",
       "       [ 202,  198]])"
      ]
     },
     "execution_count": 24,
     "metadata": {},
     "output_type": "execute_result"
    }
   ],
   "source": [
    "#модель\n",
    "model_DTC = DecisionTreeClassifier(random_state=123)\n",
    "model_DTC.fit(features_train, target_train)\n",
    "DTC_prediction = model_DTC.predict(features_valid)\n",
    "\n",
    "#матрица неточностей\n",
    "confusion_matrix(DTC_prediction, target_valid)"
   ]
  },
  {
   "cell_type": "code",
   "execution_count": 25,
   "metadata": {},
   "outputs": [],
   "source": [
    "def rec_prec_f1(target_valid, prediction):\n",
    "    print(\"Полнота\" , recall_score(target_valid, prediction))\n",
    "    print(\"Точность\", precision_score(target_valid, prediction))\n",
    "    print(\"F1-мера\", f1_score(target_valid, prediction))\n",
    "    print(\"AUC-ROC\", roc_auc_score(target_valid, prediction))"
   ]
  },
  {
   "cell_type": "code",
   "execution_count": 26,
   "metadata": {},
   "outputs": [
    {
     "name": "stdout",
     "output_type": "stream",
     "text": [
      "Полнота 0.46808510638297873\n",
      "Точность 0.495\n",
      "F1-мера 0.48116646415552855\n",
      "AUC-ROC 0.669996896882041\n"
     ]
    }
   ],
   "source": [
    "rec_prec_f1(target_valid, DTC_prediction)"
   ]
  },
  {
   "cell_type": "markdown",
   "metadata": {},
   "source": [
    "Учитывая форму постороения матрицы, приведенную в уроках ранее: модель склонна к истинно отрицательным ответам.\n",
    "Недостаточное значение F1 свидетельствует о низком качестве модели."
   ]
  },
  {
   "cell_type": "markdown",
   "metadata": {},
   "source": [
    "### Случайный лес"
   ]
  },
  {
   "cell_type": "code",
   "execution_count": 27,
   "metadata": {},
   "outputs": [
    {
     "data": {
      "text/plain": [
       "array([[1514,   63],\n",
       "       [ 247,  176]])"
      ]
     },
     "execution_count": 27,
     "metadata": {},
     "output_type": "execute_result"
    }
   ],
   "source": [
    "#модель\n",
    "model_RFC = RandomForestClassifier(random_state=12345, n_estimators = 100)\n",
    "model_RFC.fit(features_train, target_train)\n",
    "RFC_prediction = model_RFC.predict(features_valid)\n",
    "\n",
    "#матрица неточностей\n",
    "confusion_matrix(target_valid, RFC_prediction)"
   ]
  },
  {
   "cell_type": "code",
   "execution_count": 28,
   "metadata": {},
   "outputs": [
    {
     "name": "stdout",
     "output_type": "stream",
     "text": [
      "Полнота 0.4160756501182033\n",
      "Точность 0.7364016736401674\n",
      "F1-мера 0.5317220543806647\n",
      "AUC-ROC 0.6880631896754618\n"
     ]
    }
   ],
   "source": [
    "rec_prec_f1(target_valid, RFC_prediction)"
   ]
  },
  {
   "cell_type": "markdown",
   "metadata": {},
   "source": [
    "Учитывая форму постороения матрицы, приведенную в уроках ранее: данная модель еще более склонна к истинно отрицательным ответам.\n",
    "Как и в предыдущей модели, недостаточное значение F1 свидетельствует о низком качестве модели."
   ]
  },
  {
   "cell_type": "markdown",
   "metadata": {},
   "source": [
    "### Логистическая регрессия"
   ]
  },
  {
   "cell_type": "code",
   "execution_count": 29,
   "metadata": {},
   "outputs": [
    {
     "data": {
      "text/plain": [
       "array([[1504,   73],\n",
       "       [ 344,   79]])"
      ]
     },
     "execution_count": 29,
     "metadata": {},
     "output_type": "execute_result"
    }
   ],
   "source": [
    "#модель\n",
    "model_LgR = LogisticRegression(solver = 'liblinear')\n",
    "model_LgR.fit(features_train, target_train)\n",
    "LgR_prediction = model_LgR.predict(features_valid)\n",
    "\n",
    "#матрица неточностей\n",
    "confusion_matrix(target_valid, LgR_prediction)"
   ]
  },
  {
   "cell_type": "markdown",
   "metadata": {},
   "source": [
    "Для логистической регрессии расчитаем метрику AUC-ROC."
   ]
  },
  {
   "cell_type": "code",
   "execution_count": 30,
   "metadata": {},
   "outputs": [
    {
     "data": {
      "text/plain": [
       "0.7386679978592984"
      ]
     },
     "execution_count": 30,
     "metadata": {},
     "output_type": "execute_result"
    }
   ],
   "source": [
    "LgR_probabilities_one_valid = model_LgR.predict_proba(features_valid)[:, 1]\n",
    "auc_roc_LgR = roc_auc_score(target_valid, LgR_probabilities_one_valid)\n",
    "auc_roc_LgR"
   ]
  },
  {
   "cell_type": "code",
   "execution_count": 31,
   "metadata": {},
   "outputs": [
    {
     "name": "stdout",
     "output_type": "stream",
     "text": [
      "F1: 0.27478260869565213\n"
     ]
    }
   ],
   "source": [
    "print('F1:',f1_score(target_valid, LgR_prediction))"
   ]
  },
  {
   "cell_type": "code",
   "execution_count": 32,
   "metadata": {},
   "outputs": [
    {
     "data": {
      "image/png": "[encoded data removed]",
      "text/plain": [
       "<Figure size 432x288 with 1 Axes>"
      ]
     },
     "metadata": {
      "needs_background": "light"
     },
     "output_type": "display_data"
    }
   ],
   "source": [
    "fpr, tpr, thresholds = roc_curve(target_valid, LgR_probabilities_one_valid) \n",
    "\n",
    "plt.figure()\n",
    "plt.plot(fpr, tpr)\n",
    "plt.plot([0, 1], [0, 1], linestyle='--')\n",
    "plt.xlim([0.0, 1.0])\n",
    "plt.ylim([0.0, 1.0])\n",
    "plt.xlabel('False Positive Rate')\n",
    "plt.ylabel('True Positive Rate')\n",
    "plt.title('ROC-кривая')\n",
    "plt.show()"
   ]
  },
  {
   "cell_type": "markdown",
   "metadata": {},
   "source": [
    "Логистическая регрессия выдает высокий процент истинно отрицательных предсказаний. AUC-ROC всего 0,74 , - до заветной единицы далеко. "
   ]
  },
  {
   "cell_type": "markdown",
   "metadata": {},
   "source": [
    "**Выводы:**  \n",
    "Низкие значения F1-меры наблюдаются у всех моделей и свидетельствуют о низком качестве. Из-за сильного дисбаланса (0 около 80%) модели склонны к истинно отрицательным предсказаниям.\n",
    "Лучший показатель F1-меры у случайного леса, но он все равно недостаточен."
   ]
  },
  {
   "cell_type": "markdown",
   "metadata": {},
   "source": [
    "## Борьба с дисбалансом"
   ]
  },
  {
   "cell_type": "code",
   "execution_count": 33,
   "metadata": {},
   "outputs": [
    {
     "data": {
      "text/plain": [
       "0    0.800667\n",
       "1    0.199333\n",
       "Name: Exited, dtype: float64"
      ]
     },
     "execution_count": 33,
     "metadata": {},
     "output_type": "execute_result"
    }
   ],
   "source": [
    "target_train.value_counts(normalize = 1)"
   ]
  },
  {
   "cell_type": "code",
   "execution_count": 34,
   "metadata": {},
   "outputs": [
    {
     "data": {
      "text/plain": [
       "<matplotlib.axes._subplots.AxesSubplot at 0x7fa50b4b3b50>"
      ]
     },
     "execution_count": 34,
     "metadata": {},
     "output_type": "execute_result"
    },
    {
     "data": {
      "image/png": "[encoded data removed]",
      "text/plain": [
       "<Figure size 288x288 with 1 Axes>"
      ]
     },
     "metadata": {
      "needs_background": "light"
     },
     "output_type": "display_data"
    }
   ],
   "source": [
    "target_train.plot(kind ='hist', bins=2, figsize=(4,4))"
   ]
  },
  {
   "cell_type": "markdown",
   "metadata": {},
   "source": [
    "Итак, в нашей выборке отрицательны ответов ≈ 80% , положитительных ≈ 20%."
   ]
  },
  {
   "cell_type": "markdown",
   "metadata": {},
   "source": [
    "### Уменьшение выборки"
   ]
  },
  {
   "cell_type": "markdown",
   "metadata": {},
   "source": [
    "Воспользуемся техникой downsampling.  \n",
    "\n",
    "Преобразование проходит в несколько этапов:\n",
    "1. Разделить обучающую выборку на объекты по классам;\n",
    "2. Определить тот класс, который содержит больше объектов. Назовём\n",
    "его большим классом;\n",
    "3. Случайным образом отбросить часть из объектов большего класса;\n",
    "4. С учётом полученных данных создать новую обучающую выборку;\n",
    "5. Перемешать данные."
   ]
  },
  {
   "cell_type": "code",
   "execution_count": 35,
   "metadata": {},
   "outputs": [],
   "source": [
    "def downsample(features, target, fraction):\n",
    "    features_zeros = features[target == 0]\n",
    "    features_ones = features[target == 1]\n",
    "    target_zeros = target[target == 0]\n",
    "    target_ones = target[target == 1]\n",
    "\n",
    "    features_downsampled = pd.concat(\n",
    "        [features_zeros.sample(frac=fraction, random_state=12345)] + [features_ones])\n",
    "    target_downsampled = pd.concat(\n",
    "        [target_zeros.sample(frac=fraction, random_state=12345)] + [target_ones])\n",
    "    \n",
    "    features_downsampled, target_downsampled = shuffle(\n",
    "        features_downsampled, target_downsampled, random_state=12345)\n",
    "    \n",
    "    return features_downsampled, target_downsampled"
   ]
  },
  {
   "cell_type": "code",
   "execution_count": 36,
   "metadata": {},
   "outputs": [
    {
     "data": {
      "text/plain": [
       "<matplotlib.axes._subplots.AxesSubplot at 0x7fa502d22c50>"
      ]
     },
     "execution_count": 36,
     "metadata": {},
     "output_type": "execute_result"
    },
    {
     "data": {
      "image/png": "[encoded data removed]",
      "text/plain": [
       "<Figure size 288x288 with 1 Axes>"
      ]
     },
     "metadata": {
      "needs_background": "light"
     },
     "output_type": "display_data"
    }
   ],
   "source": [
    "features_downsampled, target_downsampled = downsample(features_train, target_train, 0.25)\n",
    "target_downsampled.plot(kind ='hist', bins=2, figsize=(4,4))"
   ]
  },
  {
   "cell_type": "code",
   "execution_count": 37,
   "metadata": {},
   "outputs": [
    {
     "data": {
      "text/plain": [
       "0    0.501043\n",
       "1    0.498957\n",
       "Name: Exited, dtype: float64"
      ]
     },
     "execution_count": 37,
     "metadata": {},
     "output_type": "execute_result"
    }
   ],
   "source": [
    "target_downsampled.value_counts(normalize = 1)"
   ]
  },
  {
   "cell_type": "markdown",
   "metadata": {},
   "source": [
    "Получилось сбалансированное количество классов. "
   ]
  },
  {
   "cell_type": "markdown",
   "metadata": {},
   "source": [
    "#### Качество предсказаний"
   ]
  },
  {
   "cell_type": "markdown",
   "metadata": {},
   "source": [
    "##### Логистическая регрессия"
   ]
  },
  {
   "cell_type": "code",
   "execution_count": 38,
   "metadata": {},
   "outputs": [
    {
     "name": "stdout",
     "output_type": "stream",
     "text": [
      "Полнота 0.6690307328605201\n",
      "Точность 0.38140161725067384\n",
      "F1-мера 0.4858369098712446\n",
      "AUC-ROC 0.6889858800637413\n"
     ]
    }
   ],
   "source": [
    "model_LgR_downsampled = LogisticRegression(solver='liblinear')\n",
    "model_LgR_downsampled.fit(features_downsampled, target_downsampled)\n",
    "LgR_downsampled_predicted = model_LgR_downsampled.predict(features_valid)\n",
    "\n",
    "rec_prec_f1(target_valid, LgR_downsampled_predicted)"
   ]
  },
  {
   "cell_type": "markdown",
   "metadata": {},
   "source": [
    "##### Случайный лес"
   ]
  },
  {
   "cell_type": "code",
   "execution_count": 39,
   "metadata": {},
   "outputs": [
    {
     "name": "stdout",
     "output_type": "stream",
     "text": [
      "Полнота 0.7304964539007093\n",
      "Точность 0.46747352496217853\n",
      "F1-мера 0.5701107011070112\n",
      "AUC-ROC 0.7536439149655734\n"
     ]
    }
   ],
   "source": [
    "model_RFC_downsampled = RandomForestClassifier(random_state=12345, n_estimators = 100)\n",
    "model_RFC_downsampled.fit(features_downsampled, target_downsampled)\n",
    "RFC_prediction_downsampled = model_RFC_downsampled.predict(features_valid)\n",
    "\n",
    "rec_prec_f1(target_valid, RFC_prediction_downsampled)"
   ]
  },
  {
   "cell_type": "markdown",
   "metadata": {},
   "source": [
    "##### Дерево решений"
   ]
  },
  {
   "cell_type": "code",
   "execution_count": 40,
   "metadata": {},
   "outputs": [
    {
     "name": "stdout",
     "output_type": "stream",
     "text": [
      "Полнота 0.6737588652482269\n",
      "Точность 0.3920220082530949\n",
      "F1-мера 0.4956521739130434\n",
      "AUC-ROC 0.6967399272341325\n"
     ]
    }
   ],
   "source": [
    "model_DTC_downsampled = DecisionTreeClassifier(random_state=123)\n",
    "model_DTC_downsampled.fit(features_downsampled, target_downsampled)\n",
    "DTC_prediction_downsampled = model_DTC_downsampled.predict(features_valid)\n",
    "\n",
    "rec_prec_f1(target_valid, DTC_prediction_downsampled)"
   ]
  },
  {
   "cell_type": "markdown",
   "metadata": {},
   "source": [
    "Показатели улучшились: у случайного леса F1-мера увеличилась до 0,57, но этого все равно недостаточно."
   ]
  },
  {
   "cell_type": "markdown",
   "metadata": {},
   "source": [
    "### Увеличение выборки"
   ]
  },
  {
   "cell_type": "markdown",
   "metadata": {},
   "source": [
    "Нам необходмо увеличить количество положительных ответов в 4 раза для достижения баланса.\n",
    "\n",
    "Воспользуемся техникой upsampling.\n",
    "\n",
    "\n",
    "Преобразование проходит в несколько этапов:\n",
    "1. Разделить обучающую выборку на объекты по классам;\n",
    "2. Определить тот класс, который содержит меньше объектов. Назовём\n",
    "его меньшим классом;\n",
    "3. Скопировать несколько раз объекты меньшего класса;\n",
    "4. С учётом полученных данных создать новую обучающую выборку;\n",
    "5. Перемешать данные"
   ]
  },
  {
   "cell_type": "code",
   "execution_count": 41,
   "metadata": {},
   "outputs": [],
   "source": [
    "def upsample(features, target, repeat):\n",
    "    features_zeros = features[target == 0]\n",
    "    features_ones = features[target == 1]\n",
    "    target_zeros = target[target == 0]\n",
    "    target_ones = target[target == 1]\n",
    "\n",
    "    features_upsampled = pd.concat([features_zeros] + [features_ones] * repeat)\n",
    "    target_upsampled = pd.concat([target_zeros] + [target_ones] * repeat)\n",
    "    \n",
    "    features_upsampled, target_upsampled = shuffle(\n",
    "        features_upsampled, target_upsampled, random_state=12345)\n",
    "    \n",
    "    return features_upsampled, target_upsampled"
   ]
  },
  {
   "cell_type": "code",
   "execution_count": 42,
   "metadata": {},
   "outputs": [
    {
     "data": {
      "text/plain": [
       "<matplotlib.axes._subplots.AxesSubplot at 0x7fa502c43510>"
      ]
     },
     "execution_count": 42,
     "metadata": {},
     "output_type": "execute_result"
    },
    {
     "data": {
      "image/png": "[encoded data removed]",
      "text/plain": [
       "<Figure size 288x288 with 1 Axes>"
      ]
     },
     "metadata": {
      "needs_background": "light"
     },
     "output_type": "display_data"
    }
   ],
   "source": [
    "features_upsampled, target_upsampled = upsample(features_train, target_train, 4)\n",
    "target_upsampled.plot(kind ='hist', bins=2, figsize=(4,4))"
   ]
  },
  {
   "cell_type": "code",
   "execution_count": 43,
   "metadata": {},
   "outputs": [
    {
     "data": {
      "text/plain": [
       "0    0.501043\n",
       "1    0.498957\n",
       "Name: Exited, dtype: float64"
      ]
     },
     "execution_count": 43,
     "metadata": {},
     "output_type": "execute_result"
    }
   ],
   "source": [
    "target_upsampled.value_counts(normalize = 1)"
   ]
  },
  {
   "cell_type": "markdown",
   "metadata": {},
   "source": [
    "#### Качество предсказаний"
   ]
  },
  {
   "cell_type": "markdown",
   "metadata": {},
   "source": [
    "##### Логистическая регрессия"
   ]
  },
  {
   "cell_type": "code",
   "execution_count": 44,
   "metadata": {},
   "outputs": [
    {
     "name": "stdout",
     "output_type": "stream",
     "text": [
      "Полнота 0.6524822695035462\n",
      "Точность 0.3770491803278688\n",
      "F1-мера 0.4779220779220779\n",
      "AUC-ROC 0.681662821498761\n"
     ]
    }
   ],
   "source": [
    "model_LgR_upsampled = LogisticRegression(solver = 'liblinear')\n",
    "model_LgR_upsampled.fit(features_upsampled, target_upsampled)\n",
    "LgR_prediction_upsampled = model_LgR_upsampled.predict(features_valid)\n",
    "\n",
    "rec_prec_f1(target_valid, LgR_prediction_upsampled)"
   ]
  },
  {
   "cell_type": "markdown",
   "metadata": {},
   "source": [
    "##### Случайный лес"
   ]
  },
  {
   "cell_type": "code",
   "execution_count": 45,
   "metadata": {},
   "outputs": [
    {
     "name": "stdout",
     "output_type": "stream",
     "text": [
      "Полнота 0.5319148936170213\n",
      "Точность 0.6637168141592921\n",
      "F1-мера 0.5905511811023623\n",
      "AUC-ROC 0.7298128684952575\n"
     ]
    }
   ],
   "source": [
    "model_RFC_upsampled = RandomForestClassifier(random_state=12345, n_estimators = 100)\n",
    "model_RFC_upsampled.fit(features_upsampled, target_upsampled)\n",
    "RFC_prediction_upsampled = model_RFC_upsampled.predict(features_valid)\n",
    "\n",
    "rec_prec_f1(target_valid, RFC_prediction_upsampled)"
   ]
  },
  {
   "cell_type": "markdown",
   "metadata": {},
   "source": [
    "##### Дерево решений"
   ]
  },
  {
   "cell_type": "code",
   "execution_count": 46,
   "metadata": {},
   "outputs": [
    {
     "name": "stdout",
     "output_type": "stream",
     "text": [
      "Полнота 0.46099290780141844\n",
      "Точность 0.5025773195876289\n",
      "F1-мера 0.4808877928483354\n",
      "AUC-ROC 0.6693043169317809\n"
     ]
    }
   ],
   "source": [
    "model_DTC_upsampled = DecisionTreeClassifier(random_state=123)\n",
    "model_DTC_upsampled.fit(features_upsampled, target_upsampled)\n",
    "DTC_prediction_upsampled = model_DTC_upsampled.predict(features_valid)\n",
    "\n",
    "rec_prec_f1(target_valid, DTC_prediction_upsampled)"
   ]
  },
  {
   "cell_type": "markdown",
   "metadata": {},
   "source": [
    "В этот раз нам удалось достигнуть значения 0,59 для F1-меры (случайный лес)."
   ]
  },
  {
   "cell_type": "markdown",
   "metadata": {},
   "source": [
    "### Улучшение модели"
   ]
  },
  {
   "cell_type": "markdown",
   "metadata": {},
   "source": [
    "При помощи циклов подберем гиперпараметры."
   ]
  },
  {
   "cell_type": "code",
   "execution_count": 47,
   "metadata": {},
   "outputs": [
    {
     "name": "stdout",
     "output_type": "stream",
     "text": [
      "max_depth: 1 F1: 0.5383211678832117\n",
      "max_depth: 2 F1: 0.5547169811320756\n",
      "max_depth: 3 F1: 0.5745098039215685\n",
      "max_depth: 4 F1: 0.5826170009551098\n",
      "max_depth: 5 F1: 0.6017357762777242\n",
      "max_depth: 6 F1: 0.6134371957156768\n",
      "max_depth: 7 F1: 0.6076696165191742\n",
      "max_depth: 8 F1: 0.5982053838484547\n",
      "max_depth: 9 F1: 0.6161825726141079\n",
      "max_depth: 10 F1: 0.6002143622722401\n",
      "max_depth: 11 F1: 0.6102449888641425\n",
      "max_depth: 12 F1: 0.6062717770034843\n",
      "max_depth: 13 F1: 0.6231884057971014\n",
      "max_depth: 14 F1: 0.6032540675844806\n",
      "CPU times: user 7.11 s, sys: 19.6 ms, total: 7.13 s\n",
      "Wall time: 7.18 s\n"
     ]
    }
   ],
   "source": [
    "%%time\n",
    "# Циклом ищем лучший гиперпораметр max_depth\n",
    "\n",
    "for max_depth in range(1,15,1):\n",
    "    model_forest=RandomForestClassifier(class_weight='balanced',max_depth=max_depth,n_estimators=50,random_state=1234).fit(features_upsampled, target_upsampled)\n",
    "    prediction=model_forest.predict(features_valid)\n",
    "    print('max_depth:',max_depth,'F1:',f1_score(target_valid,prediction))"
   ]
  },
  {
   "cell_type": "code",
   "execution_count": 48,
   "metadata": {},
   "outputs": [
    {
     "name": "stdout",
     "output_type": "stream",
     "text": [
      "estim 1 F1: 0.5288640595903166\n",
      "estim 2 F1: 0.5306553911205073\n",
      "estim 3 F1: 0.5714285714285714\n",
      "estim 4 F1: 0.5585980284775465\n",
      "estim 5 F1: 0.5788336933045356\n",
      "estim 6 F1: 0.576086956521739\n",
      "estim 7 F1: 0.5897714907508161\n",
      "estim 8 F1: 0.5953693495038589\n",
      "estim 9 F1: 0.591111111111111\n",
      "estim 10 F1: 0.5956043956043956\n",
      "estim 11 F1: 0.592755214050494\n",
      "estim 12 F1: 0.5988950276243094\n",
      "estim 13 F1: 0.6090808416389811\n",
      "estim 14 F1: 0.6037735849056604\n",
      "estim 15 F1: 0.6031042128603106\n",
      "estim 16 F1: 0.5964523281596452\n",
      "estim 17 F1: 0.5951327433628318\n",
      "estim 18 F1: 0.5997794928335172\n",
      "estim 19 F1: 0.6042363433667781\n",
      "estim 20 F1: 0.6059933407325194\n",
      "estim 21 F1: 0.6186252771618626\n",
      "estim 22 F1: 0.6048565121412804\n",
      "estim 23 F1: 0.6035634743875278\n",
      "estim 24 F1: 0.6105499438832772\n",
      "estim 25 F1: 0.6129753914988814\n",
      "estim 26 F1: 0.609673790776153\n",
      "estim 27 F1: 0.6122905027932961\n",
      "estim 28 F1: 0.6028921023359287\n",
      "estim 29 F1: 0.6026785714285715\n",
      "estim 30 F1: 0.6057268722466961\n",
      "estim 31 F1: 0.6002214839424141\n",
      "estim 32 F1: 0.6041896361631753\n",
      "estim 33 F1: 0.6070640176600441\n",
      "estim 34 F1: 0.6068660022148394\n",
      "estim 35 F1: 0.6084070796460177\n",
      "estim 36 F1: 0.6073414905450502\n",
      "estim 37 F1: 0.6135105204872647\n",
      "estim 38 F1: 0.6075388026607538\n",
      "estim 39 F1: 0.6140155728587319\n",
      "estim 40 F1: 0.6138392857142857\n",
      "estim 41 F1: 0.619153674832962\n",
      "estim 42 F1: 0.6176142697881827\n",
      "estim 43 F1: 0.6177777777777776\n",
      "estim 44 F1: 0.623059866962306\n",
      "estim 45 F1: 0.6160714285714286\n",
      "estim 46 F1: 0.6138392857142857\n",
      "estim 47 F1: 0.6167597765363129\n",
      "estim 48 F1: 0.6057906458797327\n",
      "estim 49 F1: 0.6111111111111112\n",
      "estim 50 F1: 0.6102449888641425\n",
      "CPU times: user 17.5 s, sys: 34.4 ms, total: 17.5 s\n",
      "Wall time: 17.7 s\n"
     ]
    }
   ],
   "source": [
    "%%time\n",
    "# Циклом подбираем гиперпораметр n_estimators (количество деревьев)\n",
    "for estim in range(1,51,1):\n",
    "    model_forest=RandomForestClassifier(class_weight='balanced',max_depth=11,n_estimators=estim,random_state=1234).fit(features_upsampled, target_upsampled)\n",
    "    prediction=model_forest.predict(features_valid)\n",
    "    print('estim',estim,'F1:',f1_score(target_valid,prediction))"
   ]
  },
  {
   "cell_type": "markdown",
   "metadata": {},
   "source": [
    "### Обучение финальной модели"
   ]
  },
  {
   "cell_type": "code",
   "execution_count": 49,
   "metadata": {},
   "outputs": [
    {
     "data": {
      "text/plain": [
       "RandomForestClassifier(bootstrap=False, class_weight='balanced',\n",
       "                       criterion='gini', max_depth=9, max_features='auto',\n",
       "                       max_leaf_nodes=None, min_impurity_decrease=0.0,\n",
       "                       min_impurity_split=None, min_samples_leaf=1,\n",
       "                       min_samples_split=2, min_weight_fraction_leaf=0.0,\n",
       "                       n_estimators=44, n_jobs=None, oob_score=False,\n",
       "                       random_state=12345, verbose=0, warm_start=False)"
      ]
     },
     "execution_count": 49,
     "metadata": {},
     "output_type": "execute_result"
    }
   ],
   "source": [
    "model_RFC_final = RandomForestClassifier(bootstrap = False, class_weight = 'balanced', max_depth= 9,  n_estimators = 44, random_state=12345)\n",
    "model_RFC_final.fit(features_upsampled, target_upsampled)"
   ]
  },
  {
   "cell_type": "code",
   "execution_count": 50,
   "metadata": {},
   "outputs": [
    {
     "name": "stdout",
     "output_type": "stream",
     "text": [
      "Полнота 0.6808510638297872\n",
      "Точность 0.5614035087719298\n",
      "F1-мера 0.6153846153846153\n",
      "AUC-ROC 0.7690875484018943\n"
     ]
    }
   ],
   "source": [
    "model_RFC_final_prediction = model_RFC_final.predict(features_valid)\n",
    "rec_prec_f1(target_valid, model_RFC_final_prediction)"
   ]
  },
  {
   "cell_type": "markdown",
   "metadata": {},
   "source": [
    "Для финальной модели проведем проверку на адекватность: создадим константную модель и сравним с нашей."
   ]
  },
  {
   "cell_type": "code",
   "execution_count": 51,
   "metadata": {},
   "outputs": [
    {
     "data": {
      "text/plain": [
       "0    2000\n",
       "dtype: int64"
      ]
     },
     "execution_count": 51,
     "metadata": {},
     "output_type": "execute_result"
    }
   ],
   "source": [
    "target_pred_constant = pd.Series([0]*len(target_valid))\n",
    "target_pred_constant.value_counts()"
   ]
  },
  {
   "cell_type": "code",
   "execution_count": 52,
   "metadata": {},
   "outputs": [
    {
     "name": "stdout",
     "output_type": "stream",
     "text": [
      "Accuracy_score для константой модели: 0.7885\n",
      "Accuracy_score для финальной модели: 0.82\n",
      "AUC-ROC для константой модели: 0.5\n",
      "AUC-ROC для финальной модели: 0.7690875484018943\n"
     ]
    }
   ],
   "source": [
    "#сравним\n",
    "print('Accuracy_score для константой модели:', accuracy_score(target_valid, target_pred_constant))\n",
    "print('Accuracy_score для финальной модели:', accuracy_score(target_valid, model_RFC_final_prediction))\n",
    "\n",
    "#дополнительно сравним AUC-ROC — единственный параметр подающийся сравнению, потому что константная подель содержит только негативные ответы\n",
    "print('AUC-ROC для константой модели:', roc_auc_score(target_valid, target_pred_constant))\n",
    "print('AUC-ROC для финальной модели:', roc_auc_score(target_valid, model_RFC_final_prediction))"
   ]
  },
  {
   "cell_type": "markdown",
   "metadata": {},
   "source": [
    "Финальная модель показывает результат лучше, чем константная, значит, ее можно считать адекватной."
   ]
  },
  {
   "cell_type": "markdown",
   "metadata": {},
   "source": [
    "### Выводы"
   ]
  },
  {
   "cell_type": "markdown",
   "metadata": {},
   "source": [
    "В данных наблюдался значительный дисбаланс (80% ответов целевого признака были негативными и только 20% позитивными), это приводило к тому, что обученные на этих данных модели характеризовались **значительной степенью ошибок и низким качеством взвешенной величины (F1)**.   \n",
    "\n",
    "Для устранения дисбаланса классов в обучающей выборке было опробовано два метода: уменьшение выборки (downsampling) и увеличение выборки (upsampling). В первом случае удволетворительные результаты получить не удалось. Поэтому **применили upsampling**- увеличили количество значений позитивного класса в 4 раза.   \n",
    "Достигли баланса классов обучеющей выборки: 1 = 0.498957, 0 = 0.501043.  \n",
    "\n",
    "\n",
    "Обученные **на новых данных  модели показали результаты лучше**, чем на несбалансированной выборке. Самые высокие показатели у модели случайного леса:  \n",
    "Полнота 0.5319148936170213  \n",
    "Точность 0.6637168141592921  \n",
    "F1-мера 0.5905511811023623  \n",
    "AUC-ROC 0.7298128684952575  \n",
    "\n",
    "\n",
    "Улучшение модели случайный лес происходило путем подбора наилучших гиперпараметров с помощью циклов.  \n",
    "\n",
    "**Финальные параметры выбранной модели** RandomForestClassifier(bootstrap = False, class_weight = 'balanced', max_depth= 9,  n_estimators = 44, random_state=12345).  \n",
    "\n",
    "**Результаты модели:**  \n",
    "Полнота 0.6808510638297872  \n",
    "Точность 0.5614035087719298  \n",
    "**F1-мера 0.6153846153846153**  \n",
    "AUC-ROC 0.7690875484018943  \n",
    "\n",
    "\n",
    "Для финальная модели была проведена проведена **успешная проверка на адекватность** (в сравнении с константной моделью):   \n",
    "Accuracy_score для константой модели: 0.7885  \n",
    "Accuracy_score для финальной модели: 0.82  \n",
    "AUC-ROC для константной модели: 0.5  \n",
    "AUC-ROC для финальной модели: 0.7690875484018943  "
   ]
  },
  {
   "cell_type": "markdown",
   "metadata": {},
   "source": [
    "## Тестирование модели"
   ]
  },
  {
   "cell_type": "code",
   "execution_count": 53,
   "metadata": {},
   "outputs": [
    {
     "name": "stdout",
     "output_type": "stream",
     "text": [
      "Полнота 0.6722488038277512\n",
      "Точность 0.5608782435129741\n",
      "F1-мера 0.6115342763873777\n",
      "AUC-ROC 0.7665921642400451\n"
     ]
    }
   ],
   "source": [
    "model_RFC_final\n",
    "model_RFC_final_prediction = model_RFC_final.predict(features_test)\n",
    "rec_prec_f1(target_test, model_RFC_final_prediction)"
   ]
  },
  {
   "cell_type": "code",
   "execution_count": 54,
   "metadata": {},
   "outputs": [
    {
     "data": {
      "image/png": "[encoded data removed]",
      "text/plain": [
       "<Figure size 432x288 with 1 Axes>"
      ]
     },
     "metadata": {
      "needs_background": "light"
     },
     "output_type": "display_data"
    }
   ],
   "source": [
    "final_model_probabilities_one = model_LgR.predict_proba(features_test)[:, 1]\n",
    "\n",
    "fpr, tpr, thresholds = roc_curve(target_test, final_model_probabilities_one) \n",
    "\n",
    "plt.figure()\n",
    "plt.plot(fpr, tpr)\n",
    "plt.plot([0, 1], [0, 1], linestyle='--')\n",
    "plt.xlim([0.0, 1.0])\n",
    "plt.ylim([0.0, 1.0])\n",
    "plt.xlabel('False Positive Rate')\n",
    "plt.ylabel('True Positive Rate')\n",
    "plt.title('ROC-кривая')\n",
    "plt.show()"
   ]
  },
  {
   "cell_type": "markdown",
   "metadata": {},
   "source": [
    "После тестирования финальная модель достигла заданой метрики (F1 > 0.59) и даже немного превысила ее.\n",
    "\n",
    "Показатель полноты = 0.672 (min = 0, max = 1), - модель с высокой вероятностью предскажит уход клиента из банка.\n",
    "Показатель точности не очень высокий = 0.56 (min = 0, max = 1) — модель верно предсказывает чуть больше половины ухода клиентов. AUC-ROC = 0.767, достаточно далеко от показателя случайной модели\n",
    "\n",
    "Для аналитики полученная модель поможет лучше определять килентов, которые могут уйти в ближайшее время. Важно отметить, что модель покрывает большое количество клиентов. Для улучшения можно использовать данные, которые отражают отношения клиента с банком в динамике."
   ]
  },
  {
   "cell_type": "markdown",
   "metadata": {},
   "source": [
    "## Чек-лист готовности проекта"
   ]
  },
  {
   "cell_type": "markdown",
   "metadata": {},
   "source": [
    "Поставьте 'x' в выполненных пунктах. Далее нажмите Shift+Enter."
   ]
  },
  {
   "cell_type": "markdown",
   "metadata": {},
   "source": [
    "- [x]  Jupyter Notebook открыт\n",
    "- [х]  Весь код выполняется без ошибок\n",
    "- [х]  Ячейки с кодом расположены в порядке исполнения\n",
    "- [х]  Выполнен шаг 1: данные подготовлены\n",
    "- [х]  Выполнен шаг 2: задача исследована\n",
    "    - [х]  Исследован баланс классов\n",
    "    - [х]  Изучены модели без учёта дисбаланса\n",
    "    - [х]  Написаны выводы по результатам исследования\n",
    "- [х]  Выполнен шаг 3: учтён дисбаланс\n",
    "    - [х]  Применено несколько способов борьбы с дисбалансом\n",
    "    - [х]  Написаны выводы по результатам исследования\n",
    "- [х]  Выполнен шаг 4: проведено тестирование\n",
    "- [х]  Удалось достичь *F1*-меры не менее 0.59\n",
    "- [х]  Исследована метрика *AUC-ROC*"
   ]
  },
  {
   "cell_type": "code",
   "execution_count": null,
   "metadata": {},
   "outputs": [],
   "source": []
  }
 ],
 "metadata": {
  "ExecuteTimeLog": [
   {
    "duration": 1511,
    "start_time": "2021-06-09T15:47:05.495Z"
   },
   {
    "duration": 40,
    "start_time": "2021-06-09T15:52:27.557Z"
   },
   {
    "duration": 85,
    "start_time": "2021-06-09T15:53:27.884Z"
   },
   {
    "duration": 13,
    "start_time": "2021-06-09T15:53:45.934Z"
   },
   {
    "duration": 15,
    "start_time": "2021-06-09T15:55:24.679Z"
   },
   {
    "duration": 20,
    "start_time": "2021-06-09T15:56:41.334Z"
   },
   {
    "duration": 26,
    "start_time": "2021-06-09T15:57:07.833Z"
   },
   {
    "duration": 24,
    "start_time": "2021-06-09T15:57:42.909Z"
   },
   {
    "duration": 14,
    "start_time": "2021-06-09T15:59:20.391Z"
   },
   {
    "duration": 6,
    "start_time": "2021-06-09T16:08:01.291Z"
   },
   {
    "duration": 5,
    "start_time": "2021-06-09T16:17:13.054Z"
   },
   {
    "duration": 13,
    "start_time": "2021-06-09T17:55:15.791Z"
   },
   {
    "duration": 20,
    "start_time": "2021-06-09T17:55:59.647Z"
   },
   {
    "duration": 430,
    "start_time": "2021-06-09T18:04:44.254Z"
   },
   {
    "duration": 1421,
    "start_time": "2021-06-09T18:08:33.019Z"
   },
   {
    "duration": 38,
    "start_time": "2021-06-09T18:08:34.443Z"
   },
   {
    "duration": 79,
    "start_time": "2021-06-09T18:08:34.484Z"
   },
   {
    "duration": 11,
    "start_time": "2021-06-09T18:08:34.565Z"
   },
   {
    "duration": 40,
    "start_time": "2021-06-09T18:08:34.579Z"
   },
   {
    "duration": 6,
    "start_time": "2021-06-09T18:08:34.621Z"
   },
   {
    "duration": 6,
    "start_time": "2021-06-09T18:08:34.630Z"
   },
   {
    "duration": 11,
    "start_time": "2021-06-09T18:08:34.640Z"
   },
   {
    "duration": 13,
    "start_time": "2021-06-09T18:08:34.653Z"
   },
   {
    "duration": 26,
    "start_time": "2021-06-09T18:08:34.709Z"
   },
   {
    "duration": 36,
    "start_time": "2021-06-09T18:10:39.310Z"
   },
   {
    "duration": 1534,
    "start_time": "2021-06-09T18:30:51.009Z"
   },
   {
    "duration": 37,
    "start_time": "2021-06-09T18:30:52.546Z"
   },
   {
    "duration": 77,
    "start_time": "2021-06-09T18:30:52.586Z"
   },
   {
    "duration": 11,
    "start_time": "2021-06-09T18:30:52.666Z"
   },
   {
    "duration": 30,
    "start_time": "2021-06-09T18:30:52.680Z"
   },
   {
    "duration": 9,
    "start_time": "2021-06-09T18:30:52.712Z"
   },
   {
    "duration": 6,
    "start_time": "2021-06-09T18:30:52.729Z"
   },
   {
    "duration": 11,
    "start_time": "2021-06-09T18:30:52.739Z"
   },
   {
    "duration": 71,
    "start_time": "2021-06-09T18:30:52.753Z"
   },
   {
    "duration": 6,
    "start_time": "2021-06-09T18:45:06.040Z"
   },
   {
    "duration": 12,
    "start_time": "2021-06-09T18:48:23.926Z"
   },
   {
    "duration": 7,
    "start_time": "2021-06-09T18:48:37.531Z"
   },
   {
    "duration": 6,
    "start_time": "2021-06-09T18:48:48.257Z"
   },
   {
    "duration": 461,
    "start_time": "2021-06-09T18:54:15.980Z"
   },
   {
    "duration": 1435,
    "start_time": "2021-06-09T18:56:31.192Z"
   },
   {
    "duration": 37,
    "start_time": "2021-06-09T18:56:32.629Z"
   },
   {
    "duration": 69,
    "start_time": "2021-06-09T18:56:32.669Z"
   },
   {
    "duration": 12,
    "start_time": "2021-06-09T18:56:32.741Z"
   },
   {
    "duration": 19,
    "start_time": "2021-06-09T18:56:32.755Z"
   },
   {
    "duration": 27,
    "start_time": "2021-06-09T18:56:32.777Z"
   },
   {
    "duration": 11,
    "start_time": "2021-06-09T18:56:32.806Z"
   },
   {
    "duration": 11,
    "start_time": "2021-06-09T18:56:32.821Z"
   },
   {
    "duration": 30,
    "start_time": "2021-06-09T18:56:32.834Z"
   },
   {
    "duration": 37,
    "start_time": "2021-06-09T18:56:32.867Z"
   },
   {
    "duration": 18,
    "start_time": "2021-06-09T18:56:32.907Z"
   },
   {
    "duration": 21,
    "start_time": "2021-06-09T18:58:46.369Z"
   },
   {
    "duration": 8,
    "start_time": "2021-06-09T19:01:24.567Z"
   },
   {
    "duration": 4,
    "start_time": "2021-06-09T19:12:27.392Z"
   },
   {
    "duration": 12,
    "start_time": "2021-06-09T19:14:20.698Z"
   },
   {
    "duration": 40,
    "start_time": "2021-06-09T19:15:24.682Z"
   },
   {
    "duration": 16,
    "start_time": "2021-06-09T19:15:38.063Z"
   },
   {
    "duration": 25,
    "start_time": "2021-06-09T19:17:06.892Z"
   },
   {
    "duration": 16,
    "start_time": "2021-06-09T19:21:10.399Z"
   },
   {
    "duration": 16,
    "start_time": "2021-06-09T19:22:06.395Z"
   },
   {
    "duration": 13,
    "start_time": "2021-06-09T19:24:19.308Z"
   },
   {
    "duration": 1473,
    "start_time": "2021-06-09T19:24:47.862Z"
   },
   {
    "duration": 42,
    "start_time": "2021-06-09T19:24:49.338Z"
   },
   {
    "duration": 74,
    "start_time": "2021-06-09T19:24:49.383Z"
   },
   {
    "duration": 12,
    "start_time": "2021-06-09T19:24:49.461Z"
   },
   {
    "duration": 37,
    "start_time": "2021-06-09T19:24:49.476Z"
   },
   {
    "duration": 7,
    "start_time": "2021-06-09T19:24:49.515Z"
   },
   {
    "duration": 7,
    "start_time": "2021-06-09T19:24:49.524Z"
   },
   {
    "duration": 16,
    "start_time": "2021-06-09T19:24:49.534Z"
   },
   {
    "duration": 53,
    "start_time": "2021-06-09T19:24:49.553Z"
   },
   {
    "duration": 39,
    "start_time": "2021-06-09T19:24:49.609Z"
   },
   {
    "duration": 11,
    "start_time": "2021-06-09T19:24:49.651Z"
   },
   {
    "duration": 23,
    "start_time": "2021-06-09T19:24:49.701Z"
   },
   {
    "duration": 10,
    "start_time": "2021-06-09T19:24:49.728Z"
   },
   {
    "duration": 18,
    "start_time": "2021-06-09T19:24:49.742Z"
   },
   {
    "duration": 6,
    "start_time": "2021-06-09T19:25:12.286Z"
   },
   {
    "duration": 404,
    "start_time": "2021-06-09T19:26:24.879Z"
   },
   {
    "duration": 9,
    "start_time": "2021-06-09T19:28:14.773Z"
   },
   {
    "duration": 270,
    "start_time": "2021-06-09T19:31:55.220Z"
   },
   {
    "duration": 12,
    "start_time": "2021-06-09T19:32:06.682Z"
   },
   {
    "duration": 44,
    "start_time": "2021-06-09T19:33:39.379Z"
   },
   {
    "duration": 98,
    "start_time": "2021-06-09T19:38:42.238Z"
   },
   {
    "duration": 33,
    "start_time": "2021-06-09T19:40:49.329Z"
   },
   {
    "duration": 28,
    "start_time": "2021-06-09T19:42:09.641Z"
   },
   {
    "duration": 14,
    "start_time": "2021-06-09T19:54:48.102Z"
   },
   {
    "duration": 14,
    "start_time": "2021-06-09T19:54:59.708Z"
   },
   {
    "duration": 27,
    "start_time": "2021-06-09T19:55:10.591Z"
   },
   {
    "duration": 26,
    "start_time": "2021-06-09T19:55:39.122Z"
   },
   {
    "duration": 27,
    "start_time": "2021-06-09T19:56:30.865Z"
   },
   {
    "duration": 30,
    "start_time": "2021-06-09T19:56:47.256Z"
   },
   {
    "duration": 27,
    "start_time": "2021-06-09T19:56:48.333Z"
   },
   {
    "duration": 27,
    "start_time": "2021-06-09T19:56:49.096Z"
   },
   {
    "duration": 1387,
    "start_time": "2021-06-09T19:57:59.744Z"
   },
   {
    "duration": 38,
    "start_time": "2021-06-09T19:58:01.134Z"
   },
   {
    "duration": 70,
    "start_time": "2021-06-09T19:58:01.175Z"
   },
   {
    "duration": 13,
    "start_time": "2021-06-09T19:58:01.248Z"
   },
   {
    "duration": 39,
    "start_time": "2021-06-09T19:58:01.264Z"
   },
   {
    "duration": 6,
    "start_time": "2021-06-09T19:58:01.306Z"
   },
   {
    "duration": 12,
    "start_time": "2021-06-09T19:58:01.315Z"
   },
   {
    "duration": 14,
    "start_time": "2021-06-09T19:58:01.330Z"
   },
   {
    "duration": 57,
    "start_time": "2021-06-09T19:58:01.348Z"
   },
   {
    "duration": 6,
    "start_time": "2021-06-09T19:58:01.408Z"
   },
   {
    "duration": 23,
    "start_time": "2021-06-09T19:58:01.416Z"
   },
   {
    "duration": 7,
    "start_time": "2021-06-09T19:58:01.441Z"
   },
   {
    "duration": 50,
    "start_time": "2021-06-09T19:58:01.450Z"
   },
   {
    "duration": 9,
    "start_time": "2021-06-09T19:58:01.503Z"
   },
   {
    "duration": 36,
    "start_time": "2021-06-09T19:58:01.514Z"
   },
   {
    "duration": 52,
    "start_time": "2021-06-09T19:58:01.553Z"
   },
   {
    "duration": 29,
    "start_time": "2021-06-09T19:58:01.608Z"
   },
   {
    "duration": 1425,
    "start_time": "2021-06-09T19:59:53.381Z"
   },
   {
    "duration": 35,
    "start_time": "2021-06-09T19:59:54.809Z"
   },
   {
    "duration": 67,
    "start_time": "2021-06-09T19:59:54.847Z"
   },
   {
    "duration": 11,
    "start_time": "2021-06-09T19:59:54.917Z"
   },
   {
    "duration": 16,
    "start_time": "2021-06-09T19:59:54.930Z"
   },
   {
    "duration": 5,
    "start_time": "2021-06-09T19:59:54.948Z"
   },
   {
    "duration": 7,
    "start_time": "2021-06-09T19:59:54.956Z"
   },
   {
    "duration": 12,
    "start_time": "2021-06-09T19:59:55.000Z"
   },
   {
    "duration": 31,
    "start_time": "2021-06-09T19:59:55.016Z"
   },
   {
    "duration": 7,
    "start_time": "2021-06-09T19:59:55.049Z"
   },
   {
    "duration": 50,
    "start_time": "2021-06-09T19:59:55.059Z"
   },
   {
    "duration": 7,
    "start_time": "2021-06-09T19:59:55.112Z"
   },
   {
    "duration": 17,
    "start_time": "2021-06-09T19:59:55.121Z"
   },
   {
    "duration": 12,
    "start_time": "2021-06-09T19:59:55.140Z"
   },
   {
    "duration": 76,
    "start_time": "2021-06-09T19:59:55.154Z"
   },
   {
    "duration": 29,
    "start_time": "2021-06-09T19:59:55.232Z"
   },
   {
    "duration": 51,
    "start_time": "2021-06-09T19:59:55.263Z"
   },
   {
    "duration": 108,
    "start_time": "2021-06-09T20:14:29.996Z"
   },
   {
    "duration": 86,
    "start_time": "2021-06-09T20:14:51.721Z"
   },
   {
    "duration": 5,
    "start_time": "2021-06-09T20:14:59.016Z"
   },
   {
    "duration": 5,
    "start_time": "2021-06-09T20:15:15.625Z"
   },
   {
    "duration": 6,
    "start_time": "2021-06-09T20:16:19.580Z"
   },
   {
    "duration": 788,
    "start_time": "2021-06-09T20:16:31.021Z"
   },
   {
    "duration": 6,
    "start_time": "2021-06-09T20:17:27.493Z"
   },
   {
    "duration": 588,
    "start_time": "2021-06-09T20:17:28.511Z"
   },
   {
    "duration": 1378,
    "start_time": "2021-06-09T20:18:19.936Z"
   },
   {
    "duration": 37,
    "start_time": "2021-06-09T20:18:21.317Z"
   },
   {
    "duration": 70,
    "start_time": "2021-06-09T20:18:21.357Z"
   },
   {
    "duration": 12,
    "start_time": "2021-06-09T20:18:21.429Z"
   },
   {
    "duration": 15,
    "start_time": "2021-06-09T20:18:21.443Z"
   },
   {
    "duration": 5,
    "start_time": "2021-06-09T20:18:21.460Z"
   },
   {
    "duration": 37,
    "start_time": "2021-06-09T20:18:21.467Z"
   },
   {
    "duration": 13,
    "start_time": "2021-06-09T20:18:21.508Z"
   },
   {
    "duration": 30,
    "start_time": "2021-06-09T20:18:21.524Z"
   },
   {
    "duration": 7,
    "start_time": "2021-06-09T20:18:21.556Z"
   },
   {
    "duration": 20,
    "start_time": "2021-06-09T20:18:21.601Z"
   },
   {
    "duration": 5,
    "start_time": "2021-06-09T20:18:21.624Z"
   },
   {
    "duration": 16,
    "start_time": "2021-06-09T20:18:21.632Z"
   },
   {
    "duration": 9,
    "start_time": "2021-06-09T20:18:21.650Z"
   },
   {
    "duration": 32,
    "start_time": "2021-06-09T20:18:21.700Z"
   },
   {
    "duration": 27,
    "start_time": "2021-06-09T20:18:21.735Z"
   },
   {
    "duration": 51,
    "start_time": "2021-06-09T20:18:21.764Z"
   },
   {
    "duration": 6,
    "start_time": "2021-06-09T20:18:21.818Z"
   },
   {
    "duration": 504,
    "start_time": "2021-06-09T20:18:21.827Z"
   },
   {
    "duration": 6,
    "start_time": "2021-06-09T20:19:45.158Z"
   },
   {
    "duration": 656,
    "start_time": "2021-06-09T20:19:46.384Z"
   },
   {
    "duration": 6,
    "start_time": "2021-06-09T20:20:45.421Z"
   },
   {
    "duration": 469,
    "start_time": "2021-06-09T20:20:46.058Z"
   },
   {
    "duration": 4,
    "start_time": "2021-06-09T20:22:34.668Z"
   },
   {
    "duration": 1404,
    "start_time": "2021-06-09T20:22:43.113Z"
   },
   {
    "duration": 36,
    "start_time": "2021-06-09T20:22:44.520Z"
   },
   {
    "duration": 73,
    "start_time": "2021-06-09T20:22:44.563Z"
   },
   {
    "duration": 13,
    "start_time": "2021-06-09T20:22:44.638Z"
   },
   {
    "duration": 15,
    "start_time": "2021-06-09T20:22:44.653Z"
   },
   {
    "duration": 31,
    "start_time": "2021-06-09T20:22:44.671Z"
   },
   {
    "duration": 7,
    "start_time": "2021-06-09T20:22:44.705Z"
   },
   {
    "duration": 11,
    "start_time": "2021-06-09T20:22:44.716Z"
   },
   {
    "duration": 30,
    "start_time": "2021-06-09T20:22:44.730Z"
   },
   {
    "duration": 43,
    "start_time": "2021-06-09T20:22:44.763Z"
   },
   {
    "duration": 17,
    "start_time": "2021-06-09T20:22:44.809Z"
   },
   {
    "duration": 7,
    "start_time": "2021-06-09T20:22:44.829Z"
   },
   {
    "duration": 3,
    "start_time": "2021-06-09T20:22:44.839Z"
   },
   {
    "duration": 8,
    "start_time": "2021-06-09T20:22:44.845Z"
   },
   {
    "duration": 69,
    "start_time": "2021-06-09T20:22:44.856Z"
   },
   {
    "duration": 23,
    "start_time": "2021-06-09T20:22:44.928Z"
   },
   {
    "duration": 56,
    "start_time": "2021-06-09T20:22:44.954Z"
   },
   {
    "duration": 6,
    "start_time": "2021-06-09T20:22:45.012Z"
   },
   {
    "duration": 579,
    "start_time": "2021-06-09T20:22:45.021Z"
   },
   {
    "duration": 6,
    "start_time": "2021-06-09T20:25:30.046Z"
   },
   {
    "duration": 692,
    "start_time": "2021-06-09T20:25:31.043Z"
   },
   {
    "duration": 14,
    "start_time": "2021-06-09T20:27:31.662Z"
   },
   {
    "duration": 9,
    "start_time": "2021-06-09T20:28:44.734Z"
   },
   {
    "duration": 8,
    "start_time": "2021-06-09T20:29:13.390Z"
   },
   {
    "duration": 16,
    "start_time": "2021-06-09T21:00:05.778Z"
   },
   {
    "duration": 17,
    "start_time": "2021-06-09T21:00:55.025Z"
   },
   {
    "duration": 290,
    "start_time": "2021-06-09T21:03:32.192Z"
   },
   {
    "duration": 87,
    "start_time": "2021-06-09T21:04:44.615Z"
   },
   {
    "duration": 1371,
    "start_time": "2021-06-09T21:12:29.225Z"
   },
   {
    "duration": 39,
    "start_time": "2021-06-09T21:12:30.600Z"
   },
   {
    "duration": 74,
    "start_time": "2021-06-09T21:12:30.643Z"
   },
   {
    "duration": 12,
    "start_time": "2021-06-09T21:12:30.720Z"
   },
   {
    "duration": 16,
    "start_time": "2021-06-09T21:12:30.735Z"
   },
   {
    "duration": 7,
    "start_time": "2021-06-09T21:12:30.753Z"
   },
   {
    "duration": 41,
    "start_time": "2021-06-09T21:12:30.762Z"
   },
   {
    "duration": 19,
    "start_time": "2021-06-09T21:12:30.807Z"
   },
   {
    "duration": 33,
    "start_time": "2021-06-09T21:12:30.829Z"
   },
   {
    "duration": 6,
    "start_time": "2021-06-09T21:12:30.865Z"
   },
   {
    "duration": 43,
    "start_time": "2021-06-09T21:12:30.874Z"
   },
   {
    "duration": 7,
    "start_time": "2021-06-09T21:12:30.920Z"
   },
   {
    "duration": 7,
    "start_time": "2021-06-09T21:12:30.930Z"
   },
   {
    "duration": 18,
    "start_time": "2021-06-09T21:12:30.940Z"
   },
   {
    "duration": 61,
    "start_time": "2021-06-09T21:12:30.961Z"
   },
   {
    "duration": 28,
    "start_time": "2021-06-09T21:12:31.024Z"
   },
   {
    "duration": 59,
    "start_time": "2021-06-09T21:12:31.054Z"
   },
   {
    "duration": 48,
    "start_time": "2021-06-09T21:12:31.116Z"
   },
   {
    "duration": 4,
    "start_time": "2021-06-09T21:12:31.167Z"
   },
   {
    "duration": 38,
    "start_time": "2021-06-09T21:12:31.173Z"
   },
   {
    "duration": 9,
    "start_time": "2021-06-09T21:12:31.214Z"
   },
   {
    "duration": 12,
    "start_time": "2021-06-09T21:12:31.226Z"
   },
   {
    "duration": 19,
    "start_time": "2021-06-09T21:13:24.724Z"
   },
   {
    "duration": 30,
    "start_time": "2021-06-09T21:15:02.009Z"
   },
   {
    "duration": 1364,
    "start_time": "2021-06-09T21:24:00.138Z"
   },
   {
    "duration": 37,
    "start_time": "2021-06-09T21:24:01.506Z"
   },
   {
    "duration": 70,
    "start_time": "2021-06-09T21:24:01.546Z"
   },
   {
    "duration": 11,
    "start_time": "2021-06-09T21:24:01.619Z"
   },
   {
    "duration": 28,
    "start_time": "2021-06-09T21:24:01.633Z"
   },
   {
    "duration": 6,
    "start_time": "2021-06-09T21:24:01.663Z"
   },
   {
    "duration": 30,
    "start_time": "2021-06-09T21:24:01.671Z"
   },
   {
    "duration": 13,
    "start_time": "2021-06-09T21:24:01.705Z"
   },
   {
    "duration": 37,
    "start_time": "2021-06-09T21:24:01.721Z"
   },
   {
    "duration": 8,
    "start_time": "2021-06-09T21:24:01.760Z"
   },
   {
    "duration": 32,
    "start_time": "2021-06-09T21:24:01.770Z"
   },
   {
    "duration": 21,
    "start_time": "2021-06-09T21:24:01.804Z"
   },
   {
    "duration": 22,
    "start_time": "2021-06-09T21:24:01.828Z"
   },
   {
    "duration": 7,
    "start_time": "2021-06-09T21:24:01.852Z"
   },
   {
    "duration": 39,
    "start_time": "2021-06-09T21:24:01.861Z"
   },
   {
    "duration": 18,
    "start_time": "2021-06-09T21:24:01.903Z"
   },
   {
    "duration": 32,
    "start_time": "2021-06-09T21:24:01.923Z"
   },
   {
    "duration": 52,
    "start_time": "2021-06-09T21:24:01.958Z"
   },
   {
    "duration": 26,
    "start_time": "2021-06-09T21:24:02.012Z"
   },
   {
    "duration": 70,
    "start_time": "2021-06-09T21:24:02.041Z"
   },
   {
    "duration": 4,
    "start_time": "2021-06-09T21:24:02.114Z"
   },
   {
    "duration": 25,
    "start_time": "2021-06-09T21:24:02.121Z"
   },
   {
    "duration": 9,
    "start_time": "2021-06-09T21:24:02.150Z"
   },
   {
    "duration": 13,
    "start_time": "2021-06-09T21:24:02.162Z"
   },
   {
    "duration": 40,
    "start_time": "2021-06-09T21:24:02.178Z"
   },
   {
    "duration": -766,
    "start_time": "2021-06-09T21:27:53.784Z"
   },
   {
    "duration": -773,
    "start_time": "2021-06-09T21:27:53.793Z"
   },
   {
    "duration": -780,
    "start_time": "2021-06-09T21:27:53.801Z"
   },
   {
    "duration": -786,
    "start_time": "2021-06-09T21:27:53.808Z"
   },
   {
    "duration": -792,
    "start_time": "2021-06-09T21:27:53.816Z"
   },
   {
    "duration": -800,
    "start_time": "2021-06-09T21:27:53.825Z"
   },
   {
    "duration": -828,
    "start_time": "2021-06-09T21:27:53.854Z"
   },
   {
    "duration": -839,
    "start_time": "2021-06-09T21:27:53.866Z"
   },
   {
    "duration": -863,
    "start_time": "2021-06-09T21:27:53.892Z"
   },
   {
    "duration": -871,
    "start_time": "2021-06-09T21:27:53.901Z"
   },
   {
    "duration": -875,
    "start_time": "2021-06-09T21:27:53.907Z"
   },
   {
    "duration": -881,
    "start_time": "2021-06-09T21:27:53.914Z"
   },
   {
    "duration": -887,
    "start_time": "2021-06-09T21:27:53.921Z"
   },
   {
    "duration": -892,
    "start_time": "2021-06-09T21:27:53.928Z"
   },
   {
    "duration": -898,
    "start_time": "2021-06-09T21:27:53.935Z"
   },
   {
    "duration": -906,
    "start_time": "2021-06-09T21:27:53.944Z"
   },
   {
    "duration": -912,
    "start_time": "2021-06-09T21:27:53.951Z"
   },
   {
    "duration": -919,
    "start_time": "2021-06-09T21:27:53.960Z"
   },
   {
    "duration": -865,
    "start_time": "2021-06-09T21:27:53.966Z"
   },
   {
    "duration": -871,
    "start_time": "2021-06-09T21:27:53.973Z"
   },
   {
    "duration": -877,
    "start_time": "2021-06-09T21:27:53.980Z"
   },
   {
    "duration": -896,
    "start_time": "2021-06-09T21:27:54.001Z"
   },
   {
    "duration": -902,
    "start_time": "2021-06-09T21:27:54.008Z"
   },
   {
    "duration": -908,
    "start_time": "2021-06-09T21:27:54.016Z"
   },
   {
    "duration": -913,
    "start_time": "2021-06-09T21:27:54.022Z"
   },
   {
    "duration": -921,
    "start_time": "2021-06-09T21:27:54.031Z"
   },
   {
    "duration": -925,
    "start_time": "2021-06-09T21:27:54.036Z"
   },
   {
    "duration": 1664,
    "start_time": "2021-06-09T21:28:11.330Z"
   },
   {
    "duration": 45,
    "start_time": "2021-06-09T21:28:12.997Z"
   },
   {
    "duration": 90,
    "start_time": "2021-06-09T21:28:13.046Z"
   },
   {
    "duration": 15,
    "start_time": "2021-06-09T21:28:13.139Z"
   },
   {
    "duration": 16,
    "start_time": "2021-06-09T21:28:13.156Z"
   },
   {
    "duration": 30,
    "start_time": "2021-06-09T21:28:13.174Z"
   },
   {
    "duration": 9,
    "start_time": "2021-06-09T21:28:13.206Z"
   },
   {
    "duration": 12,
    "start_time": "2021-06-09T21:28:13.219Z"
   },
   {
    "duration": 32,
    "start_time": "2021-06-09T21:28:13.234Z"
   },
   {
    "duration": 36,
    "start_time": "2021-06-09T21:28:13.268Z"
   },
   {
    "duration": 6,
    "start_time": "2021-06-09T21:28:13.307Z"
   },
   {
    "duration": 16,
    "start_time": "2021-06-09T21:28:13.315Z"
   },
   {
    "duration": 6,
    "start_time": "2021-06-09T21:28:13.333Z"
   },
   {
    "duration": 394,
    "start_time": "2021-06-09T21:28:13.342Z"
   },
   {
    "duration": -890,
    "start_time": "2021-06-09T21:28:14.629Z"
   },
   {
    "duration": -896,
    "start_time": "2021-06-09T21:28:14.637Z"
   },
   {
    "duration": -902,
    "start_time": "2021-06-09T21:28:14.645Z"
   },
   {
    "duration": -906,
    "start_time": "2021-06-09T21:28:14.651Z"
   },
   {
    "duration": -912,
    "start_time": "2021-06-09T21:28:14.659Z"
   },
   {
    "duration": -917,
    "start_time": "2021-06-09T21:28:14.666Z"
   },
   {
    "duration": -923,
    "start_time": "2021-06-09T21:28:14.674Z"
   },
   {
    "duration": -926,
    "start_time": "2021-06-09T21:28:14.679Z"
   },
   {
    "duration": -929,
    "start_time": "2021-06-09T21:28:14.685Z"
   },
   {
    "duration": -934,
    "start_time": "2021-06-09T21:28:14.692Z"
   },
   {
    "duration": -938,
    "start_time": "2021-06-09T21:28:14.698Z"
   },
   {
    "duration": -944,
    "start_time": "2021-06-09T21:28:14.706Z"
   },
   {
    "duration": -948,
    "start_time": "2021-06-09T21:28:14.712Z"
   },
   {
    "duration": 525,
    "start_time": "2021-06-09T21:29:06.569Z"
   },
   {
    "duration": 1397,
    "start_time": "2021-06-09T21:29:51.663Z"
   },
   {
    "duration": 38,
    "start_time": "2021-06-09T21:29:53.063Z"
   },
   {
    "duration": 61,
    "start_time": "2021-06-09T21:29:53.104Z"
   },
   {
    "duration": 11,
    "start_time": "2021-06-09T21:29:53.167Z"
   },
   {
    "duration": 15,
    "start_time": "2021-06-09T21:29:53.200Z"
   },
   {
    "duration": 5,
    "start_time": "2021-06-09T21:29:53.218Z"
   },
   {
    "duration": 7,
    "start_time": "2021-06-09T21:29:53.226Z"
   },
   {
    "duration": 11,
    "start_time": "2021-06-09T21:29:53.236Z"
   },
   {
    "duration": 71,
    "start_time": "2021-06-09T21:29:53.250Z"
   },
   {
    "duration": 7,
    "start_time": "2021-06-09T21:29:53.323Z"
   },
   {
    "duration": 7,
    "start_time": "2021-06-09T21:29:53.332Z"
   },
   {
    "duration": 14,
    "start_time": "2021-06-09T21:29:53.342Z"
   },
   {
    "duration": 43,
    "start_time": "2021-06-09T21:29:53.358Z"
   },
   {
    "duration": 20,
    "start_time": "2021-06-09T21:29:53.403Z"
   },
   {
    "duration": 4,
    "start_time": "2021-06-09T21:29:53.425Z"
   },
   {
    "duration": 11,
    "start_time": "2021-06-09T21:29:53.431Z"
   },
   {
    "duration": 6,
    "start_time": "2021-06-09T21:29:53.444Z"
   },
   {
    "duration": 12,
    "start_time": "2021-06-09T21:29:53.453Z"
   },
   {
    "duration": 53,
    "start_time": "2021-06-09T21:29:53.468Z"
   },
   {
    "duration": 24,
    "start_time": "2021-06-09T21:29:53.523Z"
   },
   {
    "duration": 51,
    "start_time": "2021-06-09T21:29:53.550Z"
   },
   {
    "duration": 42,
    "start_time": "2021-06-09T21:29:53.604Z"
   },
   {
    "duration": 4,
    "start_time": "2021-06-09T21:29:53.650Z"
   },
   {
    "duration": 20,
    "start_time": "2021-06-09T21:29:53.656Z"
   },
   {
    "duration": 23,
    "start_time": "2021-06-09T21:29:53.678Z"
   },
   {
    "duration": 9,
    "start_time": "2021-06-09T21:29:53.704Z"
   },
   {
    "duration": 53,
    "start_time": "2021-06-09T21:29:53.715Z"
   },
   {
    "duration": 1388,
    "start_time": "2021-06-09T21:33:34.912Z"
   },
   {
    "duration": 39,
    "start_time": "2021-06-09T21:33:36.304Z"
   },
   {
    "duration": 76,
    "start_time": "2021-06-09T21:33:36.345Z"
   },
   {
    "duration": 12,
    "start_time": "2021-06-09T21:33:36.425Z"
   },
   {
    "duration": 18,
    "start_time": "2021-06-09T21:33:36.439Z"
   },
   {
    "duration": 6,
    "start_time": "2021-06-09T21:33:36.459Z"
   },
   {
    "duration": 36,
    "start_time": "2021-06-09T21:33:36.468Z"
   },
   {
    "duration": 11,
    "start_time": "2021-06-09T21:33:36.508Z"
   },
   {
    "duration": 34,
    "start_time": "2021-06-09T21:33:36.523Z"
   },
   {
    "duration": 45,
    "start_time": "2021-06-09T21:33:36.559Z"
   },
   {
    "duration": 6,
    "start_time": "2021-06-09T21:33:36.607Z"
   },
   {
    "duration": 18,
    "start_time": "2021-06-09T21:33:36.615Z"
   },
   {
    "duration": 4,
    "start_time": "2021-06-09T21:33:36.636Z"
   },
   {
    "duration": 17,
    "start_time": "2021-06-09T21:33:36.642Z"
   },
   {
    "duration": 40,
    "start_time": "2021-06-09T21:33:36.661Z"
   },
   {
    "duration": 6,
    "start_time": "2021-06-09T21:33:36.704Z"
   },
   {
    "duration": 9,
    "start_time": "2021-06-09T21:33:36.712Z"
   },
   {
    "duration": 15,
    "start_time": "2021-06-09T21:33:36.723Z"
   },
   {
    "duration": 29,
    "start_time": "2021-06-09T21:33:36.741Z"
   },
   {
    "duration": 26,
    "start_time": "2021-06-09T21:33:36.801Z"
   },
   {
    "duration": 25,
    "start_time": "2021-06-09T21:33:36.829Z"
   },
   {
    "duration": 80,
    "start_time": "2021-06-09T21:33:36.857Z"
   },
   {
    "duration": 5,
    "start_time": "2021-06-09T21:33:36.942Z"
   },
   {
    "duration": 12,
    "start_time": "2021-06-09T21:33:36.950Z"
   },
   {
    "duration": 8,
    "start_time": "2021-06-09T21:33:36.964Z"
   },
   {
    "duration": 31,
    "start_time": "2021-06-09T21:33:36.975Z"
   },
   {
    "duration": 51,
    "start_time": "2021-06-09T21:33:37.008Z"
   },
   {
    "duration": 1399,
    "start_time": "2021-06-09T21:37:48.982Z"
   },
   {
    "duration": 36,
    "start_time": "2021-06-09T21:37:50.384Z"
   },
   {
    "duration": 60,
    "start_time": "2021-06-09T21:37:50.423Z"
   },
   {
    "duration": 12,
    "start_time": "2021-06-09T21:37:50.501Z"
   },
   {
    "duration": 16,
    "start_time": "2021-06-09T21:37:50.515Z"
   },
   {
    "duration": 5,
    "start_time": "2021-06-09T21:37:50.534Z"
   },
   {
    "duration": 10,
    "start_time": "2021-06-09T21:37:50.541Z"
   },
   {
    "duration": 48,
    "start_time": "2021-06-09T21:37:50.555Z"
   },
   {
    "duration": 31,
    "start_time": "2021-06-09T21:37:50.606Z"
   },
   {
    "duration": 6,
    "start_time": "2021-06-09T21:37:50.640Z"
   },
   {
    "duration": 10,
    "start_time": "2021-06-09T21:37:50.648Z"
   },
   {
    "duration": 48,
    "start_time": "2021-06-09T21:37:50.661Z"
   },
   {
    "duration": 5,
    "start_time": "2021-06-09T21:37:50.711Z"
   },
   {
    "duration": 17,
    "start_time": "2021-06-09T21:37:50.719Z"
   },
   {
    "duration": 6,
    "start_time": "2021-06-09T21:37:50.739Z"
   },
   {
    "duration": 12,
    "start_time": "2021-06-09T21:37:50.748Z"
   },
   {
    "duration": 13,
    "start_time": "2021-06-09T21:37:50.763Z"
   },
   {
    "duration": 30,
    "start_time": "2021-06-09T21:37:50.778Z"
   },
   {
    "duration": 29,
    "start_time": "2021-06-09T21:37:50.810Z"
   },
   {
    "duration": 26,
    "start_time": "2021-06-09T21:37:50.842Z"
   },
   {
    "duration": 27,
    "start_time": "2021-06-09T21:37:50.902Z"
   },
   {
    "duration": 70,
    "start_time": "2021-06-09T21:37:50.931Z"
   },
   {
    "duration": 5,
    "start_time": "2021-06-09T21:37:51.005Z"
   },
   {
    "duration": 20,
    "start_time": "2021-06-09T21:37:51.013Z"
   },
   {
    "duration": 13,
    "start_time": "2021-06-09T21:37:51.035Z"
   },
   {
    "duration": 16,
    "start_time": "2021-06-09T21:37:51.050Z"
   },
   {
    "duration": 69,
    "start_time": "2021-06-09T21:37:51.069Z"
   },
   {
    "duration": 1366,
    "start_time": "2021-06-09T21:45:20.724Z"
   },
   {
    "duration": 37,
    "start_time": "2021-06-09T21:45:23.481Z"
   },
   {
    "duration": 66,
    "start_time": "2021-06-09T21:45:24.164Z"
   },
   {
    "duration": 14,
    "start_time": "2021-06-09T21:45:25.004Z"
   },
   {
    "duration": 18,
    "start_time": "2021-06-09T21:45:27.186Z"
   },
   {
    "duration": 6,
    "start_time": "2021-06-09T21:45:28.290Z"
   },
   {
    "duration": 5,
    "start_time": "2021-06-09T21:45:30.265Z"
   },
   {
    "duration": 10,
    "start_time": "2021-06-09T21:45:30.819Z"
   },
   {
    "duration": 32,
    "start_time": "2021-06-09T21:45:32.380Z"
   },
   {
    "duration": 9,
    "start_time": "2021-06-09T21:45:36.450Z"
   },
   {
    "duration": 7,
    "start_time": "2021-06-09T21:45:37.588Z"
   },
   {
    "duration": 16,
    "start_time": "2021-06-09T21:45:38.573Z"
   },
   {
    "duration": 21,
    "start_time": "2021-06-09T21:45:44.650Z"
   },
   {
    "duration": 6,
    "start_time": "2021-06-09T21:45:46.893Z"
   },
   {
    "duration": 21,
    "start_time": "2021-06-09T21:46:10.635Z"
   },
   {
    "duration": 7,
    "start_time": "2021-06-09T21:46:13.171Z"
   },
   {
    "duration": 13,
    "start_time": "2021-06-09T21:46:27.299Z"
   },
   {
    "duration": 5,
    "start_time": "2021-06-09T21:46:27.850Z"
   },
   {
    "duration": 3,
    "start_time": "2021-06-09T21:47:08.458Z"
   },
   {
    "duration": 12,
    "start_time": "2021-06-09T21:47:09.518Z"
   },
   {
    "duration": 33,
    "start_time": "2021-06-09T21:47:10.466Z"
   },
   {
    "duration": 29,
    "start_time": "2021-06-09T21:47:11.365Z"
   },
   {
    "duration": 26,
    "start_time": "2021-06-09T21:47:12.179Z"
   },
   {
    "duration": 45,
    "start_time": "2021-06-09T21:47:14.050Z"
   },
   {
    "duration": 5,
    "start_time": "2021-06-09T21:47:14.727Z"
   },
   {
    "duration": 15,
    "start_time": "2021-06-09T21:47:16.234Z"
   },
   {
    "duration": 8,
    "start_time": "2021-06-09T21:47:17.161Z"
   },
   {
    "duration": 8,
    "start_time": "2021-06-09T21:47:17.958Z"
   },
   {
    "duration": 20,
    "start_time": "2021-06-09T21:47:20.061Z"
   },
   {
    "duration": 1486,
    "start_time": "2021-06-09T21:47:55.071Z"
   },
   {
    "duration": 36,
    "start_time": "2021-06-09T21:47:56.560Z"
   },
   {
    "duration": 64,
    "start_time": "2021-06-09T21:47:56.600Z"
   },
   {
    "duration": 12,
    "start_time": "2021-06-09T21:47:56.666Z"
   },
   {
    "duration": 15,
    "start_time": "2021-06-09T21:47:56.701Z"
   },
   {
    "duration": 5,
    "start_time": "2021-06-09T21:47:56.719Z"
   },
   {
    "duration": 8,
    "start_time": "2021-06-09T21:47:56.727Z"
   },
   {
    "duration": 10,
    "start_time": "2021-06-09T21:47:56.739Z"
   },
   {
    "duration": 31,
    "start_time": "2021-06-09T21:47:56.752Z"
   },
   {
    "duration": 6,
    "start_time": "2021-06-09T21:47:56.785Z"
   },
   {
    "duration": 5,
    "start_time": "2021-06-09T21:47:56.801Z"
   },
   {
    "duration": 15,
    "start_time": "2021-06-09T21:47:56.809Z"
   },
   {
    "duration": 6,
    "start_time": "2021-06-09T21:47:56.826Z"
   },
   {
    "duration": 15,
    "start_time": "2021-06-09T21:47:56.834Z"
   },
   {
    "duration": 8,
    "start_time": "2021-06-09T21:47:56.851Z"
   },
   {
    "duration": 13,
    "start_time": "2021-06-09T21:47:56.861Z"
   },
   {
    "duration": 13,
    "start_time": "2021-06-09T21:47:56.876Z"
   },
   {
    "duration": 29,
    "start_time": "2021-06-09T21:47:56.891Z"
   },
   {
    "duration": 26,
    "start_time": "2021-06-09T21:47:56.922Z"
   },
   {
    "duration": 23,
    "start_time": "2021-06-09T21:47:56.951Z"
   },
   {
    "duration": 58,
    "start_time": "2021-06-09T21:47:56.976Z"
   },
   {
    "duration": 4,
    "start_time": "2021-06-09T21:47:57.037Z"
   },
   {
    "duration": 11,
    "start_time": "2021-06-09T21:47:57.045Z"
   },
   {
    "duration": 7,
    "start_time": "2021-06-09T21:47:57.059Z"
   },
   {
    "duration": 15,
    "start_time": "2021-06-09T21:47:57.069Z"
   },
   {
    "duration": 50,
    "start_time": "2021-06-09T21:47:57.087Z"
   },
   {
    "duration": 27,
    "start_time": "2021-06-09T21:48:17.418Z"
   },
   {
    "duration": 1367,
    "start_time": "2021-06-09T21:48:26.313Z"
   },
   {
    "duration": 37,
    "start_time": "2021-06-09T21:48:27.683Z"
   },
   {
    "duration": 80,
    "start_time": "2021-06-09T21:48:27.723Z"
   },
   {
    "duration": 14,
    "start_time": "2021-06-09T21:48:27.806Z"
   },
   {
    "duration": 20,
    "start_time": "2021-06-09T21:48:27.823Z"
   },
   {
    "duration": 11,
    "start_time": "2021-06-09T21:48:27.846Z"
   },
   {
    "duration": 43,
    "start_time": "2021-06-09T21:48:27.860Z"
   },
   {
    "duration": 15,
    "start_time": "2021-06-09T21:48:27.907Z"
   },
   {
    "duration": 32,
    "start_time": "2021-06-09T21:48:27.925Z"
   },
   {
    "duration": 6,
    "start_time": "2021-06-09T21:48:27.959Z"
   },
   {
    "duration": 6,
    "start_time": "2021-06-09T21:48:28.000Z"
   },
   {
    "duration": 15,
    "start_time": "2021-06-09T21:48:28.009Z"
   },
   {
    "duration": 5,
    "start_time": "2021-06-09T21:48:28.027Z"
   },
   {
    "duration": 13,
    "start_time": "2021-06-09T21:48:28.035Z"
   },
   {
    "duration": 8,
    "start_time": "2021-06-09T21:48:28.050Z"
   },
   {
    "duration": 3,
    "start_time": "2021-06-09T21:48:28.101Z"
   },
   {
    "duration": 12,
    "start_time": "2021-06-09T21:48:28.107Z"
   },
   {
    "duration": 30,
    "start_time": "2021-06-09T21:48:28.121Z"
   },
   {
    "duration": 61,
    "start_time": "2021-06-09T21:48:28.154Z"
   },
   {
    "duration": 26,
    "start_time": "2021-06-09T21:48:28.218Z"
   },
   {
    "duration": 62,
    "start_time": "2021-06-09T21:48:28.246Z"
   },
   {
    "duration": 4,
    "start_time": "2021-06-09T21:48:28.311Z"
   },
   {
    "duration": 10,
    "start_time": "2021-06-09T21:48:28.320Z"
   },
   {
    "duration": 8,
    "start_time": "2021-06-09T21:48:28.333Z"
   },
   {
    "duration": 9,
    "start_time": "2021-06-09T21:48:28.343Z"
   },
   {
    "duration": 94,
    "start_time": "2021-06-09T21:48:28.354Z"
   },
   {
    "duration": 5,
    "start_time": "2021-06-09T21:49:34.901Z"
   },
   {
    "duration": 16,
    "start_time": "2021-06-09T21:49:48.481Z"
   },
   {
    "duration": 1410,
    "start_time": "2021-06-09T21:50:30.475Z"
   },
   {
    "duration": 39,
    "start_time": "2021-06-09T21:50:31.887Z"
   },
   {
    "duration": 80,
    "start_time": "2021-06-09T21:50:31.932Z"
   },
   {
    "duration": 12,
    "start_time": "2021-06-09T21:50:32.015Z"
   },
   {
    "duration": 16,
    "start_time": "2021-06-09T21:50:32.029Z"
   },
   {
    "duration": 6,
    "start_time": "2021-06-09T21:50:32.047Z"
   },
   {
    "duration": 42,
    "start_time": "2021-06-09T21:50:32.059Z"
   },
   {
    "duration": 20,
    "start_time": "2021-06-09T21:50:32.104Z"
   },
   {
    "duration": 37,
    "start_time": "2021-06-09T21:50:32.127Z"
   },
   {
    "duration": 6,
    "start_time": "2021-06-09T21:50:32.167Z"
   },
   {
    "duration": 28,
    "start_time": "2021-06-09T21:50:32.175Z"
   },
   {
    "duration": 23,
    "start_time": "2021-06-09T21:50:32.205Z"
   },
   {
    "duration": 11,
    "start_time": "2021-06-09T21:50:32.231Z"
   },
   {
    "duration": 24,
    "start_time": "2021-06-09T21:50:32.244Z"
   },
   {
    "duration": 8,
    "start_time": "2021-06-09T21:50:32.270Z"
   },
   {
    "duration": 5,
    "start_time": "2021-06-09T21:50:32.300Z"
   },
   {
    "duration": 17,
    "start_time": "2021-06-09T21:50:32.308Z"
   },
   {
    "duration": 29,
    "start_time": "2021-06-09T21:50:32.328Z"
   },
   {
    "duration": 58,
    "start_time": "2021-06-09T21:50:32.360Z"
   },
   {
    "duration": 24,
    "start_time": "2021-06-09T21:50:32.421Z"
   },
   {
    "duration": 75,
    "start_time": "2021-06-09T21:50:32.448Z"
   },
   {
    "duration": 4,
    "start_time": "2021-06-09T21:50:32.527Z"
   },
   {
    "duration": 22,
    "start_time": "2021-06-09T21:50:32.534Z"
   },
   {
    "duration": 8,
    "start_time": "2021-06-09T21:50:32.558Z"
   },
   {
    "duration": 32,
    "start_time": "2021-06-09T21:50:32.568Z"
   },
   {
    "duration": 51,
    "start_time": "2021-06-09T21:50:32.603Z"
   },
   {
    "duration": 6,
    "start_time": "2021-06-09T21:50:32.657Z"
   },
   {
    "duration": 43,
    "start_time": "2021-06-09T21:50:32.666Z"
   },
   {
    "duration": 1430,
    "start_time": "2021-06-09T21:51:24.878Z"
   },
   {
    "duration": 45,
    "start_time": "2021-06-09T21:51:26.312Z"
   },
   {
    "duration": 92,
    "start_time": "2021-06-09T21:51:26.361Z"
   },
   {
    "duration": 12,
    "start_time": "2021-06-09T21:51:26.456Z"
   },
   {
    "duration": 42,
    "start_time": "2021-06-09T21:51:26.471Z"
   },
   {
    "duration": 7,
    "start_time": "2021-06-09T21:51:26.516Z"
   },
   {
    "duration": 7,
    "start_time": "2021-06-09T21:51:26.526Z"
   },
   {
    "duration": 12,
    "start_time": "2021-06-09T21:51:26.538Z"
   },
   {
    "duration": 78,
    "start_time": "2021-06-09T21:51:26.554Z"
   },
   {
    "duration": 8,
    "start_time": "2021-06-09T21:51:26.635Z"
   },
   {
    "duration": 9,
    "start_time": "2021-06-09T21:51:26.646Z"
   },
   {
    "duration": 46,
    "start_time": "2021-06-09T21:51:26.658Z"
   },
   {
    "duration": 6,
    "start_time": "2021-06-09T21:51:26.707Z"
   },
   {
    "duration": 14,
    "start_time": "2021-06-09T21:51:26.716Z"
   },
   {
    "duration": 6,
    "start_time": "2021-06-09T21:51:26.733Z"
   },
   {
    "duration": 5,
    "start_time": "2021-06-09T21:51:26.741Z"
   },
   {
    "duration": 54,
    "start_time": "2021-06-09T21:51:26.748Z"
   },
   {
    "duration": 28,
    "start_time": "2021-06-09T21:51:26.804Z"
   },
   {
    "duration": 25,
    "start_time": "2021-06-09T21:51:26.835Z"
   },
   {
    "duration": 52,
    "start_time": "2021-06-09T21:51:26.863Z"
   },
   {
    "duration": 43,
    "start_time": "2021-06-09T21:51:26.917Z"
   },
   {
    "duration": 5,
    "start_time": "2021-06-09T21:51:26.962Z"
   },
   {
    "duration": 40,
    "start_time": "2021-06-09T21:51:26.974Z"
   },
   {
    "duration": 10,
    "start_time": "2021-06-09T21:51:27.017Z"
   },
   {
    "duration": 15,
    "start_time": "2021-06-09T21:51:27.029Z"
   },
   {
    "duration": 82,
    "start_time": "2021-06-09T21:51:27.046Z"
   },
   {
    "duration": 4,
    "start_time": "2021-06-09T21:51:27.130Z"
   },
   {
    "duration": 18,
    "start_time": "2021-06-09T21:51:27.137Z"
   },
   {
    "duration": 923,
    "start_time": "2021-06-09T21:52:27.947Z"
   },
   {
    "duration": 19,
    "start_time": "2021-06-09T21:52:54.491Z"
   },
   {
    "duration": 455,
    "start_time": "2021-06-09T21:59:07.886Z"
   },
   {
    "duration": 279,
    "start_time": "2021-06-09T22:00:10.207Z"
   },
   {
    "duration": 68,
    "start_time": "2021-06-09T22:00:39.637Z"
   },
   {
    "duration": 252,
    "start_time": "2021-06-09T22:01:03.714Z"
   },
   {
    "duration": 1434,
    "start_time": "2021-06-09T22:11:02.695Z"
   },
   {
    "duration": 38,
    "start_time": "2021-06-09T22:11:04.132Z"
   },
   {
    "duration": 70,
    "start_time": "2021-06-09T22:11:04.173Z"
   },
   {
    "duration": 12,
    "start_time": "2021-06-09T22:11:04.246Z"
   },
   {
    "duration": 44,
    "start_time": "2021-06-09T22:11:04.261Z"
   },
   {
    "duration": 6,
    "start_time": "2021-06-09T22:11:04.308Z"
   },
   {
    "duration": 9,
    "start_time": "2021-06-09T22:11:04.316Z"
   },
   {
    "duration": 11,
    "start_time": "2021-06-09T22:11:04.332Z"
   },
   {
    "duration": 60,
    "start_time": "2021-06-09T22:11:04.347Z"
   },
   {
    "duration": 7,
    "start_time": "2021-06-09T22:11:04.410Z"
   },
   {
    "duration": 13,
    "start_time": "2021-06-09T22:11:04.419Z"
   },
   {
    "duration": 17,
    "start_time": "2021-06-09T22:11:04.435Z"
   },
   {
    "duration": 6,
    "start_time": "2021-06-09T22:11:04.455Z"
   },
   {
    "duration": 45,
    "start_time": "2021-06-09T22:11:04.463Z"
   },
   {
    "duration": 8,
    "start_time": "2021-06-09T22:11:04.510Z"
   },
   {
    "duration": 6,
    "start_time": "2021-06-09T22:11:04.520Z"
   },
   {
    "duration": 13,
    "start_time": "2021-06-09T22:11:04.529Z"
   },
   {
    "duration": 65,
    "start_time": "2021-06-09T22:11:04.545Z"
   },
   {
    "duration": 25,
    "start_time": "2021-06-09T22:11:04.613Z"
   },
   {
    "duration": 26,
    "start_time": "2021-06-09T22:11:04.640Z"
   },
   {
    "duration": 39,
    "start_time": "2021-06-09T22:11:04.668Z"
   },
   {
    "duration": 8,
    "start_time": "2021-06-09T22:11:04.709Z"
   },
   {
    "duration": 8,
    "start_time": "2021-06-09T22:11:04.722Z"
   },
   {
    "duration": 79,
    "start_time": "2021-06-09T22:11:04.732Z"
   },
   {
    "duration": 4,
    "start_time": "2021-06-09T22:11:04.813Z"
   },
   {
    "duration": 19,
    "start_time": "2021-06-09T22:11:04.819Z"
   },
   {
    "duration": 937,
    "start_time": "2021-06-09T22:11:04.840Z"
   },
   {
    "duration": 24,
    "start_time": "2021-06-09T22:11:05.780Z"
   },
   {
    "duration": 98,
    "start_time": "2021-06-09T22:11:05.806Z"
   },
   {
    "duration": 368,
    "start_time": "2021-06-09T22:11:05.907Z"
   },
   {
    "duration": 9,
    "start_time": "2021-06-09T22:11:41.946Z"
   },
   {
    "duration": 273,
    "start_time": "2021-06-09T22:12:02.158Z"
   },
   {
    "duration": 244,
    "start_time": "2021-06-09T22:12:13.295Z"
   },
   {
    "duration": 8,
    "start_time": "2021-06-09T22:13:32.447Z"
   },
   {
    "duration": 24,
    "start_time": "2021-06-09T22:13:49.717Z"
   },
   {
    "duration": 11,
    "start_time": "2021-06-09T22:14:09.674Z"
   },
   {
    "duration": 22,
    "start_time": "2021-06-09T22:14:22.799Z"
   },
   {
    "duration": 48,
    "start_time": "2021-06-09T22:38:41.167Z"
   },
   {
    "duration": 1389,
    "start_time": "2021-06-09T22:39:06.636Z"
   },
   {
    "duration": 36,
    "start_time": "2021-06-09T22:39:08.029Z"
   },
   {
    "duration": 68,
    "start_time": "2021-06-09T22:39:08.069Z"
   },
   {
    "duration": 11,
    "start_time": "2021-06-09T22:39:08.140Z"
   },
   {
    "duration": 19,
    "start_time": "2021-06-09T22:39:08.153Z"
   },
   {
    "duration": 27,
    "start_time": "2021-06-09T22:39:08.174Z"
   },
   {
    "duration": 14,
    "start_time": "2021-06-09T22:39:08.203Z"
   },
   {
    "duration": 15,
    "start_time": "2021-06-09T22:39:08.219Z"
   },
   {
    "duration": 29,
    "start_time": "2021-06-09T22:39:08.238Z"
   },
   {
    "duration": 6,
    "start_time": "2021-06-09T22:39:08.270Z"
   },
   {
    "duration": 27,
    "start_time": "2021-06-09T22:39:08.278Z"
   },
   {
    "duration": 19,
    "start_time": "2021-06-09T22:39:08.308Z"
   },
   {
    "duration": 5,
    "start_time": "2021-06-09T22:39:08.329Z"
   },
   {
    "duration": 14,
    "start_time": "2021-06-09T22:39:08.337Z"
   },
   {
    "duration": 5,
    "start_time": "2021-06-09T22:39:08.353Z"
   },
   {
    "duration": 42,
    "start_time": "2021-06-09T22:39:08.360Z"
   },
   {
    "duration": 13,
    "start_time": "2021-06-09T22:39:08.404Z"
   },
   {
    "duration": 28,
    "start_time": "2021-06-09T22:39:08.420Z"
   },
   {
    "duration": 56,
    "start_time": "2021-06-09T22:39:08.451Z"
   },
   {
    "duration": 24,
    "start_time": "2021-06-09T22:39:08.509Z"
   },
   {
    "duration": 14,
    "start_time": "2021-06-09T22:39:08.535Z"
   },
   {
    "duration": 7,
    "start_time": "2021-06-09T22:39:08.552Z"
   },
   {
    "duration": 42,
    "start_time": "2021-06-09T22:39:08.561Z"
   },
   {
    "duration": 48,
    "start_time": "2021-06-09T22:39:08.606Z"
   },
   {
    "duration": 4,
    "start_time": "2021-06-09T22:39:08.657Z"
   },
   {
    "duration": 46,
    "start_time": "2021-06-09T22:39:08.663Z"
   },
   {
    "duration": 930,
    "start_time": "2021-06-09T22:39:08.713Z"
   },
   {
    "duration": 15,
    "start_time": "2021-06-09T22:39:09.646Z"
   },
   {
    "duration": 137,
    "start_time": "2021-06-09T22:39:09.664Z"
   },
   {
    "duration": 382,
    "start_time": "2021-06-09T22:39:09.805Z"
   },
   {
    "duration": 15,
    "start_time": "2021-06-09T22:39:10.189Z"
   },
   {
    "duration": 260,
    "start_time": "2021-06-09T22:39:10.206Z"
   },
   {
    "duration": 47,
    "start_time": "2021-06-09T22:56:57.158Z"
   },
   {
    "duration": 15,
    "start_time": "2021-06-09T22:57:06.587Z"
   },
   {
    "duration": 258,
    "start_time": "2021-06-09T22:57:08.145Z"
   },
   {
    "duration": 440,
    "start_time": "2021-06-09T23:06:59.807Z"
   },
   {
    "duration": 283,
    "start_time": "2021-06-09T23:07:19.867Z"
   },
   {
    "duration": 7,
    "start_time": "2021-06-09T23:07:50.186Z"
   },
   {
    "duration": 7,
    "start_time": "2021-06-10T08:45:27.569Z"
   },
   {
    "duration": 16,
    "start_time": "2021-06-10T08:45:57.092Z"
   },
   {
    "duration": 35,
    "start_time": "2021-06-10T08:45:57.111Z"
   },
   {
    "duration": 59,
    "start_time": "2021-06-10T08:45:57.148Z"
   },
   {
    "duration": 24,
    "start_time": "2021-06-10T08:45:57.209Z"
   },
   {
    "duration": 20,
    "start_time": "2021-06-10T08:45:57.236Z"
   },
   {
    "duration": 6,
    "start_time": "2021-06-10T08:45:57.258Z"
   },
   {
    "duration": 8,
    "start_time": "2021-06-10T08:45:57.266Z"
   },
   {
    "duration": 12,
    "start_time": "2021-06-10T08:45:57.276Z"
   },
   {
    "duration": 31,
    "start_time": "2021-06-10T08:45:57.325Z"
   },
   {
    "duration": 7,
    "start_time": "2021-06-10T08:45:57.359Z"
   },
   {
    "duration": 7,
    "start_time": "2021-06-10T08:45:57.369Z"
   },
   {
    "duration": 56,
    "start_time": "2021-06-10T08:45:57.379Z"
   },
   {
    "duration": 6,
    "start_time": "2021-06-10T08:45:57.438Z"
   },
   {
    "duration": 15,
    "start_time": "2021-06-10T08:45:57.448Z"
   },
   {
    "duration": 7,
    "start_time": "2021-06-10T08:45:57.466Z"
   },
   {
    "duration": 49,
    "start_time": "2021-06-10T08:45:57.477Z"
   },
   {
    "duration": 12,
    "start_time": "2021-06-10T08:45:57.529Z"
   },
   {
    "duration": 30,
    "start_time": "2021-06-10T08:45:57.544Z"
   },
   {
    "duration": 64,
    "start_time": "2021-06-10T08:45:57.577Z"
   },
   {
    "duration": 28,
    "start_time": "2021-06-10T08:45:57.644Z"
   },
   {
    "duration": 9,
    "start_time": "2021-06-10T08:45:57.675Z"
   },
   {
    "duration": 43,
    "start_time": "2021-06-10T08:45:57.687Z"
   },
   {
    "duration": 10,
    "start_time": "2021-06-10T08:45:57.733Z"
   },
   {
    "duration": 84,
    "start_time": "2021-06-10T08:45:57.745Z"
   },
   {
    "duration": 5,
    "start_time": "2021-06-10T08:45:57.832Z"
   },
   {
    "duration": 19,
    "start_time": "2021-06-10T08:45:57.840Z"
   },
   {
    "duration": 983,
    "start_time": "2021-06-10T08:45:57.862Z"
   },
   {
    "duration": 16,
    "start_time": "2021-06-10T08:45:58.848Z"
   },
   {
    "duration": 67,
    "start_time": "2021-06-10T08:45:58.866Z"
   },
   {
    "duration": 97,
    "start_time": "2021-06-10T08:45:58.936Z"
   },
   {
    "duration": 9,
    "start_time": "2021-06-10T08:45:59.125Z"
   },
   {
    "duration": 262,
    "start_time": "2021-06-10T08:45:59.225Z"
   },
   {
    "duration": 8,
    "start_time": "2021-06-10T08:45:59.489Z"
   },
   {
    "duration": 266,
    "start_time": "2021-06-10T08:45:59.500Z"
   },
   {
    "duration": 6,
    "start_time": "2021-06-10T08:45:59.769Z"
   },
   {
    "duration": 16,
    "start_time": "2021-06-10T08:54:06.637Z"
   },
   {
    "duration": 328,
    "start_time": "2021-06-10T08:55:43.662Z"
   },
   {
    "duration": 263,
    "start_time": "2021-06-10T08:56:08.886Z"
   },
   {
    "duration": 268,
    "start_time": "2021-06-10T08:56:14.937Z"
   },
   {
    "duration": 257,
    "start_time": "2021-06-10T08:56:21.439Z"
   },
   {
    "duration": 252,
    "start_time": "2021-06-10T08:56:28.724Z"
   },
   {
    "duration": 9,
    "start_time": "2021-06-10T08:57:16.430Z"
   },
   {
    "duration": 70,
    "start_time": "2021-06-10T09:02:45.659Z"
   },
   {
    "duration": 21,
    "start_time": "2021-06-10T09:04:20.676Z"
   },
   {
    "duration": 28,
    "start_time": "2021-06-10T09:09:49.205Z"
   },
   {
    "duration": 83,
    "start_time": "2021-06-10T09:10:38.147Z"
   },
   {
    "duration": 487,
    "start_time": "2021-06-10T09:11:42.997Z"
   },
   {
    "duration": 495,
    "start_time": "2021-06-10T09:11:59.209Z"
   },
   {
    "duration": 30,
    "start_time": "2021-06-10T09:13:36.836Z"
   },
   {
    "duration": 6,
    "start_time": "2021-06-10T09:32:38.268Z"
   },
   {
    "duration": 17,
    "start_time": "2021-06-10T09:33:11.531Z"
   },
   {
    "duration": 248,
    "start_time": "2021-06-10T09:33:42.253Z"
   },
   {
    "duration": 9,
    "start_time": "2021-06-10T09:34:09.426Z"
   },
   {
    "duration": 294,
    "start_time": "2021-06-10T09:35:03.661Z"
   },
   {
    "duration": 1500,
    "start_time": "2021-06-10T09:35:16.358Z"
   },
   {
    "duration": 4,
    "start_time": "2021-06-10T09:37:45.990Z"
   },
   {
    "duration": 3,
    "start_time": "2021-06-10T09:37:49.378Z"
   },
   {
    "duration": 222,
    "start_time": "2021-06-10T09:38:28.610Z"
   },
   {
    "duration": 1417,
    "start_time": "2021-06-10T09:39:08.023Z"
   },
   {
    "duration": 66,
    "start_time": "2021-06-10T09:40:10.074Z"
   },
   {
    "duration": 1465,
    "start_time": "2021-06-10T09:43:52.102Z"
   },
   {
    "duration": 37,
    "start_time": "2021-06-10T09:43:53.570Z"
   },
   {
    "duration": 65,
    "start_time": "2021-06-10T09:43:53.610Z"
   },
   {
    "duration": 11,
    "start_time": "2021-06-10T09:43:53.678Z"
   },
   {
    "duration": 40,
    "start_time": "2021-06-10T09:43:53.692Z"
   },
   {
    "duration": 6,
    "start_time": "2021-06-10T09:43:53.734Z"
   },
   {
    "duration": 7,
    "start_time": "2021-06-10T09:43:53.742Z"
   },
   {
    "duration": 12,
    "start_time": "2021-06-10T09:43:53.752Z"
   },
   {
    "duration": 64,
    "start_time": "2021-06-10T09:43:53.766Z"
   },
   {
    "duration": 7,
    "start_time": "2021-06-10T09:43:53.832Z"
   },
   {
    "duration": 9,
    "start_time": "2021-06-10T09:43:53.841Z"
   },
   {
    "duration": 28,
    "start_time": "2021-06-10T09:43:53.852Z"
   },
   {
    "duration": 9,
    "start_time": "2021-06-10T09:43:53.882Z"
   },
   {
    "duration": 41,
    "start_time": "2021-06-10T09:43:53.893Z"
   },
   {
    "duration": 9,
    "start_time": "2021-06-10T09:43:53.936Z"
   },
   {
    "duration": 5,
    "start_time": "2021-06-10T09:43:53.947Z"
   },
   {
    "duration": 15,
    "start_time": "2021-06-10T09:43:53.954Z"
   },
   {
    "duration": 68,
    "start_time": "2021-06-10T09:43:53.971Z"
   },
   {
    "duration": 26,
    "start_time": "2021-06-10T09:43:54.042Z"
   },
   {
    "duration": 27,
    "start_time": "2021-06-10T09:43:54.070Z"
   },
   {
    "duration": 14,
    "start_time": "2021-06-10T09:43:54.124Z"
   },
   {
    "duration": 8,
    "start_time": "2021-06-10T09:43:54.140Z"
   },
   {
    "duration": 8,
    "start_time": "2021-06-10T09:43:54.152Z"
   },
   {
    "duration": 86,
    "start_time": "2021-06-10T09:43:54.163Z"
   },
   {
    "duration": 4,
    "start_time": "2021-06-10T09:43:54.251Z"
   },
   {
    "duration": 18,
    "start_time": "2021-06-10T09:43:54.258Z"
   },
   {
    "duration": 1012,
    "start_time": "2021-06-10T09:43:54.279Z"
   },
   {
    "duration": 15,
    "start_time": "2021-06-10T09:43:55.293Z"
   },
   {
    "duration": 105,
    "start_time": "2021-06-10T09:43:55.325Z"
   },
   {
    "duration": 98,
    "start_time": "2021-06-10T09:43:55.433Z"
   },
   {
    "duration": 190,
    "start_time": "2021-06-10T09:43:55.534Z"
   },
   {
    "duration": 284,
    "start_time": "2021-06-10T09:43:55.727Z"
   },
   {
    "duration": 11,
    "start_time": "2021-06-10T09:43:56.013Z"
   },
   {
    "duration": 254,
    "start_time": "2021-06-10T09:43:56.026Z"
   },
   {
    "duration": 6,
    "start_time": "2021-06-10T09:43:56.282Z"
   },
   {
    "duration": 277,
    "start_time": "2021-06-10T09:43:56.290Z"
   },
   {
    "duration": 8,
    "start_time": "2021-06-10T09:43:56.570Z"
   },
   {
    "duration": 143,
    "start_time": "2021-06-10T09:43:56.581Z"
   },
   {
    "duration": 546,
    "start_time": "2021-06-10T09:43:56.727Z"
   },
   {
    "duration": 32,
    "start_time": "2021-06-10T09:43:57.276Z"
   },
   {
    "duration": 6,
    "start_time": "2021-06-10T09:43:57.324Z"
   },
   {
    "duration": 288,
    "start_time": "2021-06-10T09:43:57.333Z"
   },
   {
    "duration": 8,
    "start_time": "2021-06-10T09:43:57.623Z"
   },
   {
    "duration": 191,
    "start_time": "2021-06-10T09:43:57.633Z"
   },
   {
    "duration": 1419,
    "start_time": "2021-06-10T09:43:57.826Z"
   },
   {
    "duration": 77,
    "start_time": "2021-06-10T09:43:59.247Z"
   },
   {
    "duration": 12,
    "start_time": "2021-06-10T09:51:07.431Z"
   },
   {
    "duration": 425,
    "start_time": "2021-06-10T09:51:31.448Z"
   },
   {
    "duration": 12,
    "start_time": "2021-06-10T09:51:48.123Z"
   },
   {
    "duration": 11,
    "start_time": "2021-06-10T09:52:01.323Z"
   },
   {
    "duration": 200,
    "start_time": "2021-06-10T09:52:01.940Z"
   },
   {
    "duration": 181,
    "start_time": "2021-06-10T09:52:21.397Z"
   },
   {
    "duration": 13,
    "start_time": "2021-06-10T09:52:44.380Z"
   },
   {
    "duration": 56885,
    "start_time": "2021-06-10T09:52:45.127Z"
   },
   {
    "duration": 56992,
    "start_time": "2021-06-10T09:54:01.434Z"
   },
   {
    "duration": 21,
    "start_time": "2021-06-10T09:55:01.690Z"
   },
   {
    "duration": 736,
    "start_time": "2021-06-10T09:57:24.737Z"
   },
   {
    "duration": 65,
    "start_time": "2021-06-10T09:57:25.476Z"
   },
   {
    "duration": 926,
    "start_time": "2021-06-10T09:57:53.914Z"
   },
   {
    "duration": 46,
    "start_time": "2021-06-10T09:57:54.843Z"
   },
   {
    "duration": 48,
    "start_time": "2021-06-10T09:58:21.634Z"
   },
   {
    "duration": 400,
    "start_time": "2021-06-10T09:59:13.059Z"
   },
   {
    "duration": 9,
    "start_time": "2021-06-10T10:22:30.958Z"
   },
   {
    "duration": 293,
    "start_time": "2021-06-10T10:23:38.619Z"
   },
   {
    "duration": 15,
    "start_time": "2021-06-10T10:24:14.794Z"
   },
   {
    "duration": 9,
    "start_time": "2021-06-10T10:28:20.206Z"
   },
   {
    "duration": 282,
    "start_time": "2021-06-10T10:28:21.414Z"
   },
   {
    "duration": 1399,
    "start_time": "2021-06-10T10:34:29.367Z"
   },
   {
    "duration": 35,
    "start_time": "2021-06-10T10:34:31.617Z"
   },
   {
    "duration": 64,
    "start_time": "2021-06-10T10:34:31.869Z"
   },
   {
    "duration": 12,
    "start_time": "2021-06-10T10:34:32.098Z"
   },
   {
    "duration": 16,
    "start_time": "2021-06-10T10:34:32.715Z"
   },
   {
    "duration": 5,
    "start_time": "2021-06-10T10:34:33.133Z"
   },
   {
    "duration": 5,
    "start_time": "2021-06-10T10:34:33.702Z"
   },
   {
    "duration": 10,
    "start_time": "2021-06-10T10:34:33.902Z"
   },
   {
    "duration": 31,
    "start_time": "2021-06-10T10:34:34.319Z"
   },
   {
    "duration": 7,
    "start_time": "2021-06-10T10:34:34.947Z"
   },
   {
    "duration": 7,
    "start_time": "2021-06-10T10:34:35.153Z"
   },
   {
    "duration": 15,
    "start_time": "2021-06-10T10:34:35.414Z"
   },
   {
    "duration": 5,
    "start_time": "2021-06-10T10:34:35.597Z"
   },
   {
    "duration": 13,
    "start_time": "2021-06-10T10:34:35.810Z"
   },
   {
    "duration": 7,
    "start_time": "2021-06-10T10:34:36.014Z"
   },
   {
    "duration": 4,
    "start_time": "2021-06-10T10:34:36.669Z"
   },
   {
    "duration": 12,
    "start_time": "2021-06-10T10:34:36.876Z"
   },
   {
    "duration": 31,
    "start_time": "2021-06-10T10:34:37.097Z"
   },
   {
    "duration": 27,
    "start_time": "2021-06-10T10:34:37.277Z"
   },
   {
    "duration": 27,
    "start_time": "2021-06-10T10:34:37.508Z"
   },
   {
    "duration": 17,
    "start_time": "2021-06-10T10:34:38.390Z"
   },
   {
    "duration": 10,
    "start_time": "2021-06-10T10:34:38.610Z"
   },
   {
    "duration": 8,
    "start_time": "2021-06-10T10:34:38.784Z"
   },
   {
    "duration": 49,
    "start_time": "2021-06-10T10:34:39.388Z"
   },
   {
    "duration": 5,
    "start_time": "2021-06-10T10:34:39.603Z"
   },
   {
    "duration": 16,
    "start_time": "2021-06-10T10:34:39.834Z"
   },
   {
    "duration": 1001,
    "start_time": "2021-06-10T10:34:40.476Z"
   },
   {
    "duration": 18,
    "start_time": "2021-06-10T10:34:41.480Z"
   },
   {
    "duration": 127,
    "start_time": "2021-06-10T10:34:41.501Z"
   },
   {
    "duration": 12,
    "start_time": "2021-06-10T10:34:42.097Z"
   },
   {
    "duration": 8,
    "start_time": "2021-06-10T10:34:42.491Z"
   },
   {
    "duration": 260,
    "start_time": "2021-06-10T10:34:42.738Z"
   },
   {
    "duration": 9,
    "start_time": "2021-06-10T10:34:45.532Z"
   },
   {
    "duration": 234,
    "start_time": "2021-06-10T10:34:46.349Z"
   },
   {
    "duration": 6,
    "start_time": "2021-06-10T10:34:48.951Z"
   },
   {
    "duration": 262,
    "start_time": "2021-06-10T10:34:50.021Z"
   },
   {
    "duration": 9,
    "start_time": "2021-06-10T10:34:51.409Z"
   },
   {
    "duration": 38,
    "start_time": "2021-06-10T10:34:54.987Z"
   },
   {
    "duration": 513,
    "start_time": "2021-06-10T10:34:57.000Z"
   },
   {
    "duration": 30,
    "start_time": "2021-06-10T10:34:59.034Z"
   },
   {
    "duration": 6,
    "start_time": "2021-06-10T10:35:07.158Z"
   },
   {
    "duration": 250,
    "start_time": "2021-06-10T10:35:07.776Z"
   },
   {
    "duration": 8,
    "start_time": "2021-06-10T10:35:12.464Z"
   },
   {
    "duration": 55,
    "start_time": "2021-06-10T10:35:14.880Z"
   },
   {
    "duration": 1516,
    "start_time": "2021-06-10T10:35:16.512Z"
   },
   {
    "duration": 70,
    "start_time": "2021-06-10T10:35:18.763Z"
   },
   {
    "duration": 10193,
    "start_time": "2021-06-10T10:35:27.931Z"
   },
   {
    "duration": 351,
    "start_time": "2021-06-10T10:37:23.765Z"
   },
   {
    "duration": 16621,
    "start_time": "2021-06-10T10:37:46.304Z"
   },
   {
    "duration": 653,
    "start_time": "2021-06-10T10:39:35.476Z"
   },
   {
    "duration": 38,
    "start_time": "2021-06-10T10:39:37.308Z"
   },
   {
    "duration": 12,
    "start_time": "2021-06-10T10:40:03.692Z"
   },
   {
    "duration": 341,
    "start_time": "2021-06-10T10:40:07.191Z"
   },
   {
    "duration": 10,
    "start_time": "2021-06-10T10:40:26.935Z"
   },
   {
    "duration": 13,
    "start_time": "2021-06-10T10:40:27.740Z"
   },
   {
    "duration": 540,
    "start_time": "2021-06-10T10:44:33.525Z"
   },
   {
    "duration": 46,
    "start_time": "2021-06-10T10:44:34.941Z"
   },
   {
    "duration": 11,
    "start_time": "2021-06-10T10:44:39.759Z"
   },
   {
    "duration": 18,
    "start_time": "2021-06-10T10:44:40.601Z"
   },
   {
    "duration": 685,
    "start_time": "2021-06-10T10:45:32.606Z"
   },
   {
    "duration": 52,
    "start_time": "2021-06-10T10:45:33.293Z"
   },
   {
    "duration": 8,
    "start_time": "2021-06-10T10:45:35.451Z"
   },
   {
    "duration": 13,
    "start_time": "2021-06-10T10:45:36.286Z"
   },
   {
    "duration": 35,
    "start_time": "2021-06-10T10:45:42.150Z"
   },
   {
    "duration": 455,
    "start_time": "2021-06-10T10:45:44.229Z"
   },
   {
    "duration": 11285,
    "start_time": "2021-06-10T10:47:08.469Z"
   },
   {
    "duration": 21641,
    "start_time": "2021-06-10T10:47:25.993Z"
   },
   {
    "duration": 566,
    "start_time": "2021-06-10T10:48:43.498Z"
   },
   {
    "duration": 45,
    "start_time": "2021-06-10T10:48:48.342Z"
   },
   {
    "duration": 798,
    "start_time": "2021-06-10T10:48:58.676Z"
   },
   {
    "duration": 40,
    "start_time": "2021-06-10T10:48:59.718Z"
   },
   {
    "duration": 10809,
    "start_time": "2021-06-10T10:49:11.503Z"
   },
   {
    "duration": 17311,
    "start_time": "2021-06-10T10:49:22.315Z"
   },
   {
    "duration": 878,
    "start_time": "2021-06-10T10:49:39.630Z"
   },
   {
    "duration": 49,
    "start_time": "2021-06-10T10:49:40.511Z"
   },
   {
    "duration": 641,
    "start_time": "2021-06-10T10:49:54.054Z"
   },
   {
    "duration": 40,
    "start_time": "2021-06-10T10:49:55.594Z"
   },
   {
    "duration": 9,
    "start_time": "2021-06-10T10:50:01.438Z"
   },
   {
    "duration": 14,
    "start_time": "2021-06-10T10:50:02.209Z"
   },
   {
    "duration": 7307,
    "start_time": "2021-06-10T10:50:27.896Z"
   },
   {
    "duration": 1465,
    "start_time": "2021-06-10T11:27:36.467Z"
   },
   {
    "duration": 36,
    "start_time": "2021-06-10T11:27:37.934Z"
   },
   {
    "duration": 73,
    "start_time": "2021-06-10T11:27:37.973Z"
   },
   {
    "duration": 13,
    "start_time": "2021-06-10T11:27:38.049Z"
   },
   {
    "duration": 19,
    "start_time": "2021-06-10T11:27:38.065Z"
   },
   {
    "duration": 6,
    "start_time": "2021-06-10T11:27:38.086Z"
   },
   {
    "duration": 36,
    "start_time": "2021-06-10T11:27:38.094Z"
   },
   {
    "duration": 16,
    "start_time": "2021-06-10T11:27:38.134Z"
   },
   {
    "duration": 32,
    "start_time": "2021-06-10T11:27:38.153Z"
   },
   {
    "duration": 44,
    "start_time": "2021-06-10T11:27:38.187Z"
   },
   {
    "duration": 6,
    "start_time": "2021-06-10T11:27:38.233Z"
   },
   {
    "duration": 22,
    "start_time": "2021-06-10T11:27:38.241Z"
   },
   {
    "duration": 5,
    "start_time": "2021-06-10T11:27:38.265Z"
   },
   {
    "duration": 21,
    "start_time": "2021-06-10T11:27:38.272Z"
   },
   {
    "duration": 45,
    "start_time": "2021-06-10T11:27:38.296Z"
   },
   {
    "duration": 4,
    "start_time": "2021-06-10T11:27:38.344Z"
   },
   {
    "duration": 16,
    "start_time": "2021-06-10T11:27:38.351Z"
   },
   {
    "duration": 30,
    "start_time": "2021-06-10T11:27:38.370Z"
   },
   {
    "duration": 36,
    "start_time": "2021-06-10T11:27:38.428Z"
   },
   {
    "duration": 25,
    "start_time": "2021-06-10T11:27:38.467Z"
   },
   {
    "duration": 37,
    "start_time": "2021-06-10T11:27:38.495Z"
   },
   {
    "duration": 11,
    "start_time": "2021-06-10T11:27:38.535Z"
   },
   {
    "duration": 17,
    "start_time": "2021-06-10T11:27:38.551Z"
   },
   {
    "duration": 88,
    "start_time": "2021-06-10T11:27:38.571Z"
   },
   {
    "duration": 4,
    "start_time": "2021-06-10T11:27:38.662Z"
   },
   {
    "duration": 21,
    "start_time": "2021-06-10T11:27:38.668Z"
   },
   {
    "duration": 1059,
    "start_time": "2021-06-10T11:27:38.691Z"
   },
   {
    "duration": 20,
    "start_time": "2021-06-10T11:27:39.752Z"
   },
   {
    "duration": 161,
    "start_time": "2021-06-10T11:27:39.774Z"
   },
   {
    "duration": 99,
    "start_time": "2021-06-10T11:27:39.941Z"
   },
   {
    "duration": 100,
    "start_time": "2021-06-10T11:27:40.044Z"
   },
   {
    "duration": 358,
    "start_time": "2021-06-10T11:27:40.147Z"
   },
   {
    "duration": 23,
    "start_time": "2021-06-10T11:27:40.508Z"
   },
   {
    "duration": 283,
    "start_time": "2021-06-10T11:27:40.534Z"
   },
   {
    "duration": 6,
    "start_time": "2021-06-10T11:27:40.820Z"
   },
   {
    "duration": 296,
    "start_time": "2021-06-10T11:27:40.828Z"
   },
   {
    "duration": 11,
    "start_time": "2021-06-10T11:27:41.126Z"
   },
   {
    "duration": 92,
    "start_time": "2021-06-10T11:27:41.140Z"
   },
   {
    "duration": 637,
    "start_time": "2021-06-10T11:27:41.235Z"
   },
   {
    "duration": 57,
    "start_time": "2021-06-10T11:27:41.875Z"
   },
   {
    "duration": 10,
    "start_time": "2021-06-10T11:27:41.935Z"
   },
   {
    "duration": 335,
    "start_time": "2021-06-10T11:27:41.949Z"
   },
   {
    "duration": 11,
    "start_time": "2021-06-10T11:27:42.286Z"
   },
   {
    "duration": 232,
    "start_time": "2021-06-10T11:27:42.300Z"
   },
   {
    "duration": 1724,
    "start_time": "2021-06-10T11:27:42.538Z"
   },
   {
    "duration": 82,
    "start_time": "2021-06-10T11:27:44.264Z"
   },
   {
    "duration": 7242,
    "start_time": "2021-06-10T11:27:44.349Z"
   },
   {
    "duration": 17087,
    "start_time": "2021-06-10T11:27:51.593Z"
   },
   {
    "duration": 663,
    "start_time": "2021-06-10T11:28:08.682Z"
   },
   {
    "duration": 36,
    "start_time": "2021-06-10T11:28:09.347Z"
   },
   {
    "duration": 9,
    "start_time": "2021-06-10T11:28:09.385Z"
   },
   {
    "duration": 18,
    "start_time": "2021-06-10T11:28:09.424Z"
   },
   {
    "duration": 43,
    "start_time": "2021-06-10T11:28:09.445Z"
   },
   {
    "duration": 480,
    "start_time": "2021-06-10T11:28:09.491Z"
   },
   {
    "duration": 1569,
    "start_time": "2021-06-10T16:12:36.114Z"
   },
   {
    "duration": 39,
    "start_time": "2021-06-10T16:12:37.686Z"
   },
   {
    "duration": 67,
    "start_time": "2021-06-10T16:12:37.728Z"
   },
   {
    "duration": 15,
    "start_time": "2021-06-10T16:12:37.814Z"
   },
   {
    "duration": 23,
    "start_time": "2021-06-10T16:12:37.832Z"
   },
   {
    "duration": 8,
    "start_time": "2021-06-10T16:12:37.858Z"
   },
   {
    "duration": 41,
    "start_time": "2021-06-10T16:12:37.869Z"
   },
   {
    "duration": 22,
    "start_time": "2021-06-10T16:12:37.913Z"
   },
   {
    "duration": 34,
    "start_time": "2021-06-10T16:12:37.939Z"
   },
   {
    "duration": 6,
    "start_time": "2021-06-10T16:12:37.976Z"
   },
   {
    "duration": 7,
    "start_time": "2021-06-10T16:12:38.017Z"
   },
   {
    "duration": 16,
    "start_time": "2021-06-10T16:12:38.027Z"
   },
   {
    "duration": 7,
    "start_time": "2021-06-10T16:12:38.046Z"
   },
   {
    "duration": 22,
    "start_time": "2021-06-10T16:12:38.055Z"
   },
   {
    "duration": 7,
    "start_time": "2021-06-10T16:12:38.080Z"
   },
   {
    "duration": 5,
    "start_time": "2021-06-10T16:12:38.110Z"
   },
   {
    "duration": 16,
    "start_time": "2021-06-10T16:12:38.118Z"
   },
   {
    "duration": 35,
    "start_time": "2021-06-10T16:12:38.137Z"
   },
   {
    "duration": 64,
    "start_time": "2021-06-10T16:12:38.174Z"
   },
   {
    "duration": 27,
    "start_time": "2021-06-10T16:12:38.241Z"
   },
   {
    "duration": 42,
    "start_time": "2021-06-10T16:12:38.271Z"
   },
   {
    "duration": 11,
    "start_time": "2021-06-10T16:12:38.316Z"
   },
   {
    "duration": 13,
    "start_time": "2021-06-10T16:12:38.330Z"
   },
   {
    "duration": 79,
    "start_time": "2021-06-10T16:12:38.345Z"
   },
   {
    "duration": 5,
    "start_time": "2021-06-10T16:12:38.426Z"
   },
   {
    "duration": 20,
    "start_time": "2021-06-10T16:12:38.433Z"
   },
   {
    "duration": 1102,
    "start_time": "2021-06-10T16:12:38.458Z"
   },
   {
    "duration": 17,
    "start_time": "2021-06-10T16:12:39.563Z"
   },
   {
    "duration": 129,
    "start_time": "2021-06-10T16:12:39.582Z"
   },
   {
    "duration": 114,
    "start_time": "2021-06-10T16:12:39.714Z"
   },
   {
    "duration": 86,
    "start_time": "2021-06-10T16:12:39.831Z"
   },
   {
    "duration": 296,
    "start_time": "2021-06-10T16:12:39.919Z"
   },
   {
    "duration": 11,
    "start_time": "2021-06-10T16:12:40.218Z"
   },
   {
    "duration": 286,
    "start_time": "2021-06-10T16:12:40.232Z"
   },
   {
    "duration": 8,
    "start_time": "2021-06-10T16:12:40.521Z"
   },
   {
    "duration": 305,
    "start_time": "2021-06-10T16:12:40.532Z"
   },
   {
    "duration": 8,
    "start_time": "2021-06-10T16:12:40.840Z"
   },
   {
    "duration": 166,
    "start_time": "2021-06-10T16:12:40.850Z"
   },
   {
    "duration": 565,
    "start_time": "2021-06-10T16:12:41.021Z"
   },
   {
    "duration": 41,
    "start_time": "2021-06-10T16:12:41.589Z"
   },
   {
    "duration": 6,
    "start_time": "2021-06-10T16:12:41.632Z"
   },
   {
    "duration": 302,
    "start_time": "2021-06-10T16:12:41.640Z"
   },
   {
    "duration": 9,
    "start_time": "2021-06-10T16:12:41.945Z"
   },
   {
    "duration": 171,
    "start_time": "2021-06-10T16:12:41.957Z"
   },
   {
    "duration": 1656,
    "start_time": "2021-06-10T16:12:42.131Z"
   },
   {
    "duration": 87,
    "start_time": "2021-06-10T16:12:43.790Z"
   },
   {
    "duration": 7186,
    "start_time": "2021-06-10T16:12:43.880Z"
   },
   {
    "duration": 17717,
    "start_time": "2021-06-10T16:12:51.069Z"
   },
   {
    "duration": 691,
    "start_time": "2021-06-10T16:13:08.789Z"
   },
   {
    "duration": 54,
    "start_time": "2021-06-10T16:13:09.482Z"
   },
   {
    "duration": 9,
    "start_time": "2021-06-10T16:13:09.538Z"
   },
   {
    "duration": 25,
    "start_time": "2021-06-10T16:13:09.550Z"
   },
   {
    "duration": 52,
    "start_time": "2021-06-10T16:13:09.578Z"
   },
   {
    "duration": 444,
    "start_time": "2021-06-10T16:13:09.633Z"
   }
  ],
  "kernelspec": {
   "display_name": "Python 3",
   "language": "python",
   "name": "python3"
  },
  "language_info": {
   "codemirror_mode": {
    "name": "ipython",
    "version": 3
   },
   "file_extension": ".py",
   "mimetype": "text/x-python",
   "name": "python",
   "nbconvert_exporter": "python",
   "pygments_lexer": "ipython3",
   "version": "3.8.8"
  },
  "toc": {
   "base_numbering": 1,
   "nav_menu": {},
   "number_sections": true,
   "sideBar": true,
   "skip_h1_title": true,
   "title_cell": "Содержание",
   "title_sidebar": "Contents",
   "toc_cell": true,
   "toc_position": {
    "height": "calc(100% - 180px)",
    "left": "10px",
    "top": "150px",
    "width": "164.992px"
   },
   "toc_section_display": true,
   "toc_window_display": false
  }
 },
 "nbformat": 4,
 "nbformat_minor": 2
}
