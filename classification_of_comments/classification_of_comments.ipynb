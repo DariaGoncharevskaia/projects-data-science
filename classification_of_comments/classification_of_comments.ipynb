{
 "cells": [
  {
   "cell_type": "markdown",
   "metadata": {
    "toc": true
   },
   "source": [
    "<h1>Содержание<span class=\"tocSkip\"></span></h1>\n",
    "<div class=\"toc\"><ul class=\"toc-item\"><li><ul class=\"toc-item\"><a href=\"#Подготовка\" data-toc-modified-id=\"Подготовка-1\"><span class=\"toc-item-num\"></span>Подготовка</a></span><ul class=\"toc-item\"><li><span><a href=\"#Подготовка-признаков.\" data-toc-modified-id=\"Подготовка-признаков.-1.1\"><span class=\"toc-item-num\">1.1&nbsp;&nbsp;</span>Подготовка признаков.</a></span></li></ul></li><li><span><a href=\"#Обучение\" data-toc-modified-id=\"Обучение-2\"><span class=\"toc-item-num\">2&nbsp;&nbsp;</span>Обучение</a></span><ul class=\"toc-item\"><li><span><a href=\"#LogisticRegression\" data-toc-modified-id=\"LogisticRegression-2.1\"><span class=\"toc-item-num\">2.1&nbsp;&nbsp;</span>LogisticRegression</a></span></li><li><span><a href=\"#SGDClassifier\" data-toc-modified-id=\"SGDClassifier-2.2\"><span class=\"toc-item-num\">2.2&nbsp;&nbsp;</span>SGDClassifier</a></span></li><li><span><a href=\"#DecisionTreeClassifier\" data-toc-modified-id=\"DecisionTreeClassifier-2.3\"><span class=\"toc-item-num\">2.3&nbsp;&nbsp;</span>DecisionTreeClassifier</a></span></li><li><span><a href=\"#RandomForestClassifier\" data-toc-modified-id=\"RandomForestClassifier-2.4\"><span class=\"toc-item-num\">2.4&nbsp;&nbsp;</span>RandomForestClassifier</a></span></li></ul></li><li><span><a href=\"#Выводы\" data-toc-modified-id=\"Выводы-3\"><span class=\"toc-item-num\">3&nbsp;&nbsp;</span>Выводы</a></span></li><li><span><a href=\"#Чек-лист-проверки\" data-toc-modified-id=\"Чек-лист-проверки-4\"><span class=\"toc-item-num\">4&nbsp;&nbsp;</span>Чек-лист проверки</a></span></li></ul></div>"
   ]
  },
  {
   "cell_type": "markdown",
   "metadata": {},
   "source": [
    "# Проект для «Викишоп»"
   ]
  },
  {
   "cell_type": "markdown",
   "metadata": {},
   "source": [
    "Интернет-магазин запускает новый сервис. Теперь пользователи могут редактировать и дополнять описания товаров, как в вики-сообществах. То есть клиенты предлагают свои правки и комментируют изменения других. Магазину нужен инструмент, который будет искать токсичные комментарии и отправлять их на модерацию. \n",
    "\n",
    "Обучите модель классифицировать комментарии на позитивные и негативные. В вашем распоряжении набор данных с разметкой о токсичности правок.\n",
    "\n",
    "Постройте модель со значением метрики качества *F1* не меньше 0.75. \n",
    "\n",
    "Столбец *text* в нём содержит текст комментария, а *toxic* — целевой признак."
   ]
  },
  {
   "cell_type": "markdown",
   "metadata": {},
   "source": [
    "## Подготовка"
   ]
  },
  {
   "cell_type": "code",
   "execution_count": 1,
   "metadata": {},
   "outputs": [],
   "source": [
    "import matplotlib.pyplot as plt\n",
    "import numpy as np\n",
    "import pandas as pd\n",
    "import re\n",
    "from pymystem3 import Mystem\n",
    "import nltk\n",
    "from nltk.corpus import stopwords as nltk_stopwords\n",
    "from sklearn.feature_extraction.text import TfidfVectorizer\n",
    "\n",
    "from sklearn.linear_model import LogisticRegression, SGDClassifier\n",
    "from sklearn.tree import DecisionTreeClassifier\n",
    "from sklearn.ensemble import RandomForestClassifier\n",
    "from sklearn.metrics import f1_score, precision_score, recall_score, accuracy_score, roc_auc_score, roc_curve\n",
    "from sklearn.utils import shuffle\n",
    "\n",
    "from sklearn.model_selection import cross_val_score\n",
    "from sklearn.model_selection import train_test_split\n",
    "from sklearn.model_selection import GridSearchCV\n",
    "\n",
    "import matplotlib.pyplot as plt\n",
    "import seaborn as sns\n",
    "import collections\n",
    "sns.set(style = 'darkgrid', palette = 'Set2')\n",
    "\n",
    "import warnings\n",
    "warnings.filterwarnings('ignore')"
   ]
  },
  {
   "cell_type": "code",
   "execution_count": 2,
   "metadata": {},
   "outputs": [
    {
     "name": "stdout",
     "output_type": "stream",
     "text": [
      "<class 'pandas.core.frame.DataFrame'>\n",
      "RangeIndex: 159571 entries, 0 to 159570\n",
      "Data columns (total 2 columns):\n",
      "text     159571 non-null object\n",
      "toxic    159571 non-null int64\n",
      "dtypes: int64(1), object(1)\n",
      "memory usage: 2.4+ MB\n"
     ]
    },
    {
     "data": {
      "text/plain": [
       "None"
      ]
     },
     "metadata": {},
     "output_type": "display_data"
    },
    {
     "data": {
      "text/html": [
       "<div>\n",
       "<style scoped>\n",
       "    .dataframe tbody tr th:only-of-type {\n",
       "        vertical-align: middle;\n",
       "    }\n",
       "\n",
       "    .dataframe tbody tr th {\n",
       "        vertical-align: top;\n",
       "    }\n",
       "\n",
       "    .dataframe thead th {\n",
       "        text-align: right;\n",
       "    }\n",
       "</style>\n",
       "<table border=\"1\" class=\"dataframe\">\n",
       "  <thead>\n",
       "    <tr style=\"text-align: right;\">\n",
       "      <th></th>\n",
       "      <th>text</th>\n",
       "      <th>toxic</th>\n",
       "    </tr>\n",
       "  </thead>\n",
       "  <tbody>\n",
       "    <tr>\n",
       "      <td>0</td>\n",
       "      <td>Explanation\\nWhy the edits made under my usern...</td>\n",
       "      <td>0</td>\n",
       "    </tr>\n",
       "    <tr>\n",
       "      <td>1</td>\n",
       "      <td>D'aww! He matches this background colour I'm s...</td>\n",
       "      <td>0</td>\n",
       "    </tr>\n",
       "    <tr>\n",
       "      <td>2</td>\n",
       "      <td>Hey man, I'm really not trying to edit war. It...</td>\n",
       "      <td>0</td>\n",
       "    </tr>\n",
       "    <tr>\n",
       "      <td>3</td>\n",
       "      <td>\"\\nMore\\nI can't make any real suggestions on ...</td>\n",
       "      <td>0</td>\n",
       "    </tr>\n",
       "    <tr>\n",
       "      <td>4</td>\n",
       "      <td>You, sir, are my hero. Any chance you remember...</td>\n",
       "      <td>0</td>\n",
       "    </tr>\n",
       "    <tr>\n",
       "      <td>5</td>\n",
       "      <td>\"\\n\\nCongratulations from me as well, use the ...</td>\n",
       "      <td>0</td>\n",
       "    </tr>\n",
       "    <tr>\n",
       "      <td>6</td>\n",
       "      <td>COCKSUCKER BEFORE YOU PISS AROUND ON MY WORK</td>\n",
       "      <td>1</td>\n",
       "    </tr>\n",
       "    <tr>\n",
       "      <td>7</td>\n",
       "      <td>Your vandalism to the Matt Shirvington article...</td>\n",
       "      <td>0</td>\n",
       "    </tr>\n",
       "    <tr>\n",
       "      <td>8</td>\n",
       "      <td>Sorry if the word 'nonsense' was offensive to ...</td>\n",
       "      <td>0</td>\n",
       "    </tr>\n",
       "    <tr>\n",
       "      <td>9</td>\n",
       "      <td>alignment on this subject and which are contra...</td>\n",
       "      <td>0</td>\n",
       "    </tr>\n",
       "  </tbody>\n",
       "</table>\n",
       "</div>"
      ],
      "text/plain": [
       "                                                text  toxic\n",
       "0  Explanation\\nWhy the edits made under my usern...      0\n",
       "1  D'aww! He matches this background colour I'm s...      0\n",
       "2  Hey man, I'm really not trying to edit war. It...      0\n",
       "3  \"\\nMore\\nI can't make any real suggestions on ...      0\n",
       "4  You, sir, are my hero. Any chance you remember...      0\n",
       "5  \"\\n\\nCongratulations from me as well, use the ...      0\n",
       "6       COCKSUCKER BEFORE YOU PISS AROUND ON MY WORK      1\n",
       "7  Your vandalism to the Matt Shirvington article...      0\n",
       "8  Sorry if the word 'nonsense' was offensive to ...      0\n",
       "9  alignment on this subject and which are contra...      0"
      ]
     },
     "execution_count": 2,
     "metadata": {},
     "output_type": "execute_result"
    }
   ],
   "source": [
    "toxic_comments = pd.read_csv('/datasets/toxic_comments.csv')\n",
    "display(toxic_comments.info())\n",
    "toxic_comments.head(10)"
   ]
  },
  {
   "cell_type": "markdown",
   "metadata": {},
   "source": [
    "В датасете 159571 строк и 2 столбца. Пропущенных значений нет. "
   ]
  },
  {
   "cell_type": "code",
   "execution_count": 3,
   "metadata": {},
   "outputs": [
    {
     "data": {
      "text/plain": [
       "0    143346\n",
       "1     16225\n",
       "Name: toxic, dtype: int64"
      ]
     },
     "metadata": {},
     "output_type": "display_data"
    },
    {
     "data": {
      "text/plain": [
       "8.834884437596301"
      ]
     },
     "execution_count": 3,
     "metadata": {},
     "output_type": "execute_result"
    }
   ],
   "source": [
    "display(toxic_comments['toxic'].value_counts())\n",
    "ratio = toxic_comments['toxic'].value_counts()[0] / toxic_comments['toxic'].value_counts()[1]\n",
    "ratio"
   ]
  },
  {
   "cell_type": "markdown",
   "metadata": {},
   "source": [
    "Текст необходимо очистить и лемматизировать.   \n",
    "Почти 90% данных из набора принадлежат к одному классу. Это может очень сильно сместить результаты, и поэтому для классов нужно найти способ балансировки."
   ]
  },
  {
   "cell_type": "markdown",
   "metadata": {},
   "source": [
    "### Подготовка признаков."
   ]
  },
  {
   "cell_type": "code",
   "execution_count": 4,
   "metadata": {},
   "outputs": [],
   "source": [
    "# Функция для лемматизации и очистки комментариев\n",
    "m = Mystem()\n",
    "def lemmatize(text):\n",
    "    text = text.lower()\n",
    "    lemm_text = \"\".join(m.lemmatize(text))\n",
    "    clear_text = re.sub(r'[^a-zA-Z]', ' ', lemm_text)\n",
    "    return \" \".join(clear_text.split())\n",
    "\n",
    "toxic_comments['lemm_text'] = toxic_comments['text'].apply(lemmatize)\n",
    "\n",
    "toxic_comments = toxic_comments.drop(['text'], axis=1)"
   ]
  },
  {
   "cell_type": "code",
   "execution_count": 5,
   "metadata": {},
   "outputs": [],
   "source": [
    "features = toxic_comments.drop(['toxic'], axis=1)\n",
    "target = toxic_comments['toxic']"
   ]
  },
  {
   "cell_type": "code",
   "execution_count": 6,
   "metadata": {},
   "outputs": [],
   "source": [
    "features_train, features_valid, target_train, target_valid = train_test_split(features, \n",
    "                                                                              target, \n",
    "                                                                              test_size=0.3, \n",
    "                                                                              random_state=12345678)"
   ]
  },
  {
   "cell_type": "code",
   "execution_count": 7,
   "metadata": {},
   "outputs": [],
   "source": [
    "features_valid, features_test, target_valid, target_test = train_test_split(features_valid, \n",
    "                                                                            target_valid, \n",
    "                                                                            test_size=0.5,\n",
    "                                                                            random_state=12345678)"
   ]
  },
  {
   "cell_type": "code",
   "execution_count": 8,
   "metadata": {},
   "outputs": [
    {
     "name": "stdout",
     "output_type": "stream",
     "text": [
      "(111699, 138181)\n",
      "(23936, 138181)\n",
      "(23936, 138181)\n"
     ]
    }
   ],
   "source": [
    "stopwords = set(nltk_stopwords.words('english'))\n",
    "count_tf_idf = TfidfVectorizer(stop_words=stopwords)\n",
    "\n",
    "\n",
    "features_train = count_tf_idf.fit_transform(features_train['lemm_text'])\n",
    "features_valid = count_tf_idf.transform(features_valid['lemm_text'])\n",
    "features_test = count_tf_idf.transform(features_test['lemm_text'])\n",
    "print(features_train.shape)\n",
    "print(features_valid.shape)\n",
    "print(features_test.shape)\n",
    "cv_counts = 4"
   ]
  },
  {
   "cell_type": "code",
   "execution_count": 9,
   "metadata": {},
   "outputs": [
    {
     "name": "stdout",
     "output_type": "stream",
     "text": [
      "F1 на CV 0.700387428532522\n",
      "CPU times: user 18 s, sys: 15.5 s, total: 33.5 s\n",
      "Wall time: 33.5 s\n"
     ]
    }
   ],
   "source": [
    "%%time\n",
    "\n",
    "classificator = LogisticRegression()\n",
    "train_f1 = cross_val_score(classificator, \n",
    "                      features_train, \n",
    "                      target_train,\n",
    "                      cv=cv_counts, \n",
    "                      scoring='f1').mean()\n",
    "print('F1 на CV', train_f1)"
   ]
  },
  {
   "cell_type": "markdown",
   "metadata": {},
   "source": [
    "Воспользуемся изменением весов классов. "
   ]
  },
  {
   "cell_type": "code",
   "execution_count": 10,
   "metadata": {},
   "outputs": [],
   "source": [
    "dict_classes={0:1, 1:ratio}"
   ]
  },
  {
   "cell_type": "code",
   "execution_count": 11,
   "metadata": {},
   "outputs": [
    {
     "name": "stdout",
     "output_type": "stream",
     "text": [
      "F1 с балансированными классами (CV) 0.7565948395022247\n",
      "CPU times: user 32.2 s, sys: 26.1 s, total: 58.4 s\n",
      "Wall time: 58.6 s\n"
     ]
    }
   ],
   "source": [
    "%%time\n",
    "\n",
    "classificator = LogisticRegression(class_weight=dict_classes)\n",
    "f1_train_ballanced = cross_val_score(classificator, \n",
    "                                    features_train, \n",
    "                                    target_train, \n",
    "                                    cv=cv_counts, \n",
    "                                    scoring='f1').mean()\n",
    "print('F1 с балансированными классами (CV)', f1_train_ballanced)"
   ]
  },
  {
   "cell_type": "markdown",
   "metadata": {},
   "source": [
    "В поцессе предобработки были получены признаки и разделена выборка.\n",
    "Для балансирования используем метод, учитывающий вес классов."
   ]
  },
  {
   "cell_type": "markdown",
   "metadata": {},
   "source": [
    "## Обучение"
   ]
  },
  {
   "cell_type": "markdown",
   "metadata": {},
   "source": [
    "Попробуем разные модели: логистическую регрессию, стохастический градиентный спуск и несколько деревьев."
   ]
  },
  {
   "cell_type": "markdown",
   "metadata": {},
   "source": [
    "### LogisticRegression"
   ]
  },
  {
   "cell_type": "code",
   "execution_count": 12,
   "metadata": {},
   "outputs": [
    {
     "name": "stdout",
     "output_type": "stream",
     "text": [
      "_____Tuning hyper-parameters for f1_score_____\n",
      "\n",
      "Best parameters set: {'C': 10, 'class_weight': {0: 1, 1: 8.834884437596301}, 'solver': 'lbfgs'}\n",
      "\n",
      "Grid scores (development set):\n",
      "\n",
      "0.720867 for {'C': 0.1, 'class_weight': {0: 1, 1: 8.834884437596301}, 'solver': 'newton-cg'}\n",
      "0.720916 for {'C': 0.1, 'class_weight': {0: 1, 1: 8.834884437596301}, 'solver': 'lbfgs'}\n",
      "0.721014 for {'C': 0.1, 'class_weight': {0: 1, 1: 8.834884437596301}, 'solver': 'liblinear'}\n",
      "0.756595 for {'C': 1, 'class_weight': {0: 1, 1: 8.834884437596301}, 'solver': 'newton-cg'}\n",
      "0.756346 for {'C': 1, 'class_weight': {0: 1, 1: 8.834884437596301}, 'solver': 'lbfgs'}\n",
      "0.756595 for {'C': 1, 'class_weight': {0: 1, 1: 8.834884437596301}, 'solver': 'liblinear'}\n",
      "0.764817 for {'C': 10, 'class_weight': {0: 1, 1: 8.834884437596301}, 'solver': 'newton-cg'}\n",
      "0.764973 for {'C': 10, 'class_weight': {0: 1, 1: 8.834884437596301}, 'solver': 'lbfgs'}\n",
      "0.764817 for {'C': 10, 'class_weight': {0: 1, 1: 8.834884437596301}, 'solver': 'liblinear'}\n",
      "\n",
      "CPU times: user 9min 24s, sys: 9min 5s, total: 18min 30s\n",
      "Wall time: 18min 30s\n"
     ]
    }
   ],
   "source": [
    "%%time\n",
    "\n",
    "regressor = LogisticRegression()\n",
    "hyperparams = [{'solver':['newton-cg', 'lbfgs', 'liblinear'],\n",
    "                'C':[0.1, 1, 10],\n",
    "                'class_weight':[dict_classes]}]\n",
    "\n",
    "\n",
    "print('_____Tuning hyper-parameters for f1_score_____')\n",
    "print()\n",
    "\n",
    "clf = GridSearchCV(regressor, hyperparams, scoring='f1', cv=cv_counts)\n",
    "clf.fit(features_train, target_train)\n",
    "LR_best_params = clf.best_params_\n",
    "print(\"Best parameters set:\", LR_best_params)\n",
    "print()\n",
    "\n",
    "print(\"Grid scores (development set):\")\n",
    "print()\n",
    "means = clf.cv_results_['mean_test_score']\n",
    "stds = clf.cv_results_['std_test_score']\n",
    "for mean, std, params in zip(means, stds, clf.cv_results_['params']):\n",
    "    print(\"%0.6f for %r\"% (mean, params))\n",
    "print()\n",
    "\n",
    "LR_cv_f1 = max(means)"
   ]
  },
  {
   "cell_type": "code",
   "execution_count": 13,
   "metadata": {},
   "outputs": [
    {
     "name": "stdout",
     "output_type": "stream",
     "text": [
      "F1 на cv 0.7649734527409647\n",
      "F1 на валидации 0.7653981953707335\n",
      "CPU times: user 26.8 s, sys: 27.2 s, total: 54 s\n",
      "Wall time: 54 s\n"
     ]
    }
   ],
   "source": [
    "%%time\n",
    "\n",
    "regressor = LogisticRegression()\n",
    "regressor.set_params(**clf.best_params_)\n",
    "regressor.fit(features_train, target_train)\n",
    "target_predict = regressor.predict(features_valid)\n",
    "LR_valid_f1 = f1_score(target_valid, target_predict)\n",
    "print('F1 на cv', LR_cv_f1)\n",
    "print('F1 на валидации', LR_valid_f1)"
   ]
  },
  {
   "cell_type": "markdown",
   "metadata": {},
   "source": [
    "### SGDClassifier"
   ]
  },
  {
   "cell_type": "code",
   "execution_count": 14,
   "metadata": {},
   "outputs": [
    {
     "name": "stdout",
     "output_type": "stream",
     "text": [
      "_____Tuning hyper-parameters for f1_score_____\n",
      "\n",
      "Best parameters set: {'class_weight': {0: 1, 1: 8.834884437596301}, 'eta0': 0.01, 'learning_rate': 'adaptive', 'loss': 'modified_huber', 'random_state': 1234567}\n",
      "\n",
      "Grid scores (development set):\n",
      "\n",
      "0.742088 for {'class_weight': {0: 1, 1: 8.834884437596301}, 'eta0': 0.01, 'learning_rate': 'constant', 'loss': 'hinge', 'random_state': 1234567}\n",
      "0.720790 for {'class_weight': {0: 1, 1: 8.834884437596301}, 'eta0': 0.01, 'learning_rate': 'constant', 'loss': 'log', 'random_state': 1234567}\n",
      "0.753660 for {'class_weight': {0: 1, 1: 8.834884437596301}, 'eta0': 0.01, 'learning_rate': 'constant', 'loss': 'modified_huber', 'random_state': 1234567}\n",
      "0.742659 for {'class_weight': {0: 1, 1: 8.834884437596301}, 'eta0': 0.01, 'learning_rate': 'optimal', 'loss': 'hinge', 'random_state': 1234567}\n",
      "0.721124 for {'class_weight': {0: 1, 1: 8.834884437596301}, 'eta0': 0.01, 'learning_rate': 'optimal', 'loss': 'log', 'random_state': 1234567}\n",
      "0.758401 for {'class_weight': {0: 1, 1: 8.834884437596301}, 'eta0': 0.01, 'learning_rate': 'optimal', 'loss': 'modified_huber', 'random_state': 1234567}\n",
      "0.658259 for {'class_weight': {0: 1, 1: 8.834884437596301}, 'eta0': 0.01, 'learning_rate': 'invscaling', 'loss': 'hinge', 'random_state': 1234567}\n",
      "0.631396 for {'class_weight': {0: 1, 1: 8.834884437596301}, 'eta0': 0.01, 'learning_rate': 'invscaling', 'loss': 'log', 'random_state': 1234567}\n",
      "0.674626 for {'class_weight': {0: 1, 1: 8.834884437596301}, 'eta0': 0.01, 'learning_rate': 'invscaling', 'loss': 'modified_huber', 'random_state': 1234567}\n",
      "0.744350 for {'class_weight': {0: 1, 1: 8.834884437596301}, 'eta0': 0.01, 'learning_rate': 'adaptive', 'loss': 'hinge', 'random_state': 1234567}\n",
      "0.722735 for {'class_weight': {0: 1, 1: 8.834884437596301}, 'eta0': 0.01, 'learning_rate': 'adaptive', 'loss': 'log', 'random_state': 1234567}\n",
      "0.761154 for {'class_weight': {0: 1, 1: 8.834884437596301}, 'eta0': 0.01, 'learning_rate': 'adaptive', 'loss': 'modified_huber', 'random_state': 1234567}\n",
      "0.738444 for {'class_weight': {0: 1, 1: 8.834884437596301}, 'eta0': 0.05, 'learning_rate': 'constant', 'loss': 'hinge', 'random_state': 1234567}\n",
      "0.719207 for {'class_weight': {0: 1, 1: 8.834884437596301}, 'eta0': 0.05, 'learning_rate': 'constant', 'loss': 'log', 'random_state': 1234567}\n",
      "0.729851 for {'class_weight': {0: 1, 1: 8.834884437596301}, 'eta0': 0.05, 'learning_rate': 'constant', 'loss': 'modified_huber', 'random_state': 1234567}\n",
      "0.742659 for {'class_weight': {0: 1, 1: 8.834884437596301}, 'eta0': 0.05, 'learning_rate': 'optimal', 'loss': 'hinge', 'random_state': 1234567}\n",
      "0.721124 for {'class_weight': {0: 1, 1: 8.834884437596301}, 'eta0': 0.05, 'learning_rate': 'optimal', 'loss': 'log', 'random_state': 1234567}\n",
      "0.758401 for {'class_weight': {0: 1, 1: 8.834884437596301}, 'eta0': 0.05, 'learning_rate': 'optimal', 'loss': 'modified_huber', 'random_state': 1234567}\n",
      "0.694923 for {'class_weight': {0: 1, 1: 8.834884437596301}, 'eta0': 0.05, 'learning_rate': 'invscaling', 'loss': 'hinge', 'random_state': 1234567}\n",
      "0.667028 for {'class_weight': {0: 1, 1: 8.834884437596301}, 'eta0': 0.05, 'learning_rate': 'invscaling', 'loss': 'log', 'random_state': 1234567}\n",
      "0.680347 for {'class_weight': {0: 1, 1: 8.834884437596301}, 'eta0': 0.05, 'learning_rate': 'invscaling', 'loss': 'modified_huber', 'random_state': 1234567}\n",
      "0.745340 for {'class_weight': {0: 1, 1: 8.834884437596301}, 'eta0': 0.05, 'learning_rate': 'adaptive', 'loss': 'hinge', 'random_state': 1234567}\n",
      "0.723884 for {'class_weight': {0: 1, 1: 8.834884437596301}, 'eta0': 0.05, 'learning_rate': 'adaptive', 'loss': 'log', 'random_state': 1234567}\n",
      "0.760821 for {'class_weight': {0: 1, 1: 8.834884437596301}, 'eta0': 0.05, 'learning_rate': 'adaptive', 'loss': 'modified_huber', 'random_state': 1234567}\n",
      "0.727828 for {'class_weight': {0: 1, 1: 8.834884437596301}, 'eta0': 0.1, 'learning_rate': 'constant', 'loss': 'hinge', 'random_state': 1234567}\n",
      "0.706456 for {'class_weight': {0: 1, 1: 8.834884437596301}, 'eta0': 0.1, 'learning_rate': 'constant', 'loss': 'log', 'random_state': 1234567}\n",
      "0.694070 for {'class_weight': {0: 1, 1: 8.834884437596301}, 'eta0': 0.1, 'learning_rate': 'constant', 'loss': 'modified_huber', 'random_state': 1234567}\n",
      "0.742659 for {'class_weight': {0: 1, 1: 8.834884437596301}, 'eta0': 0.1, 'learning_rate': 'optimal', 'loss': 'hinge', 'random_state': 1234567}\n",
      "0.721124 for {'class_weight': {0: 1, 1: 8.834884437596301}, 'eta0': 0.1, 'learning_rate': 'optimal', 'loss': 'log', 'random_state': 1234567}\n",
      "0.758401 for {'class_weight': {0: 1, 1: 8.834884437596301}, 'eta0': 0.1, 'learning_rate': 'optimal', 'loss': 'modified_huber', 'random_state': 1234567}\n",
      "0.692776 for {'class_weight': {0: 1, 1: 8.834884437596301}, 'eta0': 0.1, 'learning_rate': 'invscaling', 'loss': 'hinge', 'random_state': 1234567}\n",
      "0.669924 for {'class_weight': {0: 1, 1: 8.834884437596301}, 'eta0': 0.1, 'learning_rate': 'invscaling', 'loss': 'log', 'random_state': 1234567}\n",
      "0.695362 for {'class_weight': {0: 1, 1: 8.834884437596301}, 'eta0': 0.1, 'learning_rate': 'invscaling', 'loss': 'modified_huber', 'random_state': 1234567}\n",
      "0.745319 for {'class_weight': {0: 1, 1: 8.834884437596301}, 'eta0': 0.1, 'learning_rate': 'adaptive', 'loss': 'hinge', 'random_state': 1234567}\n",
      "0.723589 for {'class_weight': {0: 1, 1: 8.834884437596301}, 'eta0': 0.1, 'learning_rate': 'adaptive', 'loss': 'log', 'random_state': 1234567}\n",
      "0.760652 for {'class_weight': {0: 1, 1: 8.834884437596301}, 'eta0': 0.1, 'learning_rate': 'adaptive', 'loss': 'modified_huber', 'random_state': 1234567}\n",
      "\n",
      "CPU times: user 3min 26s, sys: 5.29 s, total: 3min 31s\n",
      "Wall time: 3min 34s\n"
     ]
    }
   ],
   "source": [
    "%%time\n",
    "\n",
    "classifier = SGDClassifier()\n",
    "hyperparams = [{'loss':['hinge', 'log', 'modified_huber'],\n",
    "                'learning_rate':['constant', 'optimal', 'invscaling', 'adaptive'],\n",
    "                'eta0':[0.01, 0.05, 0.1],\n",
    "                'random_state':[1234567],\n",
    "                'class_weight':[dict_classes]}]\n",
    "\n",
    "\n",
    "print('_____Tuning hyper-parameters for f1_score_____')\n",
    "print()\n",
    "\n",
    "clf = GridSearchCV(classifier, hyperparams, scoring='f1', cv=cv_counts)\n",
    "clf.fit(features_train, target_train)\n",
    "SGDC_best_params = clf.best_params_\n",
    "print(\"Best parameters set:\", SGDC_best_params)\n",
    "print()\n",
    "\n",
    "\n",
    "print(\"Grid scores (development set):\")\n",
    "print()\n",
    "means = clf.cv_results_['mean_test_score']\n",
    "stds = clf.cv_results_['std_test_score']\n",
    "for mean, std, params in zip(means, stds, clf.cv_results_['params']):\n",
    "    print(\"%0.6f for %r\"% (mean, params))\n",
    "print()\n",
    "\n",
    "SGDC_cv_f1 = max(means)"
   ]
  },
  {
   "cell_type": "code",
   "execution_count": 15,
   "metadata": {},
   "outputs": [
    {
     "name": "stdout",
     "output_type": "stream",
     "text": [
      "F1 на cv 0.7611544465072447\n",
      "F1 на валидации 0.7546270844786513\n",
      "CPU times: user 2.36 s, sys: 0 ns, total: 2.36 s\n",
      "Wall time: 2.37 s\n"
     ]
    }
   ],
   "source": [
    "%%time\n",
    "\n",
    "classifier = SGDClassifier()\n",
    "classifier.set_params(**clf.best_params_)\n",
    "classifier.fit(features_train, target_train)\n",
    "target_predict = classifier.predict(features_valid)\n",
    "SGDC_valid_f1 = f1_score(target_valid, target_predict)\n",
    "print('F1 на cv', SGDC_cv_f1)\n",
    "print('F1 на валидации', SGDC_valid_f1)"
   ]
  },
  {
   "cell_type": "markdown",
   "metadata": {},
   "source": [
    "### DecisionTreeClassifier"
   ]
  },
  {
   "cell_type": "code",
   "execution_count": 16,
   "metadata": {},
   "outputs": [
    {
     "name": "stdout",
     "output_type": "stream",
     "text": [
      "_____Tuning hyper-parameters for f1_score_____\n",
      "\n",
      "Best parameters set: {'class_weight': {0: 1, 1: 8.834884437596301}, 'max_depth': 50, 'random_state': 12082020}\n",
      "\n",
      "Grid scores on development set:\n",
      "\n",
      "0.628370 for {'class_weight': {0: 1, 1: 8.834884437596301}, 'max_depth': 30, 'random_state': 12082020}\n",
      "0.634810 for {'class_weight': {0: 1, 1: 8.834884437596301}, 'max_depth': 32, 'random_state': 12082020}\n",
      "0.630901 for {'class_weight': {0: 1, 1: 8.834884437596301}, 'max_depth': 34, 'random_state': 12082020}\n",
      "0.632364 for {'class_weight': {0: 1, 1: 8.834884437596301}, 'max_depth': 36, 'random_state': 12082020}\n",
      "0.629889 for {'class_weight': {0: 1, 1: 8.834884437596301}, 'max_depth': 38, 'random_state': 12082020}\n",
      "0.626588 for {'class_weight': {0: 1, 1: 8.834884437596301}, 'max_depth': 40, 'random_state': 12082020}\n",
      "0.631377 for {'class_weight': {0: 1, 1: 8.834884437596301}, 'max_depth': 42, 'random_state': 12082020}\n",
      "0.631659 for {'class_weight': {0: 1, 1: 8.834884437596301}, 'max_depth': 44, 'random_state': 12082020}\n",
      "0.635828 for {'class_weight': {0: 1, 1: 8.834884437596301}, 'max_depth': 46, 'random_state': 12082020}\n",
      "0.637921 for {'class_weight': {0: 1, 1: 8.834884437596301}, 'max_depth': 48, 'random_state': 12082020}\n",
      "0.640363 for {'class_weight': {0: 1, 1: 8.834884437596301}, 'max_depth': 50, 'random_state': 12082020}\n",
      "\n",
      "CPU times: user 29min 37s, sys: 0 ns, total: 29min 37s\n",
      "Wall time: 30min 13s\n"
     ]
    }
   ],
   "source": [
    "%%time\n",
    "\n",
    "classificator = DecisionTreeClassifier()\n",
    "hyperparams = [{'max_depth':[x for x in range(30,51,2)],\n",
    "                'random_state':[12082020],\n",
    "                'class_weight':[dict_classes]}]\n",
    "\n",
    "print('_____Tuning hyper-parameters for f1_score_____')\n",
    "print()\n",
    "\n",
    "clf = GridSearchCV(classificator, hyperparams, scoring='f1',cv=cv_counts)\n",
    "clf.fit(features_train, target_train)\n",
    "DTC_best_params = clf.best_params_\n",
    "print(\"Best parameters set:\", DTC_best_params)\n",
    "print()\n",
    "\n",
    "\n",
    "print(\"Grid scores on development set:\")\n",
    "print()\n",
    "means = clf.cv_results_['mean_test_score']\n",
    "stds = clf.cv_results_['std_test_score']\n",
    "for mean, std, params in zip(means, stds, clf.cv_results_['params']):\n",
    "    print(\"%0.6f for %r\"% (mean, params))\n",
    "print()\n",
    "\n",
    "DTC_cv_f1 = max(means)"
   ]
  },
  {
   "cell_type": "code",
   "execution_count": 20,
   "metadata": {},
   "outputs": [
    {
     "name": "stdout",
     "output_type": "stream",
     "text": [
      "F1 на cv 0.6403632460310067\n",
      "F1 на валидации 0.6245572609208974\n",
      "CPU times: user 54.9 s, sys: 0 ns, total: 54.9 s\n",
      "Wall time: 55 s\n"
     ]
    }
   ],
   "source": [
    "%%time\n",
    "\n",
    "classificator = DecisionTreeClassifier()\n",
    "classificator.set_params(**DTC_best_params)\n",
    "classificator.fit(features_train, target_train)\n",
    "target_predict = classificator.predict(features_valid)\n",
    "DTC_valid_f1 = f1_score(target_valid, target_predict)\n",
    "print('F1 на cv', DTC_cv_f1)\n",
    "print('F1 на валидации', DTC_valid_f1)"
   ]
  },
  {
   "cell_type": "markdown",
   "metadata": {},
   "source": [
    "### RandomForestClassifier"
   ]
  },
  {
   "cell_type": "code",
   "execution_count": 25,
   "metadata": {},
   "outputs": [
    {
     "name": "stdout",
     "output_type": "stream",
     "text": [
      "_____Tuning hyper-parameters for f1_score_____\n",
      "\n",
      "Best parameters set: {'class_weight': {0: 1, 1: 8.834884437596301}, 'max_depth': 89, 'random_state': 12345678}\n",
      "\n",
      "Grid scores on development set:\n",
      "\n",
      "0.453184 for {'class_weight': {0: 1, 1: 8.834884437596301}, 'max_depth': 80, 'random_state': 12345678}\n",
      "0.456576 for {'class_weight': {0: 1, 1: 8.834884437596301}, 'max_depth': 81, 'random_state': 12345678}\n",
      "0.454380 for {'class_weight': {0: 1, 1: 8.834884437596301}, 'max_depth': 82, 'random_state': 12345678}\n",
      "0.456632 for {'class_weight': {0: 1, 1: 8.834884437596301}, 'max_depth': 83, 'random_state': 12345678}\n",
      "0.458175 for {'class_weight': {0: 1, 1: 8.834884437596301}, 'max_depth': 84, 'random_state': 12345678}\n",
      "0.457418 for {'class_weight': {0: 1, 1: 8.834884437596301}, 'max_depth': 85, 'random_state': 12345678}\n",
      "0.461625 for {'class_weight': {0: 1, 1: 8.834884437596301}, 'max_depth': 86, 'random_state': 12345678}\n",
      "0.460655 for {'class_weight': {0: 1, 1: 8.834884437596301}, 'max_depth': 87, 'random_state': 12345678}\n",
      "0.464117 for {'class_weight': {0: 1, 1: 8.834884437596301}, 'max_depth': 88, 'random_state': 12345678}\n",
      "0.465855 for {'class_weight': {0: 1, 1: 8.834884437596301}, 'max_depth': 89, 'random_state': 12345678}\n",
      "\n",
      "CPU times: user 14min 58s, sys: 0 ns, total: 14min 58s\n",
      "Wall time: 15min 19s\n"
     ]
    }
   ],
   "source": [
    "%%time\n",
    "\n",
    "classificator = RandomForestClassifier()\n",
    "hyperparams = [{'max_depth':[x for x in range(80, 90, 1)],\n",
    "                'random_state':[12345678],\n",
    "                'class_weight':[dict_classes]}]\n",
    "\n",
    "print('_____Tuning hyper-parameters for f1_score_____')\n",
    "print()\n",
    "\n",
    "clf = GridSearchCV(classificator, hyperparams, scoring='f1',cv=cv_counts)\n",
    "clf.fit(features_train, target_train)\n",
    "RFC_best_params = clf.best_params_\n",
    "print(\"Best parameters set:\", RFC_best_params)\n",
    "print()\n",
    "\n",
    "\n",
    "print(\"Grid scores on development set:\")\n",
    "print()\n",
    "means = clf.cv_results_['mean_test_score']\n",
    "stds = clf.cv_results_['std_test_score']\n",
    "for mean, std, params in zip(means, stds, clf.cv_results_['params']):\n",
    "    print(\"%0.6f for %r\"% (mean, params))\n",
    "print()\n",
    "\n",
    "RFC_cv_f1 = max(means)"
   ]
  },
  {
   "cell_type": "code",
   "execution_count": 26,
   "metadata": {},
   "outputs": [
    {
     "name": "stdout",
     "output_type": "stream",
     "text": [
      "F1 на cv 0.4658552481567498\n",
      "F1 на валидации 0.472944776742245\n",
      "CPU times: user 12.9 s, sys: 0 ns, total: 12.9 s\n",
      "Wall time: 13.6 s\n"
     ]
    }
   ],
   "source": [
    "%%time\n",
    "\n",
    "classificator = RandomForestClassifier()\n",
    "classificator.set_params(**RFC_best_params)\n",
    "classificator.fit(features_train, target_train)\n",
    "target_predict = classificator.predict(features_valid)\n",
    "RFC_valid_f1 = f1_score(target_valid, target_predict)\n",
    "print('F1 на cv', RFC_cv_f1)\n",
    "print('F1 на валидации', RFC_valid_f1)"
   ]
  },
  {
   "cell_type": "markdown",
   "metadata": {},
   "source": [
    "Обучено 4 различные модели, но только две из них показали необходимый результат: метрики деревьев оказались ниже, чем необходимо."
   ]
  },
  {
   "cell_type": "markdown",
   "metadata": {},
   "source": [
    "## Выводы"
   ]
  },
  {
   "cell_type": "code",
   "execution_count": 45,
   "metadata": {},
   "outputs": [
    {
     "name": "stdout",
     "output_type": "stream",
     "text": [
      "                ROC_AUC     LR_F1 LR_Precision LR_Recall LR_Accuracy\n",
      "SGDClassifier  0.969606  0.756181     0.683162  0.846678    0.946441\n",
      "                     ROC_AUC     LR_F1 LR_Precision LR_Recall LR_Accuracy\n",
      "LogisticRegression  0.964936  0.765502     0.728006   0.80707    0.951496\n"
     ]
    },
    {
     "data": {
      "image/png": "[encoded data removed]",
      "text/plain": [
       "<Figure size 1440x1080 with 1 Axes>"
      ]
     },
     "metadata": {},
     "output_type": "display_data"
    }
   ],
   "source": [
    "plt.figure(figsize=(20, 15))\n",
    "sns.lineplot([0, 1], [0, 1], linestyle='--', label='RandomModel')\n",
    "\n",
    "classificator = SGDClassifier()\n",
    "classificator.set_params(**SGDC_best_params)\n",
    "classificator.fit(features_train, target_train)\n",
    "probabilities_test = classificator.predict_proba(features_test)\n",
    "probabilities_one_test = probabilities_test[:, 1]\n",
    "fpr, tpr, thresholds = roc_curve(target_test, probabilities_one_test)\n",
    "predict_test = classificator.predict(features_test)\n",
    "sns.lineplot(fpr, tpr, label='SGDClassifier')\n",
    "LR_ROC_AUC = roc_auc_score(target_test, probabilities_one_test)\n",
    "LR_F1 = f1_score(target_test, predict_test)\n",
    "LR_Precision = precision_score(target_test, predict_test)\n",
    "LR_Recall = recall_score(target_test, predict_test)\n",
    "LR_Accuracy = accuracy_score(target_test, predict_test)\n",
    "report_1 = pd.DataFrame(columns = [\"ROC_AUC\",\n",
    "                               \"LR_F1\",\n",
    "                               \"LR_Precision\",\n",
    "                               \"LR_Recall\",\n",
    "                               \"LR_Accuracy\"],\n",
    "                      index = [\"SGDClassifier\"])\n",
    "\n",
    "\n",
    "report_1.iloc[0] = [LR_ROC_AUC, LR_F1, LR_Precision, LR_Recall, LR_Accuracy]\n",
    "print(report_1)\n",
    "\n",
    "\n",
    "classificator = LogisticRegression()\n",
    "classificator.set_params(**LR_best_params)\n",
    "classificator.fit(features_train, target_train)\n",
    "probabilities_test = classificator.predict_proba(features_test)\n",
    "probabilities_one_test = probabilities_test[:, 1]\n",
    "fpr, tpr, thresholds = roc_curve(target_test, probabilities_one_test)\n",
    "predict_test = classificator.predict(features_test)\n",
    "sns.lineplot(fpr, tpr, label='LogisticRegression')\n",
    "SGDC_ROC_AUC = roc_auc_score(target_test, probabilities_one_test)\n",
    "SGDC_F1 = f1_score(target_test, predict_test)\n",
    "SGDC_Precision = precision_score(target_test, predict_test)\n",
    "SGDC_Recall = recall_score(target_test, predict_test)\n",
    "SGDC_Accuracy = accuracy_score(target_test, predict_test)\n",
    "\n",
    "\n",
    "report_2 = pd.DataFrame(columns = [\"ROC_AUC\",\n",
    "                               \"LR_F1\",\n",
    "                               \"LR_Precision\",\n",
    "                               \"LR_Recall\",\n",
    "                               \"LR_Accuracy\"],\n",
    "                      index = [\"LogisticRegression\"])\n",
    "\n",
    "\n",
    "report_2.iloc[0] = [SGDC_ROC_AUC, SGDC_F1, SGDC_Precision, SGDC_Recall, SGDC_Accuracy]\n",
    "print(report_2)\n",
    "\n",
    "plt.xlabel(\"False Positive Rate\")\n",
    "plt.ylabel(\"True Positive Rate\")\n",
    "\n",
    "plt.legend(loc='lower right', fontsize='x-large')\n",
    "\n",
    "plt.title(\"ROC-кривая\")\n",
    "plt.show()"
   ]
  },
  {
   "cell_type": "markdown",
   "metadata": {},
   "source": [
    "- Данные подготовили.\n",
    "- Данные разделили на выборки и выбрали способ балансировки.\n",
    "- Обучили модели и выбрали две лучшие: SGDClassifier, LogisticRegression.\n",
    "- Рассчитаны параметры качества моделей.\n",
    " \n",
    "На тестовой выбоке по метрике F1 самой продуктивной оказалась модель LogisticRegression, судя по значениям Precision и Accuracy лучше всего находит необходимые комментарии.\n",
    "\n",
    "У SGDClassifier значения ROC AUC и Recall выше, чем у LogisticRegression, данная модель может обработать больше запсей."
   ]
  }
 ],
 "metadata": {
  "ExecuteTimeLog": [
   {
    "duration": 1692,
    "start_time": "2021-08-18T10:22:12.193Z"
   },
   {
    "duration": 727,
    "start_time": "2021-08-18T10:22:34.816Z"
   },
   {
    "duration": 818,
    "start_time": "2021-08-18T10:28:52.544Z"
   },
   {
    "duration": 781,
    "start_time": "2021-08-18T10:29:02.104Z"
   },
   {
    "duration": 739,
    "start_time": "2021-08-18T10:29:36.626Z"
   },
   {
    "duration": 721,
    "start_time": "2021-08-18T10:30:02.910Z"
   },
   {
    "duration": 12,
    "start_time": "2021-08-18T10:30:08.134Z"
   },
   {
    "duration": 749,
    "start_time": "2021-08-18T10:30:23.461Z"
   },
   {
    "duration": 926,
    "start_time": "2021-08-18T10:48:19.147Z"
   },
   {
    "duration": 7752,
    "start_time": "2021-08-18T10:51:13.670Z"
   },
   {
    "duration": 7430,
    "start_time": "2021-08-18T10:51:40.515Z"
   },
   {
    "duration": 5000,
    "start_time": "2021-08-18T11:02:46.230Z"
   },
   {
    "duration": 4763,
    "start_time": "2021-08-18T11:06:34.371Z"
   },
   {
    "duration": 275,
    "start_time": "2021-08-18T11:20:09.652Z"
   },
   {
    "duration": 245,
    "start_time": "2021-08-18T11:20:32.693Z"
   },
   {
    "duration": 244,
    "start_time": "2021-08-18T11:22:20.122Z"
   },
   {
    "duration": 277,
    "start_time": "2021-08-18T11:25:55.851Z"
   },
   {
    "duration": 838,
    "start_time": "2021-08-18T11:26:17.286Z"
   },
   {
    "duration": 249,
    "start_time": "2021-08-18T11:36:48.817Z"
   },
   {
    "duration": 1679,
    "start_time": "2021-08-18T11:37:18.551Z"
   },
   {
    "duration": 1120,
    "start_time": "2021-08-18T11:37:20.232Z"
   },
   {
    "duration": 567,
    "start_time": "2021-08-18T11:37:21.355Z"
   },
   {
    "duration": 19,
    "start_time": "2021-08-18T11:41:15.870Z"
   },
   {
    "duration": 275,
    "start_time": "2021-08-18T12:12:55.916Z"
   },
   {
    "duration": 166687,
    "start_time": "2021-08-18T12:13:07.361Z"
   },
   {
    "duration": 6,
    "start_time": "2021-08-18T12:41:56.933Z"
   },
   {
    "duration": 7004,
    "start_time": "2021-08-18T13:02:51.390Z"
   },
   {
    "duration": 6703,
    "start_time": "2021-08-18T13:03:33.504Z"
   },
   {
    "duration": 6648,
    "start_time": "2021-08-18T13:04:30.932Z"
   },
   {
    "duration": 8,
    "start_time": "2021-08-18T13:05:40.636Z"
   },
   {
    "duration": 8,
    "start_time": "2021-08-18T13:05:58.163Z"
   },
   {
    "duration": 27,
    "start_time": "2021-08-18T13:16:42.677Z"
   },
   {
    "duration": 306,
    "start_time": "2021-08-18T13:16:43.516Z"
   },
   {
    "duration": 356,
    "start_time": "2021-08-18T13:16:58.222Z"
   },
   {
    "duration": 27,
    "start_time": "2021-08-18T13:17:12.273Z"
   },
   {
    "duration": 270,
    "start_time": "2021-08-18T13:17:13.186Z"
   },
   {
    "duration": 34,
    "start_time": "2021-08-18T13:17:41.444Z"
   },
   {
    "duration": 37,
    "start_time": "2021-08-18T13:17:57.401Z"
   },
   {
    "duration": 27,
    "start_time": "2021-08-18T13:18:30.056Z"
   },
   {
    "duration": 15,
    "start_time": "2021-08-18T13:18:33.512Z"
   },
   {
    "duration": 114,
    "start_time": "2021-08-18T13:19:50.792Z"
   },
   {
    "duration": 5,
    "start_time": "2021-08-18T13:20:07.607Z"
   },
   {
    "duration": 1287,
    "start_time": "2021-08-18T13:21:30.935Z"
   },
   {
    "duration": 227,
    "start_time": "2021-08-18T13:21:48.815Z"
   },
   {
    "duration": 343,
    "start_time": "2021-08-18T13:22:01.938Z"
   },
   {
    "duration": 2175,
    "start_time": "2021-08-18T13:22:10.667Z"
   },
   {
    "duration": 751,
    "start_time": "2021-08-18T13:22:12.845Z"
   },
   {
    "duration": 17,
    "start_time": "2021-08-18T13:22:13.599Z"
   },
   {
    "duration": 171384,
    "start_time": "2021-08-18T13:22:13.619Z"
   },
   {
    "duration": 8,
    "start_time": "2021-08-18T13:25:05.005Z"
   },
   {
    "duration": 36,
    "start_time": "2021-08-18T13:25:05.016Z"
   },
   {
    "duration": 38,
    "start_time": "2021-08-18T13:25:05.055Z"
   },
   {
    "duration": 1458,
    "start_time": "2021-08-18T13:25:05.096Z"
   },
   {
    "duration": 2289,
    "start_time": "2021-08-18T13:28:17.365Z"
   },
   {
    "duration": 1138,
    "start_time": "2021-08-18T13:28:19.658Z"
   },
   {
    "duration": 21,
    "start_time": "2021-08-18T13:28:20.799Z"
   },
   {
    "duration": 186188,
    "start_time": "2021-08-18T13:28:20.823Z"
   },
   {
    "duration": 7,
    "start_time": "2021-08-18T13:31:27.013Z"
   },
   {
    "duration": 31,
    "start_time": "2021-08-18T13:31:27.022Z"
   },
   {
    "duration": 29,
    "start_time": "2021-08-18T13:31:27.055Z"
   },
   {
    "duration": 1740,
    "start_time": "2021-08-18T13:31:27.087Z"
   },
   {
    "duration": 16,
    "start_time": "2021-08-18T13:32:50.675Z"
   },
   {
    "duration": 4,
    "start_time": "2021-08-18T13:33:03.348Z"
   },
   {
    "duration": 447,
    "start_time": "2021-08-18T13:33:07.645Z"
   },
   {
    "duration": 260,
    "start_time": "2021-08-18T13:33:17.586Z"
   },
   {
    "duration": 248,
    "start_time": "2021-08-18T13:33:26.667Z"
   },
   {
    "duration": 5,
    "start_time": "2021-08-18T13:35:34.090Z"
   },
   {
    "duration": 1710,
    "start_time": "2021-08-18T13:42:22.912Z"
   },
   {
    "duration": 736,
    "start_time": "2021-08-18T13:42:24.625Z"
   },
   {
    "duration": 29,
    "start_time": "2021-08-18T13:42:25.367Z"
   },
   {
    "duration": 163683,
    "start_time": "2021-08-18T13:42:25.399Z"
   },
   {
    "duration": 8,
    "start_time": "2021-08-18T13:45:09.084Z"
   },
   {
    "duration": 29,
    "start_time": "2021-08-18T13:45:09.095Z"
   },
   {
    "duration": 17,
    "start_time": "2021-08-18T13:45:09.128Z"
   },
   {
    "duration": 1325,
    "start_time": "2021-08-18T13:45:09.147Z"
   },
   {
    "duration": 1758,
    "start_time": "2021-08-18T13:46:03.824Z"
   },
   {
    "duration": 753,
    "start_time": "2021-08-18T13:46:05.585Z"
   },
   {
    "duration": 18,
    "start_time": "2021-08-18T13:46:06.341Z"
   },
   {
    "duration": 166573,
    "start_time": "2021-08-18T13:46:06.384Z"
   },
   {
    "duration": 8,
    "start_time": "2021-08-18T13:48:52.959Z"
   },
   {
    "duration": 25,
    "start_time": "2021-08-18T13:48:52.982Z"
   },
   {
    "duration": 16,
    "start_time": "2021-08-18T13:48:53.009Z"
   },
   {
    "duration": 1379,
    "start_time": "2021-08-18T13:48:53.028Z"
   },
   {
    "duration": 255,
    "start_time": "2021-08-18T13:48:54.410Z"
   },
   {
    "duration": 8488,
    "start_time": "2021-08-18T14:15:46.097Z"
   },
   {
    "duration": 1864,
    "start_time": "2021-08-18T14:15:54.588Z"
   },
   {
    "duration": 794,
    "start_time": "2021-08-18T14:15:56.456Z"
   },
   {
    "duration": 35,
    "start_time": "2021-08-18T14:15:57.253Z"
   },
   {
    "duration": 5,
    "start_time": "2021-08-18T14:15:57.290Z"
   },
   {
    "duration": 10,
    "start_time": "2021-08-18T14:15:57.298Z"
   },
   {
    "duration": 23,
    "start_time": "2021-08-18T14:15:57.310Z"
   },
   {
    "duration": 10,
    "start_time": "2021-08-18T14:15:57.337Z"
   },
   {
    "duration": 5,
    "start_time": "2021-08-18T14:15:57.349Z"
   },
   {
    "duration": 25,
    "start_time": "2021-08-18T14:15:57.357Z"
   },
   {
    "duration": 476,
    "start_time": "2021-08-18T14:15:57.384Z"
   },
   {
    "duration": 786,
    "start_time": "2021-08-18T14:20:19.625Z"
   },
   {
    "duration": 1085,
    "start_time": "2021-08-18T14:20:20.426Z"
   },
   {
    "duration": 21,
    "start_time": "2021-08-18T14:20:23.423Z"
   },
   {
    "duration": 7,
    "start_time": "2021-08-18T14:20:23.856Z"
   },
   {
    "duration": 4,
    "start_time": "2021-08-18T14:20:24.040Z"
   },
   {
    "duration": 3,
    "start_time": "2021-08-18T14:20:24.771Z"
   },
   {
    "duration": 3,
    "start_time": "2021-08-18T14:20:26.073Z"
   },
   {
    "duration": 3,
    "start_time": "2021-08-18T14:20:26.493Z"
   },
   {
    "duration": 3,
    "start_time": "2021-08-18T14:20:26.704Z"
   },
   {
    "duration": 1835,
    "start_time": "2021-08-18T14:20:26.896Z"
   },
   {
    "duration": 8615,
    "start_time": "2021-08-18T14:21:53.903Z"
   },
   {
    "duration": 2962,
    "start_time": "2021-08-18T14:22:02.522Z"
   },
   {
    "duration": 1079,
    "start_time": "2021-08-18T14:22:05.487Z"
   },
   {
    "duration": 34,
    "start_time": "2021-08-18T14:22:06.569Z"
   },
   {
    "duration": 6,
    "start_time": "2021-08-18T14:22:06.606Z"
   },
   {
    "duration": 8,
    "start_time": "2021-08-18T14:22:06.615Z"
   },
   {
    "duration": 9,
    "start_time": "2021-08-18T14:22:06.626Z"
   },
   {
    "duration": 8,
    "start_time": "2021-08-18T14:22:06.638Z"
   },
   {
    "duration": 33,
    "start_time": "2021-08-18T14:22:06.649Z"
   },
   {
    "duration": 3,
    "start_time": "2021-08-18T14:22:06.685Z"
   },
   {
    "duration": 170268,
    "start_time": "2021-08-18T14:22:06.691Z"
   },
   {
    "duration": 18,
    "start_time": "2021-08-18T14:26:57.862Z"
   },
   {
    "duration": 3,
    "start_time": "2021-08-18T14:44:40.194Z"
   },
   {
    "duration": 9176,
    "start_time": "2021-08-18T14:54:33.791Z"
   },
   {
    "duration": 2306,
    "start_time": "2021-08-18T14:54:42.970Z"
   },
   {
    "duration": 1086,
    "start_time": "2021-08-18T14:54:45.283Z"
   },
   {
    "duration": 23,
    "start_time": "2021-08-18T14:54:46.383Z"
   },
   {
    "duration": 3,
    "start_time": "2021-08-18T14:54:46.409Z"
   },
   {
    "duration": 6,
    "start_time": "2021-08-18T14:54:46.414Z"
   },
   {
    "duration": 8,
    "start_time": "2021-08-18T14:54:46.422Z"
   },
   {
    "duration": 9,
    "start_time": "2021-08-18T14:54:46.434Z"
   },
   {
    "duration": 36,
    "start_time": "2021-08-18T14:54:46.446Z"
   },
   {
    "duration": 3,
    "start_time": "2021-08-18T14:54:46.485Z"
   },
   {
    "duration": 18,
    "start_time": "2021-08-18T14:54:46.490Z"
   },
   {
    "duration": 3,
    "start_time": "2021-08-18T14:54:46.511Z"
   },
   {
    "duration": 160633,
    "start_time": "2021-08-18T14:54:46.516Z"
   },
   {
    "duration": 16656,
    "start_time": "2021-08-18T14:57:27.152Z"
   },
   {
    "duration": 8165,
    "start_time": "2021-08-18T15:07:50.066Z"
   },
   {
    "duration": 2148,
    "start_time": "2021-08-18T15:07:58.234Z"
   },
   {
    "duration": 766,
    "start_time": "2021-08-18T15:08:00.385Z"
   },
   {
    "duration": 31,
    "start_time": "2021-08-18T15:08:01.153Z"
   },
   {
    "duration": 404,
    "start_time": "2021-08-18T15:08:01.187Z"
   },
   {
    "duration": 13,
    "start_time": "2021-08-18T15:08:01.593Z"
   },
   {
    "duration": 50,
    "start_time": "2021-08-18T15:08:01.608Z"
   },
   {
    "duration": 32,
    "start_time": "2021-08-18T15:08:01.662Z"
   },
   {
    "duration": 6559,
    "start_time": "2021-08-18T15:08:01.697Z"
   },
   {
    "duration": 8719,
    "start_time": "2021-08-18T15:14:19.825Z"
   },
   {
    "duration": 2250,
    "start_time": "2021-08-18T15:14:28.548Z"
   },
   {
    "duration": 734,
    "start_time": "2021-08-18T15:14:30.804Z"
   },
   {
    "duration": 20,
    "start_time": "2021-08-18T15:14:31.540Z"
   },
   {
    "duration": 8469,
    "start_time": "2021-08-18T15:48:43.298Z"
   },
   {
    "duration": 2316,
    "start_time": "2021-08-18T15:48:51.770Z"
   },
   {
    "duration": 747,
    "start_time": "2021-08-18T15:48:54.089Z"
   },
   {
    "duration": 19,
    "start_time": "2021-08-18T15:48:54.839Z"
   },
   {
    "duration": 5,
    "start_time": "2021-08-18T15:49:12.768Z"
   },
   {
    "duration": 2430,
    "start_time": "2021-08-18T15:49:12.776Z"
   },
   {
    "duration": 1132,
    "start_time": "2021-08-18T15:49:15.209Z"
   },
   {
    "duration": 43,
    "start_time": "2021-08-18T15:49:16.344Z"
   },
   {
    "duration": 3,
    "start_time": "2021-08-18T16:09:36.132Z"
   },
   {
    "duration": 2215,
    "start_time": "2021-08-18T16:09:36.138Z"
   },
   {
    "duration": 746,
    "start_time": "2021-08-18T16:09:38.355Z"
   },
   {
    "duration": 19,
    "start_time": "2021-08-18T16:09:39.104Z"
   },
   {
    "duration": 159796,
    "start_time": "2021-08-18T16:09:39.125Z"
   },
   {
    "duration": 12,
    "start_time": "2021-08-18T16:12:18.924Z"
   },
   {
    "duration": 52,
    "start_time": "2021-08-18T16:12:18.938Z"
   },
   {
    "duration": 17,
    "start_time": "2021-08-18T16:12:18.993Z"
   },
   {
    "duration": 15607,
    "start_time": "2021-08-18T16:12:19.012Z"
   },
   {
    "duration": 3,
    "start_time": "2021-08-18T16:18:37.134Z"
   },
   {
    "duration": 2570,
    "start_time": "2021-08-18T16:18:37.141Z"
   },
   {
    "duration": 791,
    "start_time": "2021-08-18T16:18:39.714Z"
   },
   {
    "duration": 21,
    "start_time": "2021-08-18T16:18:40.508Z"
   },
   {
    "duration": 149098,
    "start_time": "2021-08-18T16:18:40.531Z"
   },
   {
    "duration": 13,
    "start_time": "2021-08-18T16:21:09.631Z"
   },
   {
    "duration": 49,
    "start_time": "2021-08-18T16:21:09.646Z"
   },
   {
    "duration": 18,
    "start_time": "2021-08-18T16:21:09.697Z"
   },
   {
    "duration": 6,
    "start_time": "2021-08-18T16:21:09.718Z"
   },
   {
    "duration": 15651,
    "start_time": "2021-08-18T16:21:09.727Z"
   },
   {
    "duration": 682,
    "start_time": "2021-08-18T16:29:28.420Z"
   },
   {
    "duration": 4,
    "start_time": "2021-08-18T16:29:42.217Z"
   },
   {
    "duration": 2590,
    "start_time": "2021-08-18T16:29:42.224Z"
   },
   {
    "duration": 778,
    "start_time": "2021-08-18T16:29:44.817Z"
   },
   {
    "duration": 17,
    "start_time": "2021-08-18T16:29:45.598Z"
   },
   {
    "duration": 159288,
    "start_time": "2021-08-18T16:29:45.618Z"
   },
   {
    "duration": 12,
    "start_time": "2021-08-18T16:32:24.908Z"
   },
   {
    "duration": 43,
    "start_time": "2021-08-18T16:32:24.923Z"
   },
   {
    "duration": 31,
    "start_time": "2021-08-18T16:32:24.969Z"
   },
   {
    "duration": 7,
    "start_time": "2021-08-18T16:32:25.003Z"
   },
   {
    "duration": 1164,
    "start_time": "2021-08-18T16:32:25.012Z"
   },
   {
    "duration": 4,
    "start_time": "2021-08-18T16:35:25.396Z"
   },
   {
    "duration": 2323,
    "start_time": "2021-08-18T16:35:25.403Z"
   },
   {
    "duration": 814,
    "start_time": "2021-08-18T16:35:27.730Z"
   },
   {
    "duration": 38,
    "start_time": "2021-08-18T16:35:28.546Z"
   },
   {
    "duration": 152358,
    "start_time": "2021-08-18T16:35:28.587Z"
   },
   {
    "duration": 13,
    "start_time": "2021-08-18T16:38:00.948Z"
   },
   {
    "duration": 51,
    "start_time": "2021-08-18T16:38:00.964Z"
   },
   {
    "duration": 19,
    "start_time": "2021-08-18T16:38:01.017Z"
   },
   {
    "duration": 1125,
    "start_time": "2021-08-18T16:38:01.039Z"
   },
   {
    "duration": 4,
    "start_time": "2021-08-18T16:40:49.788Z"
   },
   {
    "duration": 2340,
    "start_time": "2021-08-18T16:40:49.797Z"
   },
   {
    "duration": 795,
    "start_time": "2021-08-18T16:40:52.140Z"
   },
   {
    "duration": 20,
    "start_time": "2021-08-18T16:40:52.938Z"
   },
   {
    "duration": 147142,
    "start_time": "2021-08-18T16:40:52.960Z"
   },
   {
    "duration": 13,
    "start_time": "2021-08-18T16:43:20.105Z"
   },
   {
    "duration": 36,
    "start_time": "2021-08-18T16:43:20.120Z"
   },
   {
    "duration": 33,
    "start_time": "2021-08-18T16:43:20.158Z"
   },
   {
    "duration": 15702,
    "start_time": "2021-08-18T16:43:20.194Z"
   },
   {
    "duration": 4,
    "start_time": "2021-08-18T16:59:16.634Z"
   },
   {
    "duration": 2267,
    "start_time": "2021-08-18T16:59:16.644Z"
   },
   {
    "duration": 740,
    "start_time": "2021-08-18T16:59:18.913Z"
   },
   {
    "duration": 34,
    "start_time": "2021-08-18T16:59:19.659Z"
   },
   {
    "duration": 156937,
    "start_time": "2021-08-18T16:59:19.696Z"
   },
   {
    "duration": 13,
    "start_time": "2021-08-18T17:01:56.635Z"
   },
   {
    "duration": 46,
    "start_time": "2021-08-18T17:01:56.651Z"
   },
   {
    "duration": 18,
    "start_time": "2021-08-18T17:01:56.700Z"
   },
   {
    "duration": 10579,
    "start_time": "2021-08-18T17:01:56.721Z"
   },
   {
    "duration": 5,
    "start_time": "2021-08-18T17:03:01.505Z"
   },
   {
    "duration": 2535,
    "start_time": "2021-08-18T17:03:01.513Z"
   },
   {
    "duration": 841,
    "start_time": "2021-08-18T17:03:04.051Z"
   },
   {
    "duration": 24,
    "start_time": "2021-08-18T17:03:04.897Z"
   },
   {
    "duration": 155912,
    "start_time": "2021-08-18T17:03:04.923Z"
   },
   {
    "duration": 12,
    "start_time": "2021-08-18T17:05:40.838Z"
   },
   {
    "duration": 45,
    "start_time": "2021-08-18T17:05:40.852Z"
   },
   {
    "duration": 18,
    "start_time": "2021-08-18T17:05:40.900Z"
   },
   {
    "duration": 9914,
    "start_time": "2021-08-18T17:05:40.921Z"
   },
   {
    "duration": 44419,
    "start_time": "2021-08-18T17:10:36.780Z"
   },
   {
    "duration": 253,
    "start_time": "2021-08-18T17:12:32.763Z"
   },
   {
    "duration": 58752,
    "start_time": "2021-08-18T17:13:08.075Z"
   },
   {
    "duration": 4,
    "start_time": "2021-08-18T17:19:47.285Z"
   },
   {
    "duration": 2281,
    "start_time": "2021-08-18T17:19:47.305Z"
   },
   {
    "duration": 737,
    "start_time": "2021-08-18T17:19:49.588Z"
   },
   {
    "duration": 19,
    "start_time": "2021-08-18T17:19:50.328Z"
   },
   {
    "duration": 146001,
    "start_time": "2021-08-18T17:19:50.350Z"
   },
   {
    "duration": 11,
    "start_time": "2021-08-18T17:22:16.354Z"
   },
   {
    "duration": 42,
    "start_time": "2021-08-18T17:22:16.368Z"
   },
   {
    "duration": 18,
    "start_time": "2021-08-18T17:22:16.412Z"
   },
   {
    "duration": 9821,
    "start_time": "2021-08-18T17:22:16.433Z"
   },
   {
    "duration": 31666,
    "start_time": "2021-08-18T17:22:26.257Z"
   },
   {
    "duration": 59299,
    "start_time": "2021-08-18T17:22:57.925Z"
   },
   {
    "duration": 4,
    "start_time": "2021-08-18T17:24:43.760Z"
   },
   {
    "duration": 2224,
    "start_time": "2021-08-18T17:24:43.770Z"
   },
   {
    "duration": 750,
    "start_time": "2021-08-18T17:24:45.997Z"
   },
   {
    "duration": 38,
    "start_time": "2021-08-18T17:24:46.750Z"
   },
   {
    "duration": 144894,
    "start_time": "2021-08-18T17:24:46.791Z"
   },
   {
    "duration": 13,
    "start_time": "2021-08-18T17:27:11.688Z"
   },
   {
    "duration": 35,
    "start_time": "2021-08-18T17:27:11.704Z"
   },
   {
    "duration": 41,
    "start_time": "2021-08-18T17:27:11.741Z"
   },
   {
    "duration": 9900,
    "start_time": "2021-08-18T17:27:11.786Z"
   },
   {
    "duration": 32334,
    "start_time": "2021-08-18T17:27:21.689Z"
   },
   {
    "duration": 58404,
    "start_time": "2021-08-18T17:27:54.025Z"
   },
   {
    "duration": 4,
    "start_time": "2021-08-18T17:34:32.084Z"
   },
   {
    "duration": 2302,
    "start_time": "2021-08-18T17:34:32.092Z"
   },
   {
    "duration": 740,
    "start_time": "2021-08-18T17:34:34.396Z"
   },
   {
    "duration": 17,
    "start_time": "2021-08-18T17:34:35.139Z"
   },
   {
    "duration": 25,
    "start_time": "2021-08-18T17:34:35.159Z"
   },
   {
    "duration": 14,
    "start_time": "2021-08-18T17:34:35.187Z"
   },
   {
    "duration": 2110,
    "start_time": "2021-08-18T17:34:35.203Z"
   },
   {
    "duration": 19,
    "start_time": "2021-08-18T17:34:37.316Z"
   },
   {
    "duration": 932,
    "start_time": "2021-08-18T17:34:37.340Z"
   },
   {
    "duration": -965,
    "start_time": "2021-08-18T17:34:39.241Z"
   },
   {
    "duration": -968,
    "start_time": "2021-08-18T17:34:39.246Z"
   },
   {
    "duration": -974,
    "start_time": "2021-08-18T17:34:39.253Z"
   },
   {
    "duration": -977,
    "start_time": "2021-08-18T17:34:39.259Z"
   },
   {
    "duration": -981,
    "start_time": "2021-08-18T17:34:39.265Z"
   },
   {
    "duration": -983,
    "start_time": "2021-08-18T17:34:39.269Z"
   },
   {
    "duration": -987,
    "start_time": "2021-08-18T17:34:39.275Z"
   },
   {
    "duration": 8986,
    "start_time": "2021-08-18T17:34:58.714Z"
   },
   {
    "duration": 2251,
    "start_time": "2021-08-18T17:35:07.702Z"
   },
   {
    "duration": 805,
    "start_time": "2021-08-18T17:35:09.956Z"
   },
   {
    "duration": 31,
    "start_time": "2021-08-18T17:35:10.763Z"
   },
   {
    "duration": 5,
    "start_time": "2021-08-18T17:35:10.796Z"
   },
   {
    "duration": 9,
    "start_time": "2021-08-18T17:35:10.803Z"
   },
   {
    "duration": 1391,
    "start_time": "2021-08-18T17:35:10.815Z"
   },
   {
    "duration": 13,
    "start_time": "2021-08-18T17:35:12.211Z"
   },
   {
    "duration": 739,
    "start_time": "2021-08-18T17:35:12.226Z"
   },
   {
    "duration": -873,
    "start_time": "2021-08-18T17:35:13.841Z"
   },
   {
    "duration": -880,
    "start_time": "2021-08-18T17:35:13.850Z"
   },
   {
    "duration": -885,
    "start_time": "2021-08-18T17:35:13.856Z"
   },
   {
    "duration": -888,
    "start_time": "2021-08-18T17:35:13.861Z"
   },
   {
    "duration": -892,
    "start_time": "2021-08-18T17:35:13.866Z"
   },
   {
    "duration": -895,
    "start_time": "2021-08-18T17:35:13.871Z"
   },
   {
    "duration": -898,
    "start_time": "2021-08-18T17:35:13.876Z"
   },
   {
    "duration": 8001,
    "start_time": "2021-08-18T17:38:03.676Z"
   },
   {
    "duration": 2276,
    "start_time": "2021-08-18T17:38:11.679Z"
   },
   {
    "duration": 857,
    "start_time": "2021-08-18T17:38:13.958Z"
   },
   {
    "duration": 18,
    "start_time": "2021-08-18T17:38:14.818Z"
   },
   {
    "duration": 5,
    "start_time": "2021-08-18T17:38:14.839Z"
   },
   {
    "duration": 38,
    "start_time": "2021-08-18T17:38:14.846Z"
   },
   {
    "duration": 1319,
    "start_time": "2021-08-18T17:38:14.887Z"
   },
   {
    "duration": 13,
    "start_time": "2021-08-18T17:38:16.209Z"
   },
   {
    "duration": 778,
    "start_time": "2021-08-18T17:38:16.224Z"
   },
   {
    "duration": -959,
    "start_time": "2021-08-18T17:38:17.964Z"
   },
   {
    "duration": -968,
    "start_time": "2021-08-18T17:38:17.974Z"
   },
   {
    "duration": -973,
    "start_time": "2021-08-18T17:38:17.981Z"
   },
   {
    "duration": -978,
    "start_time": "2021-08-18T17:38:17.988Z"
   },
   {
    "duration": -981,
    "start_time": "2021-08-18T17:38:17.992Z"
   },
   {
    "duration": -984,
    "start_time": "2021-08-18T17:38:17.996Z"
   },
   {
    "duration": -987,
    "start_time": "2021-08-18T17:38:18.001Z"
   },
   {
    "duration": 8792,
    "start_time": "2021-08-18T17:40:51.731Z"
   },
   {
    "duration": 2284,
    "start_time": "2021-08-18T17:41:00.526Z"
   },
   {
    "duration": 755,
    "start_time": "2021-08-18T17:41:02.813Z"
   },
   {
    "duration": 27,
    "start_time": "2021-08-18T17:41:03.571Z"
   },
   {
    "duration": 5,
    "start_time": "2021-08-18T17:41:03.601Z"
   },
   {
    "duration": 8,
    "start_time": "2021-08-18T17:41:03.608Z"
   },
   {
    "duration": 1386,
    "start_time": "2021-08-18T17:41:03.618Z"
   },
   {
    "duration": 13,
    "start_time": "2021-08-18T17:41:05.008Z"
   },
   {
    "duration": 690,
    "start_time": "2021-08-18T17:41:05.024Z"
   },
   {
    "duration": -859,
    "start_time": "2021-08-18T17:41:06.575Z"
   },
   {
    "duration": -864,
    "start_time": "2021-08-18T17:41:06.582Z"
   },
   {
    "duration": -872,
    "start_time": "2021-08-18T17:41:06.591Z"
   },
   {
    "duration": -874,
    "start_time": "2021-08-18T17:41:06.595Z"
   },
   {
    "duration": -876,
    "start_time": "2021-08-18T17:41:06.599Z"
   },
   {
    "duration": -881,
    "start_time": "2021-08-18T17:41:06.605Z"
   },
   {
    "duration": -882,
    "start_time": "2021-08-18T17:41:06.608Z"
   },
   {
    "duration": 9645,
    "start_time": "2021-08-18T17:42:12.219Z"
   },
   {
    "duration": 2507,
    "start_time": "2021-08-18T17:42:21.867Z"
   },
   {
    "duration": 739,
    "start_time": "2021-08-18T17:42:24.381Z"
   },
   {
    "duration": 17,
    "start_time": "2021-08-18T17:42:25.124Z"
   },
   {
    "duration": 38,
    "start_time": "2021-08-18T17:42:25.144Z"
   },
   {
    "duration": 2045,
    "start_time": "2021-08-18T17:42:25.185Z"
   },
   {
    "duration": 18,
    "start_time": "2021-08-18T17:42:27.232Z"
   },
   {
    "duration": 961,
    "start_time": "2021-08-18T17:42:27.254Z"
   },
   {
    "duration": -1045,
    "start_time": "2021-08-18T17:42:29.264Z"
   },
   {
    "duration": -1054,
    "start_time": "2021-08-18T17:42:29.274Z"
   },
   {
    "duration": -1060,
    "start_time": "2021-08-18T17:42:29.282Z"
   },
   {
    "duration": -1063,
    "start_time": "2021-08-18T17:42:29.287Z"
   },
   {
    "duration": -1069,
    "start_time": "2021-08-18T17:42:29.295Z"
   },
   {
    "duration": -1075,
    "start_time": "2021-08-18T17:42:29.303Z"
   },
   {
    "duration": -1080,
    "start_time": "2021-08-18T17:42:29.310Z"
   },
   {
    "duration": 9537,
    "start_time": "2021-08-18T17:45:55.225Z"
   },
   {
    "duration": 2296,
    "start_time": "2021-08-18T17:46:04.765Z"
   },
   {
    "duration": 744,
    "start_time": "2021-08-18T17:46:07.064Z"
   },
   {
    "duration": 20,
    "start_time": "2021-08-18T17:46:07.811Z"
   },
   {
    "duration": 159377,
    "start_time": "2021-08-18T17:46:07.833Z"
   },
   {
    "duration": 10,
    "start_time": "2021-08-18T17:48:47.213Z"
   },
   {
    "duration": 34,
    "start_time": "2021-08-18T17:48:47.225Z"
   },
   {
    "duration": 32,
    "start_time": "2021-08-18T17:48:47.262Z"
   },
   {
    "duration": 10197,
    "start_time": "2021-08-18T17:48:47.297Z"
   },
   {
    "duration": 408,
    "start_time": "2021-08-18T17:48:57.496Z"
   },
   {
    "duration": 61322,
    "start_time": "2021-08-18T17:48:57.906Z"
   },
   {
    "duration": 33600,
    "start_time": "2021-08-18T17:49:59.231Z"
   },
   {
    "duration": 8282,
    "start_time": "2021-08-18T17:51:03.287Z"
   },
   {
    "duration": 2310,
    "start_time": "2021-08-18T17:51:11.572Z"
   },
   {
    "duration": 749,
    "start_time": "2021-08-18T17:51:13.885Z"
   },
   {
    "duration": 18,
    "start_time": "2021-08-18T17:51:14.637Z"
   },
   {
    "duration": 159936,
    "start_time": "2021-08-18T17:51:14.658Z"
   },
   {
    "duration": 17,
    "start_time": "2021-08-18T17:53:54.596Z"
   },
   {
    "duration": 44,
    "start_time": "2021-08-18T17:53:54.616Z"
   },
   {
    "duration": 39,
    "start_time": "2021-08-18T17:53:54.662Z"
   },
   {
    "duration": 16864,
    "start_time": "2021-08-18T17:53:54.705Z"
   },
   {
    "duration": 32451,
    "start_time": "2021-08-18T17:54:11.572Z"
   },
   {
    "duration": 8578,
    "start_time": "2021-08-18T17:55:31.843Z"
   },
   {
    "duration": 2296,
    "start_time": "2021-08-18T17:55:40.424Z"
   },
   {
    "duration": 771,
    "start_time": "2021-08-18T17:55:42.723Z"
   },
   {
    "duration": 19,
    "start_time": "2021-08-18T17:55:43.497Z"
   },
   {
    "duration": 166339,
    "start_time": "2021-08-18T17:55:43.519Z"
   },
   {
    "duration": 23,
    "start_time": "2021-08-18T17:58:29.861Z"
   },
   {
    "duration": 46,
    "start_time": "2021-08-18T17:58:29.887Z"
   },
   {
    "duration": 17,
    "start_time": "2021-08-18T17:58:29.936Z"
   },
   {
    "duration": 11182,
    "start_time": "2021-08-18T17:58:29.955Z"
   },
   {
    "duration": 33789,
    "start_time": "2021-08-18T17:58:41.139Z"
   },
   {
    "duration": 60400,
    "start_time": "2021-08-18T17:59:14.931Z"
   },
   {
    "duration": 9018,
    "start_time": "2021-08-18T18:31:37.008Z"
   },
   {
    "duration": 2318,
    "start_time": "2021-08-18T18:31:46.029Z"
   },
   {
    "duration": 782,
    "start_time": "2021-08-18T18:31:48.351Z"
   },
   {
    "duration": 19,
    "start_time": "2021-08-18T18:31:49.136Z"
   },
   {
    "duration": 162556,
    "start_time": "2021-08-18T18:31:49.183Z"
   },
   {
    "duration": 12,
    "start_time": "2021-08-18T18:34:31.741Z"
   },
   {
    "duration": 51,
    "start_time": "2021-08-18T18:34:31.756Z"
   },
   {
    "duration": 16,
    "start_time": "2021-08-18T18:34:31.811Z"
   },
   {
    "duration": 10372,
    "start_time": "2021-08-18T18:34:31.830Z"
   },
   {
    "duration": 33531,
    "start_time": "2021-08-18T18:34:42.204Z"
   },
   {
    "duration": 4,
    "start_time": "2021-08-18T18:35:15.738Z"
   },
   {
    "duration": 64854,
    "start_time": "2021-08-18T18:35:15.745Z"
   },
   {
    "duration": 1105239,
    "start_time": "2021-08-18T18:36:20.601Z"
   },
   {
    "duration": 163,
    "start_time": "2021-08-18T18:54:45.842Z"
   },
   {
    "duration": 1206958,
    "start_time": "2021-08-18T18:54:54.823Z"
   },
   {
    "duration": 61502,
    "start_time": "2021-08-18T19:15:01.786Z"
   },
   {
    "duration": 375750,
    "start_time": "2021-08-18T19:17:13.714Z"
   },
   {
    "duration": 2465,
    "start_time": "2021-08-18T19:23:29.467Z"
   },
   {
    "duration": 170,
    "start_time": "2021-08-18T19:23:31.937Z"
   },
   {
    "duration": 173,
    "start_time": "2021-08-18T19:23:32.110Z"
   },
   {
    "duration": 2153,
    "start_time": "2021-08-18T19:39:57.702Z"
   },
   {
    "duration": 26,
    "start_time": "2021-08-18T19:40:51.381Z"
   },
   {
    "duration": 12014,
    "start_time": "2021-08-18T19:41:05.846Z"
   },
   {
    "duration": 283759,
    "start_time": "2021-08-18T19:41:25.302Z"
   },
   {
    "duration": 170,
    "start_time": "2021-08-18T19:46:09.064Z"
   },
   {
    "duration": 421,
    "start_time": "2021-08-18T19:51:08.918Z"
   },
   {
    "duration": 756982,
    "start_time": "2021-08-18T19:51:24.227Z"
   },
   {
    "duration": 169,
    "start_time": "2021-08-18T20:04:01.212Z"
   },
   {
    "duration": 2464,
    "start_time": "2021-08-18T20:19:59.048Z"
   },
   {
    "duration": 797,
    "start_time": "2021-08-18T20:20:01.515Z"
   },
   {
    "duration": 19,
    "start_time": "2021-08-18T20:20:02.316Z"
   },
   {
    "duration": 159100,
    "start_time": "2021-08-18T20:20:02.339Z"
   },
   {
    "duration": 11,
    "start_time": "2021-08-18T20:22:41.441Z"
   },
   {
    "duration": 50,
    "start_time": "2021-08-18T20:22:41.454Z"
   },
   {
    "duration": 15,
    "start_time": "2021-08-18T20:22:41.506Z"
   },
   {
    "duration": 10603,
    "start_time": "2021-08-18T20:22:41.524Z"
   },
   {
    "duration": 34912,
    "start_time": "2021-08-18T20:22:52.130Z"
   },
   {
    "duration": 4,
    "start_time": "2021-08-18T20:23:27.044Z"
   },
   {
    "duration": 58778,
    "start_time": "2021-08-18T20:23:27.050Z"
   },
   {
    "duration": 1094156,
    "start_time": "2021-08-18T20:24:25.831Z"
   },
   {
    "duration": 54500,
    "start_time": "2021-08-18T20:42:39.990Z"
   },
   {
    "duration": 190797,
    "start_time": "2021-08-18T20:43:34.492Z"
   },
   {
    "duration": 2115,
    "start_time": "2021-08-18T20:46:45.292Z"
   },
   {
    "duration": 419,
    "start_time": "2021-08-18T20:46:47.410Z"
   },
   {
    "duration": 186,
    "start_time": "2021-08-18T20:46:47.832Z"
   },
   {
    "duration": 218,
    "start_time": "2021-08-18T20:53:45.564Z"
   },
   {
    "duration": 1651707,
    "start_time": "2021-08-18T21:03:53.381Z"
   },
   {
    "duration": 222,
    "start_time": "2021-08-18T21:41:10.896Z"
   },
   {
    "duration": 49901,
    "start_time": "2021-08-18T21:43:05.286Z"
   },
   {
    "duration": 50445,
    "start_time": "2021-08-18T21:49:26.668Z"
   },
   {
    "duration": 50847,
    "start_time": "2021-08-18T21:50:42.473Z"
   },
   {
    "duration": 85,
    "start_time": "2021-08-18T21:53:01.460Z"
   },
   {
    "duration": 89,
    "start_time": "2021-08-18T21:53:22.506Z"
   },
   {
    "duration": 187,
    "start_time": "2021-08-18T21:53:35.908Z"
   },
   {
    "duration": 107,
    "start_time": "2021-08-18T21:53:48.994Z"
   },
   {
    "duration": 2161,
    "start_time": "2021-08-18T22:15:13.466Z"
   },
   {
    "duration": 724,
    "start_time": "2021-08-18T22:15:15.629Z"
   },
   {
    "duration": 35,
    "start_time": "2021-08-18T22:15:16.356Z"
   },
   {
    "duration": 2231,
    "start_time": "2021-08-18T22:16:47.851Z"
   },
   {
    "duration": 833,
    "start_time": "2021-08-18T22:16:50.085Z"
   },
   {
    "duration": 17,
    "start_time": "2021-08-18T22:16:50.921Z"
   },
   {
    "duration": 145507,
    "start_time": "2021-08-18T22:16:50.940Z"
   },
   {
    "duration": 13,
    "start_time": "2021-08-18T22:19:16.450Z"
   },
   {
    "duration": 44,
    "start_time": "2021-08-18T22:19:16.465Z"
   },
   {
    "duration": 14,
    "start_time": "2021-08-18T22:19:16.512Z"
   },
   {
    "duration": 10141,
    "start_time": "2021-08-18T22:19:16.528Z"
   },
   {
    "duration": 32060,
    "start_time": "2021-08-18T22:19:26.673Z"
   },
   {
    "duration": 3,
    "start_time": "2021-08-18T22:19:58.736Z"
   },
   {
    "duration": 58390,
    "start_time": "2021-08-18T22:19:58.742Z"
   },
   {
    "duration": 1091656,
    "start_time": "2021-08-18T22:20:57.135Z"
   },
   {
    "duration": 55804,
    "start_time": "2021-08-18T22:39:08.882Z"
   },
   {
    "duration": 191064,
    "start_time": "2021-08-18T22:40:04.688Z"
   },
   {
    "duration": 2230,
    "start_time": "2021-08-18T22:43:15.754Z"
   },
   {
    "duration": 386,
    "start_time": "2021-08-18T22:43:17.986Z"
   },
   {
    "duration": 168,
    "start_time": "2021-08-18T22:43:18.374Z"
   },
   {
    "duration": 1247052,
    "start_time": "2021-08-18T22:43:18.545Z"
   },
   {
    "duration": 226,
    "start_time": "2021-08-18T23:04:05.601Z"
   },
   {
    "duration": 189,
    "start_time": "2021-08-18T23:04:05.830Z"
   },
   {
    "duration": 233,
    "start_time": "2021-08-18T23:04:50.800Z"
   },
   {
    "duration": 218,
    "start_time": "2021-08-18T23:05:42.911Z"
   },
   {
    "duration": 97,
    "start_time": "2021-08-18T23:06:11.219Z"
   },
   {
    "duration": 94,
    "start_time": "2021-08-18T23:06:22.210Z"
   },
   {
    "duration": 2408,
    "start_time": "2021-08-19T09:13:47.379Z"
   },
   {
    "duration": 793,
    "start_time": "2021-08-19T09:13:49.789Z"
   },
   {
    "duration": 18,
    "start_time": "2021-08-19T09:13:50.585Z"
   },
   {
    "duration": 162077,
    "start_time": "2021-08-19T09:13:50.606Z"
   },
   {
    "duration": 11,
    "start_time": "2021-08-19T09:16:32.686Z"
   },
   {
    "duration": 43,
    "start_time": "2021-08-19T09:16:32.700Z"
   },
   {
    "duration": 16,
    "start_time": "2021-08-19T09:16:32.754Z"
   },
   {
    "duration": 10750,
    "start_time": "2021-08-19T09:16:32.772Z"
   },
   {
    "duration": 33484,
    "start_time": "2021-08-19T09:16:43.526Z"
   },
   {
    "duration": 4,
    "start_time": "2021-08-19T09:17:17.013Z"
   },
   {
    "duration": 58593,
    "start_time": "2021-08-19T09:17:17.019Z"
   },
   {
    "duration": 1110741,
    "start_time": "2021-08-19T09:18:15.615Z"
   },
   {
    "duration": 54003,
    "start_time": "2021-08-19T09:36:46.358Z"
   },
   {
    "duration": 214855,
    "start_time": "2021-08-19T09:37:40.363Z"
   },
   {
    "duration": 2379,
    "start_time": "2021-08-19T09:41:15.221Z"
   },
   {
    "duration": 1813892,
    "start_time": "2021-08-19T09:41:17.603Z"
   },
   {
    "duration": 411,
    "start_time": "2021-08-19T10:11:31.497Z"
   },
   {
    "duration": 89,
    "start_time": "2021-08-19T10:11:31.911Z"
   },
   {
    "duration": 56088,
    "start_time": "2021-08-19T10:24:38.376Z"
   },
   {
    "duration": 54968,
    "start_time": "2021-08-19T10:26:56.542Z"
   },
   {
    "duration": 89,
    "start_time": "2021-08-19T10:29:29.740Z"
   },
   {
    "duration": 104861,
    "start_time": "2021-08-19T10:30:05.607Z"
   },
   {
    "duration": 550557,
    "start_time": "2021-08-19T10:32:46.327Z"
   },
   {
    "duration": 560057,
    "start_time": "2021-08-19T10:42:10.554Z"
   },
   {
    "duration": 919247,
    "start_time": "2021-08-19T10:51:51.921Z"
   },
   {
    "duration": 13620,
    "start_time": "2021-08-19T11:20:49.784Z"
   },
   {
    "duration": 4921,
    "start_time": "2021-08-19T11:44:46.667Z"
   },
   {
    "duration": 22,
    "start_time": "2021-08-19T11:45:16.955Z"
   },
   {
    "duration": 11,
    "start_time": "2021-08-19T11:45:46.354Z"
   },
   {
    "duration": 119,
    "start_time": "2021-08-19T11:46:08.515Z"
   },
   {
    "duration": 3956,
    "start_time": "2021-08-19T11:46:14.766Z"
   },
   {
    "duration": 109,
    "start_time": "2021-08-19T11:46:31.684Z"
   },
   {
    "duration": 6,
    "start_time": "2021-08-19T11:46:48.673Z"
   },
   {
    "duration": 8,
    "start_time": "2021-08-19T11:46:56.558Z"
   },
   {
    "duration": 12,
    "start_time": "2021-08-19T11:47:10.946Z"
   },
   {
    "duration": 104849,
    "start_time": "2021-08-19T12:12:29.663Z"
   },
   {
    "duration": 97968,
    "start_time": "2021-08-19T12:19:01.361Z"
   },
   {
    "duration": 1090,
    "start_time": "2021-08-19T12:24:02.767Z"
   },
   {
    "duration": 3658,
    "start_time": "2021-08-19T12:24:17.238Z"
   },
   {
    "duration": 100073,
    "start_time": "2021-08-19T12:27:01.009Z"
   },
   {
    "duration": 342,
    "start_time": "2021-08-19T12:32:42.526Z"
   },
   {
    "duration": 80,
    "start_time": "2021-08-19T12:33:17.126Z"
   },
   {
    "duration": 91,
    "start_time": "2021-08-19T12:33:30.428Z"
   },
   {
    "duration": 59995,
    "start_time": "2021-08-19T12:36:34.269Z"
   },
   {
    "duration": 102819,
    "start_time": "2021-08-19T12:37:35.356Z"
   }
  ],
  "kernelspec": {
   "display_name": "Python 3",
   "language": "python",
   "name": "python3"
  },
  "language_info": {
   "codemirror_mode": {
    "name": "ipython",
    "version": 3
   },
   "file_extension": ".py",
   "mimetype": "text/x-python",
   "name": "python",
   "nbconvert_exporter": "python",
   "pygments_lexer": "ipython3",
   "version": "3.9.4"
  },
  "toc": {
   "base_numbering": 1,
   "nav_menu": {},
   "number_sections": true,
   "sideBar": true,
   "skip_h1_title": true,
   "title_cell": "Содержание",
   "title_sidebar": "Contents",
   "toc_cell": true,
   "toc_position": {
    "height": "calc(100% - 180px)",
    "left": "10px",
    "top": "150px",
    "width": "302.391px"
   },
   "toc_section_display": true,
   "toc_window_display": false
  }
 },
 "nbformat": 4,
 "nbformat_minor": 2
}
