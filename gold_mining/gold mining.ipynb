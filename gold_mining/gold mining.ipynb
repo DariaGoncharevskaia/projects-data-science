{
 "cells": [
  {
   "cell_type": "markdown",
   "metadata": {
    "toc": true
   },
   "source": [
    "<h1>Содержание<span class=\"tocSkip\"></span></h1>\n",
    "<div class=\"toc\"><ul class=\"toc-item\"><li><span><a href=\"#Подготовка-данных\" data-toc-modified-id=\"Подготовка-данных-1\"><span class=\"toc-item-num\">1&nbsp;&nbsp;</span>Подготовка данных</a></span><ul class=\"toc-item\"><li><span><a href=\"#Проверка-правильности-расчета-эффективности-обогащения\" data-toc-modified-id=\"Проверка-правильности-расчета-эффективности-обогащения-1.1\"><span class=\"toc-item-num\">1.1&nbsp;&nbsp;</span>Проверка правильности расчета эффективности обогащения</a></span></li><li><span><a href=\"#Анализ-признаков,-недоступных-в-тестовой-выборке\" data-toc-modified-id=\"Анализ-признаков,-недоступных-в-тестовой-выборке-1.2\"><span class=\"toc-item-num\">1.2&nbsp;&nbsp;</span>Анализ признаков, недоступных в тестовой выборке</a></span></li><li><span><a href=\"#Предобработка\" data-toc-modified-id=\"Предобработка-1.3\"><span class=\"toc-item-num\">1.3&nbsp;&nbsp;</span>Предобработка</a></span></li></ul></li><li><span><a href=\"#Анализ-данных\" data-toc-modified-id=\"Анализ-данных-2\"><span class=\"toc-item-num\">2&nbsp;&nbsp;</span>Анализ данных</a></span><ul class=\"toc-item\"><li><span><a href=\"#Как-меняется-концентрация-металлов\" data-toc-modified-id=\"Как-меняется-концентрация-металлов-2.1\"><span class=\"toc-item-num\">2.1&nbsp;&nbsp;</span>Как меняется концентрация металлов</a></span></li><li><span><a href=\"#Распределения-размеров-гранул\" data-toc-modified-id=\"Распределения-размеров-гранул-2.2\"><span class=\"toc-item-num\">2.2&nbsp;&nbsp;</span>Распределения размеров гранул</a></span></li><li><span><a href=\"#Cуммарная-концентрация-всех-веществ-на-разных-стадиях\" data-toc-modified-id=\"Cуммарная-концентрация-всех-веществ-на-разных-стадиях-2.3\"><span class=\"toc-item-num\">2.3&nbsp;&nbsp;</span>Cуммарная концентрация всех веществ на разных стадиях</a></span></li></ul></li><li><span><a href=\"#Модель\" data-toc-modified-id=\"Модель-3\"><span class=\"toc-item-num\">3&nbsp;&nbsp;</span>Модель</a></span></li><li><span><a href=\"#Вывод\" data-toc-modified-id=\"Вывод-4\"><span class=\"toc-item-num\">4&nbsp;&nbsp;</span>Вывод</a></span></li><li><span><a href=\"#Чек-лист-готовности-проекта\" data-toc-modified-id=\"Чек-лист-готовности-проекта-5\"><span class=\"toc-item-num\">5&nbsp;&nbsp;</span>Чек-лист готовности проекта</a></span></li></ul></div>"
   ]
  },
  {
   "cell_type": "markdown",
   "metadata": {},
   "source": [
    "# Восстановление золота из руды"
   ]
  },
  {
   "cell_type": "markdown",
   "metadata": {},
   "source": [
    "Модель должна предсказать коэффициент восстановления золота из золотосодержащей руды. Данные содержат параметрами добычи и очистки. \n",
    "Модель поможет оптимизировать производство, чтобы не запускать предприятие с убыточными характеристиками.\n",
    "\n",
    "Необходимо:\n",
    "\n",
    "1. Подготовить данные;\n",
    "2. Провести исследовательский анализ данных;\n",
    "3. Построить и обучить модель.\n"
   ]
  },
  {
   "cell_type": "markdown",
   "metadata": {},
   "source": [
    "## Подготовка данных"
   ]
  },
  {
   "cell_type": "code",
   "execution_count": 1,
   "metadata": {},
   "outputs": [],
   "source": [
    "#импортирование необходимых библиотек\n",
    "import numpy as np\n",
    "import pandas as pd\n",
    "\n",
    "from sklearn.metrics import mean_absolute_error as MAE\n",
    "from sklearn.pipeline import Pipeline\n",
    "from sklearn.pipeline import make_pipeline\n",
    "from sklearn.preprocessing import StandardScaler\n",
    "from sklearn.model_selection import cross_val_score\n",
    "from sklearn.model_selection import GridSearchCV\n",
    "from sklearn.preprocessing import PolynomialFeatures\n",
    "from sklearn.linear_model import LinearRegression\n",
    "from sklearn.linear_model import Ridge\n",
    "from sklearn.tree import DecisionTreeRegressor\n",
    "import matplotlib.pyplot as plt\n",
    "from sklearn.metrics import make_scorer\n",
    "from sklearn.metrics import r2_score\n",
    "from sklearn.dummy import DummyRegressor\n",
    "import seaborn as sns\n",
    "import collections\n",
    "\n",
    "import warnings\n",
    "warnings.simplefilter(action='ignore', category=FutureWarning)"
   ]
  },
  {
   "cell_type": "code",
   "execution_count": 2,
   "metadata": {},
   "outputs": [],
   "source": [
    "train=pd.read_csv('/datasets/gold_recovery_train_new.csv',parse_dates = ['date']) #обучающая выборка\n",
    "test=pd.read_csv('/datasets/gold_recovery_test_new.csv',parse_dates = ['date']) # тестовая выборка\n",
    "full=pd.read_csv('/datasets/gold_recovery_full_new.csv',parse_dates = ['date']) # исходные данные"
   ]
  },
  {
   "cell_type": "code",
   "execution_count": 3,
   "metadata": {},
   "outputs": [
    {
     "name": "stdout",
     "output_type": "stream",
     "text": [
      "<class 'pandas.core.frame.DataFrame'>\n",
      "RangeIndex: 14149 entries, 0 to 14148\n",
      "Data columns (total 87 columns):\n",
      "date                                                  14149 non-null datetime64[ns]\n",
      "final.output.concentrate_ag                           14148 non-null float64\n",
      "final.output.concentrate_pb                           14148 non-null float64\n",
      "final.output.concentrate_sol                          13938 non-null float64\n",
      "final.output.concentrate_au                           14149 non-null float64\n",
      "final.output.recovery                                 14149 non-null float64\n",
      "final.output.tail_ag                                  14149 non-null float64\n",
      "final.output.tail_pb                                  14049 non-null float64\n",
      "final.output.tail_sol                                 14144 non-null float64\n",
      "final.output.tail_au                                  14149 non-null float64\n",
      "primary_cleaner.input.sulfate                         14129 non-null float64\n",
      "primary_cleaner.input.depressant                      14117 non-null float64\n",
      "primary_cleaner.input.feed_size                       14149 non-null float64\n",
      "primary_cleaner.input.xanthate                        14049 non-null float64\n",
      "primary_cleaner.output.concentrate_ag                 14149 non-null float64\n",
      "primary_cleaner.output.concentrate_pb                 14063 non-null float64\n",
      "primary_cleaner.output.concentrate_sol                13863 non-null float64\n",
      "primary_cleaner.output.concentrate_au                 14149 non-null float64\n",
      "primary_cleaner.output.tail_ag                        14148 non-null float64\n",
      "primary_cleaner.output.tail_pb                        14134 non-null float64\n",
      "primary_cleaner.output.tail_sol                       14103 non-null float64\n",
      "primary_cleaner.output.tail_au                        14149 non-null float64\n",
      "primary_cleaner.state.floatbank8_a_air                14145 non-null float64\n",
      "primary_cleaner.state.floatbank8_a_level              14148 non-null float64\n",
      "primary_cleaner.state.floatbank8_b_air                14145 non-null float64\n",
      "primary_cleaner.state.floatbank8_b_level              14148 non-null float64\n",
      "primary_cleaner.state.floatbank8_c_air                14147 non-null float64\n",
      "primary_cleaner.state.floatbank8_c_level              14148 non-null float64\n",
      "primary_cleaner.state.floatbank8_d_air                14146 non-null float64\n",
      "primary_cleaner.state.floatbank8_d_level              14148 non-null float64\n",
      "rougher.calculation.sulfate_to_au_concentrate         14148 non-null float64\n",
      "rougher.calculation.floatbank10_sulfate_to_au_feed    14148 non-null float64\n",
      "rougher.calculation.floatbank11_sulfate_to_au_feed    14148 non-null float64\n",
      "rougher.calculation.au_pb_ratio                       14149 non-null float64\n",
      "rougher.input.feed_ag                                 14149 non-null float64\n",
      "rougher.input.feed_pb                                 14049 non-null float64\n",
      "rougher.input.feed_rate                               14141 non-null float64\n",
      "rougher.input.feed_size                               14005 non-null float64\n",
      "rougher.input.feed_sol                                14071 non-null float64\n",
      "rougher.input.feed_au                                 14149 non-null float64\n",
      "rougher.input.floatbank10_sulfate                     14120 non-null float64\n",
      "rougher.input.floatbank10_xanthate                    14141 non-null float64\n",
      "rougher.input.floatbank11_sulfate                     14113 non-null float64\n",
      "rougher.input.floatbank11_xanthate                    13721 non-null float64\n",
      "rougher.output.concentrate_ag                         14149 non-null float64\n",
      "rougher.output.concentrate_pb                         14149 non-null float64\n",
      "rougher.output.concentrate_sol                        14127 non-null float64\n",
      "rougher.output.concentrate_au                         14149 non-null float64\n",
      "rougher.output.recovery                               14149 non-null float64\n",
      "rougher.output.tail_ag                                14148 non-null float64\n",
      "rougher.output.tail_pb                                14149 non-null float64\n",
      "rougher.output.tail_sol                               14149 non-null float64\n",
      "rougher.output.tail_au                                14149 non-null float64\n",
      "rougher.state.floatbank10_a_air                       14148 non-null float64\n",
      "rougher.state.floatbank10_a_level                     14148 non-null float64\n",
      "rougher.state.floatbank10_b_air                       14148 non-null float64\n",
      "rougher.state.floatbank10_b_level                     14148 non-null float64\n",
      "rougher.state.floatbank10_c_air                       14148 non-null float64\n",
      "rougher.state.floatbank10_c_level                     14148 non-null float64\n",
      "rougher.state.floatbank10_d_air                       14149 non-null float64\n",
      "rougher.state.floatbank10_d_level                     14149 non-null float64\n",
      "rougher.state.floatbank10_e_air                       13713 non-null float64\n",
      "rougher.state.floatbank10_e_level                     14149 non-null float64\n",
      "rougher.state.floatbank10_f_air                       14149 non-null float64\n",
      "rougher.state.floatbank10_f_level                     14149 non-null float64\n",
      "secondary_cleaner.output.tail_ag                      14147 non-null float64\n",
      "secondary_cleaner.output.tail_pb                      14139 non-null float64\n",
      "secondary_cleaner.output.tail_sol                     12544 non-null float64\n",
      "secondary_cleaner.output.tail_au                      14149 non-null float64\n",
      "secondary_cleaner.state.floatbank2_a_air              13932 non-null float64\n",
      "secondary_cleaner.state.floatbank2_a_level            14148 non-null float64\n",
      "secondary_cleaner.state.floatbank2_b_air              14128 non-null float64\n",
      "secondary_cleaner.state.floatbank2_b_level            14148 non-null float64\n",
      "secondary_cleaner.state.floatbank3_a_air              14145 non-null float64\n",
      "secondary_cleaner.state.floatbank3_a_level            14148 non-null float64\n",
      "secondary_cleaner.state.floatbank3_b_air              14148 non-null float64\n",
      "secondary_cleaner.state.floatbank3_b_level            14148 non-null float64\n",
      "secondary_cleaner.state.floatbank4_a_air              14143 non-null float64\n",
      "secondary_cleaner.state.floatbank4_a_level            14148 non-null float64\n",
      "secondary_cleaner.state.floatbank4_b_air              14148 non-null float64\n",
      "secondary_cleaner.state.floatbank4_b_level            14148 non-null float64\n",
      "secondary_cleaner.state.floatbank5_a_air              14148 non-null float64\n",
      "secondary_cleaner.state.floatbank5_a_level            14148 non-null float64\n",
      "secondary_cleaner.state.floatbank5_b_air              14148 non-null float64\n",
      "secondary_cleaner.state.floatbank5_b_level            14148 non-null float64\n",
      "secondary_cleaner.state.floatbank6_a_air              14147 non-null float64\n",
      "secondary_cleaner.state.floatbank6_a_level            14148 non-null float64\n",
      "dtypes: datetime64[ns](1), float64(86)\n",
      "memory usage: 9.4 MB\n"
     ]
    }
   ],
   "source": [
    "train.info()"
   ]
  },
  {
   "cell_type": "code",
   "execution_count": 4,
   "metadata": {},
   "outputs": [
    {
     "name": "stdout",
     "output_type": "stream",
     "text": [
      "<class 'pandas.core.frame.DataFrame'>\n",
      "RangeIndex: 5856 entries, 0 to 5855\n",
      "Data columns (total 53 columns):\n",
      "date                                          5856 non-null datetime64[ns]\n",
      "primary_cleaner.input.sulfate                 5554 non-null float64\n",
      "primary_cleaner.input.depressant              5572 non-null float64\n",
      "primary_cleaner.input.feed_size               5856 non-null float64\n",
      "primary_cleaner.input.xanthate                5690 non-null float64\n",
      "primary_cleaner.state.floatbank8_a_air        5840 non-null float64\n",
      "primary_cleaner.state.floatbank8_a_level      5840 non-null float64\n",
      "primary_cleaner.state.floatbank8_b_air        5840 non-null float64\n",
      "primary_cleaner.state.floatbank8_b_level      5840 non-null float64\n",
      "primary_cleaner.state.floatbank8_c_air        5840 non-null float64\n",
      "primary_cleaner.state.floatbank8_c_level      5840 non-null float64\n",
      "primary_cleaner.state.floatbank8_d_air        5840 non-null float64\n",
      "primary_cleaner.state.floatbank8_d_level      5840 non-null float64\n",
      "rougher.input.feed_ag                         5840 non-null float64\n",
      "rougher.input.feed_pb                         5840 non-null float64\n",
      "rougher.input.feed_rate                       5816 non-null float64\n",
      "rougher.input.feed_size                       5834 non-null float64\n",
      "rougher.input.feed_sol                        5789 non-null float64\n",
      "rougher.input.feed_au                         5840 non-null float64\n",
      "rougher.input.floatbank10_sulfate             5599 non-null float64\n",
      "rougher.input.floatbank10_xanthate            5733 non-null float64\n",
      "rougher.input.floatbank11_sulfate             5801 non-null float64\n",
      "rougher.input.floatbank11_xanthate            5503 non-null float64\n",
      "rougher.state.floatbank10_a_air               5839 non-null float64\n",
      "rougher.state.floatbank10_a_level             5840 non-null float64\n",
      "rougher.state.floatbank10_b_air               5839 non-null float64\n",
      "rougher.state.floatbank10_b_level             5840 non-null float64\n",
      "rougher.state.floatbank10_c_air               5839 non-null float64\n",
      "rougher.state.floatbank10_c_level             5840 non-null float64\n",
      "rougher.state.floatbank10_d_air               5839 non-null float64\n",
      "rougher.state.floatbank10_d_level             5840 non-null float64\n",
      "rougher.state.floatbank10_e_air               5839 non-null float64\n",
      "rougher.state.floatbank10_e_level             5840 non-null float64\n",
      "rougher.state.floatbank10_f_air               5839 non-null float64\n",
      "rougher.state.floatbank10_f_level             5840 non-null float64\n",
      "secondary_cleaner.state.floatbank2_a_air      5836 non-null float64\n",
      "secondary_cleaner.state.floatbank2_a_level    5840 non-null float64\n",
      "secondary_cleaner.state.floatbank2_b_air      5833 non-null float64\n",
      "secondary_cleaner.state.floatbank2_b_level    5840 non-null float64\n",
      "secondary_cleaner.state.floatbank3_a_air      5822 non-null float64\n",
      "secondary_cleaner.state.floatbank3_a_level    5840 non-null float64\n",
      "secondary_cleaner.state.floatbank3_b_air      5840 non-null float64\n",
      "secondary_cleaner.state.floatbank3_b_level    5840 non-null float64\n",
      "secondary_cleaner.state.floatbank4_a_air      5840 non-null float64\n",
      "secondary_cleaner.state.floatbank4_a_level    5840 non-null float64\n",
      "secondary_cleaner.state.floatbank4_b_air      5840 non-null float64\n",
      "secondary_cleaner.state.floatbank4_b_level    5840 non-null float64\n",
      "secondary_cleaner.state.floatbank5_a_air      5840 non-null float64\n",
      "secondary_cleaner.state.floatbank5_a_level    5840 non-null float64\n",
      "secondary_cleaner.state.floatbank5_b_air      5840 non-null float64\n",
      "secondary_cleaner.state.floatbank5_b_level    5840 non-null float64\n",
      "secondary_cleaner.state.floatbank6_a_air      5840 non-null float64\n",
      "secondary_cleaner.state.floatbank6_a_level    5840 non-null float64\n",
      "dtypes: datetime64[ns](1), float64(52)\n",
      "memory usage: 2.4 MB\n"
     ]
    }
   ],
   "source": [
    "test.info()"
   ]
  },
  {
   "cell_type": "code",
   "execution_count": 5,
   "metadata": {},
   "outputs": [
    {
     "name": "stdout",
     "output_type": "stream",
     "text": [
      "<class 'pandas.core.frame.DataFrame'>\n",
      "RangeIndex: 19439 entries, 0 to 19438\n",
      "Data columns (total 87 columns):\n",
      "date                                                  19439 non-null datetime64[ns]\n",
      "final.output.concentrate_ag                           19438 non-null float64\n",
      "final.output.concentrate_pb                           19438 non-null float64\n",
      "final.output.concentrate_sol                          19228 non-null float64\n",
      "final.output.concentrate_au                           19439 non-null float64\n",
      "final.output.recovery                                 19439 non-null float64\n",
      "final.output.tail_ag                                  19438 non-null float64\n",
      "final.output.tail_pb                                  19338 non-null float64\n",
      "final.output.tail_sol                                 19433 non-null float64\n",
      "final.output.tail_au                                  19439 non-null float64\n",
      "primary_cleaner.input.sulfate                         19415 non-null float64\n",
      "primary_cleaner.input.depressant                      19402 non-null float64\n",
      "primary_cleaner.input.feed_size                       19439 non-null float64\n",
      "primary_cleaner.input.xanthate                        19335 non-null float64\n",
      "primary_cleaner.output.concentrate_ag                 19439 non-null float64\n",
      "primary_cleaner.output.concentrate_pb                 19323 non-null float64\n",
      "primary_cleaner.output.concentrate_sol                19069 non-null float64\n",
      "primary_cleaner.output.concentrate_au                 19439 non-null float64\n",
      "primary_cleaner.output.tail_ag                        19435 non-null float64\n",
      "primary_cleaner.output.tail_pb                        19418 non-null float64\n",
      "primary_cleaner.output.tail_sol                       19377 non-null float64\n",
      "primary_cleaner.output.tail_au                        19439 non-null float64\n",
      "primary_cleaner.state.floatbank8_a_air                19435 non-null float64\n",
      "primary_cleaner.state.floatbank8_a_level              19438 non-null float64\n",
      "primary_cleaner.state.floatbank8_b_air                19435 non-null float64\n",
      "primary_cleaner.state.floatbank8_b_level              19438 non-null float64\n",
      "primary_cleaner.state.floatbank8_c_air                19437 non-null float64\n",
      "primary_cleaner.state.floatbank8_c_level              19438 non-null float64\n",
      "primary_cleaner.state.floatbank8_d_air                19436 non-null float64\n",
      "primary_cleaner.state.floatbank8_d_level              19438 non-null float64\n",
      "rougher.calculation.sulfate_to_au_concentrate         19437 non-null float64\n",
      "rougher.calculation.floatbank10_sulfate_to_au_feed    19437 non-null float64\n",
      "rougher.calculation.floatbank11_sulfate_to_au_feed    19437 non-null float64\n",
      "rougher.calculation.au_pb_ratio                       19439 non-null float64\n",
      "rougher.input.feed_ag                                 19439 non-null float64\n",
      "rougher.input.feed_pb                                 19339 non-null float64\n",
      "rougher.input.feed_rate                               19428 non-null float64\n",
      "rougher.input.feed_size                               19294 non-null float64\n",
      "rougher.input.feed_sol                                19340 non-null float64\n",
      "rougher.input.feed_au                                 19439 non-null float64\n",
      "rougher.input.floatbank10_sulfate                     19405 non-null float64\n",
      "rougher.input.floatbank10_xanthate                    19431 non-null float64\n",
      "rougher.input.floatbank11_sulfate                     19395 non-null float64\n",
      "rougher.input.floatbank11_xanthate                    18986 non-null float64\n",
      "rougher.output.concentrate_ag                         19439 non-null float64\n",
      "rougher.output.concentrate_pb                         19439 non-null float64\n",
      "rougher.output.concentrate_sol                        19416 non-null float64\n",
      "rougher.output.concentrate_au                         19439 non-null float64\n",
      "rougher.output.recovery                               19439 non-null float64\n",
      "rougher.output.tail_ag                                19438 non-null float64\n",
      "rougher.output.tail_pb                                19439 non-null float64\n",
      "rougher.output.tail_sol                               19439 non-null float64\n",
      "rougher.output.tail_au                                19439 non-null float64\n",
      "rougher.state.floatbank10_a_air                       19438 non-null float64\n",
      "rougher.state.floatbank10_a_level                     19438 non-null float64\n",
      "rougher.state.floatbank10_b_air                       19438 non-null float64\n",
      "rougher.state.floatbank10_b_level                     19438 non-null float64\n",
      "rougher.state.floatbank10_c_air                       19438 non-null float64\n",
      "rougher.state.floatbank10_c_level                     19438 non-null float64\n",
      "rougher.state.floatbank10_d_air                       19439 non-null float64\n",
      "rougher.state.floatbank10_d_level                     19439 non-null float64\n",
      "rougher.state.floatbank10_e_air                       19003 non-null float64\n",
      "rougher.state.floatbank10_e_level                     19439 non-null float64\n",
      "rougher.state.floatbank10_f_air                       19439 non-null float64\n",
      "rougher.state.floatbank10_f_level                     19439 non-null float64\n",
      "secondary_cleaner.output.tail_ag                      19437 non-null float64\n",
      "secondary_cleaner.output.tail_pb                      19427 non-null float64\n",
      "secondary_cleaner.output.tail_sol                     17691 non-null float64\n",
      "secondary_cleaner.output.tail_au                      19439 non-null float64\n",
      "secondary_cleaner.state.floatbank2_a_air              19219 non-null float64\n",
      "secondary_cleaner.state.floatbank2_a_level            19438 non-null float64\n",
      "secondary_cleaner.state.floatbank2_b_air              19416 non-null float64\n",
      "secondary_cleaner.state.floatbank2_b_level            19438 non-null float64\n",
      "secondary_cleaner.state.floatbank3_a_air              19426 non-null float64\n",
      "secondary_cleaner.state.floatbank3_a_level            19438 non-null float64\n",
      "secondary_cleaner.state.floatbank3_b_air              19438 non-null float64\n",
      "secondary_cleaner.state.floatbank3_b_level            19438 non-null float64\n",
      "secondary_cleaner.state.floatbank4_a_air              19433 non-null float64\n",
      "secondary_cleaner.state.floatbank4_a_level            19438 non-null float64\n",
      "secondary_cleaner.state.floatbank4_b_air              19438 non-null float64\n",
      "secondary_cleaner.state.floatbank4_b_level            19438 non-null float64\n",
      "secondary_cleaner.state.floatbank5_a_air              19438 non-null float64\n",
      "secondary_cleaner.state.floatbank5_a_level            19438 non-null float64\n",
      "secondary_cleaner.state.floatbank5_b_air              19438 non-null float64\n",
      "secondary_cleaner.state.floatbank5_b_level            19438 non-null float64\n",
      "secondary_cleaner.state.floatbank6_a_air              19437 non-null float64\n",
      "secondary_cleaner.state.floatbank6_a_level            19438 non-null float64\n",
      "dtypes: datetime64[ns](1), float64(86)\n",
      "memory usage: 12.9 MB\n"
     ]
    }
   ],
   "source": [
    "full.info()"
   ]
  },
  {
   "cell_type": "markdown",
   "metadata": {},
   "source": [
    "Везде есть пропуски, вероятно, из-за того, что данные измеряются позже."
   ]
  },
  {
   "cell_type": "markdown",
   "metadata": {},
   "source": [
    "###  Проверка правильности расчета эффективности обогащения"
   ]
  },
  {
   "cell_type": "code",
   "execution_count": 6,
   "metadata": {},
   "outputs": [],
   "source": [
    "def calculate_recovery(C, F, T):\n",
    "    \n",
    "    rec = (C*(F-T)) / (F*(C-T)) * 100\n",
    "    \n",
    "    #мы не застрахованы от очень больших и очень маленьких значений\n",
    "    rec[rec<0] = np.nan\n",
    "    rec[rec>100] = np.nan\n",
    "    \n",
    "    return rec"
   ]
  },
  {
   "cell_type": "code",
   "execution_count": 7,
   "metadata": {},
   "outputs": [],
   "source": [
    "recovery=train.dropna().reset_index()\n",
    "rougher_output_recovery=recovery['rougher.output.recovery']\n",
    "rougher_output_concentrate_au=recovery['rougher.output.concentrate_au']\n",
    "rougher_input_feed_au=recovery['rougher.input.feed_au']\n",
    "rougher_output_tail_au=recovery['rougher.output.tail_au']"
   ]
  },
  {
   "cell_type": "code",
   "execution_count": 8,
   "metadata": {},
   "outputs": [
    {
     "data": {
      "text/plain": [
       "0        87.107763\n",
       "1        86.843261\n",
       "2        86.842308\n",
       "3        87.226430\n",
       "4        86.688794\n",
       "           ...    \n",
       "11012    89.574376\n",
       "11013    87.724007\n",
       "11014    88.890579\n",
       "11015    89.858126\n",
       "11016    89.514960\n",
       "Length: 11017, dtype: float64"
      ]
     },
     "execution_count": 8,
     "metadata": {},
     "output_type": "execute_result"
    }
   ],
   "source": [
    "recovery = calculate_recovery(rougher_output_concentrate_au,rougher_input_feed_au,rougher_output_tail_au)\n",
    "recovery"
   ]
  },
  {
   "cell_type": "code",
   "execution_count": 9,
   "metadata": {},
   "outputs": [
    {
     "data": {
      "text/plain": [
       "9.739730529255835e-15"
      ]
     },
     "execution_count": 9,
     "metadata": {},
     "output_type": "execute_result"
    }
   ],
   "source": [
    "MAE(recovery,rougher_output_recovery)"
   ]
  },
  {
   "cell_type": "code",
   "execution_count": 10,
   "metadata": {},
   "outputs": [
    {
     "name": "stdout",
     "output_type": "stream",
     "text": [
      "The number of nans in recovery:  0\n",
      "The number of nans in rougher_output_recovery:  0\n"
     ]
    }
   ],
   "source": [
    "#пропуски\n",
    "print(\"The number of nans in recovery: \", recovery.isna().sum())\n",
    "print(\"The number of nans in rougher_output_recovery: \", rougher_output_recovery.isna().sum())"
   ]
  },
  {
   "cell_type": "markdown",
   "metadata": {},
   "source": [
    "Пропусков нет. В целом, можно сказать, что значения посчитаны верно. Присутсвовали значения >100 и <0, из-за них возникали трудности."
   ]
  },
  {
   "cell_type": "markdown",
   "metadata": {},
   "source": [
    "### Анализ признаков, недоступных в тестовой выборке"
   ]
  },
  {
   "cell_type": "code",
   "execution_count": 11,
   "metadata": {},
   "outputs": [
    {
     "data": {
      "text/plain": [
       "['final.output.concentrate_ag',\n",
       " 'final.output.concentrate_pb',\n",
       " 'final.output.concentrate_sol',\n",
       " 'final.output.concentrate_au',\n",
       " 'final.output.recovery',\n",
       " 'final.output.tail_ag',\n",
       " 'final.output.tail_pb',\n",
       " 'final.output.tail_sol',\n",
       " 'final.output.tail_au',\n",
       " 'primary_cleaner.output.concentrate_ag',\n",
       " 'primary_cleaner.output.concentrate_pb',\n",
       " 'primary_cleaner.output.concentrate_sol',\n",
       " 'primary_cleaner.output.concentrate_au',\n",
       " 'primary_cleaner.output.tail_ag',\n",
       " 'primary_cleaner.output.tail_pb',\n",
       " 'primary_cleaner.output.tail_sol',\n",
       " 'primary_cleaner.output.tail_au',\n",
       " 'rougher.calculation.sulfate_to_au_concentrate',\n",
       " 'rougher.calculation.floatbank10_sulfate_to_au_feed',\n",
       " 'rougher.calculation.floatbank11_sulfate_to_au_feed',\n",
       " 'rougher.calculation.au_pb_ratio',\n",
       " 'rougher.output.concentrate_ag',\n",
       " 'rougher.output.concentrate_pb',\n",
       " 'rougher.output.concentrate_sol',\n",
       " 'rougher.output.concentrate_au',\n",
       " 'rougher.output.recovery',\n",
       " 'rougher.output.tail_ag',\n",
       " 'rougher.output.tail_pb',\n",
       " 'rougher.output.tail_sol',\n",
       " 'rougher.output.tail_au',\n",
       " 'secondary_cleaner.output.tail_ag',\n",
       " 'secondary_cleaner.output.tail_pb',\n",
       " 'secondary_cleaner.output.tail_sol',\n",
       " 'secondary_cleaner.output.tail_au']"
      ]
     },
     "execution_count": 11,
     "metadata": {},
     "output_type": "execute_result"
    }
   ],
   "source": [
    "step = collections.Counter()\n",
    "type_step = collections.Counter()\n",
    "data = collections.Counter()\n",
    "list_columns = [i for i in train.columns if i not in test.columns]\n",
    "for i in list_columns:\n",
    "    words = list(map(str,i.split(\".\")))\n",
    "    step[words[0]] += 1\n",
    "    type_step[words[1]] += 1\n",
    "    data[words[2]] += 1\n",
    "    \n",
    "    \n",
    "list_columns"
   ]
  },
  {
   "cell_type": "markdown",
   "metadata": {},
   "source": [
    "Нашли все столбцы, которые есть в тренировочной выборке, но отсутствуют в тестовой: это все выходные признаки после различных технологических этапов. "
   ]
  },
  {
   "cell_type": "code",
   "execution_count": 12,
   "metadata": {},
   "outputs": [
    {
     "data": {
      "text/plain": [
       "(Counter({'final': 9,\n",
       "          'primary_cleaner': 8,\n",
       "          'rougher': 13,\n",
       "          'secondary_cleaner': 4}),\n",
       " '\\n',\n",
       " Counter({'output': 30, 'calculation': 4}),\n",
       " '\\n',\n",
       " Counter({'concentrate_ag': 3,\n",
       "          'concentrate_pb': 3,\n",
       "          'concentrate_sol': 3,\n",
       "          'concentrate_au': 3,\n",
       "          'recovery': 2,\n",
       "          'tail_ag': 4,\n",
       "          'tail_pb': 4,\n",
       "          'tail_sol': 4,\n",
       "          'tail_au': 4,\n",
       "          'sulfate_to_au_concentrate': 1,\n",
       "          'floatbank10_sulfate_to_au_feed': 1,\n",
       "          'floatbank11_sulfate_to_au_feed': 1,\n",
       "          'au_pb_ratio': 1}))"
      ]
     },
     "execution_count": 12,
     "metadata": {},
     "output_type": "execute_result"
    }
   ],
   "source": [
    "step,\"\\n\",type_step,\"\\n\",data"
   ]
  },
  {
   "cell_type": "markdown",
   "metadata": {},
   "source": [
    "34 пропущенных признака: 30 - параметрам продукта, 4 - расчетные характеристики.  \n",
    "\n",
    "К параметрам продукта относятся пропущенные признаки: **9 final**, **8 primary_cleaner**, **9 rougher**, **4 secondary_cleaner**.  \n",
    "\n",
    "**4** пропущенных признака этапа **rougher** относятся к расчетным характеристикам.\n",
    "\n",
    "На всех этапах нет информации о хвостовых частях; на всех этапах, кроме повторной очистки, отсутствует информация о доле металлов; для финального этапа и этапа флотации нет признаков обогащения; на этапе флотации отсутствуют данные о некоторых реагентах."
   ]
  },
  {
   "cell_type": "markdown",
   "metadata": {},
   "source": [
    "### Предобработка"
   ]
  },
  {
   "cell_type": "code",
   "execution_count": 13,
   "metadata": {},
   "outputs": [
    {
     "data": {
      "text/html": [
       "<div>\n",
       "<style scoped>\n",
       "    .dataframe tbody tr th:only-of-type {\n",
       "        vertical-align: middle;\n",
       "    }\n",
       "\n",
       "    .dataframe tbody tr th {\n",
       "        vertical-align: top;\n",
       "    }\n",
       "\n",
       "    .dataframe thead th {\n",
       "        text-align: right;\n",
       "    }\n",
       "</style>\n",
       "<table border=\"1\" class=\"dataframe\">\n",
       "  <thead>\n",
       "    <tr style=\"text-align: right;\">\n",
       "      <th></th>\n",
       "      <th>date</th>\n",
       "      <th>final.output.concentrate_ag</th>\n",
       "      <th>final.output.concentrate_pb</th>\n",
       "      <th>final.output.concentrate_sol</th>\n",
       "      <th>final.output.concentrate_au</th>\n",
       "      <th>final.output.recovery</th>\n",
       "      <th>final.output.tail_ag</th>\n",
       "      <th>final.output.tail_pb</th>\n",
       "      <th>final.output.tail_sol</th>\n",
       "      <th>final.output.tail_au</th>\n",
       "      <th>...</th>\n",
       "      <th>secondary_cleaner.state.floatbank4_a_air</th>\n",
       "      <th>secondary_cleaner.state.floatbank4_a_level</th>\n",
       "      <th>secondary_cleaner.state.floatbank4_b_air</th>\n",
       "      <th>secondary_cleaner.state.floatbank4_b_level</th>\n",
       "      <th>secondary_cleaner.state.floatbank5_a_air</th>\n",
       "      <th>secondary_cleaner.state.floatbank5_a_level</th>\n",
       "      <th>secondary_cleaner.state.floatbank5_b_air</th>\n",
       "      <th>secondary_cleaner.state.floatbank5_b_level</th>\n",
       "      <th>secondary_cleaner.state.floatbank6_a_air</th>\n",
       "      <th>secondary_cleaner.state.floatbank6_a_level</th>\n",
       "    </tr>\n",
       "  </thead>\n",
       "  <tbody>\n",
       "    <tr>\n",
       "      <td>2869</td>\n",
       "      <td>2016-06-08 17:59:59</td>\n",
       "      <td>NaN</td>\n",
       "      <td>NaN</td>\n",
       "      <td>10.188231</td>\n",
       "      <td>29.020814</td>\n",
       "      <td>63.725335</td>\n",
       "      <td>7.387115</td>\n",
       "      <td>2.072266</td>\n",
       "      <td>16.982505</td>\n",
       "      <td>2.908215</td>\n",
       "      <td>...</td>\n",
       "      <td>8.985634</td>\n",
       "      <td>-548.815307</td>\n",
       "      <td>7.011665</td>\n",
       "      <td>-537.231749</td>\n",
       "      <td>8.031238</td>\n",
       "      <td>-550.028193</td>\n",
       "      <td>5.984399</td>\n",
       "      <td>-549.63625</td>\n",
       "      <td>18.01224</td>\n",
       "      <td>-551.325271</td>\n",
       "    </tr>\n",
       "  </tbody>\n",
       "</table>\n",
       "<p>1 rows × 87 columns</p>\n",
       "</div>"
      ],
      "text/plain": [
       "                    date  final.output.concentrate_ag  \\\n",
       "2869 2016-06-08 17:59:59                          NaN   \n",
       "\n",
       "      final.output.concentrate_pb  final.output.concentrate_sol  \\\n",
       "2869                          NaN                     10.188231   \n",
       "\n",
       "      final.output.concentrate_au  final.output.recovery  \\\n",
       "2869                    29.020814              63.725335   \n",
       "\n",
       "      final.output.tail_ag  final.output.tail_pb  final.output.tail_sol  \\\n",
       "2869              7.387115              2.072266              16.982505   \n",
       "\n",
       "      final.output.tail_au  ...  secondary_cleaner.state.floatbank4_a_air  \\\n",
       "2869              2.908215  ...                                  8.985634   \n",
       "\n",
       "      secondary_cleaner.state.floatbank4_a_level  \\\n",
       "2869                                 -548.815307   \n",
       "\n",
       "      secondary_cleaner.state.floatbank4_b_air  \\\n",
       "2869                                  7.011665   \n",
       "\n",
       "      secondary_cleaner.state.floatbank4_b_level  \\\n",
       "2869                                 -537.231749   \n",
       "\n",
       "      secondary_cleaner.state.floatbank5_a_air  \\\n",
       "2869                                  8.031238   \n",
       "\n",
       "      secondary_cleaner.state.floatbank5_a_level  \\\n",
       "2869                                 -550.028193   \n",
       "\n",
       "      secondary_cleaner.state.floatbank5_b_air  \\\n",
       "2869                                  5.984399   \n",
       "\n",
       "      secondary_cleaner.state.floatbank5_b_level  \\\n",
       "2869                                  -549.63625   \n",
       "\n",
       "      secondary_cleaner.state.floatbank6_a_air  \\\n",
       "2869                                  18.01224   \n",
       "\n",
       "      secondary_cleaner.state.floatbank6_a_level  \n",
       "2869                                 -551.325271  \n",
       "\n",
       "[1 rows x 87 columns]"
      ]
     },
     "execution_count": 13,
     "metadata": {},
     "output_type": "execute_result"
    }
   ],
   "source": [
    "full[full['final.output.concentrate_pb'].isna()].head(5)"
   ]
  },
  {
   "cell_type": "markdown",
   "metadata": {},
   "source": [
    "Изначально была подсказка о том, что в соседних строках данные часто похожи. Данные индексируются датой и временем получения информации (date). Заполним пропуски последним действительным значением вперед."
   ]
  },
  {
   "cell_type": "code",
   "execution_count": 14,
   "metadata": {},
   "outputs": [],
   "source": [
    "full=full.fillna(method='ffill')\n",
    "train=train.fillna(method='ffill')"
   ]
  },
  {
   "cell_type": "code",
   "execution_count": 15,
   "metadata": {},
   "outputs": [
    {
     "data": {
      "text/html": [
       "<div>\n",
       "<style scoped>\n",
       "    .dataframe tbody tr th:only-of-type {\n",
       "        vertical-align: middle;\n",
       "    }\n",
       "\n",
       "    .dataframe tbody tr th {\n",
       "        vertical-align: top;\n",
       "    }\n",
       "\n",
       "    .dataframe thead th {\n",
       "        text-align: right;\n",
       "    }\n",
       "</style>\n",
       "<table border=\"1\" class=\"dataframe\">\n",
       "  <thead>\n",
       "    <tr style=\"text-align: right;\">\n",
       "      <th></th>\n",
       "      <th>date</th>\n",
       "      <th>final.output.concentrate_ag</th>\n",
       "      <th>final.output.concentrate_pb</th>\n",
       "      <th>final.output.concentrate_sol</th>\n",
       "      <th>final.output.concentrate_au</th>\n",
       "      <th>final.output.recovery</th>\n",
       "      <th>final.output.tail_ag</th>\n",
       "      <th>final.output.tail_pb</th>\n",
       "      <th>final.output.tail_sol</th>\n",
       "      <th>final.output.tail_au</th>\n",
       "      <th>...</th>\n",
       "      <th>secondary_cleaner.state.floatbank4_a_air</th>\n",
       "      <th>secondary_cleaner.state.floatbank4_a_level</th>\n",
       "      <th>secondary_cleaner.state.floatbank4_b_air</th>\n",
       "      <th>secondary_cleaner.state.floatbank4_b_level</th>\n",
       "      <th>secondary_cleaner.state.floatbank5_a_air</th>\n",
       "      <th>secondary_cleaner.state.floatbank5_a_level</th>\n",
       "      <th>secondary_cleaner.state.floatbank5_b_air</th>\n",
       "      <th>secondary_cleaner.state.floatbank5_b_level</th>\n",
       "      <th>secondary_cleaner.state.floatbank6_a_air</th>\n",
       "      <th>secondary_cleaner.state.floatbank6_a_level</th>\n",
       "    </tr>\n",
       "  </thead>\n",
       "  <tbody>\n",
       "  </tbody>\n",
       "</table>\n",
       "<p>0 rows × 87 columns</p>\n",
       "</div>"
      ],
      "text/plain": [
       "Empty DataFrame\n",
       "Columns: [date, final.output.concentrate_ag, final.output.concentrate_pb, final.output.concentrate_sol, final.output.concentrate_au, final.output.recovery, final.output.tail_ag, final.output.tail_pb, final.output.tail_sol, final.output.tail_au, primary_cleaner.input.sulfate, primary_cleaner.input.depressant, primary_cleaner.input.feed_size, primary_cleaner.input.xanthate, primary_cleaner.output.concentrate_ag, primary_cleaner.output.concentrate_pb, primary_cleaner.output.concentrate_sol, primary_cleaner.output.concentrate_au, primary_cleaner.output.tail_ag, primary_cleaner.output.tail_pb, primary_cleaner.output.tail_sol, primary_cleaner.output.tail_au, primary_cleaner.state.floatbank8_a_air, primary_cleaner.state.floatbank8_a_level, primary_cleaner.state.floatbank8_b_air, primary_cleaner.state.floatbank8_b_level, primary_cleaner.state.floatbank8_c_air, primary_cleaner.state.floatbank8_c_level, primary_cleaner.state.floatbank8_d_air, primary_cleaner.state.floatbank8_d_level, rougher.calculation.sulfate_to_au_concentrate, rougher.calculation.floatbank10_sulfate_to_au_feed, rougher.calculation.floatbank11_sulfate_to_au_feed, rougher.calculation.au_pb_ratio, rougher.input.feed_ag, rougher.input.feed_pb, rougher.input.feed_rate, rougher.input.feed_size, rougher.input.feed_sol, rougher.input.feed_au, rougher.input.floatbank10_sulfate, rougher.input.floatbank10_xanthate, rougher.input.floatbank11_sulfate, rougher.input.floatbank11_xanthate, rougher.output.concentrate_ag, rougher.output.concentrate_pb, rougher.output.concentrate_sol, rougher.output.concentrate_au, rougher.output.recovery, rougher.output.tail_ag, rougher.output.tail_pb, rougher.output.tail_sol, rougher.output.tail_au, rougher.state.floatbank10_a_air, rougher.state.floatbank10_a_level, rougher.state.floatbank10_b_air, rougher.state.floatbank10_b_level, rougher.state.floatbank10_c_air, rougher.state.floatbank10_c_level, rougher.state.floatbank10_d_air, rougher.state.floatbank10_d_level, rougher.state.floatbank10_e_air, rougher.state.floatbank10_e_level, rougher.state.floatbank10_f_air, rougher.state.floatbank10_f_level, secondary_cleaner.output.tail_ag, secondary_cleaner.output.tail_pb, secondary_cleaner.output.tail_sol, secondary_cleaner.output.tail_au, secondary_cleaner.state.floatbank2_a_air, secondary_cleaner.state.floatbank2_a_level, secondary_cleaner.state.floatbank2_b_air, secondary_cleaner.state.floatbank2_b_level, secondary_cleaner.state.floatbank3_a_air, secondary_cleaner.state.floatbank3_a_level, secondary_cleaner.state.floatbank3_b_air, secondary_cleaner.state.floatbank3_b_level, secondary_cleaner.state.floatbank4_a_air, secondary_cleaner.state.floatbank4_a_level, secondary_cleaner.state.floatbank4_b_air, secondary_cleaner.state.floatbank4_b_level, secondary_cleaner.state.floatbank5_a_air, secondary_cleaner.state.floatbank5_a_level, secondary_cleaner.state.floatbank5_b_air, secondary_cleaner.state.floatbank5_b_level, secondary_cleaner.state.floatbank6_a_air, secondary_cleaner.state.floatbank6_a_level]\n",
       "Index: []\n",
       "\n",
       "[0 rows x 87 columns]"
      ]
     },
     "execution_count": 15,
     "metadata": {},
     "output_type": "execute_result"
    }
   ],
   "source": [
    "train[train['final.output.concentrate_pb'].isna()].head(5)"
   ]
  },
  {
   "cell_type": "code",
   "execution_count": 16,
   "metadata": {},
   "outputs": [
    {
     "data": {
      "text/html": [
       "<div>\n",
       "<style scoped>\n",
       "    .dataframe tbody tr th:only-of-type {\n",
       "        vertical-align: middle;\n",
       "    }\n",
       "\n",
       "    .dataframe tbody tr th {\n",
       "        vertical-align: top;\n",
       "    }\n",
       "\n",
       "    .dataframe thead th {\n",
       "        text-align: right;\n",
       "    }\n",
       "</style>\n",
       "<table border=\"1\" class=\"dataframe\">\n",
       "  <thead>\n",
       "    <tr style=\"text-align: right;\">\n",
       "      <th></th>\n",
       "      <th>date</th>\n",
       "      <th>final.output.concentrate_ag</th>\n",
       "      <th>final.output.concentrate_pb</th>\n",
       "      <th>final.output.concentrate_sol</th>\n",
       "      <th>final.output.concentrate_au</th>\n",
       "      <th>final.output.recovery</th>\n",
       "      <th>final.output.tail_ag</th>\n",
       "      <th>final.output.tail_pb</th>\n",
       "      <th>final.output.tail_sol</th>\n",
       "      <th>final.output.tail_au</th>\n",
       "      <th>...</th>\n",
       "      <th>secondary_cleaner.state.floatbank4_a_air</th>\n",
       "      <th>secondary_cleaner.state.floatbank4_a_level</th>\n",
       "      <th>secondary_cleaner.state.floatbank4_b_air</th>\n",
       "      <th>secondary_cleaner.state.floatbank4_b_level</th>\n",
       "      <th>secondary_cleaner.state.floatbank5_a_air</th>\n",
       "      <th>secondary_cleaner.state.floatbank5_a_level</th>\n",
       "      <th>secondary_cleaner.state.floatbank5_b_air</th>\n",
       "      <th>secondary_cleaner.state.floatbank5_b_level</th>\n",
       "      <th>secondary_cleaner.state.floatbank6_a_air</th>\n",
       "      <th>secondary_cleaner.state.floatbank6_a_level</th>\n",
       "    </tr>\n",
       "  </thead>\n",
       "  <tbody>\n",
       "  </tbody>\n",
       "</table>\n",
       "<p>0 rows × 87 columns</p>\n",
       "</div>"
      ],
      "text/plain": [
       "Empty DataFrame\n",
       "Columns: [date, final.output.concentrate_ag, final.output.concentrate_pb, final.output.concentrate_sol, final.output.concentrate_au, final.output.recovery, final.output.tail_ag, final.output.tail_pb, final.output.tail_sol, final.output.tail_au, primary_cleaner.input.sulfate, primary_cleaner.input.depressant, primary_cleaner.input.feed_size, primary_cleaner.input.xanthate, primary_cleaner.output.concentrate_ag, primary_cleaner.output.concentrate_pb, primary_cleaner.output.concentrate_sol, primary_cleaner.output.concentrate_au, primary_cleaner.output.tail_ag, primary_cleaner.output.tail_pb, primary_cleaner.output.tail_sol, primary_cleaner.output.tail_au, primary_cleaner.state.floatbank8_a_air, primary_cleaner.state.floatbank8_a_level, primary_cleaner.state.floatbank8_b_air, primary_cleaner.state.floatbank8_b_level, primary_cleaner.state.floatbank8_c_air, primary_cleaner.state.floatbank8_c_level, primary_cleaner.state.floatbank8_d_air, primary_cleaner.state.floatbank8_d_level, rougher.calculation.sulfate_to_au_concentrate, rougher.calculation.floatbank10_sulfate_to_au_feed, rougher.calculation.floatbank11_sulfate_to_au_feed, rougher.calculation.au_pb_ratio, rougher.input.feed_ag, rougher.input.feed_pb, rougher.input.feed_rate, rougher.input.feed_size, rougher.input.feed_sol, rougher.input.feed_au, rougher.input.floatbank10_sulfate, rougher.input.floatbank10_xanthate, rougher.input.floatbank11_sulfate, rougher.input.floatbank11_xanthate, rougher.output.concentrate_ag, rougher.output.concentrate_pb, rougher.output.concentrate_sol, rougher.output.concentrate_au, rougher.output.recovery, rougher.output.tail_ag, rougher.output.tail_pb, rougher.output.tail_sol, rougher.output.tail_au, rougher.state.floatbank10_a_air, rougher.state.floatbank10_a_level, rougher.state.floatbank10_b_air, rougher.state.floatbank10_b_level, rougher.state.floatbank10_c_air, rougher.state.floatbank10_c_level, rougher.state.floatbank10_d_air, rougher.state.floatbank10_d_level, rougher.state.floatbank10_e_air, rougher.state.floatbank10_e_level, rougher.state.floatbank10_f_air, rougher.state.floatbank10_f_level, secondary_cleaner.output.tail_ag, secondary_cleaner.output.tail_pb, secondary_cleaner.output.tail_sol, secondary_cleaner.output.tail_au, secondary_cleaner.state.floatbank2_a_air, secondary_cleaner.state.floatbank2_a_level, secondary_cleaner.state.floatbank2_b_air, secondary_cleaner.state.floatbank2_b_level, secondary_cleaner.state.floatbank3_a_air, secondary_cleaner.state.floatbank3_a_level, secondary_cleaner.state.floatbank3_b_air, secondary_cleaner.state.floatbank3_b_level, secondary_cleaner.state.floatbank4_a_air, secondary_cleaner.state.floatbank4_a_level, secondary_cleaner.state.floatbank4_b_air, secondary_cleaner.state.floatbank4_b_level, secondary_cleaner.state.floatbank5_a_air, secondary_cleaner.state.floatbank5_a_level, secondary_cleaner.state.floatbank5_b_air, secondary_cleaner.state.floatbank5_b_level, secondary_cleaner.state.floatbank6_a_air, secondary_cleaner.state.floatbank6_a_level]\n",
       "Index: []\n",
       "\n",
       "[0 rows x 87 columns]"
      ]
     },
     "execution_count": 16,
     "metadata": {},
     "output_type": "execute_result"
    }
   ],
   "source": [
    "full[full['final.output.concentrate_pb'].isna()].head(5)"
   ]
  },
  {
   "cell_type": "markdown",
   "metadata": {},
   "source": [
    "Теперь данные готовы к дальнейшему анализу."
   ]
  },
  {
   "cell_type": "markdown",
   "metadata": {},
   "source": [
    "## Анализ данных"
   ]
  },
  {
   "cell_type": "markdown",
   "metadata": {},
   "source": [
    "### Как меняется концентрация металлов "
   ]
  },
  {
   "cell_type": "code",
   "execution_count": 17,
   "metadata": {},
   "outputs": [
    {
     "name": "stdout",
     "output_type": "stream",
     "text": [
      "Metal concentrate rougher input\n",
      "Ag:8.79, Pb:3.59, Au:8.27\n",
      "\n"
     ]
    },
    {
     "data": {
      "text/plain": [
       "Text(0, 0.5, 'Friqency')"
      ]
     },
     "execution_count": 17,
     "metadata": {},
     "output_type": "execute_result"
    },
    {
     "data": {
      "image/png": "[encoded data removed]",
      "text/plain": [
       "<Figure size 1008x576 with 1 Axes>"
      ]
     },
     "metadata": {
      "needs_background": "light"
     },
     "output_type": "display_data"
    }
   ],
   "source": [
    "print(\"Metal concentrate rougher input\")\n",
    "print(\"Ag:{:0.2f}, Pb:{:0.2f}, Au:{:0.2f}\".\n",
    "format(full[\"rougher.input.feed_ag\"].mean(),\n",
    "full[\"rougher.input.feed_pb\"].mean(),\n",
    "full[\"rougher.input.feed_au\"].mean()))\n",
    "print()\n",
    "\n",
    "plt.figure(figsize=(14,8))\n",
    "sns.set(style = 'darkgrid', palette = 'Set1_r')\n",
    "sns.distplot(full['rougher.input.feed_ag'],bins=30,label='ag')\n",
    "sns.distplot(full['rougher.input.feed_pb'],bins=30,label='pb')\n",
    "sns.distplot(full['rougher.input.feed_au'],bins=30,label='au')\n",
    "\n",
    "plt.legend()\n",
    "plt.title('Metal concentrate rougher input')\n",
    "plt.xlabel(\"% Metal concentrate\")\n",
    "plt.ylabel(\"Friqency\")"
   ]
  },
  {
   "cell_type": "code",
   "execution_count": 18,
   "metadata": {},
   "outputs": [
    {
     "name": "stdout",
     "output_type": "stream",
     "text": [
      "Metal concentrate rougher output\n",
      "Ag:11.99, Pb:7.61, Au:19.77\n",
      "\n"
     ]
    },
    {
     "data": {
      "text/plain": [
       "Text(0, 0.5, 'Friqency')"
      ]
     },
     "execution_count": 18,
     "metadata": {},
     "output_type": "execute_result"
    },
    {
     "data": {
      "image/png": "[encoded data removed]",
      "text/plain": [
       "<Figure size 1008x576 with 1 Axes>"
      ]
     },
     "metadata": {},
     "output_type": "display_data"
    }
   ],
   "source": [
    "print(\"Metal concentrate rougher output\")\n",
    "print(\"Ag:{:0.2f}, Pb:{:0.2f}, Au:{:0.2f}\".\n",
    "format(full[\"rougher.output.concentrate_ag\"].mean(),\n",
    "full[\"rougher.output.concentrate_pb\"].mean(),\n",
    "full[\"rougher.output.concentrate_au\"].mean()))\n",
    "print()\n",
    "\n",
    "plt.figure(figsize=(14,8))\n",
    "sns.distplot(full['rougher.output.concentrate_ag'],bins=30,label='ag')\n",
    "sns.distplot(full['rougher.output.concentrate_pb'],bins=30,label='pb')\n",
    "sns.distplot(full['rougher.output.concentrate_au'],bins=30,label='au')\n",
    "\n",
    "plt.legend()\n",
    "plt.title('Metal concentrate rougher output')\n",
    "plt.xlabel(\"% Metal concentrate\")\n",
    "plt.ylabel(\"Friqency\")"
   ]
  },
  {
   "cell_type": "code",
   "execution_count": 19,
   "metadata": {},
   "outputs": [
    {
     "name": "stdout",
     "output_type": "stream",
     "text": [
      "Metal concentrate cleaner output\n",
      "Ag:8.44, Pb:9.81, Au:32.12\n",
      "\n"
     ]
    },
    {
     "data": {
      "text/plain": [
       "Text(0, 0.5, 'Friqency')"
      ]
     },
     "execution_count": 19,
     "metadata": {},
     "output_type": "execute_result"
    },
    {
     "data": {
      "image/png": "[encoded data removed]",
      "text/plain": [
       "<Figure size 1008x576 with 1 Axes>"
      ]
     },
     "metadata": {},
     "output_type": "display_data"
    }
   ],
   "source": [
    "print(\"Metal concentrate cleaner output\")\n",
    "print(\"Ag:{:0.2f}, Pb:{:0.2f}, Au:{:0.2f}\".\n",
    "format(full[\"primary_cleaner.output.concentrate_ag\"].mean(),\n",
    "full[\"primary_cleaner.output.concentrate_pb\"].mean(),\n",
    "full[\"primary_cleaner.output.concentrate_au\"].mean()))\n",
    "print()\n",
    "\n",
    "plt.figure(figsize=(14,8))\n",
    "sns.distplot(full['primary_cleaner.output.concentrate_ag'],bins=30,label='ag')\n",
    "sns.distplot(full['primary_cleaner.output.concentrate_pb'],bins=30,label='pb')\n",
    "sns.distplot(full['primary_cleaner.output.concentrate_au'],bins=30,label='au')\n",
    "\n",
    "plt.legend()\n",
    "plt.title('Metal concentrate cleaner output')\n",
    "plt.xlabel(\"% Metal concentrate\")\n",
    "plt.ylabel(\"Friqency\")"
   ]
  },
  {
   "cell_type": "code",
   "execution_count": 20,
   "metadata": {},
   "outputs": [
    {
     "name": "stdout",
     "output_type": "stream",
     "text": [
      "Metal concentrate final output\n",
      "Ag:5.17, Pb:9.98, Au:44.08\n",
      "\n"
     ]
    },
    {
     "data": {
      "text/plain": [
       "Text(0, 0.5, 'Friqency')"
      ]
     },
     "execution_count": 20,
     "metadata": {},
     "output_type": "execute_result"
    },
    {
     "data": {
      "image/png": "[encoded data removed]",
      "text/plain": [
       "<Figure size 1008x576 with 1 Axes>"
      ]
     },
     "metadata": {},
     "output_type": "display_data"
    }
   ],
   "source": [
    "print(\"Metal concentrate final output\")\n",
    "print(\"Ag:{:0.2f}, Pb:{:0.2f}, Au:{:0.2f}\".\n",
    "format(full[\"final.output.concentrate_ag\"].mean(),\n",
    "full[\"final.output.concentrate_pb\"].mean(),\n",
    "full[\"final.output.concentrate_au\"].mean()))\n",
    "print()\n",
    "\n",
    "plt.figure(figsize=(14,8))\n",
    "sns.distplot(full['final.output.concentrate_ag'],bins=30,label='ag')\n",
    "sns.distplot(full['final.output.concentrate_pb'],bins=30,label='pb')\n",
    "sns.distplot(full['final.output.concentrate_au'],bins=30,label='au')\n",
    "\n",
    "plt.legend()\n",
    "plt.title('Metal concentrate final output')\n",
    "plt.xlabel(\"% Metal concentrate\")\n",
    "plt.ylabel(\"Friqency\")"
   ]
  },
  {
   "cell_type": "markdown",
   "metadata": {},
   "source": [
    "По грфикам можно увидеть, что распределения поменялись после каждой процедуры обработки.   \n",
    "Видно, что в процессе очистики, концентрация золота возрастает: среднее значение концентрации золота после первичной очистки было 32%; после финальной очистки значение средней концентрации золота стало 44%.   \n",
    "Концентрация свинца тоже возрастает, но не так значительно.  \n",
    "Среднее значение концентрации серебра уменьшается.  \n",
    "Стоит отметим достаточно большое количетсво нулевых значений.  \n",
    "Расперделение стало более концентрированным вокруг среднего по всем металлам."
   ]
  },
  {
   "cell_type": "markdown",
   "metadata": {},
   "source": [
    "### Распределения размеров гранул "
   ]
  },
  {
   "cell_type": "code",
   "execution_count": 21,
   "metadata": {},
   "outputs": [
    {
     "data": {
      "text/plain": [
       "Text(0, 0.5, 'Frequency')"
      ]
     },
     "execution_count": 21,
     "metadata": {},
     "output_type": "execute_result"
    },
    {
     "data": {
      "image/png": "[encoded data removed]",
      "text/plain": [
       "<Figure size 1080x576 with 1 Axes>"
      ]
     },
     "metadata": {},
     "output_type": "display_data"
    }
   ],
   "source": [
    "plt.figure(figsize=(15,8))\n",
    "sns.distplot(train['primary_cleaner.input.feed_size'], bins = 30, label='Train')\n",
    "sns.distplot(test['primary_cleaner.input.feed_size'],bins = 30, label='Test')\n",
    "\n",
    "\n",
    "plt.legend()\n",
    "plt.title('Feed size in Train and Test')\n",
    "plt.xlabel('Feed size')\n",
    "plt.ylabel('Frequency')"
   ]
  },
  {
   "cell_type": "markdown",
   "metadata": {},
   "source": [
    "Судя по графику распределение обучающей и тестовой выборки можно сказать, что они совпадают. Тестовую выборку можно считать репрезентативной."
   ]
  },
  {
   "cell_type": "markdown",
   "metadata": {},
   "source": [
    "### Cуммарная концентрация всех веществ на разных стадиях"
   ]
  },
  {
   "cell_type": "code",
   "execution_count": 22,
   "metadata": {},
   "outputs": [],
   "source": [
    "#концентрации металлов после флотации\n",
    "full['sum_rougher_concentrate']=full['rougher.output.concentrate_ag']+\\\n",
    "full['rougher.output.concentrate_pb']+full['rougher.output.concentrate_sol']+full['rougher.output.concentrate_au']\n",
    "\n",
    "train['sum_rougher_concentrate']=train['rougher.output.concentrate_ag']+\\\n",
    "train['rougher.output.concentrate_pb']+train['rougher.output.concentrate_sol']+train['rougher.output.concentrate_au']\n",
    "\n",
    "#концентрации металлов после первичной очистки\n",
    "full['sum_primary_cleaner_output_concentrate']=full['primary_cleaner.output.concentrate_ag']+\\\n",
    "full['primary_cleaner.output.concentrate_pb']+full['primary_cleaner.output.concentrate_sol']+\\\n",
    "full['primary_cleaner.output.concentrate_au']\n",
    "\n",
    "train['sum_primary_cleaner_output_concentrate']=train['primary_cleaner.output.concentrate_ag']+\\\n",
    "train['primary_cleaner.output.concentrate_pb']+train['primary_cleaner.output.concentrate_sol']+\\\n",
    "train['primary_cleaner.output.concentrate_au']\n",
    "\n",
    "#концентрации металлов после финальной очистки\n",
    "full['sum_final_output_concentrate']=full['final.output.concentrate_ag']+\\\n",
    "full['final.output.concentrate_pb']+full['final.output.concentrate_sol']+full['final.output.concentrate_au']\n",
    "\n",
    "train['sum_final_output_concentrate']=train['final.output.concentrate_ag']+\\\n",
    "train['final.output.concentrate_pb']+train['final.output.concentrate_sol']+train['final.output.concentrate_au']"
   ]
  },
  {
   "cell_type": "code",
   "execution_count": 23,
   "metadata": {},
   "outputs": [],
   "source": [
    "sum_concentrate=['sum_concentrate_rougher','sum_primary_cleaner_output_concentrate','sum_final_output_concentrate']"
   ]
  },
  {
   "cell_type": "code",
   "execution_count": 24,
   "metadata": {},
   "outputs": [
    {
     "data": {
      "text/plain": [
       "Text(0, 0.5, 'Frequency')"
      ]
     },
     "execution_count": 24,
     "metadata": {},
     "output_type": "execute_result"
    },
    {
     "data": {
      "image/png": "[encoded data removed]",
      "text/plain": [
       "<Figure size 1008x576 with 1 Axes>"
      ]
     },
     "metadata": {},
     "output_type": "display_data"
    }
   ],
   "source": [
    "plt.figure(figsize=(14,8))\n",
    "sns.distplot(full['sum_rougher_concentrate'],bins=80,label='sum_concentrate_rougher')\n",
    "sns.distplot(full['sum_primary_cleaner_output_concentrate'],bins=80,label='sum_primary_cleaner_output_concentrate')\n",
    "sns.distplot(full['sum_final_output_concentrate'],bins=80,label='sum_final_output_concentrate')\n",
    "\n",
    "plt.legend()\n",
    "plt.title('Sum concentrate in rougher, primary cleaner output and final output')\n",
    "plt.xlabel(\"Sum concentrate\")\n",
    "plt.ylabel(\"Frequency\")"
   ]
  },
  {
   "cell_type": "markdown",
   "metadata": {},
   "source": [
    "По графику видно, что в датафрейме множество неинформативных значений в области до 40. Можно удалить их из исходных данных, а еще из обучающей выборки. "
   ]
  },
  {
   "cell_type": "code",
   "execution_count": 25,
   "metadata": {},
   "outputs": [
    {
     "data": {
      "text/html": [
       "<div>\n",
       "<style scoped>\n",
       "    .dataframe tbody tr th:only-of-type {\n",
       "        vertical-align: middle;\n",
       "    }\n",
       "\n",
       "    .dataframe tbody tr th {\n",
       "        vertical-align: top;\n",
       "    }\n",
       "\n",
       "    .dataframe thead th {\n",
       "        text-align: right;\n",
       "    }\n",
       "</style>\n",
       "<table border=\"1\" class=\"dataframe\">\n",
       "  <thead>\n",
       "    <tr style=\"text-align: right;\">\n",
       "      <th></th>\n",
       "      <th>date</th>\n",
       "      <th>final.output.concentrate_ag</th>\n",
       "      <th>final.output.concentrate_pb</th>\n",
       "      <th>final.output.concentrate_sol</th>\n",
       "      <th>final.output.concentrate_au</th>\n",
       "      <th>final.output.recovery</th>\n",
       "      <th>final.output.tail_ag</th>\n",
       "      <th>final.output.tail_pb</th>\n",
       "      <th>final.output.tail_sol</th>\n",
       "      <th>final.output.tail_au</th>\n",
       "      <th>...</th>\n",
       "      <th>secondary_cleaner.state.floatbank4_b_level</th>\n",
       "      <th>secondary_cleaner.state.floatbank5_a_air</th>\n",
       "      <th>secondary_cleaner.state.floatbank5_a_level</th>\n",
       "      <th>secondary_cleaner.state.floatbank5_b_air</th>\n",
       "      <th>secondary_cleaner.state.floatbank5_b_level</th>\n",
       "      <th>secondary_cleaner.state.floatbank6_a_air</th>\n",
       "      <th>secondary_cleaner.state.floatbank6_a_level</th>\n",
       "      <th>sum_rougher_concentrate</th>\n",
       "      <th>sum_primary_cleaner_output_concentrate</th>\n",
       "      <th>sum_final_output_concentrate</th>\n",
       "    </tr>\n",
       "  </thead>\n",
       "  <tbody>\n",
       "    <tr>\n",
       "      <td>0</td>\n",
       "      <td>2016-01-15 00:00:00</td>\n",
       "      <td>6.055403</td>\n",
       "      <td>9.889648</td>\n",
       "      <td>5.507324</td>\n",
       "      <td>42.192020</td>\n",
       "      <td>70.541216</td>\n",
       "      <td>10.411962</td>\n",
       "      <td>0.895447</td>\n",
       "      <td>16.904297</td>\n",
       "      <td>2.143149</td>\n",
       "      <td>...</td>\n",
       "      <td>-504.715942</td>\n",
       "      <td>9.925633</td>\n",
       "      <td>-498.310211</td>\n",
       "      <td>8.079666</td>\n",
       "      <td>-500.470978</td>\n",
       "      <td>14.151341</td>\n",
       "      <td>-605.841980</td>\n",
       "      <td>66.424950</td>\n",
       "      <td>72.640924</td>\n",
       "      <td>63.644396</td>\n",
       "    </tr>\n",
       "    <tr>\n",
       "      <td>1</td>\n",
       "      <td>2016-01-15 01:00:00</td>\n",
       "      <td>6.029369</td>\n",
       "      <td>9.968944</td>\n",
       "      <td>5.257781</td>\n",
       "      <td>42.701629</td>\n",
       "      <td>69.266198</td>\n",
       "      <td>10.462676</td>\n",
       "      <td>0.927452</td>\n",
       "      <td>16.634514</td>\n",
       "      <td>2.224930</td>\n",
       "      <td>...</td>\n",
       "      <td>-501.331529</td>\n",
       "      <td>10.039245</td>\n",
       "      <td>-500.169983</td>\n",
       "      <td>7.984757</td>\n",
       "      <td>-500.582168</td>\n",
       "      <td>13.998353</td>\n",
       "      <td>-599.787184</td>\n",
       "      <td>67.012710</td>\n",
       "      <td>72.543485</td>\n",
       "      <td>63.957723</td>\n",
       "    </tr>\n",
       "    <tr>\n",
       "      <td>2</td>\n",
       "      <td>2016-01-15 02:00:00</td>\n",
       "      <td>6.055926</td>\n",
       "      <td>10.213995</td>\n",
       "      <td>5.383759</td>\n",
       "      <td>42.657501</td>\n",
       "      <td>68.116445</td>\n",
       "      <td>10.507046</td>\n",
       "      <td>0.953716</td>\n",
       "      <td>16.208849</td>\n",
       "      <td>2.257889</td>\n",
       "      <td>...</td>\n",
       "      <td>-501.133383</td>\n",
       "      <td>10.070913</td>\n",
       "      <td>-500.129135</td>\n",
       "      <td>8.013877</td>\n",
       "      <td>-500.517572</td>\n",
       "      <td>14.028663</td>\n",
       "      <td>-601.427363</td>\n",
       "      <td>66.103793</td>\n",
       "      <td>72.095042</td>\n",
       "      <td>64.311180</td>\n",
       "    </tr>\n",
       "    <tr>\n",
       "      <td>3</td>\n",
       "      <td>2016-01-15 03:00:00</td>\n",
       "      <td>6.047977</td>\n",
       "      <td>9.977019</td>\n",
       "      <td>4.858634</td>\n",
       "      <td>42.689819</td>\n",
       "      <td>68.347543</td>\n",
       "      <td>10.422762</td>\n",
       "      <td>0.883763</td>\n",
       "      <td>16.532835</td>\n",
       "      <td>2.146849</td>\n",
       "      <td>...</td>\n",
       "      <td>-501.193686</td>\n",
       "      <td>9.970366</td>\n",
       "      <td>-499.201640</td>\n",
       "      <td>7.977324</td>\n",
       "      <td>-500.255908</td>\n",
       "      <td>14.005551</td>\n",
       "      <td>-599.996129</td>\n",
       "      <td>65.752751</td>\n",
       "      <td>59.957723</td>\n",
       "      <td>63.573449</td>\n",
       "    </tr>\n",
       "    <tr>\n",
       "      <td>4</td>\n",
       "      <td>2016-01-15 04:00:00</td>\n",
       "      <td>6.148599</td>\n",
       "      <td>10.142511</td>\n",
       "      <td>4.939416</td>\n",
       "      <td>42.774141</td>\n",
       "      <td>66.927016</td>\n",
       "      <td>10.360302</td>\n",
       "      <td>0.792826</td>\n",
       "      <td>16.525686</td>\n",
       "      <td>2.055292</td>\n",
       "      <td>...</td>\n",
       "      <td>-501.053894</td>\n",
       "      <td>9.925709</td>\n",
       "      <td>-501.686727</td>\n",
       "      <td>7.894242</td>\n",
       "      <td>-500.356035</td>\n",
       "      <td>13.996647</td>\n",
       "      <td>-601.496691</td>\n",
       "      <td>65.908382</td>\n",
       "      <td>71.321010</td>\n",
       "      <td>64.004667</td>\n",
       "    </tr>\n",
       "  </tbody>\n",
       "</table>\n",
       "<p>5 rows × 90 columns</p>\n",
       "</div>"
      ],
      "text/plain": [
       "                 date  final.output.concentrate_ag  \\\n",
       "0 2016-01-15 00:00:00                     6.055403   \n",
       "1 2016-01-15 01:00:00                     6.029369   \n",
       "2 2016-01-15 02:00:00                     6.055926   \n",
       "3 2016-01-15 03:00:00                     6.047977   \n",
       "4 2016-01-15 04:00:00                     6.148599   \n",
       "\n",
       "   final.output.concentrate_pb  final.output.concentrate_sol  \\\n",
       "0                     9.889648                      5.507324   \n",
       "1                     9.968944                      5.257781   \n",
       "2                    10.213995                      5.383759   \n",
       "3                     9.977019                      4.858634   \n",
       "4                    10.142511                      4.939416   \n",
       "\n",
       "   final.output.concentrate_au  final.output.recovery  final.output.tail_ag  \\\n",
       "0                    42.192020              70.541216             10.411962   \n",
       "1                    42.701629              69.266198             10.462676   \n",
       "2                    42.657501              68.116445             10.507046   \n",
       "3                    42.689819              68.347543             10.422762   \n",
       "4                    42.774141              66.927016             10.360302   \n",
       "\n",
       "   final.output.tail_pb  final.output.tail_sol  final.output.tail_au  ...  \\\n",
       "0              0.895447              16.904297              2.143149  ...   \n",
       "1              0.927452              16.634514              2.224930  ...   \n",
       "2              0.953716              16.208849              2.257889  ...   \n",
       "3              0.883763              16.532835              2.146849  ...   \n",
       "4              0.792826              16.525686              2.055292  ...   \n",
       "\n",
       "   secondary_cleaner.state.floatbank4_b_level  \\\n",
       "0                                 -504.715942   \n",
       "1                                 -501.331529   \n",
       "2                                 -501.133383   \n",
       "3                                 -501.193686   \n",
       "4                                 -501.053894   \n",
       "\n",
       "   secondary_cleaner.state.floatbank5_a_air  \\\n",
       "0                                  9.925633   \n",
       "1                                 10.039245   \n",
       "2                                 10.070913   \n",
       "3                                  9.970366   \n",
       "4                                  9.925709   \n",
       "\n",
       "   secondary_cleaner.state.floatbank5_a_level  \\\n",
       "0                                 -498.310211   \n",
       "1                                 -500.169983   \n",
       "2                                 -500.129135   \n",
       "3                                 -499.201640   \n",
       "4                                 -501.686727   \n",
       "\n",
       "   secondary_cleaner.state.floatbank5_b_air  \\\n",
       "0                                  8.079666   \n",
       "1                                  7.984757   \n",
       "2                                  8.013877   \n",
       "3                                  7.977324   \n",
       "4                                  7.894242   \n",
       "\n",
       "   secondary_cleaner.state.floatbank5_b_level  \\\n",
       "0                                 -500.470978   \n",
       "1                                 -500.582168   \n",
       "2                                 -500.517572   \n",
       "3                                 -500.255908   \n",
       "4                                 -500.356035   \n",
       "\n",
       "   secondary_cleaner.state.floatbank6_a_air  \\\n",
       "0                                 14.151341   \n",
       "1                                 13.998353   \n",
       "2                                 14.028663   \n",
       "3                                 14.005551   \n",
       "4                                 13.996647   \n",
       "\n",
       "   secondary_cleaner.state.floatbank6_a_level  sum_rougher_concentrate  \\\n",
       "0                                 -605.841980                66.424950   \n",
       "1                                 -599.787184                67.012710   \n",
       "2                                 -601.427363                66.103793   \n",
       "3                                 -599.996129                65.752751   \n",
       "4                                 -601.496691                65.908382   \n",
       "\n",
       "   sum_primary_cleaner_output_concentrate  sum_final_output_concentrate  \n",
       "0                               72.640924                     63.644396  \n",
       "1                               72.543485                     63.957723  \n",
       "2                               72.095042                     64.311180  \n",
       "3                               59.957723                     63.573449  \n",
       "4                               71.321010                     64.004667  \n",
       "\n",
       "[5 rows x 90 columns]"
      ]
     },
     "execution_count": 25,
     "metadata": {},
     "output_type": "execute_result"
    }
   ],
   "source": [
    "full=full[full['sum_rougher_concentrate']>40]\n",
    "full=full[full['sum_primary_cleaner_output_concentrate']>40]\n",
    "full=full[full['sum_final_output_concentrate']>40]\n",
    "full.head()"
   ]
  },
  {
   "cell_type": "code",
   "execution_count": 26,
   "metadata": {},
   "outputs": [
    {
     "data": {
      "text/plain": [
       "Text(0, 0.5, 'Frequency')"
      ]
     },
     "execution_count": 26,
     "metadata": {},
     "output_type": "execute_result"
    },
    {
     "data": {
      "image/png": "[encoded data removed]",
      "text/plain": [
       "<Figure size 1008x576 with 1 Axes>"
      ]
     },
     "metadata": {},
     "output_type": "display_data"
    }
   ],
   "source": [
    "plt.figure(figsize=(14,8))\n",
    "sns.distplot(full['sum_rougher_concentrate'],bins=80,label='sum_concentrate_rougher')\n",
    "sns.distplot(full['sum_primary_cleaner_output_concentrate'],bins=80,label='sum_primary_cleaner_output_concentrate')\n",
    "sns.distplot(full['sum_final_output_concentrate'],bins=80,label='sum_final_output_concentrate')\n",
    "\n",
    "plt.legend()\n",
    "plt.title('Sum concentrate in rougher, primary cleaner output and final output')\n",
    "plt.xlabel(\"Sum concentrate\")\n",
    "plt.ylabel(\"Frequency\")"
   ]
  },
  {
   "cell_type": "code",
   "execution_count": 27,
   "metadata": {},
   "outputs": [
    {
     "data": {
      "text/html": [
       "<div>\n",
       "<style scoped>\n",
       "    .dataframe tbody tr th:only-of-type {\n",
       "        vertical-align: middle;\n",
       "    }\n",
       "\n",
       "    .dataframe tbody tr th {\n",
       "        vertical-align: top;\n",
       "    }\n",
       "\n",
       "    .dataframe thead th {\n",
       "        text-align: right;\n",
       "    }\n",
       "</style>\n",
       "<table border=\"1\" class=\"dataframe\">\n",
       "  <thead>\n",
       "    <tr style=\"text-align: right;\">\n",
       "      <th></th>\n",
       "      <th>date</th>\n",
       "      <th>final.output.concentrate_ag</th>\n",
       "      <th>final.output.concentrate_pb</th>\n",
       "      <th>final.output.concentrate_sol</th>\n",
       "      <th>final.output.concentrate_au</th>\n",
       "      <th>final.output.recovery</th>\n",
       "      <th>final.output.tail_ag</th>\n",
       "      <th>final.output.tail_pb</th>\n",
       "      <th>final.output.tail_sol</th>\n",
       "      <th>final.output.tail_au</th>\n",
       "      <th>...</th>\n",
       "      <th>secondary_cleaner.state.floatbank4_b_level</th>\n",
       "      <th>secondary_cleaner.state.floatbank5_a_air</th>\n",
       "      <th>secondary_cleaner.state.floatbank5_a_level</th>\n",
       "      <th>secondary_cleaner.state.floatbank5_b_air</th>\n",
       "      <th>secondary_cleaner.state.floatbank5_b_level</th>\n",
       "      <th>secondary_cleaner.state.floatbank6_a_air</th>\n",
       "      <th>secondary_cleaner.state.floatbank6_a_level</th>\n",
       "      <th>sum_rougher_concentrate</th>\n",
       "      <th>sum_primary_cleaner_output_concentrate</th>\n",
       "      <th>sum_final_output_concentrate</th>\n",
       "    </tr>\n",
       "  </thead>\n",
       "  <tbody>\n",
       "    <tr>\n",
       "      <td>0</td>\n",
       "      <td>2016-01-15 00:00:00</td>\n",
       "      <td>6.055403</td>\n",
       "      <td>9.889648</td>\n",
       "      <td>5.507324</td>\n",
       "      <td>42.192020</td>\n",
       "      <td>70.541216</td>\n",
       "      <td>10.411962</td>\n",
       "      <td>0.895447</td>\n",
       "      <td>16.904297</td>\n",
       "      <td>2.143149</td>\n",
       "      <td>...</td>\n",
       "      <td>-504.715942</td>\n",
       "      <td>9.925633</td>\n",
       "      <td>-498.310211</td>\n",
       "      <td>8.079666</td>\n",
       "      <td>-500.470978</td>\n",
       "      <td>14.151341</td>\n",
       "      <td>-605.841980</td>\n",
       "      <td>66.424950</td>\n",
       "      <td>72.640924</td>\n",
       "      <td>63.644396</td>\n",
       "    </tr>\n",
       "    <tr>\n",
       "      <td>1</td>\n",
       "      <td>2016-01-15 01:00:00</td>\n",
       "      <td>6.029369</td>\n",
       "      <td>9.968944</td>\n",
       "      <td>5.257781</td>\n",
       "      <td>42.701629</td>\n",
       "      <td>69.266198</td>\n",
       "      <td>10.462676</td>\n",
       "      <td>0.927452</td>\n",
       "      <td>16.634514</td>\n",
       "      <td>2.224930</td>\n",
       "      <td>...</td>\n",
       "      <td>-501.331529</td>\n",
       "      <td>10.039245</td>\n",
       "      <td>-500.169983</td>\n",
       "      <td>7.984757</td>\n",
       "      <td>-500.582168</td>\n",
       "      <td>13.998353</td>\n",
       "      <td>-599.787184</td>\n",
       "      <td>67.012710</td>\n",
       "      <td>72.543485</td>\n",
       "      <td>63.957723</td>\n",
       "    </tr>\n",
       "    <tr>\n",
       "      <td>2</td>\n",
       "      <td>2016-01-15 02:00:00</td>\n",
       "      <td>6.055926</td>\n",
       "      <td>10.213995</td>\n",
       "      <td>5.383759</td>\n",
       "      <td>42.657501</td>\n",
       "      <td>68.116445</td>\n",
       "      <td>10.507046</td>\n",
       "      <td>0.953716</td>\n",
       "      <td>16.208849</td>\n",
       "      <td>2.257889</td>\n",
       "      <td>...</td>\n",
       "      <td>-501.133383</td>\n",
       "      <td>10.070913</td>\n",
       "      <td>-500.129135</td>\n",
       "      <td>8.013877</td>\n",
       "      <td>-500.517572</td>\n",
       "      <td>14.028663</td>\n",
       "      <td>-601.427363</td>\n",
       "      <td>66.103793</td>\n",
       "      <td>72.095042</td>\n",
       "      <td>64.311180</td>\n",
       "    </tr>\n",
       "    <tr>\n",
       "      <td>3</td>\n",
       "      <td>2016-01-15 03:00:00</td>\n",
       "      <td>6.047977</td>\n",
       "      <td>9.977019</td>\n",
       "      <td>4.858634</td>\n",
       "      <td>42.689819</td>\n",
       "      <td>68.347543</td>\n",
       "      <td>10.422762</td>\n",
       "      <td>0.883763</td>\n",
       "      <td>16.532835</td>\n",
       "      <td>2.146849</td>\n",
       "      <td>...</td>\n",
       "      <td>-501.193686</td>\n",
       "      <td>9.970366</td>\n",
       "      <td>-499.201640</td>\n",
       "      <td>7.977324</td>\n",
       "      <td>-500.255908</td>\n",
       "      <td>14.005551</td>\n",
       "      <td>-599.996129</td>\n",
       "      <td>65.752751</td>\n",
       "      <td>59.957723</td>\n",
       "      <td>63.573449</td>\n",
       "    </tr>\n",
       "    <tr>\n",
       "      <td>4</td>\n",
       "      <td>2016-01-15 04:00:00</td>\n",
       "      <td>6.148599</td>\n",
       "      <td>10.142511</td>\n",
       "      <td>4.939416</td>\n",
       "      <td>42.774141</td>\n",
       "      <td>66.927016</td>\n",
       "      <td>10.360302</td>\n",
       "      <td>0.792826</td>\n",
       "      <td>16.525686</td>\n",
       "      <td>2.055292</td>\n",
       "      <td>...</td>\n",
       "      <td>-501.053894</td>\n",
       "      <td>9.925709</td>\n",
       "      <td>-501.686727</td>\n",
       "      <td>7.894242</td>\n",
       "      <td>-500.356035</td>\n",
       "      <td>13.996647</td>\n",
       "      <td>-601.496691</td>\n",
       "      <td>65.908382</td>\n",
       "      <td>71.321010</td>\n",
       "      <td>64.004667</td>\n",
       "    </tr>\n",
       "  </tbody>\n",
       "</table>\n",
       "<p>5 rows × 90 columns</p>\n",
       "</div>"
      ],
      "text/plain": [
       "                 date  final.output.concentrate_ag  \\\n",
       "0 2016-01-15 00:00:00                     6.055403   \n",
       "1 2016-01-15 01:00:00                     6.029369   \n",
       "2 2016-01-15 02:00:00                     6.055926   \n",
       "3 2016-01-15 03:00:00                     6.047977   \n",
       "4 2016-01-15 04:00:00                     6.148599   \n",
       "\n",
       "   final.output.concentrate_pb  final.output.concentrate_sol  \\\n",
       "0                     9.889648                      5.507324   \n",
       "1                     9.968944                      5.257781   \n",
       "2                    10.213995                      5.383759   \n",
       "3                     9.977019                      4.858634   \n",
       "4                    10.142511                      4.939416   \n",
       "\n",
       "   final.output.concentrate_au  final.output.recovery  final.output.tail_ag  \\\n",
       "0                    42.192020              70.541216             10.411962   \n",
       "1                    42.701629              69.266198             10.462676   \n",
       "2                    42.657501              68.116445             10.507046   \n",
       "3                    42.689819              68.347543             10.422762   \n",
       "4                    42.774141              66.927016             10.360302   \n",
       "\n",
       "   final.output.tail_pb  final.output.tail_sol  final.output.tail_au  ...  \\\n",
       "0              0.895447              16.904297              2.143149  ...   \n",
       "1              0.927452              16.634514              2.224930  ...   \n",
       "2              0.953716              16.208849              2.257889  ...   \n",
       "3              0.883763              16.532835              2.146849  ...   \n",
       "4              0.792826              16.525686              2.055292  ...   \n",
       "\n",
       "   secondary_cleaner.state.floatbank4_b_level  \\\n",
       "0                                 -504.715942   \n",
       "1                                 -501.331529   \n",
       "2                                 -501.133383   \n",
       "3                                 -501.193686   \n",
       "4                                 -501.053894   \n",
       "\n",
       "   secondary_cleaner.state.floatbank5_a_air  \\\n",
       "0                                  9.925633   \n",
       "1                                 10.039245   \n",
       "2                                 10.070913   \n",
       "3                                  9.970366   \n",
       "4                                  9.925709   \n",
       "\n",
       "   secondary_cleaner.state.floatbank5_a_level  \\\n",
       "0                                 -498.310211   \n",
       "1                                 -500.169983   \n",
       "2                                 -500.129135   \n",
       "3                                 -499.201640   \n",
       "4                                 -501.686727   \n",
       "\n",
       "   secondary_cleaner.state.floatbank5_b_air  \\\n",
       "0                                  8.079666   \n",
       "1                                  7.984757   \n",
       "2                                  8.013877   \n",
       "3                                  7.977324   \n",
       "4                                  7.894242   \n",
       "\n",
       "   secondary_cleaner.state.floatbank5_b_level  \\\n",
       "0                                 -500.470978   \n",
       "1                                 -500.582168   \n",
       "2                                 -500.517572   \n",
       "3                                 -500.255908   \n",
       "4                                 -500.356035   \n",
       "\n",
       "   secondary_cleaner.state.floatbank6_a_air  \\\n",
       "0                                 14.151341   \n",
       "1                                 13.998353   \n",
       "2                                 14.028663   \n",
       "3                                 14.005551   \n",
       "4                                 13.996647   \n",
       "\n",
       "   secondary_cleaner.state.floatbank6_a_level  sum_rougher_concentrate  \\\n",
       "0                                 -605.841980                66.424950   \n",
       "1                                 -599.787184                67.012710   \n",
       "2                                 -601.427363                66.103793   \n",
       "3                                 -599.996129                65.752751   \n",
       "4                                 -601.496691                65.908382   \n",
       "\n",
       "   sum_primary_cleaner_output_concentrate  sum_final_output_concentrate  \n",
       "0                               72.640924                     63.644396  \n",
       "1                               72.543485                     63.957723  \n",
       "2                               72.095042                     64.311180  \n",
       "3                               59.957723                     63.573449  \n",
       "4                               71.321010                     64.004667  \n",
       "\n",
       "[5 rows x 90 columns]"
      ]
     },
     "execution_count": 27,
     "metadata": {},
     "output_type": "execute_result"
    }
   ],
   "source": [
    "train=train[train['sum_rougher_concentrate']>40]\n",
    "train=train[train['sum_primary_cleaner_output_concentrate']>40]\n",
    "train=train[train['sum_final_output_concentrate']>40]\n",
    "train.head()"
   ]
  },
  {
   "cell_type": "code",
   "execution_count": 28,
   "metadata": {},
   "outputs": [
    {
     "data": {
      "text/plain": [
       "Text(0, 0.5, 'Frequency')"
      ]
     },
     "execution_count": 28,
     "metadata": {},
     "output_type": "execute_result"
    },
    {
     "data": {
      "image/png": "[encoded data removed]",
      "text/plain": [
       "<Figure size 1008x576 with 1 Axes>"
      ]
     },
     "metadata": {},
     "output_type": "display_data"
    }
   ],
   "source": [
    "plt.figure(figsize=(14,8))\n",
    "sns.distplot(train['sum_rougher_concentrate'],bins=80,label='sum_concentrate_rougher')\n",
    "sns.distplot(train['sum_primary_cleaner_output_concentrate'],bins=80,label='sum_primary_cleaner_output_concentrate')\n",
    "sns.distplot(train['sum_final_output_concentrate'],bins=80,label='sum_final_output_concentrate')\n",
    "\n",
    "plt.legend()\n",
    "plt.title('Sum concentrate in rougher, primary cleaner output and final output')\n",
    "plt.xlabel(\"Sum concentrate\")\n",
    "plt.ylabel(\"Frequency\")"
   ]
  },
  {
   "cell_type": "markdown",
   "metadata": {},
   "source": [
    "Изучены:\n",
    "- Концетрации основных веществ на разных этапах очистки.\n",
    "- Размер гранул тестовой и обучающей выборки.\n",
    "- Суммарная концентрация веществ.  \n",
    "\n",
    "Аномалии удалены. Данные готовы к обучению."
   ]
  },
  {
   "cell_type": "markdown",
   "metadata": {},
   "source": [
    "## Модель"
   ]
  },
  {
   "cell_type": "markdown",
   "metadata": {},
   "source": [
    "Для начала необходимо написать функцию расчета метрики sMAPE."
   ]
  },
  {
   "attachments": {
    "image.png": {
     "image/png": "[encoded data removed]"
    }
   },
   "cell_type": "markdown",
   "metadata": {},
   "source": [
    "![image.png](attachment:image.png)"
   ]
  },
  {
   "attachments": {
    "image.png": {
     "image/png": "[encoded data removed]"
    }
   },
   "cell_type": "markdown",
   "metadata": {},
   "source": [
    "![image.png](attachment:image.png)"
   ]
  },
  {
   "cell_type": "code",
   "execution_count": 29,
   "metadata": {},
   "outputs": [],
   "source": [
    "def sMAPE(rougher_recovery_real, rougher_recovery_predicted, final_recovery_real, final_recovery_predicted):\n",
    "    n = rougher_recovery_real.shape[0]\n",
    "    \n",
    "    rougher = ((2*abs(rougher_recovery_real - rougher_recovery_predicted)/\n",
    "                     (abs(rougher_recovery_real) + abs(rougher_recovery_predicted))).sum() * 100 / n)\n",
    "    final = ((2*abs(final_recovery_real - final_recovery_predicted)/\n",
    "                     (abs(final_recovery_real) + abs(final_recovery_predicted))).sum() * 100 / n)\n",
    "   \n",
    "\n",
    "    return rougher * 0.25 + final * 0.75"
   ]
  },
  {
   "cell_type": "code",
   "execution_count": 30,
   "metadata": {},
   "outputs": [],
   "source": [
    "train.dropna(subset=['rougher.output.concentrate_au', 'rougher.input.feed_au',\n",
    "                                   'rougher.output.tail_au','rougher.output.recovery'], inplace=True)\n",
    "good_test = test.dropna()\n",
    "good_train = train.dropna()"
   ]
  },
  {
   "cell_type": "markdown",
   "metadata": {},
   "source": [
    "Как уже было отмечено выше, в тестовой выборке отсуствует часть столбцов, связанная преимущественно с output. Это - онлайн метрики, т.к. данные будут получены по результатам технологического процесса.    \n",
    "\n",
    "Остальные столбцы известны - офлайн метрики.  \n",
    "\n",
    "Теперь необходимо в тестовой выборке выбрать столбцы, по котором модель будет обучаться. \n",
    "Столбец data сразу исключим. Для предсказания rougher output recovery будут использоватся данные из стобцов этапа rougher. Для вычисления final output recovery будут использованы все столбцы из тестовой выборки."
   ]
  },
  {
   "cell_type": "code",
   "execution_count": 31,
   "metadata": {},
   "outputs": [],
   "source": [
    "features_columns = good_test.columns[1:]\n",
    "\n",
    "rougher_features_columns = set(features_columns[12:34])\n",
    "\n",
    "final_features_columns = set(features_columns)"
   ]
  },
  {
   "cell_type": "markdown",
   "metadata": {},
   "source": [
    "Подготовим разделение признаков для rougher output recovery и final output recovery."
   ]
  },
  {
   "cell_type": "code",
   "execution_count": 32,
   "metadata": {},
   "outputs": [
    {
     "name": "stdout",
     "output_type": "stream",
     "text": [
      "{'final.output.tail_sol', 'rougher.calculation.floatbank11_sulfate_to_au_feed', 'final.output.concentrate_ag', 'primary_cleaner.output.concentrate_sol', 'primary_cleaner.output.tail_pb', 'rougher.output.recovery', 'rougher.output.concentrate_au', 'final.output.concentrate_au', 'rougher.calculation.sulfate_to_au_concentrate', 'sum_rougher_concentrate', 'secondary_cleaner.output.tail_ag', 'final.output.tail_ag', 'rougher.output.tail_au', 'primary_cleaner.output.tail_sol', 'primary_cleaner.output.concentrate_pb', 'primary_cleaner.output.concentrate_ag', 'rougher.calculation.au_pb_ratio', 'sum_final_output_concentrate', 'rougher.output.concentrate_pb', 'rougher.output.tail_sol', 'primary_cleaner.output.tail_ag', 'rougher.output.concentrate_sol', 'secondary_cleaner.output.tail_sol', 'primary_cleaner.output.concentrate_au', 'rougher.output.tail_ag', 'final.output.tail_au', 'rougher.output.tail_pb', 'sum_primary_cleaner_output_concentrate', 'primary_cleaner.output.tail_au', 'rougher.output.concentrate_ag', 'rougher.calculation.floatbank10_sulfate_to_au_feed', 'secondary_cleaner.output.tail_pb', 'final.output.concentrate_sol', 'final.output.concentrate_pb', 'final.output.tail_pb', 'final.output.recovery', 'secondary_cleaner.output.tail_au', 'date'}\n",
      "\n",
      "Index(['primary_cleaner.input.sulfate', 'primary_cleaner.input.depressant',\n",
      "       'primary_cleaner.input.feed_size', 'primary_cleaner.input.xanthate',\n",
      "       'primary_cleaner.state.floatbank8_a_air',\n",
      "       'primary_cleaner.state.floatbank8_a_level',\n",
      "       'primary_cleaner.state.floatbank8_b_air',\n",
      "       'primary_cleaner.state.floatbank8_b_level',\n",
      "       'primary_cleaner.state.floatbank8_c_air',\n",
      "       'primary_cleaner.state.floatbank8_c_level',\n",
      "       'primary_cleaner.state.floatbank8_d_air',\n",
      "       'primary_cleaner.state.floatbank8_d_level', 'rougher.input.feed_ag',\n",
      "       'rougher.input.feed_pb', 'rougher.input.feed_rate',\n",
      "       'rougher.input.feed_size', 'rougher.input.feed_sol',\n",
      "       'rougher.input.feed_au', 'rougher.input.floatbank10_sulfate',\n",
      "       'rougher.input.floatbank10_xanthate',\n",
      "       'rougher.input.floatbank11_sulfate',\n",
      "       'rougher.input.floatbank11_xanthate', 'rougher.state.floatbank10_a_air',\n",
      "       'rougher.state.floatbank10_a_level', 'rougher.state.floatbank10_b_air',\n",
      "       'rougher.state.floatbank10_b_level', 'rougher.state.floatbank10_c_air',\n",
      "       'rougher.state.floatbank10_c_level', 'rougher.state.floatbank10_d_air',\n",
      "       'rougher.state.floatbank10_d_level', 'rougher.state.floatbank10_e_air',\n",
      "       'rougher.state.floatbank10_e_level', 'rougher.state.floatbank10_f_air',\n",
      "       'rougher.state.floatbank10_f_level',\n",
      "       'secondary_cleaner.state.floatbank2_a_air',\n",
      "       'secondary_cleaner.state.floatbank2_a_level',\n",
      "       'secondary_cleaner.state.floatbank2_b_air',\n",
      "       'secondary_cleaner.state.floatbank2_b_level',\n",
      "       'secondary_cleaner.state.floatbank3_a_air',\n",
      "       'secondary_cleaner.state.floatbank3_a_level',\n",
      "       'secondary_cleaner.state.floatbank3_b_air',\n",
      "       'secondary_cleaner.state.floatbank3_b_level',\n",
      "       'secondary_cleaner.state.floatbank4_a_air',\n",
      "       'secondary_cleaner.state.floatbank4_a_level',\n",
      "       'secondary_cleaner.state.floatbank4_b_air',\n",
      "       'secondary_cleaner.state.floatbank4_b_level',\n",
      "       'secondary_cleaner.state.floatbank5_a_air',\n",
      "       'secondary_cleaner.state.floatbank5_a_level',\n",
      "       'secondary_cleaner.state.floatbank5_b_air',\n",
      "       'secondary_cleaner.state.floatbank5_b_level',\n",
      "       'secondary_cleaner.state.floatbank6_a_air',\n",
      "       'secondary_cleaner.state.floatbank6_a_level'],\n",
      "      dtype='object')\n",
      "set()\n",
      "\n",
      "{'secondary_cleaner.state.floatbank5_a_level', 'primary_cleaner.input.xanthate', 'secondary_cleaner.state.floatbank2_a_level', 'secondary_cleaner.state.floatbank3_b_air', 'primary_cleaner.state.floatbank8_d_level', 'primary_cleaner.input.depressant', 'primary_cleaner.state.floatbank8_c_air', 'secondary_cleaner.state.floatbank3_a_level', 'primary_cleaner.state.floatbank8_b_level', 'secondary_cleaner.state.floatbank5_a_air', 'secondary_cleaner.state.floatbank2_b_air', 'secondary_cleaner.state.floatbank2_b_level', 'primary_cleaner.input.feed_size', 'primary_cleaner.state.floatbank8_d_air', 'secondary_cleaner.state.floatbank4_a_level', 'secondary_cleaner.state.floatbank5_b_air', 'primary_cleaner.input.sulfate', 'secondary_cleaner.state.floatbank3_b_level', 'secondary_cleaner.state.floatbank6_a_level', 'secondary_cleaner.state.floatbank5_b_level', 'secondary_cleaner.state.floatbank4_b_air', 'secondary_cleaner.state.floatbank3_a_air', 'secondary_cleaner.state.floatbank6_a_air', 'primary_cleaner.state.floatbank8_b_air', 'secondary_cleaner.state.floatbank4_a_air', 'secondary_cleaner.state.floatbank2_a_air', 'primary_cleaner.state.floatbank8_a_air', 'secondary_cleaner.state.floatbank4_b_level', 'primary_cleaner.state.floatbank8_a_level', 'primary_cleaner.state.floatbank8_c_level'}\n",
      "\n",
      "Index(['rougher.input.feed_ag', 'rougher.input.feed_pb',\n",
      "       'rougher.input.feed_rate', 'rougher.input.feed_size',\n",
      "       'rougher.input.feed_sol', 'rougher.input.feed_au',\n",
      "       'rougher.input.floatbank10_sulfate',\n",
      "       'rougher.input.floatbank10_xanthate',\n",
      "       'rougher.input.floatbank11_sulfate',\n",
      "       'rougher.input.floatbank11_xanthate', 'rougher.state.floatbank10_a_air',\n",
      "       'rougher.state.floatbank10_a_level', 'rougher.state.floatbank10_b_air',\n",
      "       'rougher.state.floatbank10_b_level', 'rougher.state.floatbank10_c_air',\n",
      "       'rougher.state.floatbank10_c_level', 'rougher.state.floatbank10_d_air',\n",
      "       'rougher.state.floatbank10_d_level', 'rougher.state.floatbank10_e_air',\n",
      "       'rougher.state.floatbank10_e_level', 'rougher.state.floatbank10_f_air',\n",
      "       'rougher.state.floatbank10_f_level'],\n",
      "      dtype='object')\n"
     ]
    }
   ],
   "source": [
    "#final.output.recovery\n",
    "columns_to_delete = set(good_train.columns) - final_features_columns\n",
    "print(columns_to_delete)\n",
    "train_features_final = good_train.drop(columns_to_delete, axis=1)\n",
    "print()\n",
    "print(train_features_final.columns)\n",
    "#вхождение feateures в столбцы тестовой выборки\n",
    "print(set(train_features_final.columns) - set(test.columns))\n",
    "print()\n",
    "\n",
    "#rougher.output.recovery\n",
    "columns_to_delete = set(train_features_final.columns) - rougher_features_columns\n",
    "print(columns_to_delete)\n",
    "train_features_rougher = train_features_final.drop(columns_to_delete, axis=1)\n",
    "print()\n",
    "print(train_features_rougher.columns)"
   ]
  },
  {
   "cell_type": "markdown",
   "metadata": {},
   "source": [
    "Сформируем вектор целевых признаков."
   ]
  },
  {
   "cell_type": "code",
   "execution_count": 33,
   "metadata": {},
   "outputs": [],
   "source": [
    "train_target_final = good_train['final.output.recovery']\n",
    "train_target_rougher = good_train['rougher.output.recovery']"
   ]
  },
  {
   "cell_type": "markdown",
   "metadata": {},
   "source": [
    "Признаки тестовой выборки."
   ]
  },
  {
   "cell_type": "code",
   "execution_count": 34,
   "metadata": {},
   "outputs": [
    {
     "data": {
      "text/plain": [
       "Index(['primary_cleaner.input.sulfate', 'primary_cleaner.input.depressant',\n",
       "       'primary_cleaner.input.feed_size', 'primary_cleaner.input.xanthate',\n",
       "       'primary_cleaner.state.floatbank8_a_air',\n",
       "       'primary_cleaner.state.floatbank8_a_level',\n",
       "       'primary_cleaner.state.floatbank8_b_air',\n",
       "       'primary_cleaner.state.floatbank8_b_level',\n",
       "       'primary_cleaner.state.floatbank8_c_air',\n",
       "       'primary_cleaner.state.floatbank8_c_level',\n",
       "       'primary_cleaner.state.floatbank8_d_air',\n",
       "       'primary_cleaner.state.floatbank8_d_level', 'rougher.input.feed_ag',\n",
       "       'rougher.input.feed_pb', 'rougher.input.feed_rate',\n",
       "       'rougher.input.feed_size', 'rougher.input.feed_sol',\n",
       "       'rougher.input.feed_au', 'rougher.input.floatbank10_sulfate',\n",
       "       'rougher.input.floatbank10_xanthate',\n",
       "       'rougher.input.floatbank11_sulfate',\n",
       "       'rougher.input.floatbank11_xanthate', 'rougher.state.floatbank10_a_air',\n",
       "       'rougher.state.floatbank10_a_level', 'rougher.state.floatbank10_b_air',\n",
       "       'rougher.state.floatbank10_b_level', 'rougher.state.floatbank10_c_air',\n",
       "       'rougher.state.floatbank10_c_level', 'rougher.state.floatbank10_d_air',\n",
       "       'rougher.state.floatbank10_d_level', 'rougher.state.floatbank10_e_air',\n",
       "       'rougher.state.floatbank10_e_level', 'rougher.state.floatbank10_f_air',\n",
       "       'rougher.state.floatbank10_f_level',\n",
       "       'secondary_cleaner.state.floatbank2_a_air',\n",
       "       'secondary_cleaner.state.floatbank2_a_level',\n",
       "       'secondary_cleaner.state.floatbank2_b_air',\n",
       "       'secondary_cleaner.state.floatbank2_b_level',\n",
       "       'secondary_cleaner.state.floatbank3_a_air',\n",
       "       'secondary_cleaner.state.floatbank3_a_level',\n",
       "       'secondary_cleaner.state.floatbank3_b_air',\n",
       "       'secondary_cleaner.state.floatbank3_b_level',\n",
       "       'secondary_cleaner.state.floatbank4_a_air',\n",
       "       'secondary_cleaner.state.floatbank4_a_level',\n",
       "       'secondary_cleaner.state.floatbank4_b_air',\n",
       "       'secondary_cleaner.state.floatbank4_b_level',\n",
       "       'secondary_cleaner.state.floatbank5_a_air',\n",
       "       'secondary_cleaner.state.floatbank5_a_level',\n",
       "       'secondary_cleaner.state.floatbank5_b_air',\n",
       "       'secondary_cleaner.state.floatbank5_b_level',\n",
       "       'secondary_cleaner.state.floatbank6_a_air',\n",
       "       'secondary_cleaner.state.floatbank6_a_level'],\n",
       "      dtype='object')"
      ]
     },
     "execution_count": 34,
     "metadata": {},
     "output_type": "execute_result"
    }
   ],
   "source": [
    "test_features = good_test.drop('date', axis=1)\n",
    "test_features.columns"
   ]
  },
  {
   "cell_type": "code",
   "execution_count": 35,
   "metadata": {},
   "outputs": [],
   "source": [
    "test_features_final = test_features\n",
    "columns_to_delete = set(test_features_final.columns) - rougher_features_columns\n",
    "test_features_rougher = test_features_final.drop(columns_to_delete, axis=1)"
   ]
  },
  {
   "cell_type": "code",
   "execution_count": 37,
   "metadata": {},
   "outputs": [
    {
     "data": {
      "text/plain": [
       "((5383, 22), (13132, 22))"
      ]
     },
     "execution_count": 37,
     "metadata": {},
     "output_type": "execute_result"
    }
   ],
   "source": [
    "test_features_rougher.shape, train_features_rougher.shape"
   ]
  },
  {
   "cell_type": "code",
   "execution_count": 36,
   "metadata": {},
   "outputs": [],
   "source": [
    "#rougher_recovery_real = full.loc[test_features_rougher.index,'rougher.output.recovery']\n",
    "#final_recovery_real = full.loc[test_features_final.index,'final.output.recovery']\n",
    "#rougher_recovery_real.dropna(inplace=True)\n",
    "#final_recovery_real.dropna(inplace=True)"
   ]
  },
  {
   "cell_type": "markdown",
   "metadata": {},
   "source": [
    "Выберем несколько моделей для обучения:\n",
    "\n",
    "- LinearRegression\n",
    "- Ridge\n",
    "- DecisionTreeRegressor"
   ]
  },
  {
   "cell_type": "markdown",
   "metadata": {},
   "source": [
    "**LinearRegression**"
   ]
  },
  {
   "cell_type": "code",
   "execution_count": 38,
   "metadata": {},
   "outputs": [
    {
     "name": "stdout",
     "output_type": "stream",
     "text": [
      "Mean R2 from cross_val of LinearRegression = -0.249765605824337\n",
      "Mean MAE from cross_val of LinearRegression = -7.149328715735708\n",
      "CPU times: user 1.66 s, sys: 1.55 s, total: 3.21 s\n",
      "Wall time: 3.21 s\n"
     ]
    }
   ],
   "source": [
    "%%time\n",
    "\n",
    "regressor = LinearRegression()\n",
    "print('Mean R2 from cross_val of LinearRegression =', cross_val_score(regressor,\\\n",
    "                                                               train_features_final, train_target_final, cv=5).mean())\n",
    "print('Mean MAE from cross_val of LinearRegression =', cross_val_score(regressor,\\\n",
    "                                    train_features_final, train_target_final, cv=5, scoring='neg_mean_absolute_error').mean())"
   ]
  },
  {
   "cell_type": "markdown",
   "metadata": {},
   "source": [
    "**Ridge**"
   ]
  },
  {
   "cell_type": "code",
   "execution_count": 39,
   "metadata": {},
   "outputs": [
    {
     "name": "stdout",
     "output_type": "stream",
     "text": [
      "Tuning hyper-parameters for r2\n",
      "\n",
      "Best parameters set (development set):\n",
      "\n",
      "{'alpha': 0.1, 'solver': 'sparse_cg'}\n",
      "\n",
      "Grid scores (development set):\n",
      "\n",
      "-0.529 (+/-1.161) for {'alpha': 0.1, 'solver': 'auto'}\n",
      "-0.529 (+/-1.161) for {'alpha': 1, 'solver': 'auto'}\n",
      "-0.526 (+/-1.157) for {'alpha': 10, 'solver': 'auto'}\n",
      "-0.504 (+/-1.127) for {'alpha': 100, 'solver': 'auto'}\n",
      "-0.529 (+/-1.161) for {'alpha': 0.1, 'solver': 'svd'}\n",
      "-0.529 (+/-1.161) for {'alpha': 1, 'solver': 'svd'}\n",
      "-0.526 (+/-1.157) for {'alpha': 10, 'solver': 'svd'}\n",
      "-0.504 (+/-1.127) for {'alpha': 100, 'solver': 'svd'}\n",
      "-0.529 (+/-1.161) for {'alpha': 0.1, 'solver': 'cholesky'}\n",
      "-0.529 (+/-1.161) for {'alpha': 1, 'solver': 'cholesky'}\n",
      "-0.526 (+/-1.157) for {'alpha': 10, 'solver': 'cholesky'}\n",
      "-0.504 (+/-1.127) for {'alpha': 100, 'solver': 'cholesky'}\n",
      "-0.508 (+/-0.877) for {'alpha': 0.1, 'solver': 'lsqr'}\n",
      "-0.508 (+/-0.877) for {'alpha': 1, 'solver': 'lsqr'}\n",
      "-0.508 (+/-0.877) for {'alpha': 10, 'solver': 'lsqr'}\n",
      "-0.508 (+/-0.878) for {'alpha': 100, 'solver': 'lsqr'}\n",
      "-0.433 (+/-1.055) for {'alpha': 0.1, 'solver': 'sparse_cg'}\n",
      "-0.476 (+/-1.148) for {'alpha': 1, 'solver': 'sparse_cg'}\n",
      "-0.442 (+/-1.051) for {'alpha': 10, 'solver': 'sparse_cg'}\n",
      "-0.450 (+/-1.112) for {'alpha': 100, 'solver': 'sparse_cg'}\n",
      "\n",
      "Tuning hyper-parameters for neg_mean_absolute_error\n",
      "\n",
      "Best parameters set (development set):\n",
      "\n",
      "{'alpha': 0.1, 'solver': 'sparse_cg'}\n",
      "\n",
      "Grid scores (development set):\n",
      "\n",
      "-8.095 (+/-3.716) for {'alpha': 0.1, 'solver': 'auto'}\n",
      "-8.095 (+/-3.716) for {'alpha': 1, 'solver': 'auto'}\n",
      "-8.087 (+/-3.709) for {'alpha': 10, 'solver': 'auto'}\n",
      "-8.014 (+/-3.654) for {'alpha': 100, 'solver': 'auto'}\n",
      "-8.095 (+/-3.716) for {'alpha': 0.1, 'solver': 'svd'}\n",
      "-8.095 (+/-3.716) for {'alpha': 1, 'solver': 'svd'}\n",
      "-8.087 (+/-3.709) for {'alpha': 10, 'solver': 'svd'}\n",
      "-8.014 (+/-3.654) for {'alpha': 100, 'solver': 'svd'}\n",
      "-8.095 (+/-3.716) for {'alpha': 0.1, 'solver': 'cholesky'}\n",
      "-8.095 (+/-3.716) for {'alpha': 1, 'solver': 'cholesky'}\n",
      "-8.087 (+/-3.709) for {'alpha': 10, 'solver': 'cholesky'}\n",
      "-8.014 (+/-3.654) for {'alpha': 100, 'solver': 'cholesky'}\n",
      "-7.897 (+/-3.368) for {'alpha': 0.1, 'solver': 'lsqr'}\n",
      "-7.897 (+/-3.368) for {'alpha': 1, 'solver': 'lsqr'}\n",
      "-7.897 (+/-3.368) for {'alpha': 10, 'solver': 'lsqr'}\n",
      "-7.897 (+/-3.371) for {'alpha': 100, 'solver': 'lsqr'}\n",
      "-7.746 (+/-3.558) for {'alpha': 0.1, 'solver': 'sparse_cg'}\n",
      "-7.848 (+/-3.837) for {'alpha': 1, 'solver': 'sparse_cg'}\n",
      "-7.759 (+/-3.586) for {'alpha': 10, 'solver': 'sparse_cg'}\n",
      "-7.771 (+/-3.775) for {'alpha': 100, 'solver': 'sparse_cg'}\n",
      "\n",
      "CPU times: user 18.3 s, sys: 19.3 s, total: 37.7 s\n",
      "Wall time: 38.1 s\n"
     ]
    }
   ],
   "source": [
    "%%time\n",
    "\n",
    "from sklearn.linear_model import Ridge\n",
    "regressor = Ridge()\n",
    "hyperparams = [{'alpha':[0.1, 1, 10, 100], 'solver':['auto']},\n",
    "                 {'alpha':[0.1, 1, 10, 100], 'solver':['svd']}, \n",
    "                 {'alpha':[0.1, 1, 10, 100], 'solver':['cholesky']},\n",
    "                 {'alpha':[0.1, 1, 10, 100], 'solver':['lsqr']}, \n",
    "                 {'alpha':[0.1, 1, 10, 100], 'solver':['sparse_cg']}]\n",
    "\n",
    "\n",
    "scores = ['r2', 'neg_mean_absolute_error']\n",
    "for score in scores:\n",
    "    print('Tuning hyper-parameters for %s' % score)\n",
    "    print()\n",
    "    clf = GridSearchCV(regressor, hyperparams, scoring=score)\n",
    "    clf.fit(train_features_final, train_target_final)\n",
    "    print(\"Best parameters set (development set):\")\n",
    "    print()\n",
    "    print(clf.best_params_)\n",
    "    print()\n",
    "    print(\"Grid scores (development set):\")\n",
    "    print()\n",
    "    means = clf.cv_results_['mean_test_score']\n",
    "    stds = clf.cv_results_['std_test_score']\n",
    "    for mean, std, params in zip(means, stds, clf.cv_results_['params']):\n",
    "        print(\"%0.3f (+/-%0.03f) for %r\"% (mean, std * 2, params))\n",
    "    print()"
   ]
  },
  {
   "cell_type": "markdown",
   "metadata": {},
   "source": [
    "**DecisionTreeRegressor**"
   ]
  },
  {
   "cell_type": "code",
   "execution_count": 39,
   "metadata": {},
   "outputs": [
    {
     "name": "stdout",
     "output_type": "stream",
     "text": [
      "Tuning hyper-parameters\n",
      "\n",
      "Best parameters set (development set):\n",
      "\n",
      "{'criterion': 'mse', 'max_depth': 2, 'random_state': 123456}\n",
      "\n",
      "Grid scores (development set):\n",
      "\n",
      "-0.069 (+/-0.138) for {'criterion': 'mse', 'max_depth': 2, 'random_state': 123456}\n",
      "-0.299 (+/-0.854) for {'criterion': 'mse', 'max_depth': 4, 'random_state': 123456}\n",
      "-0.213 (+/-0.378) for {'criterion': 'mse', 'max_depth': 6, 'random_state': 123456}\n",
      "-0.705 (+/-0.751) for {'criterion': 'mse', 'max_depth': 8, 'random_state': 123456}\n",
      "-0.740 (+/-0.382) for {'criterion': 'mse', 'max_depth': 10, 'random_state': 123456}\n",
      "-1.035 (+/-0.047) for {'criterion': 'mse', 'max_depth': 12, 'random_state': 123456}\n",
      "-1.570 (+/-1.013) for {'criterion': 'mse', 'max_depth': 14, 'random_state': 123456}\n",
      "-1.676 (+/-1.144) for {'criterion': 'mse', 'max_depth': 16, 'random_state': 123456}\n",
      "-1.390 (+/-0.680) for {'criterion': 'mse', 'max_depth': 18, 'random_state': 123456}\n",
      "-1.267 (+/-0.421) for {'criterion': 'mse', 'max_depth': 20, 'random_state': 123456}\n",
      "-0.201 (+/-0.103) for {'criterion': 'mae', 'max_depth': 2, 'random_state': 123456}\n",
      "-0.079 (+/-0.341) for {'criterion': 'mae', 'max_depth': 4, 'random_state': 123456}\n",
      "-0.366 (+/-0.941) for {'criterion': 'mae', 'max_depth': 6, 'random_state': 123456}\n",
      "-0.698 (+/-1.253) for {'criterion': 'mae', 'max_depth': 8, 'random_state': 123456}\n",
      "-0.923 (+/-1.624) for {'criterion': 'mae', 'max_depth': 10, 'random_state': 123456}\n",
      "-1.067 (+/-1.648) for {'criterion': 'mae', 'max_depth': 12, 'random_state': 123456}\n",
      "-1.516 (+/-2.479) for {'criterion': 'mae', 'max_depth': 14, 'random_state': 123456}\n",
      "-1.573 (+/-2.223) for {'criterion': 'mae', 'max_depth': 16, 'random_state': 123456}\n",
      "-1.597 (+/-1.619) for {'criterion': 'mae', 'max_depth': 18, 'random_state': 123456}\n",
      "-1.432 (+/-1.282) for {'criterion': 'mae', 'max_depth': 20, 'random_state': 123456}\n",
      "\n",
      "CPU times: user 15min 28s, sys: 0 ns, total: 15min 28s\n",
      "Wall time: 15min 43s\n"
     ]
    }
   ],
   "source": [
    "%%time\n",
    "\n",
    "regressor = DecisionTreeRegressor() \n",
    "max_depth_list = [x for x in range(2, 21, 2)]\n",
    "hyperparams = [{'criterion':['mse'], 'max_depth':max_depth_list, 'random_state':[123456]},\n",
    "               {'criterion':['mae'], 'max_depth':max_depth_list, 'random_state':[123456]}]\n",
    "\n",
    "print('Tuning hyper-parameters')\n",
    "print()\n",
    "clf = GridSearchCV(regressor, hyperparams)\n",
    "clf.fit(train_features_final, train_target_final)\n",
    "print(\"Best parameters set (development set):\")\n",
    "print()\n",
    "print(clf.best_params_)\n",
    "print()\n",
    "print(\"Grid scores (development set):\")\n",
    "print()\n",
    "means = clf.cv_results_['mean_test_score']\n",
    "stds = clf.cv_results_['std_test_score']\n",
    "for mean, std, params in zip(means, stds, clf.cv_results_['params']):\n",
    "    print(\"%0.3f (+/-%0.03f) for %r\"% (mean, std * 2, params))\n",
    "print()"
   ]
  },
  {
   "cell_type": "markdown",
   "metadata": {},
   "source": [
    "Расчет sMAPE для всх моделей."
   ]
  },
  {
   "cell_type": "code",
   "execution_count": 40,
   "metadata": {},
   "outputs": [],
   "source": [
    "rougher_recovery_real = full.loc[test_features_rougher.index,'rougher.output.recovery']\n",
    "final_recovery_real = full.loc[test_features_final.index,'final.output.recovery']"
   ]
  },
  {
   "cell_type": "code",
   "execution_count": 41,
   "metadata": {},
   "outputs": [
    {
     "name": "stdout",
     "output_type": "stream",
     "text": [
      "sMAPE для LinearRegression 10.438668015873867\n",
      "sMAPE для Ridge 10.559977867651359\n",
      "sMAPE для DecisionTreeRegressor 10.06704402884801\n",
      "CPU times: user 1.28 s, sys: 0 ns, total: 1.28 s\n",
      "Wall time: 1.3 s\n"
     ]
    }
   ],
   "source": [
    "%%time\n",
    "\n",
    "model = LinearRegression()\n",
    "model.fit(train_features_rougher, train_target_rougher)\n",
    "rougher_recovery_predicted = model.predict(test_features_rougher)\n",
    "model.fit(train_features_final, train_target_final)\n",
    "final_recovery_predicted = model.predict(test_features_final)\n",
    "print('sMAPE для LinearRegression',sMAPE(rougher_recovery_real,\\\n",
    "                                         rougher_recovery_predicted, final_recovery_real, final_recovery_predicted))\n",
    "\n",
    "model = Ridge(alpha=0.1, solver='sparse_cg')\n",
    "model.fit(train_features_rougher, train_target_rougher)\n",
    "rougher_recovery_predicted = model.predict(test_features_rougher)\n",
    "model.fit(train_features_final, train_target_final)\n",
    "final_recovery_predicted = model.predict(test_features_final)\n",
    "print('sMAPE для Ridge',sMAPE(rougher_recovery_real,\\\n",
    "                              rougher_recovery_predicted, final_recovery_real, final_recovery_predicted))\n",
    "\n",
    "model = DecisionTreeRegressor(criterion='mse', max_depth=2, random_state=123456)\n",
    "model.fit(train_features_rougher, train_target_rougher)\n",
    "rougher_recovery_predicted = model.predict(test_features_rougher)\n",
    "model.fit(train_features_final, train_target_final)\n",
    "final_recovery_predicted = model.predict(test_features_final)\n",
    "print('sMAPE для DecisionTreeRegressor',sMAPE(rougher_recovery_real,\\\n",
    "                                              rougher_recovery_predicted, final_recovery_real, final_recovery_predicted))"
   ]
  },
  {
   "cell_type": "markdown",
   "metadata": {},
   "source": [
    "Создадим **константную** модель."
   ]
  },
  {
   "cell_type": "code",
   "execution_count": 42,
   "metadata": {},
   "outputs": [
    {
     "name": "stdout",
     "output_type": "stream",
     "text": [
      "sMAPE константной модели 9.012132441596618\n"
     ]
    }
   ],
   "source": [
    "median_rougher_recovery = full['rougher.output.recovery'].median()\n",
    "median_final_recovery = full['final.output.recovery'].median()\n",
    "\n",
    "print('sMAPE константной модели', sMAPE(rougher_recovery_real,\\\n",
    "                                        median_rougher_recovery, final_recovery_real, median_final_recovery))"
   ]
  },
  {
   "cell_type": "markdown",
   "metadata": {},
   "source": [
    "Проведем сокращение тестовой выборки из-за пропущенных значений rougher.output.recovery и final.output.recovery. Избавимся от NaN."
   ]
  },
  {
   "cell_type": "code",
   "execution_count": 44,
   "metadata": {},
   "outputs": [],
   "source": [
    "rougher_recovery_real.dropna(inplace=True)\n",
    "final_recovery_real.dropna(inplace=True)\n",
    "not_nan = set(test_features_rougher.index)\n",
    "not_nan = not_nan.intersection(set(final_recovery_real.index), set(rougher_recovery_real.index))\n",
    "\n",
    "rougher_recovery_real = full.loc[not_nan,'rougher.output.recovery']\n",
    "final_recovery_real = full.loc[not_nan,'final.output.recovery']\n",
    "test_features_rougher = test_features_rougher.loc[not_nan,:]\n",
    "test_features_final = test_features_final.loc[not_nan,:]"
   ]
  },
  {
   "cell_type": "code",
   "execution_count": 45,
   "metadata": {},
   "outputs": [
    {
     "name": "stdout",
     "output_type": "stream",
     "text": [
      "sMAPE для LinearRegression 10.947077718575693\n",
      "sMAPE для регресии Ridge 11.074295901337868\n",
      "sMAPE для DecisionTreeRegressor 10.557353985444877\n",
      "sMAPE для медианной константной модели 9.451063497587102\n",
      "CPU times: user 1.44 s, sys: 0 ns, total: 1.44 s\n",
      "Wall time: 1.46 s\n"
     ]
    }
   ],
   "source": [
    "%%time\n",
    "\n",
    "model = LinearRegression()\n",
    "model.fit(train_features_rougher, train_target_rougher)\n",
    "rougher_recovery_predicted = model.predict(test_features_rougher)\n",
    "model.fit(train_features_final, train_target_final)\n",
    "final_recovery_predicted = model.predict(test_features_final)\n",
    "print('sMAPE для LinearRegression',sMAPE(rougher_recovery_real,\\\n",
    "                                          rougher_recovery_predicted, final_recovery_real, final_recovery_predicted))\n",
    "\n",
    "model = Ridge(alpha=0.1, solver='sparse_cg')\n",
    "model.fit(train_features_rougher, train_target_rougher)\n",
    "rougher_recovery_predicted = model.predict(test_features_rougher)\n",
    "model.fit(train_features_final, train_target_final)\n",
    "final_recovery_predicted = model.predict(test_features_final)\n",
    "print('sMAPE для регресии Ridge',sMAPE(rougher_recovery_real,\\\n",
    "                                       rougher_recovery_predicted, final_recovery_real, final_recovery_predicted))\n",
    "\n",
    "model = DecisionTreeRegressor(criterion='mse', max_depth=2, random_state=15062020)\n",
    "model.fit(train_features_rougher, train_target_rougher)\n",
    "rougher_recovery_predicted = model.predict(test_features_rougher)\n",
    "model.fit(train_features_final, train_target_final)\n",
    "final_recovery_predicted = model.predict(test_features_final)\n",
    "print('sMAPE для DecisionTreeRegressor',sMAPE(rougher_recovery_real,\\\n",
    "                                              rougher_recovery_predicted, final_recovery_real, final_recovery_predicted)) \n",
    "\n",
    "print('sMAPE для медианной константной модели', sMAPE(rougher_recovery_real,\\\n",
    "                                                      median_rougher_recovery, final_recovery_real, median_final_recovery))"
   ]
  },
  {
   "cell_type": "markdown",
   "metadata": {},
   "source": [
    "Сравним DecisionTreeRegressor, которая показала себя лучше всего c медианной константной моделью по метрикам R2 и MAE (на final recovery real)."
   ]
  },
  {
   "cell_type": "code",
   "execution_count": 47,
   "metadata": {},
   "outputs": [
    {
     "name": "stdout",
     "output_type": "stream",
     "text": [
      "R2 DecisionTreeRegressor model = -0.46549350326436256\n",
      "MAE DecisionTreeRegressor model = 7.10026124966836\n",
      "\n",
      "R2 constant model = -0.15082433459715738\n",
      "MAE constant model = 6.026722164014383\n"
     ]
    }
   ],
   "source": [
    "model = DecisionTreeRegressor(criterion = 'mse', max_depth = 2, random_state = 123456)\n",
    "model.fit(train_features_final, train_target_final)\n",
    "final_recovery_predicted = model.predict(test_features_final)\n",
    "print('R2 DecisionTreeRegressor model =', r2_score(final_recovery_real, final_recovery_predicted))\n",
    "print('MAE DecisionTreeRegressor model =', MAE(final_recovery_real, final_recovery_predicted))\n",
    "print()\n",
    "\n",
    "final_median_predict = pd.Series(median_final_recovery, index=not_nan)\n",
    "print('R2 constant model =', r2_score(final_recovery_real, final_median_predict))\n",
    "print('MAE constant model =', MAE(final_recovery_real, final_median_predict))"
   ]
  },
  {
   "cell_type": "markdown",
   "metadata": {},
   "source": [
    "**Вывод**"
   ]
  },
  {
   "cell_type": "markdown",
   "metadata": {},
   "source": [
    "На данном этапе создана функция sMAPE. \n",
    "Предложено несколько моделей: LinearRegression, Ridge, DecisionTreeRegressor. К каждой модели применены методы: кросс-валидации и автоматического подбора параметров GridSearchCV.\n",
    "\n",
    "Наилучшим образом себя показала модель DecisionTreeRegressor - значение sMAPE самое низкое."
   ]
  },
  {
   "cell_type": "markdown",
   "metadata": {},
   "source": [
    "## Вывод\n"
   ]
  },
  {
   "cell_type": "markdown",
   "metadata": {},
   "source": [
    "В ходе работы выполнены следующие шаги:\n",
    "- подготовка данных  \n",
    "- исследовательский анализ данных  \n",
    "- построение и обучение модели  \n",
    "\n",
    "Изначально отсутствует 34 признака в тестовой выборке. \n",
    "\n",
    "Параметр recovery в тренировочной выборке был рассчитан верно.    \n",
    "\n",
    "Одним из сложнейших моментов данного проекта является скорость прохождения кросс-валидации с поиском лучших гиперпараметров.\n",
    "\n",
    "Модель DecisionTreeRegressor оказалась лучшей из всех. Параметры алгоритма: {criterion = 'mse', max_depth = 2, random_state = 123456}. sMAPE составил 10.5573. Однако, при сравнении с константной моделью значение немного проигрывает.   \n",
    "sMAPE для всех моделей чуть выше до удаления пропущенных значений. \n"
   ]
  },
  {
   "cell_type": "markdown",
   "metadata": {},
   "source": [
    "## Чек-лист готовности проекта"
   ]
  },
  {
   "cell_type": "markdown",
   "metadata": {},
   "source": [
    "- [x]  Jupyter Notebook открыт\n",
    "- [х]  Весь код выполняется без ошибок\n",
    "- [х]  Ячейки с кодом расположены в порядке выполнения\n",
    "- [х]  Выполнен шаг 1: данные подготовлены\n",
    "    - [х]  Проверена формула вычисления эффективности обогащения\n",
    "    - [х]  Проанализированы признаки, недоступные в тестовой выборке\n",
    "    - [х]  Проведена предобработка данных\n",
    "- [х]  Выполнен шаг 2: данные проанализированы\n",
    "    - [х]  Исследовано изменение концентрации элементов на каждом этапе\n",
    "    - [х]  Проанализированы распределения размеров гранул на обучающей и тестовой выборках\n",
    "    - [х]  Исследованы суммарные концентрации\n",
    "    - [х]  Проанализированы и обработаны аномальные значения\n",
    "- [х]  Выполнен шаг 3: построена модель прогнозирования\n",
    "    - [х]  Написана функция для вычисления итогового *sMAPE*\n",
    "    - [х]  Обучено и проверено несколько моделей\n",
    "    - [х]  Выбрана лучшая модель, её качество проверено на тестовой выборке"
   ]
  },
  {
   "cell_type": "code",
   "execution_count": null,
   "metadata": {},
   "outputs": [],
   "source": []
  }
 ],
 "metadata": {
  "ExecuteTimeLog": [
   {
    "duration": 1910,
    "start_time": "2021-06-28T12:19:41.971Z"
   },
   {
    "duration": 252,
    "start_time": "2021-06-28T12:20:03.747Z"
   },
   {
    "duration": 1099,
    "start_time": "2021-06-28T12:27:02.090Z"
   },
   {
    "duration": 24,
    "start_time": "2021-06-28T12:49:52.504Z"
   },
   {
    "duration": 340,
    "start_time": "2021-06-28T12:50:12.144Z"
   },
   {
    "duration": 22,
    "start_time": "2021-06-28T12:50:24.712Z"
   },
   {
    "duration": 26,
    "start_time": "2021-06-28T12:50:56.412Z"
   },
   {
    "duration": 5,
    "start_time": "2021-06-28T15:01:51.966Z"
   },
   {
    "duration": 2100,
    "start_time": "2021-06-28T15:04:50.957Z"
   },
   {
    "duration": 1441,
    "start_time": "2021-06-28T15:04:53.063Z"
   },
   {
    "duration": 36,
    "start_time": "2021-06-28T15:04:54.508Z"
   },
   {
    "duration": 35,
    "start_time": "2021-06-28T15:04:54.547Z"
   },
   {
    "duration": 35,
    "start_time": "2021-06-28T15:04:54.585Z"
   },
   {
    "duration": 6,
    "start_time": "2021-06-28T15:04:54.623Z"
   },
   {
    "duration": 30,
    "start_time": "2021-06-28T15:30:00.387Z"
   },
   {
    "duration": 514,
    "start_time": "2021-06-28T15:30:42.023Z"
   },
   {
    "duration": 5,
    "start_time": "2021-06-28T15:30:49.035Z"
   },
   {
    "duration": 28,
    "start_time": "2021-06-28T15:30:49.898Z"
   },
   {
    "duration": 23,
    "start_time": "2021-06-28T15:30:50.511Z"
   },
   {
    "duration": 377,
    "start_time": "2021-06-28T15:36:25.617Z"
   },
   {
    "duration": 7,
    "start_time": "2021-06-28T15:37:04.346Z"
   },
   {
    "duration": 20,
    "start_time": "2021-06-28T15:43:24.178Z"
   },
   {
    "duration": 14,
    "start_time": "2021-06-28T15:43:24.726Z"
   },
   {
    "duration": 17,
    "start_time": "2021-06-28T15:43:26.043Z"
   },
   {
    "duration": 6,
    "start_time": "2021-06-28T15:44:28.090Z"
   },
   {
    "duration": 366,
    "start_time": "2021-06-28T15:48:24.058Z"
   },
   {
    "duration": 7,
    "start_time": "2021-06-28T15:48:39.357Z"
   },
   {
    "duration": 7,
    "start_time": "2021-06-28T15:49:09.133Z"
   },
   {
    "duration": 10,
    "start_time": "2021-06-28T15:50:25.305Z"
   },
   {
    "duration": 6,
    "start_time": "2021-06-28T15:51:03.077Z"
   },
   {
    "duration": 7,
    "start_time": "2021-06-28T15:51:24.117Z"
   },
   {
    "duration": 8,
    "start_time": "2021-06-28T15:51:48.386Z"
   },
   {
    "duration": 6,
    "start_time": "2021-06-28T15:52:05.989Z"
   },
   {
    "duration": 1565,
    "start_time": "2021-06-28T15:52:12.243Z"
   },
   {
    "duration": 992,
    "start_time": "2021-06-28T15:52:13.811Z"
   },
   {
    "duration": 24,
    "start_time": "2021-06-28T15:52:14.806Z"
   },
   {
    "duration": 37,
    "start_time": "2021-06-28T15:52:14.833Z"
   },
   {
    "duration": 25,
    "start_time": "2021-06-28T15:52:14.873Z"
   },
   {
    "duration": 4,
    "start_time": "2021-06-28T15:52:14.901Z"
   },
   {
    "duration": 24,
    "start_time": "2021-06-28T15:52:14.908Z"
   },
   {
    "duration": 47,
    "start_time": "2021-06-28T15:52:14.936Z"
   },
   {
    "duration": 7,
    "start_time": "2021-06-28T15:52:14.985Z"
   },
   {
    "duration": 7,
    "start_time": "2021-06-28T15:52:14.994Z"
   },
   {
    "duration": 7,
    "start_time": "2021-06-28T15:52:35.995Z"
   },
   {
    "duration": 8,
    "start_time": "2021-06-28T15:52:40.860Z"
   },
   {
    "duration": 9,
    "start_time": "2021-06-28T16:07:14.124Z"
   },
   {
    "duration": 474,
    "start_time": "2021-06-28T16:15:23.999Z"
   },
   {
    "duration": 8,
    "start_time": "2021-06-28T16:15:38.228Z"
   },
   {
    "duration": 6,
    "start_time": "2021-06-28T16:16:10.751Z"
   },
   {
    "duration": 2104,
    "start_time": "2021-06-28T16:45:21.546Z"
   },
   {
    "duration": 1016,
    "start_time": "2021-06-28T16:45:23.653Z"
   },
   {
    "duration": 24,
    "start_time": "2021-06-28T16:45:24.672Z"
   },
   {
    "duration": 16,
    "start_time": "2021-06-28T16:45:24.699Z"
   },
   {
    "duration": 61,
    "start_time": "2021-06-28T16:45:24.717Z"
   },
   {
    "duration": 4,
    "start_time": "2021-06-28T16:45:24.781Z"
   },
   {
    "duration": 27,
    "start_time": "2021-06-28T16:45:24.788Z"
   },
   {
    "duration": 45,
    "start_time": "2021-06-28T16:45:24.818Z"
   },
   {
    "duration": 7,
    "start_time": "2021-06-28T16:45:24.866Z"
   },
   {
    "duration": 8,
    "start_time": "2021-06-28T16:45:24.876Z"
   },
   {
    "duration": 21,
    "start_time": "2021-06-28T16:45:24.887Z"
   },
   {
    "duration": 10,
    "start_time": "2021-06-28T16:45:24.912Z"
   },
   {
    "duration": 43,
    "start_time": "2021-06-28T16:51:38.933Z"
   },
   {
    "duration": 33,
    "start_time": "2021-06-28T16:52:06.405Z"
   },
   {
    "duration": 26,
    "start_time": "2021-06-28T17:03:01.308Z"
   },
   {
    "duration": 21,
    "start_time": "2021-06-28T17:20:57.650Z"
   },
   {
    "duration": 2141,
    "start_time": "2021-06-28T17:21:40.514Z"
   },
   {
    "duration": 1448,
    "start_time": "2021-06-28T17:21:42.658Z"
   },
   {
    "duration": 51,
    "start_time": "2021-06-28T17:21:44.110Z"
   },
   {
    "duration": 24,
    "start_time": "2021-06-28T17:21:44.165Z"
   },
   {
    "duration": 36,
    "start_time": "2021-06-28T17:21:44.192Z"
   },
   {
    "duration": 6,
    "start_time": "2021-06-28T17:21:44.263Z"
   },
   {
    "duration": 34,
    "start_time": "2021-06-28T17:21:44.273Z"
   },
   {
    "duration": 28,
    "start_time": "2021-06-28T17:21:44.312Z"
   },
   {
    "duration": 8,
    "start_time": "2021-06-28T17:21:44.364Z"
   },
   {
    "duration": 9,
    "start_time": "2021-06-28T17:21:44.375Z"
   },
   {
    "duration": 12,
    "start_time": "2021-06-28T17:21:44.388Z"
   },
   {
    "duration": 19,
    "start_time": "2021-06-28T17:21:44.403Z"
   },
   {
    "duration": 65,
    "start_time": "2021-06-28T17:21:44.425Z"
   },
   {
    "duration": 34,
    "start_time": "2021-06-28T17:21:44.493Z"
   },
   {
    "duration": 57,
    "start_time": "2021-06-28T17:21:44.529Z"
   },
   {
    "duration": 1627,
    "start_time": "2021-06-28T17:22:37.977Z"
   },
   {
    "duration": 1088,
    "start_time": "2021-06-28T17:22:39.607Z"
   },
   {
    "duration": 25,
    "start_time": "2021-06-28T17:22:40.698Z"
   },
   {
    "duration": 39,
    "start_time": "2021-06-28T17:22:40.726Z"
   },
   {
    "duration": 38,
    "start_time": "2021-06-28T17:22:40.768Z"
   },
   {
    "duration": 6,
    "start_time": "2021-06-28T17:22:40.809Z"
   },
   {
    "duration": 53,
    "start_time": "2021-06-28T17:22:40.818Z"
   },
   {
    "duration": 18,
    "start_time": "2021-06-28T17:22:40.875Z"
   },
   {
    "duration": 6,
    "start_time": "2021-06-28T17:22:40.895Z"
   },
   {
    "duration": 8,
    "start_time": "2021-06-28T17:22:40.903Z"
   },
   {
    "duration": 18,
    "start_time": "2021-06-28T17:22:40.913Z"
   },
   {
    "duration": 17,
    "start_time": "2021-06-28T17:22:40.962Z"
   },
   {
    "duration": 37,
    "start_time": "2021-06-28T17:22:40.981Z"
   },
   {
    "duration": 46,
    "start_time": "2021-06-28T17:22:41.020Z"
   },
   {
    "duration": 9575,
    "start_time": "2021-06-28T17:22:41.068Z"
   },
   {
    "duration": -2082,
    "start_time": "2021-06-28T17:22:52.727Z"
   },
   {
    "duration": 29,
    "start_time": "2021-06-28T17:23:13.217Z"
   },
   {
    "duration": 49,
    "start_time": "2021-06-28T17:23:27.602Z"
   },
   {
    "duration": 25,
    "start_time": "2021-06-28T17:26:27.010Z"
   },
   {
    "duration": 21,
    "start_time": "2021-06-28T17:26:27.585Z"
   },
   {
    "duration": 20,
    "start_time": "2021-06-28T17:26:51.853Z"
   },
   {
    "duration": 321,
    "start_time": "2021-06-28T17:54:21.063Z"
   },
   {
    "duration": 18,
    "start_time": "2021-06-28T17:56:58.782Z"
   },
   {
    "duration": 16,
    "start_time": "2021-06-28T17:58:54.815Z"
   },
   {
    "duration": 15,
    "start_time": "2021-06-28T18:04:02.930Z"
   },
   {
    "duration": 16,
    "start_time": "2021-06-28T18:07:14.402Z"
   },
   {
    "duration": 10583,
    "start_time": "2021-06-28T18:08:36.486Z"
   },
   {
    "duration": 320,
    "start_time": "2021-06-28T18:10:15.409Z"
   },
   {
    "duration": 2131,
    "start_time": "2021-06-28T18:12:36.869Z"
   },
   {
    "duration": 16950,
    "start_time": "2021-06-28T18:14:31.757Z"
   },
   {
    "duration": 2037,
    "start_time": "2021-06-28T18:26:26.211Z"
   },
   {
    "duration": 2254,
    "start_time": "2021-06-28T18:26:47.083Z"
   },
   {
    "duration": 2283,
    "start_time": "2021-06-28T18:27:06.607Z"
   },
   {
    "duration": 2028,
    "start_time": "2021-06-28T18:31:43.247Z"
   },
   {
    "duration": 2261,
    "start_time": "2021-06-28T18:32:10.607Z"
   },
   {
    "duration": 1344,
    "start_time": "2021-06-28T18:32:25.226Z"
   },
   {
    "duration": 1407,
    "start_time": "2021-06-28T18:36:36.814Z"
   },
   {
    "duration": 1564,
    "start_time": "2021-06-28T18:37:02.002Z"
   },
   {
    "duration": 1293,
    "start_time": "2021-06-28T18:37:13.194Z"
   },
   {
    "duration": 1390,
    "start_time": "2021-06-28T18:37:27.818Z"
   },
   {
    "duration": 15,
    "start_time": "2021-06-28T18:37:59.110Z"
   },
   {
    "duration": 15,
    "start_time": "2021-06-28T18:38:20.130Z"
   },
   {
    "duration": 1617,
    "start_time": "2021-06-28T18:40:11.554Z"
   },
   {
    "duration": 1323,
    "start_time": "2021-06-28T18:40:28.018Z"
   },
   {
    "duration": 1457,
    "start_time": "2021-06-28T18:40:41.826Z"
   },
   {
    "duration": 2068,
    "start_time": "2021-06-28T18:41:07.002Z"
   },
   {
    "duration": 2145,
    "start_time": "2021-06-28T18:41:14.106Z"
   },
   {
    "duration": 20,
    "start_time": "2021-06-28T18:41:40.930Z"
   },
   {
    "duration": 19,
    "start_time": "2021-06-28T18:41:58.442Z"
   },
   {
    "duration": 1312,
    "start_time": "2021-06-28T18:49:54.491Z"
   },
   {
    "duration": 1718,
    "start_time": "2021-06-28T18:50:29.973Z"
   },
   {
    "duration": 877,
    "start_time": "2021-06-28T18:51:39.316Z"
   },
   {
    "duration": 877,
    "start_time": "2021-06-28T18:51:51.912Z"
   },
   {
    "duration": 937,
    "start_time": "2021-06-28T18:52:10.888Z"
   },
   {
    "duration": 9761,
    "start_time": "2021-06-28T18:55:08.604Z"
   },
   {
    "duration": 1014,
    "start_time": "2021-06-28T18:55:48.436Z"
   },
   {
    "duration": 899,
    "start_time": "2021-06-28T18:56:36.024Z"
   },
   {
    "duration": 1066,
    "start_time": "2021-06-28T18:59:13.659Z"
   },
   {
    "duration": 1426,
    "start_time": "2021-06-28T19:00:54.679Z"
   },
   {
    "duration": 2607,
    "start_time": "2021-06-28T19:01:49.575Z"
   },
   {
    "duration": 1293,
    "start_time": "2021-06-28T19:02:18.123Z"
   },
   {
    "duration": 1393,
    "start_time": "2021-06-28T19:02:57.035Z"
   },
   {
    "duration": 1471,
    "start_time": "2021-06-28T19:03:09.479Z"
   },
   {
    "duration": 1003,
    "start_time": "2021-06-28T19:04:27.384Z"
   },
   {
    "duration": 703,
    "start_time": "2021-06-28T19:05:02.383Z"
   },
   {
    "duration": 1276,
    "start_time": "2021-06-28T19:05:17.975Z"
   },
   {
    "duration": 1110,
    "start_time": "2021-06-28T19:11:23.855Z"
   },
   {
    "duration": 846,
    "start_time": "2021-06-28T19:11:42.498Z"
   },
   {
    "duration": 1076,
    "start_time": "2021-06-28T19:12:08.430Z"
   },
   {
    "duration": 880,
    "start_time": "2021-06-28T19:12:28.770Z"
   },
   {
    "duration": 17,
    "start_time": "2021-06-28T19:15:57.798Z"
   },
   {
    "duration": 864,
    "start_time": "2021-06-28T19:15:58.674Z"
   },
   {
    "duration": 1484,
    "start_time": "2021-06-28T19:16:28.998Z"
   },
   {
    "duration": 1025,
    "start_time": "2021-06-28T19:16:30.485Z"
   },
   {
    "duration": 24,
    "start_time": "2021-06-28T19:16:31.513Z"
   },
   {
    "duration": 36,
    "start_time": "2021-06-28T19:16:31.539Z"
   },
   {
    "duration": 26,
    "start_time": "2021-06-28T19:16:31.577Z"
   },
   {
    "duration": 5,
    "start_time": "2021-06-28T19:16:31.605Z"
   },
   {
    "duration": 55,
    "start_time": "2021-06-28T19:16:31.612Z"
   },
   {
    "duration": 20,
    "start_time": "2021-06-28T19:16:31.670Z"
   },
   {
    "duration": 6,
    "start_time": "2021-06-28T19:16:31.694Z"
   },
   {
    "duration": 9,
    "start_time": "2021-06-28T19:16:31.703Z"
   },
   {
    "duration": 8,
    "start_time": "2021-06-28T19:16:31.715Z"
   },
   {
    "duration": 6,
    "start_time": "2021-06-28T19:16:31.763Z"
   },
   {
    "duration": 36,
    "start_time": "2021-06-28T19:16:31.772Z"
   },
   {
    "duration": 57,
    "start_time": "2021-06-28T19:16:31.811Z"
   },
   {
    "duration": 20,
    "start_time": "2021-06-28T19:16:31.871Z"
   },
   {
    "duration": 22,
    "start_time": "2021-06-28T19:16:31.894Z"
   },
   {
    "duration": 48,
    "start_time": "2021-06-28T19:16:31.918Z"
   },
   {
    "duration": 865,
    "start_time": "2021-06-28T19:16:31.970Z"
   },
   {
    "duration": 1485,
    "start_time": "2021-06-28T19:16:32.838Z"
   },
   {
    "duration": 1293,
    "start_time": "2021-06-28T19:16:34.326Z"
   },
   {
    "duration": 1334,
    "start_time": "2021-06-28T19:16:35.622Z"
   },
   {
    "duration": 1561,
    "start_time": "2021-06-28T19:16:36.962Z"
   },
   {
    "duration": 17,
    "start_time": "2021-06-28T19:21:08.102Z"
   },
   {
    "duration": 873,
    "start_time": "2021-06-28T19:21:40.178Z"
   },
   {
    "duration": 881,
    "start_time": "2021-06-28T19:21:55.422Z"
   },
   {
    "duration": 868,
    "start_time": "2021-06-28T19:22:06.410Z"
   },
   {
    "duration": 868,
    "start_time": "2021-06-28T19:22:16.550Z"
   },
   {
    "duration": 1410,
    "start_time": "2021-06-28T19:22:30.486Z"
   },
   {
    "duration": 1275,
    "start_time": "2021-06-28T19:23:06.583Z"
   },
   {
    "duration": 875,
    "start_time": "2021-06-28T19:23:27.638Z"
   },
   {
    "duration": 859,
    "start_time": "2021-06-28T19:23:40.406Z"
   },
   {
    "duration": 848,
    "start_time": "2021-06-28T19:23:51.694Z"
   },
   {
    "duration": 1092,
    "start_time": "2021-06-28T19:25:00.838Z"
   },
   {
    "duration": 864,
    "start_time": "2021-06-28T19:25:39.322Z"
   },
   {
    "duration": 1388,
    "start_time": "2021-06-28T19:25:51.522Z"
   },
   {
    "duration": 1300,
    "start_time": "2021-06-28T19:26:20.726Z"
   },
   {
    "duration": 1484,
    "start_time": "2021-06-28T19:29:20.974Z"
   },
   {
    "duration": 1992,
    "start_time": "2021-06-28T19:30:06.456Z"
   },
   {
    "duration": 1481,
    "start_time": "2021-06-28T19:30:08.452Z"
   },
   {
    "duration": 35,
    "start_time": "2021-06-28T19:30:09.937Z"
   },
   {
    "duration": 16,
    "start_time": "2021-06-28T19:30:09.975Z"
   },
   {
    "duration": 35,
    "start_time": "2021-06-28T19:30:09.993Z"
   },
   {
    "duration": 4,
    "start_time": "2021-06-28T19:30:10.030Z"
   },
   {
    "duration": 49,
    "start_time": "2021-06-28T19:30:10.036Z"
   },
   {
    "duration": 31,
    "start_time": "2021-06-28T19:30:10.088Z"
   },
   {
    "duration": 7,
    "start_time": "2021-06-28T19:30:10.122Z"
   },
   {
    "duration": 34,
    "start_time": "2021-06-28T19:30:10.131Z"
   },
   {
    "duration": 31,
    "start_time": "2021-06-28T19:30:10.168Z"
   },
   {
    "duration": 10,
    "start_time": "2021-06-28T19:30:10.202Z"
   },
   {
    "duration": 54,
    "start_time": "2021-06-28T19:30:10.215Z"
   },
   {
    "duration": 28,
    "start_time": "2021-06-28T19:30:10.272Z"
   },
   {
    "duration": 23,
    "start_time": "2021-06-28T19:30:10.303Z"
   },
   {
    "duration": 22,
    "start_time": "2021-06-28T19:30:10.361Z"
   },
   {
    "duration": 19,
    "start_time": "2021-06-28T19:30:10.386Z"
   },
   {
    "duration": 938,
    "start_time": "2021-06-28T19:30:10.407Z"
   },
   {
    "duration": 1547,
    "start_time": "2021-06-28T19:30:11.347Z"
   },
   {
    "duration": 1333,
    "start_time": "2021-06-28T19:30:12.897Z"
   },
   {
    "duration": 1343,
    "start_time": "2021-06-28T19:30:14.232Z"
   },
   {
    "duration": 1470,
    "start_time": "2021-06-28T19:30:15.577Z"
   },
   {
    "duration": 876,
    "start_time": "2021-06-28T19:31:14.372Z"
   },
   {
    "duration": 866,
    "start_time": "2021-06-28T19:31:31.816Z"
   },
   {
    "duration": 891,
    "start_time": "2021-06-28T19:31:41.864Z"
   },
   {
    "duration": 969,
    "start_time": "2021-06-28T19:32:04.765Z"
   },
   {
    "duration": 1082,
    "start_time": "2021-06-28T19:34:45.276Z"
   },
   {
    "duration": 980,
    "start_time": "2021-06-28T19:35:06.065Z"
   },
   {
    "duration": 855,
    "start_time": "2021-06-28T19:35:20.241Z"
   },
   {
    "duration": 488,
    "start_time": "2021-06-28T19:44:19.632Z"
   },
   {
    "duration": 381,
    "start_time": "2021-06-28T19:44:39.772Z"
   },
   {
    "duration": 758,
    "start_time": "2021-06-28T19:44:58.703Z"
   },
   {
    "duration": 2189,
    "start_time": "2021-06-28T19:45:17.092Z"
   },
   {
    "duration": 908,
    "start_time": "2021-06-28T20:14:28.905Z"
   },
   {
    "duration": 930,
    "start_time": "2021-06-28T20:15:14.077Z"
   },
   {
    "duration": 877,
    "start_time": "2021-06-28T20:15:57.026Z"
   },
   {
    "duration": 873,
    "start_time": "2021-06-28T20:16:09.302Z"
   },
   {
    "duration": 1017,
    "start_time": "2021-06-28T20:16:23.850Z"
   },
   {
    "duration": 864,
    "start_time": "2021-06-28T20:17:47.729Z"
   },
   {
    "duration": 868,
    "start_time": "2021-06-28T20:18:24.909Z"
   },
   {
    "duration": 849,
    "start_time": "2021-06-28T20:18:49.322Z"
   },
   {
    "duration": 847,
    "start_time": "2021-06-28T20:19:25.341Z"
   },
   {
    "duration": 1795,
    "start_time": "2021-06-28T20:23:41.337Z"
   },
   {
    "duration": 844,
    "start_time": "2021-06-28T20:46:12.175Z"
   },
   {
    "duration": 851,
    "start_time": "2021-06-28T20:47:44.366Z"
   },
   {
    "duration": 800,
    "start_time": "2021-06-28T20:48:31.874Z"
   },
   {
    "duration": 854,
    "start_time": "2021-06-28T20:48:50.070Z"
   },
   {
    "duration": 353,
    "start_time": "2021-06-29T08:39:32.313Z"
   },
   {
    "duration": 1546,
    "start_time": "2021-06-29T08:39:43.263Z"
   },
   {
    "duration": 959,
    "start_time": "2021-06-29T08:39:44.812Z"
   },
   {
    "duration": 23,
    "start_time": "2021-06-29T08:39:45.775Z"
   },
   {
    "duration": 16,
    "start_time": "2021-06-29T08:39:45.801Z"
   },
   {
    "duration": 55,
    "start_time": "2021-06-29T08:39:45.819Z"
   },
   {
    "duration": 5,
    "start_time": "2021-06-29T08:39:45.877Z"
   },
   {
    "duration": 25,
    "start_time": "2021-06-29T08:39:45.884Z"
   },
   {
    "duration": 19,
    "start_time": "2021-06-29T08:39:45.913Z"
   },
   {
    "duration": 34,
    "start_time": "2021-06-29T08:39:45.935Z"
   },
   {
    "duration": 7,
    "start_time": "2021-06-29T08:39:45.972Z"
   },
   {
    "duration": 9,
    "start_time": "2021-06-29T08:39:45.981Z"
   },
   {
    "duration": 14,
    "start_time": "2021-06-29T08:39:45.992Z"
   },
   {
    "duration": 69,
    "start_time": "2021-06-29T08:39:46.008Z"
   },
   {
    "duration": 27,
    "start_time": "2021-06-29T08:39:46.079Z"
   },
   {
    "duration": 19,
    "start_time": "2021-06-29T08:39:46.108Z"
   },
   {
    "duration": 44,
    "start_time": "2021-06-29T08:39:46.129Z"
   },
   {
    "duration": 16,
    "start_time": "2021-06-29T08:39:46.176Z"
   },
   {
    "duration": 853,
    "start_time": "2021-06-29T08:39:46.194Z"
   },
   {
    "duration": 810,
    "start_time": "2021-06-29T08:39:47.049Z"
   },
   {
    "duration": 899,
    "start_time": "2021-06-29T08:39:47.862Z"
   },
   {
    "duration": 818,
    "start_time": "2021-06-29T08:46:52.106Z"
   },
   {
    "duration": 15,
    "start_time": "2021-06-29T08:49:02.230Z"
   },
   {
    "duration": 817,
    "start_time": "2021-06-29T08:49:45.482Z"
   },
   {
    "duration": 813,
    "start_time": "2021-06-29T08:50:33.442Z"
   },
   {
    "duration": 836,
    "start_time": "2021-06-29T08:51:09.931Z"
   },
   {
    "duration": 897,
    "start_time": "2021-06-29T08:51:36.050Z"
   },
   {
    "duration": 656,
    "start_time": "2021-06-29T09:26:23.653Z"
   },
   {
    "duration": 754,
    "start_time": "2021-06-29T09:35:51.329Z"
   },
   {
    "duration": 650,
    "start_time": "2021-06-29T09:37:02.148Z"
   },
   {
    "duration": 711,
    "start_time": "2021-06-29T09:38:05.072Z"
   },
   {
    "duration": 375,
    "start_time": "2021-06-29T14:22:06.193Z"
   },
   {
    "duration": 1623,
    "start_time": "2021-06-29T14:22:19.897Z"
   },
   {
    "duration": 980,
    "start_time": "2021-06-29T14:22:21.523Z"
   },
   {
    "duration": 27,
    "start_time": "2021-06-29T14:22:22.507Z"
   },
   {
    "duration": 17,
    "start_time": "2021-06-29T14:22:22.537Z"
   },
   {
    "duration": 26,
    "start_time": "2021-06-29T14:22:22.585Z"
   },
   {
    "duration": 4,
    "start_time": "2021-06-29T14:22:22.614Z"
   },
   {
    "duration": 30,
    "start_time": "2021-06-29T14:22:22.621Z"
   },
   {
    "duration": 52,
    "start_time": "2021-06-29T14:22:22.654Z"
   },
   {
    "duration": 8,
    "start_time": "2021-06-29T14:22:22.710Z"
   },
   {
    "duration": 8,
    "start_time": "2021-06-29T14:22:22.721Z"
   },
   {
    "duration": 9,
    "start_time": "2021-06-29T14:22:22.732Z"
   },
   {
    "duration": 48,
    "start_time": "2021-06-29T14:22:22.744Z"
   },
   {
    "duration": 35,
    "start_time": "2021-06-29T14:22:22.794Z"
   },
   {
    "duration": 63,
    "start_time": "2021-06-29T14:22:22.832Z"
   },
   {
    "duration": 22,
    "start_time": "2021-06-29T14:22:22.898Z"
   },
   {
    "duration": 33,
    "start_time": "2021-06-29T14:22:22.922Z"
   },
   {
    "duration": 512,
    "start_time": "2021-06-29T14:22:22.958Z"
   },
   {
    "duration": -822,
    "start_time": "2021-06-29T14:22:24.295Z"
   },
   {
    "duration": -832,
    "start_time": "2021-06-29T14:22:24.307Z"
   },
   {
    "duration": -840,
    "start_time": "2021-06-29T14:22:24.317Z"
   },
   {
    "duration": -847,
    "start_time": "2021-06-29T14:22:24.326Z"
   },
   {
    "duration": 1040,
    "start_time": "2021-06-29T14:22:43.173Z"
   },
   {
    "duration": 1018,
    "start_time": "2021-06-29T14:23:30.517Z"
   },
   {
    "duration": 1110,
    "start_time": "2021-06-29T14:23:56.517Z"
   },
   {
    "duration": 1040,
    "start_time": "2021-06-29T14:24:29.917Z"
   },
   {
    "duration": 1038,
    "start_time": "2021-06-29T14:24:49.877Z"
   },
   {
    "duration": 1038,
    "start_time": "2021-06-29T14:25:11.541Z"
   },
   {
    "duration": 1533,
    "start_time": "2021-06-29T14:29:18.720Z"
   },
   {
    "duration": 1655,
    "start_time": "2021-06-29T14:29:51.304Z"
   },
   {
    "duration": 1172,
    "start_time": "2021-06-29T14:30:06.348Z"
   },
   {
    "duration": 1008,
    "start_time": "2021-06-29T14:30:50.816Z"
   },
   {
    "duration": 999,
    "start_time": "2021-06-29T14:31:21.548Z"
   },
   {
    "duration": 1016,
    "start_time": "2021-06-29T14:31:48.432Z"
   },
   {
    "duration": 1200,
    "start_time": "2021-06-29T14:33:18.128Z"
   },
   {
    "duration": 1366,
    "start_time": "2021-06-29T14:33:26.393Z"
   },
   {
    "duration": 1016,
    "start_time": "2021-06-29T14:34:01.488Z"
   },
   {
    "duration": 1027,
    "start_time": "2021-06-29T14:35:08.095Z"
   },
   {
    "duration": 1022,
    "start_time": "2021-06-29T14:36:03.064Z"
   },
   {
    "duration": 1152,
    "start_time": "2021-06-29T14:36:26.071Z"
   },
   {
    "duration": 1686,
    "start_time": "2021-06-29T14:36:55.491Z"
   },
   {
    "duration": 1020,
    "start_time": "2021-06-29T14:37:12.184Z"
   },
   {
    "duration": 1028,
    "start_time": "2021-06-29T14:37:20.180Z"
   },
   {
    "duration": 1537,
    "start_time": "2021-06-29T14:37:42.392Z"
   },
   {
    "duration": 1061,
    "start_time": "2021-06-29T14:38:29.528Z"
   },
   {
    "duration": 326,
    "start_time": "2021-06-29T14:38:55.068Z"
   },
   {
    "duration": 1024,
    "start_time": "2021-06-29T14:39:37.848Z"
   },
   {
    "duration": 1029,
    "start_time": "2021-06-29T14:40:02.451Z"
   },
   {
    "duration": 1319,
    "start_time": "2021-06-29T14:40:28.151Z"
   },
   {
    "duration": 1046,
    "start_time": "2021-06-29T14:40:50.267Z"
   },
   {
    "duration": 1094,
    "start_time": "2021-06-29T14:41:11.355Z"
   },
   {
    "duration": 1079,
    "start_time": "2021-06-29T14:41:37.163Z"
   },
   {
    "duration": 919,
    "start_time": "2021-06-29T14:42:07.375Z"
   },
   {
    "duration": 804,
    "start_time": "2021-06-29T14:42:16.859Z"
   },
   {
    "duration": 786,
    "start_time": "2021-06-29T14:42:28.147Z"
   },
   {
    "duration": 1069,
    "start_time": "2021-06-29T14:42:38.931Z"
   },
   {
    "duration": 1060,
    "start_time": "2021-06-29T14:42:49.183Z"
   },
   {
    "duration": 1043,
    "start_time": "2021-06-29T14:42:59.567Z"
   },
   {
    "duration": 1305,
    "start_time": "2021-06-29T14:43:09.939Z"
   },
   {
    "duration": 975,
    "start_time": "2021-06-29T14:43:19.427Z"
   },
   {
    "duration": 1740,
    "start_time": "2021-06-29T14:44:01.094Z"
   },
   {
    "duration": 1039,
    "start_time": "2021-06-29T14:44:02.836Z"
   },
   {
    "duration": 30,
    "start_time": "2021-06-29T14:44:03.878Z"
   },
   {
    "duration": 17,
    "start_time": "2021-06-29T14:44:03.911Z"
   },
   {
    "duration": 31,
    "start_time": "2021-06-29T14:44:03.931Z"
   },
   {
    "duration": 5,
    "start_time": "2021-06-29T14:44:03.987Z"
   },
   {
    "duration": 33,
    "start_time": "2021-06-29T14:44:03.995Z"
   },
   {
    "duration": 23,
    "start_time": "2021-06-29T14:44:04.032Z"
   },
   {
    "duration": 27,
    "start_time": "2021-06-29T14:44:04.058Z"
   },
   {
    "duration": 17,
    "start_time": "2021-06-29T14:44:04.088Z"
   },
   {
    "duration": 21,
    "start_time": "2021-06-29T14:44:04.108Z"
   },
   {
    "duration": 13,
    "start_time": "2021-06-29T14:44:04.132Z"
   },
   {
    "duration": 71,
    "start_time": "2021-06-29T14:44:04.148Z"
   },
   {
    "duration": 35,
    "start_time": "2021-06-29T14:44:04.222Z"
   },
   {
    "duration": 46,
    "start_time": "2021-06-29T14:44:04.260Z"
   },
   {
    "duration": 27,
    "start_time": "2021-06-29T14:44:04.309Z"
   },
   {
    "duration": 1126,
    "start_time": "2021-06-29T14:44:04.339Z"
   },
   {
    "duration": 983,
    "start_time": "2021-06-29T14:44:05.468Z"
   },
   {
    "duration": 1602,
    "start_time": "2021-06-29T14:44:06.454Z"
   },
   {
    "duration": 1018,
    "start_time": "2021-06-29T14:44:08.059Z"
   },
   {
    "duration": 1048,
    "start_time": "2021-06-29T14:44:09.080Z"
   },
   {
    "duration": 7,
    "start_time": "2021-06-29T14:57:30.564Z"
   },
   {
    "duration": 841,
    "start_time": "2021-06-29T14:59:32.397Z"
   },
   {
    "duration": 13978,
    "start_time": "2021-06-29T14:59:47.813Z"
   },
   {
    "duration": 16,
    "start_time": "2021-06-29T15:00:09.800Z"
   },
   {
    "duration": 12,
    "start_time": "2021-06-29T15:00:25.384Z"
   },
   {
    "duration": 113,
    "start_time": "2021-06-29T15:04:53.976Z"
   },
   {
    "duration": 698,
    "start_time": "2021-06-29T15:05:06.568Z"
   },
   {
    "duration": 116,
    "start_time": "2021-06-29T15:10:01.003Z"
   },
   {
    "duration": 6,
    "start_time": "2021-06-29T15:10:06.647Z"
   },
   {
    "duration": 1616,
    "start_time": "2021-06-29T15:12:23.103Z"
   },
   {
    "duration": 4819,
    "start_time": "2021-06-29T15:12:24.722Z"
   },
   {
    "duration": 27,
    "start_time": "2021-06-29T15:12:29.544Z"
   },
   {
    "duration": 26,
    "start_time": "2021-06-29T15:12:29.574Z"
   },
   {
    "duration": 29,
    "start_time": "2021-06-29T15:12:29.603Z"
   },
   {
    "duration": 6,
    "start_time": "2021-06-29T15:12:29.636Z"
   },
   {
    "duration": 62,
    "start_time": "2021-06-29T15:12:29.645Z"
   },
   {
    "duration": 28,
    "start_time": "2021-06-29T15:12:29.711Z"
   },
   {
    "duration": 8,
    "start_time": "2021-06-29T15:12:29.743Z"
   },
   {
    "duration": 36,
    "start_time": "2021-06-29T15:12:29.754Z"
   },
   {
    "duration": 19,
    "start_time": "2021-06-29T15:12:29.792Z"
   },
   {
    "duration": 15,
    "start_time": "2021-06-29T15:12:29.814Z"
   },
   {
    "duration": 55,
    "start_time": "2021-06-29T15:12:29.832Z"
   },
   {
    "duration": 28,
    "start_time": "2021-06-29T15:12:29.890Z"
   },
   {
    "duration": 21,
    "start_time": "2021-06-29T15:12:29.921Z"
   },
   {
    "duration": 57,
    "start_time": "2021-06-29T15:12:29.944Z"
   },
   {
    "duration": 1185,
    "start_time": "2021-06-29T15:12:30.004Z"
   },
   {
    "duration": 1283,
    "start_time": "2021-06-29T15:12:31.192Z"
   },
   {
    "duration": 1195,
    "start_time": "2021-06-29T15:12:32.477Z"
   },
   {
    "duration": 1204,
    "start_time": "2021-06-29T15:12:33.676Z"
   },
   {
    "duration": 947,
    "start_time": "2021-06-29T15:12:34.886Z"
   },
   {
    "duration": 8,
    "start_time": "2021-06-29T15:12:35.836Z"
   },
   {
    "duration": 11411,
    "start_time": "2021-06-29T15:12:35.849Z"
   },
   {
    "duration": 12,
    "start_time": "2021-06-29T15:12:47.263Z"
   },
   {
    "duration": 711,
    "start_time": "2021-06-29T15:12:47.287Z"
   },
   {
    "duration": 6,
    "start_time": "2021-06-29T15:12:48.001Z"
   },
   {
    "duration": 857,
    "start_time": "2021-06-29T16:19:22.224Z"
   },
   {
    "duration": 665,
    "start_time": "2021-06-29T16:20:40.112Z"
   },
   {
    "duration": 5,
    "start_time": "2021-06-29T16:33:42.207Z"
   },
   {
    "duration": 4,
    "start_time": "2021-06-29T16:34:15.915Z"
   },
   {
    "duration": 8901,
    "start_time": "2021-06-29T16:44:40.742Z"
   },
   {
    "duration": 8820,
    "start_time": "2021-06-29T16:45:27.338Z"
   },
   {
    "duration": 1810,
    "start_time": "2021-06-29T16:46:02.500Z"
   },
   {
    "duration": 960,
    "start_time": "2021-06-29T16:46:04.312Z"
   },
   {
    "duration": 30,
    "start_time": "2021-06-29T16:46:05.275Z"
   },
   {
    "duration": 15,
    "start_time": "2021-06-29T16:46:05.308Z"
   },
   {
    "duration": 23,
    "start_time": "2021-06-29T16:46:05.326Z"
   },
   {
    "duration": 5,
    "start_time": "2021-06-29T16:46:05.386Z"
   },
   {
    "duration": 33,
    "start_time": "2021-06-29T16:46:05.394Z"
   },
   {
    "duration": 22,
    "start_time": "2021-06-29T16:46:05.430Z"
   },
   {
    "duration": 6,
    "start_time": "2021-06-29T16:46:05.456Z"
   },
   {
    "duration": 18,
    "start_time": "2021-06-29T16:46:05.487Z"
   },
   {
    "duration": 9,
    "start_time": "2021-06-29T16:46:05.508Z"
   },
   {
    "duration": 9,
    "start_time": "2021-06-29T16:46:05.519Z"
   },
   {
    "duration": 72,
    "start_time": "2021-06-29T16:46:05.531Z"
   },
   {
    "duration": 23,
    "start_time": "2021-06-29T16:46:05.605Z"
   },
   {
    "duration": 20,
    "start_time": "2021-06-29T16:46:05.630Z"
   },
   {
    "duration": 54,
    "start_time": "2021-06-29T16:46:05.653Z"
   },
   {
    "duration": 1079,
    "start_time": "2021-06-29T16:46:05.710Z"
   },
   {
    "duration": 1065,
    "start_time": "2021-06-29T16:46:06.792Z"
   },
   {
    "duration": 1114,
    "start_time": "2021-06-29T16:46:07.860Z"
   },
   {
    "duration": 1069,
    "start_time": "2021-06-29T16:46:08.977Z"
   },
   {
    "duration": 918,
    "start_time": "2021-06-29T16:46:10.049Z"
   },
   {
    "duration": 24,
    "start_time": "2021-06-29T16:46:10.969Z"
   },
   {
    "duration": 1624,
    "start_time": "2021-06-29T16:46:10.996Z"
   },
   {
    "duration": 4,
    "start_time": "2021-06-29T16:46:12.622Z"
   },
   {
    "duration": 13,
    "start_time": "2021-06-29T16:58:59.475Z"
   },
   {
    "duration": 4,
    "start_time": "2021-06-29T16:58:59.980Z"
   },
   {
    "duration": 1685,
    "start_time": "2021-06-29T16:59:00.368Z"
   },
   {
    "duration": 9349,
    "start_time": "2021-06-29T17:19:32.243Z"
   },
   {
    "duration": 1469,
    "start_time": "2021-06-29T17:19:45.432Z"
   },
   {
    "duration": 883,
    "start_time": "2021-06-29T17:19:46.904Z"
   },
   {
    "duration": 24,
    "start_time": "2021-06-29T17:19:47.790Z"
   },
   {
    "duration": 16,
    "start_time": "2021-06-29T17:19:47.817Z"
   },
   {
    "duration": 53,
    "start_time": "2021-06-29T17:19:47.835Z"
   },
   {
    "duration": 4,
    "start_time": "2021-06-29T17:19:47.891Z"
   },
   {
    "duration": 28,
    "start_time": "2021-06-29T17:19:47.898Z"
   },
   {
    "duration": 24,
    "start_time": "2021-06-29T17:19:47.931Z"
   },
   {
    "duration": 31,
    "start_time": "2021-06-29T17:19:47.958Z"
   },
   {
    "duration": 8,
    "start_time": "2021-06-29T17:19:47.991Z"
   },
   {
    "duration": 13,
    "start_time": "2021-06-29T17:19:48.002Z"
   },
   {
    "duration": 7,
    "start_time": "2021-06-29T17:19:48.017Z"
   },
   {
    "duration": 75,
    "start_time": "2021-06-29T17:19:48.027Z"
   },
   {
    "duration": 24,
    "start_time": "2021-06-29T17:19:48.104Z"
   },
   {
    "duration": 21,
    "start_time": "2021-06-29T17:19:48.130Z"
   },
   {
    "duration": 52,
    "start_time": "2021-06-29T17:19:48.154Z"
   },
   {
    "duration": 1007,
    "start_time": "2021-06-29T17:19:48.209Z"
   },
   {
    "duration": 980,
    "start_time": "2021-06-29T17:19:49.218Z"
   },
   {
    "duration": 1013,
    "start_time": "2021-06-29T17:19:50.201Z"
   },
   {
    "duration": 931,
    "start_time": "2021-06-29T17:19:51.216Z"
   },
   {
    "duration": 866,
    "start_time": "2021-06-29T17:19:52.149Z"
   },
   {
    "duration": 18,
    "start_time": "2021-06-29T17:19:53.018Z"
   },
   {
    "duration": 14,
    "start_time": "2021-06-29T17:19:53.040Z"
   },
   {
    "duration": 1452,
    "start_time": "2021-06-29T17:19:53.057Z"
   },
   {
    "duration": 11158,
    "start_time": "2021-06-29T17:19:54.511Z"
   },
   {
    "duration": 17,
    "start_time": "2021-06-29T17:20:54.290Z"
   },
   {
    "duration": 4,
    "start_time": "2021-06-29T17:20:54.806Z"
   },
   {
    "duration": 1595,
    "start_time": "2021-06-29T17:20:55.194Z"
   },
   {
    "duration": 1554,
    "start_time": "2021-06-29T17:22:26.959Z"
   },
   {
    "duration": 903,
    "start_time": "2021-06-29T17:22:28.516Z"
   },
   {
    "duration": 24,
    "start_time": "2021-06-29T17:22:29.421Z"
   },
   {
    "duration": 38,
    "start_time": "2021-06-29T17:22:29.448Z"
   },
   {
    "duration": 25,
    "start_time": "2021-06-29T17:22:29.488Z"
   },
   {
    "duration": 6,
    "start_time": "2021-06-29T17:22:29.516Z"
   },
   {
    "duration": 28,
    "start_time": "2021-06-29T17:22:29.525Z"
   },
   {
    "duration": 47,
    "start_time": "2021-06-29T17:22:29.558Z"
   },
   {
    "duration": 6,
    "start_time": "2021-06-29T17:22:29.609Z"
   },
   {
    "duration": 13,
    "start_time": "2021-06-29T17:22:29.618Z"
   },
   {
    "duration": 18,
    "start_time": "2021-06-29T17:22:29.633Z"
   },
   {
    "duration": 34,
    "start_time": "2021-06-29T17:22:29.653Z"
   },
   {
    "duration": 39,
    "start_time": "2021-06-29T17:22:29.690Z"
   },
   {
    "duration": 23,
    "start_time": "2021-06-29T17:22:29.731Z"
   },
   {
    "duration": 42,
    "start_time": "2021-06-29T17:22:29.756Z"
   },
   {
    "duration": 32,
    "start_time": "2021-06-29T17:22:29.801Z"
   },
   {
    "duration": 1056,
    "start_time": "2021-06-29T17:22:29.835Z"
   },
   {
    "duration": 1007,
    "start_time": "2021-06-29T17:22:30.893Z"
   },
   {
    "duration": 1159,
    "start_time": "2021-06-29T17:22:31.902Z"
   },
   {
    "duration": 1010,
    "start_time": "2021-06-29T17:22:33.064Z"
   },
   {
    "duration": 985,
    "start_time": "2021-06-29T17:22:34.076Z"
   },
   {
    "duration": 28,
    "start_time": "2021-06-29T17:22:35.067Z"
   },
   {
    "duration": 74,
    "start_time": "2021-06-29T17:22:35.099Z"
   },
   {
    "duration": 1520,
    "start_time": "2021-06-29T17:22:35.176Z"
   },
   {
    "duration": 103,
    "start_time": "2021-06-29T17:22:36.699Z"
   },
   {
    "duration": 68,
    "start_time": "2021-06-29T17:24:11.074Z"
   },
   {
    "duration": 47,
    "start_time": "2021-06-29T17:24:26.574Z"
   },
   {
    "duration": 493,
    "start_time": "2021-06-29T17:25:08.574Z"
   },
   {
    "duration": 343,
    "start_time": "2021-06-29T17:25:24.074Z"
   },
   {
    "duration": 55,
    "start_time": "2021-06-29T17:25:30.674Z"
   },
   {
    "duration": 1737,
    "start_time": "2021-06-29T17:26:18.943Z"
   },
   {
    "duration": 1518,
    "start_time": "2021-06-29T17:26:55.514Z"
   },
   {
    "duration": 1049,
    "start_time": "2021-06-29T17:28:02.996Z"
   },
   {
    "duration": 1608,
    "start_time": "2021-06-29T17:28:50.417Z"
   },
   {
    "duration": 938,
    "start_time": "2021-06-29T17:28:52.028Z"
   },
   {
    "duration": 31,
    "start_time": "2021-06-29T17:28:52.969Z"
   },
   {
    "duration": 18,
    "start_time": "2021-06-29T17:28:53.004Z"
   },
   {
    "duration": 62,
    "start_time": "2021-06-29T17:28:53.025Z"
   },
   {
    "duration": 6,
    "start_time": "2021-06-29T17:28:53.091Z"
   },
   {
    "duration": 30,
    "start_time": "2021-06-29T17:28:53.100Z"
   },
   {
    "duration": 24,
    "start_time": "2021-06-29T17:28:53.136Z"
   },
   {
    "duration": 9,
    "start_time": "2021-06-29T17:28:53.187Z"
   },
   {
    "duration": 15,
    "start_time": "2021-06-29T17:28:53.199Z"
   },
   {
    "duration": 17,
    "start_time": "2021-06-29T17:28:53.217Z"
   },
   {
    "duration": 19,
    "start_time": "2021-06-29T17:28:53.237Z"
   },
   {
    "duration": 56,
    "start_time": "2021-06-29T17:28:53.259Z"
   },
   {
    "duration": 30,
    "start_time": "2021-06-29T17:28:53.317Z"
   },
   {
    "duration": 38,
    "start_time": "2021-06-29T17:28:53.349Z"
   },
   {
    "duration": 23,
    "start_time": "2021-06-29T17:28:53.390Z"
   },
   {
    "duration": 1041,
    "start_time": "2021-06-29T17:28:53.415Z"
   },
   {
    "duration": 991,
    "start_time": "2021-06-29T17:28:54.459Z"
   },
   {
    "duration": 1001,
    "start_time": "2021-06-29T17:28:55.452Z"
   },
   {
    "duration": 938,
    "start_time": "2021-06-29T17:28:56.456Z"
   },
   {
    "duration": 946,
    "start_time": "2021-06-29T17:28:57.397Z"
   },
   {
    "duration": 19,
    "start_time": "2021-06-29T17:28:58.345Z"
   },
   {
    "duration": 4,
    "start_time": "2021-06-29T17:28:58.386Z"
   },
   {
    "duration": 1507,
    "start_time": "2021-06-29T17:28:58.393Z"
   },
   {
    "duration": 88,
    "start_time": "2021-06-29T17:28:59.903Z"
   },
   {
    "duration": 1661,
    "start_time": "2021-06-29T17:28:59.993Z"
   },
   {
    "duration": 70,
    "start_time": "2021-06-29T17:29:01.658Z"
   },
   {
    "duration": 1546,
    "start_time": "2021-06-29T17:29:01.731Z"
   },
   {
    "duration": 7,
    "start_time": "2021-06-29T19:21:29.880Z"
   },
   {
    "duration": 6,
    "start_time": "2021-06-29T19:22:18.701Z"
   },
   {
    "duration": 14,
    "start_time": "2021-06-29T19:25:41.057Z"
   },
   {
    "duration": 5,
    "start_time": "2021-06-29T19:25:47.453Z"
   },
   {
    "duration": 5,
    "start_time": "2021-06-29T19:26:15.509Z"
   },
   {
    "duration": 6,
    "start_time": "2021-06-29T19:30:22.433Z"
   },
   {
    "duration": 13,
    "start_time": "2021-06-29T19:30:23.344Z"
   },
   {
    "duration": 6,
    "start_time": "2021-06-29T19:30:23.768Z"
   },
   {
    "duration": 15,
    "start_time": "2021-06-29T19:57:47.797Z"
   },
   {
    "duration": 6,
    "start_time": "2021-06-29T20:01:00.338Z"
   },
   {
    "duration": 474,
    "start_time": "2021-06-29T20:13:13.533Z"
   },
   {
    "duration": 330,
    "start_time": "2021-06-29T20:13:42.820Z"
   },
   {
    "duration": 2166,
    "start_time": "2021-06-29T20:14:15.007Z"
   },
   {
    "duration": 1110,
    "start_time": "2021-06-29T20:14:17.176Z"
   },
   {
    "duration": 25,
    "start_time": "2021-06-29T20:14:18.289Z"
   },
   {
    "duration": 16,
    "start_time": "2021-06-29T20:14:18.317Z"
   },
   {
    "duration": 58,
    "start_time": "2021-06-29T20:14:18.335Z"
   },
   {
    "duration": 5,
    "start_time": "2021-06-29T20:14:18.395Z"
   },
   {
    "duration": 23,
    "start_time": "2021-06-29T20:14:18.402Z"
   },
   {
    "duration": 28,
    "start_time": "2021-06-29T20:14:18.428Z"
   },
   {
    "duration": 30,
    "start_time": "2021-06-29T20:14:18.460Z"
   },
   {
    "duration": 8,
    "start_time": "2021-06-29T20:14:18.493Z"
   },
   {
    "duration": 13,
    "start_time": "2021-06-29T20:14:18.505Z"
   },
   {
    "duration": 8,
    "start_time": "2021-06-29T20:14:18.522Z"
   },
   {
    "duration": 80,
    "start_time": "2021-06-29T20:14:18.533Z"
   },
   {
    "duration": 25,
    "start_time": "2021-06-29T20:14:18.616Z"
   },
   {
    "duration": 43,
    "start_time": "2021-06-29T20:14:18.644Z"
   },
   {
    "duration": 25,
    "start_time": "2021-06-29T20:14:18.690Z"
   },
   {
    "duration": 1040,
    "start_time": "2021-06-29T20:14:18.718Z"
   },
   {
    "duration": 980,
    "start_time": "2021-06-29T20:14:19.761Z"
   },
   {
    "duration": 1021,
    "start_time": "2021-06-29T20:14:20.744Z"
   },
   {
    "duration": 965,
    "start_time": "2021-06-29T20:14:21.768Z"
   },
   {
    "duration": 855,
    "start_time": "2021-06-29T20:14:22.736Z"
   },
   {
    "duration": 20,
    "start_time": "2021-06-29T20:14:23.593Z"
   },
   {
    "duration": 4,
    "start_time": "2021-06-29T20:14:23.617Z"
   },
   {
    "duration": 1549,
    "start_time": "2021-06-29T20:14:23.624Z"
   },
   {
    "duration": 79,
    "start_time": "2021-06-29T20:14:25.176Z"
   },
   {
    "duration": 1660,
    "start_time": "2021-06-29T20:14:25.257Z"
   },
   {
    "duration": 71,
    "start_time": "2021-06-29T20:14:26.920Z"
   },
   {
    "duration": 1524,
    "start_time": "2021-06-29T20:14:26.994Z"
   },
   {
    "duration": 7,
    "start_time": "2021-06-29T20:14:28.520Z"
   },
   {
    "duration": 24,
    "start_time": "2021-06-29T20:14:28.529Z"
   },
   {
    "duration": 490,
    "start_time": "2021-06-29T20:14:28.555Z"
   },
   {
    "duration": 344,
    "start_time": "2021-06-29T20:18:55.088Z"
   },
   {
    "duration": 6,
    "start_time": "2021-06-29T20:20:37.027Z"
   },
   {
    "duration": 5,
    "start_time": "2021-06-29T20:21:06.691Z"
   },
   {
    "duration": 342,
    "start_time": "2021-06-29T20:21:21.573Z"
   },
   {
    "duration": 4,
    "start_time": "2021-06-29T20:21:48.880Z"
   },
   {
    "duration": 4,
    "start_time": "2021-06-29T20:21:50.023Z"
   },
   {
    "duration": 5,
    "start_time": "2021-06-29T20:21:50.679Z"
   },
   {
    "duration": 4,
    "start_time": "2021-06-29T20:21:51.242Z"
   },
   {
    "duration": 294,
    "start_time": "2021-06-29T20:22:10.463Z"
   },
   {
    "duration": 8,
    "start_time": "2021-06-29T20:24:28.487Z"
   },
   {
    "duration": 4,
    "start_time": "2021-06-29T20:24:29.562Z"
   },
   {
    "duration": 4,
    "start_time": "2021-06-29T20:24:30.171Z"
   },
   {
    "duration": 4,
    "start_time": "2021-06-29T20:24:30.767Z"
   },
   {
    "duration": 5,
    "start_time": "2021-06-29T20:24:31.379Z"
   },
   {
    "duration": 426,
    "start_time": "2021-06-29T20:24:32.047Z"
   },
   {
    "duration": 322,
    "start_time": "2021-06-29T20:28:25.903Z"
   },
   {
    "duration": 304,
    "start_time": "2021-06-29T20:28:40.071Z"
   },
   {
    "duration": 7,
    "start_time": "2021-06-29T20:28:52.891Z"
   },
   {
    "duration": 11,
    "start_time": "2021-06-29T20:31:05.060Z"
   },
   {
    "duration": 35,
    "start_time": "2021-06-29T20:31:44.145Z"
   },
   {
    "duration": 10,
    "start_time": "2021-06-29T20:32:30.129Z"
   },
   {
    "duration": 4,
    "start_time": "2021-06-29T20:32:31.496Z"
   },
   {
    "duration": 4,
    "start_time": "2021-06-29T20:32:31.845Z"
   },
   {
    "duration": 5,
    "start_time": "2021-06-29T20:32:32.196Z"
   },
   {
    "duration": 4,
    "start_time": "2021-06-29T20:32:32.624Z"
   },
   {
    "duration": 433,
    "start_time": "2021-06-29T20:32:33.100Z"
   },
   {
    "duration": 328,
    "start_time": "2021-06-29T20:33:13.740Z"
   },
   {
    "duration": 15,
    "start_time": "2021-06-29T20:33:34.084Z"
   },
   {
    "duration": 33,
    "start_time": "2021-06-29T20:34:40.321Z"
   },
   {
    "duration": 16,
    "start_time": "2021-06-29T20:34:56.660Z"
   },
   {
    "duration": 5,
    "start_time": "2021-06-29T20:34:58.060Z"
   },
   {
    "duration": 5,
    "start_time": "2021-06-29T20:34:58.587Z"
   },
   {
    "duration": 4,
    "start_time": "2021-06-29T20:34:59.008Z"
   },
   {
    "duration": 9,
    "start_time": "2021-06-29T20:34:59.404Z"
   },
   {
    "duration": 871,
    "start_time": "2021-06-29T20:34:59.968Z"
   },
   {
    "duration": 1750,
    "start_time": "2021-06-29T20:37:23.632Z"
   },
   {
    "duration": 1108,
    "start_time": "2021-06-29T20:37:25.387Z"
   },
   {
    "duration": 24,
    "start_time": "2021-06-29T20:37:26.498Z"
   },
   {
    "duration": 16,
    "start_time": "2021-06-29T20:37:26.525Z"
   },
   {
    "duration": 56,
    "start_time": "2021-06-29T20:37:26.543Z"
   },
   {
    "duration": 6,
    "start_time": "2021-06-29T20:37:26.602Z"
   },
   {
    "duration": 41,
    "start_time": "2021-06-29T20:37:26.610Z"
   },
   {
    "duration": 37,
    "start_time": "2021-06-29T20:37:26.657Z"
   },
   {
    "duration": 8,
    "start_time": "2021-06-29T20:37:26.698Z"
   },
   {
    "duration": 16,
    "start_time": "2021-06-29T20:37:26.709Z"
   },
   {
    "duration": 17,
    "start_time": "2021-06-29T20:37:26.727Z"
   },
   {
    "duration": 15,
    "start_time": "2021-06-29T20:37:26.747Z"
   },
   {
    "duration": 32,
    "start_time": "2021-06-29T20:37:26.787Z"
   },
   {
    "duration": 24,
    "start_time": "2021-06-29T20:37:26.822Z"
   },
   {
    "duration": 45,
    "start_time": "2021-06-29T20:37:26.849Z"
   },
   {
    "duration": 37,
    "start_time": "2021-06-29T20:37:26.897Z"
   },
   {
    "duration": 1026,
    "start_time": "2021-06-29T20:37:26.937Z"
   },
   {
    "duration": 1271,
    "start_time": "2021-06-29T20:37:27.966Z"
   },
   {
    "duration": 1216,
    "start_time": "2021-06-29T20:37:29.240Z"
   },
   {
    "duration": 1201,
    "start_time": "2021-06-29T20:37:30.459Z"
   },
   {
    "duration": 1203,
    "start_time": "2021-06-29T20:37:31.663Z"
   },
   {
    "duration": 30,
    "start_time": "2021-06-29T20:37:32.868Z"
   },
   {
    "duration": 5,
    "start_time": "2021-06-29T20:37:32.904Z"
   },
   {
    "duration": 1502,
    "start_time": "2021-06-29T20:37:32.911Z"
   },
   {
    "duration": 91,
    "start_time": "2021-06-29T20:37:34.416Z"
   },
   {
    "duration": 1616,
    "start_time": "2021-06-29T20:37:34.509Z"
   },
   {
    "duration": 70,
    "start_time": "2021-06-29T20:37:36.128Z"
   },
   {
    "duration": 1607,
    "start_time": "2021-06-29T20:37:36.201Z"
   },
   {
    "duration": 6,
    "start_time": "2021-06-29T20:37:37.811Z"
   },
   {
    "duration": 27,
    "start_time": "2021-06-29T20:37:37.819Z"
   },
   {
    "duration": 21,
    "start_time": "2021-06-29T20:37:37.849Z"
   },
   {
    "duration": 5,
    "start_time": "2021-06-29T20:37:37.887Z"
   },
   {
    "duration": 8,
    "start_time": "2021-06-29T20:37:37.895Z"
   },
   {
    "duration": 7,
    "start_time": "2021-06-29T20:37:37.906Z"
   },
   {
    "duration": 11,
    "start_time": "2021-06-29T20:37:37.916Z"
   },
   {
    "duration": 1043,
    "start_time": "2021-06-29T20:37:37.930Z"
   },
   {
    "duration": 4,
    "start_time": "2021-06-29T20:42:48.640Z"
   },
   {
    "duration": 14,
    "start_time": "2021-06-29T20:43:05.216Z"
   },
   {
    "duration": 324,
    "start_time": "2021-06-29T20:44:10.127Z"
   },
   {
    "duration": 359,
    "start_time": "2021-06-29T20:45:51.135Z"
   },
   {
    "duration": 11,
    "start_time": "2021-06-29T20:49:15.871Z"
   },
   {
    "duration": 21,
    "start_time": "2021-06-29T20:53:53.259Z"
   },
   {
    "duration": 26,
    "start_time": "2021-06-29T20:55:54.818Z"
   },
   {
    "duration": 28,
    "start_time": "2021-06-29T20:57:53.502Z"
   },
   {
    "duration": 29,
    "start_time": "2021-06-29T20:58:42.758Z"
   },
   {
    "duration": 28,
    "start_time": "2021-06-29T20:58:52.758Z"
   },
   {
    "duration": 1584,
    "start_time": "2021-06-29T21:01:00.141Z"
   },
   {
    "duration": 927,
    "start_time": "2021-06-29T21:01:01.728Z"
   },
   {
    "duration": 33,
    "start_time": "2021-06-29T21:01:02.658Z"
   },
   {
    "duration": 18,
    "start_time": "2021-06-29T21:01:02.695Z"
   },
   {
    "duration": 36,
    "start_time": "2021-06-29T21:01:02.716Z"
   },
   {
    "duration": 40,
    "start_time": "2021-06-29T21:01:02.755Z"
   },
   {
    "duration": 6,
    "start_time": "2021-06-29T21:01:02.798Z"
   },
   {
    "duration": 43,
    "start_time": "2021-06-29T21:01:02.808Z"
   },
   {
    "duration": 28,
    "start_time": "2021-06-29T21:01:02.854Z"
   },
   {
    "duration": 6,
    "start_time": "2021-06-29T21:01:02.885Z"
   },
   {
    "duration": 24,
    "start_time": "2021-06-29T21:01:02.894Z"
   },
   {
    "duration": 26,
    "start_time": "2021-06-29T21:01:02.920Z"
   },
   {
    "duration": 22,
    "start_time": "2021-06-29T21:01:02.949Z"
   },
   {
    "duration": 53,
    "start_time": "2021-06-29T21:01:02.973Z"
   },
   {
    "duration": 35,
    "start_time": "2021-06-29T21:01:03.028Z"
   },
   {
    "duration": 21,
    "start_time": "2021-06-29T21:01:03.067Z"
   },
   {
    "duration": 39,
    "start_time": "2021-06-29T21:01:03.090Z"
   },
   {
    "duration": 1173,
    "start_time": "2021-06-29T21:01:03.132Z"
   },
   {
    "duration": 989,
    "start_time": "2021-06-29T21:01:04.308Z"
   },
   {
    "duration": 1020,
    "start_time": "2021-06-29T21:01:05.300Z"
   },
   {
    "duration": 1050,
    "start_time": "2021-06-29T21:01:06.322Z"
   },
   {
    "duration": 971,
    "start_time": "2021-06-29T21:01:07.375Z"
   },
   {
    "duration": 18,
    "start_time": "2021-06-29T21:01:08.351Z"
   },
   {
    "duration": 17,
    "start_time": "2021-06-29T21:01:08.371Z"
   },
   {
    "duration": 2028,
    "start_time": "2021-06-29T21:01:08.391Z"
   },
   {
    "duration": 103,
    "start_time": "2021-06-29T21:01:10.422Z"
   },
   {
    "duration": 1922,
    "start_time": "2021-06-29T21:01:10.528Z"
   },
   {
    "duration": 66,
    "start_time": "2021-06-29T21:01:12.452Z"
   },
   {
    "duration": 1527,
    "start_time": "2021-06-29T21:01:12.520Z"
   },
   {
    "duration": 38,
    "start_time": "2021-06-29T21:01:14.050Z"
   },
   {
    "duration": 6,
    "start_time": "2021-06-29T21:01:14.090Z"
   },
   {
    "duration": 497,
    "start_time": "2021-06-29T21:06:04.769Z"
   },
   {
    "duration": 1594,
    "start_time": "2021-06-29T21:12:26.717Z"
   },
   {
    "duration": 1025,
    "start_time": "2021-06-29T21:12:28.314Z"
   },
   {
    "duration": 23,
    "start_time": "2021-06-29T21:12:29.343Z"
   },
   {
    "duration": 29,
    "start_time": "2021-06-29T21:12:29.369Z"
   },
   {
    "duration": 27,
    "start_time": "2021-06-29T21:12:29.400Z"
   },
   {
    "duration": 56,
    "start_time": "2021-06-29T21:12:29.430Z"
   },
   {
    "duration": 4,
    "start_time": "2021-06-29T21:12:29.489Z"
   },
   {
    "duration": 33,
    "start_time": "2021-06-29T21:12:29.497Z"
   },
   {
    "duration": 23,
    "start_time": "2021-06-29T21:12:29.533Z"
   },
   {
    "duration": 27,
    "start_time": "2021-06-29T21:12:29.558Z"
   },
   {
    "duration": 21,
    "start_time": "2021-06-29T21:12:29.588Z"
   },
   {
    "duration": 14,
    "start_time": "2021-06-29T21:12:29.612Z"
   },
   {
    "duration": 13,
    "start_time": "2021-06-29T21:12:29.629Z"
   },
   {
    "duration": 44,
    "start_time": "2021-06-29T21:12:29.645Z"
   },
   {
    "duration": 18,
    "start_time": "2021-06-29T21:12:29.691Z"
   },
   {
    "duration": 18,
    "start_time": "2021-06-29T21:12:29.712Z"
   },
   {
    "duration": 35,
    "start_time": "2021-06-29T21:12:29.732Z"
   },
   {
    "duration": 35,
    "start_time": "2021-06-29T21:12:29.769Z"
   },
   {
    "duration": 33,
    "start_time": "2021-06-29T21:12:29.806Z"
   },
   {
    "duration": 48,
    "start_time": "2021-06-29T21:12:29.842Z"
   },
   {
    "duration": 1063,
    "start_time": "2021-06-29T21:12:29.893Z"
   },
   {
    "duration": 1006,
    "start_time": "2021-06-29T21:12:30.958Z"
   },
   {
    "duration": 1025,
    "start_time": "2021-06-29T21:12:31.969Z"
   },
   {
    "duration": 1010,
    "start_time": "2021-06-29T21:12:32.997Z"
   },
   {
    "duration": 878,
    "start_time": "2021-06-29T21:12:34.010Z"
   },
   {
    "duration": 19,
    "start_time": "2021-06-29T21:12:34.890Z"
   },
   {
    "duration": 4,
    "start_time": "2021-06-29T21:12:34.911Z"
   },
   {
    "duration": 1631,
    "start_time": "2021-06-29T21:12:34.917Z"
   },
   {
    "duration": 106,
    "start_time": "2021-06-29T21:12:36.552Z"
   },
   {
    "duration": 1643,
    "start_time": "2021-06-29T21:12:36.661Z"
   },
   {
    "duration": 8293,
    "start_time": "2021-06-29T21:12:38.306Z"
   },
   {
    "duration": 38,
    "start_time": "2021-06-29T21:12:46.564Z"
   },
   {
    "duration": 27,
    "start_time": "2021-06-29T21:12:46.576Z"
   },
   {
    "duration": 23,
    "start_time": "2021-06-29T21:12:46.582Z"
   },
   {
    "duration": 1624,
    "start_time": "2021-06-29T21:18:16.285Z"
   },
   {
    "duration": 891,
    "start_time": "2021-06-29T21:18:17.912Z"
   },
   {
    "duration": 22,
    "start_time": "2021-06-29T21:18:18.806Z"
   },
   {
    "duration": 15,
    "start_time": "2021-06-29T21:18:18.831Z"
   },
   {
    "duration": 49,
    "start_time": "2021-06-29T21:18:18.848Z"
   },
   {
    "duration": 6,
    "start_time": "2021-06-29T21:18:18.899Z"
   },
   {
    "duration": 27,
    "start_time": "2021-06-29T21:18:18.908Z"
   },
   {
    "duration": 46,
    "start_time": "2021-06-29T21:18:18.941Z"
   },
   {
    "duration": 7,
    "start_time": "2021-06-29T21:18:18.990Z"
   },
   {
    "duration": 10,
    "start_time": "2021-06-29T21:18:18.999Z"
   },
   {
    "duration": 10,
    "start_time": "2021-06-29T21:18:19.012Z"
   },
   {
    "duration": 8,
    "start_time": "2021-06-29T21:18:19.025Z"
   },
   {
    "duration": 76,
    "start_time": "2021-06-29T21:18:19.035Z"
   },
   {
    "duration": 23,
    "start_time": "2021-06-29T21:18:19.113Z"
   },
   {
    "duration": 20,
    "start_time": "2021-06-29T21:18:19.138Z"
   },
   {
    "duration": 21,
    "start_time": "2021-06-29T21:18:19.186Z"
   },
   {
    "duration": 1026,
    "start_time": "2021-06-29T21:18:19.210Z"
   },
   {
    "duration": 975,
    "start_time": "2021-06-29T21:18:20.239Z"
   },
   {
    "duration": 1036,
    "start_time": "2021-06-29T21:18:21.218Z"
   },
   {
    "duration": 1062,
    "start_time": "2021-06-29T21:18:22.257Z"
   },
   {
    "duration": 881,
    "start_time": "2021-06-29T21:18:23.322Z"
   },
   {
    "duration": 18,
    "start_time": "2021-06-29T21:18:24.206Z"
   },
   {
    "duration": 4,
    "start_time": "2021-06-29T21:18:24.229Z"
   },
   {
    "duration": 1603,
    "start_time": "2021-06-29T21:18:24.236Z"
   },
   {
    "duration": 83,
    "start_time": "2021-06-29T21:18:25.842Z"
   },
   {
    "duration": 1670,
    "start_time": "2021-06-29T21:18:25.927Z"
   },
   {
    "duration": 52,
    "start_time": "2021-06-29T21:18:27.599Z"
   },
   {
    "duration": 445,
    "start_time": "2021-06-29T21:18:27.653Z"
   },
   {
    "duration": 265,
    "start_time": "2021-06-29T21:18:27.836Z"
   },
   {
    "duration": 261,
    "start_time": "2021-06-29T21:18:27.841Z"
   },
   {
    "duration": 1541,
    "start_time": "2021-06-29T21:20:15.265Z"
   },
   {
    "duration": 1622,
    "start_time": "2021-06-29T21:21:26.592Z"
   },
   {
    "duration": 965,
    "start_time": "2021-06-29T21:21:28.217Z"
   },
   {
    "duration": 24,
    "start_time": "2021-06-29T21:21:29.186Z"
   },
   {
    "duration": 16,
    "start_time": "2021-06-29T21:21:29.213Z"
   },
   {
    "duration": 57,
    "start_time": "2021-06-29T21:21:29.231Z"
   },
   {
    "duration": 5,
    "start_time": "2021-06-29T21:21:29.290Z"
   },
   {
    "duration": 26,
    "start_time": "2021-06-29T21:21:29.297Z"
   },
   {
    "duration": 23,
    "start_time": "2021-06-29T21:21:29.327Z"
   },
   {
    "duration": 35,
    "start_time": "2021-06-29T21:21:29.353Z"
   },
   {
    "duration": 7,
    "start_time": "2021-06-29T21:21:29.390Z"
   },
   {
    "duration": 11,
    "start_time": "2021-06-29T21:21:29.399Z"
   },
   {
    "duration": 9,
    "start_time": "2021-06-29T21:21:29.412Z"
   },
   {
    "duration": 71,
    "start_time": "2021-06-29T21:21:29.423Z"
   },
   {
    "duration": 26,
    "start_time": "2021-06-29T21:21:29.496Z"
   },
   {
    "duration": 19,
    "start_time": "2021-06-29T21:21:29.525Z"
   },
   {
    "duration": 46,
    "start_time": "2021-06-29T21:21:29.547Z"
   },
   {
    "duration": 1072,
    "start_time": "2021-06-29T21:21:29.595Z"
   },
   {
    "duration": 1018,
    "start_time": "2021-06-29T21:21:30.670Z"
   },
   {
    "duration": 1049,
    "start_time": "2021-06-29T21:21:31.692Z"
   },
   {
    "duration": 992,
    "start_time": "2021-06-29T21:21:32.744Z"
   },
   {
    "duration": 905,
    "start_time": "2021-06-29T21:21:33.738Z"
   },
   {
    "duration": 18,
    "start_time": "2021-06-29T21:21:34.645Z"
   },
   {
    "duration": 4,
    "start_time": "2021-06-29T21:21:34.686Z"
   },
   {
    "duration": 1560,
    "start_time": "2021-06-29T21:21:34.693Z"
   },
   {
    "duration": 88,
    "start_time": "2021-06-29T21:21:36.255Z"
   },
   {
    "duration": 1652,
    "start_time": "2021-06-29T21:21:36.346Z"
   },
   {
    "duration": 56,
    "start_time": "2021-06-29T21:21:38.000Z"
   },
   {
    "duration": 1573,
    "start_time": "2021-06-29T21:21:38.059Z"
   },
   {
    "duration": 455,
    "start_time": "2021-06-29T21:21:39.634Z"
   },
   {
    "duration": 347,
    "start_time": "2021-06-29T21:21:39.745Z"
   },
   {
    "duration": 1038,
    "start_time": "2021-06-29T21:21:56.064Z"
   },
   {
    "duration": 24,
    "start_time": "2021-06-29T21:21:57.149Z"
   },
   {
    "duration": 18,
    "start_time": "2021-06-29T21:21:57.796Z"
   },
   {
    "duration": 37,
    "start_time": "2021-06-29T21:21:58.345Z"
   },
   {
    "duration": 9,
    "start_time": "2021-06-29T21:21:59.872Z"
   },
   {
    "duration": 20,
    "start_time": "2021-06-29T21:22:00.176Z"
   },
   {
    "duration": 19,
    "start_time": "2021-06-29T21:22:00.633Z"
   },
   {
    "duration": 1607,
    "start_time": "2021-06-29T21:22:07.909Z"
   },
   {
    "duration": 1119,
    "start_time": "2021-06-29T21:22:09.519Z"
   },
   {
    "duration": 23,
    "start_time": "2021-06-29T21:22:10.641Z"
   },
   {
    "duration": 31,
    "start_time": "2021-06-29T21:22:10.667Z"
   },
   {
    "duration": 27,
    "start_time": "2021-06-29T21:22:10.700Z"
   },
   {
    "duration": 5,
    "start_time": "2021-06-29T21:22:10.729Z"
   },
   {
    "duration": 56,
    "start_time": "2021-06-29T21:22:10.736Z"
   },
   {
    "duration": 25,
    "start_time": "2021-06-29T21:22:10.795Z"
   },
   {
    "duration": 7,
    "start_time": "2021-06-29T21:22:10.823Z"
   },
   {
    "duration": 11,
    "start_time": "2021-06-29T21:22:10.832Z"
   },
   {
    "duration": 39,
    "start_time": "2021-06-29T21:22:10.846Z"
   },
   {
    "duration": 6,
    "start_time": "2021-06-29T21:22:10.888Z"
   },
   {
    "duration": 35,
    "start_time": "2021-06-29T21:22:10.897Z"
   },
   {
    "duration": 52,
    "start_time": "2021-06-29T21:22:10.934Z"
   },
   {
    "duration": 20,
    "start_time": "2021-06-29T21:22:10.989Z"
   },
   {
    "duration": 23,
    "start_time": "2021-06-29T21:22:11.012Z"
   },
   {
    "duration": 1183,
    "start_time": "2021-06-29T21:22:11.037Z"
   },
   {
    "duration": 1507,
    "start_time": "2021-06-29T21:22:12.223Z"
   },
   {
    "duration": 1153,
    "start_time": "2021-06-29T21:22:13.732Z"
   },
   {
    "duration": 1001,
    "start_time": "2021-06-29T21:22:14.887Z"
   },
   {
    "duration": 920,
    "start_time": "2021-06-29T21:22:15.891Z"
   },
   {
    "duration": 19,
    "start_time": "2021-06-29T21:22:16.815Z"
   },
   {
    "duration": 4,
    "start_time": "2021-06-29T21:22:16.838Z"
   },
   {
    "duration": 1569,
    "start_time": "2021-06-29T21:22:16.845Z"
   },
   {
    "duration": 115,
    "start_time": "2021-06-29T21:22:18.418Z"
   },
   {
    "duration": 2582,
    "start_time": "2021-06-29T21:22:18.536Z"
   },
   {
    "duration": 92,
    "start_time": "2021-06-29T21:22:21.122Z"
   },
   {
    "duration": 2220,
    "start_time": "2021-06-29T21:22:21.217Z"
   },
   {
    "duration": 570,
    "start_time": "2021-06-29T21:22:23.440Z"
   },
   {
    "duration": 260,
    "start_time": "2021-06-29T21:22:23.754Z"
   },
   {
    "duration": 1962,
    "start_time": "2021-06-29T21:25:22.393Z"
   },
   {
    "duration": 1134,
    "start_time": "2021-06-29T21:25:24.358Z"
   },
   {
    "duration": 26,
    "start_time": "2021-06-29T21:25:25.496Z"
   },
   {
    "duration": 18,
    "start_time": "2021-06-29T21:25:25.525Z"
   },
   {
    "duration": 63,
    "start_time": "2021-06-29T21:25:25.545Z"
   },
   {
    "duration": 5,
    "start_time": "2021-06-29T21:25:25.610Z"
   },
   {
    "duration": 29,
    "start_time": "2021-06-29T21:25:25.618Z"
   },
   {
    "duration": 52,
    "start_time": "2021-06-29T21:25:25.652Z"
   },
   {
    "duration": 8,
    "start_time": "2021-06-29T21:25:25.708Z"
   },
   {
    "duration": 7,
    "start_time": "2021-06-29T21:25:25.719Z"
   },
   {
    "duration": 13,
    "start_time": "2021-06-29T21:25:25.728Z"
   },
   {
    "duration": 44,
    "start_time": "2021-06-29T21:25:25.744Z"
   },
   {
    "duration": 33,
    "start_time": "2021-06-29T21:25:25.790Z"
   },
   {
    "duration": 67,
    "start_time": "2021-06-29T21:25:25.827Z"
   },
   {
    "duration": 28,
    "start_time": "2021-06-29T21:25:25.897Z"
   },
   {
    "duration": 22,
    "start_time": "2021-06-29T21:25:25.928Z"
   },
   {
    "duration": 1564,
    "start_time": "2021-06-29T21:25:25.953Z"
   },
   {
    "duration": 1568,
    "start_time": "2021-06-29T21:25:27.521Z"
   },
   {
    "duration": 1466,
    "start_time": "2021-06-29T21:25:29.093Z"
   },
   {
    "duration": 1101,
    "start_time": "2021-06-29T21:25:30.562Z"
   },
   {
    "duration": 892,
    "start_time": "2021-06-29T21:25:31.666Z"
   },
   {
    "duration": 27,
    "start_time": "2021-06-29T21:25:32.561Z"
   },
   {
    "duration": 4,
    "start_time": "2021-06-29T21:25:32.592Z"
   },
   {
    "duration": 1551,
    "start_time": "2021-06-29T21:25:32.599Z"
   },
   {
    "duration": 86,
    "start_time": "2021-06-29T21:25:34.153Z"
   },
   {
    "duration": 1778,
    "start_time": "2021-06-29T21:25:34.242Z"
   },
   {
    "duration": 72,
    "start_time": "2021-06-29T21:25:36.022Z"
   },
   {
    "duration": 1573,
    "start_time": "2021-06-29T21:25:36.097Z"
   },
   {
    "duration": 584,
    "start_time": "2021-06-29T21:25:37.673Z"
   },
   {
    "duration": 368,
    "start_time": "2021-06-29T21:25:37.892Z"
   },
   {
    "duration": 42,
    "start_time": "2021-06-29T21:27:11.374Z"
   },
   {
    "duration": 7,
    "start_time": "2021-06-29T21:29:07.593Z"
   },
   {
    "duration": 21,
    "start_time": "2021-06-29T21:30:42.077Z"
   },
   {
    "duration": 6,
    "start_time": "2021-06-29T21:30:42.673Z"
   },
   {
    "duration": 19,
    "start_time": "2021-06-29T21:34:51.349Z"
   },
   {
    "duration": 6,
    "start_time": "2021-06-29T21:34:52.697Z"
   },
   {
    "duration": 6,
    "start_time": "2021-06-29T21:35:02.065Z"
   },
   {
    "duration": 7,
    "start_time": "2021-06-29T21:35:05.746Z"
   },
   {
    "duration": 5,
    "start_time": "2021-06-29T21:35:25.629Z"
   },
   {
    "duration": 16,
    "start_time": "2021-06-29T21:35:26.497Z"
   },
   {
    "duration": 4,
    "start_time": "2021-06-29T21:52:22.952Z"
   },
   {
    "duration": 12,
    "start_time": "2021-06-29T21:52:42.792Z"
   },
   {
    "duration": 9,
    "start_time": "2021-06-29T21:53:28.000Z"
   },
   {
    "duration": 7,
    "start_time": "2021-06-29T21:54:48.728Z"
   },
   {
    "duration": 3755,
    "start_time": "2021-06-29T21:55:14.139Z"
   },
   {
    "duration": 218,
    "start_time": "2021-06-29T21:55:42.755Z"
   },
   {
    "duration": 222,
    "start_time": "2021-06-29T21:56:07.959Z"
   },
   {
    "duration": 7,
    "start_time": "2021-06-29T21:56:41.699Z"
   },
   {
    "duration": 3784,
    "start_time": "2021-06-29T21:56:56.011Z"
   },
   {
    "duration": 1809,
    "start_time": "2021-06-29T22:26:07.980Z"
   },
   {
    "duration": 1145,
    "start_time": "2021-06-29T22:26:09.792Z"
   },
   {
    "duration": 25,
    "start_time": "2021-06-29T22:26:10.940Z"
   },
   {
    "duration": 33,
    "start_time": "2021-06-29T22:26:10.968Z"
   },
   {
    "duration": 29,
    "start_time": "2021-06-29T22:26:11.004Z"
   },
   {
    "duration": 6,
    "start_time": "2021-06-29T22:26:11.036Z"
   },
   {
    "duration": 63,
    "start_time": "2021-06-29T22:26:11.045Z"
   },
   {
    "duration": 24,
    "start_time": "2021-06-29T22:26:11.113Z"
   },
   {
    "duration": 7,
    "start_time": "2021-06-29T22:26:11.140Z"
   },
   {
    "duration": 42,
    "start_time": "2021-06-29T22:26:11.150Z"
   },
   {
    "duration": 14,
    "start_time": "2021-06-29T22:26:11.195Z"
   },
   {
    "duration": 7,
    "start_time": "2021-06-29T22:26:11.212Z"
   },
   {
    "duration": 34,
    "start_time": "2021-06-29T22:26:11.222Z"
   },
   {
    "duration": 27,
    "start_time": "2021-06-29T22:26:11.286Z"
   },
   {
    "duration": 21,
    "start_time": "2021-06-29T22:26:11.316Z"
   },
   {
    "duration": 57,
    "start_time": "2021-06-29T22:26:11.340Z"
   },
   {
    "duration": 1089,
    "start_time": "2021-06-29T22:26:11.400Z"
   },
   {
    "duration": 1032,
    "start_time": "2021-06-29T22:26:12.492Z"
   },
   {
    "duration": 1102,
    "start_time": "2021-06-29T22:26:13.527Z"
   },
   {
    "duration": 1044,
    "start_time": "2021-06-29T22:26:14.632Z"
   },
   {
    "duration": 932,
    "start_time": "2021-06-29T22:26:15.678Z"
   },
   {
    "duration": 17,
    "start_time": "2021-06-29T22:26:16.612Z"
   },
   {
    "duration": 4,
    "start_time": "2021-06-29T22:26:16.634Z"
   },
   {
    "duration": 1595,
    "start_time": "2021-06-29T22:26:16.641Z"
   },
   {
    "duration": 91,
    "start_time": "2021-06-29T22:26:18.239Z"
   },
   {
    "duration": 1720,
    "start_time": "2021-06-29T22:26:18.333Z"
   },
   {
    "duration": 71,
    "start_time": "2021-06-29T22:26:20.056Z"
   },
   {
    "duration": 1609,
    "start_time": "2021-06-29T22:26:20.130Z"
   },
   {
    "duration": 50,
    "start_time": "2021-06-29T22:26:21.742Z"
   },
   {
    "duration": 22,
    "start_time": "2021-06-29T22:26:21.797Z"
   },
   {
    "duration": 5,
    "start_time": "2021-06-29T22:26:21.822Z"
   },
   {
    "duration": 60,
    "start_time": "2021-06-29T22:26:21.829Z"
   },
   {
    "duration": 11,
    "start_time": "2021-06-29T22:26:21.892Z"
   },
   {
    "duration": 14,
    "start_time": "2021-06-29T22:26:21.906Z"
   },
   {
    "duration": 10,
    "start_time": "2021-06-29T22:26:21.922Z"
   },
   {
    "duration": 8,
    "start_time": "2021-06-29T22:26:21.935Z"
   },
   {
    "duration": 6452,
    "start_time": "2021-06-29T22:26:21.945Z"
   },
   {
    "duration": 6093,
    "start_time": "2021-06-29T22:26:28.400Z"
   },
   {
    "duration": 15,
    "start_time": "2021-06-29T22:26:34.496Z"
   },
   {
    "duration": 4,
    "start_time": "2021-06-29T22:26:57.841Z"
   },
   {
    "duration": 7,
    "start_time": "2021-06-29T22:29:34.577Z"
   },
   {
    "duration": 4,
    "start_time": "2021-06-29T22:29:35.005Z"
   },
   {
    "duration": 5800,
    "start_time": "2021-06-29T22:29:35.685Z"
   },
   {
    "duration": 5215,
    "start_time": "2021-06-29T22:29:41.488Z"
   },
   {
    "duration": 4,
    "start_time": "2021-06-29T22:29:46.707Z"
   },
   {
    "duration": 79,
    "start_time": "2021-06-29T22:29:46.713Z"
   },
   {
    "duration": 10,
    "start_time": "2021-06-29T22:29:46.796Z"
   },
   {
    "duration": 11,
    "start_time": "2021-06-29T22:29:46.808Z"
   },
   {
    "duration": 678,
    "start_time": "2021-06-29T22:35:08.821Z"
   },
   {
    "duration": 5,
    "start_time": "2021-06-29T22:42:11.480Z"
   },
   {
    "duration": 4,
    "start_time": "2021-06-29T22:42:12.413Z"
   },
   {
    "duration": 6625,
    "start_time": "2021-06-29T22:42:13.168Z"
   },
   {
    "duration": 6007,
    "start_time": "2021-06-29T22:42:19.796Z"
   },
   {
    "duration": 8,
    "start_time": "2021-06-29T22:42:25.887Z"
   },
   {
    "duration": 91,
    "start_time": "2021-06-29T22:42:25.903Z"
   },
   {
    "duration": 5,
    "start_time": "2021-06-29T22:42:26.002Z"
   },
   {
    "duration": 8,
    "start_time": "2021-06-29T22:42:26.010Z"
   },
   {
    "duration": 174401,
    "start_time": "2021-06-29T22:42:26.021Z"
   },
   {
    "duration": 23,
    "start_time": "2021-06-29T22:46:58.373Z"
   },
   {
    "duration": 4,
    "start_time": "2021-06-29T22:48:01.244Z"
   },
   {
    "duration": 6,
    "start_time": "2021-06-29T22:48:16.016Z"
   },
   {
    "duration": 7,
    "start_time": "2021-06-29T22:48:51.160Z"
   },
   {
    "duration": 10,
    "start_time": "2021-06-29T22:49:08.396Z"
   },
   {
    "duration": 320,
    "start_time": "2021-06-29T22:49:25.084Z"
   },
   {
    "duration": 412,
    "start_time": "2021-06-29T22:49:41.948Z"
   },
   {
    "duration": 24,
    "start_time": "2021-06-29T22:51:31.024Z"
   },
   {
    "duration": 25,
    "start_time": "2021-06-29T22:51:37.144Z"
   },
   {
    "duration": 30,
    "start_time": "2021-06-29T22:53:07.432Z"
   },
   {
    "duration": 336,
    "start_time": "2021-06-29T22:53:39.408Z"
   },
   {
    "duration": 39,
    "start_time": "2021-06-29T22:54:46.536Z"
   },
   {
    "duration": 40,
    "start_time": "2021-06-29T22:55:00.240Z"
   },
   {
    "duration": 24,
    "start_time": "2021-06-29T22:56:43.624Z"
   },
   {
    "duration": 306,
    "start_time": "2021-06-29T22:57:23.972Z"
   },
   {
    "duration": 491,
    "start_time": "2021-06-29T23:02:58.875Z"
   },
   {
    "duration": 319,
    "start_time": "2021-06-29T23:03:17.383Z"
   },
   {
    "duration": 4,
    "start_time": "2021-06-29T23:03:29.935Z"
   },
   {
    "duration": 119,
    "start_time": "2021-06-29T23:03:48.539Z"
   },
   {
    "duration": 317,
    "start_time": "2021-06-29T23:03:59.195Z"
   },
   {
    "duration": 309,
    "start_time": "2021-06-29T23:05:28.956Z"
   },
   {
    "duration": 1661,
    "start_time": "2021-06-30T06:40:14.882Z"
   },
   {
    "duration": 996,
    "start_time": "2021-06-30T06:40:16.546Z"
   },
   {
    "duration": 24,
    "start_time": "2021-06-30T06:40:17.545Z"
   },
   {
    "duration": 14,
    "start_time": "2021-06-30T06:40:17.572Z"
   },
   {
    "duration": 26,
    "start_time": "2021-06-30T06:40:17.609Z"
   },
   {
    "duration": 5,
    "start_time": "2021-06-30T06:40:17.637Z"
   },
   {
    "duration": 31,
    "start_time": "2021-06-30T06:40:17.644Z"
   },
   {
    "duration": 39,
    "start_time": "2021-06-30T06:40:17.679Z"
   },
   {
    "duration": 7,
    "start_time": "2021-06-30T06:40:17.720Z"
   },
   {
    "duration": 22,
    "start_time": "2021-06-30T06:40:17.729Z"
   },
   {
    "duration": 21,
    "start_time": "2021-06-30T06:40:17.754Z"
   },
   {
    "duration": 32,
    "start_time": "2021-06-30T06:40:17.778Z"
   },
   {
    "duration": 38,
    "start_time": "2021-06-30T06:40:17.812Z"
   },
   {
    "duration": 30,
    "start_time": "2021-06-30T06:40:17.853Z"
   },
   {
    "duration": 34,
    "start_time": "2021-06-30T06:40:17.886Z"
   },
   {
    "duration": 26,
    "start_time": "2021-06-30T06:40:17.922Z"
   },
   {
    "duration": 1084,
    "start_time": "2021-06-30T06:40:17.950Z"
   },
   {
    "duration": 1350,
    "start_time": "2021-06-30T06:40:19.037Z"
   },
   {
    "duration": 1423,
    "start_time": "2021-06-30T06:40:20.390Z"
   },
   {
    "duration": 1361,
    "start_time": "2021-06-30T06:40:21.816Z"
   },
   {
    "duration": 1208,
    "start_time": "2021-06-30T06:40:23.181Z"
   },
   {
    "duration": 32,
    "start_time": "2021-06-30T06:40:24.392Z"
   },
   {
    "duration": 4,
    "start_time": "2021-06-30T06:40:24.431Z"
   },
   {
    "duration": 2171,
    "start_time": "2021-06-30T06:40:24.439Z"
   },
   {
    "duration": 70,
    "start_time": "2021-06-30T06:40:26.612Z"
   },
   {
    "duration": 1686,
    "start_time": "2021-06-30T06:40:26.685Z"
   },
   {
    "duration": 67,
    "start_time": "2021-06-30T06:40:28.374Z"
   },
   {
    "duration": 1584,
    "start_time": "2021-06-30T06:40:28.444Z"
   },
   {
    "duration": 30,
    "start_time": "2021-06-30T06:40:30.031Z"
   },
   {
    "duration": 46,
    "start_time": "2021-06-30T06:40:30.064Z"
   },
   {
    "duration": 6,
    "start_time": "2021-06-30T06:40:30.112Z"
   },
   {
    "duration": 51,
    "start_time": "2021-06-30T06:40:30.121Z"
   },
   {
    "duration": 21,
    "start_time": "2021-06-30T06:40:30.175Z"
   },
   {
    "duration": 73,
    "start_time": "2021-06-30T06:40:30.200Z"
   },
   {
    "duration": 66,
    "start_time": "2021-06-30T06:40:30.275Z"
   },
   {
    "duration": 14,
    "start_time": "2021-06-30T06:40:30.344Z"
   },
   {
    "duration": 12,
    "start_time": "2021-06-30T06:40:30.361Z"
   },
   {
    "duration": 3143,
    "start_time": "2021-06-30T06:40:30.375Z"
   },
   {
    "duration": 4110,
    "start_time": "2021-06-30T06:40:33.608Z"
   },
   {
    "duration": 5,
    "start_time": "2021-06-30T06:40:37.811Z"
   },
   {
    "duration": 93,
    "start_time": "2021-06-30T06:40:37.818Z"
   },
   {
    "duration": 15,
    "start_time": "2021-06-30T06:40:37.914Z"
   },
   {
    "duration": 22,
    "start_time": "2021-06-30T06:40:37.932Z"
   },
   {
    "duration": 202122,
    "start_time": "2021-06-30T06:40:37.957Z"
   },
   {
    "duration": 16,
    "start_time": "2021-06-30T06:44:00.082Z"
   },
   {
    "duration": 4,
    "start_time": "2021-06-30T06:44:00.110Z"
   },
   {
    "duration": 21,
    "start_time": "2021-06-30T06:44:00.116Z"
   },
   {
    "duration": 7,
    "start_time": "2021-06-30T06:44:00.139Z"
   },
   {
    "duration": 10,
    "start_time": "2021-06-30T06:44:00.149Z"
   },
   {
    "duration": 16,
    "start_time": "2021-06-30T06:44:00.162Z"
   },
   {
    "duration": 809,
    "start_time": "2021-06-30T06:44:00.181Z"
   },
   {
    "duration": 1642,
    "start_time": "2021-06-30T06:54:42.681Z"
   },
   {
    "duration": 887,
    "start_time": "2021-06-30T06:54:44.326Z"
   },
   {
    "duration": 22,
    "start_time": "2021-06-30T06:54:45.216Z"
   },
   {
    "duration": 16,
    "start_time": "2021-06-30T06:54:45.241Z"
   },
   {
    "duration": 54,
    "start_time": "2021-06-30T06:54:45.259Z"
   },
   {
    "duration": 5,
    "start_time": "2021-06-30T06:54:45.315Z"
   },
   {
    "duration": 26,
    "start_time": "2021-06-30T06:54:45.322Z"
   },
   {
    "duration": 23,
    "start_time": "2021-06-30T06:54:45.352Z"
   },
   {
    "duration": 30,
    "start_time": "2021-06-30T06:54:45.378Z"
   },
   {
    "duration": 6,
    "start_time": "2021-06-30T06:54:45.411Z"
   },
   {
    "duration": 13,
    "start_time": "2021-06-30T06:54:45.419Z"
   },
   {
    "duration": 14,
    "start_time": "2021-06-30T06:54:45.434Z"
   },
   {
    "duration": 21,
    "start_time": "2021-06-30T06:54:45.450Z"
   },
   {
    "duration": 526,
    "start_time": "2021-06-30T06:54:45.474Z"
   },
   {
    "duration": -114,
    "start_time": "2021-06-30T06:54:46.118Z"
   },
   {
    "duration": -116,
    "start_time": "2021-06-30T06:54:46.121Z"
   },
   {
    "duration": -117,
    "start_time": "2021-06-30T06:54:46.124Z"
   },
   {
    "duration": -121,
    "start_time": "2021-06-30T06:54:46.129Z"
   },
   {
    "duration": -121,
    "start_time": "2021-06-30T06:54:46.131Z"
   },
   {
    "duration": -122,
    "start_time": "2021-06-30T06:54:46.133Z"
   },
   {
    "duration": -122,
    "start_time": "2021-06-30T06:54:46.135Z"
   },
   {
    "duration": -123,
    "start_time": "2021-06-30T06:54:46.138Z"
   },
   {
    "duration": -124,
    "start_time": "2021-06-30T06:54:46.140Z"
   },
   {
    "duration": -125,
    "start_time": "2021-06-30T06:54:46.143Z"
   },
   {
    "duration": -125,
    "start_time": "2021-06-30T06:54:46.145Z"
   },
   {
    "duration": -127,
    "start_time": "2021-06-30T06:54:46.148Z"
   },
   {
    "duration": -127,
    "start_time": "2021-06-30T06:54:46.150Z"
   },
   {
    "duration": -129,
    "start_time": "2021-06-30T06:54:46.153Z"
   },
   {
    "duration": -135,
    "start_time": "2021-06-30T06:54:46.161Z"
   },
   {
    "duration": -142,
    "start_time": "2021-06-30T06:54:46.169Z"
   },
   {
    "duration": -143,
    "start_time": "2021-06-30T06:54:46.172Z"
   },
   {
    "duration": -145,
    "start_time": "2021-06-30T06:54:46.175Z"
   },
   {
    "duration": -148,
    "start_time": "2021-06-30T06:54:46.179Z"
   },
   {
    "duration": -157,
    "start_time": "2021-06-30T06:54:46.190Z"
   },
   {
    "duration": -160,
    "start_time": "2021-06-30T06:54:46.194Z"
   },
   {
    "duration": -162,
    "start_time": "2021-06-30T06:54:46.198Z"
   },
   {
    "duration": -173,
    "start_time": "2021-06-30T06:54:46.210Z"
   },
   {
    "duration": -176,
    "start_time": "2021-06-30T06:54:46.214Z"
   },
   {
    "duration": -187,
    "start_time": "2021-06-30T06:54:46.227Z"
   },
   {
    "duration": -190,
    "start_time": "2021-06-30T06:54:46.231Z"
   },
   {
    "duration": -201,
    "start_time": "2021-06-30T06:54:46.244Z"
   },
   {
    "duration": -204,
    "start_time": "2021-06-30T06:54:46.248Z"
   },
   {
    "duration": -214,
    "start_time": "2021-06-30T06:54:46.260Z"
   },
   {
    "duration": -218,
    "start_time": "2021-06-30T06:54:46.265Z"
   },
   {
    "duration": -229,
    "start_time": "2021-06-30T06:54:46.278Z"
   },
   {
    "duration": -231,
    "start_time": "2021-06-30T06:54:46.281Z"
   },
   {
    "duration": -181,
    "start_time": "2021-06-30T06:54:46.293Z"
   },
   {
    "duration": -183,
    "start_time": "2021-06-30T06:54:46.297Z"
   },
   {
    "duration": -194,
    "start_time": "2021-06-30T06:54:46.309Z"
   },
   {
    "duration": -196,
    "start_time": "2021-06-30T06:54:46.313Z"
   },
   {
    "duration": -206,
    "start_time": "2021-06-30T06:54:46.325Z"
   },
   {
    "duration": -210,
    "start_time": "2021-06-30T06:54:46.330Z"
   },
   {
    "duration": -224,
    "start_time": "2021-06-30T06:54:46.346Z"
   },
   {
    "duration": -227,
    "start_time": "2021-06-30T06:54:46.350Z"
   },
   {
    "duration": -228,
    "start_time": "2021-06-30T06:54:46.353Z"
   },
   {
    "duration": -230,
    "start_time": "2021-06-30T06:54:46.356Z"
   },
   {
    "duration": -232,
    "start_time": "2021-06-30T06:54:46.359Z"
   },
   {
    "duration": -234,
    "start_time": "2021-06-30T06:54:46.363Z"
   },
   {
    "duration": -238,
    "start_time": "2021-06-30T06:54:46.368Z"
   },
   {
    "duration": 399,
    "start_time": "2021-06-30T06:55:21.301Z"
   },
   {
    "duration": 2143,
    "start_time": "2021-06-30T06:58:26.325Z"
   },
   {
    "duration": -89,
    "start_time": "2021-06-30T06:58:28.565Z"
   },
   {
    "duration": -94,
    "start_time": "2021-06-30T06:58:28.572Z"
   },
   {
    "duration": -96,
    "start_time": "2021-06-30T06:58:28.576Z"
   },
   {
    "duration": -96,
    "start_time": "2021-06-30T06:58:28.578Z"
   },
   {
    "duration": -97,
    "start_time": "2021-06-30T06:58:28.581Z"
   },
   {
    "duration": -99,
    "start_time": "2021-06-30T06:58:28.585Z"
   },
   {
    "duration": -100,
    "start_time": "2021-06-30T06:58:28.588Z"
   },
   {
    "duration": -100,
    "start_time": "2021-06-30T06:58:28.590Z"
   },
   {
    "duration": -101,
    "start_time": "2021-06-30T06:58:28.593Z"
   },
   {
    "duration": -101,
    "start_time": "2021-06-30T06:58:28.595Z"
   },
   {
    "duration": -101,
    "start_time": "2021-06-30T06:58:28.597Z"
   },
   {
    "duration": -103,
    "start_time": "2021-06-30T06:58:28.600Z"
   },
   {
    "duration": -104,
    "start_time": "2021-06-30T06:58:28.603Z"
   },
   {
    "duration": -105,
    "start_time": "2021-06-30T06:58:28.605Z"
   },
   {
    "duration": -106,
    "start_time": "2021-06-30T06:58:28.607Z"
   },
   {
    "duration": -107,
    "start_time": "2021-06-30T06:58:28.610Z"
   },
   {
    "duration": -108,
    "start_time": "2021-06-30T06:58:28.612Z"
   },
   {
    "duration": -110,
    "start_time": "2021-06-30T06:58:28.615Z"
   },
   {
    "duration": -111,
    "start_time": "2021-06-30T06:58:28.618Z"
   },
   {
    "duration": -112,
    "start_time": "2021-06-30T06:58:28.620Z"
   },
   {
    "duration": -113,
    "start_time": "2021-06-30T06:58:28.623Z"
   },
   {
    "duration": -114,
    "start_time": "2021-06-30T06:58:28.626Z"
   },
   {
    "duration": -114,
    "start_time": "2021-06-30T06:58:28.628Z"
   },
   {
    "duration": -116,
    "start_time": "2021-06-30T06:58:28.631Z"
   },
   {
    "duration": -117,
    "start_time": "2021-06-30T06:58:28.634Z"
   },
   {
    "duration": -117,
    "start_time": "2021-06-30T06:58:28.636Z"
   },
   {
    "duration": -116,
    "start_time": "2021-06-30T06:58:28.638Z"
   },
   {
    "duration": -117,
    "start_time": "2021-06-30T06:58:28.640Z"
   },
   {
    "duration": -118,
    "start_time": "2021-06-30T06:58:28.643Z"
   },
   {
    "duration": -118,
    "start_time": "2021-06-30T06:58:28.645Z"
   },
   {
    "duration": -118,
    "start_time": "2021-06-30T06:58:28.647Z"
   },
   {
    "duration": -118,
    "start_time": "2021-06-30T06:58:28.649Z"
   },
   {
    "duration": -119,
    "start_time": "2021-06-30T06:58:28.652Z"
   },
   {
    "duration": -121,
    "start_time": "2021-06-30T06:58:28.655Z"
   },
   {
    "duration": -121,
    "start_time": "2021-06-30T06:58:28.657Z"
   },
   {
    "duration": -122,
    "start_time": "2021-06-30T06:58:28.660Z"
   },
   {
    "duration": -122,
    "start_time": "2021-06-30T06:58:28.662Z"
   },
   {
    "duration": -131,
    "start_time": "2021-06-30T06:58:28.673Z"
   },
   {
    "duration": -132,
    "start_time": "2021-06-30T06:58:28.676Z"
   },
   {
    "duration": -132,
    "start_time": "2021-06-30T06:58:28.678Z"
   },
   {
    "duration": -133,
    "start_time": "2021-06-30T06:58:28.681Z"
   },
   {
    "duration": -135,
    "start_time": "2021-06-30T06:58:28.684Z"
   },
   {
    "duration": -135,
    "start_time": "2021-06-30T06:58:28.686Z"
   },
   {
    "duration": -80,
    "start_time": "2021-06-30T06:58:28.689Z"
   },
   {
    "duration": -80,
    "start_time": "2021-06-30T06:58:28.691Z"
   },
   {
    "duration": -80,
    "start_time": "2021-06-30T06:58:28.693Z"
   },
   {
    "duration": -81,
    "start_time": "2021-06-30T06:58:28.696Z"
   },
   {
    "duration": -82,
    "start_time": "2021-06-30T06:58:28.698Z"
   },
   {
    "duration": -82,
    "start_time": "2021-06-30T06:58:28.701Z"
   },
   {
    "duration": -83,
    "start_time": "2021-06-30T06:58:28.704Z"
   },
   {
    "duration": -83,
    "start_time": "2021-06-30T06:58:28.706Z"
   },
   {
    "duration": -83,
    "start_time": "2021-06-30T06:58:28.708Z"
   },
   {
    "duration": -85,
    "start_time": "2021-06-30T06:58:28.711Z"
   },
   {
    "duration": -84,
    "start_time": "2021-06-30T06:58:28.713Z"
   },
   {
    "duration": -86,
    "start_time": "2021-06-30T06:58:28.716Z"
   },
   {
    "duration": -86,
    "start_time": "2021-06-30T06:58:28.718Z"
   },
   {
    "duration": -85,
    "start_time": "2021-06-30T06:58:28.720Z"
   },
   {
    "duration": -87,
    "start_time": "2021-06-30T06:58:28.723Z"
   },
   {
    "duration": 2040,
    "start_time": "2021-06-30T06:59:25.001Z"
   },
   {
    "duration": 1349,
    "start_time": "2021-06-30T06:59:27.044Z"
   },
   {
    "duration": 37,
    "start_time": "2021-06-30T06:59:28.396Z"
   },
   {
    "duration": 20,
    "start_time": "2021-06-30T06:59:28.436Z"
   },
   {
    "duration": 53,
    "start_time": "2021-06-30T06:59:28.459Z"
   },
   {
    "duration": 5,
    "start_time": "2021-06-30T06:59:28.515Z"
   },
   {
    "duration": 35,
    "start_time": "2021-06-30T06:59:28.522Z"
   },
   {
    "duration": 22,
    "start_time": "2021-06-30T06:59:28.561Z"
   },
   {
    "duration": 26,
    "start_time": "2021-06-30T06:59:28.587Z"
   },
   {
    "duration": 9,
    "start_time": "2021-06-30T06:59:28.616Z"
   },
   {
    "duration": 13,
    "start_time": "2021-06-30T06:59:28.627Z"
   },
   {
    "duration": 8,
    "start_time": "2021-06-30T06:59:28.643Z"
   },
   {
    "duration": 82,
    "start_time": "2021-06-30T06:59:28.654Z"
   },
   {
    "duration": 26,
    "start_time": "2021-06-30T06:59:28.738Z"
   },
   {
    "duration": 49,
    "start_time": "2021-06-30T06:59:28.766Z"
   },
   {
    "duration": 26,
    "start_time": "2021-06-30T06:59:28.817Z"
   },
   {
    "duration": 1049,
    "start_time": "2021-06-30T06:59:28.845Z"
   },
   {
    "duration": 1039,
    "start_time": "2021-06-30T06:59:29.896Z"
   },
   {
    "duration": 1090,
    "start_time": "2021-06-30T06:59:30.937Z"
   },
   {
    "duration": 1000,
    "start_time": "2021-06-30T06:59:32.029Z"
   },
   {
    "duration": 890,
    "start_time": "2021-06-30T06:59:33.032Z"
   },
   {
    "duration": 19,
    "start_time": "2021-06-30T06:59:33.924Z"
   },
   {
    "duration": 8,
    "start_time": "2021-06-30T06:59:33.948Z"
   },
   {
    "duration": 1549,
    "start_time": "2021-06-30T06:59:33.960Z"
   },
   {
    "duration": 73,
    "start_time": "2021-06-30T06:59:35.512Z"
   },
   {
    "duration": 1765,
    "start_time": "2021-06-30T06:59:35.588Z"
   },
   {
    "duration": 75,
    "start_time": "2021-06-30T06:59:37.355Z"
   },
   {
    "duration": 1526,
    "start_time": "2021-06-30T06:59:37.433Z"
   },
   {
    "duration": 29,
    "start_time": "2021-06-30T06:59:38.962Z"
   },
   {
    "duration": 20,
    "start_time": "2021-06-30T06:59:39.009Z"
   },
   {
    "duration": 7,
    "start_time": "2021-06-30T06:59:39.031Z"
   },
   {
    "duration": 17,
    "start_time": "2021-06-30T06:59:39.041Z"
   },
   {
    "duration": 48,
    "start_time": "2021-06-30T06:59:39.061Z"
   },
   {
    "duration": 16,
    "start_time": "2021-06-30T06:59:39.112Z"
   },
   {
    "duration": 16,
    "start_time": "2021-06-30T06:59:39.131Z"
   },
   {
    "duration": 9,
    "start_time": "2021-06-30T06:59:39.150Z"
   },
   {
    "duration": 6,
    "start_time": "2021-06-30T06:59:39.161Z"
   },
   {
    "duration": 3143,
    "start_time": "2021-06-30T06:59:39.169Z"
   },
   {
    "duration": 3495,
    "start_time": "2021-06-30T06:59:42.315Z"
   },
   {
    "duration": 3,
    "start_time": "2021-06-30T06:59:45.813Z"
   },
   {
    "duration": 10,
    "start_time": "2021-06-30T06:59:45.819Z"
   },
   {
    "duration": 77,
    "start_time": "2021-06-30T06:59:45.832Z"
   },
   {
    "duration": 8,
    "start_time": "2021-06-30T06:59:45.912Z"
   },
   {
    "duration": 517,
    "start_time": "2021-06-30T07:03:13.425Z"
   },
   {
    "duration": 146,
    "start_time": "2021-06-30T07:03:13.799Z"
   },
   {
    "duration": 144,
    "start_time": "2021-06-30T07:03:13.802Z"
   },
   {
    "duration": 140,
    "start_time": "2021-06-30T07:03:13.807Z"
   },
   {
    "duration": 138,
    "start_time": "2021-06-30T07:03:13.811Z"
   },
   {
    "duration": 136,
    "start_time": "2021-06-30T07:03:13.814Z"
   },
   {
    "duration": 133,
    "start_time": "2021-06-30T07:03:13.818Z"
   },
   {
    "duration": 129,
    "start_time": "2021-06-30T07:03:13.823Z"
   },
   {
    "duration": 114,
    "start_time": "2021-06-30T07:04:00.740Z"
   },
   {
    "duration": 3,
    "start_time": "2021-06-30T07:04:54.116Z"
   },
   {
    "duration": 3,
    "start_time": "2021-06-30T07:04:55.092Z"
   },
   {
    "duration": 6,
    "start_time": "2021-06-30T07:05:01.088Z"
   },
   {
    "duration": 3994,
    "start_time": "2021-06-30T07:05:01.816Z"
   },
   {
    "duration": 4009,
    "start_time": "2021-06-30T07:05:05.813Z"
   },
   {
    "duration": 246,
    "start_time": "2021-06-30T07:05:31.864Z"
   },
   {
    "duration": 13,
    "start_time": "2021-06-30T07:06:03.088Z"
   },
   {
    "duration": 52873,
    "start_time": "2021-06-30T07:06:14.936Z"
   },
   {
    "duration": 969681,
    "start_time": "2021-06-30T07:08:35.416Z"
   },
   {
    "duration": 11,
    "start_time": "2021-06-30T07:24:45.101Z"
   },
   {
    "duration": 72769,
    "start_time": "2021-06-30T07:24:45.115Z"
   },
   {
    "duration": 14,
    "start_time": "2021-06-30T07:28:37.638Z"
   },
   {
    "duration": 13,
    "start_time": "2021-06-30T07:30:23.763Z"
   },
   {
    "duration": 13,
    "start_time": "2021-06-30T07:30:36.286Z"
   },
   {
    "duration": 4602311,
    "start_time": "2021-06-30T07:53:50.517Z"
   },
   {
    "duration": 1657,
    "start_time": "2021-06-30T10:40:40.098Z"
   },
   {
    "duration": 1063,
    "start_time": "2021-06-30T10:40:41.758Z"
   },
   {
    "duration": 23,
    "start_time": "2021-06-30T10:40:42.824Z"
   },
   {
    "duration": 16,
    "start_time": "2021-06-30T10:40:42.850Z"
   },
   {
    "duration": 61,
    "start_time": "2021-06-30T10:40:42.869Z"
   },
   {
    "duration": 4,
    "start_time": "2021-06-30T10:40:42.933Z"
   },
   {
    "duration": 27,
    "start_time": "2021-06-30T10:40:42.940Z"
   },
   {
    "duration": 51,
    "start_time": "2021-06-30T10:40:42.971Z"
   },
   {
    "duration": 7,
    "start_time": "2021-06-30T10:40:43.025Z"
   },
   {
    "duration": 9,
    "start_time": "2021-06-30T10:40:43.034Z"
   },
   {
    "duration": 23,
    "start_time": "2021-06-30T10:40:43.046Z"
   },
   {
    "duration": 12,
    "start_time": "2021-06-30T10:40:43.072Z"
   },
   {
    "duration": 53,
    "start_time": "2021-06-30T10:40:43.086Z"
   },
   {
    "duration": 27,
    "start_time": "2021-06-30T10:40:43.142Z"
   },
   {
    "duration": 42,
    "start_time": "2021-06-30T10:40:43.172Z"
   },
   {
    "duration": 21,
    "start_time": "2021-06-30T10:40:43.217Z"
   },
   {
    "duration": 1076,
    "start_time": "2021-06-30T10:40:43.242Z"
   },
   {
    "duration": 1008,
    "start_time": "2021-06-30T10:40:44.320Z"
   },
   {
    "duration": 1073,
    "start_time": "2021-06-30T10:40:45.330Z"
   },
   {
    "duration": 1003,
    "start_time": "2021-06-30T10:40:46.408Z"
   },
   {
    "duration": 854,
    "start_time": "2021-06-30T10:40:47.414Z"
   },
   {
    "duration": 18,
    "start_time": "2021-06-30T10:40:48.270Z"
   },
   {
    "duration": 3,
    "start_time": "2021-06-30T10:40:48.310Z"
   },
   {
    "duration": 1504,
    "start_time": "2021-06-30T10:40:48.316Z"
   },
   {
    "duration": 68,
    "start_time": "2021-06-30T10:40:49.822Z"
   },
   {
    "duration": 1761,
    "start_time": "2021-06-30T10:40:49.892Z"
   },
   {
    "duration": 70,
    "start_time": "2021-06-30T10:40:51.655Z"
   },
   {
    "duration": 1539,
    "start_time": "2021-06-30T10:40:51.727Z"
   },
   {
    "duration": 3,
    "start_time": "2021-06-30T10:40:53.268Z"
   },
   {
    "duration": 11,
    "start_time": "2021-06-30T10:40:53.273Z"
   },
   {
    "duration": 26,
    "start_time": "2021-06-30T10:40:53.286Z"
   },
   {
    "duration": 17,
    "start_time": "2021-06-30T10:40:53.314Z"
   },
   {
    "duration": 6,
    "start_time": "2021-06-30T10:40:53.334Z"
   },
   {
    "duration": 14,
    "start_time": "2021-06-30T10:40:53.342Z"
   },
   {
    "duration": 12,
    "start_time": "2021-06-30T10:40:53.358Z"
   },
   {
    "duration": 36,
    "start_time": "2021-06-30T10:40:53.373Z"
   },
   {
    "duration": 28,
    "start_time": "2021-06-30T10:40:53.411Z"
   },
   {
    "duration": 10,
    "start_time": "2021-06-30T10:40:53.441Z"
   },
   {
    "duration": 3467,
    "start_time": "2021-06-30T10:40:53.454Z"
   },
   {
    "duration": 3688,
    "start_time": "2021-06-30T10:40:56.924Z"
   },
   {
    "duration": 48595,
    "start_time": "2021-06-30T10:41:00.615Z"
   },
   {
    "duration": 955273,
    "start_time": "2021-06-30T10:41:49.214Z"
   },
   {
    "duration": 8,
    "start_time": "2021-06-30T10:57:44.489Z"
   },
   {
    "duration": 1403,
    "start_time": "2021-06-30T10:57:44.510Z"
   },
   {
    "duration": 13,
    "start_time": "2021-06-30T10:57:45.915Z"
   },
   {
    "duration": 1653,
    "start_time": "2021-06-30T10:59:52.344Z"
   },
   {
    "duration": 937,
    "start_time": "2021-06-30T10:59:53.999Z"
   },
   {
    "duration": 24,
    "start_time": "2021-06-30T10:59:54.942Z"
   },
   {
    "duration": 41,
    "start_time": "2021-06-30T10:59:54.968Z"
   },
   {
    "duration": 24,
    "start_time": "2021-06-30T10:59:55.012Z"
   },
   {
    "duration": 6,
    "start_time": "2021-06-30T10:59:55.038Z"
   },
   {
    "duration": 26,
    "start_time": "2021-06-30T10:59:55.048Z"
   },
   {
    "duration": 43,
    "start_time": "2021-06-30T10:59:55.077Z"
   },
   {
    "duration": 7,
    "start_time": "2021-06-30T10:59:55.122Z"
   },
   {
    "duration": 12,
    "start_time": "2021-06-30T10:59:55.132Z"
   },
   {
    "duration": 12,
    "start_time": "2021-06-30T10:59:55.147Z"
   },
   {
    "duration": 13,
    "start_time": "2021-06-30T10:59:55.162Z"
   },
   {
    "duration": 32,
    "start_time": "2021-06-30T10:59:55.210Z"
   },
   {
    "duration": 36,
    "start_time": "2021-06-30T10:59:55.244Z"
   },
   {
    "duration": 43,
    "start_time": "2021-06-30T10:59:55.282Z"
   },
   {
    "duration": 22,
    "start_time": "2021-06-30T10:59:55.328Z"
   },
   {
    "duration": 1050,
    "start_time": "2021-06-30T10:59:55.352Z"
   },
   {
    "duration": 1004,
    "start_time": "2021-06-30T10:59:56.404Z"
   },
   {
    "duration": 1049,
    "start_time": "2021-06-30T10:59:57.411Z"
   },
   {
    "duration": 984,
    "start_time": "2021-06-30T10:59:58.462Z"
   },
   {
    "duration": 898,
    "start_time": "2021-06-30T10:59:59.448Z"
   },
   {
    "duration": 19,
    "start_time": "2021-06-30T11:00:00.352Z"
   },
   {
    "duration": 14,
    "start_time": "2021-06-30T11:00:00.374Z"
   },
   {
    "duration": 1651,
    "start_time": "2021-06-30T11:00:00.390Z"
   },
   {
    "duration": 3,
    "start_time": "2021-06-30T11:00:02.044Z"
   },
   {
    "duration": 1691,
    "start_time": "2021-06-30T11:00:02.050Z"
   },
   {
    "duration": 3,
    "start_time": "2021-06-30T11:00:03.744Z"
   },
   {
    "duration": 1600,
    "start_time": "2021-06-30T11:00:03.749Z"
   },
   {
    "duration": 244,
    "start_time": "2021-06-30T11:00:05.351Z"
   },
   {
    "duration": -1124,
    "start_time": "2021-06-30T11:00:06.721Z"
   },
   {
    "duration": -1126,
    "start_time": "2021-06-30T11:00:06.725Z"
   },
   {
    "duration": -1127,
    "start_time": "2021-06-30T11:00:06.727Z"
   },
   {
    "duration": -1129,
    "start_time": "2021-06-30T11:00:06.730Z"
   },
   {
    "duration": -1130,
    "start_time": "2021-06-30T11:00:06.733Z"
   },
   {
    "duration": -1131,
    "start_time": "2021-06-30T11:00:06.735Z"
   },
   {
    "duration": -1132,
    "start_time": "2021-06-30T11:00:06.737Z"
   },
   {
    "duration": -1135,
    "start_time": "2021-06-30T11:00:06.741Z"
   },
   {
    "duration": -1135,
    "start_time": "2021-06-30T11:00:06.743Z"
   },
   {
    "duration": -1136,
    "start_time": "2021-06-30T11:00:06.745Z"
   },
   {
    "duration": -1137,
    "start_time": "2021-06-30T11:00:06.747Z"
   },
   {
    "duration": -1137,
    "start_time": "2021-06-30T11:00:06.749Z"
   },
   {
    "duration": -1139,
    "start_time": "2021-06-30T11:00:06.752Z"
   },
   {
    "duration": -1140,
    "start_time": "2021-06-30T11:00:06.754Z"
   },
   {
    "duration": -1142,
    "start_time": "2021-06-30T11:00:06.757Z"
   },
   {
    "duration": -1163,
    "start_time": "2021-06-30T11:00:06.779Z"
   },
   {
    "duration": 42,
    "start_time": "2021-06-30T11:00:36.985Z"
   },
   {
    "duration": 21,
    "start_time": "2021-06-30T11:00:42.695Z"
   },
   {
    "duration": 5,
    "start_time": "2021-06-30T11:00:42.992Z"
   },
   {
    "duration": 15,
    "start_time": "2021-06-30T11:00:44.590Z"
   },
   {
    "duration": 4,
    "start_time": "2021-06-30T11:00:50.002Z"
   },
   {
    "duration": 12,
    "start_time": "2021-06-30T11:00:50.714Z"
   },
   {
    "duration": 7,
    "start_time": "2021-06-30T11:00:51.964Z"
   },
   {
    "duration": 5,
    "start_time": "2021-06-30T11:00:57.986Z"
   },
   {
    "duration": 4185,
    "start_time": "2021-06-30T11:00:58.435Z"
   },
   {
    "duration": 3848,
    "start_time": "2021-06-30T11:01:02.762Z"
   },
   {
    "duration": 52592,
    "start_time": "2021-06-30T11:01:14.119Z"
   },
   {
    "duration": 1197398,
    "start_time": "2021-06-30T11:02:06.722Z"
   },
   {
    "duration": 6,
    "start_time": "2021-06-30T11:22:04.124Z"
   },
   {
    "duration": 78240,
    "start_time": "2021-06-30T11:22:04.132Z"
   },
   {
    "duration": 17,
    "start_time": "2021-06-30T11:23:22.375Z"
   },
   {
    "duration": 115,
    "start_time": "2021-06-30T11:52:16.982Z"
   },
   {
    "duration": 1621,
    "start_time": "2021-06-30T12:17:36.651Z"
   },
   {
    "duration": 1004,
    "start_time": "2021-06-30T12:17:38.274Z"
   },
   {
    "duration": 37,
    "start_time": "2021-06-30T12:17:39.281Z"
   },
   {
    "duration": 18,
    "start_time": "2021-06-30T12:17:39.321Z"
   },
   {
    "duration": 30,
    "start_time": "2021-06-30T12:17:39.341Z"
   },
   {
    "duration": 4,
    "start_time": "2021-06-30T12:17:39.374Z"
   },
   {
    "duration": 46,
    "start_time": "2021-06-30T12:17:39.380Z"
   },
   {
    "duration": 21,
    "start_time": "2021-06-30T12:17:39.430Z"
   },
   {
    "duration": 7,
    "start_time": "2021-06-30T12:17:39.454Z"
   },
   {
    "duration": 48,
    "start_time": "2021-06-30T12:17:39.463Z"
   },
   {
    "duration": 17,
    "start_time": "2021-06-30T12:17:39.513Z"
   },
   {
    "duration": 11,
    "start_time": "2021-06-30T12:17:39.532Z"
   },
   {
    "duration": 65,
    "start_time": "2021-06-30T12:17:39.546Z"
   },
   {
    "duration": 29,
    "start_time": "2021-06-30T12:17:39.613Z"
   },
   {
    "duration": 29,
    "start_time": "2021-06-30T12:17:39.645Z"
   },
   {
    "duration": 49,
    "start_time": "2021-06-30T12:17:39.678Z"
   },
   {
    "duration": 25,
    "start_time": "2021-06-30T12:17:39.730Z"
   },
   {
    "duration": 1084,
    "start_time": "2021-06-30T12:17:39.757Z"
   },
   {
    "duration": 1003,
    "start_time": "2021-06-30T12:17:40.844Z"
   },
   {
    "duration": 1247,
    "start_time": "2021-06-30T12:17:41.850Z"
   },
   {
    "duration": 1004,
    "start_time": "2021-06-30T12:17:43.100Z"
   },
   {
    "duration": 895,
    "start_time": "2021-06-30T12:17:44.110Z"
   },
   {
    "duration": 19,
    "start_time": "2021-06-30T12:17:45.014Z"
   },
   {
    "duration": 8,
    "start_time": "2021-06-30T12:17:45.037Z"
   },
   {
    "duration": 1761,
    "start_time": "2021-06-30T12:17:45.048Z"
   },
   {
    "duration": 72,
    "start_time": "2021-06-30T12:17:46.813Z"
   },
   {
    "duration": 1672,
    "start_time": "2021-06-30T12:17:46.888Z"
   },
   {
    "duration": 68,
    "start_time": "2021-06-30T12:17:48.562Z"
   },
   {
    "duration": 2319,
    "start_time": "2021-06-30T12:17:48.632Z"
   },
   {
    "duration": 7,
    "start_time": "2021-06-30T12:17:50.954Z"
   },
   {
    "duration": 26,
    "start_time": "2021-06-30T12:17:50.964Z"
   },
   {
    "duration": 621,
    "start_time": "2021-06-30T12:17:50.993Z"
   },
   {
    "duration": 545,
    "start_time": "2021-06-30T12:17:51.072Z"
   },
   {
    "duration": 538,
    "start_time": "2021-06-30T12:17:51.080Z"
   },
   {
    "duration": 531,
    "start_time": "2021-06-30T12:17:51.089Z"
   },
   {
    "duration": 525,
    "start_time": "2021-06-30T12:17:51.097Z"
   },
   {
    "duration": 515,
    "start_time": "2021-06-30T12:17:51.109Z"
   },
   {
    "duration": 510,
    "start_time": "2021-06-30T12:17:51.116Z"
   },
   {
    "duration": 508,
    "start_time": "2021-06-30T12:17:51.120Z"
   },
   {
    "duration": 505,
    "start_time": "2021-06-30T12:17:51.125Z"
   },
   {
    "duration": 502,
    "start_time": "2021-06-30T12:17:51.130Z"
   },
   {
    "duration": 498,
    "start_time": "2021-06-30T12:17:51.135Z"
   },
   {
    "duration": 494,
    "start_time": "2021-06-30T12:17:51.141Z"
   },
   {
    "duration": 492,
    "start_time": "2021-06-30T12:17:51.145Z"
   },
   {
    "duration": 489,
    "start_time": "2021-06-30T12:17:51.150Z"
   },
   {
    "duration": 487,
    "start_time": "2021-06-30T12:17:51.154Z"
   },
   {
    "duration": 482,
    "start_time": "2021-06-30T12:17:51.160Z"
   },
   {
    "duration": 15,
    "start_time": "2021-06-30T12:20:41.405Z"
   },
   {
    "duration": 18,
    "start_time": "2021-06-30T12:20:52.407Z"
   },
   {
    "duration": 8,
    "start_time": "2021-06-30T12:22:06.089Z"
   },
   {
    "duration": 16,
    "start_time": "2021-06-30T12:22:10.582Z"
   },
   {
    "duration": 8,
    "start_time": "2021-06-30T12:22:20.663Z"
   },
   {
    "duration": 332,
    "start_time": "2021-06-30T12:22:22.108Z"
   },
   {
    "duration": 390,
    "start_time": "2021-06-30T12:23:03.877Z"
   },
   {
    "duration": 8,
    "start_time": "2021-06-30T12:23:21.199Z"
   },
   {
    "duration": 15,
    "start_time": "2021-06-30T12:24:03.188Z"
   },
   {
    "duration": 4,
    "start_time": "2021-06-30T12:24:05.890Z"
   },
   {
    "duration": 9,
    "start_time": "2021-06-30T12:24:06.106Z"
   },
   {
    "duration": 7,
    "start_time": "2021-06-30T12:24:11.005Z"
   },
   {
    "duration": 3749,
    "start_time": "2021-06-30T12:24:12.963Z"
   },
   {
    "duration": 56073,
    "start_time": "2021-06-30T12:24:17.845Z"
   },
   {
    "duration": 1135893,
    "start_time": "2021-06-30T12:25:13.921Z"
   },
   {
    "duration": 274,
    "start_time": "2021-06-30T12:44:28.156Z"
   },
   {
    "duration": 7,
    "start_time": "2021-06-30T12:44:40.139Z"
   },
   {
    "duration": 298,
    "start_time": "2021-06-30T12:44:40.933Z"
   },
   {
    "duration": 476,
    "start_time": "2021-06-30T12:44:49.367Z"
   },
   {
    "duration": 344,
    "start_time": "2021-06-30T12:48:20.297Z"
   },
   {
    "duration": 283,
    "start_time": "2021-06-30T12:48:33.970Z"
   },
   {
    "duration": 21,
    "start_time": "2021-06-30T12:49:57.358Z"
   },
   {
    "duration": 6,
    "start_time": "2021-06-30T12:49:58.771Z"
   },
   {
    "duration": 16,
    "start_time": "2021-06-30T12:50:00.287Z"
   },
   {
    "duration": 4,
    "start_time": "2021-06-30T12:50:01.620Z"
   },
   {
    "duration": 9,
    "start_time": "2021-06-30T12:50:02.841Z"
   },
   {
    "duration": 9,
    "start_time": "2021-06-30T12:50:06.265Z"
   },
   {
    "duration": 3721,
    "start_time": "2021-06-30T12:50:07.489Z"
   },
   {
    "duration": 49297,
    "start_time": "2021-06-30T12:50:11.213Z"
   },
   {
    "duration": 7,
    "start_time": "2021-06-30T12:51:00.513Z"
   },
   {
    "duration": 315,
    "start_time": "2021-06-30T12:51:00.523Z"
   },
   {
    "duration": 407,
    "start_time": "2021-06-30T12:51:00.841Z"
   },
   {
    "duration": 1739,
    "start_time": "2021-06-30T12:55:15.481Z"
   },
   {
    "duration": 940,
    "start_time": "2021-06-30T12:55:17.223Z"
   },
   {
    "duration": 23,
    "start_time": "2021-06-30T12:55:18.167Z"
   },
   {
    "duration": 28,
    "start_time": "2021-06-30T12:55:18.192Z"
   },
   {
    "duration": 24,
    "start_time": "2021-06-30T12:55:18.222Z"
   },
   {
    "duration": 5,
    "start_time": "2021-06-30T12:55:18.248Z"
   },
   {
    "duration": 53,
    "start_time": "2021-06-30T12:55:18.256Z"
   },
   {
    "duration": 24,
    "start_time": "2021-06-30T12:55:18.313Z"
   },
   {
    "duration": 6,
    "start_time": "2021-06-30T12:55:18.340Z"
   },
   {
    "duration": 12,
    "start_time": "2021-06-30T12:55:18.348Z"
   },
   {
    "duration": 12,
    "start_time": "2021-06-30T12:55:18.362Z"
   },
   {
    "duration": 35,
    "start_time": "2021-06-30T12:55:18.376Z"
   },
   {
    "duration": 39,
    "start_time": "2021-06-30T12:55:18.413Z"
   },
   {
    "duration": 54,
    "start_time": "2021-06-30T12:55:18.455Z"
   },
   {
    "duration": 24,
    "start_time": "2021-06-30T12:55:18.512Z"
   },
   {
    "duration": 25,
    "start_time": "2021-06-30T12:55:18.539Z"
   },
   {
    "duration": 1061,
    "start_time": "2021-06-30T12:55:18.566Z"
   },
   {
    "duration": 1005,
    "start_time": "2021-06-30T12:55:19.631Z"
   },
   {
    "duration": 1086,
    "start_time": "2021-06-30T12:55:20.639Z"
   },
   {
    "duration": 1001,
    "start_time": "2021-06-30T12:55:21.728Z"
   },
   {
    "duration": 913,
    "start_time": "2021-06-30T12:55:22.733Z"
   },
   {
    "duration": 19,
    "start_time": "2021-06-30T12:55:23.649Z"
   },
   {
    "duration": 3,
    "start_time": "2021-06-30T12:55:23.673Z"
   },
   {
    "duration": 1557,
    "start_time": "2021-06-30T12:55:23.679Z"
   },
   {
    "duration": 85,
    "start_time": "2021-06-30T12:55:25.238Z"
   },
   {
    "duration": 1638,
    "start_time": "2021-06-30T12:55:25.325Z"
   },
   {
    "duration": 69,
    "start_time": "2021-06-30T12:55:26.966Z"
   },
   {
    "duration": 2086,
    "start_time": "2021-06-30T12:55:27.037Z"
   },
   {
    "duration": 13,
    "start_time": "2021-06-30T12:55:29.126Z"
   },
   {
    "duration": 21,
    "start_time": "2021-06-30T12:55:29.141Z"
   },
   {
    "duration": 6,
    "start_time": "2021-06-30T12:55:29.164Z"
   },
   {
    "duration": 49,
    "start_time": "2021-06-30T12:55:29.172Z"
   },
   {
    "duration": 10,
    "start_time": "2021-06-30T12:55:29.224Z"
   },
   {
    "duration": 13,
    "start_time": "2021-06-30T12:55:29.237Z"
   },
   {
    "duration": 14,
    "start_time": "2021-06-30T12:55:29.253Z"
   },
   {
    "duration": 16,
    "start_time": "2021-06-30T12:55:29.271Z"
   },
   {
    "duration": 3222,
    "start_time": "2021-06-30T12:55:29.290Z"
   },
   {
    "duration": 49696,
    "start_time": "2021-06-30T12:55:32.514Z"
   },
   {
    "duration": 772045,
    "start_time": "2021-06-30T12:56:22.214Z"
   },
   {
    "duration": 8,
    "start_time": "2021-06-30T13:09:14.262Z"
   },
   {
    "duration": 350,
    "start_time": "2021-06-30T13:09:14.273Z"
   },
   {
    "duration": 313,
    "start_time": "2021-06-30T13:09:14.626Z"
   },
   {
    "duration": 27698,
    "start_time": "2021-06-30T13:09:14.941Z"
   },
   {
    "duration": 15,
    "start_time": "2021-06-30T13:09:42.642Z"
   },
   {
    "duration": 23,
    "start_time": "2021-06-30T13:09:42.660Z"
   },
   {
    "duration": 22,
    "start_time": "2021-06-30T13:09:42.685Z"
   },
   {
    "duration": 333,
    "start_time": "2021-06-30T13:09:42.710Z"
   },
   {
    "duration": 5,
    "start_time": "2021-06-30T13:09:43.050Z"
   },
   {
    "duration": 298,
    "start_time": "2021-06-30T13:09:43.058Z"
   },
   {
    "duration": 286,
    "start_time": "2021-06-30T13:09:43.358Z"
   },
   {
    "duration": 6,
    "start_time": "2021-06-30T13:15:45.177Z"
   },
   {
    "duration": 29,
    "start_time": "2021-06-30T13:15:46.046Z"
   },
   {
    "duration": 7,
    "start_time": "2021-06-30T13:15:47.293Z"
   },
   {
    "duration": 16,
    "start_time": "2021-06-30T13:15:48.825Z"
   },
   {
    "duration": 4,
    "start_time": "2021-06-30T13:15:50.951Z"
   },
   {
    "duration": 9,
    "start_time": "2021-06-30T13:15:52.802Z"
   },
   {
    "duration": 7,
    "start_time": "2021-06-30T13:15:59.266Z"
   },
   {
    "duration": 4101,
    "start_time": "2021-06-30T13:16:01.013Z"
   },
   {
    "duration": 7,
    "start_time": "2021-06-30T13:16:17.190Z"
   },
   {
    "duration": 604,
    "start_time": "2021-06-30T13:16:18.114Z"
   },
   {
    "duration": 1674,
    "start_time": "2021-06-30T13:17:13.372Z"
   },
   {
    "duration": 1330,
    "start_time": "2021-06-30T13:17:15.049Z"
   },
   {
    "duration": 41,
    "start_time": "2021-06-30T13:17:16.383Z"
   },
   {
    "duration": 22,
    "start_time": "2021-06-30T13:17:16.427Z"
   },
   {
    "duration": 58,
    "start_time": "2021-06-30T13:17:16.452Z"
   },
   {
    "duration": 6,
    "start_time": "2021-06-30T13:17:16.513Z"
   },
   {
    "duration": 25,
    "start_time": "2021-06-30T13:17:16.522Z"
   },
   {
    "duration": 26,
    "start_time": "2021-06-30T13:17:16.552Z"
   },
   {
    "duration": 32,
    "start_time": "2021-06-30T13:17:16.581Z"
   },
   {
    "duration": 10,
    "start_time": "2021-06-30T13:17:16.617Z"
   },
   {
    "duration": 15,
    "start_time": "2021-06-30T13:17:16.630Z"
   },
   {
    "duration": 19,
    "start_time": "2021-06-30T13:17:16.648Z"
   },
   {
    "duration": 70,
    "start_time": "2021-06-30T13:17:16.670Z"
   },
   {
    "duration": 32,
    "start_time": "2021-06-30T13:17:16.743Z"
   },
   {
    "duration": 45,
    "start_time": "2021-06-30T13:17:16.778Z"
   },
   {
    "duration": 23,
    "start_time": "2021-06-30T13:17:16.826Z"
   },
   {
    "duration": 1433,
    "start_time": "2021-06-30T13:17:16.852Z"
   },
   {
    "duration": 1431,
    "start_time": "2021-06-30T13:17:18.288Z"
   },
   {
    "duration": 1471,
    "start_time": "2021-06-30T13:17:19.722Z"
   },
   {
    "duration": 987,
    "start_time": "2021-06-30T13:17:21.196Z"
   },
   {
    "duration": 901,
    "start_time": "2021-06-30T13:17:22.186Z"
   },
   {
    "duration": 29,
    "start_time": "2021-06-30T13:17:23.089Z"
   },
   {
    "duration": 4,
    "start_time": "2021-06-30T13:17:23.123Z"
   },
   {
    "duration": 1524,
    "start_time": "2021-06-30T13:17:23.130Z"
   },
   {
    "duration": 82,
    "start_time": "2021-06-30T13:17:24.657Z"
   },
   {
    "duration": 1634,
    "start_time": "2021-06-30T13:17:24.741Z"
   },
   {
    "duration": 67,
    "start_time": "2021-06-30T13:17:26.377Z"
   },
   {
    "duration": 1527,
    "start_time": "2021-06-30T13:17:26.447Z"
   },
   {
    "duration": 7,
    "start_time": "2021-06-30T13:17:27.977Z"
   },
   {
    "duration": 46,
    "start_time": "2021-06-30T13:17:27.987Z"
   },
   {
    "duration": 5,
    "start_time": "2021-06-30T13:17:28.036Z"
   },
   {
    "duration": 25,
    "start_time": "2021-06-30T13:17:28.044Z"
   },
   {
    "duration": 37,
    "start_time": "2021-06-30T13:17:28.072Z"
   },
   {
    "duration": 14,
    "start_time": "2021-06-30T13:17:28.112Z"
   },
   {
    "duration": 10,
    "start_time": "2021-06-30T13:17:28.129Z"
   },
   {
    "duration": 3404,
    "start_time": "2021-06-30T13:17:28.142Z"
   },
   {
    "duration": 44765,
    "start_time": "2021-06-30T13:17:31.548Z"
   },
   {
    "duration": 1131135,
    "start_time": "2021-06-30T13:18:16.320Z"
   },
   {
    "duration": 6,
    "start_time": "2021-06-30T13:37:07.457Z"
   },
   {
    "duration": 649,
    "start_time": "2021-06-30T13:37:07.466Z"
   },
   {
    "duration": 394,
    "start_time": "2021-06-30T13:37:08.118Z"
   },
   {
    "duration": 63721,
    "start_time": "2021-06-30T13:37:08.516Z"
   },
   {
    "duration": 12,
    "start_time": "2021-06-30T13:38:12.240Z"
   },
   {
    "duration": 14,
    "start_time": "2021-06-30T13:38:12.254Z"
   },
   {
    "duration": 13,
    "start_time": "2021-06-30T13:38:12.271Z"
   },
   {
    "duration": 738,
    "start_time": "2021-06-30T13:38:12.286Z"
   },
   {
    "duration": 1089,
    "start_time": "2021-06-30T13:39:20.160Z"
   },
   {
    "duration": 1239,
    "start_time": "2021-06-30T13:40:17.253Z"
   },
   {
    "duration": 6,
    "start_time": "2021-06-30T13:40:43.563Z"
   },
   {
    "duration": 981,
    "start_time": "2021-06-30T13:40:53.701Z"
   },
   {
    "duration": 6,
    "start_time": "2021-06-30T13:42:02.529Z"
   },
   {
    "duration": 27,
    "start_time": "2021-06-30T13:42:05.597Z"
   },
   {
    "duration": 4,
    "start_time": "2021-06-30T13:42:06.414Z"
   },
   {
    "duration": 15,
    "start_time": "2021-06-30T13:42:07.976Z"
   },
   {
    "duration": 4,
    "start_time": "2021-06-30T13:42:11.249Z"
   },
   {
    "duration": 9,
    "start_time": "2021-06-30T13:42:12.721Z"
   },
   {
    "duration": 6,
    "start_time": "2021-06-30T13:42:35.083Z"
   },
   {
    "duration": 3864,
    "start_time": "2021-06-30T13:42:36.747Z"
   },
   {
    "duration": 7,
    "start_time": "2021-06-30T13:42:48.631Z"
   },
   {
    "duration": 712,
    "start_time": "2021-06-30T13:42:50.897Z"
   },
   {
    "duration": 16,
    "start_time": "2021-06-30T13:43:01.242Z"
   },
   {
    "duration": 10,
    "start_time": "2021-06-30T13:43:03.354Z"
   },
   {
    "duration": 10,
    "start_time": "2021-06-30T13:43:04.854Z"
   },
   {
    "duration": 1108,
    "start_time": "2021-06-30T13:43:20.941Z"
   },
   {
    "duration": 8,
    "start_time": "2021-06-30T13:47:29.804Z"
   },
   {
    "duration": 9,
    "start_time": "2021-06-30T13:47:30.626Z"
   },
   {
    "duration": 341,
    "start_time": "2021-06-30T13:47:31.406Z"
   },
   {
    "duration": 19,
    "start_time": "2021-06-30T13:48:11.998Z"
   },
   {
    "duration": 674,
    "start_time": "2021-06-30T13:48:18.136Z"
   },
   {
    "duration": 64690,
    "start_time": "2021-06-30T13:52:08.222Z"
   },
   {
    "duration": 534,
    "start_time": "2021-06-30T14:00:29.874Z"
   },
   {
    "duration": 266,
    "start_time": "2021-06-30T14:00:36.375Z"
   },
   {
    "duration": 13,
    "start_time": "2021-06-30T14:01:34.093Z"
   },
   {
    "duration": 529,
    "start_time": "2021-06-30T14:01:35.311Z"
   },
   {
    "duration": 6,
    "start_time": "2021-06-30T14:03:34.844Z"
   },
   {
    "duration": 547,
    "start_time": "2021-06-30T14:03:41.005Z"
   },
   {
    "duration": 619,
    "start_time": "2021-06-30T14:03:56.454Z"
   },
   {
    "duration": 194,
    "start_time": "2021-06-30T14:04:10.250Z"
   },
   {
    "duration": 134,
    "start_time": "2021-06-30T14:09:10.748Z"
   },
   {
    "duration": 131,
    "start_time": "2021-06-30T14:09:24.362Z"
   },
   {
    "duration": 139,
    "start_time": "2021-06-30T14:09:37.837Z"
   },
   {
    "duration": 114,
    "start_time": "2021-06-30T14:09:45.588Z"
   },
   {
    "duration": 11,
    "start_time": "2021-06-30T14:10:08.465Z"
   },
   {
    "duration": 10,
    "start_time": "2021-06-30T14:10:23.464Z"
   },
   {
    "duration": 194,
    "start_time": "2021-06-30T14:15:15.791Z"
   },
   {
    "duration": 417,
    "start_time": "2021-06-30T14:17:14.253Z"
   },
   {
    "duration": 15,
    "start_time": "2021-06-30T14:17:30.159Z"
   },
   {
    "duration": 1646,
    "start_time": "2021-06-30T14:51:20.353Z"
   },
   {
    "duration": 967,
    "start_time": "2021-06-30T14:51:22.002Z"
   },
   {
    "duration": 26,
    "start_time": "2021-06-30T14:51:22.972Z"
   },
   {
    "duration": 15,
    "start_time": "2021-06-30T14:51:23.010Z"
   },
   {
    "duration": 28,
    "start_time": "2021-06-30T14:51:23.028Z"
   },
   {
    "duration": 5,
    "start_time": "2021-06-30T14:51:23.059Z"
   },
   {
    "duration": 66,
    "start_time": "2021-06-30T14:51:23.067Z"
   },
   {
    "duration": 28,
    "start_time": "2021-06-30T14:51:23.138Z"
   },
   {
    "duration": 6,
    "start_time": "2021-06-30T14:51:23.169Z"
   },
   {
    "duration": 35,
    "start_time": "2021-06-30T14:51:23.177Z"
   },
   {
    "duration": 14,
    "start_time": "2021-06-30T14:51:23.214Z"
   },
   {
    "duration": 19,
    "start_time": "2021-06-30T14:51:23.230Z"
   },
   {
    "duration": 54,
    "start_time": "2021-06-30T14:51:23.251Z"
   },
   {
    "duration": 32,
    "start_time": "2021-06-30T14:51:23.307Z"
   },
   {
    "duration": 26,
    "start_time": "2021-06-30T14:51:23.342Z"
   },
   {
    "duration": 47,
    "start_time": "2021-06-30T14:51:23.371Z"
   },
   {
    "duration": 1035,
    "start_time": "2021-06-30T14:51:23.420Z"
   },
   {
    "duration": 1021,
    "start_time": "2021-06-30T14:51:24.457Z"
   },
   {
    "duration": 1038,
    "start_time": "2021-06-30T14:51:25.480Z"
   },
   {
    "duration": 983,
    "start_time": "2021-06-30T14:51:26.520Z"
   },
   {
    "duration": 895,
    "start_time": "2021-06-30T14:51:27.505Z"
   },
   {
    "duration": 19,
    "start_time": "2021-06-30T14:51:28.409Z"
   },
   {
    "duration": 6,
    "start_time": "2021-06-30T14:51:28.434Z"
   },
   {
    "duration": 1508,
    "start_time": "2021-06-30T14:51:28.443Z"
   },
   {
    "duration": 85,
    "start_time": "2021-06-30T14:51:29.953Z"
   },
   {
    "duration": 1645,
    "start_time": "2021-06-30T14:51:30.041Z"
   },
   {
    "duration": 85,
    "start_time": "2021-06-30T14:51:31.689Z"
   },
   {
    "duration": 2214,
    "start_time": "2021-06-30T14:51:31.777Z"
   },
   {
    "duration": 15,
    "start_time": "2021-06-30T14:51:33.994Z"
   },
   {
    "duration": 52,
    "start_time": "2021-06-30T14:51:34.012Z"
   },
   {
    "duration": 4,
    "start_time": "2021-06-30T14:51:34.067Z"
   },
   {
    "duration": 22,
    "start_time": "2021-06-30T14:51:34.074Z"
   },
   {
    "duration": 14,
    "start_time": "2021-06-30T14:51:34.108Z"
   },
   {
    "duration": 25,
    "start_time": "2021-06-30T14:51:34.124Z"
   },
   {
    "duration": 10,
    "start_time": "2021-06-30T14:51:34.152Z"
   },
   {
    "duration": 515,
    "start_time": "2021-06-30T14:51:34.164Z"
   },
   {
    "duration": 202,
    "start_time": "2021-06-30T14:51:34.480Z"
   },
   {
    "duration": 198,
    "start_time": "2021-06-30T14:51:34.485Z"
   },
   {
    "duration": 193,
    "start_time": "2021-06-30T14:51:34.492Z"
   },
   {
    "duration": 191,
    "start_time": "2021-06-30T14:51:34.496Z"
   },
   {
    "duration": 187,
    "start_time": "2021-06-30T14:51:34.501Z"
   },
   {
    "duration": 183,
    "start_time": "2021-06-30T14:51:34.506Z"
   },
   {
    "duration": 181,
    "start_time": "2021-06-30T14:51:34.510Z"
   },
   {
    "duration": 179,
    "start_time": "2021-06-30T14:51:34.513Z"
   },
   {
    "duration": 176,
    "start_time": "2021-06-30T14:51:34.517Z"
   },
   {
    "duration": 376,
    "start_time": "2021-06-30T14:53:42.199Z"
   },
   {
    "duration": 7,
    "start_time": "2021-06-30T14:55:12.254Z"
   },
   {
    "duration": 4156,
    "start_time": "2021-06-30T14:55:15.859Z"
   },
   {
    "duration": 582,
    "start_time": "2021-06-30T14:55:23.433Z"
   },
   {
    "duration": 47539,
    "start_time": "2021-06-30T14:55:27.484Z"
   },
   {
    "duration": 512,
    "start_time": "2021-06-30T14:56:15.110Z"
   },
   {
    "duration": 1087743,
    "start_time": "2021-06-30T14:56:15.712Z"
   },
   {
    "duration": 280,
    "start_time": "2021-06-30T15:14:23.458Z"
   },
   {
    "duration": 14,
    "start_time": "2021-06-30T15:14:23.742Z"
   },
   {
    "duration": 635,
    "start_time": "2021-06-30T15:14:23.760Z"
   },
   {
    "duration": 369,
    "start_time": "2021-06-30T15:22:31.751Z"
   },
   {
    "duration": 370,
    "start_time": "2021-06-30T15:23:07.573Z"
   },
   {
    "duration": 28,
    "start_time": "2021-06-30T15:23:18.244Z"
   },
   {
    "duration": 273,
    "start_time": "2021-06-30T15:23:43.783Z"
   },
   {
    "duration": 1648,
    "start_time": "2021-06-30T15:23:55.137Z"
   },
   {
    "duration": 935,
    "start_time": "2021-06-30T15:23:56.788Z"
   },
   {
    "duration": 27,
    "start_time": "2021-06-30T15:23:57.730Z"
   },
   {
    "duration": 15,
    "start_time": "2021-06-30T15:23:57.759Z"
   },
   {
    "duration": 53,
    "start_time": "2021-06-30T15:23:57.777Z"
   },
   {
    "duration": 5,
    "start_time": "2021-06-30T15:23:57.833Z"
   },
   {
    "duration": 22,
    "start_time": "2021-06-30T15:23:57.840Z"
   },
   {
    "duration": 51,
    "start_time": "2021-06-30T15:23:57.867Z"
   },
   {
    "duration": 7,
    "start_time": "2021-06-30T15:23:57.923Z"
   },
   {
    "duration": 16,
    "start_time": "2021-06-30T15:23:57.933Z"
   },
   {
    "duration": 10,
    "start_time": "2021-06-30T15:23:57.952Z"
   },
   {
    "duration": 8,
    "start_time": "2021-06-30T15:23:57.965Z"
   },
   {
    "duration": 67,
    "start_time": "2021-06-30T15:23:57.975Z"
   },
   {
    "duration": 27,
    "start_time": "2021-06-30T15:23:58.045Z"
   },
   {
    "duration": 45,
    "start_time": "2021-06-30T15:23:58.074Z"
   },
   {
    "duration": 24,
    "start_time": "2021-06-30T15:23:58.122Z"
   },
   {
    "duration": 1140,
    "start_time": "2021-06-30T15:23:58.148Z"
   },
   {
    "duration": 1417,
    "start_time": "2021-06-30T15:23:59.292Z"
   },
   {
    "duration": 1428,
    "start_time": "2021-06-30T15:24:00.711Z"
   },
   {
    "duration": 1131,
    "start_time": "2021-06-30T15:24:02.142Z"
   },
   {
    "duration": 918,
    "start_time": "2021-06-30T15:24:03.275Z"
   },
   {
    "duration": 21,
    "start_time": "2021-06-30T15:24:04.196Z"
   },
   {
    "duration": 16,
    "start_time": "2021-06-30T15:24:04.219Z"
   },
   {
    "duration": 1723,
    "start_time": "2021-06-30T15:24:04.238Z"
   },
   {
    "duration": 92,
    "start_time": "2021-06-30T15:24:05.963Z"
   },
   {
    "duration": 1658,
    "start_time": "2021-06-30T15:24:06.062Z"
   },
   {
    "duration": 52,
    "start_time": "2021-06-30T15:24:07.723Z"
   },
   {
    "duration": 1646,
    "start_time": "2021-06-30T15:24:07.777Z"
   },
   {
    "duration": 6,
    "start_time": "2021-06-30T15:24:09.425Z"
   },
   {
    "duration": 45,
    "start_time": "2021-06-30T15:24:09.433Z"
   },
   {
    "duration": 26,
    "start_time": "2021-06-30T15:24:09.480Z"
   },
   {
    "duration": 21,
    "start_time": "2021-06-30T15:24:09.508Z"
   },
   {
    "duration": 7,
    "start_time": "2021-06-30T15:24:09.531Z"
   },
   {
    "duration": 16,
    "start_time": "2021-06-30T15:24:09.541Z"
   },
   {
    "duration": 9,
    "start_time": "2021-06-30T15:24:09.560Z"
   },
   {
    "duration": 575,
    "start_time": "2021-06-30T15:24:09.572Z"
   },
   {
    "duration": -117,
    "start_time": "2021-06-30T15:24:10.266Z"
   },
   {
    "duration": -119,
    "start_time": "2021-06-30T15:24:10.270Z"
   },
   {
    "duration": -120,
    "start_time": "2021-06-30T15:24:10.273Z"
   },
   {
    "duration": -122,
    "start_time": "2021-06-30T15:24:10.276Z"
   },
   {
    "duration": -123,
    "start_time": "2021-06-30T15:24:10.278Z"
   },
   {
    "duration": -123,
    "start_time": "2021-06-30T15:24:10.280Z"
   },
   {
    "duration": -125,
    "start_time": "2021-06-30T15:24:10.283Z"
   },
   {
    "duration": -126,
    "start_time": "2021-06-30T15:24:10.285Z"
   },
   {
    "duration": 8,
    "start_time": "2021-06-30T15:32:41.238Z"
   },
   {
    "duration": 3337,
    "start_time": "2021-06-30T15:32:43.076Z"
   },
   {
    "duration": 1120,
    "start_time": "2021-06-30T15:32:47.077Z"
   },
   {
    "duration": 48610,
    "start_time": "2021-06-30T15:32:48.200Z"
   },
   {
    "duration": 1637,
    "start_time": "2021-06-30T15:33:36.814Z"
   },
   {
    "duration": 53784,
    "start_time": "2021-06-30T15:33:38.454Z"
   },
   {
    "duration": 899,
    "start_time": "2021-06-30T15:34:32.241Z"
   },
   {
    "duration": 11,
    "start_time": "2021-06-30T15:34:33.142Z"
   },
   {
    "duration": 569,
    "start_time": "2021-06-30T15:34:33.155Z"
   },
   {
    "duration": -116,
    "start_time": "2021-06-30T15:34:33.842Z"
   },
   {
    "duration": -118,
    "start_time": "2021-06-30T15:34:33.846Z"
   },
   {
    "duration": -121,
    "start_time": "2021-06-30T15:34:33.850Z"
   },
   {
    "duration": -123,
    "start_time": "2021-06-30T15:34:33.854Z"
   },
   {
    "duration": 6,
    "start_time": "2021-06-30T15:34:48.067Z"
   },
   {
    "duration": 7,
    "start_time": "2021-06-30T15:34:48.978Z"
   },
   {
    "duration": 3135,
    "start_time": "2021-06-30T15:34:50.481Z"
   },
   {
    "duration": 1208,
    "start_time": "2021-06-30T15:34:53.620Z"
   },
   {
    "duration": 1602,
    "start_time": "2021-06-30T15:37:50.131Z"
   },
   {
    "duration": 937,
    "start_time": "2021-06-30T15:37:51.736Z"
   },
   {
    "duration": 23,
    "start_time": "2021-06-30T15:37:52.676Z"
   },
   {
    "duration": 15,
    "start_time": "2021-06-30T15:37:52.710Z"
   },
   {
    "duration": 32,
    "start_time": "2021-06-30T15:37:52.728Z"
   },
   {
    "duration": 5,
    "start_time": "2021-06-30T15:37:52.762Z"
   },
   {
    "duration": 55,
    "start_time": "2021-06-30T15:37:52.770Z"
   },
   {
    "duration": 21,
    "start_time": "2021-06-30T15:37:52.829Z"
   },
   {
    "duration": 7,
    "start_time": "2021-06-30T15:37:52.853Z"
   },
   {
    "duration": 8,
    "start_time": "2021-06-30T15:37:52.862Z"
   },
   {
    "duration": 38,
    "start_time": "2021-06-30T15:37:52.873Z"
   },
   {
    "duration": 16,
    "start_time": "2021-06-30T15:37:52.913Z"
   },
   {
    "duration": 34,
    "start_time": "2021-06-30T15:37:52.931Z"
   },
   {
    "duration": 50,
    "start_time": "2021-06-30T15:37:52.968Z"
   },
   {
    "duration": 20,
    "start_time": "2021-06-30T15:37:53.020Z"
   },
   {
    "duration": 31,
    "start_time": "2021-06-30T15:37:53.043Z"
   },
   {
    "duration": 1067,
    "start_time": "2021-06-30T15:37:53.076Z"
   },
   {
    "duration": 996,
    "start_time": "2021-06-30T15:37:54.146Z"
   },
   {
    "duration": 1063,
    "start_time": "2021-06-30T15:37:55.145Z"
   },
   {
    "duration": 986,
    "start_time": "2021-06-30T15:37:56.211Z"
   },
   {
    "duration": 902,
    "start_time": "2021-06-30T15:37:57.200Z"
   },
   {
    "duration": 19,
    "start_time": "2021-06-30T15:37:58.108Z"
   },
   {
    "duration": 3,
    "start_time": "2021-06-30T15:37:58.132Z"
   },
   {
    "duration": 1553,
    "start_time": "2021-06-30T15:37:58.138Z"
   },
   {
    "duration": 80,
    "start_time": "2021-06-30T15:37:59.693Z"
   },
   {
    "duration": 1813,
    "start_time": "2021-06-30T15:37:59.775Z"
   },
   {
    "duration": 79,
    "start_time": "2021-06-30T15:38:01.591Z"
   },
   {
    "duration": 1736,
    "start_time": "2021-06-30T15:38:01.673Z"
   },
   {
    "duration": 6,
    "start_time": "2021-06-30T15:38:03.411Z"
   },
   {
    "duration": 41,
    "start_time": "2021-06-30T15:38:03.419Z"
   },
   {
    "duration": 4,
    "start_time": "2021-06-30T15:38:03.462Z"
   },
   {
    "duration": 38,
    "start_time": "2021-06-30T15:38:03.468Z"
   },
   {
    "duration": 16,
    "start_time": "2021-06-30T15:38:03.509Z"
   },
   {
    "duration": 22,
    "start_time": "2021-06-30T15:38:03.527Z"
   },
   {
    "duration": 23,
    "start_time": "2021-06-30T15:38:03.552Z"
   },
   {
    "duration": 11,
    "start_time": "2021-06-30T15:38:03.578Z"
   },
   {
    "duration": 4721,
    "start_time": "2021-06-30T15:38:03.592Z"
   },
   {
    "duration": 44198,
    "start_time": "2021-06-30T15:38:08.316Z"
   },
   {
    "duration": 1024756,
    "start_time": "2021-06-30T15:38:52.517Z"
   },
   {
    "duration": 545,
    "start_time": "2021-06-30T15:55:57.276Z"
   },
   {
    "duration": -110,
    "start_time": "2021-06-30T15:55:57.934Z"
   },
   {
    "duration": -112,
    "start_time": "2021-06-30T15:55:57.937Z"
   },
   {
    "duration": -114,
    "start_time": "2021-06-30T15:55:57.941Z"
   },
   {
    "duration": 7,
    "start_time": "2021-06-30T15:57:03.146Z"
   },
   {
    "duration": 1692,
    "start_time": "2021-06-30T15:57:03.895Z"
   },
   {
    "duration": 11,
    "start_time": "2021-06-30T15:57:16.275Z"
   },
   {
    "duration": 540,
    "start_time": "2021-06-30T15:57:17.946Z"
   },
   {
    "duration": 5,
    "start_time": "2021-06-30T15:59:02.124Z"
   },
   {
    "duration": 581,
    "start_time": "2021-06-30T15:59:03.314Z"
   },
   {
    "duration": 348,
    "start_time": "2021-06-30T15:59:39.192Z"
   },
   {
    "duration": 23,
    "start_time": "2021-06-30T15:59:49.570Z"
   },
   {
    "duration": 188,
    "start_time": "2021-06-30T15:59:51.573Z"
   },
   {
    "duration": 743,
    "start_time": "2021-06-30T16:02:16.516Z"
   },
   {
    "duration": 65212,
    "start_time": "2021-06-30T16:03:45.535Z"
   },
   {
    "duration": 21,
    "start_time": "2021-06-30T16:06:25.910Z"
   },
   {
    "duration": 1451,
    "start_time": "2021-06-30T16:06:27.319Z"
   },
   {
    "duration": 1599,
    "start_time": "2021-06-30T16:11:44.241Z"
   },
   {
    "duration": 996,
    "start_time": "2021-06-30T16:11:45.844Z"
   },
   {
    "duration": 27,
    "start_time": "2021-06-30T16:11:46.845Z"
   },
   {
    "duration": 41,
    "start_time": "2021-06-30T16:11:46.874Z"
   },
   {
    "duration": 24,
    "start_time": "2021-06-30T16:11:46.917Z"
   },
   {
    "duration": 5,
    "start_time": "2021-06-30T16:11:46.943Z"
   },
   {
    "duration": 26,
    "start_time": "2021-06-30T16:11:46.951Z"
   },
   {
    "duration": 42,
    "start_time": "2021-06-30T16:11:46.980Z"
   },
   {
    "duration": 6,
    "start_time": "2021-06-30T16:11:47.024Z"
   },
   {
    "duration": 23,
    "start_time": "2021-06-30T16:11:47.032Z"
   },
   {
    "duration": 22,
    "start_time": "2021-06-30T16:11:47.057Z"
   },
   {
    "duration": 11,
    "start_time": "2021-06-30T16:11:47.082Z"
   },
   {
    "duration": 33,
    "start_time": "2021-06-30T16:11:47.109Z"
   },
   {
    "duration": 31,
    "start_time": "2021-06-30T16:11:47.144Z"
   },
   {
    "duration": 42,
    "start_time": "2021-06-30T16:11:47.178Z"
   },
   {
    "duration": 27,
    "start_time": "2021-06-30T16:11:47.223Z"
   },
   {
    "duration": 1059,
    "start_time": "2021-06-30T16:11:47.253Z"
   },
   {
    "duration": 988,
    "start_time": "2021-06-30T16:11:48.314Z"
   },
   {
    "duration": 1148,
    "start_time": "2021-06-30T16:11:49.305Z"
   },
   {
    "duration": 1005,
    "start_time": "2021-06-30T16:11:50.455Z"
   },
   {
    "duration": 987,
    "start_time": "2021-06-30T16:11:51.463Z"
   },
   {
    "duration": 18,
    "start_time": "2021-06-30T16:11:52.455Z"
   },
   {
    "duration": 8,
    "start_time": "2021-06-30T16:11:52.476Z"
   },
   {
    "duration": 1707,
    "start_time": "2021-06-30T16:11:52.487Z"
   },
   {
    "duration": 78,
    "start_time": "2021-06-30T16:11:54.197Z"
   },
   {
    "duration": 1665,
    "start_time": "2021-06-30T16:11:54.278Z"
   },
   {
    "duration": 67,
    "start_time": "2021-06-30T16:11:55.945Z"
   },
   {
    "duration": 1521,
    "start_time": "2021-06-30T16:11:56.014Z"
   },
   {
    "duration": 5,
    "start_time": "2021-06-30T16:11:57.538Z"
   },
   {
    "duration": 35,
    "start_time": "2021-06-30T16:11:57.545Z"
   },
   {
    "duration": 4,
    "start_time": "2021-06-30T16:11:57.583Z"
   },
   {
    "duration": 36,
    "start_time": "2021-06-30T16:11:57.589Z"
   },
   {
    "duration": 8,
    "start_time": "2021-06-30T16:11:57.627Z"
   },
   {
    "duration": 12,
    "start_time": "2021-06-30T16:11:57.637Z"
   },
   {
    "duration": 5,
    "start_time": "2021-06-30T16:11:57.651Z"
   },
   {
    "duration": 7,
    "start_time": "2021-06-30T16:11:57.659Z"
   },
   {
    "duration": 3149,
    "start_time": "2021-06-30T16:11:57.668Z"
   },
   {
    "duration": 36902,
    "start_time": "2021-06-30T16:12:00.909Z"
   },
   {
    "duration": 943638,
    "start_time": "2021-06-30T16:12:37.815Z"
   },
   {
    "duration": 7,
    "start_time": "2021-06-30T16:28:21.455Z"
   },
   {
    "duration": 1314,
    "start_time": "2021-06-30T16:28:21.464Z"
   },
   {
    "duration": 11,
    "start_time": "2021-06-30T16:28:22.781Z"
   },
   {
    "duration": 546,
    "start_time": "2021-06-30T16:28:22.795Z"
   },
   {
    "duration": -75,
    "start_time": "2021-06-30T16:28:23.418Z"
   },
   {
    "duration": -77,
    "start_time": "2021-06-30T16:28:23.421Z"
   },
   {
    "duration": 23,
    "start_time": "2021-06-30T16:32:11.130Z"
   },
   {
    "duration": 1467,
    "start_time": "2021-06-30T16:32:12.408Z"
   },
   {
    "duration": 1113,
    "start_time": "2021-06-30T16:32:21.019Z"
   },
   {
    "duration": 192,
    "start_time": "2021-06-30T16:32:36.023Z"
   },
   {
    "duration": 1454,
    "start_time": "2021-06-30T23:28:37.420Z"
   },
   {
    "duration": 892,
    "start_time": "2021-06-30T23:28:40.023Z"
   },
   {
    "duration": 24,
    "start_time": "2021-06-30T23:30:51.170Z"
   },
   {
    "duration": 15,
    "start_time": "2021-06-30T23:30:51.760Z"
   },
   {
    "duration": 28,
    "start_time": "2021-06-30T23:30:52.312Z"
   },
   {
    "duration": 5,
    "start_time": "2021-06-30T23:31:20.299Z"
   },
   {
    "duration": 22,
    "start_time": "2021-06-30T23:31:20.529Z"
   },
   {
    "duration": 28,
    "start_time": "2021-06-30T23:31:21.048Z"
   },
   {
    "duration": 9,
    "start_time": "2021-06-30T23:31:21.559Z"
   },
   {
    "duration": 9,
    "start_time": "2021-06-30T23:31:23.055Z"
   },
   {
    "duration": 8,
    "start_time": "2021-06-30T23:32:58.870Z"
   },
   {
    "duration": 7,
    "start_time": "2021-06-30T23:33:11.659Z"
   },
   {
    "duration": 30,
    "start_time": "2021-06-30T23:33:17.589Z"
   },
   {
    "duration": 24,
    "start_time": "2021-06-30T23:33:17.993Z"
   },
   {
    "duration": 20,
    "start_time": "2021-06-30T23:33:18.511Z"
   },
   {
    "duration": 23,
    "start_time": "2021-06-30T23:33:18.695Z"
   },
   {
    "duration": 967,
    "start_time": "2021-06-30T23:34:01.175Z"
   },
   {
    "duration": 932,
    "start_time": "2021-06-30T23:34:02.145Z"
   },
   {
    "duration": 964,
    "start_time": "2021-06-30T23:34:03.084Z"
   },
   {
    "duration": 899,
    "start_time": "2021-06-30T23:34:04.051Z"
   },
   {
    "duration": 795,
    "start_time": "2021-06-30T23:38:45.448Z"
   },
   {
    "duration": 19,
    "start_time": "2021-06-30T23:39:39.298Z"
   },
   {
    "duration": 4,
    "start_time": "2021-06-30T23:39:40.032Z"
   },
   {
    "duration": 1525,
    "start_time": "2021-06-30T23:39:41.025Z"
   },
   {
    "duration": 83,
    "start_time": "2021-06-30T23:39:42.552Z"
   },
   {
    "duration": 1518,
    "start_time": "2021-06-30T23:39:42.638Z"
   },
   {
    "duration": 57,
    "start_time": "2021-06-30T23:39:44.159Z"
   },
   {
    "duration": 1456,
    "start_time": "2021-06-30T23:39:44.219Z"
   },
   {
    "duration": 6,
    "start_time": "2021-06-30T23:40:53.552Z"
   },
   {
    "duration": 27,
    "start_time": "2021-06-30T23:40:54.472Z"
   },
   {
    "duration": 4,
    "start_time": "2021-06-30T23:42:46.202Z"
   },
   {
    "duration": 15,
    "start_time": "2021-06-30T23:42:46.954Z"
   },
   {
    "duration": 4,
    "start_time": "2021-06-30T23:42:47.612Z"
   },
   {
    "duration": 10,
    "start_time": "2021-06-30T23:42:48.577Z"
   },
   {
    "duration": 5,
    "start_time": "2021-06-30T23:42:49.105Z"
   },
   {
    "duration": 3,
    "start_time": "2021-06-30T23:42:49.861Z"
   },
   {
    "duration": 5,
    "start_time": "2021-06-30T23:44:27.048Z"
   },
   {
    "duration": 3211,
    "start_time": "2021-06-30T23:44:36.676Z"
   },
   {
    "duration": 38105,
    "start_time": "2021-06-30T23:46:07.384Z"
   }
  ],
  "kernelspec": {
   "display_name": "Python 3",
   "language": "python",
   "name": "python3"
  },
  "language_info": {
   "codemirror_mode": {
    "name": "ipython",
    "version": 3
   },
   "file_extension": ".py",
   "mimetype": "text/x-python",
   "name": "python",
   "nbconvert_exporter": "python",
   "pygments_lexer": "ipython3",
   "version": "3.8.8"
  },
  "toc": {
   "base_numbering": 1,
   "nav_menu": {},
   "number_sections": true,
   "sideBar": true,
   "skip_h1_title": true,
   "title_cell": "Содержание",
   "title_sidebar": "Contents",
   "toc_cell": true,
   "toc_position": {
    "height": "calc(100% - 180px)",
    "left": "10px",
    "top": "150px",
    "width": "164.992px"
   },
   "toc_section_display": true,
   "toc_window_display": true
  }
 },
 "nbformat": 4,
 "nbformat_minor": 2
}
