{
 "cells": [
  {
   "cell_type": "markdown",
   "metadata": {
    "toc": true
   },
   "source": [
    "<h1>Содержание<span class=\"tocSkip\"></span></h1>\n",
    "<div class=\"toc\"><ul class=\"toc-item\"><li><span><a href=\"#Подготовка\" data-toc-modified-id=\"Подготовка-1\"><span class=\"toc-item-num\">1&nbsp;&nbsp;</span>Подготовка</a></span></li><li><span><a href=\"#Анализ\" data-toc-modified-id=\"Анализ-2\"><span class=\"toc-item-num\">2&nbsp;&nbsp;</span>Анализ</a></span></li><li><span><a href=\"#Обучение\" data-toc-modified-id=\"Обучение-3\"><span class=\"toc-item-num\">3&nbsp;&nbsp;</span>Обучение</a></span></li><li><span><a href=\"#Тестирование\" data-toc-modified-id=\"Тестирование-4\"><span class=\"toc-item-num\">4&nbsp;&nbsp;</span>Тестирование</a></span></li><li><span><a href=\"#Чек-лист-проверки\" data-toc-modified-id=\"Чек-лист-проверки-5\"><span class=\"toc-item-num\">5&nbsp;&nbsp;</span>Чек-лист проверки</a></span></li></ul></div>"
   ]
  },
  {
   "cell_type": "markdown",
   "metadata": {},
   "source": [
    "#  Прогнозирование заказов такси"
   ]
  },
  {
   "cell_type": "markdown",
   "metadata": {},
   "source": [
    "Компания собрала исторические данные о заказах такси в аэропортах. Чтобы привлекать больше водителей в период пиковой нагрузки, нужно спрогнозировать количество заказов такси на следующий час. Постройте модель для такого предсказания.\n",
    "\n",
    "Значение метрики *RMSE* на тестовой выборке должно быть не больше 48.\n",
    "\n",
    "Вам нужно:\n",
    "\n",
    "1. Загрузить данные и выполнить их ресемплирование по одному часу.\n",
    "2. Проанализировать данные.\n",
    "3. Обучить разные модели с различными гиперпараметрами. Сделать тестовую выборку размером 10% от исходных данных.\n",
    "4. Проверить данные на тестовой выборке и сделать выводы."
   ]
  },
  {
   "cell_type": "markdown",
   "metadata": {},
   "source": [
    "## Подготовка"
   ]
  },
  {
   "cell_type": "code",
   "execution_count": 1,
   "metadata": {},
   "outputs": [],
   "source": [
    "import matplotlib.pyplot as plt\n",
    "import numpy as np\n",
    "import pandas as pd\n",
    "\n",
    "\n",
    "from sklearn.model_selection import train_test_split\n",
    "from sklearn.preprocessing import StandardScaler\n",
    "from sklearn.metrics import mean_squared_error\n",
    "from sklearn.preprocessing import OrdinalEncoder\n",
    "from sklearn.ensemble import ExtraTreesRegressor\n",
    "from catboost import CatBoostRegressor, Pool\n",
    "import catboost as cat\n",
    "import lightgbm as lgb\n",
    "from sklearn.model_selection import TimeSeriesSplit\n",
    "from sklearn.model_selection import GridSearchCV\n",
    "from sklearn.pipeline import Pipeline\n",
    "from sklearn.preprocessing import PowerTransformer\n",
    "pt = PowerTransformer()\n",
    "from itertools import product\n",
    "from sklearn.model_selection import cross_val_score\n",
    "\n",
    "\n",
    "from statsmodels.tsa.seasonal import seasonal_decompose\n",
    "from statsmodels.tsa.statespace import sarimax\n",
    "from statsmodels.tsa.stattools import adfuller\n",
    "\n",
    "\n",
    "import seaborn as sns\n",
    "import collections\n",
    "sns.set(style = 'darkgrid', palette = 'Set2')\n",
    "\n",
    "import time\n",
    "\n",
    "import warnings\n",
    "warnings.filterwarnings('ignore')"
   ]
  },
  {
   "cell_type": "code",
   "execution_count": 2,
   "metadata": {},
   "outputs": [],
   "source": [
    "taxi = pd.read_csv(\"/datasets/taxi.csv\")"
   ]
  },
  {
   "cell_type": "code",
   "execution_count": 3,
   "metadata": {},
   "outputs": [],
   "source": [
    "taxi['datetime'] = pd.to_datetime(taxi['datetime'],format = '%Y-%m-%d %H:%M:%S')"
   ]
  },
  {
   "cell_type": "code",
   "execution_count": 4,
   "metadata": {},
   "outputs": [
    {
     "data": {
      "text/plain": [
       "True"
      ]
     },
     "execution_count": 4,
     "metadata": {},
     "output_type": "execute_result"
    }
   ],
   "source": [
    "taxi.set_index('datetime', inplace = True)\n",
    "taxi.sort_index(inplace = True)\n",
    "taxi.index.is_monotonic"
   ]
  },
  {
   "cell_type": "code",
   "execution_count": 5,
   "metadata": {},
   "outputs": [
    {
     "data": {
      "text/html": [
       "<div>\n",
       "<style scoped>\n",
       "    .dataframe tbody tr th:only-of-type {\n",
       "        vertical-align: middle;\n",
       "    }\n",
       "\n",
       "    .dataframe tbody tr th {\n",
       "        vertical-align: top;\n",
       "    }\n",
       "\n",
       "    .dataframe thead th {\n",
       "        text-align: right;\n",
       "    }\n",
       "</style>\n",
       "<table border=\"1\" class=\"dataframe\">\n",
       "  <thead>\n",
       "    <tr style=\"text-align: right;\">\n",
       "      <th></th>\n",
       "      <th>num_orders</th>\n",
       "    </tr>\n",
       "    <tr>\n",
       "      <th>datetime</th>\n",
       "      <th></th>\n",
       "    </tr>\n",
       "  </thead>\n",
       "  <tbody>\n",
       "    <tr>\n",
       "      <td>2018-03-01 00:00:00</td>\n",
       "      <td>9</td>\n",
       "    </tr>\n",
       "    <tr>\n",
       "      <td>2018-03-01 00:10:00</td>\n",
       "      <td>14</td>\n",
       "    </tr>\n",
       "    <tr>\n",
       "      <td>2018-03-01 00:20:00</td>\n",
       "      <td>28</td>\n",
       "    </tr>\n",
       "    <tr>\n",
       "      <td>2018-03-01 00:30:00</td>\n",
       "      <td>20</td>\n",
       "    </tr>\n",
       "    <tr>\n",
       "      <td>2018-03-01 00:40:00</td>\n",
       "      <td>32</td>\n",
       "    </tr>\n",
       "  </tbody>\n",
       "</table>\n",
       "</div>"
      ],
      "text/plain": [
       "                     num_orders\n",
       "datetime                       \n",
       "2018-03-01 00:00:00           9\n",
       "2018-03-01 00:10:00          14\n",
       "2018-03-01 00:20:00          28\n",
       "2018-03-01 00:30:00          20\n",
       "2018-03-01 00:40:00          32"
      ]
     },
     "metadata": {},
     "output_type": "display_data"
    },
    {
     "name": "stdout",
     "output_type": "stream",
     "text": [
      "<class 'pandas.core.frame.DataFrame'>\n",
      "DatetimeIndex: 26496 entries, 2018-03-01 00:00:00 to 2018-08-31 23:50:00\n",
      "Data columns (total 1 columns):\n",
      "num_orders    26496 non-null int64\n",
      "dtypes: int64(1)\n",
      "memory usage: 414.0 KB\n"
     ]
    }
   ],
   "source": [
    "display(taxi.head())\n",
    "taxi.info()"
   ]
  },
  {
   "cell_type": "markdown",
   "metadata": {},
   "source": [
    "Переодичность в данных - 10 минут.\n",
    "Ресемплируем их."
   ]
  },
  {
   "cell_type": "code",
   "execution_count": 6,
   "metadata": {},
   "outputs": [],
   "source": [
    "taxi = taxi.resample('1H').sum()"
   ]
  },
  {
   "cell_type": "markdown",
   "metadata": {},
   "source": [
    "Провели обработку данных для временного ряда: перевели в Datetime из object, проверили  на монотонность, провели ресемплинг с диапозоном в 1 час, данные агрегировали с помощью суммы."
   ]
  },
  {
   "cell_type": "markdown",
   "metadata": {},
   "source": [
    "## Анализ"
   ]
  },
  {
   "cell_type": "code",
   "execution_count": 7,
   "metadata": {},
   "outputs": [
    {
     "data": {
      "text/plain": [
       "Text(0, 0.5, 'orders')"
      ]
     },
     "execution_count": 7,
     "metadata": {},
     "output_type": "execute_result"
    },
    {
     "data": {
      "image/png": "[encoded data removed]",
      "text/plain": [
       "<Figure size 1008x576 with 1 Axes>"
      ]
     },
     "metadata": {},
     "output_type": "display_data"
    }
   ],
   "source": [
    "plt.figure(figsize=(14,8))\n",
    "sns.lineplot(data=taxi)\n",
    "\n",
    "plt.legend()\n",
    "plt.title('Taxi')\n",
    "plt.xlabel('date')\n",
    "plt.ylabel('orders')"
   ]
  },
  {
   "cell_type": "code",
   "execution_count": 8,
   "metadata": {},
   "outputs": [
    {
     "data": {
      "text/plain": [
       "(-3.068924289027949,\n",
       " 0.02894005140261345,\n",
       " 30,\n",
       " 4385,\n",
       " {'1%': -3.431842162413052,\n",
       "  '5%': -2.8621993540813637,\n",
       "  '10%': -2.567120978470452},\n",
       " 41728.71357827463)"
      ]
     },
     "execution_count": 8,
     "metadata": {},
     "output_type": "execute_result"
    }
   ],
   "source": [
    "adfuller(taxi[\"num_orders\"])"
   ]
  },
  {
   "cell_type": "markdown",
   "metadata": {},
   "source": [
    "Ряд можно считать стационарным: критическое значение = -3.06 < -2.86(5-% доверительный интервал).   \n",
    "Изучим тренды и сезонность."
   ]
  },
  {
   "cell_type": "code",
   "execution_count": 9,
   "metadata": {},
   "outputs": [
    {
     "data": {
      "text/plain": [
       "Text(0, 0.5, 'orders')"
      ]
     },
     "execution_count": 9,
     "metadata": {},
     "output_type": "execute_result"
    },
    {
     "data": {
      "image/png": "[encoded data removed]",
      "text/plain": [
       "<Figure size 1080x1584 with 3 Axes>"
      ]
     },
     "metadata": {},
     "output_type": "display_data"
    }
   ],
   "source": [
    "decomposed = seasonal_decompose(taxi)\n",
    "\n",
    "fig, axs = plt.subplots(3, 1, figsize=(15,22))\n",
    "sns.lineplot(data=decomposed.trend, ax=axs[0])\n",
    "axs[0].set_title('Trend')\n",
    "axs[0].set_xlabel('date')\n",
    "axs[0].set_ylabel('orders')\n",
    "\n",
    "sns.lineplot(data=decomposed.seasonal, ax=axs[1])\n",
    "axs[1].set_title('Seasonal')\n",
    "axs[1].set_xlabel('date')\n",
    "axs[1].set_ylabel('orders')\n",
    "\n",
    "sns.lineplot(data=decomposed.resid, ax=axs[2])\n",
    "axs[2].set_title('Residual')\n",
    "axs[2].set_xlabel('date')\n",
    "axs[2].set_ylabel('orders')"
   ]
  },
  {
   "cell_type": "markdown",
   "metadata": {},
   "source": [
    "Дополнительно рассмотрим данные за несколько различных периодов."
   ]
  },
  {
   "cell_type": "code",
   "execution_count": 10,
   "metadata": {},
   "outputs": [],
   "source": [
    "decomposedWeek = seasonal_decompose(taxi['2018-03-04':'2018-03-12'])\n",
    "decomposedFewDays = seasonal_decompose(taxi['2018-03-04':'2018-03-06'])\n",
    "decomposedMonth_apr = seasonal_decompose(taxi['2018-04-01':'2018-05-01'])\n",
    "decomposedMonth_aug = seasonal_decompose(taxi['2018-07-31':'2018-08-31'])"
   ]
  },
  {
   "cell_type": "code",
   "execution_count": 11,
   "metadata": {},
   "outputs": [
    {
     "data": {
      "text/plain": [
       "Text(0, 0.5, 'orders')"
      ]
     },
     "execution_count": 11,
     "metadata": {},
     "output_type": "execute_result"
    },
    {
     "data": {
      "image/png": "[encoded data removed]",
      "text/plain": [
       "<Figure size 1008x2016 with 4 Axes>"
      ]
     },
     "metadata": {},
     "output_type": "display_data"
    }
   ],
   "source": [
    "fig, axs = plt.subplots(4, 1, figsize=(14, 28))\n",
    "sns.lineplot(data=decomposedWeek.trend, ax=axs[0])\n",
    "axs[0].set_title('Trend')\n",
    "axs[0].set_xlabel('date')\n",
    "axs[0].set_ylabel('orders')\n",
    "\n",
    "sns.lineplot(data=decomposedMonth_apr.trend, ax=axs[1])\n",
    "axs[1].set_title('Trend')\n",
    "axs[1].set_xlabel('date')\n",
    "axs[1].set_ylabel('orders')\n",
    "\n",
    "\n",
    "sns.lineplot(data=decomposedMonth_aug.trend, ax=axs[2])\n",
    "axs[2].set_title('Trend')\n",
    "axs[2].set_xlabel('date')\n",
    "axs[2].set_ylabel('orders')\n",
    "\n",
    "sns.lineplot(data=decomposedFewDays.seasonal, ax=axs[3])\n",
    "axs[3].set_title('Seasonal')\n",
    "axs[3].set_xlabel('date')\n",
    "axs[3].set_ylabel('orders')"
   ]
  },
  {
   "cell_type": "markdown",
   "metadata": {},
   "source": [
    "Тренды:\n",
    "- Весь датасет: в летний период количество заказов растет.\n",
    "\n",
    "- Неделя из датасета: 5 марта 2018 года (понедельник) - 11 марта 2018 года (воскресенье),спрос слабее во вторник, субботу и воскресенье.\n",
    "\n",
    "- Апрель и август: ситуация схожа с днями недели. Дополнительно, к концу каждого месяца увеличивается число заказов, но летом этот рост значительнее.\n",
    "\n",
    "Сезонность по часам: утром самые низкие показатели заказов, которые относительно нормализуются к 12, ночью наблюдаем скачок."
   ]
  },
  {
   "cell_type": "code",
   "execution_count": 12,
   "metadata": {},
   "outputs": [
    {
     "data": {
      "text/plain": [
       "Text(0, 0.5, 'orders')"
      ]
     },
     "execution_count": 12,
     "metadata": {},
     "output_type": "execute_result"
    },
    {
     "data": {
      "image/png": "[encoded data removed]",
      "text/plain": [
       "<Figure size 1008x2016 with 2 Axes>"
      ]
     },
     "metadata": {},
     "output_type": "display_data"
    }
   ],
   "source": [
    "decomposed_taxi_24h = seasonal_decompose(taxi['2018-08-30':'2018-08-31'])\n",
    "\n",
    "fig, axs = plt.subplots(2, 1, figsize=(14, 28))\n",
    "sns.lineplot(data=decomposed_taxi_24h.seasonal, ax=axs[0])\n",
    "axs[0].set_title('Seasonal')\n",
    "axs[0].set_xlabel('date')\n",
    "axs[0].set_ylabel('orders')\n",
    "\n",
    "sns.lineplot(data=decomposedWeek.seasonal, ax=axs[1])\n",
    "axs[1].set_title('Seasonal')\n",
    "axs[1].set_xlabel('date')\n",
    "axs[1].set_ylabel('orders')"
   ]
  },
  {
   "cell_type": "markdown",
   "metadata": {},
   "source": [
    "Введем несколько признаков:\n",
    "- day - видна ежедневная сезонность.\n",
    "- dayofweek - к концу недели идет увеличение заказов.\n",
    "- month- из месяца в месяц данные отличаются, но носят цикличный характер.\n",
    "\n",
    "\n",
    "Нужно определить количество lag признаков, для этого попробуем найти разницу в часах между ночным пиком (max) и пиком в сезонном сегменте(min).  \n",
    "Помимо этого нужно определить rolling_mean, поэтому определим, какое окно в скользяще среднем лучше всего напоминает данные."
   ]
  },
  {
   "cell_type": "code",
   "execution_count": 13,
   "metadata": {},
   "outputs": [
    {
     "data": {
      "text/plain": [
       "11"
      ]
     },
     "execution_count": 13,
     "metadata": {},
     "output_type": "execute_result"
    }
   ],
   "source": [
    "\n",
    "decomposed_taxi_24h = seasonal_decompose(taxi['2018-08-30':'2018-08-31'])\n",
    "\n",
    "max_lag = ((decomposed_taxi_24h.seasonal.idxmax() - decomposed_taxi_24h.seasonal.idxmin()) \n",
    "            // np.timedelta64(1, 'h'))[0]\n",
    "\n",
    "max_lag"
   ]
  },
  {
   "cell_type": "code",
   "execution_count": 14,
   "metadata": {},
   "outputs": [
    {
     "data": {
      "text/plain": [
       "33"
      ]
     },
     "execution_count": 14,
     "metadata": {},
     "output_type": "execute_result"
    }
   ],
   "source": [
    "\n",
    "rolling_mean_size_dict = {}\n",
    "for rolling_mean_size in range(2,49):\n",
    "    data = taxi['2018-08-30':'2018-08-31']\n",
    "    data['rolling_mean'] = data['num_orders'].rolling(rolling_mean_size).mean()\n",
    "    data.dropna(inplace=True)\n",
    "    index = data.index\n",
    "    num_orders = data['num_orders']\n",
    "    rolling_mean = data['rolling_mean']\n",
    "    RMSE = mean_squared_error(num_orders,rolling_mean)**0.5\n",
    "    rolling_mean_size_dict[rolling_mean_size] = RMSE\n",
    "    \n",
    "rolling_mean_size = min(rolling_mean_size_dict.keys(), key=(lambda x: rolling_mean_size_dict[x]))\n",
    "rolling_mean_size"
   ]
  },
  {
   "cell_type": "markdown",
   "metadata": {},
   "source": [
    "Теперь можно перейти к созданию признаков."
   ]
  },
  {
   "cell_type": "code",
   "execution_count": 15,
   "metadata": {},
   "outputs": [],
   "source": [
    "def make_features(data, column, max_lag, rolling_mean_size):\n",
    "    data['dayofweek'] = data.index.dayofweek\n",
    "    data['hour'] = data.index.hour\n",
    "    \n",
    "    for lag in range(1, max_lag + 1):\n",
    "        data['lag_{}'.format(lag)] = data[column].shift(lag)\n",
    "\n",
    "    data['rolling_mean'] = data[column].shift().rolling(rolling_mean_size).mean()"
   ]
  },
  {
   "cell_type": "code",
   "execution_count": 16,
   "metadata": {},
   "outputs": [],
   "source": [
    "taxi_copy = taxi.copy()\n",
    "make_features(taxi,'num_orders', max_lag, rolling_mean_size)\n",
    "\n",
    "train, test = train_test_split(taxi, shuffle=False, test_size=0.1, random_state = 1234567)\n",
    "valid,test = train_test_split(test,shuffle = False, random_state = 1234567, test_size = 0.5)\n",
    "train = train.dropna()\n",
    "\n",
    "features_train = train.drop('num_orders', axis=1)\n",
    "target_train = train['num_orders']\n",
    "features_test = test.drop('num_orders', axis=1)\n",
    "target_test = test['num_orders']\n",
    "features_valid = valid.drop('num_orders', axis=1)\n",
    "target_valid = valid['num_orders']"
   ]
  },
  {
   "cell_type": "markdown",
   "metadata": {},
   "source": [
    "- данные проанализированы\n",
    "- признаки созданы\n",
    "- подготовка к обучению завершена"
   ]
  },
  {
   "cell_type": "markdown",
   "metadata": {},
   "source": [
    "## Обучение"
   ]
  },
  {
   "cell_type": "code",
   "execution_count": 17,
   "metadata": {},
   "outputs": [
    {
     "name": "stdout",
     "output_type": "stream",
     "text": [
      "CPU times: user 5min 20s, sys: 1 s, total: 5min 21s\n",
      "Wall time: 5min 22s\n"
     ]
    },
    {
     "data": {
      "text/plain": [
       "GridSearchCV(cv='warn', error_score='raise-deprecating',\n",
       "             estimator=ExtraTreesRegressor(bootstrap=False, criterion='mse',\n",
       "                                           max_depth=None, max_features='auto',\n",
       "                                           max_leaf_nodes=None,\n",
       "                                           min_impurity_decrease=0.0,\n",
       "                                           min_impurity_split=None,\n",
       "                                           min_samples_leaf=1,\n",
       "                                           min_samples_split=2,\n",
       "                                           min_weight_fraction_leaf=0.0,\n",
       "                                           n_estimators='warn', n_jobs=None,\n",
       "                                           oob_score=False, random_state=None,\n",
       "                                           verbose=0, warm_start=False),\n",
       "             iid='warn', n_jobs=None,\n",
       "             param_grid=[{'criterion': ['mse'],\n",
       "                          'max_depth': [2, 3, 4, 5, 6, 7, 8, 9, 10, 11, 12, 13,\n",
       "                                        14, 15, 16, 17, 18, 19, 20],\n",
       "                          'n_estimators': [100, 150, 200, 250, 300],\n",
       "                          'random_state': [1234567]}],\n",
       "             pre_dispatch='2*n_jobs', refit=True, return_train_score=False,\n",
       "             scoring='neg_mean_squared_error', verbose=0)"
      ]
     },
     "execution_count": 17,
     "metadata": {},
     "output_type": "execute_result"
    }
   ],
   "source": [
    "%%time\n",
    "\n",
    "regressor = ExtraTreesRegressor() \n",
    "max_depth_list = [x for x in range(2, 21)]\n",
    "hyperparams = [{'criterion':['mse'],\n",
    "                'max_depth':max_depth_list, \n",
    "                'n_estimators':[x for x in range(100, 301, 50)],\n",
    "                'random_state':[1234567]}]\n",
    "\n",
    "ETR_grid = GridSearchCV(regressor, hyperparams, scoring='neg_mean_squared_error')\n",
    "ETR_grid.fit(features_train, target_train)"
   ]
  },
  {
   "cell_type": "markdown",
   "metadata": {},
   "source": [
    "**CatBoost**"
   ]
  },
  {
   "cell_type": "code",
   "execution_count": 18,
   "metadata": {},
   "outputs": [],
   "source": [
    "splits = TimeSeriesSplit(n_splits=8)"
   ]
  },
  {
   "cell_type": "code",
   "execution_count": 19,
   "metadata": {},
   "outputs": [
    {
     "name": "stdout",
     "output_type": "stream",
     "text": [
      "0:\tloss: 32.6622282\tbest: 32.6622282 (0)\ttotal: 20.2s\tremaining: 3m 2s\n",
      "1:\tloss: 32.1078922\tbest: 32.1078922 (1)\ttotal: 35s\tremaining: 2m 20s\n",
      "2:\tloss: 31.8931993\tbest: 31.8931993 (2)\ttotal: 51s\tremaining: 1m 58s\n",
      "3:\tloss: 33.0281926\tbest: 31.8931993 (2)\ttotal: 1m 6s\tremaining: 1m 39s\n",
      "4:\tloss: 34.6793070\tbest: 31.8931993 (2)\ttotal: 1m 21s\tremaining: 1m 21s\n",
      "5:\tloss: 38.4451737\tbest: 31.8931993 (2)\ttotal: 2m 58s\tremaining: 1m 58s\n",
      "6:\tloss: 37.4729006\tbest: 31.8931993 (2)\ttotal: 4m 34s\tremaining: 1m 57s\n",
      "7:\tloss: 37.3344208\tbest: 31.8931993 (2)\ttotal: 6m 11s\tremaining: 1m 32s\n",
      "8:\tloss: 38.2262408\tbest: 31.8931993 (2)\ttotal: 7m 47s\tremaining: 52s\n",
      "9:\tloss: 39.9944753\tbest: 31.8931993 (2)\ttotal: 9m 24s\tremaining: 0us\n",
      "Estimating final quality...\n"
     ]
    }
   ],
   "source": [
    "catboost = CatBoostRegressor(loss_function='RMSE', random_state = 1234567)\n",
    "parameters_cat = {'depth':[5,10], 'learning_rate':np.arange(0.1,1,0.2)}\n",
    "catboost_grid = catboost.grid_search(parameters_cat,\n",
    "                    Pool(features_train, target_train),cv=splits,verbose=True)"
   ]
  },
  {
   "cell_type": "code",
   "execution_count": 20,
   "metadata": {},
   "outputs": [
    {
     "name": "stdout",
     "output_type": "stream",
     "text": [
      "0:\tlearn: 31.5998130\ttotal: 3.54ms\tremaining: 3.54s\n",
      "100:\tlearn: 14.9855076\ttotal: 1.63s\tremaining: 14.5s\n",
      "200:\tlearn: 11.1704618\ttotal: 3.38s\tremaining: 13.4s\n",
      "300:\tlearn: 8.6781251\ttotal: 5.04s\tremaining: 11.7s\n",
      "400:\tlearn: 6.8914128\ttotal: 6.71s\tremaining: 10s\n",
      "500:\tlearn: 5.4835197\ttotal: 8.47s\tremaining: 8.43s\n",
      "600:\tlearn: 4.4036048\ttotal: 10.1s\tremaining: 6.72s\n",
      "700:\tlearn: 3.4634953\ttotal: 12s\tremaining: 5.11s\n",
      "800:\tlearn: 2.7935405\ttotal: 13.7s\tremaining: 3.42s\n",
      "900:\tlearn: 2.2600807\ttotal: 15.4s\tremaining: 1.69s\n",
      "999:\tlearn: 1.8164783\ttotal: 17.2s\tremaining: 0us\n",
      "CPU times: user 15.1 s, sys: 2.5 s, total: 17.6 s\n",
      "Wall time: 18.7 s\n"
     ]
    },
    {
     "data": {
      "text/plain": [
       "<catboost.core.CatBoostRegressor at 0x7ff97bf21310>"
      ]
     },
     "execution_count": 20,
     "metadata": {},
     "output_type": "execute_result"
    }
   ],
   "source": [
    "%%time\n",
    "final_cat = CatBoostRegressor(depth=catboost_grid[\"params\"][\"depth\"], \n",
    "                              learning_rate=catboost_grid[\"params\"]['learning_rate'],\n",
    "                              loss_function='RMSE',verbose=100)\n",
    "final_cat.fit(Pool(features_train, target_train))"
   ]
  },
  {
   "cell_type": "markdown",
   "metadata": {},
   "source": [
    "**LightGBM**"
   ]
  },
  {
   "cell_type": "code",
   "execution_count": 21,
   "metadata": {},
   "outputs": [
    {
     "name": "stdout",
     "output_type": "stream",
     "text": [
      "[100]\ttraining's l2: 201.416\tvalid_1's l2: 1397.66\n",
      "[200]\ttraining's l2: 116.189\tvalid_1's l2: 1372.98\n",
      "[300]\ttraining's l2: 70.9356\tvalid_1's l2: 1364.92\n",
      "[400]\ttraining's l2: 43.5572\tvalid_1's l2: 1368.47\n",
      "[500]\ttraining's l2: 28.2641\tvalid_1's l2: 1369.61\n",
      "[600]\ttraining's l2: 18.2637\tvalid_1's l2: 1369.14\n",
      "[700]\ttraining's l2: 11.8077\tvalid_1's l2: 1371.75\n",
      "[800]\ttraining's l2: 7.94673\tvalid_1's l2: 1381.12\n",
      "[900]\ttraining's l2: 5.56391\tvalid_1's l2: 1378.4\n",
      "[1000]\ttraining's l2: 3.61175\tvalid_1's l2: 1376.58\n",
      "CPU times: user 16.9 s, sys: 227 ms, total: 17.1 s\n",
      "Wall time: 17.3 s\n"
     ]
    }
   ],
   "source": [
    "%%time\n",
    "\n",
    "lgb_train = lgb.Dataset(features_train, target_train)\n",
    "lgb_valid = lgb.Dataset(features_valid, target_valid, reference=lgb_train)\n",
    "parameters_light = {'metric': 'l2', 'max_depth':10,\"random_state\": 1234567,\"learning_rate\":0.1}\n",
    "light = lgb.train(parameters_light,\n",
    "                lgb_train,\n",
    "                num_boost_round=1000,\n",
    "                valid_sets=[lgb_train,lgb_valid],\n",
    "                verbose_eval=100)"
   ]
  },
  {
   "cell_type": "markdown",
   "metadata": {},
   "source": [
    "## Тестирование"
   ]
  },
  {
   "cell_type": "code",
   "execution_count": 22,
   "metadata": {},
   "outputs": [],
   "source": [
    "    # ExtraTreesRegressor\n",
    "    \n",
    "# Valid\n",
    "preds_ETR_valid = ETR_grid.best_estimator_.predict(features_valid)\n",
    "\n",
    "# Test\n",
    "ETR_test_start_time = time.time()\n",
    "preds_ETR_test = ETR_grid.best_estimator_.predict(features_test)\n",
    "ETR_test_total_time = time.time() - ETR_test_start_time\n",
    "\n",
    "# Train\n",
    "preds_ETR_train = ETR_grid.best_estimator_.predict(features_train)"
   ]
  },
  {
   "cell_type": "code",
   "execution_count": 23,
   "metadata": {},
   "outputs": [],
   "source": [
    "    # CatBoost\n",
    "    \n",
    "# Valid\n",
    "preds_Cat_valid = final_cat.predict(features_valid)\n",
    "\n",
    "# Test\n",
    "CatBoost_test_start_time = time.time()\n",
    "preds_Cat_test = final_cat.predict(features_test)\n",
    "CatBoost_test_total_time = time.time() - CatBoost_test_start_time\n",
    "\n",
    "# Train\n",
    "preds_Cat_train = final_cat.predict(features_train)"
   ]
  },
  {
   "cell_type": "code",
   "execution_count": 24,
   "metadata": {},
   "outputs": [],
   "source": [
    "   #LightGBM\n",
    "\n",
    "# Valid\n",
    "preds_Light_valid = light.predict(features_valid)\n",
    " \n",
    "# Test\n",
    "LightGBM_test_start_time = time.time()\n",
    "preds_Light_test = light.predict(features_test)\n",
    "LightGBM_test_total_time = time.time() - LightGBM_test_start_time\n",
    "\n",
    "# Train\n",
    "preds_Light_train = light.predict(features_train)"
   ]
  },
  {
   "cell_type": "code",
   "execution_count": 25,
   "metadata": {},
   "outputs": [],
   "source": [
    "#Train\n",
    "    # ExtraTreesRegressor\n",
    "RMSE_ETR_train = (mean_squared_error(target_train, preds_ETR_train))**0.5\n",
    "    # CatBoost\n",
    "RMSE_CatBoost_train = (mean_squared_error(target_train, preds_Cat_train))**0.5\n",
    "    #LightGBM\n",
    "RMSE_LightGBM_train = (mean_squared_error(target_train, preds_Light_train))**0.5\n",
    "\n",
    "# Valid\n",
    "    # ExtraTreesRegressor\n",
    "RMSE_ETR_valid = (mean_squared_error(target_valid, preds_ETR_valid))**0.5\n",
    "    # CatBoost\n",
    "RMSE_CatBoost_valid = (mean_squared_error(target_valid, preds_Cat_valid))**0.5\n",
    "    #LightGBM\n",
    "RMSE_LightGBM_valid = (mean_squared_error(target_valid, preds_Light_valid))**0.5\n",
    "\n",
    "# Test\n",
    "    # ExtraTreesRegressor\n",
    "RMSE_ETR_test = (mean_squared_error(target_test, preds_ETR_test))**0.5\n",
    "    # CatBoost\n",
    "RMSE_CatBoost_test = (mean_squared_error(target_test, preds_Cat_test))**0.5\n",
    "    #LightGBM\n",
    "RMSE_LightGBM_test = (mean_squared_error(target_test, preds_Light_test))**0.5"
   ]
  },
  {
   "cell_type": "code",
   "execution_count": 26,
   "metadata": {},
   "outputs": [],
   "source": [
    "report = pd.DataFrame(columns = [\"ExtraTrees\", \"CatBoost\", \"LightGBM\"],\n",
    "                      index = [\"RMSE(train)\",\n",
    "                               \"RMSE(valid)\",\n",
    "                               \"RMSE(test)\",\n",
    "                               \"Время обучения, сек\",\n",
    "                               \"Время предсказания, сек\"])\n",
    "\n",
    "\n",
    "report.iloc[0] = [RMSE_ETR_train, RMSE_CatBoost_train, RMSE_LightGBM_train]\n",
    "report.iloc[1] = [RMSE_ETR_valid, RMSE_CatBoost_valid, RMSE_LightGBM_valid]\n",
    "report.iloc[2] = [RMSE_ETR_test, RMSE_CatBoost_test, RMSE_LightGBM_test]\n",
    "report.iloc[3] = [5.2,1.62,1.44]\n",
    "report.iloc[4] = [ETR_test_total_time, CatBoost_test_total_time, LightGBM_test_total_time]"
   ]
  },
  {
   "cell_type": "code",
   "execution_count": 27,
   "metadata": {},
   "outputs": [
    {
     "data": {
      "text/html": [
       "<div>\n",
       "<style scoped>\n",
       "    .dataframe tbody tr th:only-of-type {\n",
       "        vertical-align: middle;\n",
       "    }\n",
       "\n",
       "    .dataframe tbody tr th {\n",
       "        vertical-align: top;\n",
       "    }\n",
       "\n",
       "    .dataframe thead th {\n",
       "        text-align: right;\n",
       "    }\n",
       "</style>\n",
       "<table border=\"1\" class=\"dataframe\">\n",
       "  <thead>\n",
       "    <tr style=\"text-align: right;\">\n",
       "      <th></th>\n",
       "      <th>ExtraTrees</th>\n",
       "      <th>CatBoost</th>\n",
       "      <th>LightGBM</th>\n",
       "    </tr>\n",
       "  </thead>\n",
       "  <tbody>\n",
       "    <tr>\n",
       "      <td>RMSE(train)</td>\n",
       "      <td>4.03186</td>\n",
       "      <td>1.81648</td>\n",
       "      <td>1.90046</td>\n",
       "    </tr>\n",
       "    <tr>\n",
       "      <td>RMSE(valid)</td>\n",
       "      <td>36.5902</td>\n",
       "      <td>37.6331</td>\n",
       "      <td>37.1023</td>\n",
       "    </tr>\n",
       "    <tr>\n",
       "      <td>RMSE(test)</td>\n",
       "      <td>50.5614</td>\n",
       "      <td>51.4217</td>\n",
       "      <td>46.0609</td>\n",
       "    </tr>\n",
       "    <tr>\n",
       "      <td>Время обучения, сек</td>\n",
       "      <td>5.2</td>\n",
       "      <td>1.62</td>\n",
       "      <td>1.44</td>\n",
       "    </tr>\n",
       "    <tr>\n",
       "      <td>Время предсказания, сек</td>\n",
       "      <td>0.0383027</td>\n",
       "      <td>0.00350332</td>\n",
       "      <td>0.0135539</td>\n",
       "    </tr>\n",
       "  </tbody>\n",
       "</table>\n",
       "</div>"
      ],
      "text/plain": [
       "                        ExtraTrees    CatBoost   LightGBM\n",
       "RMSE(train)                4.03186     1.81648    1.90046\n",
       "RMSE(valid)                36.5902     37.6331    37.1023\n",
       "RMSE(test)                 50.5614     51.4217    46.0609\n",
       "Время обучения, сек            5.2        1.62       1.44\n",
       "Время предсказания, сек  0.0383027  0.00350332  0.0135539"
      ]
     },
     "metadata": {},
     "output_type": "display_data"
    }
   ],
   "source": [
    "display(report)"
   ]
  },
  {
   "cell_type": "code",
   "execution_count": 28,
   "metadata": {},
   "outputs": [
    {
     "data": {
      "image/png": "[encoded data removed]",
      "text/plain": [
       "<Figure size 1008x576 with 1 Axes>"
      ]
     },
     "metadata": {},
     "output_type": "display_data"
    }
   ],
   "source": [
    "frame = {'Target':target_test, 'Prediction':preds_Light_test}\n",
    "result = pd.DataFrame(frame)\n",
    "\n",
    "plt.figure(figsize=(14,8))\n",
    "sns.lineplot(data=result);"
   ]
  },
  {
   "cell_type": "markdown",
   "metadata": {},
   "source": [
    "Обучены три различные модели:**ExtraTrees**, **CatBoost**, **LGBM**.  \n",
    "Единственной моделью, которая выполнила условие (RMSE на тестовой выборке должно быть не больше 48), стала **LGBM**. Значение RMSE для нее составило 45.9573, дополнительно стоит отметить, что время обучения у этой модели наименьшее."
   ]
  }
 ],
 "metadata": {
  "ExecuteTimeLog": [
   {
    "duration": 1881,
    "start_time": "2021-08-10T09:52:16.335Z"
   },
   {
    "duration": 42,
    "start_time": "2021-08-10T09:53:03.148Z"
   },
   {
    "duration": 317,
    "start_time": "2021-08-10T09:53:32.825Z"
   },
   {
    "duration": 7,
    "start_time": "2021-08-10T09:53:36.811Z"
   },
   {
    "duration": 38,
    "start_time": "2021-08-10T09:53:37.290Z"
   },
   {
    "duration": 7,
    "start_time": "2021-08-10T09:53:37.694Z"
   },
   {
    "duration": 36,
    "start_time": "2021-08-10T09:55:02.041Z"
   },
   {
    "duration": 8,
    "start_time": "2021-08-10T09:58:38.255Z"
   },
   {
    "duration": 650,
    "start_time": "2021-08-10T10:03:13.130Z"
   },
   {
    "duration": 1221,
    "start_time": "2021-08-10T10:07:59.238Z"
   },
   {
    "duration": 43,
    "start_time": "2021-08-10T10:08:00.460Z"
   },
   {
    "duration": 10,
    "start_time": "2021-08-10T10:08:00.507Z"
   },
   {
    "duration": 679,
    "start_time": "2021-08-10T10:08:00.519Z"
   },
   {
    "duration": 1129,
    "start_time": "2021-08-10T10:17:22.938Z"
   },
   {
    "duration": 1946,
    "start_time": "2021-08-10T10:17:34.679Z"
   },
   {
    "duration": 2650,
    "start_time": "2021-08-10T10:24:48.563Z"
   },
   {
    "duration": 457,
    "start_time": "2021-08-10T10:26:33.623Z"
   },
   {
    "duration": 2241,
    "start_time": "2021-08-10T10:26:45.669Z"
   },
   {
    "duration": 2265,
    "start_time": "2021-08-10T10:27:18.415Z"
   },
   {
    "duration": 296,
    "start_time": "2021-08-10T10:28:14.780Z"
   },
   {
    "duration": 9,
    "start_time": "2021-08-10T10:28:25.229Z"
   },
   {
    "duration": 651,
    "start_time": "2021-08-10T10:28:26.412Z"
   },
   {
    "duration": 258,
    "start_time": "2021-08-10T10:40:16.312Z"
   },
   {
    "duration": 459,
    "start_time": "2021-08-10T10:40:34.397Z"
   },
   {
    "duration": 1475,
    "start_time": "2021-08-10T10:43:09.724Z"
   },
   {
    "duration": 1363,
    "start_time": "2021-08-10T11:12:39.455Z"
   },
   {
    "duration": 88,
    "start_time": "2021-08-10T11:13:56.715Z"
   },
   {
    "duration": 253,
    "start_time": "2021-08-10T11:14:02.483Z"
   },
   {
    "duration": 1447,
    "start_time": "2021-08-10T11:14:45.085Z"
   },
   {
    "duration": 662,
    "start_time": "2021-08-10T11:20:45.749Z"
   },
   {
    "duration": 1146,
    "start_time": "2021-08-10T11:20:57.839Z"
   },
   {
    "duration": 38,
    "start_time": "2021-08-10T11:20:58.987Z"
   },
   {
    "duration": 10,
    "start_time": "2021-08-10T11:20:59.027Z"
   },
   {
    "duration": 9,
    "start_time": "2021-08-10T11:20:59.039Z"
   },
   {
    "duration": 690,
    "start_time": "2021-08-10T11:20:59.049Z"
   },
   {
    "duration": 1555,
    "start_time": "2021-08-10T11:20:59.741Z"
   },
   {
    "duration": 1727,
    "start_time": "2021-08-10T11:21:01.298Z"
   },
   {
    "duration": 354,
    "start_time": "2021-08-10T11:21:03.027Z"
   },
   {
    "duration": 1347,
    "start_time": "2021-08-10T11:21:49.178Z"
   },
   {
    "duration": 416,
    "start_time": "2021-08-10T11:25:59.764Z"
   },
   {
    "duration": 300,
    "start_time": "2021-08-10T11:34:04.324Z"
   },
   {
    "duration": 233,
    "start_time": "2021-08-10T11:34:16.458Z"
   },
   {
    "duration": 1220,
    "start_time": "2021-08-10T11:35:01.473Z"
   },
   {
    "duration": 1703,
    "start_time": "2021-08-10T11:35:11.452Z"
   },
   {
    "duration": 1771,
    "start_time": "2021-08-10T11:35:27.662Z"
   },
   {
    "duration": 1814,
    "start_time": "2021-08-10T11:35:35.671Z"
   },
   {
    "duration": 236,
    "start_time": "2021-08-10T11:35:53.539Z"
   },
   {
    "duration": 263,
    "start_time": "2021-08-10T11:36:08.061Z"
   },
   {
    "duration": 2898,
    "start_time": "2021-08-10T11:36:25.169Z"
   },
   {
    "duration": 2630,
    "start_time": "2021-08-10T11:36:44.028Z"
   },
   {
    "duration": 2869,
    "start_time": "2021-08-10T11:36:50.769Z"
   },
   {
    "duration": 2251,
    "start_time": "2021-08-10T11:37:16.142Z"
   },
   {
    "duration": 495,
    "start_time": "2021-08-10T12:04:10.872Z"
   },
   {
    "duration": 1576,
    "start_time": "2021-08-10T12:04:35.396Z"
   },
   {
    "duration": 1667,
    "start_time": "2021-08-10T12:06:15.040Z"
   },
   {
    "duration": 1590,
    "start_time": "2021-08-10T12:06:33.648Z"
   },
   {
    "duration": 983,
    "start_time": "2021-08-10T12:06:43.731Z"
   },
   {
    "duration": 2270,
    "start_time": "2021-08-10T12:06:48.239Z"
   },
   {
    "duration": 982,
    "start_time": "2021-08-10T12:08:13.533Z"
   },
   {
    "duration": 1017,
    "start_time": "2021-08-10T12:08:25.419Z"
   },
   {
    "duration": 986,
    "start_time": "2021-08-10T12:08:29.835Z"
   },
   {
    "duration": 1110,
    "start_time": "2021-08-10T12:09:34.069Z"
   },
   {
    "duration": 2749,
    "start_time": "2021-08-10T12:09:58.429Z"
   },
   {
    "duration": 2833,
    "start_time": "2021-08-10T12:10:15.800Z"
   },
   {
    "duration": 265,
    "start_time": "2021-08-10T12:12:12.336Z"
   },
   {
    "duration": 1563,
    "start_time": "2021-08-10T12:13:35.770Z"
   },
   {
    "duration": 1713,
    "start_time": "2021-08-10T12:13:43.928Z"
   },
   {
    "duration": 1581,
    "start_time": "2021-08-10T12:13:52.238Z"
   },
   {
    "duration": 1631,
    "start_time": "2021-08-10T12:14:03.138Z"
   },
   {
    "duration": 2379,
    "start_time": "2021-08-10T12:17:40.481Z"
   },
   {
    "duration": 77,
    "start_time": "2021-08-10T12:18:39.969Z"
   },
   {
    "duration": 2214,
    "start_time": "2021-08-10T12:18:44.188Z"
   },
   {
    "duration": 1783,
    "start_time": "2021-08-10T12:19:07.039Z"
   },
   {
    "duration": 918,
    "start_time": "2021-08-10T12:20:49.366Z"
   },
   {
    "duration": 1938,
    "start_time": "2021-08-10T12:21:02.070Z"
   },
   {
    "duration": 1550,
    "start_time": "2021-08-10T12:21:07.665Z"
   },
   {
    "duration": 1668,
    "start_time": "2021-08-10T12:32:59.416Z"
   },
   {
    "duration": 1703,
    "start_time": "2021-08-10T12:34:15.225Z"
   },
   {
    "duration": 1970,
    "start_time": "2021-08-10T12:34:31.954Z"
   },
   {
    "duration": 1846,
    "start_time": "2021-08-10T12:34:56.312Z"
   },
   {
    "duration": 604,
    "start_time": "2021-08-10T12:35:37.153Z"
   },
   {
    "duration": 1122,
    "start_time": "2021-08-10T12:36:01.212Z"
   },
   {
    "duration": 967,
    "start_time": "2021-08-10T12:36:15.985Z"
   },
   {
    "duration": 1821,
    "start_time": "2021-08-10T12:36:41.744Z"
   },
   {
    "duration": 1946,
    "start_time": "2021-08-10T12:36:50.574Z"
   },
   {
    "duration": 2213,
    "start_time": "2021-08-10T12:37:10.418Z"
   },
   {
    "duration": 1948,
    "start_time": "2021-08-10T12:38:43.191Z"
   },
   {
    "duration": 1942,
    "start_time": "2021-08-10T12:39:11.955Z"
   },
   {
    "duration": 1995,
    "start_time": "2021-08-10T12:39:34.833Z"
   },
   {
    "duration": 1739,
    "start_time": "2021-08-10T12:50:23.932Z"
   },
   {
    "duration": 3375,
    "start_time": "2021-08-10T12:50:46.041Z"
   },
   {
    "duration": 2153,
    "start_time": "2021-08-10T12:51:12.311Z"
   },
   {
    "duration": 1962,
    "start_time": "2021-08-10T12:51:38.339Z"
   },
   {
    "duration": 1947,
    "start_time": "2021-08-10T12:54:19.810Z"
   },
   {
    "duration": 1024,
    "start_time": "2021-08-10T12:54:42.360Z"
   },
   {
    "duration": 1938,
    "start_time": "2021-08-10T12:54:51.460Z"
   },
   {
    "duration": 1102,
    "start_time": "2021-08-10T13:16:30.327Z"
   },
   {
    "duration": 712,
    "start_time": "2021-08-10T13:21:10.994Z"
   },
   {
    "duration": 793,
    "start_time": "2021-08-10T13:21:34.787Z"
   },
   {
    "duration": 2161,
    "start_time": "2021-08-10T13:22:01.884Z"
   },
   {
    "duration": 3374,
    "start_time": "2021-08-10T13:22:57.525Z"
   },
   {
    "duration": 2023,
    "start_time": "2021-08-10T13:23:17.100Z"
   },
   {
    "duration": 2024,
    "start_time": "2021-08-10T13:24:07.838Z"
   },
   {
    "duration": 1983,
    "start_time": "2021-08-10T13:24:20.547Z"
   },
   {
    "duration": 2015,
    "start_time": "2021-08-10T13:27:16.097Z"
   },
   {
    "duration": 2384,
    "start_time": "2021-08-10T13:32:33.340Z"
   },
   {
    "duration": 372,
    "start_time": "2021-08-10T13:33:08.842Z"
   },
   {
    "duration": 365,
    "start_time": "2021-08-10T13:33:19.149Z"
   },
   {
    "duration": 1234,
    "start_time": "2021-08-10T13:35:06.909Z"
   },
   {
    "duration": 41,
    "start_time": "2021-08-10T13:35:08.145Z"
   },
   {
    "duration": 12,
    "start_time": "2021-08-10T13:35:08.188Z"
   },
   {
    "duration": 10,
    "start_time": "2021-08-10T13:35:08.203Z"
   },
   {
    "duration": 742,
    "start_time": "2021-08-10T13:35:08.214Z"
   },
   {
    "duration": 1743,
    "start_time": "2021-08-10T13:35:08.958Z"
   },
   {
    "duration": 2382,
    "start_time": "2021-08-10T13:35:10.792Z"
   },
   {
    "duration": 377,
    "start_time": "2021-08-10T13:35:13.176Z"
   },
   {
    "duration": 362,
    "start_time": "2021-08-10T13:37:25.529Z"
   },
   {
    "duration": 957,
    "start_time": "2021-08-10T13:49:33.813Z"
   },
   {
    "duration": 383,
    "start_time": "2021-08-10T14:25:24.328Z"
   },
   {
    "duration": 14,
    "start_time": "2021-08-10T14:25:37.584Z"
   },
   {
    "duration": 10,
    "start_time": "2021-08-10T14:25:48.371Z"
   },
   {
    "duration": 11,
    "start_time": "2021-08-10T14:26:17.743Z"
   },
   {
    "duration": 231,
    "start_time": "2021-08-10T14:32:58.945Z"
   },
   {
    "duration": 238,
    "start_time": "2021-08-10T14:33:18.027Z"
   },
   {
    "duration": 237,
    "start_time": "2021-08-10T14:33:29.073Z"
   },
   {
    "duration": 11265,
    "start_time": "2021-08-10T14:35:37.411Z"
   },
   {
    "duration": 186,
    "start_time": "2021-08-10T14:36:01.240Z"
   },
   {
    "duration": 177,
    "start_time": "2021-08-10T14:37:13.353Z"
   },
   {
    "duration": 529,
    "start_time": "2021-08-10T14:37:25.692Z"
   },
   {
    "duration": 388,
    "start_time": "2021-08-10T14:38:47.999Z"
   },
   {
    "duration": 385,
    "start_time": "2021-08-10T14:39:18.703Z"
   },
   {
    "duration": 396,
    "start_time": "2021-08-10T14:39:36.798Z"
   },
   {
    "duration": 252,
    "start_time": "2021-08-10T14:41:10.963Z"
   },
   {
    "duration": 12980,
    "start_time": "2021-08-10T14:41:18.192Z"
   },
   {
    "duration": 206,
    "start_time": "2021-08-10T14:41:50.197Z"
   },
   {
    "duration": 5,
    "start_time": "2021-08-10T14:46:22.252Z"
   },
   {
    "duration": 4,
    "start_time": "2021-08-10T14:48:17.547Z"
   },
   {
    "duration": 360,
    "start_time": "2021-08-10T14:48:27.117Z"
   },
   {
    "duration": 5,
    "start_time": "2021-08-10T14:48:41.645Z"
   },
   {
    "duration": 268,
    "start_time": "2021-08-10T14:53:33.831Z"
   },
   {
    "duration": 258,
    "start_time": "2021-08-10T14:53:47.482Z"
   },
   {
    "duration": 1590,
    "start_time": "2021-08-10T14:55:18.596Z"
   },
   {
    "duration": 53,
    "start_time": "2021-08-10T14:55:20.188Z"
   },
   {
    "duration": 13,
    "start_time": "2021-08-10T14:55:20.244Z"
   },
   {
    "duration": 11,
    "start_time": "2021-08-10T14:55:20.260Z"
   },
   {
    "duration": 1081,
    "start_time": "2021-08-10T14:55:20.273Z"
   },
   {
    "duration": 3149,
    "start_time": "2021-08-10T14:55:21.357Z"
   },
   {
    "duration": 2634,
    "start_time": "2021-08-10T14:55:24.511Z"
   },
   {
    "duration": 403,
    "start_time": "2021-08-10T14:55:27.146Z"
   },
   {
    "duration": 1166,
    "start_time": "2021-08-10T14:55:27.552Z"
   },
   {
    "duration": 13,
    "start_time": "2021-08-10T14:55:28.721Z"
   },
   {
    "duration": 193,
    "start_time": "2021-08-10T14:55:28.735Z"
   },
   {
    "duration": 3,
    "start_time": "2021-08-10T14:55:28.930Z"
   },
   {
    "duration": 22,
    "start_time": "2021-08-10T15:01:23.133Z"
   },
   {
    "duration": 18,
    "start_time": "2021-08-10T15:04:02.625Z"
   },
   {
    "duration": 334,
    "start_time": "2021-08-10T15:44:43.947Z"
   },
   {
    "duration": 11744,
    "start_time": "2021-08-10T15:45:30.417Z"
   },
   {
    "duration": 600590,
    "start_time": "2021-08-10T15:46:27.174Z"
   },
   {
    "duration": 8,
    "start_time": "2021-08-10T16:09:03.694Z"
   },
   {
    "duration": 213,
    "start_time": "2021-08-10T16:16:07.958Z"
   },
   {
    "duration": 26,
    "start_time": "2021-08-10T16:17:23.194Z"
   },
   {
    "duration": 468,
    "start_time": "2021-08-10T16:17:25.954Z"
   },
   {
    "duration": 6266,
    "start_time": "2021-08-10T16:25:00.503Z"
   },
   {
    "duration": 36,
    "start_time": "2021-08-10T16:27:00.702Z"
   },
   {
    "duration": 1253,
    "start_time": "2021-08-10T16:28:35.303Z"
   },
   {
    "duration": 33,
    "start_time": "2021-08-10T16:28:37.043Z"
   },
   {
    "duration": 13,
    "start_time": "2021-08-10T16:28:38.602Z"
   },
   {
    "duration": 7,
    "start_time": "2021-08-10T16:29:40.214Z"
   },
   {
    "duration": 11,
    "start_time": "2021-08-10T16:29:44.232Z"
   },
   {
    "duration": 10,
    "start_time": "2021-08-10T16:30:22.636Z"
   },
   {
    "duration": 730,
    "start_time": "2021-08-10T16:33:17.253Z"
   },
   {
    "duration": 2526,
    "start_time": "2021-08-10T16:33:24.291Z"
   },
   {
    "duration": 2152,
    "start_time": "2021-08-10T16:33:35.358Z"
   },
   {
    "duration": 1378,
    "start_time": "2021-08-10T16:49:58.844Z"
   },
   {
    "duration": 227,
    "start_time": "2021-08-10T16:50:06.217Z"
   },
   {
    "duration": 18,
    "start_time": "2021-08-10T16:50:35.808Z"
   },
   {
    "duration": 2,
    "start_time": "2021-08-10T16:50:37.527Z"
   },
   {
    "duration": 1271,
    "start_time": "2021-08-10T16:50:38.123Z"
   },
   {
    "duration": 1593,
    "start_time": "2021-08-10T16:51:13.112Z"
   },
   {
    "duration": 1469,
    "start_time": "2021-08-10T17:01:34.396Z"
   },
   {
    "duration": 1431,
    "start_time": "2021-08-10T17:02:22.487Z"
   },
   {
    "duration": 1706,
    "start_time": "2021-08-10T17:02:39.824Z"
   },
   {
    "duration": 2080,
    "start_time": "2021-08-10T17:02:57.828Z"
   },
   {
    "duration": 1879,
    "start_time": "2021-08-10T17:03:15.758Z"
   },
   {
    "duration": 2392,
    "start_time": "2021-08-10T17:03:29.815Z"
   },
   {
    "duration": 1556,
    "start_time": "2021-08-10T17:03:44.479Z"
   },
   {
    "duration": 1571,
    "start_time": "2021-08-10T17:04:07.311Z"
   },
   {
    "duration": 1193,
    "start_time": "2021-08-10T17:04:28.153Z"
   },
   {
    "duration": 1827,
    "start_time": "2021-08-10T17:04:57.189Z"
   },
   {
    "duration": 1457,
    "start_time": "2021-08-10T17:05:59.287Z"
   },
   {
    "duration": 11,
    "start_time": "2021-08-10T17:11:15.970Z"
   },
   {
    "duration": 158,
    "start_time": "2021-08-10T17:11:17.278Z"
   },
   {
    "duration": 3,
    "start_time": "2021-08-10T17:11:20.607Z"
   },
   {
    "duration": 450,
    "start_time": "2021-08-10T17:12:21.466Z"
   },
   {
    "duration": 4,
    "start_time": "2021-08-10T17:12:46.899Z"
   },
   {
    "duration": 21,
    "start_time": "2021-08-10T17:12:50.769Z"
   },
   {
    "duration": 198,
    "start_time": "2021-08-10T17:19:11.398Z"
   },
   {
    "duration": 217,
    "start_time": "2021-08-10T17:19:25.082Z"
   },
   {
    "duration": 520,
    "start_time": "2021-08-10T17:21:58.174Z"
   },
   {
    "duration": 8,
    "start_time": "2021-08-10T17:25:12.627Z"
   },
   {
    "duration": 10,
    "start_time": "2021-08-10T17:27:01.245Z"
   },
   {
    "duration": 3,
    "start_time": "2021-08-10T17:27:33.020Z"
   },
   {
    "duration": 855,
    "start_time": "2021-08-10T17:27:50.737Z"
   },
   {
    "duration": 24,
    "start_time": "2021-08-10T17:27:54.753Z"
   },
   {
    "duration": 3,
    "start_time": "2021-08-10T17:27:55.277Z"
   },
   {
    "duration": 75,
    "start_time": "2021-08-10T17:33:42.669Z"
   },
   {
    "duration": 282,
    "start_time": "2021-08-10T17:33:50.835Z"
   },
   {
    "duration": 236,
    "start_time": "2021-08-10T17:34:46.631Z"
   },
   {
    "duration": 2363272,
    "start_time": "2021-08-10T17:37:39.085Z"
   },
   {
    "duration": 1126,
    "start_time": "2021-08-10T18:43:50.209Z"
   },
   {
    "duration": 30,
    "start_time": "2021-08-10T18:43:51.337Z"
   },
   {
    "duration": 10,
    "start_time": "2021-08-10T18:43:51.369Z"
   },
   {
    "duration": 11,
    "start_time": "2021-08-10T18:43:51.381Z"
   },
   {
    "duration": 12,
    "start_time": "2021-08-10T18:43:51.393Z"
   },
   {
    "duration": 10,
    "start_time": "2021-08-10T18:43:51.406Z"
   },
   {
    "duration": 694,
    "start_time": "2021-08-10T18:43:51.417Z"
   },
   {
    "duration": 1587,
    "start_time": "2021-08-10T18:43:52.113Z"
   },
   {
    "duration": 2199,
    "start_time": "2021-08-10T18:43:53.793Z"
   },
   {
    "duration": 15,
    "start_time": "2021-08-10T18:43:55.994Z"
   },
   {
    "duration": 2,
    "start_time": "2021-08-10T18:43:56.010Z"
   },
   {
    "duration": 1598,
    "start_time": "2021-08-10T18:43:56.014Z"
   },
   {
    "duration": 10,
    "start_time": "2021-08-10T18:43:57.614Z"
   },
   {
    "duration": 173,
    "start_time": "2021-08-10T18:43:57.625Z"
   },
   {
    "duration": 4,
    "start_time": "2021-08-10T18:43:57.799Z"
   },
   {
    "duration": 25,
    "start_time": "2021-08-10T18:43:57.804Z"
   },
   {
    "duration": 267,
    "start_time": "2021-08-10T18:43:57.830Z"
   },
   {
    "duration": 195,
    "start_time": "2021-08-10T18:43:58.099Z"
   },
   {
    "duration": 6,
    "start_time": "2021-08-10T18:43:58.296Z"
   },
   {
    "duration": 1204,
    "start_time": "2021-08-10T18:49:04.160Z"
   },
   {
    "duration": 31,
    "start_time": "2021-08-10T18:49:05.365Z"
   },
   {
    "duration": 9,
    "start_time": "2021-08-10T18:49:05.397Z"
   },
   {
    "duration": 12,
    "start_time": "2021-08-10T18:49:05.408Z"
   },
   {
    "duration": 13,
    "start_time": "2021-08-10T18:49:05.421Z"
   },
   {
    "duration": 9,
    "start_time": "2021-08-10T18:49:05.435Z"
   },
   {
    "duration": 690,
    "start_time": "2021-08-10T18:49:05.445Z"
   },
   {
    "duration": 1659,
    "start_time": "2021-08-10T18:49:06.137Z"
   },
   {
    "duration": 2212,
    "start_time": "2021-08-10T18:49:07.798Z"
   },
   {
    "duration": 17,
    "start_time": "2021-08-10T18:49:10.012Z"
   },
   {
    "duration": 3,
    "start_time": "2021-08-10T18:49:10.030Z"
   },
   {
    "duration": 1453,
    "start_time": "2021-08-10T18:49:10.034Z"
   },
   {
    "duration": 12,
    "start_time": "2021-08-10T18:49:11.491Z"
   },
   {
    "duration": 173,
    "start_time": "2021-08-10T18:49:11.505Z"
   },
   {
    "duration": 14,
    "start_time": "2021-08-10T18:49:11.680Z"
   },
   {
    "duration": 24,
    "start_time": "2021-08-10T18:49:11.696Z"
   },
   {
    "duration": 4,
    "start_time": "2021-08-10T18:49:11.722Z"
   },
   {
    "duration": 365,
    "start_time": "2021-08-10T18:49:11.728Z"
   },
   {
    "duration": 100,
    "start_time": "2021-08-10T18:49:12.095Z"
   },
   {
    "duration": 7,
    "start_time": "2021-08-10T18:49:12.196Z"
   },
   {
    "duration": 201,
    "start_time": "2021-08-10T18:50:00.792Z"
   },
   {
    "duration": 1145,
    "start_time": "2021-08-10T19:03:13.634Z"
   },
   {
    "duration": 37,
    "start_time": "2021-08-10T19:03:14.780Z"
   },
   {
    "duration": 9,
    "start_time": "2021-08-10T19:03:14.819Z"
   },
   {
    "duration": 9,
    "start_time": "2021-08-10T19:03:14.830Z"
   },
   {
    "duration": 15,
    "start_time": "2021-08-10T19:03:14.841Z"
   },
   {
    "duration": 8,
    "start_time": "2021-08-10T19:03:14.857Z"
   },
   {
    "duration": 739,
    "start_time": "2021-08-10T19:03:14.867Z"
   },
   {
    "duration": 1492,
    "start_time": "2021-08-10T19:03:15.608Z"
   },
   {
    "duration": 2353,
    "start_time": "2021-08-10T19:03:17.104Z"
   },
   {
    "duration": 18,
    "start_time": "2021-08-10T19:03:19.459Z"
   },
   {
    "duration": 13,
    "start_time": "2021-08-10T19:03:19.479Z"
   },
   {
    "duration": 1573,
    "start_time": "2021-08-10T19:03:19.494Z"
   },
   {
    "duration": 10,
    "start_time": "2021-08-10T19:03:21.068Z"
   },
   {
    "duration": 172,
    "start_time": "2021-08-10T19:03:21.092Z"
   },
   {
    "duration": 4,
    "start_time": "2021-08-10T19:03:21.265Z"
   },
   {
    "duration": 40,
    "start_time": "2021-08-10T19:03:21.270Z"
   },
   {
    "duration": 345,
    "start_time": "2021-08-10T19:03:21.312Z"
   },
   {
    "duration": 1247,
    "start_time": "2021-08-10T19:06:11.572Z"
   },
   {
    "duration": 30,
    "start_time": "2021-08-10T19:06:12.820Z"
   },
   {
    "duration": 9,
    "start_time": "2021-08-10T19:06:12.852Z"
   },
   {
    "duration": 9,
    "start_time": "2021-08-10T19:06:12.863Z"
   },
   {
    "duration": 13,
    "start_time": "2021-08-10T19:06:12.873Z"
   },
   {
    "duration": 9,
    "start_time": "2021-08-10T19:06:12.891Z"
   },
   {
    "duration": 678,
    "start_time": "2021-08-10T19:06:12.901Z"
   },
   {
    "duration": 1428,
    "start_time": "2021-08-10T19:06:13.581Z"
   },
   {
    "duration": 2243,
    "start_time": "2021-08-10T19:06:15.093Z"
   },
   {
    "duration": 17,
    "start_time": "2021-08-10T19:06:17.338Z"
   },
   {
    "duration": 5,
    "start_time": "2021-08-10T19:06:17.356Z"
   },
   {
    "duration": 1442,
    "start_time": "2021-08-10T19:06:17.362Z"
   },
   {
    "duration": 11,
    "start_time": "2021-08-10T19:06:18.806Z"
   },
   {
    "duration": 178,
    "start_time": "2021-08-10T19:06:18.818Z"
   },
   {
    "duration": 3,
    "start_time": "2021-08-10T19:06:18.997Z"
   },
   {
    "duration": 29,
    "start_time": "2021-08-10T19:06:19.002Z"
   },
   {
    "duration": 10802,
    "start_time": "2021-08-10T19:06:19.033Z"
   },
   {
    "duration": 1137,
    "start_time": "2021-08-10T19:09:17.286Z"
   },
   {
    "duration": 30,
    "start_time": "2021-08-10T19:09:18.425Z"
   },
   {
    "duration": 10,
    "start_time": "2021-08-10T19:09:18.457Z"
   },
   {
    "duration": 9,
    "start_time": "2021-08-10T19:09:18.469Z"
   },
   {
    "duration": 17,
    "start_time": "2021-08-10T19:09:18.480Z"
   },
   {
    "duration": 9,
    "start_time": "2021-08-10T19:09:18.499Z"
   },
   {
    "duration": 683,
    "start_time": "2021-08-10T19:09:18.510Z"
   },
   {
    "duration": 1505,
    "start_time": "2021-08-10T19:09:19.195Z"
   },
   {
    "duration": 2104,
    "start_time": "2021-08-10T19:09:20.792Z"
   },
   {
    "duration": 16,
    "start_time": "2021-08-10T19:09:22.898Z"
   },
   {
    "duration": 4,
    "start_time": "2021-08-10T19:09:22.915Z"
   },
   {
    "duration": 1417,
    "start_time": "2021-08-10T19:09:22.920Z"
   },
   {
    "duration": 10,
    "start_time": "2021-08-10T19:09:24.339Z"
   },
   {
    "duration": 171,
    "start_time": "2021-08-10T19:09:24.350Z"
   },
   {
    "duration": 4,
    "start_time": "2021-08-10T19:09:24.523Z"
   },
   {
    "duration": 23,
    "start_time": "2021-08-10T19:09:24.529Z"
   },
   {
    "duration": 613730,
    "start_time": "2021-08-10T19:09:24.553Z"
   },
   {
    "duration": 282,
    "start_time": "2021-08-10T19:22:25.752Z"
   },
   {
    "duration": 6,
    "start_time": "2021-08-10T19:23:06.171Z"
   },
   {
    "duration": 151,
    "start_time": "2021-08-10T19:23:30.304Z"
   },
   {
    "duration": 229,
    "start_time": "2021-08-10T19:25:40.297Z"
   },
   {
    "duration": 16,
    "start_time": "2021-08-10T19:26:13.267Z"
   },
   {
    "duration": 15395,
    "start_time": "2021-08-10T19:26:20.598Z"
   },
   {
    "duration": 13192,
    "start_time": "2021-08-10T19:27:45.171Z"
   },
   {
    "duration": 316,
    "start_time": "2021-08-10T19:30:01.824Z"
   },
   {
    "duration": 6,
    "start_time": "2021-08-10T19:30:43.903Z"
   },
   {
    "duration": 649,
    "start_time": "2021-08-10T19:30:49.745Z"
   },
   {
    "duration": 8,
    "start_time": "2021-08-10T19:32:43.582Z"
   },
   {
    "duration": 8,
    "start_time": "2021-08-10T19:33:02.277Z"
   },
   {
    "duration": 7,
    "start_time": "2021-08-10T19:33:14.296Z"
   },
   {
    "duration": 1138,
    "start_time": "2021-08-10T19:49:23.276Z"
   },
   {
    "duration": 30,
    "start_time": "2021-08-10T19:49:24.418Z"
   },
   {
    "duration": 12,
    "start_time": "2021-08-10T19:49:24.450Z"
   },
   {
    "duration": 36,
    "start_time": "2021-08-10T19:49:24.464Z"
   },
   {
    "duration": 42,
    "start_time": "2021-08-10T19:49:24.502Z"
   },
   {
    "duration": 25,
    "start_time": "2021-08-10T19:49:24.545Z"
   },
   {
    "duration": 684,
    "start_time": "2021-08-10T19:49:24.571Z"
   },
   {
    "duration": 1835,
    "start_time": "2021-08-10T19:49:25.257Z"
   },
   {
    "duration": 2201,
    "start_time": "2021-08-10T19:49:27.095Z"
   },
   {
    "duration": 16,
    "start_time": "2021-08-10T19:49:29.297Z"
   },
   {
    "duration": 1557,
    "start_time": "2021-08-10T19:49:29.314Z"
   },
   {
    "duration": 22,
    "start_time": "2021-08-10T19:49:30.873Z"
   },
   {
    "duration": 167,
    "start_time": "2021-08-10T19:49:30.897Z"
   },
   {
    "duration": 4,
    "start_time": "2021-08-10T19:49:31.065Z"
   },
   {
    "duration": 47,
    "start_time": "2021-08-10T19:49:31.070Z"
   },
   {
    "duration": 5,
    "start_time": "2021-08-10T19:49:31.119Z"
   },
   {
    "duration": 11732,
    "start_time": "2021-08-10T19:49:31.125Z"
   },
   {
    "duration": 8444,
    "start_time": "2021-08-10T19:49:42.859Z"
   },
   {
    "duration": 526762,
    "start_time": "2021-08-10T19:49:51.305Z"
   },
   {
    "duration": 13136,
    "start_time": "2021-08-10T19:58:38.069Z"
   },
   {
    "duration": 692,
    "start_time": "2021-08-10T19:58:51.206Z"
   },
   {
    "duration": 7,
    "start_time": "2021-08-10T19:58:51.900Z"
   },
   {
    "duration": 13,
    "start_time": "2021-08-10T19:58:51.910Z"
   },
   {
    "duration": 15,
    "start_time": "2021-08-10T19:58:51.924Z"
   },
   {
    "duration": 237,
    "start_time": "2021-08-10T20:07:08.208Z"
   },
   {
    "duration": 6,
    "start_time": "2021-08-10T20:08:13.385Z"
   },
   {
    "duration": 155,
    "start_time": "2021-08-10T20:08:20.202Z"
   },
   {
    "duration": 173,
    "start_time": "2021-08-10T20:09:56.299Z"
   },
   {
    "duration": 247897,
    "start_time": "2021-08-10T20:11:32.153Z"
   },
   {
    "duration": 250268,
    "start_time": "2021-08-10T20:17:04.944Z"
   },
   {
    "duration": 1216,
    "start_time": "2021-08-10T20:38:37.050Z"
   },
   {
    "duration": 29,
    "start_time": "2021-08-10T20:38:38.268Z"
   },
   {
    "duration": 9,
    "start_time": "2021-08-10T20:38:38.299Z"
   },
   {
    "duration": 8,
    "start_time": "2021-08-10T20:38:38.310Z"
   },
   {
    "duration": 11,
    "start_time": "2021-08-10T20:38:38.320Z"
   },
   {
    "duration": 8,
    "start_time": "2021-08-10T20:38:38.332Z"
   },
   {
    "duration": 695,
    "start_time": "2021-08-10T20:38:38.342Z"
   },
   {
    "duration": 1560,
    "start_time": "2021-08-10T20:38:39.040Z"
   },
   {
    "duration": 2159,
    "start_time": "2021-08-10T20:38:40.693Z"
   },
   {
    "duration": 18,
    "start_time": "2021-08-10T20:38:42.854Z"
   },
   {
    "duration": 1467,
    "start_time": "2021-08-10T20:38:42.873Z"
   },
   {
    "duration": 11,
    "start_time": "2021-08-10T20:38:44.342Z"
   },
   {
    "duration": 189,
    "start_time": "2021-08-10T20:38:44.354Z"
   },
   {
    "duration": 4,
    "start_time": "2021-08-10T20:38:44.545Z"
   },
   {
    "duration": 42,
    "start_time": "2021-08-10T20:38:44.551Z"
   },
   {
    "duration": 248564,
    "start_time": "2021-08-10T20:38:44.595Z"
   },
   {
    "duration": 2,
    "start_time": "2021-08-10T20:42:53.161Z"
   },
   {
    "duration": 7,
    "start_time": "2021-08-10T20:42:53.164Z"
   },
   {
    "duration": 525777,
    "start_time": "2021-08-10T20:42:53.172Z"
   },
   {
    "duration": 12817,
    "start_time": "2021-08-10T20:51:38.951Z"
   },
   {
    "duration": 8133,
    "start_time": "2021-08-10T20:51:51.770Z"
   },
   {
    "duration": 210,
    "start_time": "2021-08-10T20:51:59.904Z"
   },
   {
    "duration": 12,
    "start_time": "2021-08-10T20:52:00.117Z"
   },
   {
    "duration": 571,
    "start_time": "2021-08-10T20:52:00.131Z"
   },
   {
    "duration": 369,
    "start_time": "2021-08-10T20:52:00.704Z"
   },
   {
    "duration": 334,
    "start_time": "2021-08-10T20:52:00.741Z"
   },
   {
    "duration": 333,
    "start_time": "2021-08-10T20:52:00.743Z"
   },
   {
    "duration": 327,
    "start_time": "2021-08-10T20:52:00.750Z"
   },
   {
    "duration": 7,
    "start_time": "2021-08-10T20:53:57.414Z"
   },
   {
    "duration": 8,
    "start_time": "2021-08-10T20:54:04.396Z"
   },
   {
    "duration": 7,
    "start_time": "2021-08-10T20:54:05.221Z"
   },
   {
    "duration": 533,
    "start_time": "2021-08-10T20:54:14.878Z"
   },
   {
    "duration": 244,
    "start_time": "2021-08-10T20:56:11.142Z"
   },
   {
    "duration": 419,
    "start_time": "2021-08-10T21:03:24.011Z"
   },
   {
    "duration": 8,
    "start_time": "2021-08-10T21:07:30.071Z"
   },
   {
    "duration": 8,
    "start_time": "2021-08-10T21:07:31.498Z"
   },
   {
    "duration": 414,
    "start_time": "2021-08-10T21:07:32.477Z"
   },
   {
    "duration": 5752,
    "start_time": "2021-08-10T21:10:43.345Z"
   },
   {
    "duration": 349,
    "start_time": "2021-08-10T21:10:48.749Z"
   },
   {
    "duration": 5838,
    "start_time": "2021-08-10T21:11:18.457Z"
   },
   {
    "duration": 8,
    "start_time": "2021-08-10T21:12:03.878Z"
   },
   {
    "duration": 7,
    "start_time": "2021-08-10T21:12:04.752Z"
   },
   {
    "duration": 422,
    "start_time": "2021-08-10T21:12:06.602Z"
   },
   {
    "duration": 8,
    "start_time": "2021-08-10T21:14:31.615Z"
   },
   {
    "duration": 7,
    "start_time": "2021-08-10T21:14:32.411Z"
   },
   {
    "duration": 1780,
    "start_time": "2021-08-11T04:20:15.958Z"
   },
   {
    "duration": 40,
    "start_time": "2021-08-11T04:20:17.741Z"
   },
   {
    "duration": 13,
    "start_time": "2021-08-11T04:20:17.784Z"
   },
   {
    "duration": 8,
    "start_time": "2021-08-11T04:20:17.805Z"
   },
   {
    "duration": 16,
    "start_time": "2021-08-11T04:20:18.237Z"
   },
   {
    "duration": 15,
    "start_time": "2021-08-11T04:20:19.794Z"
   },
   {
    "duration": 1322,
    "start_time": "2021-08-11T04:21:18.945Z"
   },
   {
    "duration": 2387,
    "start_time": "2021-08-11T04:21:20.270Z"
   },
   {
    "duration": 3990,
    "start_time": "2021-08-11T04:21:22.661Z"
   },
   {
    "duration": 33,
    "start_time": "2021-08-11T04:21:26.656Z"
   },
   {
    "duration": 2624,
    "start_time": "2021-08-11T04:21:26.691Z"
   },
   {
    "duration": 15,
    "start_time": "2021-08-11T04:21:29.318Z"
   },
   {
    "duration": 301,
    "start_time": "2021-08-11T04:21:29.356Z"
   },
   {
    "duration": 5,
    "start_time": "2021-08-11T04:21:29.659Z"
   },
   {
    "duration": 45,
    "start_time": "2021-08-11T04:21:29.667Z"
   },
   {
    "duration": 1562,
    "start_time": "2021-08-11T04:34:48.202Z"
   },
   {
    "duration": 42,
    "start_time": "2021-08-11T04:34:49.766Z"
   },
   {
    "duration": 15,
    "start_time": "2021-08-11T04:34:49.811Z"
   },
   {
    "duration": 19,
    "start_time": "2021-08-11T04:34:49.828Z"
   },
   {
    "duration": 18,
    "start_time": "2021-08-11T04:34:49.856Z"
   },
   {
    "duration": 13,
    "start_time": "2021-08-11T04:34:51.154Z"
   },
   {
    "duration": 1329,
    "start_time": "2021-08-11T04:34:51.943Z"
   },
   {
    "duration": 1987,
    "start_time": "2021-08-11T04:34:53.274Z"
   },
   {
    "duration": 4126,
    "start_time": "2021-08-11T04:34:55.264Z"
   },
   {
    "duration": 32,
    "start_time": "2021-08-11T04:34:59.394Z"
   },
   {
    "duration": 2790,
    "start_time": "2021-08-11T04:34:59.429Z"
   },
   {
    "duration": 34,
    "start_time": "2021-08-11T04:35:02.221Z"
   },
   {
    "duration": 312,
    "start_time": "2021-08-11T04:35:02.258Z"
   },
   {
    "duration": 5,
    "start_time": "2021-08-11T04:35:02.573Z"
   },
   {
    "duration": 38,
    "start_time": "2021-08-11T04:35:02.823Z"
   },
   {
    "duration": 367813,
    "start_time": "2021-08-11T04:35:06.187Z"
   },
   {
    "duration": 3,
    "start_time": "2021-08-11T04:41:48.574Z"
   },
   {
    "duration": 701878,
    "start_time": "2021-08-11T04:41:51.365Z"
   },
   {
    "duration": 22690,
    "start_time": "2021-08-11T04:53:33.246Z"
   },
   {
    "duration": 11723,
    "start_time": "2021-08-11T04:53:55.939Z"
   },
   {
    "duration": 262,
    "start_time": "2021-08-11T04:54:07.665Z"
   },
   {
    "duration": 32,
    "start_time": "2021-08-11T04:54:07.930Z"
   },
   {
    "duration": 790,
    "start_time": "2021-08-11T04:54:07.965Z"
   },
   {
    "duration": 13,
    "start_time": "2021-08-11T04:54:08.757Z"
   },
   {
    "duration": 28,
    "start_time": "2021-08-11T04:54:08.773Z"
   },
   {
    "duration": 83,
    "start_time": "2021-08-11T08:24:27.139Z"
   },
   {
    "duration": 1568,
    "start_time": "2021-08-11T10:22:38.019Z"
   },
   {
    "duration": 36,
    "start_time": "2021-08-11T10:22:39.590Z"
   },
   {
    "duration": 14,
    "start_time": "2021-08-11T10:22:39.630Z"
   },
   {
    "duration": 11,
    "start_time": "2021-08-11T10:22:39.647Z"
   },
   {
    "duration": 18,
    "start_time": "2021-08-11T10:22:39.683Z"
   },
   {
    "duration": 15,
    "start_time": "2021-08-11T10:22:39.703Z"
   },
   {
    "duration": 1262,
    "start_time": "2021-08-11T10:22:39.720Z"
   },
   {
    "duration": 2006,
    "start_time": "2021-08-11T10:22:40.986Z"
   },
   {
    "duration": 3835,
    "start_time": "2021-08-11T10:22:43.084Z"
   },
   {
    "duration": 27,
    "start_time": "2021-08-11T10:22:46.921Z"
   },
   {
    "duration": 2777,
    "start_time": "2021-08-11T10:22:46.951Z"
   },
   {
    "duration": 1410,
    "start_time": "2021-08-11T10:22:49.731Z"
   },
   {
    "duration": 15,
    "start_time": "2021-08-11T10:22:51.143Z"
   },
   {
    "duration": 292,
    "start_time": "2021-08-11T10:22:51.160Z"
   },
   {
    "duration": 5,
    "start_time": "2021-08-11T10:22:51.454Z"
   },
   {
    "duration": 35,
    "start_time": "2021-08-11T10:22:51.461Z"
   },
   {
    "duration": 170847,
    "start_time": "2021-08-11T10:22:51.499Z"
   },
   {
    "duration": 3,
    "start_time": "2021-08-11T10:25:42.349Z"
   },
   {
    "duration": 1578,
    "start_time": "2021-08-11T10:25:59.498Z"
   },
   {
    "duration": 36,
    "start_time": "2021-08-11T10:26:01.079Z"
   },
   {
    "duration": 13,
    "start_time": "2021-08-11T10:26:01.118Z"
   },
   {
    "duration": 19,
    "start_time": "2021-08-11T10:26:01.134Z"
   },
   {
    "duration": 35,
    "start_time": "2021-08-11T10:26:01.155Z"
   },
   {
    "duration": 27,
    "start_time": "2021-08-11T10:26:01.192Z"
   },
   {
    "duration": 1273,
    "start_time": "2021-08-11T10:26:01.223Z"
   },
   {
    "duration": 2482,
    "start_time": "2021-08-11T10:26:02.501Z"
   },
   {
    "duration": 3906,
    "start_time": "2021-08-11T10:26:04.988Z"
   },
   {
    "duration": 28,
    "start_time": "2021-08-11T10:26:08.896Z"
   },
   {
    "duration": 2477,
    "start_time": "2021-08-11T10:26:08.927Z"
   },
   {
    "duration": 1520,
    "start_time": "2021-08-11T10:26:11.407Z"
   },
   {
    "duration": 91,
    "start_time": "2021-08-11T10:26:12.929Z"
   },
   {
    "duration": 19,
    "start_time": "2021-08-11T10:26:13.004Z"
   },
   {
    "duration": 12,
    "start_time": "2021-08-11T10:26:13.012Z"
   },
   {
    "duration": 6,
    "start_time": "2021-08-11T10:26:13.020Z"
   },
   {
    "duration": 0,
    "start_time": "2021-08-11T10:26:13.028Z"
   },
   {
    "duration": -9,
    "start_time": "2021-08-11T10:26:13.038Z"
   },
   {
    "duration": -55,
    "start_time": "2021-08-11T10:26:13.086Z"
   },
   {
    "duration": -62,
    "start_time": "2021-08-11T10:26:13.094Z"
   },
   {
    "duration": -63,
    "start_time": "2021-08-11T10:26:13.097Z"
   },
   {
    "duration": -66,
    "start_time": "2021-08-11T10:26:13.101Z"
   },
   {
    "duration": -67,
    "start_time": "2021-08-11T10:26:13.104Z"
   },
   {
    "duration": -68,
    "start_time": "2021-08-11T10:26:13.106Z"
   },
   {
    "duration": -69,
    "start_time": "2021-08-11T10:26:13.109Z"
   },
   {
    "duration": -71,
    "start_time": "2021-08-11T10:26:13.112Z"
   },
   {
    "duration": -73,
    "start_time": "2021-08-11T10:26:13.115Z"
   },
   {
    "duration": -74,
    "start_time": "2021-08-11T10:26:13.118Z"
   },
   {
    "duration": 3,
    "start_time": "2021-08-11T10:26:41.038Z"
   },
   {
    "duration": 3,
    "start_time": "2021-08-11T10:26:43.215Z"
   },
   {
    "duration": 5,
    "start_time": "2021-08-11T10:26:44.740Z"
   },
   {
    "duration": 30,
    "start_time": "2021-08-11T10:26:47.553Z"
   },
   {
    "duration": 175448,
    "start_time": "2021-08-11T10:26:51.753Z"
   },
   {
    "duration": 4,
    "start_time": "2021-08-11T10:30:00.396Z"
   },
   {
    "duration": 472538,
    "start_time": "2021-08-11T10:30:01.719Z"
   },
   {
    "duration": 15454,
    "start_time": "2021-08-11T10:37:54.259Z"
   },
   {
    "duration": 10367,
    "start_time": "2021-08-11T10:38:09.716Z"
   },
   {
    "duration": 255,
    "start_time": "2021-08-11T10:38:20.086Z"
   },
   {
    "duration": 43,
    "start_time": "2021-08-11T10:38:20.343Z"
   },
   {
    "duration": 707,
    "start_time": "2021-08-11T10:38:20.388Z"
   },
   {
    "duration": 93,
    "start_time": "2021-08-11T10:38:21.098Z"
   },
   {
    "duration": 12,
    "start_time": "2021-08-11T10:38:21.194Z"
   },
   {
    "duration": 14,
    "start_time": "2021-08-11T10:38:21.209Z"
   },
   {
    "duration": 741,
    "start_time": "2021-08-11T10:38:21.225Z"
   },
   {
    "duration": 1645,
    "start_time": "2021-08-11T10:44:42.938Z"
   },
   {
    "duration": 35,
    "start_time": "2021-08-11T10:44:44.586Z"
   },
   {
    "duration": 13,
    "start_time": "2021-08-11T10:44:44.624Z"
   },
   {
    "duration": 23,
    "start_time": "2021-08-11T10:44:44.640Z"
   },
   {
    "duration": 23,
    "start_time": "2021-08-11T10:44:44.666Z"
   },
   {
    "duration": 13,
    "start_time": "2021-08-11T10:44:44.691Z"
   },
   {
    "duration": 1260,
    "start_time": "2021-08-11T10:44:44.706Z"
   },
   {
    "duration": 2216,
    "start_time": "2021-08-11T10:44:45.970Z"
   },
   {
    "duration": 4093,
    "start_time": "2021-08-11T10:44:48.190Z"
   },
   {
    "duration": 29,
    "start_time": "2021-08-11T10:44:52.285Z"
   },
   {
    "duration": 2607,
    "start_time": "2021-08-11T10:44:52.316Z"
   },
   {
    "duration": 1627,
    "start_time": "2021-08-11T10:44:54.925Z"
   },
   {
    "duration": 4,
    "start_time": "2021-08-11T10:44:56.554Z"
   },
   {
    "duration": 22,
    "start_time": "2021-08-11T10:44:56.560Z"
   },
   {
    "duration": 8,
    "start_time": "2021-08-11T10:44:56.585Z"
   },
   {
    "duration": 24,
    "start_time": "2021-08-11T10:44:56.595Z"
   },
   {
    "duration": 193780,
    "start_time": "2021-08-11T10:44:56.621Z"
   },
   {
    "duration": 3,
    "start_time": "2021-08-11T10:48:10.404Z"
   },
   {
    "duration": 499022,
    "start_time": "2021-08-11T10:48:10.410Z"
   },
   {
    "duration": 16241,
    "start_time": "2021-08-11T10:56:29.435Z"
   },
   {
    "duration": 10727,
    "start_time": "2021-08-11T10:56:45.679Z"
   },
   {
    "duration": 378,
    "start_time": "2021-08-11T10:56:56.408Z"
   },
   {
    "duration": 13,
    "start_time": "2021-08-11T10:56:56.791Z"
   },
   {
    "duration": 777,
    "start_time": "2021-08-11T10:56:56.806Z"
   },
   {
    "duration": 14,
    "start_time": "2021-08-11T10:56:57.585Z"
   },
   {
    "duration": 15,
    "start_time": "2021-08-11T10:56:57.602Z"
   },
   {
    "duration": 14,
    "start_time": "2021-08-11T10:56:57.619Z"
   },
   {
    "duration": 1131,
    "start_time": "2021-08-11T10:56:57.635Z"
   },
   {
    "duration": 1555,
    "start_time": "2021-08-11T11:00:07.607Z"
   },
   {
    "duration": 35,
    "start_time": "2021-08-11T11:00:09.165Z"
   },
   {
    "duration": 13,
    "start_time": "2021-08-11T11:00:09.203Z"
   },
   {
    "duration": 23,
    "start_time": "2021-08-11T11:00:09.218Z"
   },
   {
    "duration": 21,
    "start_time": "2021-08-11T11:00:09.243Z"
   },
   {
    "duration": 20,
    "start_time": "2021-08-11T11:00:09.267Z"
   },
   {
    "duration": 1253,
    "start_time": "2021-08-11T11:00:09.289Z"
   },
   {
    "duration": 2343,
    "start_time": "2021-08-11T11:00:10.546Z"
   },
   {
    "duration": 3930,
    "start_time": "2021-08-11T11:00:12.893Z"
   },
   {
    "duration": 30,
    "start_time": "2021-08-11T11:00:16.826Z"
   },
   {
    "duration": 2628,
    "start_time": "2021-08-11T11:00:16.858Z"
   },
   {
    "duration": 1558,
    "start_time": "2021-08-11T11:00:19.488Z"
   },
   {
    "duration": 3,
    "start_time": "2021-08-11T11:00:21.048Z"
   },
   {
    "duration": 12,
    "start_time": "2021-08-11T11:00:21.054Z"
   },
   {
    "duration": 7,
    "start_time": "2021-08-11T11:00:21.068Z"
   },
   {
    "duration": 32,
    "start_time": "2021-08-11T11:00:21.077Z"
   },
   {
    "duration": 185956,
    "start_time": "2021-08-11T11:00:21.112Z"
   },
   {
    "duration": 4,
    "start_time": "2021-08-11T11:03:27.082Z"
   },
   {
    "duration": 501291,
    "start_time": "2021-08-11T11:03:27.089Z"
   },
   {
    "duration": 15352,
    "start_time": "2021-08-11T11:11:48.382Z"
   },
   {
    "duration": 10856,
    "start_time": "2021-08-11T11:12:03.736Z"
   },
   {
    "duration": 282,
    "start_time": "2021-08-11T11:12:14.595Z"
   },
   {
    "duration": 15,
    "start_time": "2021-08-11T11:12:14.883Z"
   },
   {
    "duration": 695,
    "start_time": "2021-08-11T11:12:14.900Z"
   },
   {
    "duration": 12,
    "start_time": "2021-08-11T11:12:15.684Z"
   },
   {
    "duration": 13,
    "start_time": "2021-08-11T11:12:15.698Z"
   },
   {
    "duration": 15,
    "start_time": "2021-08-11T11:12:15.714Z"
   },
   {
    "duration": 755,
    "start_time": "2021-08-11T11:12:15.731Z"
   },
   {
    "duration": 1585,
    "start_time": "2021-08-11T11:14:21.973Z"
   },
   {
    "duration": 37,
    "start_time": "2021-08-11T11:14:23.561Z"
   },
   {
    "duration": 13,
    "start_time": "2021-08-11T11:14:23.601Z"
   },
   {
    "duration": 10,
    "start_time": "2021-08-11T11:14:23.617Z"
   },
   {
    "duration": 18,
    "start_time": "2021-08-11T11:14:23.630Z"
   },
   {
    "duration": 38,
    "start_time": "2021-08-11T11:14:23.650Z"
   },
   {
    "duration": 1273,
    "start_time": "2021-08-11T11:14:23.691Z"
   },
   {
    "duration": 2520,
    "start_time": "2021-08-11T11:14:24.966Z"
   },
   {
    "duration": 3793,
    "start_time": "2021-08-11T11:14:27.583Z"
   },
   {
    "duration": 27,
    "start_time": "2021-08-11T11:14:31.384Z"
   },
   {
    "duration": 2569,
    "start_time": "2021-08-11T11:14:31.413Z"
   },
   {
    "duration": 1518,
    "start_time": "2021-08-11T11:14:33.985Z"
   },
   {
    "duration": 4,
    "start_time": "2021-08-11T11:14:35.506Z"
   },
   {
    "duration": 14,
    "start_time": "2021-08-11T11:14:35.513Z"
   },
   {
    "duration": 24,
    "start_time": "2021-08-11T11:14:35.529Z"
   },
   {
    "duration": 40,
    "start_time": "2021-08-11T11:14:35.557Z"
   },
   {
    "duration": 184961,
    "start_time": "2021-08-11T11:14:35.599Z"
   },
   {
    "duration": 3,
    "start_time": "2021-08-11T11:17:40.563Z"
   },
   {
    "duration": 488528,
    "start_time": "2021-08-11T11:17:40.568Z"
   },
   {
    "duration": 15409,
    "start_time": "2021-08-11T11:25:49.099Z"
   },
   {
    "duration": 10187,
    "start_time": "2021-08-11T11:26:04.511Z"
   },
   {
    "duration": 354,
    "start_time": "2021-08-11T11:26:14.701Z"
   },
   {
    "duration": 30,
    "start_time": "2021-08-11T11:26:15.058Z"
   },
   {
    "duration": 700,
    "start_time": "2021-08-11T11:26:15.090Z"
   },
   {
    "duration": 94,
    "start_time": "2021-08-11T11:26:15.792Z"
   },
   {
    "duration": 12,
    "start_time": "2021-08-11T11:26:15.889Z"
   },
   {
    "duration": 13,
    "start_time": "2021-08-11T11:26:15.905Z"
   },
   {
    "duration": 741,
    "start_time": "2021-08-11T11:26:15.921Z"
   },
   {
    "duration": 1635,
    "start_time": "2021-08-11T11:27:01.350Z"
   },
   {
    "duration": 36,
    "start_time": "2021-08-11T11:27:02.988Z"
   },
   {
    "duration": 13,
    "start_time": "2021-08-11T11:27:03.027Z"
   },
   {
    "duration": 12,
    "start_time": "2021-08-11T11:27:03.043Z"
   },
   {
    "duration": 34,
    "start_time": "2021-08-11T11:27:03.057Z"
   },
   {
    "duration": 14,
    "start_time": "2021-08-11T11:27:03.093Z"
   },
   {
    "duration": 1257,
    "start_time": "2021-08-11T11:27:03.109Z"
   },
   {
    "duration": 2112,
    "start_time": "2021-08-11T11:27:04.370Z"
   },
   {
    "duration": 3753,
    "start_time": "2021-08-11T11:27:06.487Z"
   },
   {
    "duration": 44,
    "start_time": "2021-08-11T11:27:10.242Z"
   },
   {
    "duration": 2513,
    "start_time": "2021-08-11T11:27:10.288Z"
   },
   {
    "duration": 1528,
    "start_time": "2021-08-11T11:27:12.804Z"
   },
   {
    "duration": 3,
    "start_time": "2021-08-11T11:27:14.335Z"
   },
   {
    "duration": 15,
    "start_time": "2021-08-11T11:27:14.341Z"
   },
   {
    "duration": 23,
    "start_time": "2021-08-11T11:27:14.359Z"
   },
   {
    "duration": 31,
    "start_time": "2021-08-11T11:27:14.385Z"
   },
   {
    "duration": 183610,
    "start_time": "2021-08-11T11:27:14.418Z"
   },
   {
    "duration": 3,
    "start_time": "2021-08-11T11:30:18.030Z"
   },
   {
    "duration": 486476,
    "start_time": "2021-08-11T11:30:18.036Z"
   },
   {
    "duration": 15975,
    "start_time": "2021-08-11T11:38:24.514Z"
   },
   {
    "duration": 10205,
    "start_time": "2021-08-11T11:38:40.491Z"
   },
   {
    "duration": 208,
    "start_time": "2021-08-11T11:38:50.705Z"
   },
   {
    "duration": 70,
    "start_time": "2021-08-11T11:38:50.927Z"
   },
   {
    "duration": 691,
    "start_time": "2021-08-11T11:38:51.000Z"
   },
   {
    "duration": 13,
    "start_time": "2021-08-11T11:38:51.694Z"
   },
   {
    "duration": 81,
    "start_time": "2021-08-11T11:38:51.710Z"
   },
   {
    "duration": 18,
    "start_time": "2021-08-11T11:38:51.794Z"
   },
   {
    "duration": 763,
    "start_time": "2021-08-11T11:38:51.816Z"
   },
   {
    "duration": 1648,
    "start_time": "2021-08-11T11:41:09.915Z"
   },
   {
    "duration": 36,
    "start_time": "2021-08-11T11:41:11.565Z"
   },
   {
    "duration": 13,
    "start_time": "2021-08-11T11:41:11.603Z"
   },
   {
    "duration": 17,
    "start_time": "2021-08-11T11:41:11.620Z"
   },
   {
    "duration": 26,
    "start_time": "2021-08-11T11:41:11.639Z"
   },
   {
    "duration": 26,
    "start_time": "2021-08-11T11:41:11.667Z"
   },
   {
    "duration": 1343,
    "start_time": "2021-08-11T11:41:11.695Z"
   },
   {
    "duration": 2042,
    "start_time": "2021-08-11T11:41:13.041Z"
   },
   {
    "duration": 3859,
    "start_time": "2021-08-11T11:41:15.090Z"
   },
   {
    "duration": 44,
    "start_time": "2021-08-11T11:41:18.952Z"
   },
   {
    "duration": 2486,
    "start_time": "2021-08-11T11:41:18.998Z"
   },
   {
    "duration": 1482,
    "start_time": "2021-08-11T11:41:21.486Z"
   },
   {
    "duration": 12,
    "start_time": "2021-08-11T11:41:22.971Z"
   },
   {
    "duration": 37,
    "start_time": "2021-08-11T11:41:22.985Z"
   },
   {
    "duration": 10,
    "start_time": "2021-08-11T11:41:23.025Z"
   },
   {
    "duration": 36,
    "start_time": "2021-08-11T11:41:23.037Z"
   },
   {
    "duration": 319676,
    "start_time": "2021-08-11T11:41:23.075Z"
   },
   {
    "duration": 3,
    "start_time": "2021-08-11T11:46:42.753Z"
   },
   {
    "duration": 830215,
    "start_time": "2021-08-11T11:46:42.759Z"
   },
   {
    "duration": 19651,
    "start_time": "2021-08-11T12:00:32.977Z"
   },
   {
    "duration": 13460,
    "start_time": "2021-08-11T12:00:52.631Z"
   },
   {
    "duration": 380,
    "start_time": "2021-08-11T12:01:06.094Z"
   },
   {
    "duration": 17,
    "start_time": "2021-08-11T12:01:06.477Z"
   },
   {
    "duration": 788,
    "start_time": "2021-08-11T12:01:06.496Z"
   },
   {
    "duration": 11,
    "start_time": "2021-08-11T12:01:07.286Z"
   },
   {
    "duration": 19,
    "start_time": "2021-08-11T12:01:07.299Z"
   },
   {
    "duration": 21,
    "start_time": "2021-08-11T12:01:07.321Z"
   },
   {
    "duration": 728,
    "start_time": "2021-08-11T12:01:07.344Z"
   },
   {
    "duration": 1540,
    "start_time": "2021-08-11T12:02:18.634Z"
   },
   {
    "duration": 36,
    "start_time": "2021-08-11T12:02:20.176Z"
   },
   {
    "duration": 13,
    "start_time": "2021-08-11T12:02:20.214Z"
   },
   {
    "duration": 14,
    "start_time": "2021-08-11T12:02:20.230Z"
   },
   {
    "duration": 36,
    "start_time": "2021-08-11T12:02:20.246Z"
   },
   {
    "duration": 12,
    "start_time": "2021-08-11T12:02:20.285Z"
   },
   {
    "duration": 1288,
    "start_time": "2021-08-11T12:02:20.300Z"
   },
   {
    "duration": 2392,
    "start_time": "2021-08-11T12:02:21.591Z"
   },
   {
    "duration": 3845,
    "start_time": "2021-08-11T12:02:23.987Z"
   },
   {
    "duration": 29,
    "start_time": "2021-08-11T12:02:27.834Z"
   },
   {
    "duration": 2498,
    "start_time": "2021-08-11T12:02:27.884Z"
   },
   {
    "duration": 1545,
    "start_time": "2021-08-11T12:02:30.385Z"
   },
   {
    "duration": 3,
    "start_time": "2021-08-11T12:02:31.932Z"
   },
   {
    "duration": 12,
    "start_time": "2021-08-11T12:02:31.938Z"
   },
   {
    "duration": 12,
    "start_time": "2021-08-11T12:02:31.952Z"
   },
   {
    "duration": 36,
    "start_time": "2021-08-11T12:02:31.966Z"
   },
   {
    "duration": 220068,
    "start_time": "2021-08-11T12:02:32.004Z"
   },
   {
    "duration": 3,
    "start_time": "2021-08-11T12:06:12.082Z"
   },
   {
    "duration": 489911,
    "start_time": "2021-08-11T12:06:12.088Z"
   },
   {
    "duration": 16057,
    "start_time": "2021-08-11T12:14:22.001Z"
   },
   {
    "duration": 9532,
    "start_time": "2021-08-11T12:14:38.061Z"
   },
   {
    "duration": 267,
    "start_time": "2021-08-11T12:14:47.595Z"
   },
   {
    "duration": 24,
    "start_time": "2021-08-11T12:14:47.866Z"
   },
   {
    "duration": 703,
    "start_time": "2021-08-11T12:14:47.893Z"
   },
   {
    "duration": 11,
    "start_time": "2021-08-11T12:14:48.598Z"
   },
   {
    "duration": 80,
    "start_time": "2021-08-11T12:14:48.611Z"
   },
   {
    "duration": 18,
    "start_time": "2021-08-11T12:14:48.694Z"
   },
   {
    "duration": 711,
    "start_time": "2021-08-11T12:14:48.714Z"
   },
   {
    "duration": 1553,
    "start_time": "2021-08-11T12:18:10.715Z"
   },
   {
    "duration": 38,
    "start_time": "2021-08-11T12:18:12.271Z"
   },
   {
    "duration": 14,
    "start_time": "2021-08-11T12:18:12.311Z"
   },
   {
    "duration": 10,
    "start_time": "2021-08-11T12:18:12.328Z"
   },
   {
    "duration": 41,
    "start_time": "2021-08-11T12:18:12.341Z"
   },
   {
    "duration": 14,
    "start_time": "2021-08-11T12:18:12.385Z"
   },
   {
    "duration": 1266,
    "start_time": "2021-08-11T12:18:12.404Z"
   },
   {
    "duration": 2809,
    "start_time": "2021-08-11T12:18:13.674Z"
   },
   {
    "duration": 3946,
    "start_time": "2021-08-11T12:18:16.486Z"
   },
   {
    "duration": 28,
    "start_time": "2021-08-11T12:18:20.435Z"
   },
   {
    "duration": 2900,
    "start_time": "2021-08-11T12:18:20.465Z"
   },
   {
    "duration": 1479,
    "start_time": "2021-08-11T12:18:23.367Z"
   },
   {
    "duration": 3,
    "start_time": "2021-08-11T12:18:24.848Z"
   },
   {
    "duration": 6,
    "start_time": "2021-08-11T12:18:24.854Z"
   },
   {
    "duration": 5,
    "start_time": "2021-08-11T12:18:24.883Z"
   },
   {
    "duration": 23,
    "start_time": "2021-08-11T12:18:24.891Z"
   },
   {
    "duration": 186768,
    "start_time": "2021-08-11T12:18:24.917Z"
   },
   {
    "duration": 4,
    "start_time": "2021-08-11T12:21:31.687Z"
   },
   {
    "duration": 487198,
    "start_time": "2021-08-11T12:21:31.694Z"
   },
   {
    "duration": 16455,
    "start_time": "2021-08-11T12:29:38.895Z"
   },
   {
    "duration": 11136,
    "start_time": "2021-08-11T12:29:55.353Z"
   },
   {
    "duration": 199,
    "start_time": "2021-08-11T12:30:06.494Z"
   },
   {
    "duration": 15,
    "start_time": "2021-08-11T12:30:06.696Z"
   },
   {
    "duration": 682,
    "start_time": "2021-08-11T12:30:06.713Z"
   },
   {
    "duration": 93,
    "start_time": "2021-08-11T12:30:07.397Z"
   },
   {
    "duration": 15,
    "start_time": "2021-08-11T12:30:07.492Z"
   },
   {
    "duration": 33,
    "start_time": "2021-08-11T12:30:07.510Z"
   },
   {
    "duration": 741,
    "start_time": "2021-08-11T12:30:07.546Z"
   },
   {
    "duration": 1581,
    "start_time": "2021-08-11T12:30:41.984Z"
   },
   {
    "duration": 36,
    "start_time": "2021-08-11T12:30:43.568Z"
   },
   {
    "duration": 12,
    "start_time": "2021-08-11T12:30:43.607Z"
   },
   {
    "duration": 10,
    "start_time": "2021-08-11T12:30:43.622Z"
   },
   {
    "duration": 16,
    "start_time": "2021-08-11T12:30:43.635Z"
   },
   {
    "duration": 13,
    "start_time": "2021-08-11T12:30:43.683Z"
   },
   {
    "duration": 1265,
    "start_time": "2021-08-11T12:30:43.699Z"
   },
   {
    "duration": 2516,
    "start_time": "2021-08-11T12:30:44.966Z"
   },
   {
    "duration": 3781,
    "start_time": "2021-08-11T12:30:47.488Z"
   },
   {
    "duration": 32,
    "start_time": "2021-08-11T12:30:51.272Z"
   },
   {
    "duration": 2594,
    "start_time": "2021-08-11T12:30:51.307Z"
   },
   {
    "duration": 1518,
    "start_time": "2021-08-11T12:30:53.903Z"
   },
   {
    "duration": 3,
    "start_time": "2021-08-11T12:30:55.423Z"
   },
   {
    "duration": 12,
    "start_time": "2021-08-11T12:30:55.427Z"
   },
   {
    "duration": 8,
    "start_time": "2021-08-11T12:30:55.441Z"
   },
   {
    "duration": 48,
    "start_time": "2021-08-11T12:30:55.451Z"
   },
   {
    "duration": 187564,
    "start_time": "2021-08-11T12:30:55.501Z"
   },
   {
    "duration": 3,
    "start_time": "2021-08-11T12:34:03.068Z"
   },
   {
    "duration": 353689,
    "start_time": "2021-08-11T12:34:03.082Z"
   },
   {
    "duration": 16208,
    "start_time": "2021-08-11T12:39:56.774Z"
   },
   {
    "duration": 14013,
    "start_time": "2021-08-11T12:40:12.984Z"
   },
   {
    "duration": 252,
    "start_time": "2021-08-11T12:40:26.999Z"
   },
   {
    "duration": 32,
    "start_time": "2021-08-11T12:40:27.254Z"
   },
   {
    "duration": 700,
    "start_time": "2021-08-11T12:40:27.288Z"
   },
   {
    "duration": 11,
    "start_time": "2021-08-11T12:40:27.991Z"
   },
   {
    "duration": 21,
    "start_time": "2021-08-11T12:40:28.005Z"
   },
   {
    "duration": 20,
    "start_time": "2021-08-11T12:40:28.031Z"
   },
   {
    "duration": 737,
    "start_time": "2021-08-11T12:40:28.083Z"
   },
   {
    "duration": 1574,
    "start_time": "2021-08-11T12:42:27.970Z"
   },
   {
    "duration": 34,
    "start_time": "2021-08-11T12:42:29.546Z"
   },
   {
    "duration": 13,
    "start_time": "2021-08-11T12:42:29.587Z"
   },
   {
    "duration": 10,
    "start_time": "2021-08-11T12:42:29.603Z"
   },
   {
    "duration": 24,
    "start_time": "2021-08-11T12:42:29.616Z"
   },
   {
    "duration": 13,
    "start_time": "2021-08-11T12:42:29.642Z"
   },
   {
    "duration": 1300,
    "start_time": "2021-08-11T12:42:29.685Z"
   },
   {
    "duration": 2397,
    "start_time": "2021-08-11T12:42:30.988Z"
   },
   {
    "duration": 3816,
    "start_time": "2021-08-11T12:42:33.388Z"
   },
   {
    "duration": 28,
    "start_time": "2021-08-11T12:42:37.206Z"
   },
   {
    "duration": 2669,
    "start_time": "2021-08-11T12:42:37.237Z"
   },
   {
    "duration": 1513,
    "start_time": "2021-08-11T12:42:39.909Z"
   },
   {
    "duration": 3,
    "start_time": "2021-08-11T12:42:41.424Z"
   },
   {
    "duration": 18,
    "start_time": "2021-08-11T12:42:41.430Z"
   },
   {
    "duration": 19,
    "start_time": "2021-08-11T12:42:41.450Z"
   },
   {
    "duration": 35,
    "start_time": "2021-08-11T12:42:41.471Z"
   },
   {
    "duration": 173774,
    "start_time": "2021-08-11T12:42:41.508Z"
   },
   {
    "duration": 3,
    "start_time": "2021-08-11T12:45:35.284Z"
   },
   {
    "duration": 478563,
    "start_time": "2021-08-11T12:45:35.289Z"
   },
   {
    "duration": 21600,
    "start_time": "2021-08-11T12:53:33.855Z"
   },
   {
    "duration": 36526,
    "start_time": "2021-08-11T12:53:55.458Z"
   },
   {
    "duration": 100,
    "start_time": "2021-08-11T12:54:31.989Z"
   },
   {
    "duration": 15,
    "start_time": "2021-08-11T12:54:32.092Z"
   },
   {
    "duration": 774,
    "start_time": "2021-08-11T12:54:32.109Z"
   },
   {
    "duration": 11,
    "start_time": "2021-08-11T12:54:32.885Z"
   },
   {
    "duration": 16,
    "start_time": "2021-08-11T12:54:32.898Z"
   },
   {
    "duration": 16,
    "start_time": "2021-08-11T12:54:32.916Z"
   },
   {
    "duration": 739,
    "start_time": "2021-08-11T12:54:32.934Z"
   },
   {
    "duration": 1591,
    "start_time": "2021-08-11T12:54:59.704Z"
   },
   {
    "duration": 35,
    "start_time": "2021-08-11T12:55:01.298Z"
   },
   {
    "duration": 13,
    "start_time": "2021-08-11T12:55:01.339Z"
   },
   {
    "duration": 52,
    "start_time": "2021-08-11T12:55:01.354Z"
   },
   {
    "duration": 39,
    "start_time": "2021-08-11T12:55:01.409Z"
   },
   {
    "duration": 16,
    "start_time": "2021-08-11T12:55:01.450Z"
   },
   {
    "duration": 1261,
    "start_time": "2021-08-11T12:55:01.470Z"
   },
   {
    "duration": 1747,
    "start_time": "2021-08-11T12:55:02.735Z"
   },
   {
    "duration": 3947,
    "start_time": "2021-08-11T12:55:04.486Z"
   },
   {
    "duration": 59,
    "start_time": "2021-08-11T12:55:08.436Z"
   },
   {
    "duration": 2500,
    "start_time": "2021-08-11T12:55:08.498Z"
   },
   {
    "duration": 1511,
    "start_time": "2021-08-11T12:55:11.000Z"
   },
   {
    "duration": 3,
    "start_time": "2021-08-11T12:55:12.514Z"
   },
   {
    "duration": 9,
    "start_time": "2021-08-11T12:55:12.520Z"
   },
   {
    "duration": 9,
    "start_time": "2021-08-11T12:55:12.531Z"
   },
   {
    "duration": 61,
    "start_time": "2021-08-11T12:55:12.543Z"
   },
   {
    "duration": 320592,
    "start_time": "2021-08-11T12:55:12.606Z"
   },
   {
    "duration": 4,
    "start_time": "2021-08-11T13:00:33.200Z"
   },
   {
    "duration": 832073,
    "start_time": "2021-08-11T13:00:33.206Z"
   },
   {
    "duration": 18617,
    "start_time": "2021-08-11T13:14:25.282Z"
   },
   {
    "duration": 12493,
    "start_time": "2021-08-11T13:14:43.902Z"
   },
   {
    "duration": 260,
    "start_time": "2021-08-11T13:14:56.399Z"
   },
   {
    "duration": 28,
    "start_time": "2021-08-11T13:14:56.661Z"
   },
   {
    "duration": 703,
    "start_time": "2021-08-11T13:14:56.691Z"
   },
   {
    "duration": 11,
    "start_time": "2021-08-11T13:14:57.396Z"
   },
   {
    "duration": 80,
    "start_time": "2021-08-11T13:14:57.410Z"
   },
   {
    "duration": 14,
    "start_time": "2021-08-11T13:14:57.493Z"
   },
   {
    "duration": 739,
    "start_time": "2021-08-11T13:14:57.510Z"
   },
   {
    "duration": 1655,
    "start_time": "2021-08-11T13:20:40.162Z"
   },
   {
    "duration": 38,
    "start_time": "2021-08-11T13:20:41.820Z"
   },
   {
    "duration": 16,
    "start_time": "2021-08-11T13:20:41.861Z"
   },
   {
    "duration": 10,
    "start_time": "2021-08-11T13:20:41.884Z"
   },
   {
    "duration": 22,
    "start_time": "2021-08-11T13:20:41.897Z"
   },
   {
    "duration": 15,
    "start_time": "2021-08-11T13:20:41.922Z"
   },
   {
    "duration": 1311,
    "start_time": "2021-08-11T13:20:41.939Z"
   },
   {
    "duration": 2431,
    "start_time": "2021-08-11T13:20:43.252Z"
   },
   {
    "duration": 3787,
    "start_time": "2021-08-11T13:20:45.689Z"
   },
   {
    "duration": 32,
    "start_time": "2021-08-11T13:20:49.479Z"
   },
   {
    "duration": 2506,
    "start_time": "2021-08-11T13:20:49.514Z"
   },
   {
    "duration": 1607,
    "start_time": "2021-08-11T13:20:52.022Z"
   },
   {
    "duration": 93,
    "start_time": "2021-08-11T13:20:53.631Z"
   },
   {
    "duration": 453,
    "start_time": "2021-08-11T13:20:53.274Z"
   },
   {
    "duration": 452,
    "start_time": "2021-08-11T13:20:53.277Z"
   },
   {
    "duration": 450,
    "start_time": "2021-08-11T13:20:53.280Z"
   },
   {
    "duration": 449,
    "start_time": "2021-08-11T13:20:53.283Z"
   },
   {
    "duration": 445,
    "start_time": "2021-08-11T13:20:53.288Z"
   },
   {
    "duration": 429,
    "start_time": "2021-08-11T13:20:53.306Z"
   },
   {
    "duration": 425,
    "start_time": "2021-08-11T13:20:53.311Z"
   },
   {
    "duration": 423,
    "start_time": "2021-08-11T13:20:53.314Z"
   },
   {
    "duration": 422,
    "start_time": "2021-08-11T13:20:53.317Z"
   },
   {
    "duration": 421,
    "start_time": "2021-08-11T13:20:53.319Z"
   },
   {
    "duration": 420,
    "start_time": "2021-08-11T13:20:53.321Z"
   },
   {
    "duration": 420,
    "start_time": "2021-08-11T13:20:53.323Z"
   },
   {
    "duration": 418,
    "start_time": "2021-08-11T13:20:53.327Z"
   },
   {
    "duration": 416,
    "start_time": "2021-08-11T13:20:53.330Z"
   },
   {
    "duration": 414,
    "start_time": "2021-08-11T13:20:53.334Z"
   },
   {
    "duration": 266,
    "start_time": "2021-08-11T13:24:35.105Z"
   },
   {
    "duration": 15,
    "start_time": "2021-08-11T13:24:48.510Z"
   },
   {
    "duration": 264,
    "start_time": "2021-08-11T13:24:53.331Z"
   },
   {
    "duration": 5,
    "start_time": "2021-08-11T13:24:58.070Z"
   },
   {
    "duration": 35,
    "start_time": "2021-08-11T13:24:59.095Z"
   },
   {
    "duration": 339711,
    "start_time": "2021-08-11T13:25:00.060Z"
   },
   {
    "duration": 3,
    "start_time": "2021-08-11T13:30:39.773Z"
   },
   {
    "duration": 812236,
    "start_time": "2021-08-11T13:30:39.779Z"
   },
   {
    "duration": 19298,
    "start_time": "2021-08-11T13:44:12.019Z"
   },
   {
    "duration": 12473,
    "start_time": "2021-08-11T13:44:31.319Z"
   },
   {
    "duration": 216,
    "start_time": "2021-08-11T13:44:43.795Z"
   },
   {
    "duration": 16,
    "start_time": "2021-08-11T13:44:44.013Z"
   },
   {
    "duration": 758,
    "start_time": "2021-08-11T13:44:44.032Z"
   },
   {
    "duration": 11,
    "start_time": "2021-08-11T13:44:44.793Z"
   },
   {
    "duration": 80,
    "start_time": "2021-08-11T13:44:44.806Z"
   },
   {
    "duration": 13,
    "start_time": "2021-08-11T13:44:44.888Z"
   },
   {
    "duration": 728,
    "start_time": "2021-08-11T13:44:44.904Z"
   },
   {
    "duration": 1593,
    "start_time": "2021-08-11T13:45:57.271Z"
   },
   {
    "duration": 35,
    "start_time": "2021-08-11T13:45:58.867Z"
   },
   {
    "duration": 12,
    "start_time": "2021-08-11T13:45:58.905Z"
   },
   {
    "duration": 19,
    "start_time": "2021-08-11T13:45:58.920Z"
   },
   {
    "duration": 23,
    "start_time": "2021-08-11T13:45:58.941Z"
   },
   {
    "duration": 25,
    "start_time": "2021-08-11T13:45:58.967Z"
   },
   {
    "duration": 1283,
    "start_time": "2021-08-11T13:45:58.995Z"
   },
   {
    "duration": 2306,
    "start_time": "2021-08-11T13:46:00.280Z"
   },
   {
    "duration": 3823,
    "start_time": "2021-08-11T13:46:02.593Z"
   },
   {
    "duration": 30,
    "start_time": "2021-08-11T13:46:06.419Z"
   },
   {
    "duration": 2658,
    "start_time": "2021-08-11T13:46:06.451Z"
   },
   {
    "duration": 1857,
    "start_time": "2021-08-11T13:46:09.112Z"
   },
   {
    "duration": 22,
    "start_time": "2021-08-11T13:46:10.972Z"
   },
   {
    "duration": 291,
    "start_time": "2021-08-11T13:46:10.996Z"
   },
   {
    "duration": 5,
    "start_time": "2021-08-11T13:46:11.290Z"
   },
   {
    "duration": 41,
    "start_time": "2021-08-11T13:46:11.297Z"
   },
   {
    "duration": 322398,
    "start_time": "2021-08-11T13:46:11.340Z"
   },
   {
    "duration": 3,
    "start_time": "2021-08-11T13:51:33.741Z"
   },
   {
    "duration": 835541,
    "start_time": "2021-08-11T13:51:33.747Z"
   },
   {
    "duration": 18745,
    "start_time": "2021-08-11T14:05:29.290Z"
   },
   {
    "duration": 17256,
    "start_time": "2021-08-11T14:05:48.037Z"
   },
   {
    "duration": 361,
    "start_time": "2021-08-11T14:06:05.296Z"
   },
   {
    "duration": 32,
    "start_time": "2021-08-11T14:06:05.659Z"
   },
   {
    "duration": 707,
    "start_time": "2021-08-11T14:06:05.693Z"
   },
   {
    "duration": 89,
    "start_time": "2021-08-11T14:06:06.403Z"
   },
   {
    "duration": 18,
    "start_time": "2021-08-11T14:06:06.494Z"
   },
   {
    "duration": 17,
    "start_time": "2021-08-11T14:06:06.516Z"
   },
   {
    "duration": 747,
    "start_time": "2021-08-11T14:06:06.535Z"
   }
  ],
  "kernelspec": {
   "display_name": "Python 3",
   "language": "python",
   "name": "python3"
  },
  "language_info": {
   "codemirror_mode": {
    "name": "ipython",
    "version": 3
   },
   "file_extension": ".py",
   "mimetype": "text/x-python",
   "name": "python",
   "nbconvert_exporter": "python",
   "pygments_lexer": "ipython3",
   "version": "3.9.4"
  },
  "toc": {
   "base_numbering": 1,
   "nav_menu": {},
   "number_sections": true,
   "sideBar": true,
   "skip_h1_title": true,
   "title_cell": "Содержание",
   "title_sidebar": "Contents",
   "toc_cell": true,
   "toc_position": {
    "height": "calc(100% - 180px)",
    "left": "10px",
    "top": "150px",
    "width": "164.994px"
   },
   "toc_section_display": true,
   "toc_window_display": false
  }
 },
 "nbformat": 4,
 "nbformat_minor": 2
}
