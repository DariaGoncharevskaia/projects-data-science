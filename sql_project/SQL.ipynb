{
 "cells": [
  {
   "cell_type": "markdown",
   "id": "1b602fe5",
   "metadata": {},
   "source": [
    "**1. Найти количество рейсов с вылетом в сентябре 2018 года на каждой модели самолёта.**"
   ]
  },
  {
   "cell_type": "markdown",
   "id": "e1512b97",
   "metadata": {},
   "source": [
    "# \n",
    "    SELECT   \n",
    "        aircrafts.model AS model,    \n",
    "        COUNT(flights.flight_id) AS flights_amount  \n",
    "    FROM  \n",
    "        flights  \n",
    "    LEFT JOIN   \n",
    "        aircrafts ON aircrafts.aircraft_code = flights.aircraft_code   \n",
    "    WHERE  \n",
    "        CAST(departure_time AS date) < '2018-10-01' AND  \n",
    "        CAST(departure_time AS date) > '2018-08-31'  \n",
    "    GROUP BY  \n",
    "        model;  "
   ]
  },
  {
   "cell_type": "markdown",
   "id": "3648311c",
   "metadata": {},
   "source": [
    "**2. Посчитайте отправленные в сентябре рейсы самолётов следующих моделей**:\n",
    "- Boeing,\n",
    "- Airbus,\n",
    "- другие (“other”).\n",
    "Назовите получившуюся переменную flights_amount и выведите её значение на экран."
   ]
  },
  {
   "cell_type": "markdown",
   "id": "74b17adb",
   "metadata": {},
   "source": [
    "# \n",
    "    SELECT  \n",
    "        COUNT(flights.flight_id) AS flight_amount,\n",
    "        CASE WHEN model LIKE 'Airbus%' THEN 'Airbus'\n",
    "             WHEN model LIKE 'Boeing%' THEN 'Boeing'\n",
    "             ELSE 'other'\n",
    "             END AS type_aircraft\n",
    "    FROM\n",
    "        flights\n",
    "    INNER JOIN \n",
    "        aircrafts ON aircrafts.aircraft_code = flights.aircraft_code\n",
    "    WHERE\n",
    "        CAST(departure_time AS date) BETWEEN '2018-09-01' AND '2018-09-30'\n",
    "    GROUP BY\n",
    "        type_aircraft;"
   ]
  },
  {
   "cell_type": "markdown",
   "id": "81091682",
   "metadata": {},
   "source": [
    "**3. Посчитайте среднее количество прибывающих рейсов в день для каждого города за август 2018 года. Назовите получившееся поле average_flights, вместе с ним выведите столбец city.**  \n",
    "\n",
    "Выводите столбцы в таком порядке:\n",
    "- city,\n",
    "- average_flights."
   ]
  },
  {
   "cell_type": "markdown",
   "id": "b59b5d6a",
   "metadata": {},
   "source": [
    "# \n",
    "    SELECT\n",
    "        SUBQ.city,\n",
    "        AVG(SUBQ.count_flights) as average_flights \n",
    "    FROM\n",
    "        (SELECT\n",
    "            airports.city,\n",
    "            EXTRACT(day from flights.arrival_time) as day_number,\n",
    "            COUNT(flights.flight_id) as count_flights\n",
    "        FROM\n",
    "            flights\n",
    "        LEFT JOIN\n",
    "            airports ON airports.airport_code = flights.arrival_airport\n",
    "        WHERE\n",
    "            (flights.arrival_time :: date) BETWEEN '2018-08-01' AND '2018-08-31'\n",
    "        GROUP BY\n",
    "            airports.city, day_number) AS SUBQ\n",
    "    GROUP BY\n",
    "        SUBQ.city"
   ]
  },
  {
   "cell_type": "markdown",
   "id": "26627c42",
   "metadata": {},
   "source": [
    "**4. Установите фестивали, которые проходили с 23 июля по 30 сентября 2018 года в Москве, и номер недели, в которую они проходили. Выведите название фестиваля festival_name и номер недели festival_week.**"
   ]
  },
  {
   "cell_type": "markdown",
   "id": "321ac444",
   "metadata": {},
   "source": [
    "# \n",
    "    SELECT\n",
    "        festival_name,\n",
    "        EXTRACT(WEEK FROM CAST(festival_date AS date)) AS festival_week\n",
    "    FROM\n",
    "        festival\n",
    "    WHERE\n",
    "        festival_city = 'Москва' AND festival_date BETWEEN  '2018-07-23' AND '2018-09-30';"
   ]
  },
  {
   "cell_type": "markdown",
   "id": "880bde49",
   "metadata": {},
   "source": [
    "**5. Для каждой недели с 23 июля по 30 сентября 2018 года посчитайте билеты, которые купили на рейсы в Москву (номер недели week_number и количество билетов ticket_amount).**  \n",
    "\n",
    "Получите таблицу:\n",
    "- с количеством купленных за неделю билетов;\n",
    "- отметкой, проходил ли в эту неделю фестиваль;\n",
    "- название фестиваля festival_name;\n",
    "- номер недели week_number.\n",
    "\n",
    "Выводите столбцы в таком порядке: - week_number - ticket_amount - festival_week - festival_name"
   ]
  },
  {
   "cell_type": "markdown",
   "id": "26d6231a",
   "metadata": {},
   "source": [
    "#\n",
    "\n",
    "\n",
    "    SELECT\n",
    "        EXTRACT(week FROM CAST(flights.arrival_time AS date)) AS week_number,\n",
    "        COUNT(ticket_flights.ticket_no) AS ticket_amount,\n",
    "        sub.festival_week AS festival_week,\n",
    "        sub.festival_name AS festival_name\n",
    "    \n",
    "    FROM tickets\n",
    "        LEFT JOIN ticket_flights ON ticket_flights.ticket_no  = tickets.ticket_no\n",
    "        LEFT JOIN flights ON flights.flight_id  = ticket_flights.flight_id\n",
    "        LEFT JOIN airports ON airports.airport_code = flights.arrival_airport\n",
    "        LEFT JOIN\n",
    "            (SELECT\n",
    "                 festival_name,\n",
    "                 EXTRACT(WEEK FROM CAST(festival_date AS date)) AS festival_week\n",
    "             FROM\n",
    "                 festivals\n",
    "             WHERE\n",
    "                     festival_city = 'Москва' AND festival_date BETWEEN '2018-07-23' AND '2018-09-30') as sub ON sub.festival_week = EXTRACT(week FROM CAST(flights.arrival_time AS date))\n",
    "    WHERE\n",
    "        airports.city = 'Москва' AND\n",
    "        CAST(flights.arrival_time AS date) BETWEEN '2018-07-23' AND '2018-09-30'\n",
    "    GROUP BY\n",
    "        EXTRACT(week FROM CAST(flights.arrival_time AS date)), \n",
    "        festival_week, \n",
    "        festival_name"
   ]
  }
 ],
 "metadata": {
  "kernelspec": {
   "display_name": "Python 3",
   "language": "python",
   "name": "python3"
  },
  "language_info": {
   "codemirror_mode": {
    "name": "ipython",
    "version": 3
   },
   "file_extension": ".py",
   "mimetype": "text/x-python",
   "name": "python",
   "nbconvert_exporter": "python",
   "pygments_lexer": "ipython3",
   "version": "3.8.8"
  }
 },
 "nbformat": 4,
 "nbformat_minor": 5
}
