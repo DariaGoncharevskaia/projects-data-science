{
 "cells": [
  {
   "cell_type": "markdown",
   "metadata": {
    "toc": true
   },
   "source": [
    "<h1>Содержание<span class=\"tocSkip\"></span></h1>\n",
    "<div class=\"toc\"><ul class=\"toc-item\"><li><span><a href=\"#Финальный-комментарий\" data-toc-modified-id=\"Финальный-комментарий-1\"><span class=\"toc-item-num\">1&nbsp;&nbsp;</span><span style=\"color: green\">Финальный комментарий<span></span></span></a></span></li><li><span><a href=\"#Комментарий-ревьювера\" data-toc-modified-id=\"Комментарий-ревьювера-2\"><span class=\"toc-item-num\">2&nbsp;&nbsp;</span>Комментарий ревьювера</a></span></li><li><span><a href=\"#Аналитика\" data-toc-modified-id=\"Аналитика-3\"><span class=\"toc-item-num\">3&nbsp;&nbsp;</span>Аналитика</a></span></li><li><span><a href=\"#Общий-комментарий\" data-toc-modified-id=\"Общий-комментарий-4\"><span class=\"toc-item-num\">4&nbsp;&nbsp;</span>Общий комментарий</a></span></li><li><span><a href=\"#Чек-лист-проверки\" data-toc-modified-id=\"Чек-лист-проверки-5\"><span class=\"toc-item-num\">5&nbsp;&nbsp;</span>Чек-лист проверки</a></span></li></ul></div>"
   ]
  },
  {
   "cell_type": "markdown",
   "metadata": {},
   "source": [
    "# Спрос на рейсы авиакомпании"
   ]
  },
  {
   "cell_type": "markdown",
   "metadata": {},
   "source": [
    "Вы аналитик российской авиакомпании F9, выполняющей внутренние пассажирские перевозки. Важно понять предпочтения пользователей, покупающих билеты на разные направления.\n",
    "\n",
    "Вам предстоит изучить базу данных и проанализировать спрос пассажиров на рейсы в города, где проходят крупнейшие культурные фестивали."
   ]
  },
  {
   "cell_type": "markdown",
   "metadata": {},
   "source": [
    "У вас есть файлы с результатами запросов из предыдущих заданий.\n",
    "\n",
    "**query_1.csv** — результат первого запроса. В нём содержится такая информация:\n",
    "\n",
    "- *model* — **модель самолета;\n",
    "- *flights_amount* — количество рейсов для каждой модели самолетов *model* в сентябре 2018 года.\n",
    "\n",
    "**query_3.csv** — результат третьего запроса. В нём содержится такая информация:\n",
    "\n",
    "- *city* — город;\n",
    "- *average_flights* — среднее количество рейсов, прибывающих в город (*city*) за день в сентябре 2018 года.\n",
    "\n",
    " Для этих двух наборов данных нужно:\n",
    "\n",
    "- импортировать файлы;\n",
    "- изучить данные в них;\n",
    "- проверить типы данных на корректность;\n",
    "- выбрать топ-10 городов по количеству рейсов;\n",
    "- построить графики: модели самолётов и количество рейсов, города и количество рейсов, топ-10 городов и количество рейсов;\n",
    "- сделать выводы по каждому из графиков, пояснить результат.\n"
   ]
  },
  {
   "cell_type": "markdown",
   "metadata": {},
   "source": [
    "## Аналитика"
   ]
  },
  {
   "cell_type": "code",
   "execution_count": 1,
   "metadata": {},
   "outputs": [],
   "source": [
    "import numpy as np\n",
    "import pandas as pd\n",
    "import warnings\n",
    "from scipy import stats as st\n",
    "import matplotlib as mpl\n",
    "import matplotlib.pyplot as plt\n",
    "import seaborn as sns\n",
    "\n",
    "warnings.filterwarnings('ignore')"
   ]
  },
  {
   "cell_type": "code",
   "execution_count": 2,
   "metadata": {},
   "outputs": [
    {
     "name": "stdout",
     "output_type": "stream",
     "text": [
      "<class 'pandas.core.frame.DataFrame'>\n",
      "RangeIndex: 8 entries, 0 to 7\n",
      "Data columns (total 2 columns):\n",
      "model             8 non-null object\n",
      "flights_amount    8 non-null int64\n",
      "dtypes: int64(1), object(1)\n",
      "memory usage: 256.0+ bytes\n"
     ]
    },
    {
     "data": {
      "text/plain": [
       "None"
      ]
     },
     "metadata": {},
     "output_type": "display_data"
    },
    {
     "data": {
      "text/html": [
       "<div>\n",
       "<style scoped>\n",
       "    .dataframe tbody tr th:only-of-type {\n",
       "        vertical-align: middle;\n",
       "    }\n",
       "\n",
       "    .dataframe tbody tr th {\n",
       "        vertical-align: top;\n",
       "    }\n",
       "\n",
       "    .dataframe thead th {\n",
       "        text-align: right;\n",
       "    }\n",
       "</style>\n",
       "<table border=\"1\" class=\"dataframe\">\n",
       "  <thead>\n",
       "    <tr style=\"text-align: right;\">\n",
       "      <th></th>\n",
       "      <th>model</th>\n",
       "      <th>flights_amount</th>\n",
       "    </tr>\n",
       "  </thead>\n",
       "  <tbody>\n",
       "    <tr>\n",
       "      <td>0</td>\n",
       "      <td>Airbus A319-100</td>\n",
       "      <td>607</td>\n",
       "    </tr>\n",
       "    <tr>\n",
       "      <td>1</td>\n",
       "      <td>Airbus A321-200</td>\n",
       "      <td>960</td>\n",
       "    </tr>\n",
       "    <tr>\n",
       "      <td>2</td>\n",
       "      <td>Boeing 737-300</td>\n",
       "      <td>630</td>\n",
       "    </tr>\n",
       "    <tr>\n",
       "      <td>3</td>\n",
       "      <td>Boeing 767-300</td>\n",
       "      <td>600</td>\n",
       "    </tr>\n",
       "    <tr>\n",
       "      <td>4</td>\n",
       "      <td>Boeing 777-300</td>\n",
       "      <td>300</td>\n",
       "    </tr>\n",
       "  </tbody>\n",
       "</table>\n",
       "</div>"
      ],
      "text/plain": [
       "             model  flights_amount\n",
       "0  Airbus A319-100             607\n",
       "1  Airbus A321-200             960\n",
       "2   Boeing 737-300             630\n",
       "3   Boeing 767-300             600\n",
       "4   Boeing 777-300             300"
      ]
     },
     "metadata": {},
     "output_type": "display_data"
    },
    {
     "name": "stdout",
     "output_type": "stream",
     "text": [
      "<class 'pandas.core.frame.DataFrame'>\n",
      "RangeIndex: 101 entries, 0 to 100\n",
      "Data columns (total 2 columns):\n",
      "city               101 non-null object\n",
      "average_flights    101 non-null float64\n",
      "dtypes: float64(1), object(1)\n",
      "memory usage: 1.7+ KB\n"
     ]
    },
    {
     "data": {
      "text/plain": [
       "None"
      ]
     },
     "metadata": {},
     "output_type": "display_data"
    },
    {
     "data": {
      "text/html": [
       "<div>\n",
       "<style scoped>\n",
       "    .dataframe tbody tr th:only-of-type {\n",
       "        vertical-align: middle;\n",
       "    }\n",
       "\n",
       "    .dataframe tbody tr th {\n",
       "        vertical-align: top;\n",
       "    }\n",
       "\n",
       "    .dataframe thead th {\n",
       "        text-align: right;\n",
       "    }\n",
       "</style>\n",
       "<table border=\"1\" class=\"dataframe\">\n",
       "  <thead>\n",
       "    <tr style=\"text-align: right;\">\n",
       "      <th></th>\n",
       "      <th>city</th>\n",
       "      <th>average_flights</th>\n",
       "    </tr>\n",
       "  </thead>\n",
       "  <tbody>\n",
       "    <tr>\n",
       "      <td>0</td>\n",
       "      <td>Абакан</td>\n",
       "      <td>3.870968</td>\n",
       "    </tr>\n",
       "    <tr>\n",
       "      <td>1</td>\n",
       "      <td>Анадырь</td>\n",
       "      <td>1.000000</td>\n",
       "    </tr>\n",
       "    <tr>\n",
       "      <td>2</td>\n",
       "      <td>Анапа</td>\n",
       "      <td>2.161290</td>\n",
       "    </tr>\n",
       "    <tr>\n",
       "      <td>3</td>\n",
       "      <td>Архангельск</td>\n",
       "      <td>5.354839</td>\n",
       "    </tr>\n",
       "    <tr>\n",
       "      <td>4</td>\n",
       "      <td>Астрахань</td>\n",
       "      <td>2.451613</td>\n",
       "    </tr>\n",
       "  </tbody>\n",
       "</table>\n",
       "</div>"
      ],
      "text/plain": [
       "          city  average_flights\n",
       "0       Абакан         3.870968\n",
       "1      Анадырь         1.000000\n",
       "2        Анапа         2.161290\n",
       "3  Архангельск         5.354839\n",
       "4    Астрахань         2.451613"
      ]
     },
     "metadata": {},
     "output_type": "display_data"
    }
   ],
   "source": [
    "query_1 = pd.read_csv('/datasets/query_1.csv')\n",
    "query_3 = pd.read_csv('/datasets/query_3.csv')\n",
    "\n",
    "display(query_1.info())\n",
    "display(query_1.head(5))\n",
    "display(query_3.info())\n",
    "display(query_3.head(5))"
   ]
  },
  {
   "cell_type": "code",
   "execution_count": 3,
   "metadata": {},
   "outputs": [
    {
     "data": {
      "text/html": [
       "<div>\n",
       "<style scoped>\n",
       "    .dataframe tbody tr th:only-of-type {\n",
       "        vertical-align: middle;\n",
       "    }\n",
       "\n",
       "    .dataframe tbody tr th {\n",
       "        vertical-align: top;\n",
       "    }\n",
       "\n",
       "    .dataframe thead th {\n",
       "        text-align: right;\n",
       "    }\n",
       "</style>\n",
       "<table border=\"1\" class=\"dataframe\">\n",
       "  <thead>\n",
       "    <tr style=\"text-align: right;\">\n",
       "      <th></th>\n",
       "      <th>average_flights</th>\n",
       "    </tr>\n",
       "  </thead>\n",
       "  <tbody>\n",
       "    <tr>\n",
       "      <td>count</td>\n",
       "      <td>101.000000</td>\n",
       "    </tr>\n",
       "    <tr>\n",
       "      <td>mean</td>\n",
       "      <td>5.494189</td>\n",
       "    </tr>\n",
       "    <tr>\n",
       "      <td>std</td>\n",
       "      <td>13.119790</td>\n",
       "    </tr>\n",
       "    <tr>\n",
       "      <td>min</td>\n",
       "      <td>1.000000</td>\n",
       "    </tr>\n",
       "    <tr>\n",
       "      <td>25%</td>\n",
       "      <td>2.000000</td>\n",
       "    </tr>\n",
       "    <tr>\n",
       "      <td>50%</td>\n",
       "      <td>3.000000</td>\n",
       "    </tr>\n",
       "    <tr>\n",
       "      <td>75%</td>\n",
       "      <td>5.870968</td>\n",
       "    </tr>\n",
       "    <tr>\n",
       "      <td>max</td>\n",
       "      <td>129.774194</td>\n",
       "    </tr>\n",
       "  </tbody>\n",
       "</table>\n",
       "</div>"
      ],
      "text/plain": [
       "       average_flights\n",
       "count       101.000000\n",
       "mean          5.494189\n",
       "std          13.119790\n",
       "min           1.000000\n",
       "25%           2.000000\n",
       "50%           3.000000\n",
       "75%           5.870968\n",
       "max         129.774194"
      ]
     },
     "execution_count": 3,
     "metadata": {},
     "output_type": "execute_result"
    }
   ],
   "source": [
    "query_3.describe()"
   ]
  },
  {
   "cell_type": "code",
   "execution_count": 4,
   "metadata": {},
   "outputs": [
    {
     "data": {
      "text/html": [
       "<div>\n",
       "<style scoped>\n",
       "    .dataframe tbody tr th:only-of-type {\n",
       "        vertical-align: middle;\n",
       "    }\n",
       "\n",
       "    .dataframe tbody tr th {\n",
       "        vertical-align: top;\n",
       "    }\n",
       "\n",
       "    .dataframe thead th {\n",
       "        text-align: right;\n",
       "    }\n",
       "</style>\n",
       "<table border=\"1\" class=\"dataframe\">\n",
       "  <thead>\n",
       "    <tr style=\"text-align: right;\">\n",
       "      <th></th>\n",
       "      <th>city</th>\n",
       "      <th>average_flights</th>\n",
       "    </tr>\n",
       "  </thead>\n",
       "  <tbody>\n",
       "    <tr>\n",
       "      <td>43</td>\n",
       "      <td>Москва</td>\n",
       "      <td>129.774194</td>\n",
       "    </tr>\n",
       "    <tr>\n",
       "      <td>70</td>\n",
       "      <td>Санкт-Петербург</td>\n",
       "      <td>31.161290</td>\n",
       "    </tr>\n",
       "    <tr>\n",
       "      <td>54</td>\n",
       "      <td>Новосибирск</td>\n",
       "      <td>17.322581</td>\n",
       "    </tr>\n",
       "    <tr>\n",
       "      <td>33</td>\n",
       "      <td>Красноярск</td>\n",
       "      <td>11.580645</td>\n",
       "    </tr>\n",
       "    <tr>\n",
       "      <td>20</td>\n",
       "      <td>Екатеринбург</td>\n",
       "      <td>11.322581</td>\n",
       "    </tr>\n",
       "    <tr>\n",
       "      <td>67</td>\n",
       "      <td>Ростов-на-Дону</td>\n",
       "      <td>10.193548</td>\n",
       "    </tr>\n",
       "    <tr>\n",
       "      <td>63</td>\n",
       "      <td>Пермь</td>\n",
       "      <td>10.129032</td>\n",
       "    </tr>\n",
       "    <tr>\n",
       "      <td>10</td>\n",
       "      <td>Брянск</td>\n",
       "      <td>10.000000</td>\n",
       "    </tr>\n",
       "    <tr>\n",
       "      <td>74</td>\n",
       "      <td>Сочи</td>\n",
       "      <td>9.612903</td>\n",
       "    </tr>\n",
       "    <tr>\n",
       "      <td>84</td>\n",
       "      <td>Ульяновск</td>\n",
       "      <td>9.580645</td>\n",
       "    </tr>\n",
       "  </tbody>\n",
       "</table>\n",
       "</div>"
      ],
      "text/plain": [
       "               city  average_flights\n",
       "43           Москва       129.774194\n",
       "70  Санкт-Петербург        31.161290\n",
       "54      Новосибирск        17.322581\n",
       "33       Красноярск        11.580645\n",
       "20     Екатеринбург        11.322581\n",
       "67   Ростов-на-Дону        10.193548\n",
       "63            Пермь        10.129032\n",
       "10           Брянск        10.000000\n",
       "74             Сочи         9.612903\n",
       "84        Ульяновск         9.580645"
      ]
     },
     "execution_count": 4,
     "metadata": {},
     "output_type": "execute_result"
    }
   ],
   "source": [
    "top_10_cities = query_3.sort_values(by='average_flights', ascending=False).head(10)\n",
    "top_10_cities"
   ]
  },
  {
   "cell_type": "code",
   "execution_count": 5,
   "metadata": {},
   "outputs": [
    {
     "data": {
      "text/plain": [
       "model             0.0\n",
       "flights_amount    0.0\n",
       "dtype: float64"
      ]
     },
     "metadata": {},
     "output_type": "display_data"
    },
    {
     "data": {
      "text/plain": [
       "city               0.0\n",
       "average_flights    0.0\n",
       "dtype: float64"
      ]
     },
     "metadata": {},
     "output_type": "display_data"
    },
    {
     "data": {
      "text/plain": [
       "city               0.0\n",
       "average_flights    0.0\n",
       "dtype: float64"
      ]
     },
     "execution_count": 5,
     "metadata": {},
     "output_type": "execute_result"
    }
   ],
   "source": [
    "display(query_1.isna().mean())\n",
    "display(query_3.isna().mean())\n",
    "top_10_cities.isna().mean()"
   ]
  },
  {
   "cell_type": "markdown",
   "metadata": {},
   "source": [
    "Типы данных корректные, пропусков нет."
   ]
  },
  {
   "cell_type": "markdown",
   "metadata": {},
   "source": [
    "**Модели самолётов и количество рейсов.**"
   ]
  },
  {
   "cell_type": "code",
   "execution_count": 6,
   "metadata": {},
   "outputs": [
    {
     "data": {
      "image/png": "[encoded data removed]",
      "text/plain": [
       "<Figure size 1152x720 with 1 Axes>"
      ]
     },
     "metadata": {},
     "output_type": "display_data"
    }
   ],
   "source": [
    "sns.set(style = 'whitegrid')\n",
    "plt.figure(figsize=(16, 10))\n",
    "plt.title('Модели самолётов и количество рейсов /spt 2018/', fontsize=18)\n",
    "sns.barplot(x='flights_amount', y='model',  data = query_1.sort_values(by='flights_amount', ascending=False), color='royalblue')\n",
    "plt.xlabel('')\n",
    "plt.ylabel('')\n",
    "plt.show()"
   ]
  },
  {
   "cell_type": "markdown",
   "metadata": {},
   "source": [
    "Для Borbardier(50 человек), Cessna(вместимость 14 человек) и Сухой(98 человек) характерна очень высокая частота полетов. Это объясняется тем, что данные модели используются для коротких и частых перелетов. Самый крупный самолет - Боинг 777-300 (вместимость 450 человек), совершил меньше всего рейсов, т.к. предназначен для длительных перелетов."
   ]
  },
  {
   "cell_type": "markdown",
   "metadata": {},
   "source": [
    "**Города и количество рейсов.**"
   ]
  },
  {
   "cell_type": "code",
   "execution_count": 7,
   "metadata": {},
   "outputs": [
    {
     "data": {
      "image/png": "[encoded data removed]",
      "text/plain": [
       "<Figure size 1080x2160 with 1 Axes>"
      ]
     },
     "metadata": {},
     "output_type": "display_data"
    }
   ],
   "source": [
    "plt.figure(figsize=(15, 30))\n",
    "plt.title('Города и количество рейсов /spt 2018/', fontsize=18)\n",
    "sns.barplot(x='average_flights', y='city', data=query_3.sort_values(by='average_flights', ascending=False), color='royalblue')\n",
    "plt.xlabel('')\n",
    "plt.ylabel('')\n",
    "plt.show()"
   ]
  },
  {
   "cell_type": "markdown",
   "metadata": {},
   "source": [
    "Важными воздушнотранспортными узлами являются Москва, Санкт-Петербург и Новосибирск. Это города, в которых можно совершить пересадки на международные рейсы, дополнительный вклад вносит количество и размер аэропортов."
   ]
  },
  {
   "cell_type": "markdown",
   "metadata": {},
   "source": [
    "**Топ-10 городов и количество рейсов**"
   ]
  },
  {
   "cell_type": "code",
   "execution_count": 8,
   "metadata": {},
   "outputs": [
    {
     "data": {
      "image/png": "[encoded data removed]",
      "text/plain": [
       "<Figure size 1152x720 with 1 Axes>"
      ]
     },
     "metadata": {},
     "output_type": "display_data"
    }
   ],
   "source": [
    "plt.figure(figsize=(16, 10))\n",
    "plt.title('Топ-10 городов и количество рейсов /spt 2018/', fontsize=18)\n",
    "sns.barplot(x='average_flights', y='city', data=top_10_cities.sort_values(by='average_flights', ascending=False), color='royalblue')\n",
    "plt.xlabel('')\n",
    "plt.ylabel('')\n",
    "plt.show()"
   ]
  },
  {
   "cell_type": "markdown",
   "metadata": {},
   "source": [
    "Москва, являясь крупнейшим воздушнотранспортным узлом, лидирует с большим отрывом. Все города, не попавшие в 3 лидеров, имеют в среднем по 10 рейсов."
   ]
  },
  {
   "cell_type": "markdown",
   "metadata": {},
   "source": [
    "**Вывод.**"
   ]
  },
  {
   "cell_type": "markdown",
   "metadata": {},
   "source": [
    "Проанализированы данные о полетах за сентябрь 2018 года. Приведены зависимости количества рейсов от различных параметров. \n",
    "\n",
    "Ожидаемо, что в крупных городах большое количество различных рейсов; наблюдается некоторая зависимость между вместимостью-дальностью моделей самолетов и количеством рейсов, ими совершаемых.\n",
    "\n",
    "Какой-то особой зависимости между наличием фестивалей и спросом на билеты не обнаружено, можно сделать вывод, что фестивали на спрос не влияют."
   ]
  }
 ],
 "metadata": {
  "ExecuteTimeLog": [
   {
    "duration": 1520,
    "start_time": "2021-09-13T15:57:21.794Z"
   },
   {
    "duration": 56,
    "start_time": "2021-09-13T16:00:06.625Z"
   },
   {
    "duration": 17,
    "start_time": "2021-09-13T16:02:46.311Z"
   },
   {
    "duration": 14,
    "start_time": "2021-09-13T16:03:03.181Z"
   },
   {
    "duration": 16,
    "start_time": "2021-09-13T16:03:38.696Z"
   },
   {
    "duration": 943,
    "start_time": "2021-09-13T16:15:34.093Z"
   },
   {
    "duration": 779,
    "start_time": "2021-09-13T16:15:58.038Z"
   },
   {
    "duration": 847,
    "start_time": "2021-09-13T16:16:14.538Z"
   },
   {
    "duration": 485,
    "start_time": "2021-09-13T16:16:24.993Z"
   },
   {
    "duration": 816,
    "start_time": "2021-09-13T16:17:27.401Z"
   },
   {
    "duration": 811,
    "start_time": "2021-09-13T16:18:02.029Z"
   },
   {
    "duration": 753,
    "start_time": "2021-09-13T16:18:17.391Z"
   },
   {
    "duration": 875,
    "start_time": "2021-09-13T16:18:27.810Z"
   },
   {
    "duration": 799,
    "start_time": "2021-09-13T16:20:30.568Z"
   },
   {
    "duration": 907,
    "start_time": "2021-09-13T16:20:51.352Z"
   },
   {
    "duration": 477,
    "start_time": "2021-09-13T16:20:59.203Z"
   },
   {
    "duration": 486,
    "start_time": "2021-09-13T16:22:18.041Z"
   },
   {
    "duration": 482,
    "start_time": "2021-09-13T16:22:23.999Z"
   },
   {
    "duration": 481,
    "start_time": "2021-09-13T16:22:57.615Z"
   },
   {
    "duration": 497,
    "start_time": "2021-09-13T16:23:50.183Z"
   },
   {
    "duration": 495,
    "start_time": "2021-09-13T16:24:12.983Z"
   },
   {
    "duration": 494,
    "start_time": "2021-09-13T16:24:48.797Z"
   },
   {
    "duration": 496,
    "start_time": "2021-09-13T16:26:26.663Z"
   },
   {
    "duration": 580,
    "start_time": "2021-09-13T16:26:54.992Z"
   },
   {
    "duration": 431,
    "start_time": "2021-09-13T16:27:56.089Z"
   },
   {
    "duration": 497,
    "start_time": "2021-09-13T16:28:14.118Z"
   },
   {
    "duration": 507,
    "start_time": "2021-09-13T16:29:02.251Z"
   },
   {
    "duration": 494,
    "start_time": "2021-09-13T16:29:22.243Z"
   },
   {
    "duration": 477,
    "start_time": "2021-09-13T16:29:48.046Z"
   },
   {
    "duration": 480,
    "start_time": "2021-09-13T16:30:35.985Z"
   },
   {
    "duration": 498,
    "start_time": "2021-09-13T16:31:00.476Z"
   },
   {
    "duration": 482,
    "start_time": "2021-09-13T16:31:44.982Z"
   },
   {
    "duration": 500,
    "start_time": "2021-09-13T16:32:03.367Z"
   },
   {
    "duration": 503,
    "start_time": "2021-09-13T16:32:24.735Z"
   },
   {
    "duration": 739,
    "start_time": "2021-09-13T16:32:54.138Z"
   },
   {
    "duration": 495,
    "start_time": "2021-09-13T16:33:05.661Z"
   },
   {
    "duration": 4428,
    "start_time": "2021-09-13T16:33:19.713Z"
   },
   {
    "duration": 487,
    "start_time": "2021-09-13T16:34:13.684Z"
   },
   {
    "duration": 1971,
    "start_time": "2021-09-13T16:35:26.700Z"
   },
   {
    "duration": 57,
    "start_time": "2021-09-13T16:35:28.673Z"
   },
   {
    "duration": 18,
    "start_time": "2021-09-13T16:35:28.732Z"
   },
   {
    "duration": 12,
    "start_time": "2021-09-13T16:35:28.768Z"
   },
   {
    "duration": 16,
    "start_time": "2021-09-13T16:35:28.783Z"
   },
   {
    "duration": 528,
    "start_time": "2021-09-13T16:35:28.802Z"
   },
   {
    "duration": 486,
    "start_time": "2021-09-13T16:35:52.696Z"
   },
   {
    "duration": 503,
    "start_time": "2021-09-13T16:36:10.168Z"
   },
   {
    "duration": 2280,
    "start_time": "2021-09-13T16:38:18.401Z"
   },
   {
    "duration": 56,
    "start_time": "2021-09-13T16:38:20.684Z"
   },
   {
    "duration": 25,
    "start_time": "2021-09-13T16:38:20.743Z"
   },
   {
    "duration": 30,
    "start_time": "2021-09-13T16:38:20.771Z"
   },
   {
    "duration": 28,
    "start_time": "2021-09-13T16:38:20.804Z"
   },
   {
    "duration": 1365,
    "start_time": "2021-09-13T16:38:20.835Z"
   },
   {
    "duration": 501,
    "start_time": "2021-09-13T16:39:52.828Z"
   },
   {
    "duration": 512,
    "start_time": "2021-09-13T16:40:07.047Z"
   },
   {
    "duration": 498,
    "start_time": "2021-09-13T16:40:29.494Z"
   },
   {
    "duration": 503,
    "start_time": "2021-09-13T16:40:53.513Z"
   },
   {
    "duration": 637,
    "start_time": "2021-09-13T16:41:10.976Z"
   },
   {
    "duration": 646,
    "start_time": "2021-09-13T16:41:56.463Z"
   },
   {
    "duration": 597,
    "start_time": "2021-09-13T16:42:08.712Z"
   },
   {
    "duration": 613,
    "start_time": "2021-09-13T16:42:15.539Z"
   },
   {
    "duration": 594,
    "start_time": "2021-09-13T16:43:34.536Z"
   },
   {
    "duration": 593,
    "start_time": "2021-09-13T16:43:50.143Z"
   },
   {
    "duration": 583,
    "start_time": "2021-09-13T16:44:50.836Z"
   },
   {
    "duration": 597,
    "start_time": "2021-09-13T16:45:09.261Z"
   },
   {
    "duration": 594,
    "start_time": "2021-09-13T16:45:21.110Z"
   },
   {
    "duration": 625,
    "start_time": "2021-09-13T16:46:01.457Z"
   },
   {
    "duration": 878,
    "start_time": "2021-09-13T16:47:59.000Z"
   },
   {
    "duration": 816,
    "start_time": "2021-09-13T16:48:34.428Z"
   },
   {
    "duration": 606,
    "start_time": "2021-09-13T16:50:14.881Z"
   },
   {
    "duration": 912,
    "start_time": "2021-09-13T16:50:38.580Z"
   },
   {
    "duration": 601,
    "start_time": "2021-09-13T16:50:58.061Z"
   },
   {
    "duration": 607,
    "start_time": "2021-09-13T16:52:16.000Z"
   },
   {
    "duration": 591,
    "start_time": "2021-09-13T16:52:24.699Z"
   },
   {
    "duration": 590,
    "start_time": "2021-09-13T16:52:34.992Z"
   },
   {
    "duration": 588,
    "start_time": "2021-09-13T16:52:52.179Z"
   },
   {
    "duration": 590,
    "start_time": "2021-09-13T16:53:06.129Z"
   },
   {
    "duration": 673,
    "start_time": "2021-09-13T16:53:17.637Z"
   },
   {
    "duration": 580,
    "start_time": "2021-09-13T16:53:26.419Z"
   },
   {
    "duration": 576,
    "start_time": "2021-09-13T16:53:36.755Z"
   },
   {
    "duration": 593,
    "start_time": "2021-09-13T16:56:46.434Z"
   },
   {
    "duration": 746,
    "start_time": "2021-09-13T17:01:08.427Z"
   },
   {
    "duration": 667,
    "start_time": "2021-09-13T17:01:37.955Z"
   },
   {
    "duration": 82,
    "start_time": "2021-09-13T17:05:26.149Z"
   },
   {
    "duration": 256,
    "start_time": "2021-09-13T17:05:39.216Z"
   },
   {
    "duration": 287,
    "start_time": "2021-09-13T17:06:03.498Z"
   },
   {
    "duration": 364,
    "start_time": "2021-09-13T17:06:26.012Z"
   },
   {
    "duration": 366,
    "start_time": "2021-09-13T17:06:43.579Z"
   },
   {
    "duration": 382,
    "start_time": "2021-09-13T17:07:01.458Z"
   },
   {
    "duration": 356,
    "start_time": "2021-09-13T17:07:24.396Z"
   },
   {
    "duration": 382,
    "start_time": "2021-09-13T17:08:56.015Z"
   },
   {
    "duration": 366,
    "start_time": "2021-09-13T17:09:19.363Z"
   },
   {
    "duration": 654,
    "start_time": "2021-09-13T17:11:08.839Z"
   },
   {
    "duration": 760,
    "start_time": "2021-09-13T17:12:02.459Z"
   },
   {
    "duration": 657,
    "start_time": "2021-09-13T17:15:22.920Z"
   },
   {
    "duration": 704,
    "start_time": "2021-09-13T17:16:03.650Z"
   },
   {
    "duration": 674,
    "start_time": "2021-09-13T17:16:47.809Z"
   },
   {
    "duration": 940,
    "start_time": "2021-09-13T17:17:15.867Z"
   },
   {
    "duration": 896,
    "start_time": "2021-09-13T17:17:28.906Z"
   },
   {
    "duration": 1057,
    "start_time": "2021-09-13T17:20:04.980Z"
   },
   {
    "duration": 82,
    "start_time": "2021-09-13T17:21:01.739Z"
   },
   {
    "duration": 4355,
    "start_time": "2021-09-13T17:21:06.646Z"
   },
   {
    "duration": 626,
    "start_time": "2021-09-13T17:25:16.339Z"
   },
   {
    "duration": 666,
    "start_time": "2021-09-13T17:25:33.821Z"
   },
   {
    "duration": 1151,
    "start_time": "2021-09-13T17:25:48.677Z"
   },
   {
    "duration": 999,
    "start_time": "2021-09-13T17:26:03.887Z"
   },
   {
    "duration": 993,
    "start_time": "2021-09-13T17:26:27.221Z"
   },
   {
    "duration": 962,
    "start_time": "2021-09-13T17:26:59.690Z"
   },
   {
    "duration": 605,
    "start_time": "2021-09-13T17:27:06.044Z"
   },
   {
    "duration": 822,
    "start_time": "2021-09-13T17:29:23.240Z"
   },
   {
    "duration": 2675,
    "start_time": "2021-09-13T17:32:18.430Z"
   },
   {
    "duration": 1969,
    "start_time": "2021-09-13T17:35:27.752Z"
   },
   {
    "duration": 1378,
    "start_time": "2021-09-13T17:35:59.989Z"
   },
   {
    "duration": 1606,
    "start_time": "2021-09-13T17:36:12.246Z"
   },
   {
    "duration": 596,
    "start_time": "2021-09-13T19:19:58.544Z"
   },
   {
    "duration": 584,
    "start_time": "2021-09-13T19:30:07.518Z"
   },
   {
    "duration": 3141,
    "start_time": "2021-09-13T19:31:02.579Z"
   },
   {
    "duration": 3350,
    "start_time": "2021-09-13T19:34:18.195Z"
   },
   {
    "duration": 3255,
    "start_time": "2021-09-13T19:35:03.498Z"
   },
   {
    "duration": 2023,
    "start_time": "2021-09-13T19:37:36.935Z"
   },
   {
    "duration": 59,
    "start_time": "2021-09-13T19:37:38.961Z"
   },
   {
    "duration": 18,
    "start_time": "2021-09-13T19:37:39.024Z"
   },
   {
    "duration": 32,
    "start_time": "2021-09-13T19:37:39.045Z"
   },
   {
    "duration": 23,
    "start_time": "2021-09-13T19:37:39.079Z"
   },
   {
    "duration": 635,
    "start_time": "2021-09-13T19:37:39.105Z"
   },
   {
    "duration": 3360,
    "start_time": "2021-09-13T19:37:39.743Z"
   },
   {
    "duration": 959,
    "start_time": "2021-09-13T19:45:38.892Z"
   },
   {
    "duration": 3428,
    "start_time": "2021-09-13T19:45:49.809Z"
   },
   {
    "duration": 987,
    "start_time": "2021-09-13T19:48:53.275Z"
   },
   {
    "duration": 902,
    "start_time": "2021-09-13T19:49:18.313Z"
   },
   {
    "duration": 784,
    "start_time": "2021-09-13T19:49:45.395Z"
   },
   {
    "duration": 516,
    "start_time": "2021-09-13T19:50:05.554Z"
   },
   {
    "duration": 622,
    "start_time": "2021-09-13T19:51:41.752Z"
   },
   {
    "duration": 623,
    "start_time": "2021-09-13T19:51:53.502Z"
   },
   {
    "duration": 33,
    "start_time": "2021-09-13T19:58:34.972Z"
   },
   {
    "duration": 24,
    "start_time": "2021-09-13T20:00:28.876Z"
   },
   {
    "duration": 23,
    "start_time": "2021-09-13T20:01:19.889Z"
   },
   {
    "duration": 24,
    "start_time": "2021-09-13T20:01:49.870Z"
   },
   {
    "duration": 8,
    "start_time": "2021-09-13T20:17:35.283Z"
   },
   {
    "duration": 1525,
    "start_time": "2021-09-13T20:27:26.950Z"
   },
   {
    "duration": 59,
    "start_time": "2021-09-13T20:27:28.477Z"
   },
   {
    "duration": 31,
    "start_time": "2021-09-13T20:27:28.539Z"
   },
   {
    "duration": 15,
    "start_time": "2021-09-13T20:27:28.573Z"
   },
   {
    "duration": 18,
    "start_time": "2021-09-13T20:27:28.590Z"
   },
   {
    "duration": 685,
    "start_time": "2021-09-13T20:27:28.612Z"
   },
   {
    "duration": 3926,
    "start_time": "2021-09-13T20:27:29.301Z"
   },
   {
    "duration": 730,
    "start_time": "2021-09-13T20:27:33.232Z"
   },
   {
    "duration": 40,
    "start_time": "2021-09-13T20:27:33.968Z"
   },
   {
    "duration": 25,
    "start_time": "2021-09-13T20:27:34.011Z"
   },
   {
    "duration": 36,
    "start_time": "2021-09-13T20:27:34.040Z"
   },
   {
    "duration": 1186,
    "start_time": "2021-09-14T05:09:56.202Z"
   },
   {
    "duration": 50,
    "start_time": "2021-09-14T05:09:57.390Z"
   },
   {
    "duration": 13,
    "start_time": "2021-09-14T05:09:57.442Z"
   },
   {
    "duration": 12,
    "start_time": "2021-09-14T05:09:57.456Z"
   },
   {
    "duration": 14,
    "start_time": "2021-09-14T05:09:57.470Z"
   },
   {
    "duration": 394,
    "start_time": "2021-09-14T05:09:57.485Z"
   },
   {
    "duration": 2018,
    "start_time": "2021-09-14T05:09:57.880Z"
   },
   {
    "duration": 392,
    "start_time": "2021-09-14T05:09:59.900Z"
   },
   {
    "duration": 34,
    "start_time": "2021-09-14T05:10:00.294Z"
   },
   {
    "duration": 16,
    "start_time": "2021-09-14T05:10:00.329Z"
   },
   {
    "duration": 7,
    "start_time": "2021-09-14T05:10:00.347Z"
   },
   {
    "duration": 4,
    "start_time": "2021-09-14T05:28:20.183Z"
   },
   {
    "duration": 111,
    "start_time": "2021-09-14T05:28:35.275Z"
   },
   {
    "duration": 294,
    "start_time": "2021-09-14T08:02:13.115Z"
   },
   {
    "duration": 1541,
    "start_time": "2021-09-14T08:04:09.731Z"
   },
   {
    "duration": 57,
    "start_time": "2021-09-14T08:04:11.275Z"
   },
   {
    "duration": 33,
    "start_time": "2021-09-14T08:04:11.334Z"
   },
   {
    "duration": 12,
    "start_time": "2021-09-14T08:04:11.370Z"
   },
   {
    "duration": 16,
    "start_time": "2021-09-14T08:04:11.385Z"
   },
   {
    "duration": 1401,
    "start_time": "2021-09-14T08:04:11.403Z"
   },
   {
    "duration": -345,
    "start_time": "2021-09-14T08:04:13.152Z"
   },
   {
    "duration": -356,
    "start_time": "2021-09-14T08:04:13.164Z"
   },
   {
    "duration": -364,
    "start_time": "2021-09-14T08:04:13.174Z"
   },
   {
    "duration": -369,
    "start_time": "2021-09-14T08:04:13.188Z"
   },
   {
    "duration": -376,
    "start_time": "2021-09-14T08:04:13.196Z"
   },
   {
    "duration": 1037,
    "start_time": "2021-09-14T08:05:11.767Z"
   },
   {
    "duration": 1043,
    "start_time": "2021-09-14T08:05:38.996Z"
   },
   {
    "duration": 533,
    "start_time": "2021-09-14T08:05:52.758Z"
   },
   {
    "duration": 682,
    "start_time": "2021-09-14T08:06:19.595Z"
   },
   {
    "duration": 666,
    "start_time": "2021-09-14T08:06:32.223Z"
   },
   {
    "duration": 987,
    "start_time": "2021-09-14T08:08:01.928Z"
   },
   {
    "duration": 757,
    "start_time": "2021-09-14T08:09:22.979Z"
   },
   {
    "duration": 672,
    "start_time": "2021-09-14T08:12:52.029Z"
   },
   {
    "duration": 3491,
    "start_time": "2021-09-14T08:16:52.477Z"
   },
   {
    "duration": 692,
    "start_time": "2021-09-14T08:17:26.978Z"
   },
   {
    "duration": 1462,
    "start_time": "2021-09-14T08:17:54.091Z"
   },
   {
    "duration": 67,
    "start_time": "2021-09-14T08:17:55.556Z"
   },
   {
    "duration": 18,
    "start_time": "2021-09-14T08:17:55.625Z"
   },
   {
    "duration": 32,
    "start_time": "2021-09-14T08:17:55.645Z"
   },
   {
    "duration": 18,
    "start_time": "2021-09-14T08:17:55.679Z"
   },
   {
    "duration": 697,
    "start_time": "2021-09-14T08:17:55.699Z"
   },
   {
    "duration": 3238,
    "start_time": "2021-09-14T08:17:56.399Z"
   },
   {
    "duration": 744,
    "start_time": "2021-09-14T08:17:59.640Z"
   },
   {
    "duration": 33,
    "start_time": "2021-09-14T08:18:00.388Z"
   },
   {
    "duration": 49,
    "start_time": "2021-09-14T08:18:00.424Z"
   },
   {
    "duration": 9,
    "start_time": "2021-09-14T08:18:00.476Z"
   },
   {
    "duration": 2015,
    "start_time": "2021-09-14T08:35:38.252Z"
   },
   {
    "duration": 60,
    "start_time": "2021-09-14T08:35:40.270Z"
   },
   {
    "duration": 33,
    "start_time": "2021-09-14T08:35:40.333Z"
   },
   {
    "duration": 13,
    "start_time": "2021-09-14T08:35:40.369Z"
   },
   {
    "duration": 24,
    "start_time": "2021-09-14T08:35:40.385Z"
   },
   {
    "duration": 729,
    "start_time": "2021-09-14T08:35:40.412Z"
   },
   {
    "duration": 3257,
    "start_time": "2021-09-14T08:35:41.144Z"
   },
   {
    "duration": 725,
    "start_time": "2021-09-14T08:35:44.406Z"
   },
   {
    "duration": 3,
    "start_time": "2021-09-14T08:35:45.134Z"
   },
   {
    "duration": 7,
    "start_time": "2021-09-14T08:35:45.141Z"
   },
   {
    "duration": 3,
    "start_time": "2021-09-14T08:35:45.167Z"
   },
   {
    "duration": 1099,
    "start_time": "2021-09-15T03:46:05.322Z"
   },
   {
    "duration": 51,
    "start_time": "2021-09-15T03:46:06.423Z"
   },
   {
    "duration": 15,
    "start_time": "2021-09-15T03:46:06.476Z"
   },
   {
    "duration": 7,
    "start_time": "2021-09-15T03:46:06.493Z"
   },
   {
    "duration": 12,
    "start_time": "2021-09-15T03:46:06.502Z"
   },
   {
    "duration": 388,
    "start_time": "2021-09-15T03:46:06.515Z"
   },
   {
    "duration": 1800,
    "start_time": "2021-09-15T03:46:06.905Z"
   },
   {
    "duration": 388,
    "start_time": "2021-09-15T03:46:08.707Z"
   },
   {
    "duration": 2,
    "start_time": "2021-09-15T03:46:09.096Z"
   },
   {
    "duration": 6,
    "start_time": "2021-09-15T03:46:09.100Z"
   },
   {
    "duration": 4,
    "start_time": "2021-09-15T03:46:09.108Z"
   }
  ],
  "kernelspec": {
   "display_name": "Python 3",
   "language": "python",
   "name": "python3"
  },
  "language_info": {
   "codemirror_mode": {
    "name": "ipython",
    "version": 3
   },
   "file_extension": ".py",
   "mimetype": "text/x-python",
   "name": "python",
   "nbconvert_exporter": "python",
   "pygments_lexer": "ipython3",
   "version": "3.8.8"
  },
  "toc": {
   "base_numbering": 1,
   "nav_menu": {},
   "number_sections": true,
   "sideBar": true,
   "skip_h1_title": true,
   "title_cell": "Содержание",
   "title_sidebar": "Contents",
   "toc_cell": true,
   "toc_position": {
    "height": "calc(100% - 180px)",
    "left": "10px",
    "top": "150px",
    "width": "164.992px"
   },
   "toc_section_display": true,
   "toc_window_display": false
  }
 },
 "nbformat": 4,
 "nbformat_minor": 2
}
