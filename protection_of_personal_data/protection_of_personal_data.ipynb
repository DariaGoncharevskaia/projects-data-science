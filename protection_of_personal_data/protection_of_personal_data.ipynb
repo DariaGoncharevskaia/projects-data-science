{
 "cells": [
  {
   "cell_type": "markdown",
   "metadata": {
    "toc": true
   },
   "source": [
    "<h1>Содержание<span class=\"tocSkip\"></span></h1>\n",
    "<div class=\"toc\"><ul class=\"toc-item\"><li><span><a href=\"#Загрузка-данных\" data-toc-modified-id=\"Загрузка-данных-1\"><span class=\"toc-item-num\">1&nbsp;&nbsp;</span>Загрузка данных</a></span><ul class=\"toc-item\"><li><span><a href=\"#Импорт-библиотек\" data-toc-modified-id=\"Импорт-библиотек-1.1\"><span class=\"toc-item-num\">1.1&nbsp;&nbsp;</span>Импорт библиотек</a></span></li><li><span><a href=\"#Чтение-файла-и-изучение-данных\" data-toc-modified-id=\"Чтение-файла-и-изучение-данных-1.2\"><span class=\"toc-item-num\">1.2&nbsp;&nbsp;</span>Чтение файла и изучение данных</a></span></li></ul></li><li><span><a href=\"#Умножение-матриц\" data-toc-modified-id=\"Умножение-матриц-2\"><span class=\"toc-item-num\">2&nbsp;&nbsp;</span>Умножение матриц</a></span></li><li><span><a href=\"#Алгоритм-преобразования\" data-toc-modified-id=\"Алгоритм-преобразования-3\"><span class=\"toc-item-num\">3&nbsp;&nbsp;</span>Алгоритм преобразования</a></span></li><li><span><a href=\"#Проверка-алгоритма\" data-toc-modified-id=\"Проверка-алгоритма-4\"><span class=\"toc-item-num\">4&nbsp;&nbsp;</span>Проверка алгоритма</a></span><ul class=\"toc-item\"><li><span><a href=\"#Подготовка-данных\" data-toc-modified-id=\"Подготовка-данных-4.1\"><span class=\"toc-item-num\">4.1&nbsp;&nbsp;</span>Подготовка данных</a></span></li><li><span><a href=\"#Класс-линейной-регрессии\" data-toc-modified-id=\"Класс-линейной-регрессии-4.2\"><span class=\"toc-item-num\">4.2&nbsp;&nbsp;</span>Класс линейной регрессии</a></span></li><li><span><a href=\"#Алгоритм-шифрования---дешифрования\" data-toc-modified-id=\"Алгоритм-шифрования---дешифрования-4.3\"><span class=\"toc-item-num\">4.3&nbsp;&nbsp;</span>Алгоритм шифрования - дешифрования</a></span></li><li><span><a href=\"#Сравнение-с-линейной-регрессий-из-sklearn\" data-toc-modified-id=\"Сравнение-с-линейной-регрессий-из-sklearn-4.4\"><span class=\"toc-item-num\">4.4&nbsp;&nbsp;</span>Сравнение с линейной регрессий из sklearn</a></span></li></ul></li><li><span><a href=\"#Вывод\" data-toc-modified-id=\"Вывод-5\"><span class=\"toc-item-num\">5&nbsp;&nbsp;</span>Вывод</a></span></li><li><span><a href=\"#Чек-лист-проверки\" data-toc-modified-id=\"Чек-лист-проверки-6\"><span class=\"toc-item-num\">6&nbsp;&nbsp;</span>Чек-лист проверки</a></span></li></ul></div>"
   ]
  },
  {
   "cell_type": "markdown",
   "metadata": {},
   "source": [
    "# Защита персональных данных клиентов"
   ]
  },
  {
   "cell_type": "markdown",
   "metadata": {},
   "source": [
    "Вам нужно защитить данные клиентов страховой компании «Хоть потоп». Разработайте такой метод преобразования данных, чтобы по ним было сложно восстановить персональную информацию. Обоснуйте корректность его работы.\n",
    "\n",
    "Нужно защитить данные, чтобы при преобразовании качество моделей машинного обучения не ухудшилось. Подбирать наилучшую модель не требуется."
   ]
  },
  {
   "cell_type": "markdown",
   "metadata": {},
   "source": [
    "## Загрузка данных"
   ]
  },
  {
   "cell_type": "markdown",
   "metadata": {},
   "source": [
    "### Импорт библиотек"
   ]
  },
  {
   "cell_type": "code",
   "execution_count": 1,
   "metadata": {},
   "outputs": [],
   "source": [
    "import pandas as pd\n",
    "import numpy as np\n",
    "from sklearn.model_selection import train_test_split\n",
    "from sklearn.preprocessing import StandardScaler\n",
    "from sklearn.pipeline import Pipeline\n",
    "from sklearn.linear_model import LinearRegression\n",
    "from sklearn.metrics import r2_score\n",
    "\n",
    "import warnings\n",
    "warnings.filterwarnings('ignore')"
   ]
  },
  {
   "cell_type": "markdown",
   "metadata": {},
   "source": [
    "### Чтение файла и изучение данных"
   ]
  },
  {
   "cell_type": "code",
   "execution_count": 2,
   "metadata": {},
   "outputs": [
    {
     "name": "stdout",
     "output_type": "stream",
     "text": [
      "<class 'pandas.core.frame.DataFrame'>\n",
      "RangeIndex: 5000 entries, 0 to 4999\n",
      "Data columns (total 5 columns):\n",
      "Пол                  5000 non-null int64\n",
      "Возраст              5000 non-null float64\n",
      "Зарплата             5000 non-null float64\n",
      "Члены семьи          5000 non-null int64\n",
      "Страховые выплаты    5000 non-null int64\n",
      "dtypes: float64(2), int64(3)\n",
      "memory usage: 195.4 KB\n"
     ]
    }
   ],
   "source": [
    "insurance = pd.read_csv('/datasets/insurance.csv')\n",
    "insurance.info()"
   ]
  },
  {
   "cell_type": "code",
   "execution_count": 3,
   "metadata": {},
   "outputs": [
    {
     "data": {
      "text/html": [
       "<div>\n",
       "<style scoped>\n",
       "    .dataframe tbody tr th:only-of-type {\n",
       "        vertical-align: middle;\n",
       "    }\n",
       "\n",
       "    .dataframe tbody tr th {\n",
       "        vertical-align: top;\n",
       "    }\n",
       "\n",
       "    .dataframe thead th {\n",
       "        text-align: right;\n",
       "    }\n",
       "</style>\n",
       "<table border=\"1\" class=\"dataframe\">\n",
       "  <thead>\n",
       "    <tr style=\"text-align: right;\">\n",
       "      <th></th>\n",
       "      <th>Пол</th>\n",
       "      <th>Возраст</th>\n",
       "      <th>Зарплата</th>\n",
       "      <th>Члены семьи</th>\n",
       "      <th>Страховые выплаты</th>\n",
       "    </tr>\n",
       "  </thead>\n",
       "  <tbody>\n",
       "    <tr>\n",
       "      <td>0</td>\n",
       "      <td>1</td>\n",
       "      <td>41.0</td>\n",
       "      <td>49600.0</td>\n",
       "      <td>1</td>\n",
       "      <td>0</td>\n",
       "    </tr>\n",
       "    <tr>\n",
       "      <td>1</td>\n",
       "      <td>0</td>\n",
       "      <td>46.0</td>\n",
       "      <td>38000.0</td>\n",
       "      <td>1</td>\n",
       "      <td>1</td>\n",
       "    </tr>\n",
       "    <tr>\n",
       "      <td>2</td>\n",
       "      <td>0</td>\n",
       "      <td>29.0</td>\n",
       "      <td>21000.0</td>\n",
       "      <td>0</td>\n",
       "      <td>0</td>\n",
       "    </tr>\n",
       "    <tr>\n",
       "      <td>3</td>\n",
       "      <td>0</td>\n",
       "      <td>21.0</td>\n",
       "      <td>41700.0</td>\n",
       "      <td>2</td>\n",
       "      <td>0</td>\n",
       "    </tr>\n",
       "    <tr>\n",
       "      <td>4</td>\n",
       "      <td>1</td>\n",
       "      <td>28.0</td>\n",
       "      <td>26100.0</td>\n",
       "      <td>0</td>\n",
       "      <td>0</td>\n",
       "    </tr>\n",
       "  </tbody>\n",
       "</table>\n",
       "</div>"
      ],
      "text/plain": [
       "   Пол  Возраст  Зарплата  Члены семьи  Страховые выплаты\n",
       "0    1     41.0   49600.0            1                  0\n",
       "1    0     46.0   38000.0            1                  1\n",
       "2    0     29.0   21000.0            0                  0\n",
       "3    0     21.0   41700.0            2                  0\n",
       "4    1     28.0   26100.0            0                  0"
      ]
     },
     "execution_count": 3,
     "metadata": {},
     "output_type": "execute_result"
    }
   ],
   "source": [
    "insurance.head(5)"
   ]
  },
  {
   "cell_type": "code",
   "execution_count": 4,
   "metadata": {},
   "outputs": [
    {
     "data": {
      "text/html": [
       "<div>\n",
       "<style scoped>\n",
       "    .dataframe tbody tr th:only-of-type {\n",
       "        vertical-align: middle;\n",
       "    }\n",
       "\n",
       "    .dataframe tbody tr th {\n",
       "        vertical-align: top;\n",
       "    }\n",
       "\n",
       "    .dataframe thead th {\n",
       "        text-align: right;\n",
       "    }\n",
       "</style>\n",
       "<table border=\"1\" class=\"dataframe\">\n",
       "  <thead>\n",
       "    <tr style=\"text-align: right;\">\n",
       "      <th></th>\n",
       "      <th>Пол</th>\n",
       "      <th>Возраст</th>\n",
       "      <th>Зарплата</th>\n",
       "      <th>Члены семьи</th>\n",
       "      <th>Страховые выплаты</th>\n",
       "    </tr>\n",
       "  </thead>\n",
       "  <tbody>\n",
       "    <tr>\n",
       "      <td>4995</td>\n",
       "      <td>0</td>\n",
       "      <td>28.0</td>\n",
       "      <td>35700.0</td>\n",
       "      <td>2</td>\n",
       "      <td>0</td>\n",
       "    </tr>\n",
       "    <tr>\n",
       "      <td>4996</td>\n",
       "      <td>0</td>\n",
       "      <td>34.0</td>\n",
       "      <td>52400.0</td>\n",
       "      <td>1</td>\n",
       "      <td>0</td>\n",
       "    </tr>\n",
       "    <tr>\n",
       "      <td>4997</td>\n",
       "      <td>0</td>\n",
       "      <td>20.0</td>\n",
       "      <td>33900.0</td>\n",
       "      <td>2</td>\n",
       "      <td>0</td>\n",
       "    </tr>\n",
       "    <tr>\n",
       "      <td>4998</td>\n",
       "      <td>1</td>\n",
       "      <td>22.0</td>\n",
       "      <td>32700.0</td>\n",
       "      <td>3</td>\n",
       "      <td>0</td>\n",
       "    </tr>\n",
       "    <tr>\n",
       "      <td>4999</td>\n",
       "      <td>1</td>\n",
       "      <td>28.0</td>\n",
       "      <td>40600.0</td>\n",
       "      <td>1</td>\n",
       "      <td>0</td>\n",
       "    </tr>\n",
       "  </tbody>\n",
       "</table>\n",
       "</div>"
      ],
      "text/plain": [
       "      Пол  Возраст  Зарплата  Члены семьи  Страховые выплаты\n",
       "4995    0     28.0   35700.0            2                  0\n",
       "4996    0     34.0   52400.0            1                  0\n",
       "4997    0     20.0   33900.0            2                  0\n",
       "4998    1     22.0   32700.0            3                  0\n",
       "4999    1     28.0   40600.0            1                  0"
      ]
     },
     "execution_count": 4,
     "metadata": {},
     "output_type": "execute_result"
    }
   ],
   "source": [
    "insurance.tail(5)"
   ]
  },
  {
   "cell_type": "markdown",
   "metadata": {},
   "source": [
    "- Датафрейм содержит 4 признака и 1 целевой признак (страховые выплаты клиенту за последние 5 лет)\n",
    "- Все признаки — количественные\n",
    "- Пропуски в данных отсутствуют"
   ]
  },
  {
   "cell_type": "markdown",
   "metadata": {},
   "source": [
    "Проверим данные на наличие дубликатов."
   ]
  },
  {
   "cell_type": "code",
   "execution_count": 5,
   "metadata": {},
   "outputs": [
    {
     "data": {
      "text/plain": [
       "153"
      ]
     },
     "execution_count": 5,
     "metadata": {},
     "output_type": "execute_result"
    }
   ],
   "source": [
    "insurance.duplicated().sum()"
   ]
  },
  {
   "cell_type": "markdown",
   "metadata": {},
   "source": [
    "Количество дубликатов - 3% от общего числа. Для данного случая не слишком критично, особенно если учесть, что признаков не так много и их вариативность достаточно низкая."
   ]
  },
  {
   "cell_type": "markdown",
   "metadata": {},
   "source": [
    "В столбцах \"возраст\" и \"зарплата\" изменим тип данных на целочисленный."
   ]
  },
  {
   "cell_type": "code",
   "execution_count": 6,
   "metadata": {},
   "outputs": [],
   "source": [
    "insurance = insurance.astype({'Возраст': np.int})\n",
    "insurance = insurance.astype({'Зарплата': np.int})"
   ]
  },
  {
   "cell_type": "code",
   "execution_count": 7,
   "metadata": {},
   "outputs": [
    {
     "data": {
      "text/html": [
       "<div>\n",
       "<style scoped>\n",
       "    .dataframe tbody tr th:only-of-type {\n",
       "        vertical-align: middle;\n",
       "    }\n",
       "\n",
       "    .dataframe tbody tr th {\n",
       "        vertical-align: top;\n",
       "    }\n",
       "\n",
       "    .dataframe thead th {\n",
       "        text-align: right;\n",
       "    }\n",
       "</style>\n",
       "<table border=\"1\" class=\"dataframe\">\n",
       "  <thead>\n",
       "    <tr style=\"text-align: right;\">\n",
       "      <th></th>\n",
       "      <th>Пол</th>\n",
       "      <th>Возраст</th>\n",
       "      <th>Зарплата</th>\n",
       "      <th>Члены семьи</th>\n",
       "      <th>Страховые выплаты</th>\n",
       "    </tr>\n",
       "  </thead>\n",
       "  <tbody>\n",
       "    <tr>\n",
       "      <td>0</td>\n",
       "      <td>1</td>\n",
       "      <td>41</td>\n",
       "      <td>49600</td>\n",
       "      <td>1</td>\n",
       "      <td>0</td>\n",
       "    </tr>\n",
       "    <tr>\n",
       "      <td>1</td>\n",
       "      <td>0</td>\n",
       "      <td>46</td>\n",
       "      <td>38000</td>\n",
       "      <td>1</td>\n",
       "      <td>1</td>\n",
       "    </tr>\n",
       "    <tr>\n",
       "      <td>2</td>\n",
       "      <td>0</td>\n",
       "      <td>29</td>\n",
       "      <td>21000</td>\n",
       "      <td>0</td>\n",
       "      <td>0</td>\n",
       "    </tr>\n",
       "    <tr>\n",
       "      <td>3</td>\n",
       "      <td>0</td>\n",
       "      <td>21</td>\n",
       "      <td>41700</td>\n",
       "      <td>2</td>\n",
       "      <td>0</td>\n",
       "    </tr>\n",
       "    <tr>\n",
       "      <td>4</td>\n",
       "      <td>1</td>\n",
       "      <td>28</td>\n",
       "      <td>26100</td>\n",
       "      <td>0</td>\n",
       "      <td>0</td>\n",
       "    </tr>\n",
       "  </tbody>\n",
       "</table>\n",
       "</div>"
      ],
      "text/plain": [
       "   Пол  Возраст  Зарплата  Члены семьи  Страховые выплаты\n",
       "0    1       41     49600            1                  0\n",
       "1    0       46     38000            1                  1\n",
       "2    0       29     21000            0                  0\n",
       "3    0       21     41700            2                  0\n",
       "4    1       28     26100            0                  0"
      ]
     },
     "execution_count": 7,
     "metadata": {},
     "output_type": "execute_result"
    }
   ],
   "source": [
    "insurance.head(5)"
   ]
  },
  {
   "cell_type": "markdown",
   "metadata": {},
   "source": [
    "В данных нет аномалий, приведение типов улучшило датасет. "
   ]
  },
  {
   "cell_type": "markdown",
   "metadata": {},
   "source": [
    "## Умножение матриц"
   ]
  },
  {
   "cell_type": "markdown",
   "metadata": {},
   "source": [
    "Обозначения:\n",
    "\n",
    "- $X$ — матрица признаков (нулевой столбец состоит из единиц)\n",
    "\n",
    "- $y$ — вектор целевого признака\n",
    "\n",
    "- $P$ — матрица, на которую умножаются признаки\n",
    "\n",
    "- $w$ — вектор весов линейной регрессии (нулевой элемент равен сдвигу)"
   ]
  },
  {
   "cell_type": "markdown",
   "metadata": {},
   "source": [
    "Предсказания:\n",
    "\n",
    "$$\n",
    "a = Xw\n",
    "$$\n",
    "\n",
    "Задача обучения:\n",
    "\n",
    "$$\n",
    "w = \\arg\\min_w MSE(Xw, y)\n",
    "$$\n",
    "\n",
    "Формула обучения:\n",
    "\n",
    "$$\n",
    "w = (X^T X)^{-1} X^T y\n",
    "$$"
   ]
  },
  {
   "cell_type": "markdown",
   "metadata": {},
   "source": [
    "При помощи формул докажем, что значение предсказания $a$ не изменится. Основная сложность заключается в том, что $X$ - прямоугольная матрица. Для того, чтобы она стала обратимой (и квадратной), мы и вводим умножение на транспонированную. Важно отметить, что перемножать мы можем только совместимые матрицы. \n",
    "\n",
    "Заменим матрицу $X$ на матрицу $M$: $ M = XP $, где $P$ - обратимая матрица\n",
    "\n",
    "Найдем новый вектор весов:\n",
    "$$ \n",
    "w_1 = ((XP)^T (XP))^{-1} (XP)^T y \n",
    "$$ \n",
    "Воспользуемся свойством: $ (AB)^T = B^TA^T $ \n",
    "$$ \n",
    "w_1 = (P^TX^TXP)^{-1}P^TX^T y \n",
    "$$ \n",
    "$P$ - обратимая матрица, а значит, она квадратная, $X^TX$ - тоже квадратная матрица, используемое свойство: $ (AB)^{-1} = B^{-1} A^{-1} $ \n",
    "$$ \n",
    "w_1 = P^{-1}(X^TX)^{-1}(P^T)^{-1}P^TX^T y \n",
    "$$ \n",
    "$$ \n",
    "w_1 = P^{-1}w\n",
    "$$\n",
    "Таким образом, новое предсказание: \n",
    "$$ \n",
    "a_1 = Mw_1 \n",
    "$$\n",
    "$$ \n",
    "a_1 = XPP^{-1}w\n",
    "$$\n",
    "$$\n",
    "a_1 = XEw\n",
    "$$\n",
    "$$\n",
    "a_1 = Xw = a\n",
    "$$\n",
    "Итак, предсказание $a$ **не меняется** при умножении признаков на обратимую матрицу.\n",
    "\n"
   ]
  },
  {
   "cell_type": "markdown",
   "metadata": {},
   "source": [
    "**Признаки умножают на обратимую матрицу. Изменится ли качество линейной регрессии?**\n",
    "\n",
    "**Ответ:** Умножение признаков на обратимую матрицу не меняет качество линейной регрессии.\n",
    "\n",
    "**Обоснование:** Веса изменились под новые значения. Признаки исходной и преобразованной  матрицы выражаются через коэффициенты-веса, поэтому качество линейной регресии не изменилось."
   ]
  },
  {
   "cell_type": "markdown",
   "metadata": {},
   "source": [
    "## Алгоритм преобразования"
   ]
  },
  {
   "cell_type": "markdown",
   "metadata": {},
   "source": [
    "**Алгоритм**\n",
    "\n",
    "- Создание случайной обратимой матрицы $ P $, размером по количеству столбцов features.\n",
    "\n",
    "- Проверка матрицы на обратимость.\n",
    "\n",
    "- Нам надо закодировать данные, матрица $ P $ будет ключем. Перемножим матрицу признаков на ключ $ M = XP $, как результат - матрица с закодированными данными.  \n",
    "\n",
    "- Применение алгоритма для преобразованных признаков.\n",
    "\n",
    "- Определение метрики R2 на изначальных и преобразованных данных."
   ]
  },
  {
   "cell_type": "markdown",
   "metadata": {},
   "source": [
    "**Обоснование**\n",
    "\n",
    "Такой алгоритм поможет защитить данные: матрица-ключ формируется случайно, при этом кодирование не влияет на работу модели. Качество линейной регрессии не меняется, т.к. оба множителя в произведении выражают исходные, но через определенные коэффициенты."
   ]
  },
  {
   "cell_type": "markdown",
   "metadata": {},
   "source": [
    "Данные полностью восстановлены после кодирования. Алгоритм работает.\n",
    "\n",
    "$$ \n",
    "a = Xw \n",
    "$$\n",
    "$$ \n",
    "a_1 = XPP^{-1}w\n",
    "$$\n",
    "$$\n",
    "a_1 = XEw\n",
    "$$\n",
    "$$\n",
    "a_1 = Xw = a\n",
    "$$\n",
    "Итак, предсказание $a$ **не меняется**, - качество линейной регрессии не меняется."
   ]
  },
  {
   "cell_type": "markdown",
   "metadata": {},
   "source": [
    "## Проверка алгоритма"
   ]
  },
  {
   "cell_type": "markdown",
   "metadata": {},
   "source": [
    "### Подготовка данных"
   ]
  },
  {
   "cell_type": "code",
   "execution_count": 19,
   "metadata": {},
   "outputs": [
    {
     "name": "stdout",
     "output_type": "stream",
     "text": [
      "Признаки (5000, 4)\n",
      "Целевой признак (5000,)\n"
     ]
    }
   ],
   "source": [
    "# делим на признаки и целевой признак: features и target\n",
    "features = insurance.drop('Страховые выплаты', axis=1)\n",
    "target = insurance['Страховые выплаты']\n",
    "\n",
    "print('Признаки', features.shape)\n",
    "print('Целевой признак', target.shape)"
   ]
  },
  {
   "cell_type": "code",
   "execution_count": 20,
   "metadata": {},
   "outputs": [
    {
     "data": {
      "text/plain": [
       "array([[2, 5, 1, 4],\n",
       "       [9, 5, 2, 1],\n",
       "       [6, 1, 9, 7],\n",
       "       [6, 0, 2, 9]])"
      ]
     },
     "execution_count": 20,
     "metadata": {},
     "output_type": "execute_result"
    }
   ],
   "source": [
    "# теперь необходимо создать случайную матрицу\n",
    "np.random.seed(12345)\n",
    "random_matrix = np.random.randint(10,  size=(features.shape[1], features.shape[1]))\n",
    "random_matrix"
   ]
  },
  {
   "cell_type": "code",
   "execution_count": 21,
   "metadata": {},
   "outputs": [
    {
     "data": {
      "text/plain": [
       "array([[-0.11015193,  0.11533149, -0.02589779,  0.05628453],\n",
       "       [ 0.18542818,  0.01588398, -0.00656077, -0.07907459],\n",
       "       [-0.00517956, -0.02279006,  0.13984807, -0.10393646],\n",
       "       [ 0.07458564, -0.0718232 , -0.01381215,  0.09668508]])"
      ]
     },
     "execution_count": 21,
     "metadata": {},
     "output_type": "execute_result"
    }
   ],
   "source": [
    "# проверим на обратимость\n",
    "np.linalg.inv(random_matrix)"
   ]
  },
  {
   "cell_type": "code",
   "execution_count": 22,
   "metadata": {},
   "outputs": [
    {
     "data": {
      "text/plain": [
       "array([[ 1.00000000e+00, -5.55111512e-17,  6.93889390e-18,\n",
       "        -5.55111512e-17],\n",
       "       [ 1.38777878e-16,  1.00000000e+00,  1.90819582e-17,\n",
       "         2.77555756e-17],\n",
       "       [-1.38777878e-17, -1.66533454e-16,  1.00000000e+00,\n",
       "         4.16333634e-17],\n",
       "       [-9.71445147e-17, -5.55111512e-17,  5.20417043e-18,\n",
       "         1.00000000e+00]])"
      ]
     },
     "execution_count": 22,
     "metadata": {},
     "output_type": "execute_result"
    }
   ],
   "source": [
    "# перемножим исходную на обратную матрицы, должна получиться единичная матрица\n",
    "random_matrix @ np.linalg.inv(random_matrix)"
   ]
  },
  {
   "cell_type": "code",
   "execution_count": 23,
   "metadata": {},
   "outputs": [
    {
     "data": {
      "text/html": [
       "<div>\n",
       "<style scoped>\n",
       "    .dataframe tbody tr th:only-of-type {\n",
       "        vertical-align: middle;\n",
       "    }\n",
       "\n",
       "    .dataframe tbody tr th {\n",
       "        vertical-align: top;\n",
       "    }\n",
       "\n",
       "    .dataframe thead th {\n",
       "        text-align: right;\n",
       "    }\n",
       "</style>\n",
       "<table border=\"1\" class=\"dataframe\">\n",
       "  <thead>\n",
       "    <tr style=\"text-align: right;\">\n",
       "      <th></th>\n",
       "      <th>0</th>\n",
       "      <th>1</th>\n",
       "      <th>2</th>\n",
       "      <th>3</th>\n",
       "    </tr>\n",
       "  </thead>\n",
       "  <tbody>\n",
       "    <tr>\n",
       "      <td>0</td>\n",
       "      <td>297977</td>\n",
       "      <td>49810</td>\n",
       "      <td>446485</td>\n",
       "      <td>347254</td>\n",
       "    </tr>\n",
       "    <tr>\n",
       "      <td>1</td>\n",
       "      <td>228420</td>\n",
       "      <td>38230</td>\n",
       "      <td>342094</td>\n",
       "      <td>266055</td>\n",
       "    </tr>\n",
       "    <tr>\n",
       "      <td>2</td>\n",
       "      <td>126261</td>\n",
       "      <td>21145</td>\n",
       "      <td>189058</td>\n",
       "      <td>147029</td>\n",
       "    </tr>\n",
       "    <tr>\n",
       "      <td>3</td>\n",
       "      <td>250401</td>\n",
       "      <td>41805</td>\n",
       "      <td>375346</td>\n",
       "      <td>291939</td>\n",
       "    </tr>\n",
       "    <tr>\n",
       "      <td>4</td>\n",
       "      <td>156854</td>\n",
       "      <td>26245</td>\n",
       "      <td>234957</td>\n",
       "      <td>182732</td>\n",
       "    </tr>\n",
       "    <tr>\n",
       "      <td>...</td>\n",
       "      <td>...</td>\n",
       "      <td>...</td>\n",
       "      <td>...</td>\n",
       "      <td>...</td>\n",
       "    </tr>\n",
       "    <tr>\n",
       "      <td>4995</td>\n",
       "      <td>214464</td>\n",
       "      <td>35840</td>\n",
       "      <td>321360</td>\n",
       "      <td>249946</td>\n",
       "    </tr>\n",
       "    <tr>\n",
       "      <td>4996</td>\n",
       "      <td>314712</td>\n",
       "      <td>52570</td>\n",
       "      <td>471670</td>\n",
       "      <td>366843</td>\n",
       "    </tr>\n",
       "    <tr>\n",
       "      <td>4997</td>\n",
       "      <td>203592</td>\n",
       "      <td>34000</td>\n",
       "      <td>305144</td>\n",
       "      <td>237338</td>\n",
       "    </tr>\n",
       "    <tr>\n",
       "      <td>4998</td>\n",
       "      <td>196418</td>\n",
       "      <td>32815</td>\n",
       "      <td>294351</td>\n",
       "      <td>228953</td>\n",
       "    </tr>\n",
       "    <tr>\n",
       "      <td>4999</td>\n",
       "      <td>243860</td>\n",
       "      <td>40745</td>\n",
       "      <td>365459</td>\n",
       "      <td>284241</td>\n",
       "    </tr>\n",
       "  </tbody>\n",
       "</table>\n",
       "<p>5000 rows × 4 columns</p>\n",
       "</div>"
      ],
      "text/plain": [
       "           0      1       2       3\n",
       "0     297977  49810  446485  347254\n",
       "1     228420  38230  342094  266055\n",
       "2     126261  21145  189058  147029\n",
       "3     250401  41805  375346  291939\n",
       "4     156854  26245  234957  182732\n",
       "...      ...    ...     ...     ...\n",
       "4995  214464  35840  321360  249946\n",
       "4996  314712  52570  471670  366843\n",
       "4997  203592  34000  305144  237338\n",
       "4998  196418  32815  294351  228953\n",
       "4999  243860  40745  365459  284241\n",
       "\n",
       "[5000 rows x 4 columns]"
      ]
     },
     "execution_count": 23,
     "metadata": {},
     "output_type": "execute_result"
    }
   ],
   "source": [
    "# теперь умножим датафрейм на рандомную матрицу\n",
    "encoded_matrix = features @ random_matrix\n",
    "encoded_matrix"
   ]
  },
  {
   "cell_type": "markdown",
   "metadata": {},
   "source": [
    "### Класс линейной регрессии"
   ]
  },
  {
   "cell_type": "code",
   "execution_count": 24,
   "metadata": {},
   "outputs": [],
   "source": [
    "# воспользуемся классом с двумя методами из тренажера\n",
    "class LRegression:\n",
    "    def fit(self, train_features, train_target):\n",
    "        X = np.concatenate((np.ones((train_features.shape[0], 1)), train_features), axis=1)\n",
    "        y = train_target\n",
    "        w = np.dot(np.dot(np.linalg.inv(np.dot(X.T, X)), X.T), y)\n",
    "\n",
    "        self.w = w[1:]\n",
    "        self.w0 = w[0]\n",
    "        print(w)\n",
    "\n",
    "    def predict(self, test_features):\n",
    "        return test_features.dot(self.w) + self.w0"
   ]
  },
  {
   "cell_type": "code",
   "execution_count": 25,
   "metadata": {},
   "outputs": [
    {
     "name": "stdout",
     "output_type": "stream",
     "text": [
      "[-9.38235447e-01  7.92580563e-03  3.57083050e-02 -1.70081903e-07\n",
      " -1.35676627e-02]\n"
     ]
    },
    {
     "data": {
      "text/plain": [
       "0.42494550308169177"
      ]
     },
     "execution_count": 25,
     "metadata": {},
     "output_type": "execute_result"
    }
   ],
   "source": [
    "# создадим и обучим модель, найдем предсказания на обучающей выборке, найдем R2\n",
    "model = LRegression()\n",
    "model.fit(features, target)\n",
    "predictions = model.predict(features)\n",
    "r2_score(target, predictions)"
   ]
  },
  {
   "cell_type": "code",
   "execution_count": 26,
   "metadata": {},
   "outputs": [
    {
     "name": "stdout",
     "output_type": "stream",
     "text": [
      "[-9.38235404e-01  2.48160299e-03  3.10971798e-03  5.55304671e-04\n",
      " -3.28532114e-03]\n"
     ]
    },
    {
     "data": {
      "text/plain": [
       "0.424945503081687"
      ]
     },
     "execution_count": 26,
     "metadata": {},
     "output_type": "execute_result"
    }
   ],
   "source": [
    "# снова обучим модель, но уже на новых признаках\n",
    "# сравним R2 и проверм, действительно ли все работает\n",
    "model = LRegression()\n",
    "model.fit(encoded_matrix, target)\n",
    "predictions = model.predict(encoded_matrix)\n",
    "r2_score(target, predictions)"
   ]
  },
  {
   "cell_type": "markdown",
   "metadata": {},
   "source": [
    "### Алгоритм шифрования - дешифрования"
   ]
  },
  {
   "cell_type": "code",
   "execution_count": 27,
   "metadata": {},
   "outputs": [
    {
     "data": {
      "text/html": [
       "<div>\n",
       "<style scoped>\n",
       "    .dataframe tbody tr th:only-of-type {\n",
       "        vertical-align: middle;\n",
       "    }\n",
       "\n",
       "    .dataframe tbody tr th {\n",
       "        vertical-align: top;\n",
       "    }\n",
       "\n",
       "    .dataframe thead th {\n",
       "        text-align: right;\n",
       "    }\n",
       "</style>\n",
       "<table border=\"1\" class=\"dataframe\">\n",
       "  <thead>\n",
       "    <tr style=\"text-align: right;\">\n",
       "      <th></th>\n",
       "      <th>0</th>\n",
       "      <th>1</th>\n",
       "      <th>2</th>\n",
       "      <th>3</th>\n",
       "    </tr>\n",
       "  </thead>\n",
       "  <tbody>\n",
       "    <tr>\n",
       "      <td>0</td>\n",
       "      <td>-37527.345989</td>\n",
       "      <td>19366.812651</td>\n",
       "      <td>-25023.673029</td>\n",
       "      <td>45844.795455</td>\n",
       "    </tr>\n",
       "    <tr>\n",
       "      <td>1</td>\n",
       "      <td>-28734.041473</td>\n",
       "      <td>14841.061990</td>\n",
       "      <td>-19174.460758</td>\n",
       "      <td>35131.581691</td>\n",
       "    </tr>\n",
       "    <tr>\n",
       "      <td>2</td>\n",
       "      <td>-15875.371402</td>\n",
       "      <td>8201.517528</td>\n",
       "      <td>-10597.757394</td>\n",
       "      <td>19417.299966</td>\n",
       "    </tr>\n",
       "    <tr>\n",
       "      <td>3</td>\n",
       "      <td>-31566.761986</td>\n",
       "      <td>16281.591384</td>\n",
       "      <td>-21034.719901</td>\n",
       "      <td>38533.883200</td>\n",
       "    </tr>\n",
       "    <tr>\n",
       "      <td>4</td>\n",
       "      <td>-19739.248360</td>\n",
       "      <td>10191.295165</td>\n",
       "      <td>-13169.199342</td>\n",
       "      <td>24128.279919</td>\n",
       "    </tr>\n",
       "    <tr>\n",
       "      <td>...</td>\n",
       "      <td>...</td>\n",
       "      <td>...</td>\n",
       "      <td>...</td>\n",
       "      <td>...</td>\n",
       "    </tr>\n",
       "    <tr>\n",
       "      <td>4995</td>\n",
       "      <td>-27012.539012</td>\n",
       "      <td>13941.353904</td>\n",
       "      <td>-18009.719938</td>\n",
       "      <td>32995.369057</td>\n",
       "    </tr>\n",
       "    <tr>\n",
       "      <td>4996</td>\n",
       "      <td>-39658.397860</td>\n",
       "      <td>20458.590719</td>\n",
       "      <td>-26435.380971</td>\n",
       "      <td>48426.931565</td>\n",
       "    </tr>\n",
       "    <tr>\n",
       "      <td>4997</td>\n",
       "      <td>-25658.431577</td>\n",
       "      <td>13237.265237</td>\n",
       "      <td>-17100.283482</td>\n",
       "      <td>31327.679212</td>\n",
       "    </tr>\n",
       "    <tr>\n",
       "      <td>4998</td>\n",
       "      <td>-24744.993615</td>\n",
       "      <td>12770.438966</td>\n",
       "      <td>-16493.449547</td>\n",
       "      <td>30220.026029</td>\n",
       "    </tr>\n",
       "    <tr>\n",
       "      <td>4999</td>\n",
       "      <td>-30724.303335</td>\n",
       "      <td>15851.762428</td>\n",
       "      <td>-20481.667444</td>\n",
       "      <td>37522.748335</td>\n",
       "    </tr>\n",
       "  </tbody>\n",
       "</table>\n",
       "<p>5000 rows × 4 columns</p>\n",
       "</div>"
      ],
      "text/plain": [
       "                 0             1             2             3\n",
       "0    -37527.345989  19366.812651 -25023.673029  45844.795455\n",
       "1    -28734.041473  14841.061990 -19174.460758  35131.581691\n",
       "2    -15875.371402   8201.517528 -10597.757394  19417.299966\n",
       "3    -31566.761986  16281.591384 -21034.719901  38533.883200\n",
       "4    -19739.248360  10191.295165 -13169.199342  24128.279919\n",
       "...            ...           ...           ...           ...\n",
       "4995 -27012.539012  13941.353904 -18009.719938  32995.369057\n",
       "4996 -39658.397860  20458.590719 -26435.380971  48426.931565\n",
       "4997 -25658.431577  13237.265237 -17100.283482  31327.679212\n",
       "4998 -24744.993615  12770.438966 -16493.449547  30220.026029\n",
       "4999 -30724.303335  15851.762428 -20481.667444  37522.748335\n",
       "\n",
       "[5000 rows x 4 columns]"
      ]
     },
     "execution_count": 27,
     "metadata": {},
     "output_type": "execute_result"
    }
   ],
   "source": [
    "# напишем алгоритм, который будет зашифровывать исходную матрицу\n",
    "def encode(features):\n",
    "    random_matrix = np.random.normal(0, 1, (features.shape[1], features.shape[1]))\n",
    "    encoded_matrix = features @ random_matrix\n",
    "    return encoded_matrix\n",
    "\n",
    "\n",
    "encode(features)"
   ]
  },
  {
   "cell_type": "code",
   "execution_count": 28,
   "metadata": {},
   "outputs": [
    {
     "data": {
      "text/html": [
       "<div>\n",
       "<style scoped>\n",
       "    .dataframe tbody tr th:only-of-type {\n",
       "        vertical-align: middle;\n",
       "    }\n",
       "\n",
       "    .dataframe tbody tr th {\n",
       "        vertical-align: top;\n",
       "    }\n",
       "\n",
       "    .dataframe thead th {\n",
       "        text-align: right;\n",
       "    }\n",
       "</style>\n",
       "<table border=\"1\" class=\"dataframe\">\n",
       "  <thead>\n",
       "    <tr style=\"text-align: right;\">\n",
       "      <th></th>\n",
       "      <th>Пол</th>\n",
       "      <th>Возраст</th>\n",
       "      <th>Зарплата</th>\n",
       "      <th>Члены семьи</th>\n",
       "    </tr>\n",
       "  </thead>\n",
       "  <tbody>\n",
       "    <tr>\n",
       "      <td>0</td>\n",
       "      <td>1</td>\n",
       "      <td>41.0</td>\n",
       "      <td>49600.0</td>\n",
       "      <td>1</td>\n",
       "    </tr>\n",
       "    <tr>\n",
       "      <td>1</td>\n",
       "      <td>0</td>\n",
       "      <td>46.0</td>\n",
       "      <td>38000.0</td>\n",
       "      <td>1</td>\n",
       "    </tr>\n",
       "    <tr>\n",
       "      <td>2</td>\n",
       "      <td>0</td>\n",
       "      <td>29.0</td>\n",
       "      <td>21000.0</td>\n",
       "      <td>0</td>\n",
       "    </tr>\n",
       "    <tr>\n",
       "      <td>3</td>\n",
       "      <td>0</td>\n",
       "      <td>21.0</td>\n",
       "      <td>41700.0</td>\n",
       "      <td>2</td>\n",
       "    </tr>\n",
       "    <tr>\n",
       "      <td>4</td>\n",
       "      <td>1</td>\n",
       "      <td>28.0</td>\n",
       "      <td>26100.0</td>\n",
       "      <td>0</td>\n",
       "    </tr>\n",
       "    <tr>\n",
       "      <td>...</td>\n",
       "      <td>...</td>\n",
       "      <td>...</td>\n",
       "      <td>...</td>\n",
       "      <td>...</td>\n",
       "    </tr>\n",
       "    <tr>\n",
       "      <td>4995</td>\n",
       "      <td>0</td>\n",
       "      <td>28.0</td>\n",
       "      <td>35700.0</td>\n",
       "      <td>2</td>\n",
       "    </tr>\n",
       "    <tr>\n",
       "      <td>4996</td>\n",
       "      <td>0</td>\n",
       "      <td>34.0</td>\n",
       "      <td>52400.0</td>\n",
       "      <td>1</td>\n",
       "    </tr>\n",
       "    <tr>\n",
       "      <td>4997</td>\n",
       "      <td>0</td>\n",
       "      <td>20.0</td>\n",
       "      <td>33900.0</td>\n",
       "      <td>2</td>\n",
       "    </tr>\n",
       "    <tr>\n",
       "      <td>4998</td>\n",
       "      <td>1</td>\n",
       "      <td>22.0</td>\n",
       "      <td>32700.0</td>\n",
       "      <td>3</td>\n",
       "    </tr>\n",
       "    <tr>\n",
       "      <td>4999</td>\n",
       "      <td>1</td>\n",
       "      <td>28.0</td>\n",
       "      <td>40600.0</td>\n",
       "      <td>1</td>\n",
       "    </tr>\n",
       "  </tbody>\n",
       "</table>\n",
       "<p>5000 rows × 4 columns</p>\n",
       "</div>"
      ],
      "text/plain": [
       "      Пол  Возраст  Зарплата  Члены семьи\n",
       "0       1     41.0   49600.0            1\n",
       "1       0     46.0   38000.0            1\n",
       "2       0     29.0   21000.0            0\n",
       "3       0     21.0   41700.0            2\n",
       "4       1     28.0   26100.0            0\n",
       "...   ...      ...       ...          ...\n",
       "4995    0     28.0   35700.0            2\n",
       "4996    0     34.0   52400.0            1\n",
       "4997    0     20.0   33900.0            2\n",
       "4998    1     22.0   32700.0            3\n",
       "4999    1     28.0   40600.0            1\n",
       "\n",
       "[5000 rows x 4 columns]"
      ]
     },
     "execution_count": 28,
     "metadata": {},
     "output_type": "execute_result"
    }
   ],
   "source": [
    "# напишем функцию для дешифрования\n",
    "def decode(encoded_matrix):\n",
    "    decoded_features = round(abs(encoded_matrix.dot(np.linalg.inv(random_matrix))))\n",
    "    for i in decoded_features.iloc[:, [0, 3]]:\n",
    "        decoded_features[i] = decoded_features[i].astype(int)\n",
    "    decoded_features.columns = features.columns\n",
    "    return decoded_features\n",
    "\n",
    "decode(encoded_matrix)"
   ]
  },
  {
   "cell_type": "code",
   "execution_count": 29,
   "metadata": {},
   "outputs": [
    {
     "data": {
      "text/html": [
       "<div>\n",
       "<style scoped>\n",
       "    .dataframe tbody tr th:only-of-type {\n",
       "        vertical-align: middle;\n",
       "    }\n",
       "\n",
       "    .dataframe tbody tr th {\n",
       "        vertical-align: top;\n",
       "    }\n",
       "\n",
       "    .dataframe thead th {\n",
       "        text-align: right;\n",
       "    }\n",
       "</style>\n",
       "<table border=\"1\" class=\"dataframe\">\n",
       "  <thead>\n",
       "    <tr style=\"text-align: right;\">\n",
       "      <th></th>\n",
       "      <th>Пол</th>\n",
       "      <th>Возраст</th>\n",
       "      <th>Зарплата</th>\n",
       "      <th>Члены семьи</th>\n",
       "    </tr>\n",
       "  </thead>\n",
       "  <tbody>\n",
       "    <tr>\n",
       "      <td>0</td>\n",
       "      <td>1</td>\n",
       "      <td>41</td>\n",
       "      <td>49600</td>\n",
       "      <td>1</td>\n",
       "    </tr>\n",
       "    <tr>\n",
       "      <td>1</td>\n",
       "      <td>0</td>\n",
       "      <td>46</td>\n",
       "      <td>38000</td>\n",
       "      <td>1</td>\n",
       "    </tr>\n",
       "    <tr>\n",
       "      <td>2</td>\n",
       "      <td>0</td>\n",
       "      <td>29</td>\n",
       "      <td>21000</td>\n",
       "      <td>0</td>\n",
       "    </tr>\n",
       "    <tr>\n",
       "      <td>3</td>\n",
       "      <td>0</td>\n",
       "      <td>21</td>\n",
       "      <td>41700</td>\n",
       "      <td>2</td>\n",
       "    </tr>\n",
       "    <tr>\n",
       "      <td>4</td>\n",
       "      <td>1</td>\n",
       "      <td>28</td>\n",
       "      <td>26100</td>\n",
       "      <td>0</td>\n",
       "    </tr>\n",
       "    <tr>\n",
       "      <td>...</td>\n",
       "      <td>...</td>\n",
       "      <td>...</td>\n",
       "      <td>...</td>\n",
       "      <td>...</td>\n",
       "    </tr>\n",
       "    <tr>\n",
       "      <td>4995</td>\n",
       "      <td>0</td>\n",
       "      <td>28</td>\n",
       "      <td>35700</td>\n",
       "      <td>2</td>\n",
       "    </tr>\n",
       "    <tr>\n",
       "      <td>4996</td>\n",
       "      <td>0</td>\n",
       "      <td>34</td>\n",
       "      <td>52400</td>\n",
       "      <td>1</td>\n",
       "    </tr>\n",
       "    <tr>\n",
       "      <td>4997</td>\n",
       "      <td>0</td>\n",
       "      <td>20</td>\n",
       "      <td>33900</td>\n",
       "      <td>2</td>\n",
       "    </tr>\n",
       "    <tr>\n",
       "      <td>4998</td>\n",
       "      <td>1</td>\n",
       "      <td>22</td>\n",
       "      <td>32700</td>\n",
       "      <td>3</td>\n",
       "    </tr>\n",
       "    <tr>\n",
       "      <td>4999</td>\n",
       "      <td>1</td>\n",
       "      <td>28</td>\n",
       "      <td>40600</td>\n",
       "      <td>1</td>\n",
       "    </tr>\n",
       "  </tbody>\n",
       "</table>\n",
       "<p>5000 rows × 4 columns</p>\n",
       "</div>"
      ],
      "text/plain": [
       "      Пол  Возраст  Зарплата  Члены семьи\n",
       "0       1       41     49600            1\n",
       "1       0       46     38000            1\n",
       "2       0       29     21000            0\n",
       "3       0       21     41700            2\n",
       "4       1       28     26100            0\n",
       "...   ...      ...       ...          ...\n",
       "4995    0       28     35700            2\n",
       "4996    0       34     52400            1\n",
       "4997    0       20     33900            2\n",
       "4998    1       22     32700            3\n",
       "4999    1       28     40600            1\n",
       "\n",
       "[5000 rows x 4 columns]"
      ]
     },
     "execution_count": 29,
     "metadata": {},
     "output_type": "execute_result"
    }
   ],
   "source": [
    "features"
   ]
  },
  {
   "cell_type": "markdown",
   "metadata": {},
   "source": [
    "### Сравнение с линейной регрессий из sklearn"
   ]
  },
  {
   "cell_type": "markdown",
   "metadata": {},
   "source": [
    "Теперь воспользуемся линейной регрессий из sklearn. Для оценки используем метрику R2."
   ]
  },
  {
   "cell_type": "code",
   "execution_count": 30,
   "metadata": {},
   "outputs": [
    {
     "name": "stdout",
     "output_type": "stream",
     "text": [
      "Метрика R2 до преобразования данных: 0.42494550308169177\n"
     ]
    }
   ],
   "source": [
    "# обучим модель из sklearn на исходной матрице features\n",
    "sklearn_model = LinearRegression().fit(features, target)\n",
    "pred = sklearn_model.predict(features)\n",
    "print('Метрика R2 до преобразования данных:', r2_score(target, pred))"
   ]
  },
  {
   "cell_type": "code",
   "execution_count": 31,
   "metadata": {},
   "outputs": [
    {
     "name": "stdout",
     "output_type": "stream",
     "text": [
      "Метрика R2 после преобразования данных: 0.42494550308169654\n"
     ]
    }
   ],
   "source": [
    "# обучим модель из sklearn на кодированной матрице encoded_matrix\n",
    "sklearn_model.fit(encoded_matrix, target)\n",
    "pred = sklearn_model.predict(encoded_matrix)\n",
    "print('Метрика R2 после преобразования данных:', r2_score(target, pred))"
   ]
  },
  {
   "cell_type": "markdown",
   "metadata": {},
   "source": [
    "Качество метрики R2 для матрицы до преобразования и матрицы после проебразования почти равны. При этом, они совпадают со значением метрики R2 для написанного класса линейной регресии, что подтверждает правильность его написания."
   ]
  },
  {
   "cell_type": "markdown",
   "metadata": {},
   "source": [
    "## Вывод"
   ]
  },
  {
   "cell_type": "markdown",
   "metadata": {},
   "source": [
    "- При умножении признаков на обратимую матрицу, качество линейной регрессии не меняется. Это объясняется изменением весов под новые значения. \n",
    "\n",
    "- Алгоритм, предложенный для шифрования данных, справляется со своей задачей.\n",
    "\n",
    "- Создан алгоритм для дешифрования данных.\n",
    "\n",
    "- Зашифрованные даные можно использовать длая предсказаний.\n",
    "\n",
    "- Реализованный алгоритм удовлетворяет задаче защиты персональных данных."
   ]
  }
 ],
 "metadata": {
  "ExecuteTimeLog": [
   {
    "duration": 1428,
    "start_time": "2021-07-21T15:06:56.359Z"
   },
   {
    "duration": 24,
    "start_time": "2021-07-21T15:08:06.683Z"
   },
   {
    "duration": 23,
    "start_time": "2021-07-21T15:08:31.202Z"
   },
   {
    "duration": 12,
    "start_time": "2021-07-21T15:30:53.053Z"
   },
   {
    "duration": 10,
    "start_time": "2021-07-21T15:31:16.541Z"
   },
   {
    "duration": 395,
    "start_time": "2021-07-22T17:52:56.183Z"
   },
   {
    "duration": 1002,
    "start_time": "2021-07-22T17:53:05.207Z"
   },
   {
    "duration": 19,
    "start_time": "2021-07-22T17:53:06.211Z"
   },
   {
    "duration": 14,
    "start_time": "2021-07-22T17:53:06.232Z"
   },
   {
    "duration": 9,
    "start_time": "2021-07-22T17:53:06.248Z"
   },
   {
    "duration": 15,
    "start_time": "2021-07-22T17:53:06.258Z"
   },
   {
    "duration": 23,
    "start_time": "2021-07-22T17:53:06.275Z"
   },
   {
    "duration": 6,
    "start_time": "2021-07-22T18:11:07.238Z"
   },
   {
    "duration": 21,
    "start_time": "2021-07-22T18:18:13.062Z"
   },
   {
    "duration": 946,
    "start_time": "2021-07-22T18:18:42.943Z"
   },
   {
    "duration": 20,
    "start_time": "2021-07-22T18:18:43.891Z"
   },
   {
    "duration": 35,
    "start_time": "2021-07-22T18:18:43.913Z"
   },
   {
    "duration": 8,
    "start_time": "2021-07-22T18:18:43.950Z"
   },
   {
    "duration": 8,
    "start_time": "2021-07-22T18:18:43.960Z"
   },
   {
    "duration": 23,
    "start_time": "2021-07-22T18:18:43.970Z"
   },
   {
    "duration": 7,
    "start_time": "2021-07-22T18:18:43.995Z"
   },
   {
    "duration": 7,
    "start_time": "2021-07-22T18:18:44.005Z"
   },
   {
    "duration": 1060,
    "start_time": "2021-07-22T18:25:49.753Z"
   },
   {
    "duration": 19,
    "start_time": "2021-07-22T18:25:50.815Z"
   },
   {
    "duration": 10,
    "start_time": "2021-07-22T18:25:50.836Z"
   },
   {
    "duration": 9,
    "start_time": "2021-07-22T18:25:50.847Z"
   },
   {
    "duration": 10,
    "start_time": "2021-07-22T18:25:50.858Z"
   },
   {
    "duration": 6,
    "start_time": "2021-07-22T18:25:50.869Z"
   },
   {
    "duration": 19,
    "start_time": "2021-07-22T18:25:50.876Z"
   },
   {
    "duration": 329,
    "start_time": "2021-07-22T18:26:34.533Z"
   },
   {
    "duration": 1161,
    "start_time": "2021-07-22T18:27:03.357Z"
   },
   {
    "duration": 20,
    "start_time": "2021-07-22T18:27:04.520Z"
   },
   {
    "duration": 10,
    "start_time": "2021-07-22T18:27:04.542Z"
   },
   {
    "duration": 8,
    "start_time": "2021-07-22T18:27:04.554Z"
   },
   {
    "duration": 8,
    "start_time": "2021-07-22T18:27:04.563Z"
   },
   {
    "duration": 18,
    "start_time": "2021-07-22T18:27:04.573Z"
   },
   {
    "duration": 7,
    "start_time": "2021-07-22T18:27:04.593Z"
   },
   {
    "duration": 646,
    "start_time": "2021-07-22T18:27:04.603Z"
   },
   {
    "duration": 357,
    "start_time": "2021-07-22T18:27:18.745Z"
   },
   {
    "duration": 5,
    "start_time": "2021-07-22T19:13:55.914Z"
   },
   {
    "duration": 5,
    "start_time": "2021-07-22T19:14:54.065Z"
   },
   {
    "duration": 228,
    "start_time": "2021-07-23T13:48:32.461Z"
   },
   {
    "duration": 1097,
    "start_time": "2021-07-23T13:48:41.344Z"
   },
   {
    "duration": 23,
    "start_time": "2021-07-23T13:48:42.442Z"
   },
   {
    "duration": 10,
    "start_time": "2021-07-23T13:48:42.467Z"
   },
   {
    "duration": 9,
    "start_time": "2021-07-23T13:48:42.479Z"
   },
   {
    "duration": 10,
    "start_time": "2021-07-23T13:48:42.489Z"
   },
   {
    "duration": 6,
    "start_time": "2021-07-23T13:48:42.500Z"
   },
   {
    "duration": 7,
    "start_time": "2021-07-23T13:48:42.507Z"
   },
   {
    "duration": 5,
    "start_time": "2021-07-23T13:48:42.516Z"
   },
   {
    "duration": 5,
    "start_time": "2021-07-23T13:53:25.636Z"
   },
   {
    "duration": 15,
    "start_time": "2021-07-23T14:01:21.907Z"
   },
   {
    "duration": 330,
    "start_time": "2021-07-23T14:12:25.067Z"
   },
   {
    "duration": 1127,
    "start_time": "2021-07-23T14:12:33.815Z"
   },
   {
    "duration": 21,
    "start_time": "2021-07-23T14:12:34.944Z"
   },
   {
    "duration": 11,
    "start_time": "2021-07-23T14:12:34.967Z"
   },
   {
    "duration": 9,
    "start_time": "2021-07-23T14:12:34.979Z"
   },
   {
    "duration": 7,
    "start_time": "2021-07-23T14:12:34.990Z"
   },
   {
    "duration": 6,
    "start_time": "2021-07-23T14:12:34.998Z"
   },
   {
    "duration": 7,
    "start_time": "2021-07-23T14:12:35.005Z"
   },
   {
    "duration": 6,
    "start_time": "2021-07-23T14:12:35.014Z"
   },
   {
    "duration": 6,
    "start_time": "2021-07-23T14:12:35.021Z"
   },
   {
    "duration": 155,
    "start_time": "2021-07-23T14:12:35.029Z"
   },
   {
    "duration": 5,
    "start_time": "2021-07-23T14:12:35.187Z"
   },
   {
    "duration": 6,
    "start_time": "2021-07-23T14:16:21.339Z"
   },
   {
    "duration": 6,
    "start_time": "2021-07-23T14:17:02.970Z"
   },
   {
    "duration": 275,
    "start_time": "2021-07-23T14:19:24.874Z"
   },
   {
    "duration": 11,
    "start_time": "2021-07-23T14:19:52.902Z"
   },
   {
    "duration": 177,
    "start_time": "2021-07-23T14:21:14.183Z"
   },
   {
    "duration": 198,
    "start_time": "2021-07-23T14:21:35.339Z"
   },
   {
    "duration": 68,
    "start_time": "2021-07-23T14:21:57.318Z"
   },
   {
    "duration": 4,
    "start_time": "2021-07-23T14:44:19.212Z"
   },
   {
    "duration": 12,
    "start_time": "2021-07-23T14:44:40.932Z"
   },
   {
    "duration": 11,
    "start_time": "2021-07-23T14:45:45.256Z"
   },
   {
    "duration": 19,
    "start_time": "2021-07-23T14:48:46.252Z"
   },
   {
    "duration": 9,
    "start_time": "2021-07-23T14:51:06.920Z"
   },
   {
    "duration": 1281,
    "start_time": "2021-07-23T14:57:32.593Z"
   },
   {
    "duration": 25,
    "start_time": "2021-07-23T14:57:33.876Z"
   },
   {
    "duration": 14,
    "start_time": "2021-07-23T14:57:33.903Z"
   },
   {
    "duration": 12,
    "start_time": "2021-07-23T14:57:33.920Z"
   },
   {
    "duration": 7,
    "start_time": "2021-07-23T14:57:33.935Z"
   },
   {
    "duration": 6,
    "start_time": "2021-07-23T14:57:33.944Z"
   },
   {
    "duration": 37,
    "start_time": "2021-07-23T14:57:33.953Z"
   },
   {
    "duration": 7,
    "start_time": "2021-07-23T14:57:33.993Z"
   },
   {
    "duration": 8,
    "start_time": "2021-07-23T14:57:34.004Z"
   },
   {
    "duration": 98,
    "start_time": "2021-07-23T14:57:34.014Z"
   },
   {
    "duration": 85,
    "start_time": "2021-07-23T14:57:34.114Z"
   },
   {
    "duration": 18,
    "start_time": "2021-07-23T14:57:34.202Z"
   },
   {
    "duration": 74,
    "start_time": "2021-07-23T14:57:34.222Z"
   },
   {
    "duration": 118,
    "start_time": "2021-07-23T14:57:34.300Z"
   },
   {
    "duration": 175,
    "start_time": "2021-07-23T14:57:34.420Z"
   },
   {
    "duration": 90,
    "start_time": "2021-07-23T14:57:34.597Z"
   },
   {
    "duration": 104,
    "start_time": "2021-07-23T14:57:34.689Z"
   },
   {
    "duration": 14,
    "start_time": "2021-07-23T14:57:34.802Z"
   },
   {
    "duration": 11,
    "start_time": "2021-07-23T15:10:55.530Z"
   },
   {
    "duration": 8,
    "start_time": "2021-07-23T15:12:47.590Z"
   },
   {
    "duration": 1143,
    "start_time": "2021-07-23T15:20:14.128Z"
   },
   {
    "duration": 22,
    "start_time": "2021-07-23T15:20:15.273Z"
   },
   {
    "duration": 10,
    "start_time": "2021-07-23T15:20:15.297Z"
   },
   {
    "duration": 7,
    "start_time": "2021-07-23T15:20:15.309Z"
   },
   {
    "duration": 8,
    "start_time": "2021-07-23T15:20:15.318Z"
   },
   {
    "duration": 7,
    "start_time": "2021-07-23T15:20:15.327Z"
   },
   {
    "duration": 6,
    "start_time": "2021-07-23T15:20:15.336Z"
   },
   {
    "duration": 7,
    "start_time": "2021-07-23T15:20:15.344Z"
   },
   {
    "duration": 35,
    "start_time": "2021-07-23T15:20:15.354Z"
   },
   {
    "duration": 95,
    "start_time": "2021-07-23T15:20:15.391Z"
   },
   {
    "duration": 98,
    "start_time": "2021-07-23T15:20:15.488Z"
   },
   {
    "duration": 4,
    "start_time": "2021-07-23T15:20:15.588Z"
   },
   {
    "duration": 6,
    "start_time": "2021-07-23T15:20:15.595Z"
   },
   {
    "duration": 96,
    "start_time": "2021-07-23T15:20:15.603Z"
   },
   {
    "duration": 92,
    "start_time": "2021-07-23T15:20:15.701Z"
   },
   {
    "duration": 102,
    "start_time": "2021-07-23T15:20:15.795Z"
   },
   {
    "duration": 97,
    "start_time": "2021-07-23T15:20:15.899Z"
   },
   {
    "duration": 91,
    "start_time": "2021-07-23T15:20:15.999Z"
   },
   {
    "duration": 12,
    "start_time": "2021-07-23T15:20:16.092Z"
   },
   {
    "duration": 180,
    "start_time": "2021-07-23T15:20:16.107Z"
   },
   {
    "duration": 1144,
    "start_time": "2021-07-23T15:21:13.404Z"
   },
   {
    "duration": 22,
    "start_time": "2021-07-23T15:21:14.550Z"
   },
   {
    "duration": 11,
    "start_time": "2021-07-23T15:21:14.574Z"
   },
   {
    "duration": 8,
    "start_time": "2021-07-23T15:21:14.587Z"
   },
   {
    "duration": 6,
    "start_time": "2021-07-23T15:21:14.597Z"
   },
   {
    "duration": 6,
    "start_time": "2021-07-23T15:21:14.604Z"
   },
   {
    "duration": 7,
    "start_time": "2021-07-23T15:21:14.612Z"
   },
   {
    "duration": 7,
    "start_time": "2021-07-23T15:21:14.621Z"
   },
   {
    "duration": 8,
    "start_time": "2021-07-23T15:21:14.629Z"
   },
   {
    "duration": 55,
    "start_time": "2021-07-23T15:21:14.638Z"
   },
   {
    "duration": 8,
    "start_time": "2021-07-23T15:21:14.786Z"
   },
   {
    "duration": 5,
    "start_time": "2021-07-23T15:21:14.886Z"
   },
   {
    "duration": 7,
    "start_time": "2021-07-23T15:21:14.893Z"
   },
   {
    "duration": 93,
    "start_time": "2021-07-23T15:21:14.902Z"
   },
   {
    "duration": 95,
    "start_time": "2021-07-23T15:21:14.997Z"
   },
   {
    "duration": 102,
    "start_time": "2021-07-23T15:21:15.095Z"
   },
   {
    "duration": 98,
    "start_time": "2021-07-23T15:21:15.199Z"
   },
   {
    "duration": 88,
    "start_time": "2021-07-23T15:21:15.300Z"
   },
   {
    "duration": 11,
    "start_time": "2021-07-23T15:21:15.390Z"
   },
   {
    "duration": 86,
    "start_time": "2021-07-23T15:21:15.404Z"
   },
   {
    "duration": 1101,
    "start_time": "2021-07-23T15:21:49.057Z"
   },
   {
    "duration": 21,
    "start_time": "2021-07-23T15:21:50.160Z"
   },
   {
    "duration": 11,
    "start_time": "2021-07-23T15:21:50.184Z"
   },
   {
    "duration": 7,
    "start_time": "2021-07-23T15:21:50.197Z"
   },
   {
    "duration": 6,
    "start_time": "2021-07-23T15:21:50.206Z"
   },
   {
    "duration": 7,
    "start_time": "2021-07-23T15:21:50.214Z"
   },
   {
    "duration": 7,
    "start_time": "2021-07-23T15:21:50.222Z"
   },
   {
    "duration": 6,
    "start_time": "2021-07-23T15:21:50.231Z"
   },
   {
    "duration": 6,
    "start_time": "2021-07-23T15:21:50.239Z"
   },
   {
    "duration": 12,
    "start_time": "2021-07-23T15:21:50.286Z"
   },
   {
    "duration": 99,
    "start_time": "2021-07-23T15:21:50.386Z"
   },
   {
    "duration": 5,
    "start_time": "2021-07-23T15:21:50.487Z"
   },
   {
    "duration": 8,
    "start_time": "2021-07-23T15:21:50.494Z"
   },
   {
    "duration": 89,
    "start_time": "2021-07-23T15:21:50.504Z"
   },
   {
    "duration": 95,
    "start_time": "2021-07-23T15:21:50.596Z"
   },
   {
    "duration": 102,
    "start_time": "2021-07-23T15:21:50.692Z"
   },
   {
    "duration": 91,
    "start_time": "2021-07-23T15:21:50.796Z"
   },
   {
    "duration": 9,
    "start_time": "2021-07-23T15:21:50.889Z"
   },
   {
    "duration": 93,
    "start_time": "2021-07-23T15:21:50.900Z"
   },
   {
    "duration": 93,
    "start_time": "2021-07-23T15:21:50.996Z"
   },
   {
    "duration": 2414,
    "start_time": "2021-07-23T21:46:41.242Z"
   },
   {
    "duration": 22,
    "start_time": "2021-07-23T21:46:43.657Z"
   },
   {
    "duration": 13,
    "start_time": "2021-07-23T21:46:43.682Z"
   },
   {
    "duration": 9,
    "start_time": "2021-07-23T21:46:43.696Z"
   },
   {
    "duration": 6,
    "start_time": "2021-07-23T21:46:43.706Z"
   },
   {
    "duration": 5,
    "start_time": "2021-07-23T21:46:43.714Z"
   },
   {
    "duration": 10,
    "start_time": "2021-07-23T21:46:43.721Z"
   },
   {
    "duration": 6,
    "start_time": "2021-07-23T21:46:43.732Z"
   },
   {
    "duration": 5,
    "start_time": "2021-07-23T21:46:43.740Z"
   },
   {
    "duration": 49,
    "start_time": "2021-07-23T21:46:43.746Z"
   },
   {
    "duration": 7,
    "start_time": "2021-07-23T21:46:43.885Z"
   },
   {
    "duration": 96,
    "start_time": "2021-07-23T21:46:43.895Z"
   },
   {
    "duration": 6,
    "start_time": "2021-07-23T21:46:43.993Z"
   },
   {
    "duration": 94,
    "start_time": "2021-07-23T21:46:44.002Z"
   },
   {
    "duration": 92,
    "start_time": "2021-07-23T21:46:44.098Z"
   },
   {
    "duration": 102,
    "start_time": "2021-07-23T21:46:44.193Z"
   },
   {
    "duration": 96,
    "start_time": "2021-07-23T21:46:44.296Z"
   },
   {
    "duration": 10,
    "start_time": "2021-07-23T21:46:44.394Z"
   },
   {
    "duration": 12,
    "start_time": "2021-07-23T21:46:44.486Z"
   },
   {
    "duration": 100,
    "start_time": "2021-07-23T21:46:44.500Z"
   },
   {
    "duration": 302,
    "start_time": "2021-07-24T06:22:01.331Z"
   },
   {
    "duration": 1422,
    "start_time": "2021-07-24T06:30:00.858Z"
   },
   {
    "duration": 25,
    "start_time": "2021-07-24T06:30:02.283Z"
   },
   {
    "duration": 32,
    "start_time": "2021-07-24T06:30:02.311Z"
   },
   {
    "duration": 30,
    "start_time": "2021-07-24T06:30:02.346Z"
   },
   {
    "duration": 33,
    "start_time": "2021-07-24T06:30:02.379Z"
   },
   {
    "duration": 22,
    "start_time": "2021-07-24T06:30:02.414Z"
   },
   {
    "duration": 15,
    "start_time": "2021-07-24T06:30:02.439Z"
   },
   {
    "duration": 27,
    "start_time": "2021-07-24T06:30:02.457Z"
   },
   {
    "duration": 19,
    "start_time": "2021-07-24T06:30:02.490Z"
   },
   {
    "duration": 10,
    "start_time": "2021-07-24T06:30:02.512Z"
   },
   {
    "duration": 15,
    "start_time": "2021-07-24T06:30:02.525Z"
   },
   {
    "duration": 22,
    "start_time": "2021-07-24T06:30:02.542Z"
   },
   {
    "duration": 18,
    "start_time": "2021-07-24T06:30:02.566Z"
   },
   {
    "duration": 10,
    "start_time": "2021-07-24T06:30:02.587Z"
   },
   {
    "duration": 25,
    "start_time": "2021-07-24T06:30:02.600Z"
   },
   {
    "duration": 18,
    "start_time": "2021-07-24T06:30:02.628Z"
   },
   {
    "duration": 30,
    "start_time": "2021-07-24T06:30:02.648Z"
   },
   {
    "duration": 29,
    "start_time": "2021-07-24T06:30:02.680Z"
   },
   {
    "duration": 43,
    "start_time": "2021-07-24T06:30:02.712Z"
   },
   {
    "duration": 31,
    "start_time": "2021-07-24T06:30:02.758Z"
   },
   {
    "duration": 47,
    "start_time": "2021-07-24T06:30:02.792Z"
   },
   {
    "duration": 40,
    "start_time": "2021-07-24T06:30:02.842Z"
   },
   {
    "duration": 171,
    "start_time": "2021-07-24T06:30:02.885Z"
   },
   {
    "duration": 433,
    "start_time": "2021-07-24T06:30:03.058Z"
   },
   {
    "duration": -945,
    "start_time": "2021-07-24T06:30:04.440Z"
   },
   {
    "duration": -947,
    "start_time": "2021-07-24T06:30:04.443Z"
   },
   {
    "duration": -949,
    "start_time": "2021-07-24T06:30:04.446Z"
   },
   {
    "duration": -949,
    "start_time": "2021-07-24T06:30:04.448Z"
   },
   {
    "duration": -949,
    "start_time": "2021-07-24T06:30:04.450Z"
   },
   {
    "duration": -951,
    "start_time": "2021-07-24T06:30:04.453Z"
   },
   {
    "duration": -951,
    "start_time": "2021-07-24T06:30:04.455Z"
   },
   {
    "duration": -952,
    "start_time": "2021-07-24T06:30:04.457Z"
   },
   {
    "duration": -952,
    "start_time": "2021-07-24T06:30:04.459Z"
   },
   {
    "duration": 7,
    "start_time": "2021-07-24T06:30:49.662Z"
   },
   {
    "duration": 7,
    "start_time": "2021-07-24T06:30:57.818Z"
   },
   {
    "duration": 6,
    "start_time": "2021-07-24T06:31:13.249Z"
   },
   {
    "duration": 6,
    "start_time": "2021-07-24T06:31:23.057Z"
   },
   {
    "duration": 6,
    "start_time": "2021-07-24T06:31:36.566Z"
   },
   {
    "duration": 7,
    "start_time": "2021-07-24T06:31:37.751Z"
   },
   {
    "duration": 7,
    "start_time": "2021-07-24T06:31:42.570Z"
   },
   {
    "duration": 17,
    "start_time": "2021-07-24T06:31:49.465Z"
   },
   {
    "duration": 37,
    "start_time": "2021-07-24T06:31:54.321Z"
   },
   {
    "duration": 25,
    "start_time": "2021-07-24T06:31:58.506Z"
   },
   {
    "duration": 36,
    "start_time": "2021-07-24T06:32:03.922Z"
   },
   {
    "duration": 17,
    "start_time": "2021-07-24T06:32:09.226Z"
   },
   {
    "duration": 13,
    "start_time": "2021-07-24T06:32:13.874Z"
   },
   {
    "duration": 13,
    "start_time": "2021-07-24T06:32:15.221Z"
   },
   {
    "duration": 1764,
    "start_time": "2021-07-24T06:41:44.604Z"
   },
   {
    "duration": 25,
    "start_time": "2021-07-24T06:41:46.371Z"
   },
   {
    "duration": 21,
    "start_time": "2021-07-24T06:41:46.399Z"
   },
   {
    "duration": 33,
    "start_time": "2021-07-24T06:41:46.423Z"
   },
   {
    "duration": 8,
    "start_time": "2021-07-24T06:41:46.458Z"
   },
   {
    "duration": 9,
    "start_time": "2021-07-24T06:41:46.469Z"
   },
   {
    "duration": 20,
    "start_time": "2021-07-24T06:41:46.480Z"
   },
   {
    "duration": 15,
    "start_time": "2021-07-24T06:41:46.504Z"
   },
   {
    "duration": 6,
    "start_time": "2021-07-24T06:41:46.523Z"
   },
   {
    "duration": 25,
    "start_time": "2021-07-24T06:41:46.531Z"
   },
   {
    "duration": 12,
    "start_time": "2021-07-24T06:41:46.559Z"
   },
   {
    "duration": 7,
    "start_time": "2021-07-24T06:41:46.574Z"
   },
   {
    "duration": 18,
    "start_time": "2021-07-24T06:41:46.583Z"
   },
   {
    "duration": 9,
    "start_time": "2021-07-24T06:41:46.604Z"
   },
   {
    "duration": 12,
    "start_time": "2021-07-24T06:41:46.616Z"
   },
   {
    "duration": 13,
    "start_time": "2021-07-24T06:41:46.630Z"
   },
   {
    "duration": 9,
    "start_time": "2021-07-24T06:41:46.645Z"
   },
   {
    "duration": 7,
    "start_time": "2021-07-24T06:41:46.656Z"
   },
   {
    "duration": 10,
    "start_time": "2021-07-24T06:41:46.665Z"
   },
   {
    "duration": 12,
    "start_time": "2021-07-24T06:41:46.677Z"
   },
   {
    "duration": 9,
    "start_time": "2021-07-24T06:41:46.691Z"
   },
   {
    "duration": 61,
    "start_time": "2021-07-24T06:41:46.702Z"
   },
   {
    "duration": 100,
    "start_time": "2021-07-24T06:41:46.771Z"
   },
   {
    "duration": 83,
    "start_time": "2021-07-24T06:41:46.875Z"
   },
   {
    "duration": 102,
    "start_time": "2021-07-24T06:41:46.961Z"
   },
   {
    "duration": 99,
    "start_time": "2021-07-24T06:41:47.155Z"
   },
   {
    "duration": 111,
    "start_time": "2021-07-24T06:41:47.257Z"
   },
   {
    "duration": 92,
    "start_time": "2021-07-24T06:41:47.370Z"
   },
   {
    "duration": 92,
    "start_time": "2021-07-24T06:41:47.464Z"
   },
   {
    "duration": 10,
    "start_time": "2021-07-24T06:41:47.559Z"
   },
   {
    "duration": 189,
    "start_time": "2021-07-24T06:41:47.573Z"
   },
   {
    "duration": 7,
    "start_time": "2021-07-24T06:45:29.953Z"
   },
   {
    "duration": 7,
    "start_time": "2021-07-24T06:45:32.018Z"
   },
   {
    "duration": 6,
    "start_time": "2021-07-24T06:45:33.853Z"
   },
   {
    "duration": 8,
    "start_time": "2021-07-24T06:45:57.349Z"
   },
   {
    "duration": 8,
    "start_time": "2021-07-24T06:45:59.743Z"
   },
   {
    "duration": 13,
    "start_time": "2021-07-24T06:46:02.317Z"
   },
   {
    "duration": 6,
    "start_time": "2021-07-24T06:46:07.933Z"
   },
   {
    "duration": 6,
    "start_time": "2021-07-24T06:46:08.857Z"
   },
   {
    "duration": 7,
    "start_time": "2021-07-24T06:46:09.781Z"
   },
   {
    "duration": 13,
    "start_time": "2021-07-24T06:46:11.769Z"
   },
   {
    "duration": 7,
    "start_time": "2021-07-24T06:47:37.363Z"
   },
   {
    "duration": 7,
    "start_time": "2021-07-24T06:47:38.085Z"
   },
   {
    "duration": 8,
    "start_time": "2021-07-24T06:47:39.353Z"
   },
   {
    "duration": 12,
    "start_time": "2021-07-24T06:47:42.721Z"
   },
   {
    "duration": 6,
    "start_time": "2021-07-24T06:48:29.585Z"
   },
   {
    "duration": 6,
    "start_time": "2021-07-24T06:48:30.217Z"
   },
   {
    "duration": 7,
    "start_time": "2021-07-24T06:48:31.113Z"
   },
   {
    "duration": 12,
    "start_time": "2021-07-24T06:48:32.009Z"
   },
   {
    "duration": 6,
    "start_time": "2021-07-24T06:48:50.981Z"
   },
   {
    "duration": 13,
    "start_time": "2021-07-24T06:48:51.445Z"
   },
   {
    "duration": 16,
    "start_time": "2021-07-24T06:48:52.253Z"
   },
   {
    "duration": 16,
    "start_time": "2021-07-24T06:48:53.284Z"
   },
   {
    "duration": 89,
    "start_time": "2021-07-24T06:48:53.865Z"
   },
   {
    "duration": 16,
    "start_time": "2021-07-24T06:48:54.437Z"
   },
   {
    "duration": 18,
    "start_time": "2021-07-24T06:48:55.929Z"
   },
   {
    "duration": 19,
    "start_time": "2021-07-24T06:48:56.445Z"
   },
   {
    "duration": 6,
    "start_time": "2021-07-24T06:49:33.933Z"
   },
   {
    "duration": 6,
    "start_time": "2021-07-24T06:49:34.849Z"
   },
   {
    "duration": 7,
    "start_time": "2021-07-24T06:49:35.316Z"
   },
   {
    "duration": 13,
    "start_time": "2021-07-24T06:49:35.753Z"
   },
   {
    "duration": 1135,
    "start_time": "2021-07-24T06:51:28.057Z"
   },
   {
    "duration": 6,
    "start_time": "2021-07-24T06:52:43.321Z"
   },
   {
    "duration": 1259,
    "start_time": "2021-07-24T06:52:50.107Z"
   },
   {
    "duration": 27,
    "start_time": "2021-07-24T06:52:51.369Z"
   },
   {
    "duration": 23,
    "start_time": "2021-07-24T06:52:51.400Z"
   },
   {
    "duration": 34,
    "start_time": "2021-07-24T06:52:51.426Z"
   },
   {
    "duration": 12,
    "start_time": "2021-07-24T06:52:51.464Z"
   },
   {
    "duration": 15,
    "start_time": "2021-07-24T06:52:51.479Z"
   },
   {
    "duration": 12,
    "start_time": "2021-07-24T06:52:51.497Z"
   },
   {
    "duration": 3,
    "start_time": "2021-07-24T06:52:51.515Z"
   },
   {
    "duration": 4,
    "start_time": "2021-07-24T06:52:51.556Z"
   },
   {
    "duration": 6,
    "start_time": "2021-07-24T06:52:51.563Z"
   },
   {
    "duration": 11,
    "start_time": "2021-07-24T06:52:51.572Z"
   },
   {
    "duration": 13,
    "start_time": "2021-07-24T06:52:51.585Z"
   },
   {
    "duration": 8,
    "start_time": "2021-07-24T06:52:51.600Z"
   },
   {
    "duration": 11,
    "start_time": "2021-07-24T06:52:51.611Z"
   },
   {
    "duration": 32,
    "start_time": "2021-07-24T06:52:51.624Z"
   },
   {
    "duration": 10,
    "start_time": "2021-07-24T06:52:51.658Z"
   },
   {
    "duration": 12,
    "start_time": "2021-07-24T06:52:51.670Z"
   },
   {
    "duration": 10,
    "start_time": "2021-07-24T06:52:51.684Z"
   },
   {
    "duration": 10,
    "start_time": "2021-07-24T06:52:51.696Z"
   },
   {
    "duration": 15,
    "start_time": "2021-07-24T06:52:51.709Z"
   },
   {
    "duration": 29,
    "start_time": "2021-07-24T06:52:51.727Z"
   },
   {
    "duration": 11,
    "start_time": "2021-07-24T06:52:51.760Z"
   },
   {
    "duration": 13,
    "start_time": "2021-07-24T06:52:51.856Z"
   },
   {
    "duration": 84,
    "start_time": "2021-07-24T06:52:51.872Z"
   },
   {
    "duration": 102,
    "start_time": "2021-07-24T06:52:51.958Z"
   },
   {
    "duration": 195,
    "start_time": "2021-07-24T06:52:52.062Z"
   },
   {
    "duration": 106,
    "start_time": "2021-07-24T06:52:52.262Z"
   },
   {
    "duration": 89,
    "start_time": "2021-07-24T06:52:52.371Z"
   },
   {
    "duration": 92,
    "start_time": "2021-07-24T06:52:52.463Z"
   },
   {
    "duration": 98,
    "start_time": "2021-07-24T06:52:52.557Z"
   },
   {
    "duration": 196,
    "start_time": "2021-07-24T06:52:52.659Z"
   },
   {
    "duration": 1311,
    "start_time": "2021-07-24T07:36:21.757Z"
   },
   {
    "duration": 25,
    "start_time": "2021-07-24T07:36:23.074Z"
   },
   {
    "duration": 24,
    "start_time": "2021-07-24T07:36:23.103Z"
   },
   {
    "duration": 35,
    "start_time": "2021-07-24T07:36:23.130Z"
   },
   {
    "duration": 10,
    "start_time": "2021-07-24T07:36:23.168Z"
   },
   {
    "duration": 11,
    "start_time": "2021-07-24T07:36:23.181Z"
   },
   {
    "duration": 13,
    "start_time": "2021-07-24T07:36:23.195Z"
   },
   {
    "duration": 45,
    "start_time": "2021-07-24T07:36:23.211Z"
   },
   {
    "duration": 14,
    "start_time": "2021-07-24T07:36:23.258Z"
   },
   {
    "duration": 23,
    "start_time": "2021-07-24T07:36:23.274Z"
   },
   {
    "duration": 16,
    "start_time": "2021-07-24T07:36:23.299Z"
   },
   {
    "duration": 17,
    "start_time": "2021-07-24T07:36:23.317Z"
   },
   {
    "duration": 19,
    "start_time": "2021-07-24T07:36:23.337Z"
   },
   {
    "duration": 11,
    "start_time": "2021-07-24T07:36:23.359Z"
   },
   {
    "duration": 19,
    "start_time": "2021-07-24T07:36:23.372Z"
   },
   {
    "duration": 24,
    "start_time": "2021-07-24T07:36:23.393Z"
   },
   {
    "duration": 25,
    "start_time": "2021-07-24T07:36:23.419Z"
   },
   {
    "duration": 20,
    "start_time": "2021-07-24T07:36:23.446Z"
   },
   {
    "duration": 17,
    "start_time": "2021-07-24T07:36:23.469Z"
   },
   {
    "duration": 24,
    "start_time": "2021-07-24T07:36:23.489Z"
   },
   {
    "duration": 22,
    "start_time": "2021-07-24T07:36:23.515Z"
   },
   {
    "duration": 17,
    "start_time": "2021-07-24T07:36:23.542Z"
   },
   {
    "duration": 93,
    "start_time": "2021-07-24T07:36:23.562Z"
   },
   {
    "duration": 7,
    "start_time": "2021-07-24T07:36:23.658Z"
   },
   {
    "duration": 193,
    "start_time": "2021-07-24T07:36:23.668Z"
   },
   {
    "duration": 192,
    "start_time": "2021-07-24T07:36:23.864Z"
   },
   {
    "duration": 107,
    "start_time": "2021-07-24T07:36:24.060Z"
   },
   {
    "duration": 99,
    "start_time": "2021-07-24T07:36:24.169Z"
   },
   {
    "duration": 92,
    "start_time": "2021-07-24T07:36:24.272Z"
   },
   {
    "duration": 18,
    "start_time": "2021-07-24T07:36:24.366Z"
   },
   {
    "duration": 187,
    "start_time": "2021-07-24T07:36:24.387Z"
   }
  ],
  "kernelspec": {
   "display_name": "Python 3",
   "language": "python",
   "name": "python3"
  },
  "language_info": {
   "codemirror_mode": {
    "name": "ipython",
    "version": 3
   },
   "file_extension": ".py",
   "mimetype": "text/x-python",
   "name": "python",
   "nbconvert_exporter": "python",
   "pygments_lexer": "ipython3",
   "version": "3.9.4"
  },
  "toc": {
   "base_numbering": 1,
   "nav_menu": {},
   "number_sections": true,
   "sideBar": true,
   "skip_h1_title": true,
   "title_cell": "Содержание",
   "title_sidebar": "Contents",
   "toc_cell": true,
   "toc_position": {
    "height": "calc(100% - 180px)",
    "left": "10px",
    "top": "150px",
    "width": "164.992px"
   },
   "toc_section_display": true,
   "toc_window_display": false
  }
 },
 "nbformat": 4,
 "nbformat_minor": 2
}
