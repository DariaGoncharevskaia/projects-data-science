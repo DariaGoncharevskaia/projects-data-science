{
 "cells": [
  {
   "cell_type": "markdown",
   "metadata": {},
   "source": [
    "# Определение стоимости автомобилей"
   ]
  },
  {
   "cell_type": "markdown",
   "metadata": {},
   "source": [
    "Сервис по продаже автомобилей с пробегом разрабатывает приложение для привлечения новых клиентов. В нём можно быстро узнать рыночную стоимость своего автомобиля. В вашем распоряжении исторические данные: технические характеристики, комплектации и цены автомобилей. Вам нужно построить модель для определения стоимости. \n",
    "\n",
    "Заказчику важны:\n",
    "\n",
    "- качество предсказания;\n",
    "- скорость предсказания;\n",
    "- время обучения."
   ]
  },
  {
   "cell_type": "markdown",
   "metadata": {},
   "source": [
    "**Признаки**  \n",
    "\n",
    "- **DateCrawled** — дата скачивания анкеты из базы  \n",
    "- **VehicleType** — тип автомобильного кузова  \n",
    "- **RegistrationYear** — год регистрации автомобиля  \n",
    "- **Gearbox** — тип коробки передач  \n",
    "- **Power** — мощность (л. с.)  \n",
    "- **Model** — модель автомобиля  \n",
    "- **Kilometer** — пробег (км)  \n",
    "- **RegistrationMonth** — месяц регистрации автомобиля  \n",
    "- **FuelType** — тип топлива  \n",
    "- **Brand** — марка автомобиля  \n",
    "- **NotRepaired** — была машина в ремонте или нет  \n",
    "- **DateCreated** — дата создания анкеты  \n",
    "- **NumberOfPictures** — количество фотографий автомобиля  \n",
    "- **PostalCode** — почтовый индекс владельца анкеты (пользователя)  \n",
    "- **LastSeen** — дата последней активности пользователя  \n",
    "\n",
    "**Целевой признак**  \n",
    "- **Price** — цена (евро)  "
   ]
  },
  {
   "cell_type": "markdown",
   "metadata": {},
   "source": [
    "## Подготовка данных"
   ]
  },
  {
   "cell_type": "code",
   "execution_count": 1,
   "metadata": {},
   "outputs": [
    {
     "name": "stdout",
     "output_type": "stream",
     "text": [
      "Requirement already satisfied: catboost in c:\\users\\evche\\anaconda3\\lib\\site-packages (0.26.1)\n",
      "Requirement already satisfied: scipy in c:\\users\\evche\\anaconda3\\lib\\site-packages (from catboost) (1.6.2)\n",
      "Requirement already satisfied: plotly in c:\\users\\evche\\anaconda3\\lib\\site-packages (from catboost) (5.1.0)\n",
      "Requirement already satisfied: matplotlib in c:\\users\\evche\\anaconda3\\lib\\site-packages (from catboost) (3.3.4)\n",
      "Requirement already satisfied: six in c:\\users\\evche\\anaconda3\\lib\\site-packages (from catboost) (1.15.0)\n",
      "Requirement already satisfied: graphviz in c:\\users\\evche\\anaconda3\\lib\\site-packages (from catboost) (0.17)\n",
      "Requirement already satisfied: pandas>=0.24.0 in c:\\users\\evche\\anaconda3\\lib\\site-packages (from catboost) (1.2.4)\n",
      "Requirement already satisfied: numpy>=1.16.0 in c:\\users\\evche\\anaconda3\\lib\\site-packages (from catboost) (1.20.1)\n",
      "Requirement already satisfied: pytz>=2017.3 in c:\\users\\evche\\anaconda3\\lib\\site-packages (from pandas>=0.24.0->catboost) (2021.1)\n",
      "Requirement already satisfied: python-dateutil>=2.7.3 in c:\\users\\evche\\anaconda3\\lib\\site-packages (from pandas>=0.24.0->catboost) (2.8.1)\n",
      "Requirement already satisfied: pyparsing!=2.0.4,!=2.1.2,!=2.1.6,>=2.0.3 in c:\\users\\evche\\anaconda3\\lib\\site-packages (from matplotlib->catboost) (2.4.7)\n",
      "Requirement already satisfied: cycler>=0.10 in c:\\users\\evche\\anaconda3\\lib\\site-packages (from matplotlib->catboost) (0.10.0)\n",
      "Requirement already satisfied: pillow>=6.2.0 in c:\\users\\evche\\anaconda3\\lib\\site-packages (from matplotlib->catboost) (8.2.0)\n",
      "Requirement already satisfied: kiwisolver>=1.0.1 in c:\\users\\evche\\anaconda3\\lib\\site-packages (from matplotlib->catboost) (1.3.1)\n",
      "Requirement already satisfied: tenacity>=6.2.0 in c:\\users\\evche\\anaconda3\\lib\\site-packages (from plotly->catboost) (8.0.1)\n"
     ]
    }
   ],
   "source": [
    "!pip3 install catboost"
   ]
  },
  {
   "cell_type": "code",
   "execution_count": 2,
   "metadata": {},
   "outputs": [
    {
     "name": "stdout",
     "output_type": "stream",
     "text": [
      "Requirement already satisfied: lightgbm in c:\\users\\evche\\anaconda3\\lib\\site-packages (3.2.1)\n",
      "Requirement already satisfied: wheel in c:\\users\\evche\\anaconda3\\lib\\site-packages (from lightgbm) (0.36.2)\n",
      "Requirement already satisfied: scikit-learn!=0.22.0 in c:\\users\\evche\\anaconda3\\lib\\site-packages (from lightgbm) (0.24.1)\n",
      "Requirement already satisfied: numpy in c:\\users\\evche\\anaconda3\\lib\\site-packages (from lightgbm) (1.20.1)\n",
      "Requirement already satisfied: scipy in c:\\users\\evche\\anaconda3\\lib\\site-packages (from lightgbm) (1.6.2)\n",
      "Requirement already satisfied: threadpoolctl>=2.0.0 in c:\\users\\evche\\anaconda3\\lib\\site-packages (from scikit-learn!=0.22.0->lightgbm) (2.1.0)\n",
      "Requirement already satisfied: joblib>=0.11 in c:\\users\\evche\\anaconda3\\lib\\site-packages (from scikit-learn!=0.22.0->lightgbm) (1.0.1)\n"
     ]
    }
   ],
   "source": [
    "!pip install lightgbm"
   ]
  },
  {
   "cell_type": "code",
   "execution_count": 3,
   "metadata": {},
   "outputs": [],
   "source": [
    "import matplotlib.pyplot as plt\n",
    "import numpy as np\n",
    "import pandas as pd\n",
    "\n",
    "\n",
    "from sklearn.model_selection import train_test_split\n",
    "from sklearn.preprocessing import StandardScaler\n",
    "from sklearn.metrics import mean_squared_error\n",
    "from sklearn.preprocessing import PolynomialFeatures\n",
    "from sklearn.preprocessing import OrdinalEncoder\n",
    "from sklearn.linear_model import LinearRegression\n",
    "from sklearn.linear_model import Ridge\n",
    "from sklearn.tree import DecisionTreeRegressor\n",
    "from sklearn.ensemble import ExtraTreesRegressor\n",
    "from catboost import Pool, CatBoostRegressor, cv\n",
    "from lightgbm import LGBMRegressor\n",
    "from sklearn.model_selection import cross_val_score\n",
    "from sklearn.model_selection import GridSearchCV\n",
    "from sklearn.pipeline import Pipeline\n",
    "from sklearn.ensemble import RandomForestRegressor\n",
    "\n",
    "\n",
    "import seaborn as sns\n",
    "import collections\n",
    "\n",
    "import warnings\n",
    "warnings.filterwarnings('ignore')"
   ]
  },
  {
   "cell_type": "code",
   "execution_count": 4,
   "metadata": {},
   "outputs": [
    {
     "data": {
      "text/plain": [
       "(354369, 16)"
      ]
     },
     "metadata": {},
     "output_type": "display_data"
    },
    {
     "name": "stdout",
     "output_type": "stream",
     "text": [
      "<class 'pandas.core.frame.DataFrame'>\n",
      "RangeIndex: 354369 entries, 0 to 354368\n",
      "Data columns (total 16 columns):\n",
      " #   Column             Non-Null Count   Dtype \n",
      "---  ------             --------------   ----- \n",
      " 0   DateCrawled        354369 non-null  object\n",
      " 1   Price              354369 non-null  int64 \n",
      " 2   VehicleType        316879 non-null  object\n",
      " 3   RegistrationYear   354369 non-null  int64 \n",
      " 4   Gearbox            334536 non-null  object\n",
      " 5   Power              354369 non-null  int64 \n",
      " 6   Model              334664 non-null  object\n",
      " 7   Kilometer          354369 non-null  int64 \n",
      " 8   RegistrationMonth  354369 non-null  int64 \n",
      " 9   FuelType           321474 non-null  object\n",
      " 10  Brand              354369 non-null  object\n",
      " 11  NotRepaired        283215 non-null  object\n",
      " 12  DateCreated        354369 non-null  object\n",
      " 13  NumberOfPictures   354369 non-null  int64 \n",
      " 14  PostalCode         354369 non-null  int64 \n",
      " 15  LastSeen           354369 non-null  object\n",
      "dtypes: int64(7), object(9)\n",
      "memory usage: 43.3+ MB\n"
     ]
    },
    {
     "data": {
      "text/plain": [
       "None"
      ]
     },
     "metadata": {},
     "output_type": "display_data"
    },
    {
     "data": {
      "text/html": [
       "<div>\n",
       "<style scoped>\n",
       "    .dataframe tbody tr th:only-of-type {\n",
       "        vertical-align: middle;\n",
       "    }\n",
       "\n",
       "    .dataframe tbody tr th {\n",
       "        vertical-align: top;\n",
       "    }\n",
       "\n",
       "    .dataframe thead th {\n",
       "        text-align: right;\n",
       "    }\n",
       "</style>\n",
       "<table border=\"1\" class=\"dataframe\">\n",
       "  <thead>\n",
       "    <tr style=\"text-align: right;\">\n",
       "      <th></th>\n",
       "      <th>DateCrawled</th>\n",
       "      <th>Price</th>\n",
       "      <th>VehicleType</th>\n",
       "      <th>RegistrationYear</th>\n",
       "      <th>Gearbox</th>\n",
       "      <th>Power</th>\n",
       "      <th>Model</th>\n",
       "      <th>Kilometer</th>\n",
       "      <th>RegistrationMonth</th>\n",
       "      <th>FuelType</th>\n",
       "      <th>Brand</th>\n",
       "      <th>NotRepaired</th>\n",
       "      <th>DateCreated</th>\n",
       "      <th>NumberOfPictures</th>\n",
       "      <th>PostalCode</th>\n",
       "      <th>LastSeen</th>\n",
       "    </tr>\n",
       "  </thead>\n",
       "  <tbody>\n",
       "    <tr>\n",
       "      <th>0</th>\n",
       "      <td>2016-03-24 11:52:17</td>\n",
       "      <td>480</td>\n",
       "      <td>NaN</td>\n",
       "      <td>1993</td>\n",
       "      <td>manual</td>\n",
       "      <td>0</td>\n",
       "      <td>golf</td>\n",
       "      <td>150000</td>\n",
       "      <td>0</td>\n",
       "      <td>petrol</td>\n",
       "      <td>volkswagen</td>\n",
       "      <td>NaN</td>\n",
       "      <td>2016-03-24 00:00:00</td>\n",
       "      <td>0</td>\n",
       "      <td>70435</td>\n",
       "      <td>2016-04-07 03:16:57</td>\n",
       "    </tr>\n",
       "    <tr>\n",
       "      <th>1</th>\n",
       "      <td>2016-03-24 10:58:45</td>\n",
       "      <td>18300</td>\n",
       "      <td>coupe</td>\n",
       "      <td>2011</td>\n",
       "      <td>manual</td>\n",
       "      <td>190</td>\n",
       "      <td>NaN</td>\n",
       "      <td>125000</td>\n",
       "      <td>5</td>\n",
       "      <td>gasoline</td>\n",
       "      <td>audi</td>\n",
       "      <td>yes</td>\n",
       "      <td>2016-03-24 00:00:00</td>\n",
       "      <td>0</td>\n",
       "      <td>66954</td>\n",
       "      <td>2016-04-07 01:46:50</td>\n",
       "    </tr>\n",
       "    <tr>\n",
       "      <th>2</th>\n",
       "      <td>2016-03-14 12:52:21</td>\n",
       "      <td>9800</td>\n",
       "      <td>suv</td>\n",
       "      <td>2004</td>\n",
       "      <td>auto</td>\n",
       "      <td>163</td>\n",
       "      <td>grand</td>\n",
       "      <td>125000</td>\n",
       "      <td>8</td>\n",
       "      <td>gasoline</td>\n",
       "      <td>jeep</td>\n",
       "      <td>NaN</td>\n",
       "      <td>2016-03-14 00:00:00</td>\n",
       "      <td>0</td>\n",
       "      <td>90480</td>\n",
       "      <td>2016-04-05 12:47:46</td>\n",
       "    </tr>\n",
       "    <tr>\n",
       "      <th>3</th>\n",
       "      <td>2016-03-17 16:54:04</td>\n",
       "      <td>1500</td>\n",
       "      <td>small</td>\n",
       "      <td>2001</td>\n",
       "      <td>manual</td>\n",
       "      <td>75</td>\n",
       "      <td>golf</td>\n",
       "      <td>150000</td>\n",
       "      <td>6</td>\n",
       "      <td>petrol</td>\n",
       "      <td>volkswagen</td>\n",
       "      <td>no</td>\n",
       "      <td>2016-03-17 00:00:00</td>\n",
       "      <td>0</td>\n",
       "      <td>91074</td>\n",
       "      <td>2016-03-17 17:40:17</td>\n",
       "    </tr>\n",
       "    <tr>\n",
       "      <th>4</th>\n",
       "      <td>2016-03-31 17:25:20</td>\n",
       "      <td>3600</td>\n",
       "      <td>small</td>\n",
       "      <td>2008</td>\n",
       "      <td>manual</td>\n",
       "      <td>69</td>\n",
       "      <td>fabia</td>\n",
       "      <td>90000</td>\n",
       "      <td>7</td>\n",
       "      <td>gasoline</td>\n",
       "      <td>skoda</td>\n",
       "      <td>no</td>\n",
       "      <td>2016-03-31 00:00:00</td>\n",
       "      <td>0</td>\n",
       "      <td>60437</td>\n",
       "      <td>2016-04-06 10:17:21</td>\n",
       "    </tr>\n",
       "  </tbody>\n",
       "</table>\n",
       "</div>"
      ],
      "text/plain": [
       "           DateCrawled  Price VehicleType  RegistrationYear Gearbox  Power  \\\n",
       "0  2016-03-24 11:52:17    480         NaN              1993  manual      0   \n",
       "1  2016-03-24 10:58:45  18300       coupe              2011  manual    190   \n",
       "2  2016-03-14 12:52:21   9800         suv              2004    auto    163   \n",
       "3  2016-03-17 16:54:04   1500       small              2001  manual     75   \n",
       "4  2016-03-31 17:25:20   3600       small              2008  manual     69   \n",
       "\n",
       "   Model  Kilometer  RegistrationMonth  FuelType       Brand NotRepaired  \\\n",
       "0   golf     150000                  0    petrol  volkswagen         NaN   \n",
       "1    NaN     125000                  5  gasoline        audi         yes   \n",
       "2  grand     125000                  8  gasoline        jeep         NaN   \n",
       "3   golf     150000                  6    petrol  volkswagen          no   \n",
       "4  fabia      90000                  7  gasoline       skoda          no   \n",
       "\n",
       "           DateCreated  NumberOfPictures  PostalCode             LastSeen  \n",
       "0  2016-03-24 00:00:00                 0       70435  2016-04-07 03:16:57  \n",
       "1  2016-03-24 00:00:00                 0       66954  2016-04-07 01:46:50  \n",
       "2  2016-03-14 00:00:00                 0       90480  2016-04-05 12:47:46  \n",
       "3  2016-03-17 00:00:00                 0       91074  2016-03-17 17:40:17  \n",
       "4  2016-03-31 00:00:00                 0       60437  2016-04-06 10:17:21  "
      ]
     },
     "execution_count": 4,
     "metadata": {},
     "output_type": "execute_result"
    }
   ],
   "source": [
    "autos = pd.read_csv('C:/Users/evche/Desktop/autos.csv')\n",
    "display(autos.shape)\n",
    "display(autos.info())\n",
    "autos.head(5)"
   ]
  },
  {
   "cell_type": "code",
   "execution_count": 5,
   "metadata": {},
   "outputs": [
    {
     "name": "stdout",
     "output_type": "stream",
     "text": [
      "__ПРОПУСКИ__\n"
     ]
    },
    {
     "data": {
      "text/plain": [
       "DateCrawled              0\n",
       "Price                    0\n",
       "VehicleType          37490\n",
       "RegistrationYear         0\n",
       "Gearbox              19833\n",
       "Power                    0\n",
       "Model                19705\n",
       "Kilometer                0\n",
       "RegistrationMonth        0\n",
       "FuelType             32895\n",
       "Brand                    0\n",
       "NotRepaired          71154\n",
       "DateCreated              0\n",
       "NumberOfPictures         0\n",
       "PostalCode               0\n",
       "LastSeen                 0\n",
       "dtype: int64"
      ]
     },
     "execution_count": 5,
     "metadata": {},
     "output_type": "execute_result"
    }
   ],
   "source": [
    "print('__ПРОПУСКИ__')\n",
    "autos.isna().sum()"
   ]
  },
  {
   "cell_type": "code",
   "execution_count": 6,
   "metadata": {},
   "outputs": [
    {
     "data": {
      "text/html": [
       "<div>\n",
       "<style scoped>\n",
       "    .dataframe tbody tr th:only-of-type {\n",
       "        vertical-align: middle;\n",
       "    }\n",
       "\n",
       "    .dataframe tbody tr th {\n",
       "        vertical-align: top;\n",
       "    }\n",
       "\n",
       "    .dataframe thead th {\n",
       "        text-align: right;\n",
       "    }\n",
       "</style>\n",
       "<table border=\"1\" class=\"dataframe\">\n",
       "  <thead>\n",
       "    <tr style=\"text-align: right;\">\n",
       "      <th></th>\n",
       "      <th>Price</th>\n",
       "      <th>RegistrationYear</th>\n",
       "      <th>Power</th>\n",
       "      <th>Kilometer</th>\n",
       "      <th>RegistrationMonth</th>\n",
       "      <th>NumberOfPictures</th>\n",
       "      <th>PostalCode</th>\n",
       "    </tr>\n",
       "  </thead>\n",
       "  <tbody>\n",
       "    <tr>\n",
       "      <th>count</th>\n",
       "      <td>354369.000000</td>\n",
       "      <td>354369.000000</td>\n",
       "      <td>354369.000000</td>\n",
       "      <td>354369.000000</td>\n",
       "      <td>354369.000000</td>\n",
       "      <td>354369.0</td>\n",
       "      <td>354369.000000</td>\n",
       "    </tr>\n",
       "    <tr>\n",
       "      <th>mean</th>\n",
       "      <td>4416.656776</td>\n",
       "      <td>2004.234448</td>\n",
       "      <td>110.094337</td>\n",
       "      <td>128211.172535</td>\n",
       "      <td>5.714645</td>\n",
       "      <td>0.0</td>\n",
       "      <td>50508.689087</td>\n",
       "    </tr>\n",
       "    <tr>\n",
       "      <th>std</th>\n",
       "      <td>4514.158514</td>\n",
       "      <td>90.227958</td>\n",
       "      <td>189.850405</td>\n",
       "      <td>37905.341530</td>\n",
       "      <td>3.726421</td>\n",
       "      <td>0.0</td>\n",
       "      <td>25783.096248</td>\n",
       "    </tr>\n",
       "    <tr>\n",
       "      <th>min</th>\n",
       "      <td>0.000000</td>\n",
       "      <td>1000.000000</td>\n",
       "      <td>0.000000</td>\n",
       "      <td>5000.000000</td>\n",
       "      <td>0.000000</td>\n",
       "      <td>0.0</td>\n",
       "      <td>1067.000000</td>\n",
       "    </tr>\n",
       "    <tr>\n",
       "      <th>25%</th>\n",
       "      <td>1050.000000</td>\n",
       "      <td>1999.000000</td>\n",
       "      <td>69.000000</td>\n",
       "      <td>125000.000000</td>\n",
       "      <td>3.000000</td>\n",
       "      <td>0.0</td>\n",
       "      <td>30165.000000</td>\n",
       "    </tr>\n",
       "    <tr>\n",
       "      <th>50%</th>\n",
       "      <td>2700.000000</td>\n",
       "      <td>2003.000000</td>\n",
       "      <td>105.000000</td>\n",
       "      <td>150000.000000</td>\n",
       "      <td>6.000000</td>\n",
       "      <td>0.0</td>\n",
       "      <td>49413.000000</td>\n",
       "    </tr>\n",
       "    <tr>\n",
       "      <th>75%</th>\n",
       "      <td>6400.000000</td>\n",
       "      <td>2008.000000</td>\n",
       "      <td>143.000000</td>\n",
       "      <td>150000.000000</td>\n",
       "      <td>9.000000</td>\n",
       "      <td>0.0</td>\n",
       "      <td>71083.000000</td>\n",
       "    </tr>\n",
       "    <tr>\n",
       "      <th>max</th>\n",
       "      <td>20000.000000</td>\n",
       "      <td>9999.000000</td>\n",
       "      <td>20000.000000</td>\n",
       "      <td>150000.000000</td>\n",
       "      <td>12.000000</td>\n",
       "      <td>0.0</td>\n",
       "      <td>99998.000000</td>\n",
       "    </tr>\n",
       "  </tbody>\n",
       "</table>\n",
       "</div>"
      ],
      "text/plain": [
       "               Price  RegistrationYear          Power      Kilometer  \\\n",
       "count  354369.000000     354369.000000  354369.000000  354369.000000   \n",
       "mean     4416.656776       2004.234448     110.094337  128211.172535   \n",
       "std      4514.158514         90.227958     189.850405   37905.341530   \n",
       "min         0.000000       1000.000000       0.000000    5000.000000   \n",
       "25%      1050.000000       1999.000000      69.000000  125000.000000   \n",
       "50%      2700.000000       2003.000000     105.000000  150000.000000   \n",
       "75%      6400.000000       2008.000000     143.000000  150000.000000   \n",
       "max     20000.000000       9999.000000   20000.000000  150000.000000   \n",
       "\n",
       "       RegistrationMonth  NumberOfPictures     PostalCode  \n",
       "count      354369.000000          354369.0  354369.000000  \n",
       "mean            5.714645               0.0   50508.689087  \n",
       "std             3.726421               0.0   25783.096248  \n",
       "min             0.000000               0.0    1067.000000  \n",
       "25%             3.000000               0.0   30165.000000  \n",
       "50%             6.000000               0.0   49413.000000  \n",
       "75%             9.000000               0.0   71083.000000  \n",
       "max            12.000000               0.0   99998.000000  "
      ]
     },
     "execution_count": 6,
     "metadata": {},
     "output_type": "execute_result"
    }
   ],
   "source": [
    "autos.describe()"
   ]
  },
  {
   "cell_type": "markdown",
   "metadata": {},
   "source": [
    "В столбцах **VehicleType**, **Gearbox**, **FuelType** и **NotRepaired** обнаружены пропуски."
   ]
  },
  {
   "cell_type": "markdown",
   "metadata": {},
   "source": [
    "- Выделим значимые признаки:\n",
    "\n",
    "    - **VehicleType** Тип машины определяет ее возможности и оказывает влияние на финальную цену.\n",
    "    - **RegistrationYear** Определяет количество лет эксплуатации автомобиля.\n",
    "    - **Gearbox** Наличие автоматической коробки передач повышает стоимость.\n",
    "    - **Power** Мощность в лошадиных силах (далее л.с.). Один из основных критериев формирования цены.\n",
    "    - **Model** Определяет широкий спектр характеристик авто - сильно отражается на цене.  \n",
    "    - **Kilometer** Обратно пропорциональная зависимость от цены. \n",
    "    - **FuelType** Определяет конструкцию двигателя, от которой тоже зависит цена.\n",
    "    - **Brand** Как и марка, показывает качество и надежность автомобиля.\n",
    "    - **NotRepaired** Наличие/отсутсвие участия в ДТП очень важная характеристика авто, которая может оказать значительное влияние на его стоимость.\n",
    "\n",
    "Остальные столбцы не пригодятся для модели, так как не оказывают влияния на формирование стоимость авто.\n",
    "\n",
    "- Теперь проанализируем численные значения отобранных признаков:\n",
    "\n",
    "    - **RegistrationYear** Содержит некоторые аномальные значения, поэтому ограничим его периодом 1940-2020, оставшиеся показания приведем к ближайшей границе.\n",
    "    - **Power** В данном столбце максимальное значение составляет 20000, что выглядит не слишком убедительно. На данный момент максильная мощность для автомобиля составляет 5000 л.с. (Devel Sixteen), на стенде мотор показал около 5007 л.с., но мы ограничимся круглым числом. \n",
    "    - **Price** Очень высокое стандартное отклонение, которое негативно отразится на работе алгоритма. Нуждается в поиске выбросов.\n",
    "\n",
    "\n",
    " - Дополнительно:\n",
    " \n",
    "    - **VehicleType** Пропущенные значения восстановим по популярному типу из столбца Brand.\n",
    "    - **Gearbox** Все NaN заменим на 'manual'.\n",
    "    - **FuelType** Восстановим пропущенные значения по популярному типу из столбца Brand.\n",
    "    - **NotRepaired** Для всех NaN установим значение 'yes'.\n",
    "    - **Model** Для всех NaN - 'unknown'."
   ]
  },
  {
   "cell_type": "markdown",
   "metadata": {},
   "source": [
    "### Предобработка данных"
   ]
  },
  {
   "cell_type": "markdown",
   "metadata": {},
   "source": [
    "Уберем из датафрейма столбцы, которые нам не пригодятся. "
   ]
  },
  {
   "cell_type": "code",
   "execution_count": 7,
   "metadata": {
    "scrolled": true
   },
   "outputs": [
    {
     "name": "stdout",
     "output_type": "stream",
     "text": [
      "<class 'pandas.core.frame.DataFrame'>\n",
      "RangeIndex: 354369 entries, 0 to 354368\n",
      "Data columns (total 10 columns):\n",
      " #   Column            Non-Null Count   Dtype \n",
      "---  ------            --------------   ----- \n",
      " 0   VehicleType       316879 non-null  object\n",
      " 1   Gearbox           334536 non-null  object\n",
      " 2   Power             354369 non-null  int64 \n",
      " 3   Kilometer         354369 non-null  int64 \n",
      " 4   FuelType          321474 non-null  object\n",
      " 5   Brand             354369 non-null  object\n",
      " 6   NotRepaired       283215 non-null  object\n",
      " 7   RegistrationYear  354369 non-null  int64 \n",
      " 8   Model             334664 non-null  object\n",
      " 9   Price             354369 non-null  int64 \n",
      "dtypes: int64(4), object(6)\n",
      "memory usage: 27.0+ MB\n"
     ]
    }
   ],
   "source": [
    "autos_filtred = autos[['VehicleType', \n",
    "                         'Gearbox', \n",
    "                         'Power',\n",
    "                         'Kilometer',\n",
    "                         'FuelType',\n",
    "                         'Brand',\n",
    "                         'NotRepaired',\n",
    "                         'RegistrationYear',\n",
    "                         'Model',                \n",
    "                         'Price']]\n",
    "autos_filtred.info()"
   ]
  },
  {
   "cell_type": "markdown",
   "metadata": {},
   "source": [
    "**RegistrationYear**"
   ]
  },
  {
   "cell_type": "code",
   "execution_count": 8,
   "metadata": {},
   "outputs": [],
   "source": [
    "def Balance_RegistrationYear(value):\n",
    "    if value > 2020:\n",
    "        return 2020\n",
    "    elif value < 1930:\n",
    "        return 1930\n",
    "    else:\n",
    "        return value\n",
    "    \n",
    "autos_filtred[\"RegistrationYear\"] = autos_filtred[\"RegistrationYear\"].apply(Balance_RegistrationYear)"
   ]
  },
  {
   "cell_type": "markdown",
   "metadata": {},
   "source": [
    "**Power**"
   ]
  },
  {
   "cell_type": "code",
   "execution_count": 9,
   "metadata": {},
   "outputs": [],
   "source": [
    "autos_filtred = autos_filtred.query('5 <= Power <= 5000')"
   ]
  },
  {
   "cell_type": "markdown",
   "metadata": {},
   "source": [
    "**Price**."
   ]
  },
  {
   "cell_type": "code",
   "execution_count": 10,
   "metadata": {},
   "outputs": [
    {
     "data": {
      "text/plain": [
       "count    313979.000000\n",
       "mean       4705.026964\n",
       "std        4590.752411\n",
       "min           0.000000\n",
       "25%        1250.000000\n",
       "50%        2999.000000\n",
       "75%        6890.000000\n",
       "max       20000.000000\n",
       "Name: Price, dtype: float64"
      ]
     },
     "execution_count": 10,
     "metadata": {},
     "output_type": "execute_result"
    },
    {
     "data": {
      "image/png": "[encoded data removed]",
      "text/plain": [
       "<Figure size 864x648 with 1 Axes>"
      ]
     },
     "metadata": {
      "needs_background": "light"
     },
     "output_type": "display_data"
    }
   ],
   "source": [
    "plt.figure(figsize=(12,9))\n",
    "sns.set(style = 'darkgrid', palette = 'Set1_r')\n",
    "sns.distplot(autos_filtred['Price'], bins=100, label = 'price')\n",
    "\n",
    "plt.legend()\n",
    "plt.title('Price')\n",
    "autos_filtred['Price'].describe()"
   ]
  },
  {
   "cell_type": "code",
   "execution_count": 11,
   "metadata": {},
   "outputs": [
    {
     "name": "stdout",
     "output_type": "stream",
     "text": [
      "Количество строк, выбранных для удаления : 13922\n",
      "Было удалено: 13922\n"
     ]
    }
   ],
   "source": [
    "autos_filtred = autos_filtred.query('Price > 0')\n",
    "q25=np.array(autos_filtred['Price'].quantile(0.25))\n",
    "q75=np.array(autos_filtred['Price'].quantile(0.75))\n",
    "\n",
    "first_part=q25-1.5*(q75-q25)\n",
    "second_part=q75+1.5*(q75-q25)\n",
    "    \n",
    "del_index = []\n",
    "    \n",
    "for index_value, value in zip(autos_filtred['Price'].index, autos_filtred['Price']):\n",
    "    if second_part <= value or value <= first_part:\n",
    "        del_index.append(index_value)\n",
    "    \n",
    "print('Количество строк, выбранных для удаления :' , len(del_index))\n",
    "autos_filtred = autos_filtred.drop(del_index,axis = 0)\n",
    "print('Было удалено:', len(del_index))"
   ]
  },
  {
   "cell_type": "markdown",
   "metadata": {},
   "source": [
    "Замена NaN в **Gearbox, NotRepaired** и **Model**."
   ]
  },
  {
   "cell_type": "code",
   "execution_count": 12,
   "metadata": {},
   "outputs": [],
   "source": [
    "autos_filtred.fillna({'Gearbox':'manual', \n",
    "                           'NotRepaired':'yes',\n",
    "                           'Model':'unknown'},\n",
    "                          inplace=True)"
   ]
  },
  {
   "cell_type": "markdown",
   "metadata": {},
   "source": [
    "Переведем два столбца в булев тип, это было бы удобно для дальнейшей работы.\n",
    "\n",
    "- **IsAutoGearbox** 1(auto) - автомат. 0(manual) - механика.\n",
    "- **IsNotRepaired** 1(yes) - означает машину без ремонта. 0(no) - с ремонтом."
   ]
  },
  {
   "cell_type": "code",
   "execution_count": 13,
   "metadata": {},
   "outputs": [
    {
     "data": {
      "text/plain": [
       "manual    239249\n",
       "auto       53913\n",
       "Name: Gearbox, dtype: int64"
      ]
     },
     "metadata": {},
     "output_type": "display_data"
    },
    {
     "data": {
      "text/plain": [
       "no     217267\n",
       "yes     75895\n",
       "Name: NotRepaired, dtype: int64"
      ]
     },
     "metadata": {},
     "output_type": "display_data"
    }
   ],
   "source": [
    "autos_filtred['IsManualGearbox'] = 0\n",
    "autos_filtred.loc[autos_filtred['Gearbox'] == 'manual', 'IsManualGearbox'] = 1\n",
    "display(autos_filtred['Gearbox'].value_counts())\n",
    "\n",
    "\n",
    "autos_filtred['IsNotRepaired'] = 0\n",
    "autos_filtred.loc[autos_filtred['NotRepaired'] == 'yes', 'IsNotRepaired'] = 1\n",
    "display(autos_filtred['NotRepaired'].value_counts())"
   ]
  },
  {
   "cell_type": "markdown",
   "metadata": {},
   "source": [
    "**FuelType**"
   ]
  },
  {
   "cell_type": "markdown",
   "metadata": {},
   "source": [
    "Изучим таблицу с распределением количества авто по типу топлива для каждой фирмы и заполним пропуски. "
   ]
  },
  {
   "cell_type": "code",
   "execution_count": 14,
   "metadata": {},
   "outputs": [
    {
     "data": {
      "text/plain": [
       "petrol      186040\n",
       "gasoline     82086\n",
       "lpg           4715\n",
       "cng            498\n",
       "hybrid         169\n",
       "other           89\n",
       "electric        65\n",
       "Name: FuelType, dtype: int64"
      ]
     },
     "metadata": {},
     "output_type": "display_data"
    },
    {
     "data": {
      "text/plain": [
       "19500"
      ]
     },
     "execution_count": 14,
     "metadata": {},
     "output_type": "execute_result"
    }
   ],
   "source": [
    "display(autos_filtred['FuelType'].value_counts())\n",
    "autos_filtred['FuelType'].isna().sum()"
   ]
  },
  {
   "cell_type": "code",
   "execution_count": 15,
   "metadata": {},
   "outputs": [
    {
     "data": {
      "text/html": [
       "<div>\n",
       "<style scoped>\n",
       "    .dataframe tbody tr th:only-of-type {\n",
       "        vertical-align: middle;\n",
       "    }\n",
       "\n",
       "    .dataframe tbody tr th {\n",
       "        vertical-align: top;\n",
       "    }\n",
       "\n",
       "    .dataframe thead tr th {\n",
       "        text-align: left;\n",
       "    }\n",
       "\n",
       "    .dataframe thead tr:last-of-type th {\n",
       "        text-align: right;\n",
       "    }\n",
       "</style>\n",
       "<table border=\"1\" class=\"dataframe\">\n",
       "  <thead>\n",
       "    <tr>\n",
       "      <th></th>\n",
       "      <th colspan=\"21\" halign=\"left\">count</th>\n",
       "    </tr>\n",
       "    <tr>\n",
       "      <th></th>\n",
       "      <th colspan=\"21\" halign=\"left\">Price</th>\n",
       "    </tr>\n",
       "    <tr>\n",
       "      <th>Brand</th>\n",
       "      <th>alfa_romeo</th>\n",
       "      <th>audi</th>\n",
       "      <th>bmw</th>\n",
       "      <th>chevrolet</th>\n",
       "      <th>chrysler</th>\n",
       "      <th>citroen</th>\n",
       "      <th>dacia</th>\n",
       "      <th>daewoo</th>\n",
       "      <th>daihatsu</th>\n",
       "      <th>fiat</th>\n",
       "      <th>...</th>\n",
       "      <th>seat</th>\n",
       "      <th>skoda</th>\n",
       "      <th>smart</th>\n",
       "      <th>sonstige_autos</th>\n",
       "      <th>subaru</th>\n",
       "      <th>suzuki</th>\n",
       "      <th>toyota</th>\n",
       "      <th>trabant</th>\n",
       "      <th>volkswagen</th>\n",
       "      <th>volvo</th>\n",
       "    </tr>\n",
       "    <tr>\n",
       "      <th>FuelType</th>\n",
       "      <th></th>\n",
       "      <th></th>\n",
       "      <th></th>\n",
       "      <th></th>\n",
       "      <th></th>\n",
       "      <th></th>\n",
       "      <th></th>\n",
       "      <th></th>\n",
       "      <th></th>\n",
       "      <th></th>\n",
       "      <th></th>\n",
       "      <th></th>\n",
       "      <th></th>\n",
       "      <th></th>\n",
       "      <th></th>\n",
       "      <th></th>\n",
       "      <th></th>\n",
       "      <th></th>\n",
       "      <th></th>\n",
       "      <th></th>\n",
       "      <th></th>\n",
       "    </tr>\n",
       "  </thead>\n",
       "  <tbody>\n",
       "    <tr>\n",
       "      <th>cng</th>\n",
       "      <td>NaN</td>\n",
       "      <td>NaN</td>\n",
       "      <td>8.0</td>\n",
       "      <td>4.0</td>\n",
       "      <td>NaN</td>\n",
       "      <td>6.0</td>\n",
       "      <td>2.0</td>\n",
       "      <td>NaN</td>\n",
       "      <td>NaN</td>\n",
       "      <td>65.0</td>\n",
       "      <td>...</td>\n",
       "      <td>3.0</td>\n",
       "      <td>6.0</td>\n",
       "      <td>2.0</td>\n",
       "      <td>6.0</td>\n",
       "      <td>2.0</td>\n",
       "      <td>NaN</td>\n",
       "      <td>NaN</td>\n",
       "      <td>NaN</td>\n",
       "      <td>175.0</td>\n",
       "      <td>20.0</td>\n",
       "    </tr>\n",
       "    <tr>\n",
       "      <th>electric</th>\n",
       "      <td>NaN</td>\n",
       "      <td>2.0</td>\n",
       "      <td>3.0</td>\n",
       "      <td>NaN</td>\n",
       "      <td>NaN</td>\n",
       "      <td>1.0</td>\n",
       "      <td>NaN</td>\n",
       "      <td>NaN</td>\n",
       "      <td>1.0</td>\n",
       "      <td>3.0</td>\n",
       "      <td>...</td>\n",
       "      <td>NaN</td>\n",
       "      <td>NaN</td>\n",
       "      <td>3.0</td>\n",
       "      <td>10.0</td>\n",
       "      <td>NaN</td>\n",
       "      <td>NaN</td>\n",
       "      <td>NaN</td>\n",
       "      <td>NaN</td>\n",
       "      <td>4.0</td>\n",
       "      <td>NaN</td>\n",
       "    </tr>\n",
       "    <tr>\n",
       "      <th>gasoline</th>\n",
       "      <td>560.0</td>\n",
       "      <td>10044.0</td>\n",
       "      <td>9714.0</td>\n",
       "      <td>191.0</td>\n",
       "      <td>331.0</td>\n",
       "      <td>1411.0</td>\n",
       "      <td>182.0</td>\n",
       "      <td>1.0</td>\n",
       "      <td>4.0</td>\n",
       "      <td>1261.0</td>\n",
       "      <td>...</td>\n",
       "      <td>1518.0</td>\n",
       "      <td>1650.0</td>\n",
       "      <td>769.0</td>\n",
       "      <td>326.0</td>\n",
       "      <td>31.0</td>\n",
       "      <td>207.0</td>\n",
       "      <td>890.0</td>\n",
       "      <td>1.0</td>\n",
       "      <td>21481.0</td>\n",
       "      <td>883.0</td>\n",
       "    </tr>\n",
       "    <tr>\n",
       "      <th>hybrid</th>\n",
       "      <td>NaN</td>\n",
       "      <td>1.0</td>\n",
       "      <td>NaN</td>\n",
       "      <td>NaN</td>\n",
       "      <td>NaN</td>\n",
       "      <td>NaN</td>\n",
       "      <td>NaN</td>\n",
       "      <td>NaN</td>\n",
       "      <td>NaN</td>\n",
       "      <td>3.0</td>\n",
       "      <td>...</td>\n",
       "      <td>1.0</td>\n",
       "      <td>NaN</td>\n",
       "      <td>1.0</td>\n",
       "      <td>15.0</td>\n",
       "      <td>NaN</td>\n",
       "      <td>NaN</td>\n",
       "      <td>87.0</td>\n",
       "      <td>NaN</td>\n",
       "      <td>3.0</td>\n",
       "      <td>NaN</td>\n",
       "    </tr>\n",
       "    <tr>\n",
       "      <th>lpg</th>\n",
       "      <td>34.0</td>\n",
       "      <td>424.0</td>\n",
       "      <td>704.0</td>\n",
       "      <td>165.0</td>\n",
       "      <td>84.0</td>\n",
       "      <td>62.0</td>\n",
       "      <td>49.0</td>\n",
       "      <td>21.0</td>\n",
       "      <td>4.0</td>\n",
       "      <td>60.0</td>\n",
       "      <td>...</td>\n",
       "      <td>59.0</td>\n",
       "      <td>49.0</td>\n",
       "      <td>3.0</td>\n",
       "      <td>93.0</td>\n",
       "      <td>27.0</td>\n",
       "      <td>17.0</td>\n",
       "      <td>19.0</td>\n",
       "      <td>NaN</td>\n",
       "      <td>494.0</td>\n",
       "      <td>104.0</td>\n",
       "    </tr>\n",
       "    <tr>\n",
       "      <th>other</th>\n",
       "      <td>NaN</td>\n",
       "      <td>1.0</td>\n",
       "      <td>4.0</td>\n",
       "      <td>NaN</td>\n",
       "      <td>NaN</td>\n",
       "      <td>NaN</td>\n",
       "      <td>NaN</td>\n",
       "      <td>NaN</td>\n",
       "      <td>NaN</td>\n",
       "      <td>1.0</td>\n",
       "      <td>...</td>\n",
       "      <td>NaN</td>\n",
       "      <td>NaN</td>\n",
       "      <td>NaN</td>\n",
       "      <td>8.0</td>\n",
       "      <td>NaN</td>\n",
       "      <td>1.0</td>\n",
       "      <td>NaN</td>\n",
       "      <td>26.0</td>\n",
       "      <td>14.0</td>\n",
       "      <td>2.0</td>\n",
       "    </tr>\n",
       "    <tr>\n",
       "      <th>petrol</th>\n",
       "      <td>1272.0</td>\n",
       "      <td>12166.0</td>\n",
       "      <td>18302.0</td>\n",
       "      <td>990.0</td>\n",
       "      <td>684.0</td>\n",
       "      <td>2643.0</td>\n",
       "      <td>535.0</td>\n",
       "      <td>373.0</td>\n",
       "      <td>568.0</td>\n",
       "      <td>5980.0</td>\n",
       "      <td>...</td>\n",
       "      <td>3987.0</td>\n",
       "      <td>2871.0</td>\n",
       "      <td>3616.0</td>\n",
       "      <td>1046.0</td>\n",
       "      <td>522.0</td>\n",
       "      <td>1652.0</td>\n",
       "      <td>2842.0</td>\n",
       "      <td>214.0</td>\n",
       "      <td>37361.0</td>\n",
       "      <td>1585.0</td>\n",
       "    </tr>\n",
       "  </tbody>\n",
       "</table>\n",
       "<p>7 rows × 40 columns</p>\n",
       "</div>"
      ],
      "text/plain": [
       "              count                                                      \\\n",
       "              Price                                                       \n",
       "Brand    alfa_romeo     audi      bmw chevrolet chrysler citroen  dacia   \n",
       "FuelType                                                                  \n",
       "cng             NaN      NaN      8.0       4.0      NaN     6.0    2.0   \n",
       "electric        NaN      2.0      3.0       NaN      NaN     1.0    NaN   \n",
       "gasoline      560.0  10044.0   9714.0     191.0    331.0  1411.0  182.0   \n",
       "hybrid          NaN      1.0      NaN       NaN      NaN     NaN    NaN   \n",
       "lpg            34.0    424.0    704.0     165.0     84.0    62.0   49.0   \n",
       "other           NaN      1.0      4.0       NaN      NaN     NaN    NaN   \n",
       "petrol       1272.0  12166.0  18302.0     990.0    684.0  2643.0  535.0   \n",
       "\n",
       "                                  ...                                         \\\n",
       "                                  ...                                          \n",
       "Brand    daewoo daihatsu    fiat  ...    seat   skoda   smart sonstige_autos   \n",
       "FuelType                          ...                                          \n",
       "cng         NaN      NaN    65.0  ...     3.0     6.0     2.0            6.0   \n",
       "electric    NaN      1.0     3.0  ...     NaN     NaN     3.0           10.0   \n",
       "gasoline    1.0      4.0  1261.0  ...  1518.0  1650.0   769.0          326.0   \n",
       "hybrid      NaN      NaN     3.0  ...     1.0     NaN     1.0           15.0   \n",
       "lpg        21.0      4.0    60.0  ...    59.0    49.0     3.0           93.0   \n",
       "other       NaN      NaN     1.0  ...     NaN     NaN     NaN            8.0   \n",
       "petrol    373.0    568.0  5980.0  ...  3987.0  2871.0  3616.0         1046.0   \n",
       "\n",
       "                                                            \n",
       "                                                            \n",
       "Brand    subaru  suzuki  toyota trabant volkswagen   volvo  \n",
       "FuelType                                                    \n",
       "cng         2.0     NaN     NaN     NaN      175.0    20.0  \n",
       "electric    NaN     NaN     NaN     NaN        4.0     NaN  \n",
       "gasoline   31.0   207.0   890.0     1.0    21481.0   883.0  \n",
       "hybrid      NaN     NaN    87.0     NaN        3.0     NaN  \n",
       "lpg        27.0    17.0    19.0     NaN      494.0   104.0  \n",
       "other       NaN     1.0     NaN    26.0       14.0     2.0  \n",
       "petrol    522.0  1652.0  2842.0   214.0    37361.0  1585.0  \n",
       "\n",
       "[7 rows x 40 columns]"
      ]
     },
     "metadata": {},
     "output_type": "display_data"
    }
   ],
   "source": [
    "fuel_type_table = autos_filtred.pivot_table(index=['FuelType'], \n",
    "                                                          columns=['Brand'],\n",
    "                                                          values=['Price'],\n",
    "                                                          aggfunc=['count'])\n",
    "display(fuel_type_table)"
   ]
  },
  {
   "cell_type": "code",
   "execution_count": 16,
   "metadata": {},
   "outputs": [
    {
     "data": {
      "text/html": [
       "<div>\n",
       "<style scoped>\n",
       "    .dataframe tbody tr th:only-of-type {\n",
       "        vertical-align: middle;\n",
       "    }\n",
       "\n",
       "    .dataframe tbody tr th {\n",
       "        vertical-align: top;\n",
       "    }\n",
       "\n",
       "    .dataframe thead th {\n",
       "        text-align: right;\n",
       "    }\n",
       "</style>\n",
       "<table border=\"1\" class=\"dataframe\">\n",
       "  <thead>\n",
       "    <tr style=\"text-align: right;\">\n",
       "      <th>Brand</th>\n",
       "      <th>alfa_romeo</th>\n",
       "      <th>audi</th>\n",
       "      <th>bmw</th>\n",
       "      <th>chevrolet</th>\n",
       "      <th>chrysler</th>\n",
       "      <th>citroen</th>\n",
       "      <th>dacia</th>\n",
       "      <th>daewoo</th>\n",
       "      <th>daihatsu</th>\n",
       "      <th>fiat</th>\n",
       "      <th>...</th>\n",
       "      <th>seat</th>\n",
       "      <th>skoda</th>\n",
       "      <th>smart</th>\n",
       "      <th>sonstige_autos</th>\n",
       "      <th>subaru</th>\n",
       "      <th>suzuki</th>\n",
       "      <th>toyota</th>\n",
       "      <th>trabant</th>\n",
       "      <th>volkswagen</th>\n",
       "      <th>volvo</th>\n",
       "    </tr>\n",
       "    <tr>\n",
       "      <th>FuelType</th>\n",
       "      <th></th>\n",
       "      <th></th>\n",
       "      <th></th>\n",
       "      <th></th>\n",
       "      <th></th>\n",
       "      <th></th>\n",
       "      <th></th>\n",
       "      <th></th>\n",
       "      <th></th>\n",
       "      <th></th>\n",
       "      <th></th>\n",
       "      <th></th>\n",
       "      <th></th>\n",
       "      <th></th>\n",
       "      <th></th>\n",
       "      <th></th>\n",
       "      <th></th>\n",
       "      <th></th>\n",
       "      <th></th>\n",
       "      <th></th>\n",
       "      <th></th>\n",
       "    </tr>\n",
       "  </thead>\n",
       "  <tbody>\n",
       "    <tr>\n",
       "      <th>cng</th>\n",
       "      <td>NaN</td>\n",
       "      <td>NaN</td>\n",
       "      <td>8.0</td>\n",
       "      <td>4.0</td>\n",
       "      <td>NaN</td>\n",
       "      <td>6.0</td>\n",
       "      <td>2.0</td>\n",
       "      <td>NaN</td>\n",
       "      <td>NaN</td>\n",
       "      <td>65.0</td>\n",
       "      <td>...</td>\n",
       "      <td>3.0</td>\n",
       "      <td>6.0</td>\n",
       "      <td>2.0</td>\n",
       "      <td>6.0</td>\n",
       "      <td>2.0</td>\n",
       "      <td>NaN</td>\n",
       "      <td>NaN</td>\n",
       "      <td>NaN</td>\n",
       "      <td>175.0</td>\n",
       "      <td>20.0</td>\n",
       "    </tr>\n",
       "    <tr>\n",
       "      <th>electric</th>\n",
       "      <td>NaN</td>\n",
       "      <td>2.0</td>\n",
       "      <td>3.0</td>\n",
       "      <td>NaN</td>\n",
       "      <td>NaN</td>\n",
       "      <td>1.0</td>\n",
       "      <td>NaN</td>\n",
       "      <td>NaN</td>\n",
       "      <td>1.0</td>\n",
       "      <td>3.0</td>\n",
       "      <td>...</td>\n",
       "      <td>NaN</td>\n",
       "      <td>NaN</td>\n",
       "      <td>3.0</td>\n",
       "      <td>10.0</td>\n",
       "      <td>NaN</td>\n",
       "      <td>NaN</td>\n",
       "      <td>NaN</td>\n",
       "      <td>NaN</td>\n",
       "      <td>4.0</td>\n",
       "      <td>NaN</td>\n",
       "    </tr>\n",
       "    <tr>\n",
       "      <th>gasoline</th>\n",
       "      <td>560.0</td>\n",
       "      <td>10044.0</td>\n",
       "      <td>9714.0</td>\n",
       "      <td>191.0</td>\n",
       "      <td>331.0</td>\n",
       "      <td>1411.0</td>\n",
       "      <td>182.0</td>\n",
       "      <td>1.0</td>\n",
       "      <td>4.0</td>\n",
       "      <td>1261.0</td>\n",
       "      <td>...</td>\n",
       "      <td>1518.0</td>\n",
       "      <td>1650.0</td>\n",
       "      <td>769.0</td>\n",
       "      <td>326.0</td>\n",
       "      <td>31.0</td>\n",
       "      <td>207.0</td>\n",
       "      <td>890.0</td>\n",
       "      <td>1.0</td>\n",
       "      <td>21481.0</td>\n",
       "      <td>883.0</td>\n",
       "    </tr>\n",
       "    <tr>\n",
       "      <th>hybrid</th>\n",
       "      <td>NaN</td>\n",
       "      <td>1.0</td>\n",
       "      <td>NaN</td>\n",
       "      <td>NaN</td>\n",
       "      <td>NaN</td>\n",
       "      <td>NaN</td>\n",
       "      <td>NaN</td>\n",
       "      <td>NaN</td>\n",
       "      <td>NaN</td>\n",
       "      <td>3.0</td>\n",
       "      <td>...</td>\n",
       "      <td>1.0</td>\n",
       "      <td>NaN</td>\n",
       "      <td>1.0</td>\n",
       "      <td>15.0</td>\n",
       "      <td>NaN</td>\n",
       "      <td>NaN</td>\n",
       "      <td>87.0</td>\n",
       "      <td>NaN</td>\n",
       "      <td>3.0</td>\n",
       "      <td>NaN</td>\n",
       "    </tr>\n",
       "    <tr>\n",
       "      <th>lpg</th>\n",
       "      <td>34.0</td>\n",
       "      <td>424.0</td>\n",
       "      <td>704.0</td>\n",
       "      <td>165.0</td>\n",
       "      <td>84.0</td>\n",
       "      <td>62.0</td>\n",
       "      <td>49.0</td>\n",
       "      <td>21.0</td>\n",
       "      <td>4.0</td>\n",
       "      <td>60.0</td>\n",
       "      <td>...</td>\n",
       "      <td>59.0</td>\n",
       "      <td>49.0</td>\n",
       "      <td>3.0</td>\n",
       "      <td>93.0</td>\n",
       "      <td>27.0</td>\n",
       "      <td>17.0</td>\n",
       "      <td>19.0</td>\n",
       "      <td>NaN</td>\n",
       "      <td>494.0</td>\n",
       "      <td>104.0</td>\n",
       "    </tr>\n",
       "    <tr>\n",
       "      <th>other</th>\n",
       "      <td>NaN</td>\n",
       "      <td>1.0</td>\n",
       "      <td>4.0</td>\n",
       "      <td>NaN</td>\n",
       "      <td>NaN</td>\n",
       "      <td>NaN</td>\n",
       "      <td>NaN</td>\n",
       "      <td>NaN</td>\n",
       "      <td>NaN</td>\n",
       "      <td>1.0</td>\n",
       "      <td>...</td>\n",
       "      <td>NaN</td>\n",
       "      <td>NaN</td>\n",
       "      <td>NaN</td>\n",
       "      <td>8.0</td>\n",
       "      <td>NaN</td>\n",
       "      <td>1.0</td>\n",
       "      <td>NaN</td>\n",
       "      <td>26.0</td>\n",
       "      <td>14.0</td>\n",
       "      <td>2.0</td>\n",
       "    </tr>\n",
       "    <tr>\n",
       "      <th>petrol</th>\n",
       "      <td>1272.0</td>\n",
       "      <td>12166.0</td>\n",
       "      <td>18302.0</td>\n",
       "      <td>990.0</td>\n",
       "      <td>684.0</td>\n",
       "      <td>2643.0</td>\n",
       "      <td>535.0</td>\n",
       "      <td>373.0</td>\n",
       "      <td>568.0</td>\n",
       "      <td>5980.0</td>\n",
       "      <td>...</td>\n",
       "      <td>3987.0</td>\n",
       "      <td>2871.0</td>\n",
       "      <td>3616.0</td>\n",
       "      <td>1046.0</td>\n",
       "      <td>522.0</td>\n",
       "      <td>1652.0</td>\n",
       "      <td>2842.0</td>\n",
       "      <td>214.0</td>\n",
       "      <td>37361.0</td>\n",
       "      <td>1585.0</td>\n",
       "    </tr>\n",
       "  </tbody>\n",
       "</table>\n",
       "<p>7 rows × 40 columns</p>\n",
       "</div>"
      ],
      "text/plain": [
       "Brand     alfa_romeo     audi      bmw  chevrolet  chrysler  citroen  dacia  \\\n",
       "FuelType                                                                      \n",
       "cng              NaN      NaN      8.0        4.0       NaN      6.0    2.0   \n",
       "electric         NaN      2.0      3.0        NaN       NaN      1.0    NaN   \n",
       "gasoline       560.0  10044.0   9714.0      191.0     331.0   1411.0  182.0   \n",
       "hybrid           NaN      1.0      NaN        NaN       NaN      NaN    NaN   \n",
       "lpg             34.0    424.0    704.0      165.0      84.0     62.0   49.0   \n",
       "other            NaN      1.0      4.0        NaN       NaN      NaN    NaN   \n",
       "petrol        1272.0  12166.0  18302.0      990.0     684.0   2643.0  535.0   \n",
       "\n",
       "Brand     daewoo  daihatsu    fiat  ...    seat   skoda   smart  \\\n",
       "FuelType                            ...                           \n",
       "cng          NaN       NaN    65.0  ...     3.0     6.0     2.0   \n",
       "electric     NaN       1.0     3.0  ...     NaN     NaN     3.0   \n",
       "gasoline     1.0       4.0  1261.0  ...  1518.0  1650.0   769.0   \n",
       "hybrid       NaN       NaN     3.0  ...     1.0     NaN     1.0   \n",
       "lpg         21.0       4.0    60.0  ...    59.0    49.0     3.0   \n",
       "other        NaN       NaN     1.0  ...     NaN     NaN     NaN   \n",
       "petrol     373.0     568.0  5980.0  ...  3987.0  2871.0  3616.0   \n",
       "\n",
       "Brand     sonstige_autos  subaru  suzuki  toyota  trabant  volkswagen   volvo  \n",
       "FuelType                                                                       \n",
       "cng                  6.0     2.0     NaN     NaN      NaN       175.0    20.0  \n",
       "electric            10.0     NaN     NaN     NaN      NaN         4.0     NaN  \n",
       "gasoline           326.0    31.0   207.0   890.0      1.0     21481.0   883.0  \n",
       "hybrid              15.0     NaN     NaN    87.0      NaN         3.0     NaN  \n",
       "lpg                 93.0    27.0    17.0    19.0      NaN       494.0   104.0  \n",
       "other                8.0     NaN     1.0     NaN     26.0        14.0     2.0  \n",
       "petrol            1046.0   522.0  1652.0  2842.0    214.0     37361.0  1585.0  \n",
       "\n",
       "[7 rows x 40 columns]"
      ]
     },
     "execution_count": 16,
     "metadata": {},
     "output_type": "execute_result"
    }
   ],
   "source": [
    "autos_filtred.fillna({'FuelType':0},inplace=True)\n",
    "fuel_type_table = fuel_type_table['count']['Price']\n",
    "fuel_type_table"
   ]
  },
  {
   "cell_type": "code",
   "execution_count": 17,
   "metadata": {},
   "outputs": [],
   "source": [
    "def type_inputer(row, row_number, type_table):\n",
    "    brand = row[5]\n",
    "    fill_value = row[row_number]\n",
    "    if row[row_number] == 0:\n",
    "        fill_value = type_table[brand].idxmax()\n",
    "    return fill_value"
   ]
  },
  {
   "cell_type": "code",
   "execution_count": 18,
   "metadata": {},
   "outputs": [
    {
     "data": {
      "text/plain": [
       "0"
      ]
     },
     "metadata": {},
     "output_type": "display_data"
    },
    {
     "data": {
      "text/plain": [
       "petrol      205528\n",
       "gasoline     82098\n",
       "lpg           4715\n",
       "cng            498\n",
       "hybrid         169\n",
       "other           89\n",
       "electric        65\n",
       "Name: FuelType, dtype: int64"
      ]
     },
     "execution_count": 18,
     "metadata": {},
     "output_type": "execute_result"
    }
   ],
   "source": [
    "autos_filtred['FuelType'] = autos_filtred.apply(type_inputer, args=[4, fuel_type_table], axis=1)\n",
    "display(autos_filtred['FuelType'].isna().sum())\n",
    "autos_filtred['FuelType'].value_counts()"
   ]
  },
  {
   "cell_type": "markdown",
   "metadata": {},
   "source": [
    "**VehicleType**"
   ]
  },
  {
   "cell_type": "markdown",
   "metadata": {},
   "source": [
    "Воспользуемся тем же методом заполнения пропусков."
   ]
  },
  {
   "cell_type": "code",
   "execution_count": 19,
   "metadata": {},
   "outputs": [
    {
     "data": {
      "text/plain": [
       "sedan          79336\n",
       "small          69603\n",
       "wagon          56610\n",
       "bus            24920\n",
       "convertible    17006\n",
       "coupe          13099\n",
       "suv             9104\n",
       "other           2416\n",
       "Name: VehicleType, dtype: int64"
      ]
     },
     "metadata": {},
     "output_type": "display_data"
    },
    {
     "data": {
      "text/plain": [
       "21068"
      ]
     },
     "execution_count": 19,
     "metadata": {},
     "output_type": "execute_result"
    }
   ],
   "source": [
    "display(autos_filtred['VehicleType'].value_counts())\n",
    "autos_filtred['VehicleType'].isna().sum()"
   ]
  },
  {
   "cell_type": "code",
   "execution_count": 20,
   "metadata": {},
   "outputs": [],
   "source": [
    "vehicle_type_table = autos_filtred.pivot_table(index=['VehicleType'], \n",
    "                                                          columns=['Brand'],\n",
    "                                                          values=['Price'],\n",
    "                                                          aggfunc=['count'])"
   ]
  },
  {
   "cell_type": "code",
   "execution_count": 21,
   "metadata": {},
   "outputs": [
    {
     "data": {
      "text/html": [
       "<div>\n",
       "<style scoped>\n",
       "    .dataframe tbody tr th:only-of-type {\n",
       "        vertical-align: middle;\n",
       "    }\n",
       "\n",
       "    .dataframe tbody tr th {\n",
       "        vertical-align: top;\n",
       "    }\n",
       "\n",
       "    .dataframe thead th {\n",
       "        text-align: right;\n",
       "    }\n",
       "</style>\n",
       "<table border=\"1\" class=\"dataframe\">\n",
       "  <thead>\n",
       "    <tr style=\"text-align: right;\">\n",
       "      <th>Brand</th>\n",
       "      <th>alfa_romeo</th>\n",
       "      <th>audi</th>\n",
       "      <th>bmw</th>\n",
       "      <th>chevrolet</th>\n",
       "      <th>chrysler</th>\n",
       "      <th>citroen</th>\n",
       "      <th>dacia</th>\n",
       "      <th>daewoo</th>\n",
       "      <th>daihatsu</th>\n",
       "      <th>fiat</th>\n",
       "      <th>...</th>\n",
       "      <th>seat</th>\n",
       "      <th>skoda</th>\n",
       "      <th>smart</th>\n",
       "      <th>sonstige_autos</th>\n",
       "      <th>subaru</th>\n",
       "      <th>suzuki</th>\n",
       "      <th>toyota</th>\n",
       "      <th>trabant</th>\n",
       "      <th>volkswagen</th>\n",
       "      <th>volvo</th>\n",
       "    </tr>\n",
       "    <tr>\n",
       "      <th>VehicleType</th>\n",
       "      <th></th>\n",
       "      <th></th>\n",
       "      <th></th>\n",
       "      <th></th>\n",
       "      <th></th>\n",
       "      <th></th>\n",
       "      <th></th>\n",
       "      <th></th>\n",
       "      <th></th>\n",
       "      <th></th>\n",
       "      <th></th>\n",
       "      <th></th>\n",
       "      <th></th>\n",
       "      <th></th>\n",
       "      <th></th>\n",
       "      <th></th>\n",
       "      <th></th>\n",
       "      <th></th>\n",
       "      <th></th>\n",
       "      <th></th>\n",
       "      <th></th>\n",
       "    </tr>\n",
       "  </thead>\n",
       "  <tbody>\n",
       "    <tr>\n",
       "      <th>bus</th>\n",
       "      <td>NaN</td>\n",
       "      <td>9.0</td>\n",
       "      <td>4.0</td>\n",
       "      <td>137.0</td>\n",
       "      <td>370.0</td>\n",
       "      <td>1139.0</td>\n",
       "      <td>43.0</td>\n",
       "      <td>25.0</td>\n",
       "      <td>32.0</td>\n",
       "      <td>713.0</td>\n",
       "      <td>...</td>\n",
       "      <td>564.0</td>\n",
       "      <td>223.0</td>\n",
       "      <td>NaN</td>\n",
       "      <td>147.0</td>\n",
       "      <td>15.0</td>\n",
       "      <td>25.0</td>\n",
       "      <td>409.0</td>\n",
       "      <td>NaN</td>\n",
       "      <td>8046.0</td>\n",
       "      <td>NaN</td>\n",
       "    </tr>\n",
       "    <tr>\n",
       "      <th>convertible</th>\n",
       "      <td>150.0</td>\n",
       "      <td>1313.0</td>\n",
       "      <td>2623.0</td>\n",
       "      <td>9.0</td>\n",
       "      <td>198.0</td>\n",
       "      <td>96.0</td>\n",
       "      <td>NaN</td>\n",
       "      <td>1.0</td>\n",
       "      <td>16.0</td>\n",
       "      <td>450.0</td>\n",
       "      <td>...</td>\n",
       "      <td>NaN</td>\n",
       "      <td>3.0</td>\n",
       "      <td>1050.0</td>\n",
       "      <td>228.0</td>\n",
       "      <td>1.0</td>\n",
       "      <td>27.0</td>\n",
       "      <td>60.0</td>\n",
       "      <td>30.0</td>\n",
       "      <td>2482.0</td>\n",
       "      <td>64.0</td>\n",
       "    </tr>\n",
       "    <tr>\n",
       "      <th>coupe</th>\n",
       "      <td>214.0</td>\n",
       "      <td>1020.0</td>\n",
       "      <td>3111.0</td>\n",
       "      <td>61.0</td>\n",
       "      <td>41.0</td>\n",
       "      <td>133.0</td>\n",
       "      <td>NaN</td>\n",
       "      <td>5.0</td>\n",
       "      <td>NaN</td>\n",
       "      <td>146.0</td>\n",
       "      <td>...</td>\n",
       "      <td>73.0</td>\n",
       "      <td>6.0</td>\n",
       "      <td>294.0</td>\n",
       "      <td>137.0</td>\n",
       "      <td>4.0</td>\n",
       "      <td>6.0</td>\n",
       "      <td>191.0</td>\n",
       "      <td>3.0</td>\n",
       "      <td>1395.0</td>\n",
       "      <td>64.0</td>\n",
       "    </tr>\n",
       "    <tr>\n",
       "      <th>other</th>\n",
       "      <td>11.0</td>\n",
       "      <td>85.0</td>\n",
       "      <td>206.0</td>\n",
       "      <td>30.0</td>\n",
       "      <td>7.0</td>\n",
       "      <td>95.0</td>\n",
       "      <td>6.0</td>\n",
       "      <td>4.0</td>\n",
       "      <td>7.0</td>\n",
       "      <td>141.0</td>\n",
       "      <td>...</td>\n",
       "      <td>48.0</td>\n",
       "      <td>18.0</td>\n",
       "      <td>4.0</td>\n",
       "      <td>104.0</td>\n",
       "      <td>4.0</td>\n",
       "      <td>11.0</td>\n",
       "      <td>14.0</td>\n",
       "      <td>2.0</td>\n",
       "      <td>617.0</td>\n",
       "      <td>4.0</td>\n",
       "    </tr>\n",
       "    <tr>\n",
       "      <th>sedan</th>\n",
       "      <td>838.0</td>\n",
       "      <td>9363.0</td>\n",
       "      <td>15255.0</td>\n",
       "      <td>194.0</td>\n",
       "      <td>240.0</td>\n",
       "      <td>619.0</td>\n",
       "      <td>95.0</td>\n",
       "      <td>91.0</td>\n",
       "      <td>39.0</td>\n",
       "      <td>783.0</td>\n",
       "      <td>...</td>\n",
       "      <td>1554.0</td>\n",
       "      <td>792.0</td>\n",
       "      <td>27.0</td>\n",
       "      <td>341.0</td>\n",
       "      <td>144.0</td>\n",
       "      <td>161.0</td>\n",
       "      <td>812.0</td>\n",
       "      <td>137.0</td>\n",
       "      <td>17361.0</td>\n",
       "      <td>578.0</td>\n",
       "    </tr>\n",
       "    <tr>\n",
       "      <th>small</th>\n",
       "      <td>219.0</td>\n",
       "      <td>1189.0</td>\n",
       "      <td>372.0</td>\n",
       "      <td>529.0</td>\n",
       "      <td>10.0</td>\n",
       "      <td>1424.0</td>\n",
       "      <td>214.0</td>\n",
       "      <td>217.0</td>\n",
       "      <td>440.0</td>\n",
       "      <td>4655.0</td>\n",
       "      <td>...</td>\n",
       "      <td>2852.0</td>\n",
       "      <td>1049.0</td>\n",
       "      <td>2977.0</td>\n",
       "      <td>172.0</td>\n",
       "      <td>107.0</td>\n",
       "      <td>887.0</td>\n",
       "      <td>1450.0</td>\n",
       "      <td>48.0</td>\n",
       "      <td>16240.0</td>\n",
       "      <td>6.0</td>\n",
       "    </tr>\n",
       "    <tr>\n",
       "      <th>suv</th>\n",
       "      <td>NaN</td>\n",
       "      <td>104.0</td>\n",
       "      <td>566.0</td>\n",
       "      <td>299.0</td>\n",
       "      <td>19.0</td>\n",
       "      <td>32.0</td>\n",
       "      <td>192.0</td>\n",
       "      <td>1.0</td>\n",
       "      <td>41.0</td>\n",
       "      <td>23.0</td>\n",
       "      <td>...</td>\n",
       "      <td>3.0</td>\n",
       "      <td>124.0</td>\n",
       "      <td>NaN</td>\n",
       "      <td>306.0</td>\n",
       "      <td>52.0</td>\n",
       "      <td>677.0</td>\n",
       "      <td>369.0</td>\n",
       "      <td>1.0</td>\n",
       "      <td>895.0</td>\n",
       "      <td>156.0</td>\n",
       "    </tr>\n",
       "    <tr>\n",
       "      <th>wagon</th>\n",
       "      <td>428.0</td>\n",
       "      <td>9530.0</td>\n",
       "      <td>6871.0</td>\n",
       "      <td>98.0</td>\n",
       "      <td>225.0</td>\n",
       "      <td>551.0</td>\n",
       "      <td>228.0</td>\n",
       "      <td>44.0</td>\n",
       "      <td>14.0</td>\n",
       "      <td>382.0</td>\n",
       "      <td>...</td>\n",
       "      <td>341.0</td>\n",
       "      <td>2374.0</td>\n",
       "      <td>9.0</td>\n",
       "      <td>95.0</td>\n",
       "      <td>265.0</td>\n",
       "      <td>77.0</td>\n",
       "      <td>503.0</td>\n",
       "      <td>51.0</td>\n",
       "      <td>11123.0</td>\n",
       "      <td>1758.0</td>\n",
       "    </tr>\n",
       "  </tbody>\n",
       "</table>\n",
       "<p>8 rows × 40 columns</p>\n",
       "</div>"
      ],
      "text/plain": [
       "Brand        alfa_romeo    audi      bmw  chevrolet  chrysler  citroen  dacia  \\\n",
       "VehicleType                                                                     \n",
       "bus                 NaN     9.0      4.0      137.0     370.0   1139.0   43.0   \n",
       "convertible       150.0  1313.0   2623.0        9.0     198.0     96.0    NaN   \n",
       "coupe             214.0  1020.0   3111.0       61.0      41.0    133.0    NaN   \n",
       "other              11.0    85.0    206.0       30.0       7.0     95.0    6.0   \n",
       "sedan             838.0  9363.0  15255.0      194.0     240.0    619.0   95.0   \n",
       "small             219.0  1189.0    372.0      529.0      10.0   1424.0  214.0   \n",
       "suv                 NaN   104.0    566.0      299.0      19.0     32.0  192.0   \n",
       "wagon             428.0  9530.0   6871.0       98.0     225.0    551.0  228.0   \n",
       "\n",
       "Brand        daewoo  daihatsu    fiat  ...    seat   skoda   smart  \\\n",
       "VehicleType                            ...                           \n",
       "bus            25.0      32.0   713.0  ...   564.0   223.0     NaN   \n",
       "convertible     1.0      16.0   450.0  ...     NaN     3.0  1050.0   \n",
       "coupe           5.0       NaN   146.0  ...    73.0     6.0   294.0   \n",
       "other           4.0       7.0   141.0  ...    48.0    18.0     4.0   \n",
       "sedan          91.0      39.0   783.0  ...  1554.0   792.0    27.0   \n",
       "small         217.0     440.0  4655.0  ...  2852.0  1049.0  2977.0   \n",
       "suv             1.0      41.0    23.0  ...     3.0   124.0     NaN   \n",
       "wagon          44.0      14.0   382.0  ...   341.0  2374.0     9.0   \n",
       "\n",
       "Brand        sonstige_autos  subaru  suzuki  toyota  trabant  volkswagen  \\\n",
       "VehicleType                                                                \n",
       "bus                   147.0    15.0    25.0   409.0      NaN      8046.0   \n",
       "convertible           228.0     1.0    27.0    60.0     30.0      2482.0   \n",
       "coupe                 137.0     4.0     6.0   191.0      3.0      1395.0   \n",
       "other                 104.0     4.0    11.0    14.0      2.0       617.0   \n",
       "sedan                 341.0   144.0   161.0   812.0    137.0     17361.0   \n",
       "small                 172.0   107.0   887.0  1450.0     48.0     16240.0   \n",
       "suv                   306.0    52.0   677.0   369.0      1.0       895.0   \n",
       "wagon                  95.0   265.0    77.0   503.0     51.0     11123.0   \n",
       "\n",
       "Brand         volvo  \n",
       "VehicleType          \n",
       "bus             NaN  \n",
       "convertible    64.0  \n",
       "coupe          64.0  \n",
       "other           4.0  \n",
       "sedan         578.0  \n",
       "small           6.0  \n",
       "suv           156.0  \n",
       "wagon        1758.0  \n",
       "\n",
       "[8 rows x 40 columns]"
      ]
     },
     "execution_count": 21,
     "metadata": {},
     "output_type": "execute_result"
    }
   ],
   "source": [
    "autos_filtred.fillna({'VehicleType':0},inplace=True)\n",
    "vehicle_type_table = vehicle_type_table['count']['Price']\n",
    "vehicle_type_table"
   ]
  },
  {
   "cell_type": "code",
   "execution_count": 22,
   "metadata": {},
   "outputs": [
    {
     "data": {
      "text/plain": [
       "0"
      ]
     },
     "metadata": {},
     "output_type": "display_data"
    },
    {
     "data": {
      "text/plain": [
       "sedan          89232\n",
       "small          78792\n",
       "wagon          58481\n",
       "bus            24976\n",
       "convertible    17023\n",
       "coupe          13099\n",
       "suv             9143\n",
       "other           2416\n",
       "Name: VehicleType, dtype: int64"
      ]
     },
     "execution_count": 22,
     "metadata": {},
     "output_type": "execute_result"
    }
   ],
   "source": [
    "autos_filtred['VehicleType'] = autos_filtred.apply(type_inputer, args=[0, vehicle_type_table], axis=1)\n",
    "display(autos_filtred['VehicleType'].isna().sum())\n",
    "autos_filtred['VehicleType'].value_counts()"
   ]
  },
  {
   "cell_type": "markdown",
   "metadata": {},
   "source": [
    "**Вывод**"
   ]
  },
  {
   "cell_type": "code",
   "execution_count": 23,
   "metadata": {},
   "outputs": [
    {
     "name": "stdout",
     "output_type": "stream",
     "text": [
      "<class 'pandas.core.frame.DataFrame'>\n",
      "Int64Index: 293162 entries, 2 to 354368\n",
      "Data columns (total 10 columns):\n",
      " #   Column            Non-Null Count   Dtype \n",
      "---  ------            --------------   ----- \n",
      " 0   VehicleType       293162 non-null  object\n",
      " 1   Power             293162 non-null  int64 \n",
      " 2   Kilometer         293162 non-null  int64 \n",
      " 3   FuelType          293162 non-null  object\n",
      " 4   Brand             293162 non-null  object\n",
      " 5   RegistrationYear  293162 non-null  int64 \n",
      " 6   Model             293162 non-null  object\n",
      " 7   Price             293162 non-null  int64 \n",
      " 8   IsManualGearbox   293162 non-null  int64 \n",
      " 9   IsNotRepaired     293162 non-null  int64 \n",
      "dtypes: int64(6), object(4)\n",
      "memory usage: 24.6+ MB\n"
     ]
    }
   ],
   "source": [
    "autos_filtred.drop(['NotRepaired','Gearbox'], inplace=True, axis=1)\n",
    "autos_filtred.info()"
   ]
  },
  {
   "cell_type": "code",
   "execution_count": 24,
   "metadata": {},
   "outputs": [
    {
     "data": {
      "text/plain": [
       "VehicleType         0.0\n",
       "Power               0.0\n",
       "Kilometer           0.0\n",
       "FuelType            0.0\n",
       "Brand               0.0\n",
       "RegistrationYear    0.0\n",
       "Model               0.0\n",
       "Price               0.0\n",
       "IsManualGearbox     0.0\n",
       "IsNotRepaired       0.0\n",
       "dtype: float64"
      ]
     },
     "execution_count": 24,
     "metadata": {},
     "output_type": "execute_result"
    }
   ],
   "source": [
    "autos_filtred.isna().mean()"
   ]
  },
  {
   "cell_type": "markdown",
   "metadata": {},
   "source": [
    "Все пропуски были заполнены, отобраны необходимые столбцы.  \n",
    "При удалении выбросов был утрачен значимый процент данных, в данном случае такой шаг можно оправдать значительным ухудшением качества моделей под влиянием этих выбросов. Но, в целом, это не очень хорошо, и поэтому, если модель покажет плохие результаты, будет иметь смысл уменьшить объем объектов, идентифицируемых как выбросы. "
   ]
  },
  {
   "cell_type": "markdown",
   "metadata": {},
   "source": [
    "## Обучение моделей"
   ]
  },
  {
   "cell_type": "markdown",
   "metadata": {},
   "source": [
    "### Признаки"
   ]
  },
  {
   "cell_type": "markdown",
   "metadata": {},
   "source": [
    "Необходимо подготовить три различных типа признаков: неизмененные, закодированные OE, закодированные OHE. "
   ]
  },
  {
   "cell_type": "code",
   "execution_count": 25,
   "metadata": {},
   "outputs": [],
   "source": [
    "#Целевой признак\n",
    "target = autos_filtred['Price']"
   ]
  },
  {
   "cell_type": "code",
   "execution_count": 26,
   "metadata": {},
   "outputs": [],
   "source": [
    "#Неизмененные\n",
    "original_features = autos_filtred.drop('Price', axis=1)\n",
    "\n",
    "original_features_train, original_features_test, target_train, target_test = train_test_split(\n",
    "    original_features, target, test_size=0.25, random_state=12345)"
   ]
  },
  {
   "cell_type": "code",
   "execution_count": 27,
   "metadata": {},
   "outputs": [],
   "source": [
    "#OE кодирование\n",
    "encoder = OrdinalEncoder()\n",
    "cat_columns = ['VehicleType','FuelType','Brand','Model']\n",
    "cat_features = original_features[cat_columns]\n",
    "cat_features = pd.DataFrame(encoder.fit_transform(cat_features), columns=cat_features.columns, index=cat_features.index)\n",
    "ordinal_features = original_features.copy()\n",
    "for column in cat_columns:\n",
    "    ordinal_features[column] = cat_features[column]\n",
    "    \n",
    "    \n",
    "ordinal_features_train = ordinal_features.loc[original_features_train.index, :]\n",
    "ordinal_features_test = ordinal_features.loc[original_features_test.index, :]"
   ]
  },
  {
   "cell_type": "code",
   "execution_count": 28,
   "metadata": {},
   "outputs": [],
   "source": [
    "#OHE кодирование\n",
    "ohe_features = pd.get_dummies(original_features, drop_first=True)\n",
    "\n",
    "ohe_features_train = ohe_features.loc[original_features_train.index, :]\n",
    "ohe_features_test = ohe_features.loc[original_features_test.index, :]"
   ]
  },
  {
   "cell_type": "markdown",
   "metadata": {},
   "source": [
    "### CatBoostRegressor"
   ]
  },
  {
   "cell_type": "markdown",
   "metadata": {},
   "source": [
    "- Обучим модель на данных, закодированных по методу OE.\n",
    "- Обучим на оригинальных данных с указанием категорий."
   ]
  },
  {
   "cell_type": "code",
   "execution_count": 29,
   "metadata": {},
   "outputs": [
    {
     "name": "stdout",
     "output_type": "stream",
     "text": [
      "___Tuning hyper-parameters for RMSE___\n",
      "\n",
      "Best parameters set: {'learning_rate': 0.5, 'random_state': 123456, 'verbose': False}\n",
      "\n",
      "Grid scores (development set):\n",
      "1410.24223 for {'learning_rate': 0.2, 'random_state': 123456, 'verbose': False}\n",
      "1405.95477 for {'learning_rate': 0.5, 'random_state': 123456, 'verbose': False}\n",
      "1420.62752 for {'learning_rate': 0.7, 'random_state': 123456, 'verbose': False}\n",
      "\n",
      "Wall time: 2min 8s\n"
     ]
    }
   ],
   "source": [
    "%%time\n",
    "\n",
    "regressor = CatBoostRegressor() \n",
    "hyperparams = [{'learning_rate':[0.2, 0.5, 0.7], 'random_state':[123456], 'verbose':[False]}]\n",
    "print('___Tuning hyper-parameters for RMSE___')\n",
    "print()\n",
    "\n",
    "clf = GridSearchCV(regressor, hyperparams, scoring='neg_mean_squared_error')\n",
    "clf.fit(ordinal_features_train, target_train)\n",
    "print(\"Best parameters set:\", clf.best_params_)\n",
    "print()\n",
    "\n",
    "print(\"Grid scores (development set):\")\n",
    "means = clf.cv_results_['mean_test_score']\n",
    "stds = clf.cv_results_['std_test_score']\n",
    "for mean, std, params in zip(means, stds, clf.cv_results_['params']):\n",
    "    print(\"%0.5f for %r\"% ((mean*-1)** 0.5, params))\n",
    "print()\n",
    "\n",
    "CBR_ordinal_RMSE = (max(means)*-1) ** 0.5"
   ]
  },
  {
   "cell_type": "code",
   "execution_count": 30,
   "metadata": {},
   "outputs": [
    {
     "name": "stdout",
     "output_type": "stream",
     "text": [
      "___Train for RMSE___\n",
      "\n",
      "Mean RMSE from CV of CatBoostRegressor = 1439.6484683074546\n",
      "Wall time: 1min 4s\n"
     ]
    }
   ],
   "source": [
    "%%time\n",
    "regressor = CatBoostRegressor(learning_rate=0.5, iterations = 250, random_state=123456, verbose=False, \n",
    "                              cat_features=['VehicleType','FuelType','Brand','Model']) \n",
    "print('___Train for RMSE___')\n",
    "print()\n",
    "\n",
    "CBR_original_RMSE = (cross_val_score(regressor, original_features_train, target_train, cv=5, \n",
    "                                scoring='neg_mean_squared_error').mean() * -1) ** 0.5\n",
    "\n",
    "print('Mean RMSE from CV of CatBoostRegressor =', CBR_original_RMSE)"
   ]
  },
  {
   "cell_type": "markdown",
   "metadata": {},
   "source": [
    "### LGBMRegressor"
   ]
  },
  {
   "cell_type": "code",
   "execution_count": 31,
   "metadata": {},
   "outputs": [
    {
     "name": "stdout",
     "output_type": "stream",
     "text": [
      "___Tuning hyper-parameters for RMSE___\n",
      "\n",
      "Best parameters set: {'learning_rate': 0.3, 'num_leaves': 200, 'random_state': 123456}\n",
      "\n",
      "Grid scores (development set):\n",
      "1472.18543 for {'learning_rate': 0.1, 'num_leaves': 50, 'random_state': 123456}\n",
      "1434.85849 for {'learning_rate': 0.1, 'num_leaves': 100, 'random_state': 123456}\n",
      "1404.34540 for {'learning_rate': 0.1, 'num_leaves': 200, 'random_state': 123456}\n",
      "1428.90676 for {'learning_rate': 0.3, 'num_leaves': 50, 'random_state': 123456}\n",
      "1407.64514 for {'learning_rate': 0.3, 'num_leaves': 100, 'random_state': 123456}\n",
      "1396.18358 for {'learning_rate': 0.3, 'num_leaves': 200, 'random_state': 123456}\n",
      "1434.96419 for {'learning_rate': 0.5, 'num_leaves': 50, 'random_state': 123456}\n",
      "1422.48956 for {'learning_rate': 0.5, 'num_leaves': 100, 'random_state': 123456}\n",
      "1422.47606 for {'learning_rate': 0.5, 'num_leaves': 200, 'random_state': 123456}\n",
      "\n",
      "Wall time: 20 s\n"
     ]
    }
   ],
   "source": [
    "%%time\n",
    "regressor = LGBMRegressor() \n",
    "hyperparams = [{'num_leaves':[50, 100, 200], 'learning_rate':[0.1, 0.3, 0.5], 'random_state':[123456]}]\n",
    "print('___Tuning hyper-parameters for RMSE___')\n",
    "print()\n",
    "\n",
    "clf = GridSearchCV(regressor, hyperparams, scoring='neg_mean_squared_error')\n",
    "clf.fit(ordinal_features_train, target_train)\n",
    "print(\"Best parameters set:\", clf.best_params_)\n",
    "print()\n",
    "\n",
    "print(\"Grid scores (development set):\")\n",
    "means = clf.cv_results_['mean_test_score']\n",
    "stds = clf.cv_results_['std_test_score']\n",
    "for mean, std, params in zip(means, stds, clf.cv_results_['params']):\n",
    "    print(\"%0.5f for %r\"% ((mean*-1)** 0.5, params))\n",
    "print()\n",
    "\n",
    "LGBMR_RMSE = (max(means)*-1) ** 0.5"
   ]
  },
  {
   "cell_type": "markdown",
   "metadata": {},
   "source": [
    "### LinearRegression"
   ]
  },
  {
   "cell_type": "markdown",
   "metadata": {},
   "source": [
    "Необходимо сравнить результаты градиентного бустинга с простыми моделями. Для начала возьмем линейную регрессию."
   ]
  },
  {
   "cell_type": "code",
   "execution_count": 32,
   "metadata": {},
   "outputs": [
    {
     "name": "stdout",
     "output_type": "stream",
     "text": [
      "___Train RMSE___\n",
      "\n",
      "Mean RMSE from CV of LinearRegression = 2387.5179753004336\n",
      "Wall time: 10.5 s\n"
     ]
    }
   ],
   "source": [
    "%%time\n",
    "regressor = LinearRegression()\n",
    "print('___Train RMSE___')\n",
    "print()\n",
    "\n",
    "LR_RMSE = (cross_val_score(regressor, ohe_features_train, target_train, cv=5, \n",
    "                             scoring='neg_mean_squared_error').mean() * -1) ** 0.5\n",
    "\n",
    "print('Mean RMSE from CV of LinearRegression =', LR_RMSE)"
   ]
  },
  {
   "cell_type": "markdown",
   "metadata": {},
   "source": [
    "Попробуем масштабировать данные."
   ]
  },
  {
   "cell_type": "code",
   "execution_count": 33,
   "metadata": {},
   "outputs": [
    {
     "name": "stdout",
     "output_type": "stream",
     "text": [
      "___Train RMSE___\n",
      "\n",
      "Mean RMSE from CV of LinearRegression = 6290952338458.871\n",
      "Wall time: 17.5 s\n"
     ]
    }
   ],
   "source": [
    "%%time\n",
    "\n",
    "regressor = LinearRegression()\n",
    "scaller = StandardScaler()\n",
    "pipeline = Pipeline([(\"standard_scaller\", scaller),(\"linear_regression\", regressor)])\n",
    "print('___Train RMSE___')\n",
    "print()\n",
    "\n",
    "LR_RMSE_S = (cross_val_score(pipeline, ohe_features_train, target_train, cv=5, \n",
    "                                scoring='neg_mean_squared_error').mean() * -1) ** 0.5\n",
    "\n",
    "print('Mean RMSE from CV of LinearRegression =', LR_RMSE_S)"
   ]
  },
  {
   "cell_type": "markdown",
   "metadata": {},
   "source": [
    "Масштабирование очень сильно ухудшило ситуацию, не будем использовать."
   ]
  },
  {
   "cell_type": "markdown",
   "metadata": {},
   "source": [
    "### Ridge"
   ]
  },
  {
   "cell_type": "markdown",
   "metadata": {},
   "source": [
    "Гребневую регрессию в данном случае, тоже используем в качестве более простой модели для сравнения. "
   ]
  },
  {
   "cell_type": "code",
   "execution_count": 34,
   "metadata": {},
   "outputs": [
    {
     "data": {
      "text/html": [
       "<div>\n",
       "<style scoped>\n",
       "    .dataframe tbody tr th:only-of-type {\n",
       "        vertical-align: middle;\n",
       "    }\n",
       "\n",
       "    .dataframe tbody tr th {\n",
       "        vertical-align: top;\n",
       "    }\n",
       "\n",
       "    .dataframe thead th {\n",
       "        text-align: right;\n",
       "    }\n",
       "</style>\n",
       "<table border=\"1\" class=\"dataframe\">\n",
       "  <thead>\n",
       "    <tr style=\"text-align: right;\">\n",
       "      <th></th>\n",
       "      <th>Power</th>\n",
       "      <th>Kilometer</th>\n",
       "      <th>RegistrationYear</th>\n",
       "      <th>Price</th>\n",
       "      <th>IsManualGearbox</th>\n",
       "      <th>IsNotRepaired</th>\n",
       "    </tr>\n",
       "  </thead>\n",
       "  <tbody>\n",
       "    <tr>\n",
       "      <th>Power</th>\n",
       "      <td>1.000000</td>\n",
       "      <td>0.105573</td>\n",
       "      <td>0.054149</td>\n",
       "      <td>0.339301</td>\n",
       "      <td>-0.305452</td>\n",
       "      <td>-0.040135</td>\n",
       "    </tr>\n",
       "    <tr>\n",
       "      <th>Kilometer</th>\n",
       "      <td>0.105573</td>\n",
       "      <td>1.000000</td>\n",
       "      <td>-0.220189</td>\n",
       "      <td>-0.336609</td>\n",
       "      <td>-0.028565</td>\n",
       "      <td>0.093314</td>\n",
       "    </tr>\n",
       "    <tr>\n",
       "      <th>RegistrationYear</th>\n",
       "      <td>0.054149</td>\n",
       "      <td>-0.220189</td>\n",
       "      <td>1.000000</td>\n",
       "      <td>0.412429</td>\n",
       "      <td>-0.010370</td>\n",
       "      <td>-0.079961</td>\n",
       "    </tr>\n",
       "    <tr>\n",
       "      <th>Price</th>\n",
       "      <td>0.339301</td>\n",
       "      <td>-0.336609</td>\n",
       "      <td>0.412429</td>\n",
       "      <td>1.000000</td>\n",
       "      <td>-0.221828</td>\n",
       "      <td>-0.260767</td>\n",
       "    </tr>\n",
       "    <tr>\n",
       "      <th>IsManualGearbox</th>\n",
       "      <td>-0.305452</td>\n",
       "      <td>-0.028565</td>\n",
       "      <td>-0.010370</td>\n",
       "      <td>-0.221828</td>\n",
       "      <td>1.000000</td>\n",
       "      <td>0.034961</td>\n",
       "    </tr>\n",
       "    <tr>\n",
       "      <th>IsNotRepaired</th>\n",
       "      <td>-0.040135</td>\n",
       "      <td>0.093314</td>\n",
       "      <td>-0.079961</td>\n",
       "      <td>-0.260767</td>\n",
       "      <td>0.034961</td>\n",
       "      <td>1.000000</td>\n",
       "    </tr>\n",
       "  </tbody>\n",
       "</table>\n",
       "</div>"
      ],
      "text/plain": [
       "                     Power  Kilometer  RegistrationYear     Price  \\\n",
       "Power             1.000000   0.105573          0.054149  0.339301   \n",
       "Kilometer         0.105573   1.000000         -0.220189 -0.336609   \n",
       "RegistrationYear  0.054149  -0.220189          1.000000  0.412429   \n",
       "Price             0.339301  -0.336609          0.412429  1.000000   \n",
       "IsManualGearbox  -0.305452  -0.028565         -0.010370 -0.221828   \n",
       "IsNotRepaired    -0.040135   0.093314         -0.079961 -0.260767   \n",
       "\n",
       "                  IsManualGearbox  IsNotRepaired  \n",
       "Power                   -0.305452      -0.040135  \n",
       "Kilometer               -0.028565       0.093314  \n",
       "RegistrationYear        -0.010370      -0.079961  \n",
       "Price                   -0.221828      -0.260767  \n",
       "IsManualGearbox          1.000000       0.034961  \n",
       "IsNotRepaired            0.034961       1.000000  "
      ]
     },
     "execution_count": 34,
     "metadata": {},
     "output_type": "execute_result"
    }
   ],
   "source": [
    "autos_filtred.corr()"
   ]
  },
  {
   "cell_type": "code",
   "execution_count": 35,
   "metadata": {},
   "outputs": [
    {
     "name": "stdout",
     "output_type": "stream",
     "text": [
      "___Train hyper-parameters for RMSE___\n",
      "\n",
      "Best parameters set: {'alpha': 1, 'solver': 'auto'}\n",
      "\n",
      "Grid scores (development set):\n",
      "2387.48290 for {'alpha': 0.1, 'solver': 'auto'}\n",
      "2387.38130 for {'alpha': 1, 'solver': 'auto'}\n",
      "2388.19192 for {'alpha': 10, 'solver': 'auto'}\n",
      "2403.68841 for {'alpha': 100, 'solver': 'auto'}\n",
      "2387.48290 for {'alpha': 0.1, 'solver': 'svd'}\n",
      "2387.38130 for {'alpha': 1, 'solver': 'svd'}\n",
      "2388.19192 for {'alpha': 10, 'solver': 'svd'}\n",
      "2403.68841 for {'alpha': 100, 'solver': 'svd'}\n",
      "2387.48290 for {'alpha': 0.1, 'solver': 'cholesky'}\n",
      "2387.38130 for {'alpha': 1, 'solver': 'cholesky'}\n",
      "2388.19192 for {'alpha': 10, 'solver': 'cholesky'}\n",
      "2403.68841 for {'alpha': 100, 'solver': 'cholesky'}\n",
      "3503.84952 for {'alpha': 0.1, 'solver': 'lsqr'}\n",
      "3503.84952 for {'alpha': 1, 'solver': 'lsqr'}\n",
      "3503.84952 for {'alpha': 10, 'solver': 'lsqr'}\n",
      "3503.84952 for {'alpha': 100, 'solver': 'lsqr'}\n",
      "3203.49431 for {'alpha': 0.1, 'solver': 'sparse_cg'}\n",
      "3203.49431 for {'alpha': 1, 'solver': 'sparse_cg'}\n",
      "3203.49431 for {'alpha': 10, 'solver': 'sparse_cg'}\n",
      "3203.49431 for {'alpha': 100, 'solver': 'sparse_cg'}\n",
      "\n",
      "Wall time: 2min 10s\n"
     ]
    }
   ],
   "source": [
    "%%time\n",
    "\n",
    "regressor = Ridge()\n",
    "hyperparams = [{'alpha':[0.1, 1, 10, 100], 'solver':['auto']},\n",
    "                 {'alpha':[0.1, 1, 10, 100], 'solver':['svd']}, \n",
    "                 {'alpha':[0.1, 1, 10, 100], 'solver':['cholesky']},\n",
    "                 {'alpha':[0.1, 1, 10, 100], 'solver':['lsqr']}, \n",
    "                 {'alpha':[0.1, 1, 10, 100], 'solver':['sparse_cg']}]\n",
    "\n",
    "print('___Train hyper-parameters for RMSE___')\n",
    "print()\n",
    "\n",
    "\n",
    "clf = GridSearchCV(regressor, hyperparams, scoring='neg_mean_squared_error')\n",
    "clf.fit(ohe_features_train, target_train)\n",
    "print(\"Best parameters set:\", clf.best_params_)\n",
    "print()\n",
    "\n",
    "print(\"Grid scores (development set):\")\n",
    "means = clf.cv_results_['mean_test_score']\n",
    "stds = clf.cv_results_['std_test_score']\n",
    "for mean, std, params in zip(means, stds, clf.cv_results_['params']):\n",
    "    print(\"%0.5f for %r\"% ((mean*-1)** 0.5, params))\n",
    "print()\n",
    "\n",
    "R_RMSE = (max(means)*-1) ** 0.5"
   ]
  },
  {
   "cell_type": "markdown",
   "metadata": {},
   "source": [
    "### DecisionTreeRegressor"
   ]
  },
  {
   "cell_type": "markdown",
   "metadata": {},
   "source": [
    "В заключении воспользуемся деревом решений.  \n",
    "Воспользуемся двумя различными типами признаков: \n",
    "- OHE\n",
    "- OE"
   ]
  },
  {
   "cell_type": "code",
   "execution_count": 36,
   "metadata": {},
   "outputs": [
    {
     "name": "stdout",
     "output_type": "stream",
     "text": [
      "___Train hyper-parameters for RMSE___\n",
      "\n",
      "Best parameters set: {'criterion': 'mse', 'max_depth': 16, 'random_state': 123456}\n",
      "\n",
      "Grid scores (development set):\n",
      "3059.49004 for {'criterion': 'mse', 'max_depth': 1, 'random_state': 123456}\n",
      "2291.76655 for {'criterion': 'mse', 'max_depth': 4, 'random_state': 123456}\n",
      "1890.82940 for {'criterion': 'mse', 'max_depth': 7, 'random_state': 123456}\n",
      "1733.19506 for {'criterion': 'mse', 'max_depth': 10, 'random_state': 123456}\n",
      "1660.14522 for {'criterion': 'mse', 'max_depth': 13, 'random_state': 123456}\n",
      "1640.84148 for {'criterion': 'mse', 'max_depth': 16, 'random_state': 123456}\n",
      "1646.65275 for {'criterion': 'mse', 'max_depth': 19, 'random_state': 123456}\n",
      "1666.13426 for {'criterion': 'mse', 'max_depth': 22, 'random_state': 123456}\n",
      "\n",
      "Wall time: 2min 4s\n"
     ]
    }
   ],
   "source": [
    "%%time\n",
    "\n",
    "regressor = DecisionTreeRegressor() \n",
    "max_depth_list = [x for x in range(1, 25, 3)]\n",
    "hyperparams = [{'criterion':['mse'], 'max_depth':max_depth_list, 'random_state':[123456]}]\n",
    "print('___Train hyper-parameters for RMSE___')\n",
    "print()\n",
    "\n",
    "\n",
    "clf = GridSearchCV(regressor, hyperparams, scoring='neg_mean_squared_error')\n",
    "clf.fit(ohe_features_train, target_train)\n",
    "print(\"Best parameters set:\", clf.best_params_)\n",
    "print()\n",
    "\n",
    "print(\"Grid scores (development set):\")\n",
    "means = clf.cv_results_['mean_test_score']\n",
    "stds = clf.cv_results_['std_test_score']\n",
    "for mean, std, params in zip(means, stds, clf.cv_results_['params']):\n",
    "    print(\"%0.5f for %r\"% ((mean*-1)** 0.5, params))\n",
    "print()\n",
    "\n",
    "DTR_ohe_RMSE = (max(means)*-1) ** 0.5"
   ]
  },
  {
   "cell_type": "code",
   "execution_count": 37,
   "metadata": {},
   "outputs": [
    {
     "name": "stdout",
     "output_type": "stream",
     "text": [
      "___Tuning hyper-parameters for RMSE___\n",
      "\n",
      "Best parameters set: {'criterion': 'mse', 'max_depth': 13, 'random_state': 123456}\n",
      "\n",
      "Grid scores (development set):\n",
      "3059.49004 for {'criterion': 'mse', 'max_depth': 1, 'random_state': 123456}\n",
      "2732.79804 for {'criterion': 'mse', 'max_depth': 2, 'random_state': 123456}\n",
      "2526.96986 for {'criterion': 'mse', 'max_depth': 3, 'random_state': 123456}\n",
      "2292.12341 for {'criterion': 'mse', 'max_depth': 4, 'random_state': 123456}\n",
      "2125.55744 for {'criterion': 'mse', 'max_depth': 5, 'random_state': 123456}\n",
      "1996.65247 for {'criterion': 'mse', 'max_depth': 6, 'random_state': 123456}\n",
      "1897.97014 for {'criterion': 'mse', 'max_depth': 7, 'random_state': 123456}\n",
      "1824.52778 for {'criterion': 'mse', 'max_depth': 8, 'random_state': 123456}\n",
      "1771.38427 for {'criterion': 'mse', 'max_depth': 9, 'random_state': 123456}\n",
      "1730.17416 for {'criterion': 'mse', 'max_depth': 10, 'random_state': 123456}\n",
      "1693.98203 for {'criterion': 'mse', 'max_depth': 11, 'random_state': 123456}\n",
      "1670.29542 for {'criterion': 'mse', 'max_depth': 12, 'random_state': 123456}\n",
      "1657.80326 for {'criterion': 'mse', 'max_depth': 13, 'random_state': 123456}\n",
      "1660.40994 for {'criterion': 'mse', 'max_depth': 14, 'random_state': 123456}\n",
      "\n",
      "Wall time: 13.7 s\n"
     ]
    }
   ],
   "source": [
    "%%time\n",
    "\n",
    "regressor = DecisionTreeRegressor() \n",
    "max_depth_list = [x for x in range(1, 15)]\n",
    "hyperparams = [{'criterion':['mse'], 'max_depth':max_depth_list, 'random_state':[123456]}]\n",
    "print('___Tuning hyper-parameters for RMSE___')\n",
    "print()\n",
    "\n",
    "clf = GridSearchCV(regressor, hyperparams, scoring='neg_mean_squared_error')\n",
    "clf.fit(ordinal_features_train, target_train)\n",
    "print(\"Best parameters set:\", clf.best_params_)\n",
    "print()\n",
    "\n",
    "print(\"Grid scores (development set):\")\n",
    "means = clf.cv_results_['mean_test_score']\n",
    "stds = clf.cv_results_['std_test_score']\n",
    "for mean, std, params in zip(means, stds, clf.cv_results_['params']):\n",
    "    print(\"%0.5f for %r\"% ((mean*-1)** 0.5, params))\n",
    "print()\n",
    "\n",
    "DTR_ordinal_RMSE = (max(means)*-1) ** 0.5"
   ]
  },
  {
   "cell_type": "markdown",
   "metadata": {},
   "source": [
    "## Анализ моделей"
   ]
  },
  {
   "cell_type": "markdown",
   "metadata": {},
   "source": [
    "Для каждой из рассмотренных моделей были выбраны лучшие гиперпараметры. Проведем обучение."
   ]
  },
  {
   "cell_type": "markdown",
   "metadata": {},
   "source": [
    "### CatBoostRegressor"
   ]
  },
  {
   "cell_type": "markdown",
   "metadata": {},
   "source": [
    "Для начала обучим на данных, которые закодированы по методу OE."
   ]
  },
  {
   "cell_type": "code",
   "execution_count": 38,
   "metadata": {},
   "outputs": [
    {
     "name": "stdout",
     "output_type": "stream",
     "text": [
      "Wall time: 9.38 s\n"
     ]
    },
    {
     "data": {
      "text/plain": [
       "<catboost.core.CatBoostRegressor at 0x1bb2f5bdeb0>"
      ]
     },
     "execution_count": 38,
     "metadata": {},
     "output_type": "execute_result"
    }
   ],
   "source": [
    "%%time\n",
    "\n",
    "model = CatBoostRegressor(learning_rate=0.5, random_state=123456, verbose=False) \n",
    "model.fit(ordinal_features_train, target_train)"
   ]
  },
  {
   "cell_type": "code",
   "execution_count": 39,
   "metadata": {},
   "outputs": [
    {
     "name": "stdout",
     "output_type": "stream",
     "text": [
      "Wall time: 15 ms\n"
     ]
    }
   ],
   "source": [
    "%%time\n",
    "\n",
    "target_predict = model.predict(ordinal_features_test)"
   ]
  },
  {
   "cell_type": "code",
   "execution_count": 40,
   "metadata": {},
   "outputs": [
    {
     "name": "stdout",
     "output_type": "stream",
     "text": [
      "final_RMSE of CatBoostRegressor = 1405.954772303745\n"
     ]
    }
   ],
   "source": [
    "final_RMSE_CBR_ordinal = mean_squared_error(target_test, target_predict) ** 0.5\n",
    "print('final_RMSE of CatBoostRegressor =', CBR_ordinal_RMSE)"
   ]
  },
  {
   "cell_type": "markdown",
   "metadata": {},
   "source": [
    "Теперь на оригинальных."
   ]
  },
  {
   "cell_type": "code",
   "execution_count": 41,
   "metadata": {},
   "outputs": [
    {
     "name": "stdout",
     "output_type": "stream",
     "text": [
      "Wall time: 15.3 s\n"
     ]
    },
    {
     "data": {
      "text/plain": [
       "<catboost.core.CatBoostRegressor at 0x1bb3dc61580>"
      ]
     },
     "execution_count": 41,
     "metadata": {},
     "output_type": "execute_result"
    }
   ],
   "source": [
    "%%time\n",
    "\n",
    "model = CatBoostRegressor(learning_rate=0.5, iterations = 250, random_state=123456, verbose=False,\n",
    "                          cat_features=['VehicleType','FuelType','Brand','Model']) \n",
    "model.fit(original_features_train, target_train)"
   ]
  },
  {
   "cell_type": "code",
   "execution_count": 42,
   "metadata": {},
   "outputs": [
    {
     "name": "stdout",
     "output_type": "stream",
     "text": [
      "Wall time: 74 ms\n"
     ]
    }
   ],
   "source": [
    "%%time\n",
    "\n",
    "target_predict = model.predict(original_features_test)"
   ]
  },
  {
   "cell_type": "code",
   "execution_count": 43,
   "metadata": {},
   "outputs": [
    {
     "name": "stdout",
     "output_type": "stream",
     "text": [
      "final_RMSE of CatBoostRegressor = 1450.5889406794963\n"
     ]
    }
   ],
   "source": [
    "final_RMSE_CBR_original = mean_squared_error(target_test, target_predict) ** 0.5\n",
    "print('final_RMSE of CatBoostRegressor =', final_RMSE_CBR_original)"
   ]
  },
  {
   "cell_type": "markdown",
   "metadata": {},
   "source": [
    "### LGBMRegressor"
   ]
  },
  {
   "cell_type": "code",
   "execution_count": 44,
   "metadata": {},
   "outputs": [
    {
     "name": "stdout",
     "output_type": "stream",
     "text": [
      "Wall time: 566 ms\n"
     ]
    },
    {
     "data": {
      "text/plain": [
       "LGBMRegressor(learning_rate=0.3, num_leaves=200, random_state=123456)"
      ]
     },
     "execution_count": 44,
     "metadata": {},
     "output_type": "execute_result"
    }
   ],
   "source": [
    "%%time\n",
    "\n",
    "model = LGBMRegressor(learning_rate=0.3, num_leaves=200, random_state=123456)\n",
    "model.fit(ordinal_features_train, target_train)"
   ]
  },
  {
   "cell_type": "code",
   "execution_count": 45,
   "metadata": {},
   "outputs": [
    {
     "name": "stdout",
     "output_type": "stream",
     "text": [
      "Wall time: 69.8 ms\n"
     ]
    }
   ],
   "source": [
    "%%time\n",
    "\n",
    "target_predict = model.predict(ordinal_features_test)"
   ]
  },
  {
   "cell_type": "code",
   "execution_count": 46,
   "metadata": {},
   "outputs": [
    {
     "name": "stdout",
     "output_type": "stream",
     "text": [
      "final_RMSE of LGBMRegressor = 1406.9239480149747\n"
     ]
    }
   ],
   "source": [
    "final_RMSE_LGBMR = mean_squared_error(target_test, target_predict) ** 0.5\n",
    "print('final_RMSE of LGBMRegressor =', final_RMSE_LGBMR)"
   ]
  },
  {
   "cell_type": "markdown",
   "metadata": {},
   "source": [
    "### LinearRegression"
   ]
  },
  {
   "cell_type": "code",
   "execution_count": 47,
   "metadata": {},
   "outputs": [
    {
     "name": "stdout",
     "output_type": "stream",
     "text": [
      "Wall time: 2.37 s\n"
     ]
    },
    {
     "data": {
      "text/plain": [
       "LinearRegression()"
      ]
     },
     "execution_count": 47,
     "metadata": {},
     "output_type": "execute_result"
    }
   ],
   "source": [
    "%%time\n",
    "\n",
    "model = LinearRegression()\n",
    "model.fit(ohe_features_train, target_train)"
   ]
  },
  {
   "cell_type": "code",
   "execution_count": 48,
   "metadata": {},
   "outputs": [
    {
     "name": "stdout",
     "output_type": "stream",
     "text": [
      "Wall time: 128 ms\n"
     ]
    }
   ],
   "source": [
    "%%time\n",
    "\n",
    "target_predict = model.predict(ohe_features_test)"
   ]
  },
  {
   "cell_type": "code",
   "execution_count": 49,
   "metadata": {},
   "outputs": [
    {
     "name": "stdout",
     "output_type": "stream",
     "text": [
      "final_RMSE of LinearRegression = 2406.889981120662\n"
     ]
    }
   ],
   "source": [
    "final_RMSE_LR = mean_squared_error(target_test, target_predict) ** 0.5\n",
    "print('final_RMSE of LinearRegression =', final_RMSE_LR)"
   ]
  },
  {
   "cell_type": "markdown",
   "metadata": {},
   "source": [
    "### Ridge"
   ]
  },
  {
   "cell_type": "code",
   "execution_count": 50,
   "metadata": {},
   "outputs": [
    {
     "name": "stdout",
     "output_type": "stream",
     "text": [
      "Wall time: 3.58 s\n"
     ]
    },
    {
     "data": {
      "text/plain": [
       "Ridge(alpha=1, solver='svd')"
      ]
     },
     "execution_count": 50,
     "metadata": {},
     "output_type": "execute_result"
    }
   ],
   "source": [
    "%%time\n",
    "\n",
    "model = Ridge(alpha=1, solver='svd')\n",
    "model.fit(ohe_features_train, target_train)"
   ]
  },
  {
   "cell_type": "code",
   "execution_count": 51,
   "metadata": {},
   "outputs": [
    {
     "name": "stdout",
     "output_type": "stream",
     "text": [
      "Wall time: 127 ms\n"
     ]
    }
   ],
   "source": [
    "%%time\n",
    "\n",
    "target_predict = model.predict(ohe_features_test)"
   ]
  },
  {
   "cell_type": "code",
   "execution_count": 52,
   "metadata": {},
   "outputs": [
    {
     "name": "stdout",
     "output_type": "stream",
     "text": [
      "final_RMSE of Ridge = 2406.9253888427447\n"
     ]
    }
   ],
   "source": [
    "final_RMSE_R = mean_squared_error(target_test, target_predict) ** 0.5\n",
    "print('final_RMSE of Ridge =', final_RMSE_R)"
   ]
  },
  {
   "cell_type": "markdown",
   "metadata": {},
   "source": [
    "### DecisionTreeRegressor"
   ]
  },
  {
   "cell_type": "markdown",
   "metadata": {},
   "source": [
    "OHE"
   ]
  },
  {
   "cell_type": "code",
   "execution_count": 53,
   "metadata": {},
   "outputs": [
    {
     "name": "stdout",
     "output_type": "stream",
     "text": [
      "Wall time: 4.82 s\n"
     ]
    },
    {
     "data": {
      "text/plain": [
       "DecisionTreeRegressor(max_depth=16, random_state=123456)"
      ]
     },
     "execution_count": 53,
     "metadata": {},
     "output_type": "execute_result"
    }
   ],
   "source": [
    "%%time\n",
    "\n",
    "model = DecisionTreeRegressor(criterion='mse',  max_depth=16, random_state=123456) \n",
    "model.fit(ohe_features_train, target_train)"
   ]
  },
  {
   "cell_type": "code",
   "execution_count": 54,
   "metadata": {},
   "outputs": [
    {
     "name": "stdout",
     "output_type": "stream",
     "text": [
      "Wall time: 95.7 ms\n"
     ]
    }
   ],
   "source": [
    "%%time\n",
    "\n",
    "target_predict = model.predict(ohe_features_test)"
   ]
  },
  {
   "cell_type": "code",
   "execution_count": 55,
   "metadata": {},
   "outputs": [
    {
     "name": "stdout",
     "output_type": "stream",
     "text": [
      "final_RMSE of DecisionTreeRegressor = 1640.6558006868995\n"
     ]
    }
   ],
   "source": [
    "final_RMSE_DTR_ohe = mean_squared_error(target_test, target_predict) ** 0.5\n",
    "print('final_RMSE of DecisionTreeRegressor =', final_RMSE_DTR_ohe)"
   ]
  },
  {
   "cell_type": "markdown",
   "metadata": {},
   "source": [
    "OE"
   ]
  },
  {
   "cell_type": "code",
   "execution_count": 56,
   "metadata": {},
   "outputs": [
    {
     "name": "stdout",
     "output_type": "stream",
     "text": [
      "Wall time: 381 ms\n"
     ]
    },
    {
     "data": {
      "text/plain": [
       "DecisionTreeRegressor(max_depth=13, random_state=123456)"
      ]
     },
     "execution_count": 56,
     "metadata": {},
     "output_type": "execute_result"
    }
   ],
   "source": [
    "%%time\n",
    "\n",
    "model = DecisionTreeRegressor(criterion='mse',  max_depth=13, random_state=123456) \n",
    "model.fit(ordinal_features_train, target_train)"
   ]
  },
  {
   "cell_type": "code",
   "execution_count": 57,
   "metadata": {},
   "outputs": [
    {
     "name": "stdout",
     "output_type": "stream",
     "text": [
      "Wall time: 11.9 ms\n"
     ]
    }
   ],
   "source": [
    "%%time\n",
    "\n",
    "target_predict = model.predict(ordinal_features_test)"
   ]
  },
  {
   "cell_type": "code",
   "execution_count": 59,
   "metadata": {},
   "outputs": [
    {
     "name": "stdout",
     "output_type": "stream",
     "text": [
      "final_RMSE of DecisionTreeRegressor = 1668.135712246608\n"
     ]
    }
   ],
   "source": [
    "final_RMSE_DTR_ordinal = mean_squared_error(target_test, target_predict) ** 0.5\n",
    "print('final_RMSE of DecisionTreeRegressor =', final_RMSE_DTR_ordinal)"
   ]
  },
  {
   "cell_type": "markdown",
   "metadata": {},
   "source": [
    "### Сравнение"
   ]
  },
  {
   "cell_type": "code",
   "execution_count": 60,
   "metadata": {},
   "outputs": [
    {
     "data": {
      "text/html": [
       "<div>\n",
       "<style scoped>\n",
       "    .dataframe tbody tr th:only-of-type {\n",
       "        vertical-align: middle;\n",
       "    }\n",
       "\n",
       "    .dataframe tbody tr th {\n",
       "        vertical-align: top;\n",
       "    }\n",
       "\n",
       "    .dataframe thead th {\n",
       "        text-align: right;\n",
       "    }\n",
       "</style>\n",
       "<table border=\"1\" class=\"dataframe\">\n",
       "  <thead>\n",
       "    <tr style=\"text-align: right;\">\n",
       "      <th></th>\n",
       "      <th>RMSE на CV, €</th>\n",
       "      <th>Время обучения на CV, сек</th>\n",
       "      <th>RMSE модели на тестовой выборке, €</th>\n",
       "      <th>Время обучения модели, сек</th>\n",
       "      <th>Время предсказания модели, сек</th>\n",
       "    </tr>\n",
       "  </thead>\n",
       "  <tbody>\n",
       "    <tr>\n",
       "      <th>CatBoostRegressor on OE features</th>\n",
       "      <td>1405.954772</td>\n",
       "      <td>128.0</td>\n",
       "      <td>1418.657121</td>\n",
       "      <td>9.3800</td>\n",
       "      <td>0.015</td>\n",
       "    </tr>\n",
       "    <tr>\n",
       "      <th>CatBoostRegressor on original features</th>\n",
       "      <td>1439.648468</td>\n",
       "      <td>64.0</td>\n",
       "      <td>1450.588941</td>\n",
       "      <td>15.3000</td>\n",
       "      <td>0.074</td>\n",
       "    </tr>\n",
       "    <tr>\n",
       "      <th>LGBMRegressor</th>\n",
       "      <td>1396.183576</td>\n",
       "      <td>20.0</td>\n",
       "      <td>1406.923948</td>\n",
       "      <td>0.5660</td>\n",
       "      <td>0.698</td>\n",
       "    </tr>\n",
       "    <tr>\n",
       "      <th>LinearRegression</th>\n",
       "      <td>2387.517975</td>\n",
       "      <td>10.5</td>\n",
       "      <td>2406.889981</td>\n",
       "      <td>2.3700</td>\n",
       "      <td>0.128</td>\n",
       "    </tr>\n",
       "    <tr>\n",
       "      <th>Ridge</th>\n",
       "      <td>2387.381305</td>\n",
       "      <td>130.0</td>\n",
       "      <td>2406.925389</td>\n",
       "      <td>3.5800</td>\n",
       "      <td>0.127</td>\n",
       "    </tr>\n",
       "    <tr>\n",
       "      <th>DecisionTreeRegressor on OHE features</th>\n",
       "      <td>1640.841478</td>\n",
       "      <td>124.0</td>\n",
       "      <td>1640.655801</td>\n",
       "      <td>4.8200</td>\n",
       "      <td>0.957</td>\n",
       "    </tr>\n",
       "    <tr>\n",
       "      <th>DecisionTreeRegressor on OE features</th>\n",
       "      <td>1657.803264</td>\n",
       "      <td>13.7</td>\n",
       "      <td>1668.135712</td>\n",
       "      <td>0.0381</td>\n",
       "      <td>0.119</td>\n",
       "    </tr>\n",
       "  </tbody>\n",
       "</table>\n",
       "</div>"
      ],
      "text/plain": [
       "                                        RMSE на CV, €  \\\n",
       "CatBoostRegressor on OE features          1405.954772   \n",
       "CatBoostRegressor on original features    1439.648468   \n",
       "LGBMRegressor                             1396.183576   \n",
       "LinearRegression                          2387.517975   \n",
       "Ridge                                     2387.381305   \n",
       "DecisionTreeRegressor on OHE features     1640.841478   \n",
       "DecisionTreeRegressor on OE features      1657.803264   \n",
       "\n",
       "                                        Время обучения на CV, сек  \\\n",
       "CatBoostRegressor on OE features                            128.0   \n",
       "CatBoostRegressor on original features                       64.0   \n",
       "LGBMRegressor                                                20.0   \n",
       "LinearRegression                                             10.5   \n",
       "Ridge                                                       130.0   \n",
       "DecisionTreeRegressor on OHE features                       124.0   \n",
       "DecisionTreeRegressor on OE features                         13.7   \n",
       "\n",
       "                                        RMSE модели на тестовой выборке, €  \\\n",
       "CatBoostRegressor on OE features                               1418.657121   \n",
       "CatBoostRegressor on original features                         1450.588941   \n",
       "LGBMRegressor                                                  1406.923948   \n",
       "LinearRegression                                               2406.889981   \n",
       "Ridge                                                          2406.925389   \n",
       "DecisionTreeRegressor on OHE features                          1640.655801   \n",
       "DecisionTreeRegressor on OE features                           1668.135712   \n",
       "\n",
       "                                        Время обучения модели, сек  \\\n",
       "CatBoostRegressor on OE features                            9.3800   \n",
       "CatBoostRegressor on original features                     15.3000   \n",
       "LGBMRegressor                                               0.5660   \n",
       "LinearRegression                                            2.3700   \n",
       "Ridge                                                       3.5800   \n",
       "DecisionTreeRegressor on OHE features                       4.8200   \n",
       "DecisionTreeRegressor on OE features                        0.0381   \n",
       "\n",
       "                                        Время предсказания модели, сек  \n",
       "CatBoostRegressor on OE features                                 0.015  \n",
       "CatBoostRegressor on original features                           0.074  \n",
       "LGBMRegressor                                                    0.698  \n",
       "LinearRegression                                                 0.128  \n",
       "Ridge                                                            0.127  \n",
       "DecisionTreeRegressor on OHE features                            0.957  \n",
       "DecisionTreeRegressor on OE features                             0.119  "
      ]
     },
     "execution_count": 60,
     "metadata": {},
     "output_type": "execute_result"
    }
   ],
   "source": [
    "index = ['CatBoostRegressor on OE features',\n",
    "         'CatBoostRegressor on original features',\n",
    "         'LGBMRegressor',\n",
    "         'LinearRegression',\n",
    "         'Ridge',\n",
    "         'DecisionTreeRegressor on OHE features',\n",
    "         'DecisionTreeRegressor on OE features']\n",
    "\n",
    "data = {'RMSE на CV, €':[ CBR_ordinal_RMSE,\n",
    "                            CBR_original_RMSE,\n",
    "                            LGBMR_RMSE,\n",
    "                            LR_RMSE,\n",
    "                            R_RMSE,\n",
    "                            DTR_ohe_RMSE,\n",
    "                            DTR_ordinal_RMSE],\n",
    "        \n",
    "        'Время обучения на CV, сек':[128,\n",
    "                                     64,\n",
    "                                     20,\n",
    "                                     10.5,\n",
    "                                     130,\n",
    "                                     124,\n",
    "                                     13.7],\n",
    "        \n",
    "        'RMSE модели на тестовой выборке, €':[final_RMSE_CBR_ordinal,\n",
    "                                                final_RMSE_CBR_original,\n",
    "                                                final_RMSE_LGBMR,\n",
    "                                                final_RMSE_LR,\n",
    "                                                final_RMSE_R,\n",
    "                                                final_RMSE_DTR_ohe,\n",
    "                                                final_RMSE_DTR_ordinal],\n",
    "        'Время обучения модели, сек':[9.38,\n",
    "                                      15.3,\n",
    "                                      0.566,\n",
    "                                      2.37,\n",
    "                                      3.58,\n",
    "                                      4.82,\n",
    "                                      0.0381],\n",
    "        \n",
    "        'Время предсказания модели, сек':[0.015,\n",
    "                                          0.074,\n",
    "                                          0.698,\n",
    "                                          0.128,\n",
    "                                          0.127,\n",
    "                                          0.957,\n",
    "                                          0.119]}\n",
    "\n",
    "\n",
    "\n",
    "Regression = pd.DataFrame(data=data, index=index)   \n",
    "Regression"
   ]
  },
  {
   "cell_type": "markdown",
   "metadata": {},
   "source": [
    "Итак, мы получили все результаты, но для того, чтобы определить лучшую модель, необходимо ввести какой-то рейтинг. Нам необходимо выбрать регрессор с наименьшими значениями. Для этой цели в каждом столбце выделим минимальное значение, которое получит наибольший рейтинг - 1. После чего посчитаем итоговый. Время обучения на кросс-валидации не учитываем, т.к. для каждого типа данных это актуально только один раз.  "
   ]
  },
  {
   "cell_type": "code",
   "execution_count": 63,
   "metadata": {},
   "outputs": [
    {
     "data": {
      "text/html": [
       "<div>\n",
       "<style scoped>\n",
       "    .dataframe tbody tr th:only-of-type {\n",
       "        vertical-align: middle;\n",
       "    }\n",
       "\n",
       "    .dataframe tbody tr th {\n",
       "        vertical-align: top;\n",
       "    }\n",
       "\n",
       "    .dataframe thead th {\n",
       "        text-align: right;\n",
       "    }\n",
       "</style>\n",
       "<table border=\"1\" class=\"dataframe\">\n",
       "  <thead>\n",
       "    <tr style=\"text-align: right;\">\n",
       "      <th></th>\n",
       "      <th>Рейтинг RMSE</th>\n",
       "      <th>Рейтинг времени обучения</th>\n",
       "      <th>Рейтинг времени предсказания</th>\n",
       "      <th>Итоговый рейтинг</th>\n",
       "    </tr>\n",
       "  </thead>\n",
       "  <tbody>\n",
       "    <tr>\n",
       "      <th>CatBoostRegressor on OE features</th>\n",
       "      <td>1.984780</td>\n",
       "      <td>0.004062</td>\n",
       "      <td>1.000000</td>\n",
       "      <td>2.988841</td>\n",
       "    </tr>\n",
       "    <tr>\n",
       "      <th>DecisionTreeRegressor on OE features</th>\n",
       "      <td>1.685600</td>\n",
       "      <td>1.000000</td>\n",
       "      <td>0.126050</td>\n",
       "      <td>2.811650</td>\n",
       "    </tr>\n",
       "    <tr>\n",
       "      <th>CatBoostRegressor on original features</th>\n",
       "      <td>1.939707</td>\n",
       "      <td>0.002490</td>\n",
       "      <td>0.202703</td>\n",
       "      <td>2.144900</td>\n",
       "    </tr>\n",
       "    <tr>\n",
       "      <th>LGBMRegressor</th>\n",
       "      <td>2.000000</td>\n",
       "      <td>0.067314</td>\n",
       "      <td>0.021490</td>\n",
       "      <td>2.088804</td>\n",
       "    </tr>\n",
       "    <tr>\n",
       "      <th>DecisionTreeRegressor on OHE features</th>\n",
       "      <td>1.708432</td>\n",
       "      <td>0.007905</td>\n",
       "      <td>0.015674</td>\n",
       "      <td>1.732011</td>\n",
       "    </tr>\n",
       "    <tr>\n",
       "      <th>LinearRegression</th>\n",
       "      <td>1.169325</td>\n",
       "      <td>0.016076</td>\n",
       "      <td>0.117188</td>\n",
       "      <td>1.302588</td>\n",
       "    </tr>\n",
       "    <tr>\n",
       "      <th>Ridge</th>\n",
       "      <td>1.169350</td>\n",
       "      <td>0.010642</td>\n",
       "      <td>0.118110</td>\n",
       "      <td>1.298102</td>\n",
       "    </tr>\n",
       "  </tbody>\n",
       "</table>\n",
       "</div>"
      ],
      "text/plain": [
       "                                        Рейтинг RMSE  \\\n",
       "CatBoostRegressor on OE features            1.984780   \n",
       "DecisionTreeRegressor on OE features        1.685600   \n",
       "CatBoostRegressor on original features      1.939707   \n",
       "LGBMRegressor                               2.000000   \n",
       "DecisionTreeRegressor on OHE features       1.708432   \n",
       "LinearRegression                            1.169325   \n",
       "Ridge                                       1.169350   \n",
       "\n",
       "                                        Рейтинг времени обучения  \\\n",
       "CatBoostRegressor on OE features                        0.004062   \n",
       "DecisionTreeRegressor on OE features                    1.000000   \n",
       "CatBoostRegressor on original features                  0.002490   \n",
       "LGBMRegressor                                           0.067314   \n",
       "DecisionTreeRegressor on OHE features                   0.007905   \n",
       "LinearRegression                                        0.016076   \n",
       "Ridge                                                   0.010642   \n",
       "\n",
       "                                        Рейтинг времени предсказания  \\\n",
       "CatBoostRegressor on OE features                            1.000000   \n",
       "DecisionTreeRegressor on OE features                        0.126050   \n",
       "CatBoostRegressor on original features                      0.202703   \n",
       "LGBMRegressor                                               0.021490   \n",
       "DecisionTreeRegressor on OHE features                       0.015674   \n",
       "LinearRegression                                            0.117188   \n",
       "Ridge                                                       0.118110   \n",
       "\n",
       "                                        Итоговый рейтинг  \n",
       "CatBoostRegressor on OE features                2.988841  \n",
       "DecisionTreeRegressor on OE features            2.811650  \n",
       "CatBoostRegressor on original features          2.144900  \n",
       "LGBMRegressor                                   2.088804  \n",
       "DecisionTreeRegressor on OHE features           1.732011  \n",
       "LinearRegression                                1.302588  \n",
       "Ridge                                           1.298102  "
      ]
     },
     "execution_count": 63,
     "metadata": {},
     "output_type": "execute_result"
    }
   ],
   "source": [
    "rate = pd.DataFrame(data=data, index=index)\n",
    "\n",
    "rate['Рейтинг RMSE'] = ((rate['RMSE на CV, €'].min() /\n",
    "                              rate['RMSE на CV, €']) + (rate['RMSE модели на тестовой выборке, €'].min() /\n",
    "                              rate['RMSE модели на тестовой выборке, €']))\n",
    "rate['Рейтинг времени обучения'] = (rate['Время обучения модели, сек'].min() / \n",
    "                              rate['Время обучения модели, сек'])\n",
    "rate['Рейтинг времени предсказания'] = (rate['Время предсказания модели, сек'].min() / \n",
    "                              rate['Время предсказания модели, сек'])\n",
    "rate['Итоговый рейтинг'] =  (rate['Рейтинг времени обучения'] +\n",
    "                             rate['Рейтинг времени предсказания'] +\n",
    "                             rate['Рейтинг RMSE'])\n",
    "\n",
    "rate = rate[['Рейтинг RMSE', 'Рейтинг времени обучения', 'Рейтинг времени предсказания', 'Итоговый рейтинг']]\n",
    "\n",
    "rate.sort_values(['Итоговый рейтинг'], ascending = False)"
   ]
  },
  {
   "cell_type": "markdown",
   "metadata": {},
   "source": [
    "Лучшей моделью по трем параметрам: качество, скорость обучения и скорость предсказания - можно считать **CatBoostRegressor**. Немного отстает **DecisionTreeRegressor** (с подготовленными признаками), но для задач, в которых необходимо бысторое решение с достаточной точностью, можно использовать. Остальные значительно отстают.  \n",
    "\n",
    "Что касается точности: **LGBMRegressor** показала лучший результат.  \n",
    "Самое быстрое предсказание делает **CatBoostRegressor**.  \n",
    "Лучшее время обучения у **DecisionTreeRegressor**.  \n",
    "\n",
    "**Ridge** показала себя хуже всего.\n",
    "\n",
    " "
   ]
  }
 ],
 "metadata": {
  "ExecuteTimeLog": [
   {
    "duration": 1717,
    "start_time": "2021-08-05T10:17:51.292Z"
   },
   {
    "duration": 1573,
    "start_time": "2021-08-05T10:18:18.470Z"
   },
   {
    "duration": 1460,
    "start_time": "2021-08-05T10:19:34.190Z"
   },
   {
    "duration": 1324,
    "start_time": "2021-08-05T10:19:50.555Z"
   },
   {
    "duration": 1354,
    "start_time": "2021-08-05T10:20:12.631Z"
   },
   {
    "duration": 1232,
    "start_time": "2021-08-05T10:22:56.354Z"
   },
   {
    "duration": 254,
    "start_time": "2021-08-05T10:25:48.052Z"
   },
   {
    "duration": 156,
    "start_time": "2021-08-05T10:25:54.549Z"
   },
   {
    "duration": 1260,
    "start_time": "2021-08-05T10:29:33.310Z"
   },
   {
    "duration": 306,
    "start_time": "2021-08-05T11:04:02.773Z"
   },
   {
    "duration": 146,
    "start_time": "2021-08-05T11:04:19.643Z"
   },
   {
    "duration": 77,
    "start_time": "2021-08-05T11:22:21.651Z"
   },
   {
    "duration": 782,
    "start_time": "2021-08-05T11:38:22.119Z"
   },
   {
    "duration": 1055,
    "start_time": "2021-08-05T11:38:49.934Z"
   },
   {
    "duration": 941,
    "start_time": "2021-08-05T11:39:28.682Z"
   },
   {
    "duration": 1139,
    "start_time": "2021-08-05T11:39:50.514Z"
   },
   {
    "duration": 1043,
    "start_time": "2021-08-05T11:41:07.396Z"
   },
   {
    "duration": 1025,
    "start_time": "2021-08-05T11:41:33.567Z"
   },
   {
    "duration": 127,
    "start_time": "2021-08-05T11:50:35.579Z"
   },
   {
    "duration": 250,
    "start_time": "2021-08-05T12:26:08.122Z"
   },
   {
    "duration": 653,
    "start_time": "2021-08-05T12:27:12.097Z"
   },
   {
    "duration": 479,
    "start_time": "2021-08-05T12:27:32.932Z"
   },
   {
    "duration": 1058,
    "start_time": "2021-08-05T12:28:32.630Z"
   },
   {
    "duration": 812,
    "start_time": "2021-08-05T12:28:51.016Z"
   },
   {
    "duration": 455,
    "start_time": "2021-08-05T12:29:08.382Z"
   },
   {
    "duration": 436,
    "start_time": "2021-08-05T12:29:49.692Z"
   },
   {
    "duration": 430,
    "start_time": "2021-08-05T12:29:54.328Z"
   },
   {
    "duration": 412,
    "start_time": "2021-08-05T12:29:56.927Z"
   },
   {
    "duration": 773,
    "start_time": "2021-08-05T12:29:59.512Z"
   },
   {
    "duration": 1587,
    "start_time": "2021-08-05T12:30:12.556Z"
   },
   {
    "duration": 1329,
    "start_time": "2021-08-05T12:30:14.146Z"
   },
   {
    "duration": 172,
    "start_time": "2021-08-05T12:30:15.479Z"
   },
   {
    "duration": 133,
    "start_time": "2021-08-05T12:30:15.653Z"
   },
   {
    "duration": 228,
    "start_time": "2021-08-05T12:30:15.789Z"
   },
   {
    "duration": 1414,
    "start_time": "2021-08-05T12:30:16.020Z"
   },
   {
    "duration": 865,
    "start_time": "2021-08-05T12:30:17.437Z"
   },
   {
    "duration": 1491,
    "start_time": "2021-08-05T12:30:47.243Z"
   },
   {
    "duration": 773,
    "start_time": "2021-08-05T12:31:44.359Z"
   },
   {
    "duration": 54,
    "start_time": "2021-08-05T12:32:34.730Z"
   },
   {
    "duration": 95,
    "start_time": "2021-08-05T12:34:51.981Z"
   },
   {
    "duration": 17,
    "start_time": "2021-08-05T12:36:12.127Z"
   },
   {
    "duration": 20,
    "start_time": "2021-08-05T12:36:24.232Z"
   },
   {
    "duration": 17,
    "start_time": "2021-08-05T12:36:33.689Z"
   },
   {
    "duration": 19,
    "start_time": "2021-08-05T12:38:35.152Z"
   },
   {
    "duration": 17,
    "start_time": "2021-08-05T12:39:42.444Z"
   },
   {
    "duration": 15,
    "start_time": "2021-08-05T12:40:00.185Z"
   },
   {
    "duration": 15,
    "start_time": "2021-08-05T12:40:06.992Z"
   },
   {
    "duration": 15,
    "start_time": "2021-08-05T12:40:09.447Z"
   },
   {
    "duration": 464,
    "start_time": "2021-08-05T12:47:36.439Z"
   },
   {
    "duration": 458,
    "start_time": "2021-08-05T12:49:14.792Z"
   },
   {
    "duration": 1672,
    "start_time": "2021-08-05T12:49:27.246Z"
   },
   {
    "duration": 1682,
    "start_time": "2021-08-05T12:49:28.920Z"
   },
   {
    "duration": 203,
    "start_time": "2021-08-05T12:49:30.605Z"
   },
   {
    "duration": 162,
    "start_time": "2021-08-05T12:49:30.811Z"
   },
   {
    "duration": 148,
    "start_time": "2021-08-05T12:49:30.976Z"
   },
   {
    "duration": 1125,
    "start_time": "2021-08-05T12:49:31.126Z"
   },
   {
    "duration": 518,
    "start_time": "2021-08-05T12:49:32.254Z"
   },
   {
    "duration": 1619,
    "start_time": "2021-08-05T12:50:44.312Z"
   },
   {
    "duration": 1502,
    "start_time": "2021-08-05T12:50:45.933Z"
   },
   {
    "duration": 194,
    "start_time": "2021-08-05T12:50:47.439Z"
   },
   {
    "duration": 151,
    "start_time": "2021-08-05T12:50:47.636Z"
   },
   {
    "duration": 152,
    "start_time": "2021-08-05T12:50:47.789Z"
   },
   {
    "duration": 1048,
    "start_time": "2021-08-05T12:50:47.944Z"
   },
   {
    "duration": 547,
    "start_time": "2021-08-05T12:50:48.994Z"
   },
   {
    "duration": 1140,
    "start_time": "2021-08-05T12:50:49.545Z"
   },
   {
    "duration": 403,
    "start_time": "2021-08-05T12:54:47.549Z"
   },
   {
    "duration": 220,
    "start_time": "2021-08-05T12:55:09.588Z"
   },
   {
    "duration": 47,
    "start_time": "2021-08-05T13:06:48.352Z"
   },
   {
    "duration": 335,
    "start_time": "2021-08-05T13:09:41.386Z"
   },
   {
    "duration": 135,
    "start_time": "2021-08-05T13:10:03.027Z"
   },
   {
    "duration": 47,
    "start_time": "2021-08-05T13:10:23.225Z"
   },
   {
    "duration": 62,
    "start_time": "2021-08-05T13:11:37.688Z"
   },
   {
    "duration": 45,
    "start_time": "2021-08-05T13:12:12.400Z"
   },
   {
    "duration": 291,
    "start_time": "2021-08-05T13:13:47.574Z"
   },
   {
    "duration": 64,
    "start_time": "2021-08-05T13:14:05.360Z"
   },
   {
    "duration": 177,
    "start_time": "2021-08-05T13:17:20.663Z"
   },
   {
    "duration": 118,
    "start_time": "2021-08-05T13:18:35.899Z"
   },
   {
    "duration": 88,
    "start_time": "2021-08-05T13:33:01.320Z"
   },
   {
    "duration": 260,
    "start_time": "2021-08-05T13:33:01.782Z"
   },
   {
    "duration": 309,
    "start_time": "2021-08-05T13:33:49.723Z"
   },
   {
    "duration": 118,
    "start_time": "2021-08-05T13:34:00.213Z"
   },
   {
    "duration": 7351,
    "start_time": "2021-08-05T13:34:01.985Z"
   },
   {
    "duration": 288,
    "start_time": "2021-08-05T13:34:46.949Z"
   },
   {
    "duration": 138,
    "start_time": "2021-08-05T13:35:04.043Z"
   },
   {
    "duration": 6817,
    "start_time": "2021-08-05T13:36:09.547Z"
   },
   {
    "duration": 6535,
    "start_time": "2021-08-05T13:44:14.730Z"
   },
   {
    "duration": 28,
    "start_time": "2021-08-05T13:45:37.745Z"
   },
   {
    "duration": 28,
    "start_time": "2021-08-05T13:45:50.830Z"
   },
   {
    "duration": 75,
    "start_time": "2021-08-05T13:46:10.088Z"
   },
   {
    "duration": 29,
    "start_time": "2021-08-05T13:46:14.547Z"
   },
   {
    "duration": 86,
    "start_time": "2021-08-05T13:46:33.890Z"
   },
   {
    "duration": 122,
    "start_time": "2021-08-05T13:46:46.468Z"
   },
   {
    "duration": 106,
    "start_time": "2021-08-05T13:46:51.905Z"
   },
   {
    "duration": 29,
    "start_time": "2021-08-05T13:46:59.305Z"
   },
   {
    "duration": 6358,
    "start_time": "2021-08-05T13:47:38.227Z"
   },
   {
    "duration": 3,
    "start_time": "2021-08-05T15:34:40.615Z"
   },
   {
    "duration": 7654,
    "start_time": "2021-08-05T15:34:41.764Z"
   },
   {
    "duration": 5,
    "start_time": "2021-08-05T15:38:17.497Z"
   },
   {
    "duration": 7887,
    "start_time": "2021-08-05T15:38:36.510Z"
   },
   {
    "duration": 630,
    "start_time": "2021-08-05T15:44:41.693Z"
   },
   {
    "duration": 517,
    "start_time": "2021-08-05T15:45:10.589Z"
   },
   {
    "duration": 448,
    "start_time": "2021-08-05T15:45:36.225Z"
   },
   {
    "duration": 8025,
    "start_time": "2021-08-05T15:45:55.514Z"
   },
   {
    "duration": 8168,
    "start_time": "2021-08-05T15:54:10.425Z"
   },
   {
    "duration": 8534,
    "start_time": "2021-08-05T15:55:44.761Z"
   },
   {
    "duration": 782,
    "start_time": "2021-08-05T15:57:43.584Z"
   },
   {
    "duration": 19,
    "start_time": "2021-08-05T16:00:04.929Z"
   },
   {
    "duration": 9803,
    "start_time": "2021-08-05T16:00:07.384Z"
   },
   {
    "duration": 8587,
    "start_time": "2021-08-05T16:08:05.444Z"
   },
   {
    "duration": 8679,
    "start_time": "2021-08-05T16:15:49.699Z"
   },
   {
    "duration": 19,
    "start_time": "2021-08-05T16:16:13.493Z"
   },
   {
    "duration": 1652,
    "start_time": "2021-08-05T16:17:30.518Z"
   },
   {
    "duration": 1322,
    "start_time": "2021-08-05T16:17:32.172Z"
   },
   {
    "duration": 176,
    "start_time": "2021-08-05T16:17:33.497Z"
   },
   {
    "duration": 133,
    "start_time": "2021-08-05T16:17:33.676Z"
   },
   {
    "duration": 146,
    "start_time": "2021-08-05T16:17:33.812Z"
   },
   {
    "duration": 197,
    "start_time": "2021-08-05T16:17:33.960Z"
   },
   {
    "duration": 63,
    "start_time": "2021-08-05T16:17:34.159Z"
   },
   {
    "duration": 1091,
    "start_time": "2021-08-05T16:17:34.225Z"
   },
   {
    "duration": 565,
    "start_time": "2021-08-05T16:17:35.320Z"
   },
   {
    "duration": 50,
    "start_time": "2021-08-05T16:17:35.887Z"
   },
   {
    "duration": 69,
    "start_time": "2021-08-05T16:17:35.940Z"
   },
   {
    "duration": 131,
    "start_time": "2021-08-05T16:17:36.011Z"
   },
   {
    "duration": 3,
    "start_time": "2021-08-05T16:17:36.144Z"
   },
   {
    "duration": 8248,
    "start_time": "2021-08-05T16:17:36.166Z"
   },
   {
    "duration": 18,
    "start_time": "2021-08-05T16:17:44.416Z"
   },
   {
    "duration": 22,
    "start_time": "2021-08-05T16:18:04.504Z"
   },
   {
    "duration": 1678,
    "start_time": "2021-08-05T16:19:37.535Z"
   },
   {
    "duration": 1305,
    "start_time": "2021-08-05T16:19:39.216Z"
   },
   {
    "duration": 178,
    "start_time": "2021-08-05T16:19:40.525Z"
   },
   {
    "duration": 137,
    "start_time": "2021-08-05T16:19:40.706Z"
   },
   {
    "duration": 229,
    "start_time": "2021-08-05T16:19:40.846Z"
   },
   {
    "duration": 372,
    "start_time": "2021-08-05T16:19:41.078Z"
   },
   {
    "duration": 67,
    "start_time": "2021-08-05T16:19:41.453Z"
   },
   {
    "duration": 971,
    "start_time": "2021-08-05T16:19:41.524Z"
   },
   {
    "duration": 459,
    "start_time": "2021-08-05T16:19:42.498Z"
   },
   {
    "duration": 54,
    "start_time": "2021-08-05T16:19:42.960Z"
   },
   {
    "duration": 68,
    "start_time": "2021-08-05T16:19:43.017Z"
   },
   {
    "duration": 146,
    "start_time": "2021-08-05T16:19:43.088Z"
   },
   {
    "duration": 10292,
    "start_time": "2021-08-05T16:19:43.237Z"
   },
   {
    "duration": 161,
    "start_time": "2021-08-05T16:20:22.758Z"
   },
   {
    "duration": 1562,
    "start_time": "2021-08-05T16:20:36.447Z"
   },
   {
    "duration": 1402,
    "start_time": "2021-08-05T16:20:38.011Z"
   },
   {
    "duration": 170,
    "start_time": "2021-08-05T16:20:39.416Z"
   },
   {
    "duration": 138,
    "start_time": "2021-08-05T16:20:39.589Z"
   },
   {
    "duration": 148,
    "start_time": "2021-08-05T16:20:39.730Z"
   },
   {
    "duration": 201,
    "start_time": "2021-08-05T16:20:39.880Z"
   },
   {
    "duration": 58,
    "start_time": "2021-08-05T16:20:40.083Z"
   },
   {
    "duration": 956,
    "start_time": "2021-08-05T16:20:40.145Z"
   },
   {
    "duration": 460,
    "start_time": "2021-08-05T16:20:41.104Z"
   },
   {
    "duration": 50,
    "start_time": "2021-08-05T16:20:41.568Z"
   },
   {
    "duration": 73,
    "start_time": "2021-08-05T16:20:41.620Z"
   },
   {
    "duration": 157,
    "start_time": "2021-08-05T16:20:43.806Z"
   },
   {
    "duration": 1724,
    "start_time": "2021-08-05T16:20:59.579Z"
   },
   {
    "duration": 1423,
    "start_time": "2021-08-05T16:21:01.306Z"
   },
   {
    "duration": 177,
    "start_time": "2021-08-05T16:21:02.734Z"
   },
   {
    "duration": 140,
    "start_time": "2021-08-05T16:21:02.914Z"
   },
   {
    "duration": 153,
    "start_time": "2021-08-05T16:21:03.056Z"
   },
   {
    "duration": 202,
    "start_time": "2021-08-05T16:21:03.211Z"
   },
   {
    "duration": 72,
    "start_time": "2021-08-05T16:21:03.416Z"
   },
   {
    "duration": 985,
    "start_time": "2021-08-05T16:21:03.493Z"
   },
   {
    "duration": 479,
    "start_time": "2021-08-05T16:21:04.481Z"
   },
   {
    "duration": 51,
    "start_time": "2021-08-05T16:21:04.967Z"
   },
   {
    "duration": 76,
    "start_time": "2021-08-05T16:21:05.020Z"
   },
   {
    "duration": 1668,
    "start_time": "2021-08-05T16:23:11.860Z"
   },
   {
    "duration": 1379,
    "start_time": "2021-08-05T16:23:13.531Z"
   },
   {
    "duration": 379,
    "start_time": "2021-08-05T16:23:14.913Z"
   },
   {
    "duration": 190,
    "start_time": "2021-08-05T16:23:15.295Z"
   },
   {
    "duration": 147,
    "start_time": "2021-08-05T16:23:15.487Z"
   },
   {
    "duration": 204,
    "start_time": "2021-08-05T16:23:15.637Z"
   },
   {
    "duration": 65,
    "start_time": "2021-08-05T16:23:15.845Z"
   },
   {
    "duration": 1040,
    "start_time": "2021-08-05T16:23:15.912Z"
   },
   {
    "duration": 466,
    "start_time": "2021-08-05T16:23:16.954Z"
   },
   {
    "duration": 66,
    "start_time": "2021-08-05T16:23:17.423Z"
   },
   {
    "duration": 54,
    "start_time": "2021-08-05T16:23:17.491Z"
   },
   {
    "duration": 550,
    "start_time": "2021-08-05T16:34:07.685Z"
   },
   {
    "duration": 236,
    "start_time": "2021-08-05T16:34:19.159Z"
   },
   {
    "duration": 38,
    "start_time": "2021-08-05T16:35:44.768Z"
   },
   {
    "duration": 18613,
    "start_time": "2021-08-05T16:37:35.788Z"
   },
   {
    "duration": 15097,
    "start_time": "2021-08-05T16:38:18.762Z"
   },
   {
    "duration": 7264,
    "start_time": "2021-08-05T16:45:25.634Z"
   },
   {
    "duration": 15308,
    "start_time": "2021-08-05T16:45:51.095Z"
   },
   {
    "duration": 1565,
    "start_time": "2021-08-05T16:46:13.762Z"
   },
   {
    "duration": 1472,
    "start_time": "2021-08-05T16:46:15.330Z"
   },
   {
    "duration": 179,
    "start_time": "2021-08-05T16:46:16.805Z"
   },
   {
    "duration": 145,
    "start_time": "2021-08-05T16:46:16.987Z"
   },
   {
    "duration": 154,
    "start_time": "2021-08-05T16:46:17.135Z"
   },
   {
    "duration": 215,
    "start_time": "2021-08-05T16:46:17.291Z"
   },
   {
    "duration": 70,
    "start_time": "2021-08-05T16:46:17.508Z"
   },
   {
    "duration": 1126,
    "start_time": "2021-08-05T16:46:17.581Z"
   },
   {
    "duration": 476,
    "start_time": "2021-08-05T16:46:18.710Z"
   },
   {
    "duration": 49,
    "start_time": "2021-08-05T16:46:19.189Z"
   },
   {
    "duration": 73,
    "start_time": "2021-08-05T16:46:19.240Z"
   },
   {
    "duration": 177,
    "start_time": "2021-08-05T16:46:19.315Z"
   },
   {
    "duration": 8207,
    "start_time": "2021-08-05T16:46:19.494Z"
   },
   {
    "duration": 1678,
    "start_time": "2021-08-05T16:46:46.042Z"
   },
   {
    "duration": 1376,
    "start_time": "2021-08-05T16:46:47.723Z"
   },
   {
    "duration": 179,
    "start_time": "2021-08-05T16:46:49.101Z"
   },
   {
    "duration": 142,
    "start_time": "2021-08-05T16:46:49.282Z"
   },
   {
    "duration": 151,
    "start_time": "2021-08-05T16:46:49.427Z"
   },
   {
    "duration": 217,
    "start_time": "2021-08-05T16:46:49.580Z"
   },
   {
    "duration": 68,
    "start_time": "2021-08-05T16:46:49.799Z"
   },
   {
    "duration": 1064,
    "start_time": "2021-08-05T16:46:49.871Z"
   },
   {
    "duration": 477,
    "start_time": "2021-08-05T16:46:50.938Z"
   },
   {
    "duration": 69,
    "start_time": "2021-08-05T16:46:51.417Z"
   },
   {
    "duration": 59,
    "start_time": "2021-08-05T16:46:51.489Z"
   },
   {
    "duration": 173,
    "start_time": "2021-08-05T16:46:51.551Z"
   },
   {
    "duration": 6,
    "start_time": "2021-08-05T16:46:51.726Z"
   },
   {
    "duration": 18723,
    "start_time": "2021-08-05T16:46:51.735Z"
   },
   {
    "duration": 2039,
    "start_time": "2021-08-05T16:49:14.725Z"
   },
   {
    "duration": 1344,
    "start_time": "2021-08-05T16:49:16.769Z"
   },
   {
    "duration": 181,
    "start_time": "2021-08-05T16:49:18.116Z"
   },
   {
    "duration": 136,
    "start_time": "2021-08-05T16:49:18.300Z"
   },
   {
    "duration": 151,
    "start_time": "2021-08-05T16:49:18.438Z"
   },
   {
    "duration": 223,
    "start_time": "2021-08-05T16:49:18.592Z"
   },
   {
    "duration": 69,
    "start_time": "2021-08-05T16:49:18.817Z"
   },
   {
    "duration": 1016,
    "start_time": "2021-08-05T16:49:18.890Z"
   },
   {
    "duration": 496,
    "start_time": "2021-08-05T16:49:19.910Z"
   },
   {
    "duration": 66,
    "start_time": "2021-08-05T16:49:20.409Z"
   },
   {
    "duration": 55,
    "start_time": "2021-08-05T16:49:20.479Z"
   },
   {
    "duration": 151,
    "start_time": "2021-08-05T16:49:20.536Z"
   },
   {
    "duration": 6,
    "start_time": "2021-08-05T16:49:20.689Z"
   },
   {
    "duration": 19997,
    "start_time": "2021-08-05T16:49:20.697Z"
   },
   {
    "duration": 47,
    "start_time": "2021-08-05T16:54:31.671Z"
   },
   {
    "duration": 117,
    "start_time": "2021-08-05T17:00:20.878Z"
   },
   {
    "duration": 7,
    "start_time": "2021-08-05T17:04:13.706Z"
   },
   {
    "duration": 2127,
    "start_time": "2021-08-05T17:06:35.927Z"
   },
   {
    "duration": 1920,
    "start_time": "2021-08-05T17:06:38.058Z"
   },
   {
    "duration": 278,
    "start_time": "2021-08-05T17:06:39.982Z"
   },
   {
    "duration": 181,
    "start_time": "2021-08-05T17:06:40.268Z"
   },
   {
    "duration": 221,
    "start_time": "2021-08-05T17:06:40.452Z"
   },
   {
    "duration": 379,
    "start_time": "2021-08-05T17:06:40.676Z"
   },
   {
    "duration": 77,
    "start_time": "2021-08-05T17:06:41.058Z"
   },
   {
    "duration": 1491,
    "start_time": "2021-08-05T17:06:41.140Z"
   },
   {
    "duration": 473,
    "start_time": "2021-08-05T17:06:42.634Z"
   },
   {
    "duration": 66,
    "start_time": "2021-08-05T17:06:43.109Z"
   },
   {
    "duration": 55,
    "start_time": "2021-08-05T17:06:43.177Z"
   },
   {
    "duration": 142,
    "start_time": "2021-08-05T17:06:43.235Z"
   },
   {
    "duration": 6,
    "start_time": "2021-08-05T17:06:43.379Z"
   },
   {
    "duration": 627,
    "start_time": "2021-08-05T17:06:43.387Z"
   },
   {
    "duration": 183,
    "start_time": "2021-08-05T17:06:43.835Z"
   },
   {
    "duration": 180,
    "start_time": "2021-08-05T17:06:43.839Z"
   },
   {
    "duration": 180,
    "start_time": "2021-08-05T17:06:43.841Z"
   },
   {
    "duration": 17647,
    "start_time": "2021-08-05T17:09:00.867Z"
   },
   {
    "duration": 116,
    "start_time": "2021-08-05T17:09:37.013Z"
   },
   {
    "duration": 11,
    "start_time": "2021-08-05T17:09:38.714Z"
   },
   {
    "duration": 23911,
    "start_time": "2021-08-05T17:09:39.406Z"
   },
   {
    "duration": 13883,
    "start_time": "2021-08-05T17:11:41.379Z"
   },
   {
    "duration": 13992,
    "start_time": "2021-08-05T17:13:37.691Z"
   },
   {
    "duration": 1611,
    "start_time": "2021-08-05T17:17:44.088Z"
   },
   {
    "duration": 1352,
    "start_time": "2021-08-05T17:17:45.703Z"
   },
   {
    "duration": 170,
    "start_time": "2021-08-05T17:17:47.066Z"
   },
   {
    "duration": 146,
    "start_time": "2021-08-05T17:17:47.239Z"
   },
   {
    "duration": 172,
    "start_time": "2021-08-05T17:17:47.388Z"
   },
   {
    "duration": 193,
    "start_time": "2021-08-05T17:17:47.563Z"
   },
   {
    "duration": 64,
    "start_time": "2021-08-05T17:17:47.759Z"
   },
   {
    "duration": 1014,
    "start_time": "2021-08-05T17:17:47.827Z"
   },
   {
    "duration": 470,
    "start_time": "2021-08-05T17:17:48.843Z"
   },
   {
    "duration": 60,
    "start_time": "2021-08-05T17:17:49.316Z"
   },
   {
    "duration": 56,
    "start_time": "2021-08-05T17:17:49.379Z"
   },
   {
    "duration": 149,
    "start_time": "2021-08-05T17:17:49.438Z"
   },
   {
    "duration": 6,
    "start_time": "2021-08-05T17:17:49.590Z"
   },
   {
    "duration": 18368,
    "start_time": "2021-08-05T17:17:49.599Z"
   },
   {
    "duration": 126,
    "start_time": "2021-08-05T17:18:07.969Z"
   },
   {
    "duration": 6,
    "start_time": "2021-08-05T17:18:08.097Z"
   },
   {
    "duration": 14576,
    "start_time": "2021-08-05T17:18:08.106Z"
   },
   {
    "duration": 97,
    "start_time": "2021-08-05T17:18:22.685Z"
   },
   {
    "duration": 14385,
    "start_time": "2021-08-05T17:21:39.097Z"
   },
   {
    "duration": 14686,
    "start_time": "2021-08-05T17:22:04.386Z"
   },
   {
    "duration": 533,
    "start_time": "2021-08-05T17:24:37.004Z"
   },
   {
    "duration": 14116,
    "start_time": "2021-08-05T17:24:54.764Z"
   },
   {
    "duration": 13854,
    "start_time": "2021-08-05T17:28:22.364Z"
   },
   {
    "duration": 14167,
    "start_time": "2021-08-05T17:30:44.640Z"
   },
   {
    "duration": 1612,
    "start_time": "2021-08-05T17:31:56.115Z"
   },
   {
    "duration": 1346,
    "start_time": "2021-08-05T17:31:57.730Z"
   },
   {
    "duration": 172,
    "start_time": "2021-08-05T17:31:59.079Z"
   },
   {
    "duration": 136,
    "start_time": "2021-08-05T17:31:59.254Z"
   },
   {
    "duration": 155,
    "start_time": "2021-08-05T17:31:59.392Z"
   },
   {
    "duration": 204,
    "start_time": "2021-08-05T17:31:59.549Z"
   },
   {
    "duration": 64,
    "start_time": "2021-08-05T17:31:59.755Z"
   },
   {
    "duration": 1207,
    "start_time": "2021-08-05T17:31:59.822Z"
   },
   {
    "duration": 474,
    "start_time": "2021-08-05T17:32:01.032Z"
   },
   {
    "duration": 60,
    "start_time": "2021-08-05T17:32:01.508Z"
   },
   {
    "duration": 64,
    "start_time": "2021-08-05T17:32:01.570Z"
   },
   {
    "duration": 156,
    "start_time": "2021-08-05T17:32:01.637Z"
   },
   {
    "duration": 8,
    "start_time": "2021-08-05T17:32:01.797Z"
   },
   {
    "duration": 18016,
    "start_time": "2021-08-05T17:32:01.808Z"
   },
   {
    "duration": 141,
    "start_time": "2021-08-05T17:32:19.827Z"
   },
   {
    "duration": 7,
    "start_time": "2021-08-05T17:32:19.971Z"
   },
   {
    "duration": 17677,
    "start_time": "2021-08-05T17:32:19.981Z"
   },
   {
    "duration": 83,
    "start_time": "2021-08-05T17:32:37.666Z"
   },
   {
    "duration": 14159,
    "start_time": "2021-08-05T17:33:58.320Z"
   },
   {
    "duration": 13975,
    "start_time": "2021-08-05T17:36:20.104Z"
   },
   {
    "duration": 643,
    "start_time": "2021-08-05T17:59:48.676Z"
   },
   {
    "duration": 172,
    "start_time": "2021-08-05T17:59:59.464Z"
   },
   {
    "duration": 145,
    "start_time": "2021-08-05T18:00:10.907Z"
   },
   {
    "duration": 93,
    "start_time": "2021-08-05T18:01:49.274Z"
   },
   {
    "duration": 49,
    "start_time": "2021-08-05T18:03:02.252Z"
   },
   {
    "duration": 319,
    "start_time": "2021-08-05T18:10:11.383Z"
   },
   {
    "duration": 76,
    "start_time": "2021-08-05T18:12:42.158Z"
   },
   {
    "duration": 1527,
    "start_time": "2021-08-05T18:16:34.596Z"
   },
   {
    "duration": 1326,
    "start_time": "2021-08-05T18:16:36.126Z"
   },
   {
    "duration": 175,
    "start_time": "2021-08-05T18:16:37.455Z"
   },
   {
    "duration": 138,
    "start_time": "2021-08-05T18:16:37.633Z"
   },
   {
    "duration": 148,
    "start_time": "2021-08-05T18:16:37.774Z"
   },
   {
    "duration": 208,
    "start_time": "2021-08-05T18:16:37.925Z"
   },
   {
    "duration": 64,
    "start_time": "2021-08-05T18:16:38.136Z"
   },
   {
    "duration": 990,
    "start_time": "2021-08-05T18:16:38.203Z"
   },
   {
    "duration": 455,
    "start_time": "2021-08-05T18:16:39.196Z"
   },
   {
    "duration": 92,
    "start_time": "2021-08-05T18:16:39.653Z"
   },
   {
    "duration": 65,
    "start_time": "2021-08-05T18:16:39.748Z"
   },
   {
    "duration": 67,
    "start_time": "2021-08-05T18:16:39.815Z"
   },
   {
    "duration": 129,
    "start_time": "2021-08-05T18:16:39.884Z"
   },
   {
    "duration": 6,
    "start_time": "2021-08-05T18:16:40.015Z"
   },
   {
    "duration": 17382,
    "start_time": "2021-08-05T18:16:40.023Z"
   },
   {
    "duration": 126,
    "start_time": "2021-08-05T18:16:57.407Z"
   },
   {
    "duration": 7,
    "start_time": "2021-08-05T18:16:57.536Z"
   },
   {
    "duration": 17424,
    "start_time": "2021-08-05T18:16:57.545Z"
   },
   {
    "duration": 335,
    "start_time": "2021-08-05T18:17:14.972Z"
   },
   {
    "duration": 163,
    "start_time": "2021-08-05T18:17:15.310Z"
   },
   {
    "duration": 94,
    "start_time": "2021-08-05T18:17:15.476Z"
   },
   {
    "duration": 74,
    "start_time": "2021-08-05T18:17:15.573Z"
   },
   {
    "duration": 21,
    "start_time": "2021-08-05T18:17:59.708Z"
   },
   {
    "duration": 1555,
    "start_time": "2021-08-05T19:26:45.710Z"
   },
   {
    "duration": 1738,
    "start_time": "2021-08-05T19:26:47.268Z"
   },
   {
    "duration": 178,
    "start_time": "2021-08-05T19:26:49.009Z"
   },
   {
    "duration": 188,
    "start_time": "2021-08-05T19:26:49.190Z"
   },
   {
    "duration": 230,
    "start_time": "2021-08-05T19:26:49.381Z"
   },
   {
    "duration": 205,
    "start_time": "2021-08-05T19:26:49.614Z"
   },
   {
    "duration": 62,
    "start_time": "2021-08-05T19:26:49.822Z"
   },
   {
    "duration": 96,
    "start_time": "2021-08-05T19:26:49.887Z"
   },
   {
    "duration": 1048,
    "start_time": "2021-08-05T19:26:49.986Z"
   },
   {
    "duration": 470,
    "start_time": "2021-08-05T19:26:51.036Z"
   },
   {
    "duration": 112,
    "start_time": "2021-08-05T19:26:51.508Z"
   },
   {
    "duration": 68,
    "start_time": "2021-08-05T19:26:51.623Z"
   },
   {
    "duration": 74,
    "start_time": "2021-08-05T19:26:51.693Z"
   },
   {
    "duration": 134,
    "start_time": "2021-08-05T19:26:51.770Z"
   },
   {
    "duration": 8,
    "start_time": "2021-08-05T19:26:51.907Z"
   },
   {
    "duration": 19422,
    "start_time": "2021-08-05T19:26:51.918Z"
   },
   {
    "duration": 93,
    "start_time": "2021-08-05T19:27:11.342Z"
   },
   {
    "duration": 133,
    "start_time": "2021-08-05T19:27:11.437Z"
   },
   {
    "duration": 6,
    "start_time": "2021-08-05T19:27:11.572Z"
   },
   {
    "duration": 18675,
    "start_time": "2021-08-05T19:27:11.580Z"
   },
   {
    "duration": 85,
    "start_time": "2021-08-05T19:27:30.266Z"
   },
   {
    "duration": 344,
    "start_time": "2021-08-05T19:27:30.353Z"
   },
   {
    "duration": 91,
    "start_time": "2021-08-05T19:27:30.701Z"
   },
   {
    "duration": 173,
    "start_time": "2021-08-05T19:27:30.794Z"
   },
   {
    "duration": 136,
    "start_time": "2021-08-05T19:27:30.970Z"
   },
   {
    "duration": 90,
    "start_time": "2021-08-05T19:27:31.110Z"
   },
   {
    "duration": 1621,
    "start_time": "2021-08-05T19:36:58.913Z"
   },
   {
    "duration": 2089,
    "start_time": "2021-08-05T19:37:00.537Z"
   },
   {
    "duration": 177,
    "start_time": "2021-08-05T19:37:02.628Z"
   },
   {
    "duration": 143,
    "start_time": "2021-08-05T19:37:02.808Z"
   },
   {
    "duration": 293,
    "start_time": "2021-08-05T19:37:02.953Z"
   },
   {
    "duration": -56,
    "start_time": "2021-08-05T19:37:03.306Z"
   },
   {
    "duration": -64,
    "start_time": "2021-08-05T19:37:03.315Z"
   },
   {
    "duration": -69,
    "start_time": "2021-08-05T19:37:03.321Z"
   },
   {
    "duration": -73,
    "start_time": "2021-08-05T19:37:03.326Z"
   },
   {
    "duration": -77,
    "start_time": "2021-08-05T19:37:03.332Z"
   },
   {
    "duration": -84,
    "start_time": "2021-08-05T19:37:03.340Z"
   },
   {
    "duration": -90,
    "start_time": "2021-08-05T19:37:03.347Z"
   },
   {
    "duration": -94,
    "start_time": "2021-08-05T19:37:03.352Z"
   },
   {
    "duration": -102,
    "start_time": "2021-08-05T19:37:03.361Z"
   },
   {
    "duration": -109,
    "start_time": "2021-08-05T19:37:03.370Z"
   },
   {
    "duration": -115,
    "start_time": "2021-08-05T19:37:03.377Z"
   },
   {
    "duration": -119,
    "start_time": "2021-08-05T19:37:03.382Z"
   },
   {
    "duration": -122,
    "start_time": "2021-08-05T19:37:03.387Z"
   },
   {
    "duration": -127,
    "start_time": "2021-08-05T19:37:03.393Z"
   },
   {
    "duration": -147,
    "start_time": "2021-08-05T19:37:03.414Z"
   },
   {
    "duration": -241,
    "start_time": "2021-08-05T19:37:03.509Z"
   },
   {
    "duration": -244,
    "start_time": "2021-08-05T19:37:03.514Z"
   },
   {
    "duration": -248,
    "start_time": "2021-08-05T19:37:03.519Z"
   },
   {
    "duration": -252,
    "start_time": "2021-08-05T19:37:03.524Z"
   },
   {
    "duration": -264,
    "start_time": "2021-08-05T19:37:03.537Z"
   },
   {
    "duration": -269,
    "start_time": "2021-08-05T19:37:03.544Z"
   },
   {
    "duration": -273,
    "start_time": "2021-08-05T19:37:03.549Z"
   },
   {
    "duration": 146,
    "start_time": "2021-08-05T19:40:00.265Z"
   },
   {
    "duration": 327,
    "start_time": "2021-08-05T19:40:02.472Z"
   },
   {
    "duration": 56,
    "start_time": "2021-08-05T19:40:33.152Z"
   },
   {
    "duration": 982,
    "start_time": "2021-08-05T19:40:33.804Z"
   },
   {
    "duration": 462,
    "start_time": "2021-08-05T19:40:34.789Z"
   },
   {
    "duration": 94,
    "start_time": "2021-08-05T19:40:35.254Z"
   },
   {
    "duration": 63,
    "start_time": "2021-08-05T19:40:35.350Z"
   },
   {
    "duration": 76,
    "start_time": "2021-08-05T19:40:35.415Z"
   },
   {
    "duration": 134,
    "start_time": "2021-08-05T19:40:35.493Z"
   },
   {
    "duration": 5,
    "start_time": "2021-08-05T19:40:35.630Z"
   },
   {
    "duration": 10633,
    "start_time": "2021-08-05T19:40:35.638Z"
   },
   {
    "duration": -101,
    "start_time": "2021-08-05T19:40:46.376Z"
   },
   {
    "duration": -104,
    "start_time": "2021-08-05T19:40:46.382Z"
   },
   {
    "duration": -112,
    "start_time": "2021-08-05T19:40:46.392Z"
   },
   {
    "duration": -117,
    "start_time": "2021-08-05T19:40:46.399Z"
   },
   {
    "duration": -122,
    "start_time": "2021-08-05T19:40:46.406Z"
   },
   {
    "duration": -126,
    "start_time": "2021-08-05T19:40:46.412Z"
   },
   {
    "duration": -130,
    "start_time": "2021-08-05T19:40:46.418Z"
   },
   {
    "duration": -134,
    "start_time": "2021-08-05T19:40:46.424Z"
   },
   {
    "duration": -137,
    "start_time": "2021-08-05T19:40:46.429Z"
   },
   {
    "duration": -144,
    "start_time": "2021-08-05T19:40:46.438Z"
   },
   {
    "duration": 1645,
    "start_time": "2021-08-05T19:41:46.507Z"
   },
   {
    "duration": 1618,
    "start_time": "2021-08-05T19:41:48.155Z"
   },
   {
    "duration": 265,
    "start_time": "2021-08-05T19:41:49.777Z"
   },
   {
    "duration": 174,
    "start_time": "2021-08-05T19:41:50.045Z"
   },
   {
    "duration": 157,
    "start_time": "2021-08-05T19:41:50.222Z"
   },
   {
    "duration": 249,
    "start_time": "2021-08-05T19:41:50.382Z"
   },
   {
    "duration": 69,
    "start_time": "2021-08-05T19:41:50.634Z"
   },
   {
    "duration": 996,
    "start_time": "2021-08-05T19:41:50.707Z"
   },
   {
    "duration": 507,
    "start_time": "2021-08-05T19:41:51.707Z"
   },
   {
    "duration": 61,
    "start_time": "2021-08-05T19:41:52.218Z"
   },
   {
    "duration": 57,
    "start_time": "2021-08-05T19:41:52.281Z"
   },
   {
    "duration": 148,
    "start_time": "2021-08-05T19:41:52.341Z"
   },
   {
    "duration": 8,
    "start_time": "2021-08-05T19:41:52.492Z"
   },
   {
    "duration": 8991,
    "start_time": "2021-08-05T19:41:52.503Z"
   },
   {
    "duration": -324,
    "start_time": "2021-08-05T19:42:01.821Z"
   },
   {
    "duration": -334,
    "start_time": "2021-08-05T19:42:01.833Z"
   },
   {
    "duration": -340,
    "start_time": "2021-08-05T19:42:01.841Z"
   },
   {
    "duration": -343,
    "start_time": "2021-08-05T19:42:01.846Z"
   },
   {
    "duration": -348,
    "start_time": "2021-08-05T19:42:01.853Z"
   },
   {
    "duration": 8947,
    "start_time": "2021-08-05T19:42:18.699Z"
   },
   {
    "duration": 141,
    "start_time": "2021-08-05T19:42:55.797Z"
   },
   {
    "duration": 8,
    "start_time": "2021-08-05T19:42:56.273Z"
   },
   {
    "duration": 17252,
    "start_time": "2021-08-05T19:42:56.502Z"
   },
   {
    "duration": 192,
    "start_time": "2021-08-05T19:43:13.768Z"
   },
   {
    "duration": 101,
    "start_time": "2021-08-05T19:43:13.967Z"
   },
   {
    "duration": 1713,
    "start_time": "2021-08-05T19:43:53.620Z"
   },
   {
    "duration": 1415,
    "start_time": "2021-08-05T19:43:55.338Z"
   },
   {
    "duration": 183,
    "start_time": "2021-08-05T19:43:56.756Z"
   },
   {
    "duration": 155,
    "start_time": "2021-08-05T19:43:56.943Z"
   },
   {
    "duration": 154,
    "start_time": "2021-08-05T19:43:57.101Z"
   },
   {
    "duration": 259,
    "start_time": "2021-08-05T19:43:57.258Z"
   },
   {
    "duration": 63,
    "start_time": "2021-08-05T19:43:57.519Z"
   },
   {
    "duration": 1044,
    "start_time": "2021-08-05T19:43:57.586Z"
   },
   {
    "duration": 510,
    "start_time": "2021-08-05T19:43:58.633Z"
   },
   {
    "duration": 60,
    "start_time": "2021-08-05T19:43:59.145Z"
   },
   {
    "duration": 81,
    "start_time": "2021-08-05T19:43:59.208Z"
   },
   {
    "duration": 141,
    "start_time": "2021-08-05T19:43:59.292Z"
   },
   {
    "duration": 6,
    "start_time": "2021-08-05T19:43:59.436Z"
   },
   {
    "duration": 7589,
    "start_time": "2021-08-05T19:43:59.445Z"
   },
   {
    "duration": -124,
    "start_time": "2021-08-05T19:44:07.161Z"
   },
   {
    "duration": -130,
    "start_time": "2021-08-05T19:44:07.170Z"
   },
   {
    "duration": -133,
    "start_time": "2021-08-05T19:44:07.175Z"
   },
   {
    "duration": -139,
    "start_time": "2021-08-05T19:44:07.183Z"
   },
   {
    "duration": -143,
    "start_time": "2021-08-05T19:44:07.189Z"
   },
   {
    "duration": 7019,
    "start_time": "2021-08-05T19:44:28.775Z"
   },
   {
    "duration": 10593,
    "start_time": "2021-08-05T19:45:13.795Z"
   },
   {
    "duration": 7564,
    "start_time": "2021-08-05T19:46:47.985Z"
   },
   {
    "duration": 6778,
    "start_time": "2021-08-05T19:48:11.208Z"
   },
   {
    "duration": 1760,
    "start_time": "2021-08-05T19:49:01.271Z"
   },
   {
    "duration": 1477,
    "start_time": "2021-08-05T19:49:03.034Z"
   },
   {
    "duration": 168,
    "start_time": "2021-08-05T19:49:05.444Z"
   },
   {
    "duration": 147,
    "start_time": "2021-08-05T19:49:06.100Z"
   },
   {
    "duration": 143,
    "start_time": "2021-08-05T19:49:08.365Z"
   },
   {
    "duration": 215,
    "start_time": "2021-08-05T19:49:13.273Z"
   },
   {
    "duration": 61,
    "start_time": "2021-08-05T19:49:15.038Z"
   },
   {
    "duration": 1158,
    "start_time": "2021-08-05T19:49:16.913Z"
   },
   {
    "duration": 570,
    "start_time": "2021-08-05T19:49:19.469Z"
   },
   {
    "duration": 53,
    "start_time": "2021-08-05T19:49:22.151Z"
   },
   {
    "duration": 90,
    "start_time": "2021-08-05T19:49:24.150Z"
   },
   {
    "duration": 131,
    "start_time": "2021-08-05T19:49:26.253Z"
   },
   {
    "duration": 52,
    "start_time": "2021-08-05T19:49:27.325Z"
   },
   {
    "duration": 8217,
    "start_time": "2021-08-05T19:49:37.328Z"
   },
   {
    "duration": 4,
    "start_time": "2021-08-05T19:51:22.766Z"
   },
   {
    "duration": 309,
    "start_time": "2021-08-05T19:52:23.146Z"
   },
   {
    "duration": 7720,
    "start_time": "2021-08-05T19:52:45.729Z"
   },
   {
    "duration": 2569,
    "start_time": "2021-08-05T20:02:53.171Z"
   },
   {
    "duration": 1345,
    "start_time": "2021-08-05T20:02:55.743Z"
   },
   {
    "duration": 210,
    "start_time": "2021-08-05T20:02:57.091Z"
   },
   {
    "duration": 154,
    "start_time": "2021-08-05T20:02:57.304Z"
   },
   {
    "duration": 149,
    "start_time": "2021-08-05T20:02:57.467Z"
   },
   {
    "duration": 214,
    "start_time": "2021-08-05T20:02:57.618Z"
   },
   {
    "duration": 66,
    "start_time": "2021-08-05T20:02:57.835Z"
   },
   {
    "duration": 1165,
    "start_time": "2021-08-05T20:02:57.905Z"
   },
   {
    "duration": 465,
    "start_time": "2021-08-05T20:02:59.073Z"
   },
   {
    "duration": 66,
    "start_time": "2021-08-05T20:02:59.540Z"
   },
   {
    "duration": 129,
    "start_time": "2021-08-05T20:02:59.608Z"
   },
   {
    "duration": 6,
    "start_time": "2021-08-05T20:02:59.739Z"
   },
   {
    "duration": 14690,
    "start_time": "2021-08-05T20:02:59.747Z"
   },
   {
    "duration": 66,
    "start_time": "2021-08-05T20:03:14.440Z"
   },
   {
    "duration": 169,
    "start_time": "2021-08-05T20:03:14.508Z"
   },
   {
    "duration": 41,
    "start_time": "2021-08-05T20:03:14.680Z"
   },
   {
    "duration": 7318,
    "start_time": "2021-08-05T20:03:14.724Z"
   },
   {
    "duration": -56,
    "start_time": "2021-08-05T20:03:22.101Z"
   },
   {
    "duration": -63,
    "start_time": "2021-08-05T20:03:22.110Z"
   },
   {
    "duration": -66,
    "start_time": "2021-08-05T20:03:22.115Z"
   },
   {
    "duration": -72,
    "start_time": "2021-08-05T20:03:22.122Z"
   },
   {
    "duration": -74,
    "start_time": "2021-08-05T20:03:22.126Z"
   },
   {
    "duration": -79,
    "start_time": "2021-08-05T20:03:22.132Z"
   },
   {
    "duration": 14700,
    "start_time": "2021-08-05T20:04:52.114Z"
   },
   {
    "duration": 6612,
    "start_time": "2021-08-05T20:05:51.115Z"
   },
   {
    "duration": 1736,
    "start_time": "2021-08-05T20:06:15.485Z"
   },
   {
    "duration": 1374,
    "start_time": "2021-08-05T20:06:17.223Z"
   },
   {
    "duration": 192,
    "start_time": "2021-08-05T20:06:18.600Z"
   },
   {
    "duration": 146,
    "start_time": "2021-08-05T20:06:18.795Z"
   },
   {
    "duration": 150,
    "start_time": "2021-08-05T20:06:18.943Z"
   },
   {
    "duration": 208,
    "start_time": "2021-08-05T20:06:19.095Z"
   },
   {
    "duration": 74,
    "start_time": "2021-08-05T20:06:19.306Z"
   },
   {
    "duration": 1034,
    "start_time": "2021-08-05T20:06:19.383Z"
   },
   {
    "duration": 481,
    "start_time": "2021-08-05T20:06:20.421Z"
   },
   {
    "duration": 61,
    "start_time": "2021-08-05T20:06:20.906Z"
   },
   {
    "duration": 131,
    "start_time": "2021-08-05T20:06:20.970Z"
   },
   {
    "duration": 34,
    "start_time": "2021-08-05T20:06:21.103Z"
   },
   {
    "duration": 14842,
    "start_time": "2021-08-05T20:06:21.140Z"
   },
   {
    "duration": 55,
    "start_time": "2021-08-05T20:06:35.985Z"
   },
   {
    "duration": 184,
    "start_time": "2021-08-05T20:06:36.042Z"
   },
   {
    "duration": 60,
    "start_time": "2021-08-05T20:06:36.228Z"
   },
   {
    "duration": 8238,
    "start_time": "2021-08-05T20:06:36.291Z"
   },
   {
    "duration": -129,
    "start_time": "2021-08-05T20:06:44.661Z"
   },
   {
    "duration": -138,
    "start_time": "2021-08-05T20:06:44.672Z"
   },
   {
    "duration": -145,
    "start_time": "2021-08-05T20:06:44.680Z"
   },
   {
    "duration": -148,
    "start_time": "2021-08-05T20:06:44.685Z"
   },
   {
    "duration": -154,
    "start_time": "2021-08-05T20:06:44.693Z"
   },
   {
    "duration": -159,
    "start_time": "2021-08-05T20:06:44.699Z"
   },
   {
    "duration": 7678,
    "start_time": "2021-08-05T20:08:36.475Z"
   },
   {
    "duration": 1603,
    "start_time": "2021-08-05T20:11:28.625Z"
   },
   {
    "duration": 1366,
    "start_time": "2021-08-05T20:11:30.231Z"
   },
   {
    "duration": 267,
    "start_time": "2021-08-05T20:11:31.601Z"
   },
   {
    "duration": 142,
    "start_time": "2021-08-05T20:11:31.872Z"
   },
   {
    "duration": 154,
    "start_time": "2021-08-05T20:11:32.017Z"
   },
   {
    "duration": 207,
    "start_time": "2021-08-05T20:11:32.174Z"
   },
   {
    "duration": 60,
    "start_time": "2021-08-05T20:11:32.384Z"
   },
   {
    "duration": 1221,
    "start_time": "2021-08-05T20:11:32.446Z"
   },
   {
    "duration": 469,
    "start_time": "2021-08-05T20:11:33.671Z"
   },
   {
    "duration": 57,
    "start_time": "2021-08-05T20:11:34.143Z"
   },
   {
    "duration": 67,
    "start_time": "2021-08-05T20:11:34.202Z"
   },
   {
    "duration": 131,
    "start_time": "2021-08-05T20:11:34.271Z"
   },
   {
    "duration": 37,
    "start_time": "2021-08-05T20:11:34.404Z"
   },
   {
    "duration": 8039,
    "start_time": "2021-08-05T20:11:34.443Z"
   },
   {
    "duration": -168,
    "start_time": "2021-08-05T20:11:42.652Z"
   },
   {
    "duration": -174,
    "start_time": "2021-08-05T20:11:42.659Z"
   },
   {
    "duration": -183,
    "start_time": "2021-08-05T20:11:42.670Z"
   },
   {
    "duration": -189,
    "start_time": "2021-08-05T20:11:42.677Z"
   },
   {
    "duration": -195,
    "start_time": "2021-08-05T20:11:42.684Z"
   },
   {
    "duration": 269,
    "start_time": "2021-08-05T20:12:58.885Z"
   },
   {
    "duration": 7588,
    "start_time": "2021-08-05T20:13:11.992Z"
   },
   {
    "duration": 1656,
    "start_time": "2021-08-05T20:20:10.870Z"
   },
   {
    "duration": 1459,
    "start_time": "2021-08-05T20:20:12.529Z"
   },
   {
    "duration": 177,
    "start_time": "2021-08-05T20:20:13.991Z"
   },
   {
    "duration": 143,
    "start_time": "2021-08-05T20:20:14.171Z"
   },
   {
    "duration": 151,
    "start_time": "2021-08-05T20:20:14.316Z"
   },
   {
    "duration": 212,
    "start_time": "2021-08-05T20:20:14.469Z"
   },
   {
    "duration": 74,
    "start_time": "2021-08-05T20:20:14.684Z"
   },
   {
    "duration": 1045,
    "start_time": "2021-08-05T20:20:14.762Z"
   },
   {
    "duration": 478,
    "start_time": "2021-08-05T20:20:15.810Z"
   },
   {
    "duration": 51,
    "start_time": "2021-08-05T20:20:16.291Z"
   },
   {
    "duration": 70,
    "start_time": "2021-08-05T20:20:16.345Z"
   },
   {
    "duration": 609,
    "start_time": "2021-08-05T20:20:16.418Z"
   },
   {
    "duration": 14,
    "start_time": "2021-08-05T20:20:17.015Z"
   },
   {
    "duration": 8,
    "start_time": "2021-08-05T20:20:17.023Z"
   },
   {
    "duration": 4,
    "start_time": "2021-08-05T20:20:17.028Z"
   },
   {
    "duration": 1,
    "start_time": "2021-08-05T20:20:17.033Z"
   },
   {
    "duration": -5,
    "start_time": "2021-08-05T20:20:17.040Z"
   },
   {
    "duration": -9,
    "start_time": "2021-08-05T20:20:17.045Z"
   },
   {
    "duration": -20,
    "start_time": "2021-08-05T20:20:17.057Z"
   },
   {
    "duration": -24,
    "start_time": "2021-08-05T20:20:17.062Z"
   },
   {
    "duration": 154,
    "start_time": "2021-08-05T20:21:04.222Z"
   },
   {
    "duration": 58,
    "start_time": "2021-08-05T20:21:10.701Z"
   },
   {
    "duration": 5,
    "start_time": "2021-08-05T20:21:12.034Z"
   },
   {
    "duration": 8273,
    "start_time": "2021-08-05T20:21:16.131Z"
   },
   {
    "duration": 1677,
    "start_time": "2021-08-05T20:24:36.195Z"
   },
   {
    "duration": 1345,
    "start_time": "2021-08-05T20:24:37.875Z"
   },
   {
    "duration": 174,
    "start_time": "2021-08-05T20:24:39.223Z"
   },
   {
    "duration": 150,
    "start_time": "2021-08-05T20:24:39.400Z"
   },
   {
    "duration": 157,
    "start_time": "2021-08-05T20:24:39.553Z"
   },
   {
    "duration": 210,
    "start_time": "2021-08-05T20:24:39.713Z"
   },
   {
    "duration": 70,
    "start_time": "2021-08-05T20:24:39.926Z"
   },
   {
    "duration": 1052,
    "start_time": "2021-08-05T20:24:40.000Z"
   },
   {
    "duration": 584,
    "start_time": "2021-08-05T20:24:41.055Z"
   },
   {
    "duration": 59,
    "start_time": "2021-08-05T20:24:41.641Z"
   },
   {
    "duration": 178,
    "start_time": "2021-08-05T20:24:41.702Z"
   },
   {
    "duration": 89,
    "start_time": "2021-08-05T20:24:41.883Z"
   },
   {
    "duration": 1674,
    "start_time": "2021-08-05T20:26:20.261Z"
   },
   {
    "duration": 1340,
    "start_time": "2021-08-05T20:26:21.937Z"
   },
   {
    "duration": 188,
    "start_time": "2021-08-05T20:26:23.281Z"
   },
   {
    "duration": 138,
    "start_time": "2021-08-05T20:26:23.471Z"
   },
   {
    "duration": 139,
    "start_time": "2021-08-05T20:26:24.109Z"
   },
   {
    "duration": 194,
    "start_time": "2021-08-05T20:26:25.591Z"
   },
   {
    "duration": 58,
    "start_time": "2021-08-05T20:26:26.977Z"
   },
   {
    "duration": 1083,
    "start_time": "2021-08-05T20:26:27.998Z"
   },
   {
    "duration": 472,
    "start_time": "2021-08-05T20:26:29.084Z"
   },
   {
    "duration": 50,
    "start_time": "2021-08-05T20:26:34.347Z"
   },
   {
    "duration": 61,
    "start_time": "2021-08-05T20:33:49.611Z"
   },
   {
    "duration": 148,
    "start_time": "2021-08-05T20:36:21.321Z"
   },
   {
    "duration": 40,
    "start_time": "2021-08-05T20:36:45.828Z"
   },
   {
    "duration": 7553,
    "start_time": "2021-08-05T20:37:49.427Z"
   },
   {
    "duration": 54,
    "start_time": "2021-08-05T20:41:09.490Z"
   },
   {
    "duration": 149,
    "start_time": "2021-08-05T20:41:17.864Z"
   },
   {
    "duration": 145,
    "start_time": "2021-08-05T20:42:54.204Z"
   },
   {
    "duration": 35,
    "start_time": "2021-08-05T20:43:21.798Z"
   },
   {
    "duration": 14391,
    "start_time": "2021-08-05T20:44:59.620Z"
   },
   {
    "duration": 6965,
    "start_time": "2021-08-05T20:46:06.992Z"
   },
   {
    "duration": 14226,
    "start_time": "2021-08-05T20:46:59.152Z"
   },
   {
    "duration": 1567,
    "start_time": "2021-08-05T20:49:16.054Z"
   },
   {
    "duration": 1362,
    "start_time": "2021-08-05T20:49:17.624Z"
   },
   {
    "duration": 169,
    "start_time": "2021-08-05T20:49:18.989Z"
   },
   {
    "duration": 135,
    "start_time": "2021-08-05T20:49:19.167Z"
   },
   {
    "duration": 150,
    "start_time": "2021-08-05T20:49:19.305Z"
   },
   {
    "duration": 203,
    "start_time": "2021-08-05T20:49:19.457Z"
   },
   {
    "duration": 61,
    "start_time": "2021-08-05T20:49:19.663Z"
   },
   {
    "duration": 1008,
    "start_time": "2021-08-05T20:49:19.727Z"
   },
   {
    "duration": 461,
    "start_time": "2021-08-05T20:49:20.739Z"
   },
   {
    "duration": 67,
    "start_time": "2021-08-05T20:49:21.203Z"
   },
   {
    "duration": 74,
    "start_time": "2021-08-05T20:49:21.273Z"
   },
   {
    "duration": 167,
    "start_time": "2021-08-05T20:49:21.366Z"
   },
   {
    "duration": 54,
    "start_time": "2021-08-05T20:49:21.536Z"
   },
   {
    "duration": 17543,
    "start_time": "2021-08-05T20:49:21.593Z"
   },
   {
    "duration": 241,
    "start_time": "2021-08-05T20:49:39.138Z"
   },
   {
    "duration": 93,
    "start_time": "2021-08-05T20:49:39.381Z"
   },
   {
    "duration": 1586,
    "start_time": "2021-08-05T20:53:03.333Z"
   },
   {
    "duration": 1474,
    "start_time": "2021-08-05T20:53:04.922Z"
   },
   {
    "duration": 178,
    "start_time": "2021-08-05T20:53:06.399Z"
   },
   {
    "duration": 145,
    "start_time": "2021-08-05T20:53:06.579Z"
   },
   {
    "duration": 142,
    "start_time": "2021-08-05T20:53:06.726Z"
   },
   {
    "duration": 221,
    "start_time": "2021-08-05T20:53:06.870Z"
   },
   {
    "duration": 61,
    "start_time": "2021-08-05T20:53:07.093Z"
   },
   {
    "duration": 1016,
    "start_time": "2021-08-05T20:53:07.166Z"
   },
   {
    "duration": 455,
    "start_time": "2021-08-05T20:53:08.185Z"
   },
   {
    "duration": 58,
    "start_time": "2021-08-05T20:53:08.643Z"
   },
   {
    "duration": 74,
    "start_time": "2021-08-05T20:53:08.704Z"
   },
   {
    "duration": 163,
    "start_time": "2021-08-05T20:53:08.781Z"
   },
   {
    "duration": 56,
    "start_time": "2021-08-05T20:53:08.947Z"
   },
   {
    "duration": 4,
    "start_time": "2021-08-05T20:53:09.006Z"
   },
   {
    "duration": 400,
    "start_time": "2021-08-05T20:53:09.012Z"
   },
   {
    "duration": -231,
    "start_time": "2021-08-05T20:53:09.646Z"
   },
   {
    "duration": -238,
    "start_time": "2021-08-05T20:53:09.654Z"
   },
   {
    "duration": 17728,
    "start_time": "2021-08-05T20:56:02.276Z"
   },
   {
    "duration": 56,
    "start_time": "2021-08-05T21:03:45.635Z"
   },
   {
    "duration": 77,
    "start_time": "2021-08-05T21:11:53.990Z"
   },
   {
    "duration": 6,
    "start_time": "2021-08-05T21:12:26.660Z"
   },
   {
    "duration": 267,
    "start_time": "2021-08-05T21:21:50.437Z"
   },
   {
    "duration": 5900,
    "start_time": "2021-08-05T21:22:30.991Z"
   },
   {
    "duration": 1529,
    "start_time": "2021-08-05T21:24:08.984Z"
   },
   {
    "duration": 1340,
    "start_time": "2021-08-05T21:24:10.515Z"
   },
   {
    "duration": 167,
    "start_time": "2021-08-05T21:24:11.868Z"
   },
   {
    "duration": 142,
    "start_time": "2021-08-05T21:24:12.038Z"
   },
   {
    "duration": 147,
    "start_time": "2021-08-05T21:24:12.182Z"
   },
   {
    "duration": 203,
    "start_time": "2021-08-05T21:24:12.331Z"
   },
   {
    "duration": 69,
    "start_time": "2021-08-05T21:24:12.537Z"
   },
   {
    "duration": 1021,
    "start_time": "2021-08-05T21:24:12.610Z"
   },
   {
    "duration": 469,
    "start_time": "2021-08-05T21:24:13.634Z"
   },
   {
    "duration": 62,
    "start_time": "2021-08-05T21:24:14.105Z"
   },
   {
    "duration": 54,
    "start_time": "2021-08-05T21:24:14.169Z"
   },
   {
    "duration": 140,
    "start_time": "2021-08-05T21:24:14.225Z"
   },
   {
    "duration": 52,
    "start_time": "2021-08-05T21:24:14.367Z"
   },
   {
    "duration": 5,
    "start_time": "2021-08-05T21:24:14.421Z"
   },
   {
    "duration": 17828,
    "start_time": "2021-08-05T21:24:14.428Z"
   },
   {
    "duration": 53,
    "start_time": "2021-08-05T21:24:32.266Z"
   },
   {
    "duration": 96,
    "start_time": "2021-08-05T21:24:32.321Z"
   },
   {
    "duration": 64,
    "start_time": "2021-08-05T21:24:32.420Z"
   },
   {
    "duration": 368,
    "start_time": "2021-08-05T21:24:32.487Z"
   },
   {
    "duration": -279,
    "start_time": "2021-08-05T21:24:33.136Z"
   },
   {
    "duration": -283,
    "start_time": "2021-08-05T21:24:33.142Z"
   },
   {
    "duration": 251,
    "start_time": "2021-08-05T21:25:48.014Z"
   },
   {
    "duration": 18324,
    "start_time": "2021-08-05T21:26:16.647Z"
   },
   {
    "duration": 1548,
    "start_time": "2021-08-05T21:28:41.766Z"
   },
   {
    "duration": 1338,
    "start_time": "2021-08-05T21:28:43.316Z"
   },
   {
    "duration": 165,
    "start_time": "2021-08-05T21:28:44.668Z"
   },
   {
    "duration": 141,
    "start_time": "2021-08-05T21:28:44.836Z"
   },
   {
    "duration": 147,
    "start_time": "2021-08-05T21:28:44.980Z"
   },
   {
    "duration": 204,
    "start_time": "2021-08-05T21:28:45.130Z"
   },
   {
    "duration": 65,
    "start_time": "2021-08-05T21:28:45.337Z"
   },
   {
    "duration": 1034,
    "start_time": "2021-08-05T21:28:45.406Z"
   },
   {
    "duration": 477,
    "start_time": "2021-08-05T21:28:46.443Z"
   },
   {
    "duration": 57,
    "start_time": "2021-08-05T21:28:46.922Z"
   },
   {
    "duration": 176,
    "start_time": "2021-08-05T21:28:46.981Z"
   },
   {
    "duration": 59,
    "start_time": "2021-08-05T21:28:47.159Z"
   },
   {
    "duration": 141,
    "start_time": "2021-08-05T21:28:47.220Z"
   },
   {
    "duration": 50,
    "start_time": "2021-08-05T21:28:47.367Z"
   },
   {
    "duration": 4,
    "start_time": "2021-08-05T21:28:47.420Z"
   },
   {
    "duration": 17731,
    "start_time": "2021-08-05T21:28:47.426Z"
   },
   {
    "duration": 58,
    "start_time": "2021-08-05T21:29:05.159Z"
   },
   {
    "duration": 105,
    "start_time": "2021-08-05T21:29:05.220Z"
   },
   {
    "duration": 64,
    "start_time": "2021-08-05T21:29:05.328Z"
   },
   {
    "duration": 17952,
    "start_time": "2021-08-05T21:29:05.395Z"
   },
   {
    "duration": 96,
    "start_time": "2021-08-05T21:29:23.349Z"
   },
   {
    "duration": 4,
    "start_time": "2021-08-05T21:53:06.864Z"
   },
   {
    "duration": 154,
    "start_time": "2021-08-05T21:53:07.800Z"
   },
   {
    "duration": 552,
    "start_time": "2021-08-05T22:02:37.410Z"
   },
   {
    "duration": 1968,
    "start_time": "2021-08-05T22:03:54.495Z"
   },
   {
    "duration": 932,
    "start_time": "2021-08-05T22:16:46.575Z"
   },
   {
    "duration": 1787,
    "start_time": "2021-08-05T22:16:48.187Z"
   },
   {
    "duration": 6816,
    "start_time": "2021-08-05T22:24:23.296Z"
   },
   {
    "duration": 6847,
    "start_time": "2021-08-05T22:24:30.114Z"
   },
   {
    "duration": 6819,
    "start_time": "2021-08-05T22:28:02.229Z"
   },
   {
    "duration": 6628,
    "start_time": "2021-08-05T22:28:52.660Z"
   },
   {
    "duration": 176,
    "start_time": "2021-08-05T22:31:32.687Z"
   },
   {
    "duration": 257,
    "start_time": "2021-08-05T22:31:59.650Z"
   },
   {
    "duration": 237,
    "start_time": "2021-08-05T22:32:21.204Z"
   },
   {
    "duration": 532,
    "start_time": "2021-08-05T22:32:39.671Z"
   },
   {
    "duration": 1824,
    "start_time": "2021-08-05T22:32:40.205Z"
   },
   {
    "duration": 259,
    "start_time": "2021-08-05T22:32:42.032Z"
   },
   {
    "duration": 6995,
    "start_time": "2021-08-05T22:32:57.748Z"
   },
   {
    "duration": 221,
    "start_time": "2021-08-05T22:37:01.401Z"
   },
   {
    "duration": 1113,
    "start_time": "2021-08-05T22:46:40.076Z"
   },
   {
    "duration": 1350,
    "start_time": "2021-08-05T22:47:56.759Z"
   },
   {
    "duration": 1585,
    "start_time": "2021-08-05T23:07:45.739Z"
   },
   {
    "duration": 1355,
    "start_time": "2021-08-05T23:07:47.326Z"
   },
   {
    "duration": 183,
    "start_time": "2021-08-05T23:07:48.685Z"
   },
   {
    "duration": 145,
    "start_time": "2021-08-05T23:07:48.871Z"
   },
   {
    "duration": 155,
    "start_time": "2021-08-05T23:07:49.020Z"
   },
   {
    "duration": 212,
    "start_time": "2021-08-05T23:07:49.178Z"
   },
   {
    "duration": 74,
    "start_time": "2021-08-05T23:07:49.393Z"
   },
   {
    "duration": 1002,
    "start_time": "2021-08-05T23:07:49.472Z"
   },
   {
    "duration": 472,
    "start_time": "2021-08-05T23:07:50.478Z"
   },
   {
    "duration": 63,
    "start_time": "2021-08-05T23:07:50.954Z"
   },
   {
    "duration": 184,
    "start_time": "2021-08-05T23:07:51.021Z"
   },
   {
    "duration": 70,
    "start_time": "2021-08-05T23:07:51.208Z"
   },
   {
    "duration": 137,
    "start_time": "2021-08-05T23:07:51.280Z"
   },
   {
    "duration": 65,
    "start_time": "2021-08-05T23:07:51.419Z"
   },
   {
    "duration": 4,
    "start_time": "2021-08-05T23:07:51.486Z"
   },
   {
    "duration": 17866,
    "start_time": "2021-08-05T23:07:51.493Z"
   },
   {
    "duration": 54,
    "start_time": "2021-08-05T23:08:09.368Z"
   },
   {
    "duration": 100,
    "start_time": "2021-08-05T23:08:09.424Z"
   },
   {
    "duration": 54,
    "start_time": "2021-08-05T23:08:09.527Z"
   },
   {
    "duration": 17146,
    "start_time": "2021-08-05T23:08:09.584Z"
   },
   {
    "duration": 145,
    "start_time": "2021-08-05T23:08:26.732Z"
   },
   {
    "duration": 61,
    "start_time": "2021-08-05T23:08:26.880Z"
   },
   {
    "duration": 22,
    "start_time": "2021-08-05T23:08:26.945Z"
   },
   {
    "duration": 9,
    "start_time": "2021-08-05T23:08:26.970Z"
   },
   {
    "duration": 9,
    "start_time": "2021-08-05T23:08:26.981Z"
   },
   {
    "duration": 12,
    "start_time": "2021-08-05T23:08:26.992Z"
   },
   {
    "duration": 1356,
    "start_time": "2021-08-05T23:08:27.006Z"
   },
   {
    "duration": 113,
    "start_time": "2021-08-05T23:08:28.252Z"
   },
   {
    "duration": 112,
    "start_time": "2021-08-05T23:08:28.254Z"
   },
   {
    "duration": 1261,
    "start_time": "2021-08-05T23:09:44.344Z"
   },
   {
    "duration": 1062,
    "start_time": "2021-08-05T23:10:43.727Z"
   },
   {
    "duration": 1264,
    "start_time": "2021-08-05T23:10:48.984Z"
   },
   {
    "duration": 210,
    "start_time": "2021-08-05T23:10:51.938Z"
   },
   {
    "duration": 146275,
    "start_time": "2021-08-05T23:11:11.903Z"
   },
   {
    "duration": 199,
    "start_time": "2021-08-05T23:16:30.184Z"
   },
   {
    "duration": 197,
    "start_time": "2021-08-05T23:16:30.820Z"
   },
   {
    "duration": 165,
    "start_time": "2021-08-05T23:18:00.247Z"
   },
   {
    "duration": 1539,
    "start_time": "2021-08-05T23:20:27.372Z"
   },
   {
    "duration": 1301,
    "start_time": "2021-08-05T23:20:28.914Z"
   },
   {
    "duration": 171,
    "start_time": "2021-08-05T23:20:30.218Z"
   },
   {
    "duration": 142,
    "start_time": "2021-08-05T23:20:30.391Z"
   },
   {
    "duration": 152,
    "start_time": "2021-08-05T23:20:30.535Z"
   },
   {
    "duration": 197,
    "start_time": "2021-08-05T23:20:30.690Z"
   },
   {
    "duration": 62,
    "start_time": "2021-08-05T23:20:30.891Z"
   },
   {
    "duration": 1017,
    "start_time": "2021-08-05T23:20:30.957Z"
   },
   {
    "duration": 446,
    "start_time": "2021-08-05T23:20:31.977Z"
   },
   {
    "duration": 61,
    "start_time": "2021-08-05T23:20:32.425Z"
   },
   {
    "duration": 169,
    "start_time": "2021-08-05T23:20:32.489Z"
   },
   {
    "duration": 56,
    "start_time": "2021-08-05T23:20:32.667Z"
   },
   {
    "duration": 137,
    "start_time": "2021-08-05T23:20:32.725Z"
   },
   {
    "duration": 50,
    "start_time": "2021-08-05T23:20:32.866Z"
   },
   {
    "duration": 9,
    "start_time": "2021-08-05T23:20:32.918Z"
   },
   {
    "duration": 17716,
    "start_time": "2021-08-05T23:20:32.929Z"
   },
   {
    "duration": 58,
    "start_time": "2021-08-05T23:20:50.647Z"
   },
   {
    "duration": 98,
    "start_time": "2021-08-05T23:20:50.708Z"
   },
   {
    "duration": 61,
    "start_time": "2021-08-05T23:20:50.808Z"
   },
   {
    "duration": 17932,
    "start_time": "2021-08-05T23:20:50.872Z"
   },
   {
    "duration": 132,
    "start_time": "2021-08-05T23:21:08.807Z"
   },
   {
    "duration": 70,
    "start_time": "2021-08-05T23:21:08.943Z"
   },
   {
    "duration": 4,
    "start_time": "2021-08-05T23:21:09.016Z"
   },
   {
    "duration": 5,
    "start_time": "2021-08-05T23:21:09.023Z"
   },
   {
    "duration": 37,
    "start_time": "2021-08-05T23:21:09.030Z"
   },
   {
    "duration": 4,
    "start_time": "2021-08-05T23:21:09.069Z"
   },
   {
    "duration": 928,
    "start_time": "2021-08-05T23:21:09.075Z"
   },
   {
    "duration": 1274,
    "start_time": "2021-08-05T23:21:10.006Z"
   },
   {
    "duration": 63098,
    "start_time": "2021-08-05T23:21:11.282Z"
   },
   {
    "duration": 578196,
    "start_time": "2021-08-05T23:22:14.382Z"
   },
   {
    "duration": 1492,
    "start_time": "2021-08-06T00:36:12.709Z"
   },
   {
    "duration": 1321,
    "start_time": "2021-08-06T00:36:14.204Z"
   },
   {
    "duration": 188,
    "start_time": "2021-08-06T00:36:15.534Z"
   },
   {
    "duration": 145,
    "start_time": "2021-08-06T00:36:15.725Z"
   },
   {
    "duration": 167,
    "start_time": "2021-08-06T00:36:15.873Z"
   },
   {
    "duration": 203,
    "start_time": "2021-08-06T00:36:16.042Z"
   },
   {
    "duration": 72,
    "start_time": "2021-08-06T00:36:16.249Z"
   },
   {
    "duration": 1000,
    "start_time": "2021-08-06T00:36:16.324Z"
   },
   {
    "duration": 460,
    "start_time": "2021-08-06T00:36:17.327Z"
   },
   {
    "duration": 50,
    "start_time": "2021-08-06T00:36:17.790Z"
   },
   {
    "duration": 191,
    "start_time": "2021-08-06T00:36:17.843Z"
   },
   {
    "duration": 61,
    "start_time": "2021-08-06T00:36:18.037Z"
   },
   {
    "duration": 139,
    "start_time": "2021-08-06T00:36:18.100Z"
   },
   {
    "duration": 61,
    "start_time": "2021-08-06T00:36:18.241Z"
   },
   {
    "duration": 4,
    "start_time": "2021-08-06T00:36:18.305Z"
   },
   {
    "duration": 17493,
    "start_time": "2021-08-06T00:36:18.312Z"
   },
   {
    "duration": 72,
    "start_time": "2021-08-06T00:36:35.808Z"
   },
   {
    "duration": 91,
    "start_time": "2021-08-06T00:36:35.882Z"
   },
   {
    "duration": 52,
    "start_time": "2021-08-06T00:36:35.976Z"
   },
   {
    "duration": 17390,
    "start_time": "2021-08-06T00:36:36.030Z"
   },
   {
    "duration": 136,
    "start_time": "2021-08-06T00:36:53.422Z"
   },
   {
    "duration": 62,
    "start_time": "2021-08-06T00:36:53.568Z"
   },
   {
    "duration": 3,
    "start_time": "2021-08-06T00:36:53.632Z"
   },
   {
    "duration": 35,
    "start_time": "2021-08-06T00:36:53.638Z"
   },
   {
    "duration": 9,
    "start_time": "2021-08-06T00:36:53.676Z"
   },
   {
    "duration": 13,
    "start_time": "2021-08-06T00:36:53.688Z"
   },
   {
    "duration": 1193,
    "start_time": "2021-08-06T00:36:53.703Z"
   },
   {
    "duration": 157,
    "start_time": "2021-08-06T00:36:54.741Z"
   },
   {
    "duration": 155,
    "start_time": "2021-08-06T00:36:54.745Z"
   },
   {
    "duration": 153,
    "start_time": "2021-08-06T00:36:54.748Z"
   },
   {
    "duration": 152,
    "start_time": "2021-08-06T00:36:54.750Z"
   },
   {
    "duration": 151,
    "start_time": "2021-08-06T00:36:54.752Z"
   },
   {
    "duration": 150,
    "start_time": "2021-08-06T00:36:54.755Z"
   },
   {
    "duration": 149,
    "start_time": "2021-08-06T00:36:54.757Z"
   },
   {
    "duration": 148,
    "start_time": "2021-08-06T00:36:54.759Z"
   },
   {
    "duration": 147,
    "start_time": "2021-08-06T00:36:54.761Z"
   },
   {
    "duration": 143,
    "start_time": "2021-08-06T00:36:54.767Z"
   },
   {
    "duration": 683,
    "start_time": "2021-08-06T00:39:32.522Z"
   },
   {
    "duration": 280,
    "start_time": "2021-08-06T00:39:39.417Z"
   },
   {
    "duration": 414,
    "start_time": "2021-08-06T00:40:00.563Z"
   },
   {
    "duration": 276,
    "start_time": "2021-08-06T00:41:16.088Z"
   },
   {
    "duration": 1132,
    "start_time": "2021-08-06T00:42:16.308Z"
   },
   {
    "duration": 516,
    "start_time": "2021-08-06T00:42:17.442Z"
   },
   {
    "duration": 290,
    "start_time": "2021-08-06T00:42:55.101Z"
   },
   {
    "duration": 246,
    "start_time": "2021-08-06T00:43:01.224Z"
   },
   {
    "duration": 7,
    "start_time": "2021-08-06T00:43:36.652Z"
   },
   {
    "duration": 180,
    "start_time": "2021-08-06T00:43:42.286Z"
   },
   {
    "duration": 240,
    "start_time": "2021-08-06T00:44:16.476Z"
   },
   {
    "duration": 222,
    "start_time": "2021-08-06T00:45:19.803Z"
   },
   {
    "duration": 286,
    "start_time": "2021-08-06T00:46:57.003Z"
   },
   {
    "duration": 62518,
    "start_time": "2021-08-06T00:47:20.565Z"
   },
   {
    "duration": 185,
    "start_time": "2021-08-06T00:48:47.832Z"
   },
   {
    "duration": 9797,
    "start_time": "2021-08-06T00:49:29.273Z"
   },
   {
    "duration": 9835,
    "start_time": "2021-08-06T00:50:36.840Z"
   },
   {
    "duration": 9727,
    "start_time": "2021-08-06T00:52:59.206Z"
   },
   {
    "duration": 9580,
    "start_time": "2021-08-06T00:53:27.010Z"
   },
   {
    "duration": 9566,
    "start_time": "2021-08-06T00:53:53.308Z"
   },
   {
    "duration": 6,
    "start_time": "2021-08-06T00:56:13.707Z"
   },
   {
    "duration": 180,
    "start_time": "2021-08-06T00:56:14.173Z"
   },
   {
    "duration": 243,
    "start_time": "2021-08-06T00:56:33.421Z"
   },
   {
    "duration": 246,
    "start_time": "2021-08-06T00:57:20.812Z"
   },
   {
    "duration": 241,
    "start_time": "2021-08-06T00:59:18.063Z"
   },
   {
    "duration": 150,
    "start_time": "2021-08-06T00:59:59.507Z"
   },
   {
    "duration": 186,
    "start_time": "2021-08-06T01:00:32.546Z"
   },
   {
    "duration": 251,
    "start_time": "2021-08-06T01:01:21.001Z"
   },
   {
    "duration": 1003,
    "start_time": "2021-08-06T01:03:14.664Z"
   },
   {
    "duration": 1274,
    "start_time": "2021-08-06T01:03:15.740Z"
   },
   {
    "duration": 63736,
    "start_time": "2021-08-06T01:03:18.231Z"
   },
   {
    "duration": 10236,
    "start_time": "2021-08-06T01:04:21.970Z"
   },
   {
    "duration": 570792,
    "start_time": "2021-08-06T01:04:32.209Z"
   },
   {
    "duration": 4763,
    "start_time": "2021-08-06T01:14:03.004Z"
   },
   {
    "duration": 1583,
    "start_time": "2021-08-06T07:39:42.186Z"
   },
   {
    "duration": 1460,
    "start_time": "2021-08-06T07:39:43.772Z"
   },
   {
    "duration": 181,
    "start_time": "2021-08-06T07:39:45.239Z"
   },
   {
    "duration": 173,
    "start_time": "2021-08-06T07:39:45.423Z"
   },
   {
    "duration": 193,
    "start_time": "2021-08-06T07:39:45.600Z"
   },
   {
    "duration": 316,
    "start_time": "2021-08-06T07:39:45.796Z"
   },
   {
    "duration": 80,
    "start_time": "2021-08-06T07:39:46.117Z"
   },
   {
    "duration": 1378,
    "start_time": "2021-08-06T07:39:46.201Z"
   },
   {
    "duration": 702,
    "start_time": "2021-08-06T07:39:47.582Z"
   },
   {
    "duration": 83,
    "start_time": "2021-08-06T07:39:48.287Z"
   },
   {
    "duration": 235,
    "start_time": "2021-08-06T07:39:48.373Z"
   },
   {
    "duration": 83,
    "start_time": "2021-08-06T07:39:48.611Z"
   },
   {
    "duration": 138,
    "start_time": "2021-08-06T07:39:48.697Z"
   },
   {
    "duration": 59,
    "start_time": "2021-08-06T07:39:48.837Z"
   },
   {
    "duration": 4,
    "start_time": "2021-08-06T07:39:48.898Z"
   },
   {
    "duration": 17464,
    "start_time": "2021-08-06T07:39:48.905Z"
   },
   {
    "duration": 57,
    "start_time": "2021-08-06T07:40:06.371Z"
   },
   {
    "duration": 107,
    "start_time": "2021-08-06T07:40:06.430Z"
   },
   {
    "duration": 67,
    "start_time": "2021-08-06T07:40:06.539Z"
   },
   {
    "duration": 17689,
    "start_time": "2021-08-06T07:40:06.609Z"
   },
   {
    "duration": 141,
    "start_time": "2021-08-06T07:40:24.301Z"
   },
   {
    "duration": 69,
    "start_time": "2021-08-06T07:40:24.447Z"
   },
   {
    "duration": 3,
    "start_time": "2021-08-06T07:40:24.519Z"
   },
   {
    "duration": 8,
    "start_time": "2021-08-06T07:40:24.525Z"
   },
   {
    "duration": 10,
    "start_time": "2021-08-06T07:40:24.535Z"
   },
   {
    "duration": 22,
    "start_time": "2021-08-06T07:40:24.547Z"
   },
   {
    "duration": 1266,
    "start_time": "2021-08-06T07:40:24.571Z"
   },
   {
    "duration": 1269,
    "start_time": "2021-08-06T07:40:25.839Z"
   },
   {
    "duration": 74775,
    "start_time": "2021-08-06T07:40:27.110Z"
   },
   {
    "duration": 9730,
    "start_time": "2021-08-06T07:41:41.888Z"
   },
   {
    "duration": 579285,
    "start_time": "2021-08-06T07:41:51.621Z"
   },
   {
    "duration": 4640,
    "start_time": "2021-08-06T07:51:30.908Z"
   },
   {
    "duration": 1552,
    "start_time": "2021-08-06T08:32:33.052Z"
   },
   {
    "duration": 1314,
    "start_time": "2021-08-06T08:32:34.607Z"
   },
   {
    "duration": 181,
    "start_time": "2021-08-06T08:32:35.924Z"
   },
   {
    "duration": 142,
    "start_time": "2021-08-06T08:32:36.107Z"
   },
   {
    "duration": 148,
    "start_time": "2021-08-06T08:32:36.252Z"
   },
   {
    "duration": 196,
    "start_time": "2021-08-06T08:32:36.403Z"
   },
   {
    "duration": 69,
    "start_time": "2021-08-06T08:32:36.601Z"
   },
   {
    "duration": 982,
    "start_time": "2021-08-06T08:32:36.673Z"
   },
   {
    "duration": 478,
    "start_time": "2021-08-06T08:32:37.659Z"
   },
   {
    "duration": 60,
    "start_time": "2021-08-06T08:32:38.139Z"
   },
   {
    "duration": 174,
    "start_time": "2021-08-06T08:32:38.201Z"
   },
   {
    "duration": 52,
    "start_time": "2021-08-06T08:32:38.377Z"
   },
   {
    "duration": 138,
    "start_time": "2021-08-06T08:32:38.432Z"
   },
   {
    "duration": 50,
    "start_time": "2021-08-06T08:32:38.572Z"
   },
   {
    "duration": 4,
    "start_time": "2021-08-06T08:32:38.625Z"
   },
   {
    "duration": 17404,
    "start_time": "2021-08-06T08:32:38.631Z"
   },
   {
    "duration": 66,
    "start_time": "2021-08-06T08:32:56.037Z"
   },
   {
    "duration": 102,
    "start_time": "2021-08-06T08:32:56.105Z"
   },
   {
    "duration": 64,
    "start_time": "2021-08-06T08:32:56.210Z"
   },
   {
    "duration": 17704,
    "start_time": "2021-08-06T08:32:56.277Z"
   },
   {
    "duration": 136,
    "start_time": "2021-08-06T08:33:13.983Z"
   },
   {
    "duration": 68,
    "start_time": "2021-08-06T08:33:14.121Z"
   },
   {
    "duration": 1464,
    "start_time": "2021-08-06T08:33:14.193Z"
   },
   {
    "duration": 1215,
    "start_time": "2021-08-06T08:33:15.660Z"
   },
   {
    "duration": 110192,
    "start_time": "2021-08-06T08:33:16.877Z"
   },
   {
    "duration": 4,
    "start_time": "2021-08-06T08:35:07.074Z"
   },
   {
    "duration": 8,
    "start_time": "2021-08-06T08:35:07.168Z"
   },
   {
    "duration": 11,
    "start_time": "2021-08-06T08:35:07.179Z"
   },
   {
    "duration": 8,
    "start_time": "2021-08-06T08:35:07.193Z"
   },
   {
    "duration": 9,
    "start_time": "2021-08-06T08:35:07.203Z"
   },
   {
    "duration": 13,
    "start_time": "2021-08-06T08:35:07.214Z"
   },
   {
    "duration": 21,
    "start_time": "2021-08-06T08:35:07.229Z"
   },
   {
    "duration": 327,
    "start_time": "2021-08-06T08:35:07.253Z"
   },
   {
    "duration": 151,
    "start_time": "2021-08-06T08:35:07.583Z"
   },
   {
    "duration": 189,
    "start_time": "2021-08-06T08:35:07.737Z"
   },
   {
    "duration": 191,
    "start_time": "2021-08-06T08:35:07.928Z"
   },
   {
    "duration": 246,
    "start_time": "2021-08-06T08:35:08.122Z"
   },
   {
    "duration": 352,
    "start_time": "2021-08-06T08:35:08.019Z"
   },
   {
    "duration": 351,
    "start_time": "2021-08-06T08:35:08.022Z"
   },
   {
    "duration": 122176,
    "start_time": "2021-08-06T08:35:56.214Z"
   },
   {
    "duration": 194482,
    "start_time": "2021-08-06T09:19:57.385Z"
   },
   {
    "duration": 382527,
    "start_time": "2021-08-06T09:32:14.620Z"
   },
   {
    "duration": 43759,
    "start_time": "2021-08-06T09:54:01.653Z"
   },
   {
    "duration": 1192911,
    "start_time": "2021-08-06T09:54:45.415Z"
   },
   {
    "duration": 488565,
    "start_time": "2021-08-06T10:14:38.329Z"
   },
   {
    "duration": 160,
    "start_time": "2021-08-06T10:22:46.897Z"
   },
   {
    "duration": 1743,
    "start_time": "2021-08-06T11:08:01.171Z"
   },
   {
    "duration": 1415,
    "start_time": "2021-08-06T11:08:02.917Z"
   },
   {
    "duration": 185,
    "start_time": "2021-08-06T11:08:04.335Z"
   },
   {
    "duration": 257,
    "start_time": "2021-08-06T11:08:04.523Z"
   },
   {
    "duration": 224,
    "start_time": "2021-08-06T11:08:04.783Z"
   },
   {
    "duration": 363,
    "start_time": "2021-08-06T11:08:05.009Z"
   },
   {
    "duration": 62,
    "start_time": "2021-08-06T11:08:05.374Z"
   },
   {
    "duration": 1037,
    "start_time": "2021-08-06T11:08:05.440Z"
   },
   {
    "duration": 556,
    "start_time": "2021-08-06T11:08:06.480Z"
   },
   {
    "duration": 54,
    "start_time": "2021-08-06T11:08:07.039Z"
   },
   {
    "duration": 200,
    "start_time": "2021-08-06T11:08:07.096Z"
   },
   {
    "duration": 74,
    "start_time": "2021-08-06T11:08:07.299Z"
   },
   {
    "duration": 145,
    "start_time": "2021-08-06T11:08:07.375Z"
   },
   {
    "duration": 72,
    "start_time": "2021-08-06T11:08:07.523Z"
   },
   {
    "duration": 7,
    "start_time": "2021-08-06T11:08:07.598Z"
   },
   {
    "duration": 17451,
    "start_time": "2021-08-06T11:08:07.608Z"
   },
   {
    "duration": 59,
    "start_time": "2021-08-06T11:08:25.068Z"
   },
   {
    "duration": 102,
    "start_time": "2021-08-06T11:08:25.130Z"
   },
   {
    "duration": 65,
    "start_time": "2021-08-06T11:08:25.235Z"
   },
   {
    "duration": 19505,
    "start_time": "2021-08-06T11:08:25.302Z"
   },
   {
    "duration": 139,
    "start_time": "2021-08-06T11:08:44.810Z"
   },
   {
    "duration": 72,
    "start_time": "2021-08-06T11:08:44.952Z"
   },
   {
    "duration": 128,
    "start_time": "2021-08-06T11:08:45.031Z"
   },
   {
    "duration": 575,
    "start_time": "2021-08-06T11:08:45.163Z"
   },
   {
    "duration": 1964,
    "start_time": "2021-08-06T11:08:45.741Z"
   },
   {
    "duration": 123467,
    "start_time": "2021-08-06T11:08:47.707Z"
   },
   {
    "duration": 27491,
    "start_time": "2021-08-06T11:10:51.180Z"
   },
   {
    "duration": 1536,
    "start_time": "2021-08-06T11:40:06.373Z"
   },
   {
    "duration": 1523,
    "start_time": "2021-08-06T11:40:07.912Z"
   },
   {
    "duration": 168,
    "start_time": "2021-08-06T11:40:09.438Z"
   },
   {
    "duration": 143,
    "start_time": "2021-08-06T11:40:09.608Z"
   },
   {
    "duration": 142,
    "start_time": "2021-08-06T11:40:09.754Z"
   },
   {
    "duration": 300,
    "start_time": "2021-08-06T11:40:09.898Z"
   },
   {
    "duration": 67,
    "start_time": "2021-08-06T11:40:10.200Z"
   },
   {
    "duration": 983,
    "start_time": "2021-08-06T11:40:10.270Z"
   },
   {
    "duration": 448,
    "start_time": "2021-08-06T11:40:11.267Z"
   },
   {
    "duration": 104,
    "start_time": "2021-08-06T11:40:11.718Z"
   },
   {
    "duration": 185,
    "start_time": "2021-08-06T11:40:11.825Z"
   },
   {
    "duration": 70,
    "start_time": "2021-08-06T11:40:12.012Z"
   },
   {
    "duration": 130,
    "start_time": "2021-08-06T11:40:12.085Z"
   },
   {
    "duration": 58,
    "start_time": "2021-08-06T11:40:12.218Z"
   },
   {
    "duration": 7,
    "start_time": "2021-08-06T11:40:12.278Z"
   },
   {
    "duration": 17900,
    "start_time": "2021-08-06T11:40:12.287Z"
   },
   {
    "duration": 55,
    "start_time": "2021-08-06T11:40:30.189Z"
   },
   {
    "duration": 78,
    "start_time": "2021-08-06T11:40:30.268Z"
   },
   {
    "duration": 63,
    "start_time": "2021-08-06T11:40:30.349Z"
   },
   {
    "duration": 17554,
    "start_time": "2021-08-06T11:40:30.414Z"
   },
   {
    "duration": 140,
    "start_time": "2021-08-06T11:40:47.971Z"
   },
   {
    "duration": 74,
    "start_time": "2021-08-06T11:40:48.114Z"
   },
   {
    "duration": 4,
    "start_time": "2021-08-06T11:40:48.195Z"
   },
   {
    "duration": 157,
    "start_time": "2021-08-06T11:40:48.203Z"
   },
   {
    "duration": 483,
    "start_time": "2021-08-06T11:40:48.362Z"
   },
   {
    "duration": 2075,
    "start_time": "2021-08-06T11:40:48.847Z"
   },
   {
    "duration": 96145,
    "start_time": "2021-08-06T11:40:50.925Z"
   },
   {
    "duration": 105328,
    "start_time": "2021-08-06T11:42:27.074Z"
   },
   {
    "duration": 127771,
    "start_time": "2021-08-06T11:44:12.405Z"
   },
   {
    "duration": 383449,
    "start_time": "2021-08-06T11:46:20.269Z"
   },
   {
    "duration": 43372,
    "start_time": "2021-08-06T11:52:43.720Z"
   },
   {
    "duration": 1590,
    "start_time": "2021-08-06T11:59:22.068Z"
   },
   {
    "duration": 1426,
    "start_time": "2021-08-06T11:59:23.660Z"
   },
   {
    "duration": 172,
    "start_time": "2021-08-06T11:59:25.089Z"
   },
   {
    "duration": 135,
    "start_time": "2021-08-06T11:59:25.268Z"
   },
   {
    "duration": 143,
    "start_time": "2021-08-06T11:59:25.405Z"
   },
   {
    "duration": 199,
    "start_time": "2021-08-06T11:59:25.551Z"
   },
   {
    "duration": 68,
    "start_time": "2021-08-06T11:59:25.753Z"
   },
   {
    "duration": 981,
    "start_time": "2021-08-06T11:59:25.823Z"
   },
   {
    "duration": 470,
    "start_time": "2021-08-06T11:59:26.807Z"
   },
   {
    "duration": 48,
    "start_time": "2021-08-06T11:59:27.280Z"
   },
   {
    "duration": 180,
    "start_time": "2021-08-06T11:59:27.330Z"
   },
   {
    "duration": 64,
    "start_time": "2021-08-06T11:59:27.513Z"
   },
   {
    "duration": 137,
    "start_time": "2021-08-06T11:59:27.579Z"
   },
   {
    "duration": 58,
    "start_time": "2021-08-06T11:59:27.718Z"
   },
   {
    "duration": 4,
    "start_time": "2021-08-06T11:59:27.778Z"
   },
   {
    "duration": 17150,
    "start_time": "2021-08-06T11:59:27.785Z"
   },
   {
    "duration": 62,
    "start_time": "2021-08-06T11:59:44.937Z"
   },
   {
    "duration": 94,
    "start_time": "2021-08-06T11:59:45.002Z"
   },
   {
    "duration": 51,
    "start_time": "2021-08-06T11:59:45.098Z"
   },
   {
    "duration": 17640,
    "start_time": "2021-08-06T11:59:45.151Z"
   },
   {
    "duration": 4,
    "start_time": "2021-08-06T12:00:02.793Z"
   },
   {
    "duration": 109,
    "start_time": "2021-08-06T12:00:02.799Z"
   },
   {
    "duration": 4,
    "start_time": "2021-08-06T12:00:02.910Z"
   },
   {
    "duration": 173,
    "start_time": "2021-08-06T12:00:02.916Z"
   },
   {
    "duration": 576,
    "start_time": "2021-08-06T12:00:03.092Z"
   },
   {
    "duration": 2160,
    "start_time": "2021-08-06T12:00:03.671Z"
   },
   {
    "duration": 115042,
    "start_time": "2021-08-06T12:00:05.836Z"
   },
   {
    "duration": 129304,
    "start_time": "2021-08-06T12:02:00.969Z"
   },
   {
    "duration": 148004,
    "start_time": "2021-08-06T12:04:10.277Z"
   },
   {
    "duration": 1164,
    "start_time": "2021-08-06T12:06:38.369Z"
   },
   {
    "duration": 285,
    "start_time": "2021-08-06T12:06:39.535Z"
   },
   {
    "duration": 7867,
    "start_time": "2021-08-06T12:06:39.822Z"
   },
   {
    "duration": 8134,
    "start_time": "2021-08-06T12:06:47.692Z"
   },
   {
    "duration": 272,
    "start_time": "2021-08-06T12:06:55.828Z"
   },
   {
    "duration": 3,
    "start_time": "2021-08-06T12:06:56.102Z"
   },
   {
    "duration": 10,
    "start_time": "2021-08-06T12:06:56.107Z"
   },
   {
    "duration": 6,
    "start_time": "2021-08-06T12:06:56.120Z"
   },
   {
    "duration": 10,
    "start_time": "2021-08-06T12:06:56.129Z"
   },
   {
    "duration": 17,
    "start_time": "2021-08-06T12:06:56.141Z"
   },
   {
    "duration": 16,
    "start_time": "2021-08-06T12:06:56.168Z"
   },
   {
    "duration": 9,
    "start_time": "2021-08-06T12:06:56.187Z"
   },
   {
    "duration": 5,
    "start_time": "2021-08-06T12:06:56.199Z"
   },
   {
    "duration": 7,
    "start_time": "2021-08-06T12:06:56.207Z"
   },
   {
    "duration": 7,
    "start_time": "2021-08-06T12:06:56.217Z"
   },
   {
    "duration": 12,
    "start_time": "2021-08-06T12:06:56.227Z"
   },
   {
    "duration": 7,
    "start_time": "2021-08-06T12:06:56.242Z"
   },
   {
    "duration": 3,
    "start_time": "2021-08-06T12:06:56.268Z"
   },
   {
    "duration": 6,
    "start_time": "2021-08-06T12:06:56.274Z"
   },
   {
    "duration": 141691,
    "start_time": "2021-08-06T12:08:57.037Z"
   },
   {
    "duration": 333,
    "start_time": "2021-08-06T12:11:18.733Z"
   },
   {
    "duration": 7442,
    "start_time": "2021-08-06T12:11:19.068Z"
   },
   {
    "duration": 7128,
    "start_time": "2021-08-06T12:11:26.512Z"
   },
   {
    "duration": 17,
    "start_time": "2021-08-06T12:13:33.823Z"
   },
   {
    "duration": 1549,
    "start_time": "2021-08-06T12:14:28.183Z"
   },
   {
    "duration": 1533,
    "start_time": "2021-08-06T12:14:29.735Z"
   },
   {
    "duration": 173,
    "start_time": "2021-08-06T12:14:31.271Z"
   },
   {
    "duration": 146,
    "start_time": "2021-08-06T12:14:31.446Z"
   },
   {
    "duration": 158,
    "start_time": "2021-08-06T12:14:31.595Z"
   },
   {
    "duration": 199,
    "start_time": "2021-08-06T12:14:31.756Z"
   },
   {
    "duration": 67,
    "start_time": "2021-08-06T12:14:31.957Z"
   },
   {
    "duration": 1116,
    "start_time": "2021-08-06T12:14:32.026Z"
   },
   {
    "duration": 462,
    "start_time": "2021-08-06T12:14:33.145Z"
   },
   {
    "duration": 65,
    "start_time": "2021-08-06T12:14:33.610Z"
   },
   {
    "duration": 176,
    "start_time": "2021-08-06T12:14:33.678Z"
   },
   {
    "duration": 55,
    "start_time": "2021-08-06T12:14:33.867Z"
   },
   {
    "duration": 143,
    "start_time": "2021-08-06T12:14:33.924Z"
   },
   {
    "duration": 49,
    "start_time": "2021-08-06T12:14:34.069Z"
   },
   {
    "duration": 4,
    "start_time": "2021-08-06T12:14:34.121Z"
   },
   {
    "duration": 17075,
    "start_time": "2021-08-06T12:14:34.127Z"
   },
   {
    "duration": 73,
    "start_time": "2021-08-06T12:14:51.204Z"
   },
   {
    "duration": 88,
    "start_time": "2021-08-06T12:14:51.279Z"
   },
   {
    "duration": 51,
    "start_time": "2021-08-06T12:14:51.369Z"
   },
   {
    "duration": 17961,
    "start_time": "2021-08-06T12:14:51.423Z"
   },
   {
    "duration": 97,
    "start_time": "2021-08-06T12:15:09.386Z"
   },
   {
    "duration": 60,
    "start_time": "2021-08-06T12:15:09.486Z"
   },
   {
    "duration": 19,
    "start_time": "2021-08-06T12:15:09.549Z"
   },
   {
    "duration": 142,
    "start_time": "2021-08-06T12:15:09.571Z"
   },
   {
    "duration": 495,
    "start_time": "2021-08-06T12:15:09.715Z"
   },
   {
    "duration": 2295,
    "start_time": "2021-08-06T12:15:10.213Z"
   },
   {
    "duration": 111063,
    "start_time": "2021-08-06T12:15:12.513Z"
   },
   {
    "duration": 129300,
    "start_time": "2021-08-06T12:17:03.580Z"
   },
   {
    "duration": 145900,
    "start_time": "2021-08-06T12:19:12.969Z"
   },
   {
    "duration": 135873,
    "start_time": "2021-08-06T12:21:38.873Z"
   },
   {
    "duration": 14211,
    "start_time": "2021-08-06T12:23:54.749Z"
   },
   {
    "duration": 1238715,
    "start_time": "2021-08-06T12:24:08.966Z"
   },
   {
    "duration": 487930,
    "start_time": "2021-08-06T12:44:47.684Z"
   }
  ],
  "kernelspec": {
   "display_name": "Python 3",
   "language": "python",
   "name": "python3"
  },
  "language_info": {
   "codemirror_mode": {
    "name": "ipython",
    "version": 3
   },
   "file_extension": ".py",
   "mimetype": "text/x-python",
   "name": "python",
   "nbconvert_exporter": "python",
   "pygments_lexer": "ipython3",
   "version": "3.9.4"
  },
  "toc": {
   "base_numbering": 1,
   "nav_menu": {},
   "number_sections": true,
   "sideBar": true,
   "skip_h1_title": true,
   "title_cell": "Table of Contents",
   "title_sidebar": "Contents",
   "toc_cell": false,
   "toc_position": {},
   "toc_section_display": true,
   "toc_window_display": false
  }
 },
 "nbformat": 4,
 "nbformat_minor": 2
}
